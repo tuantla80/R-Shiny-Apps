{
 "cells": [
  {
   "cell_type": "code",
   "execution_count": 1,
   "id": "40a42c38",
   "metadata": {},
   "outputs": [
    {
     "name": "stderr",
     "output_type": "stream",
     "text": [
      "Warning message:\n",
      "\"package 'dplyr' was built under R version 3.6.3\"\n",
      "Attaching package: 'dplyr'\n",
      "\n",
      "The following objects are masked from 'package:stats':\n",
      "\n",
      "    filter, lag\n",
      "\n",
      "The following objects are masked from 'package:base':\n",
      "\n",
      "    intersect, setdiff, setequal, union\n",
      "\n",
      "Warning message:\n",
      "\"package 'data.table' was built under R version 3.6.3\"\n",
      "Attaching package: 'data.table'\n",
      "\n",
      "The following objects are masked from 'package:dplyr':\n",
      "\n",
      "    between, first, last\n",
      "\n"
     ]
    }
   ],
   "source": [
    "library(dplyr)\n",
    "library(data.table)"
   ]
  },
  {
   "cell_type": "markdown",
   "id": "85b17994",
   "metadata": {},
   "source": [
    "## I. Dataframe basics"
   ]
  },
  {
   "cell_type": "code",
   "execution_count": 2,
   "id": "bd9ee6a6",
   "metadata": {},
   "outputs": [
    {
     "data": {
      "text/html": [
       "<table>\n",
       "<thead><tr><th scope=col>label</th><th scope=col>x1</th><th scope=col>x2</th></tr></thead>\n",
       "<tbody>\n",
       "\t<tr><td>a1 </td><td> 1 </td><td>100</td></tr>\n",
       "\t<tr><td>a2 </td><td> 2 </td><td> NA</td></tr>\n",
       "\t<tr><td>a3 </td><td> 3 </td><td>300</td></tr>\n",
       "\t<tr><td>a4 </td><td>NA </td><td>400</td></tr>\n",
       "\t<tr><td>a5 </td><td>NA </td><td> NA</td></tr>\n",
       "</tbody>\n",
       "</table>\n"
      ],
      "text/latex": [
       "\\begin{tabular}{r|lll}\n",
       " label & x1 & x2\\\\\n",
       "\\hline\n",
       "\t a1  &  1  & 100\\\\\n",
       "\t a2  &  2  &  NA\\\\\n",
       "\t a3  &  3  & 300\\\\\n",
       "\t a4  & NA  & 400\\\\\n",
       "\t a5  & NA  &  NA\\\\\n",
       "\\end{tabular}\n"
      ],
      "text/markdown": [
       "\n",
       "| label | x1 | x2 |\n",
       "|---|---|---|\n",
       "| a1  |  1  | 100 |\n",
       "| a2  |  2  |  NA |\n",
       "| a3  |  3  | 300 |\n",
       "| a4  | NA  | 400 |\n",
       "| a5  | NA  |  NA |\n",
       "\n"
      ],
      "text/plain": [
       "  label x1 x2 \n",
       "1 a1     1 100\n",
       "2 a2     2  NA\n",
       "3 a3     3 300\n",
       "4 a4    NA 400\n",
       "5 a5    NA  NA"
      ]
     },
     "metadata": {},
     "output_type": "display_data"
    }
   ],
   "source": [
    "df <- data.frame(label = c('a1', 'a2', 'a3', 'a4', 'a5'),\n",
    "                 x1 = c(1, 2, 3, NA, NA), \n",
    "                 x2 = c(100, NA, 300, 400, NA))\n",
    "df"
   ]
  },
  {
   "cell_type": "markdown",
   "id": "bdd98eb3",
   "metadata": {},
   "source": [
    "### Get unique values of a column"
   ]
  },
  {
   "cell_type": "code",
   "execution_count": 3,
   "id": "c0cd2228",
   "metadata": {},
   "outputs": [
    {
     "data": {
      "text/html": [
       "<ol class=list-inline>\n",
       "\t<li>a1</li>\n",
       "\t<li>a2</li>\n",
       "\t<li>a3</li>\n",
       "\t<li>a4</li>\n",
       "\t<li>a5</li>\n",
       "</ol>\n",
       "\n",
       "<details>\n",
       "\t<summary style=display:list-item;cursor:pointer>\n",
       "\t\t<strong>Levels</strong>:\n",
       "\t</summary>\n",
       "\t<ol class=list-inline>\n",
       "\t\t<li>'a1'</li>\n",
       "\t\t<li>'a2'</li>\n",
       "\t\t<li>'a3'</li>\n",
       "\t\t<li>'a4'</li>\n",
       "\t\t<li>'a5'</li>\n",
       "\t</ol>\n",
       "</details>"
      ],
      "text/latex": [
       "\\begin{enumerate*}\n",
       "\\item a1\n",
       "\\item a2\n",
       "\\item a3\n",
       "\\item a4\n",
       "\\item a5\n",
       "\\end{enumerate*}\n",
       "\n",
       "\\emph{Levels}: \\begin{enumerate*}\n",
       "\\item 'a1'\n",
       "\\item 'a2'\n",
       "\\item 'a3'\n",
       "\\item 'a4'\n",
       "\\item 'a5'\n",
       "\\end{enumerate*}\n"
      ],
      "text/markdown": [
       "1. a1\n",
       "2. a2\n",
       "3. a3\n",
       "4. a4\n",
       "5. a5\n",
       "\n",
       "\n",
       "\n",
       "**Levels**: 1. 'a1'\n",
       "2. 'a2'\n",
       "3. 'a3'\n",
       "4. 'a4'\n",
       "5. 'a5'\n",
       "\n",
       "\n"
      ],
      "text/plain": [
       "[1] a1 a2 a3 a4 a5\n",
       "Levels: a1 a2 a3 a4 a5"
      ]
     },
     "metadata": {},
     "output_type": "display_data"
    },
    {
     "data": {
      "text/html": [
       "'factor'"
      ],
      "text/latex": [
       "'factor'"
      ],
      "text/markdown": [
       "'factor'"
      ],
      "text/plain": [
       "[1] \"factor\""
      ]
     },
     "metadata": {},
     "output_type": "display_data"
    }
   ],
   "source": [
    "labels = unique(df$label)\n",
    "labels\n",
    "class(labels)"
   ]
  },
  {
   "cell_type": "markdown",
   "id": "b815c52d",
   "metadata": {},
   "source": [
    "### Access df by column names"
   ]
  },
  {
   "cell_type": "code",
   "execution_count": 4,
   "id": "5b0ef282",
   "metadata": {},
   "outputs": [
    {
     "data": {
      "text/html": [
       "<table>\n",
       "<thead><tr><th scope=col>x1</th><th scope=col>x2</th></tr></thead>\n",
       "<tbody>\n",
       "\t<tr><td> 1 </td><td>100</td></tr>\n",
       "\t<tr><td> 2 </td><td> NA</td></tr>\n",
       "\t<tr><td> 3 </td><td>300</td></tr>\n",
       "\t<tr><td>NA </td><td>400</td></tr>\n",
       "\t<tr><td>NA </td><td> NA</td></tr>\n",
       "</tbody>\n",
       "</table>\n"
      ],
      "text/latex": [
       "\\begin{tabular}{r|ll}\n",
       " x1 & x2\\\\\n",
       "\\hline\n",
       "\t  1  & 100\\\\\n",
       "\t  2  &  NA\\\\\n",
       "\t  3  & 300\\\\\n",
       "\t NA  & 400\\\\\n",
       "\t NA  &  NA\\\\\n",
       "\\end{tabular}\n"
      ],
      "text/markdown": [
       "\n",
       "| x1 | x2 |\n",
       "|---|---|\n",
       "|  1  | 100 |\n",
       "|  2  |  NA |\n",
       "|  3  | 300 |\n",
       "| NA  | 400 |\n",
       "| NA  |  NA |\n",
       "\n"
      ],
      "text/plain": [
       "  x1 x2 \n",
       "1  1 100\n",
       "2  2  NA\n",
       "3  3 300\n",
       "4 NA 400\n",
       "5 NA  NA"
      ]
     },
     "metadata": {},
     "output_type": "display_data"
    }
   ],
   "source": [
    "df_sub2 <- df[c('x1', 'x2')]\n",
    "df_sub2"
   ]
  },
  {
   "cell_type": "code",
   "execution_count": 5,
   "id": "c012c6ee",
   "metadata": {},
   "outputs": [
    {
     "data": {
      "text/html": [
       "<table>\n",
       "<thead><tr><th scope=col>x1</th></tr></thead>\n",
       "<tbody>\n",
       "\t<tr><td> 1</td></tr>\n",
       "\t<tr><td> 2</td></tr>\n",
       "\t<tr><td> 3</td></tr>\n",
       "\t<tr><td>NA</td></tr>\n",
       "\t<tr><td>NA</td></tr>\n",
       "</tbody>\n",
       "</table>\n"
      ],
      "text/latex": [
       "\\begin{tabular}{r|l}\n",
       " x1\\\\\n",
       "\\hline\n",
       "\t  1\\\\\n",
       "\t  2\\\\\n",
       "\t  3\\\\\n",
       "\t NA\\\\\n",
       "\t NA\\\\\n",
       "\\end{tabular}\n"
      ],
      "text/markdown": [
       "\n",
       "| x1 |\n",
       "|---|\n",
       "|  1 |\n",
       "|  2 |\n",
       "|  3 |\n",
       "| NA |\n",
       "| NA |\n",
       "\n"
      ],
      "text/plain": [
       "  x1\n",
       "1  1\n",
       "2  2\n",
       "3  3\n",
       "4 NA\n",
       "5 NA"
      ]
     },
     "metadata": {},
     "output_type": "display_data"
    },
    {
     "data": {
      "text/html": [
       "'data.frame'"
      ],
      "text/latex": [
       "'data.frame'"
      ],
      "text/markdown": [
       "'data.frame'"
      ],
      "text/plain": [
       "[1] \"data.frame\""
      ]
     },
     "metadata": {},
     "output_type": "display_data"
    }
   ],
   "source": [
    "df_sub1 <- df['x1']\n",
    "df_sub1\n",
    "class(df_sub1)"
   ]
  },
  {
   "cell_type": "markdown",
   "id": "008a76f0",
   "metadata": {},
   "source": [
    "### Set index for df instead of integer index"
   ]
  },
  {
   "cell_type": "code",
   "execution_count": 6,
   "id": "8224a0f8",
   "metadata": {},
   "outputs": [
    {
     "data": {
      "text/html": [
       "<table>\n",
       "<thead><tr><th></th><th scope=col>label</th><th scope=col>x1</th><th scope=col>x2</th></tr></thead>\n",
       "<tbody>\n",
       "\t<tr><th scope=row>a1</th><td>a1 </td><td> 1 </td><td>100</td></tr>\n",
       "\t<tr><th scope=row>a2</th><td>a2 </td><td> 2 </td><td> NA</td></tr>\n",
       "\t<tr><th scope=row>a3</th><td>a3 </td><td> 3 </td><td>300</td></tr>\n",
       "\t<tr><th scope=row>a4</th><td>a4 </td><td>NA </td><td>400</td></tr>\n",
       "\t<tr><th scope=row>a5</th><td>a5 </td><td>NA </td><td> NA</td></tr>\n",
       "</tbody>\n",
       "</table>\n"
      ],
      "text/latex": [
       "\\begin{tabular}{r|lll}\n",
       "  & label & x1 & x2\\\\\n",
       "\\hline\n",
       "\ta1 & a1  &  1  & 100\\\\\n",
       "\ta2 & a2  &  2  &  NA\\\\\n",
       "\ta3 & a3  &  3  & 300\\\\\n",
       "\ta4 & a4  & NA  & 400\\\\\n",
       "\ta5 & a5  & NA  &  NA\\\\\n",
       "\\end{tabular}\n"
      ],
      "text/markdown": [
       "\n",
       "| <!--/--> | label | x1 | x2 |\n",
       "|---|---|---|---|\n",
       "| a1 | a1  |  1  | 100 |\n",
       "| a2 | a2  |  2  |  NA |\n",
       "| a3 | a3  |  3  | 300 |\n",
       "| a4 | a4  | NA  | 400 |\n",
       "| a5 | a5  | NA  |  NA |\n",
       "\n"
      ],
      "text/plain": [
       "   label x1 x2 \n",
       "a1 a1     1 100\n",
       "a2 a2     2  NA\n",
       "a3 a3     3 300\n",
       "a4 a4    NA 400\n",
       "a5 a5    NA  NA"
      ]
     },
     "metadata": {},
     "output_type": "display_data"
    }
   ],
   "source": [
    "row.names(df) <- df$label\n",
    "df"
   ]
  },
  {
   "cell_type": "markdown",
   "id": "d1d45e66",
   "metadata": {},
   "source": [
    "### Remove a column in df"
   ]
  },
  {
   "cell_type": "code",
   "execution_count": 7,
   "id": "d1b9e3a4",
   "metadata": {},
   "outputs": [
    {
     "data": {
      "text/html": [
       "<table>\n",
       "<thead><tr><th></th><th scope=col>x1</th><th scope=col>x2</th></tr></thead>\n",
       "<tbody>\n",
       "\t<tr><th scope=row>a1</th><td> 1 </td><td>100</td></tr>\n",
       "\t<tr><th scope=row>a2</th><td> 2 </td><td> NA</td></tr>\n",
       "\t<tr><th scope=row>a3</th><td> 3 </td><td>300</td></tr>\n",
       "\t<tr><th scope=row>a4</th><td>NA </td><td>400</td></tr>\n",
       "\t<tr><th scope=row>a5</th><td>NA </td><td> NA</td></tr>\n",
       "</tbody>\n",
       "</table>\n"
      ],
      "text/latex": [
       "\\begin{tabular}{r|ll}\n",
       "  & x1 & x2\\\\\n",
       "\\hline\n",
       "\ta1 &  1  & 100\\\\\n",
       "\ta2 &  2  &  NA\\\\\n",
       "\ta3 &  3  & 300\\\\\n",
       "\ta4 & NA  & 400\\\\\n",
       "\ta5 & NA  &  NA\\\\\n",
       "\\end{tabular}\n"
      ],
      "text/markdown": [
       "\n",
       "| <!--/--> | x1 | x2 |\n",
       "|---|---|---|\n",
       "| a1 |  1  | 100 |\n",
       "| a2 |  2  |  NA |\n",
       "| a3 |  3  | 300 |\n",
       "| a4 | NA  | 400 |\n",
       "| a5 | NA  |  NA |\n",
       "\n"
      ],
      "text/plain": [
       "   x1 x2 \n",
       "a1  1 100\n",
       "a2  2  NA\n",
       "a3  3 300\n",
       "a4 NA 400\n",
       "a5 NA  NA"
      ]
     },
     "metadata": {},
     "output_type": "display_data"
    }
   ],
   "source": [
    "df <- subset(df, select = -c(label))\n",
    "df"
   ]
  },
  {
   "cell_type": "markdown",
   "id": "1432d634",
   "metadata": {},
   "source": [
    "### remove \"rows\" in a dataframe with a NA value in one of the columns"
   ]
  },
  {
   "cell_type": "code",
   "execution_count": 8,
   "id": "56d6b62b",
   "metadata": {},
   "outputs": [
    {
     "data": {
      "text/html": [
       "<table>\n",
       "<thead><tr><th></th><th scope=col>x1</th><th scope=col>x2</th></tr></thead>\n",
       "<tbody>\n",
       "\t<tr><th scope=row>a1</th><td>1  </td><td>100</td></tr>\n",
       "\t<tr><th scope=row>a3</th><td>3  </td><td>300</td></tr>\n",
       "</tbody>\n",
       "</table>\n"
      ],
      "text/latex": [
       "\\begin{tabular}{r|ll}\n",
       "  & x1 & x2\\\\\n",
       "\\hline\n",
       "\ta1 & 1   & 100\\\\\n",
       "\ta3 & 3   & 300\\\\\n",
       "\\end{tabular}\n"
      ],
      "text/markdown": [
       "\n",
       "| <!--/--> | x1 | x2 |\n",
       "|---|---|---|\n",
       "| a1 | 1   | 100 |\n",
       "| a3 | 3   | 300 |\n",
       "\n"
      ],
      "text/plain": [
       "   x1 x2 \n",
       "a1 1  100\n",
       "a3 3  300"
      ]
     },
     "metadata": {},
     "output_type": "display_data"
    }
   ],
   "source": [
    "df1 = na.omit(df)\n",
    "df1"
   ]
  },
  {
   "cell_type": "markdown",
   "id": "b003bc9a",
   "metadata": {},
   "source": [
    "### remove \"rows\" in a dataframe with all NA"
   ]
  },
  {
   "cell_type": "code",
   "execution_count": 9,
   "id": "9795d545",
   "metadata": {},
   "outputs": [
    {
     "data": {
      "text/html": [
       "<table>\n",
       "<thead><tr><th></th><th scope=col>x1</th><th scope=col>x2</th></tr></thead>\n",
       "<tbody>\n",
       "\t<tr><th scope=row>a1</th><td> 1 </td><td>100</td></tr>\n",
       "\t<tr><th scope=row>a2</th><td> 2 </td><td> NA</td></tr>\n",
       "\t<tr><th scope=row>a3</th><td> 3 </td><td>300</td></tr>\n",
       "\t<tr><th scope=row>a4</th><td>NA </td><td>400</td></tr>\n",
       "</tbody>\n",
       "</table>\n"
      ],
      "text/latex": [
       "\\begin{tabular}{r|ll}\n",
       "  & x1 & x2\\\\\n",
       "\\hline\n",
       "\ta1 &  1  & 100\\\\\n",
       "\ta2 &  2  &  NA\\\\\n",
       "\ta3 &  3  & 300\\\\\n",
       "\ta4 & NA  & 400\\\\\n",
       "\\end{tabular}\n"
      ],
      "text/markdown": [
       "\n",
       "| <!--/--> | x1 | x2 |\n",
       "|---|---|---|\n",
       "| a1 |  1  | 100 |\n",
       "| a2 |  2  |  NA |\n",
       "| a3 |  3  | 300 |\n",
       "| a4 | NA  | 400 |\n",
       "\n"
      ],
      "text/plain": [
       "   x1 x2 \n",
       "a1  1 100\n",
       "a2  2  NA\n",
       "a3  3 300\n",
       "a4 NA 400"
      ]
     },
     "metadata": {},
     "output_type": "display_data"
    }
   ],
   "source": [
    "df %>% filter_all(any_vars(!is.na(.)))"
   ]
  },
  {
   "cell_type": "markdown",
   "id": "c3375dd8",
   "metadata": {},
   "source": [
    "### Get column names"
   ]
  },
  {
   "cell_type": "code",
   "execution_count": 10,
   "id": "4086cdc0",
   "metadata": {},
   "outputs": [
    {
     "data": {
      "text/html": [
       "<ol class=list-inline>\n",
       "\t<li>'x1'</li>\n",
       "\t<li>'x2'</li>\n",
       "</ol>\n"
      ],
      "text/latex": [
       "\\begin{enumerate*}\n",
       "\\item 'x1'\n",
       "\\item 'x2'\n",
       "\\end{enumerate*}\n"
      ],
      "text/markdown": [
       "1. 'x1'\n",
       "2. 'x2'\n",
       "\n",
       "\n"
      ],
      "text/plain": [
       "[1] \"x1\" \"x2\""
      ]
     },
     "metadata": {},
     "output_type": "display_data"
    },
    {
     "data": {
      "text/html": [
       "'character'"
      ],
      "text/latex": [
       "'character'"
      ],
      "text/markdown": [
       "'character'"
      ],
      "text/plain": [
       "[1] \"character\""
      ]
     },
     "metadata": {},
     "output_type": "display_data"
    }
   ],
   "source": [
    "# col_names = colnames(df)\n",
    "col_names = names(df)\n",
    "col_names\n",
    "class(col_names)"
   ]
  },
  {
   "cell_type": "markdown",
   "id": "6305907b",
   "metadata": {},
   "source": [
    "### Create list of dataframe"
   ]
  },
  {
   "cell_type": "code",
   "execution_count": 11,
   "id": "e4064413",
   "metadata": {},
   "outputs": [
    {
     "data": {
      "text/html": [
       "<ol>\n",
       "\t<li><table>\n",
       "<thead><tr><th scope=col>value</th><th scope=col>name</th></tr></thead>\n",
       "<tbody>\n",
       "\t<tr><td>1</td><td>1</td></tr>\n",
       "\t<tr><td>4</td><td>1</td></tr>\n",
       "\t<tr><td>3</td><td>1</td></tr>\n",
       "</tbody>\n",
       "</table>\n",
       "</li>\n",
       "\t<li><table>\n",
       "<thead><tr><th scope=col>value</th><th scope=col>name</th></tr></thead>\n",
       "<tbody>\n",
       "\t<tr><td>4</td><td>1</td></tr>\n",
       "\t<tr><td>3</td><td>0</td></tr>\n",
       "\t<tr><td>7</td><td>1</td></tr>\n",
       "</tbody>\n",
       "</table>\n",
       "</li>\n",
       "</ol>\n"
      ],
      "text/latex": [
       "\\begin{enumerate}\n",
       "\\item \\begin{tabular}{r|ll}\n",
       " value & name\\\\\n",
       "\\hline\n",
       "\t 1 & 1\\\\\n",
       "\t 4 & 1\\\\\n",
       "\t 3 & 1\\\\\n",
       "\\end{tabular}\n",
       "\n",
       "\\item \\begin{tabular}{r|ll}\n",
       " value & name\\\\\n",
       "\\hline\n",
       "\t 4 & 1\\\\\n",
       "\t 3 & 0\\\\\n",
       "\t 7 & 1\\\\\n",
       "\\end{tabular}\n",
       "\n",
       "\\end{enumerate}\n"
      ],
      "text/markdown": [
       "1. \n",
       "| value | name |\n",
       "|---|---|\n",
       "| 1 | 1 |\n",
       "| 4 | 1 |\n",
       "| 3 | 1 |\n",
       "\n",
       "\n",
       "2. \n",
       "| value | name |\n",
       "|---|---|\n",
       "| 4 | 1 |\n",
       "| 3 | 0 |\n",
       "| 7 | 1 |\n",
       "\n",
       "\n",
       "\n",
       "\n"
      ],
      "text/plain": [
       "[[1]]\n",
       "  value name\n",
       "1     1    1\n",
       "2     4    1\n",
       "3     3    1\n",
       "\n",
       "[[2]]\n",
       "  value name\n",
       "1     4    1\n",
       "2     3    0\n",
       "3     7    1\n"
      ]
     },
     "metadata": {},
     "output_type": "display_data"
    }
   ],
   "source": [
    "df1 <- data.frame(value = c(1,4,3), name = c(1,1,1))\n",
    "df2 <- data.frame(value = c(4,3,7), name = c(1,0,1))\n",
    "\n",
    "# Explicit way to make a list of df\n",
    "list_df <- list(df1, df2)\n",
    "list_df"
   ]
  },
  {
   "cell_type": "code",
   "execution_count": 12,
   "id": "e545743b",
   "metadata": {},
   "outputs": [
    {
     "data": {
      "text/html": [
       "<ol>\n",
       "\t<li><table>\n",
       "<thead><tr><th scope=col>value</th><th scope=col>name</th></tr></thead>\n",
       "<tbody>\n",
       "\t<tr><td>1</td><td>1</td></tr>\n",
       "\t<tr><td>4</td><td>1</td></tr>\n",
       "\t<tr><td>3</td><td>1</td></tr>\n",
       "</tbody>\n",
       "</table>\n",
       "</li>\n",
       "</ol>\n"
      ],
      "text/latex": [
       "\\begin{enumerate}\n",
       "\\item \\begin{tabular}{r|ll}\n",
       " value & name\\\\\n",
       "\\hline\n",
       "\t 1 & 1\\\\\n",
       "\t 4 & 1\\\\\n",
       "\t 3 & 1\\\\\n",
       "\\end{tabular}\n",
       "\n",
       "\\end{enumerate}\n"
      ],
      "text/markdown": [
       "1. \n",
       "| value | name |\n",
       "|---|---|\n",
       "| 1 | 1 |\n",
       "| 4 | 1 |\n",
       "| 3 | 1 |\n",
       "\n",
       "\n",
       "\n",
       "\n"
      ],
      "text/plain": [
       "[[1]]\n",
       "  value name\n",
       "1     1    1\n",
       "2     4    1\n",
       "3     3    1\n"
      ]
     },
     "metadata": {},
     "output_type": "display_data"
    },
    {
     "data": {
      "text/html": [
       "<ol>\n",
       "\t<li><table>\n",
       "<thead><tr><th scope=col>value</th><th scope=col>name</th></tr></thead>\n",
       "<tbody>\n",
       "\t<tr><td>1</td><td>1</td></tr>\n",
       "\t<tr><td>4</td><td>1</td></tr>\n",
       "\t<tr><td>3</td><td>1</td></tr>\n",
       "</tbody>\n",
       "</table>\n",
       "</li>\n",
       "\t<li><table>\n",
       "<thead><tr><th scope=col>value</th><th scope=col>name</th></tr></thead>\n",
       "<tbody>\n",
       "\t<tr><td>4</td><td>1</td></tr>\n",
       "\t<tr><td>3</td><td>0</td></tr>\n",
       "\t<tr><td>7</td><td>1</td></tr>\n",
       "</tbody>\n",
       "</table>\n",
       "</li>\n",
       "</ol>\n"
      ],
      "text/latex": [
       "\\begin{enumerate}\n",
       "\\item \\begin{tabular}{r|ll}\n",
       " value & name\\\\\n",
       "\\hline\n",
       "\t 1 & 1\\\\\n",
       "\t 4 & 1\\\\\n",
       "\t 3 & 1\\\\\n",
       "\\end{tabular}\n",
       "\n",
       "\\item \\begin{tabular}{r|ll}\n",
       " value & name\\\\\n",
       "\\hline\n",
       "\t 4 & 1\\\\\n",
       "\t 3 & 0\\\\\n",
       "\t 7 & 1\\\\\n",
       "\\end{tabular}\n",
       "\n",
       "\\end{enumerate}\n"
      ],
      "text/markdown": [
       "1. \n",
       "| value | name |\n",
       "|---|---|\n",
       "| 1 | 1 |\n",
       "| 4 | 1 |\n",
       "| 3 | 1 |\n",
       "\n",
       "\n",
       "2. \n",
       "| value | name |\n",
       "|---|---|\n",
       "| 4 | 1 |\n",
       "| 3 | 0 |\n",
       "| 7 | 1 |\n",
       "\n",
       "\n",
       "\n",
       "\n"
      ],
      "text/plain": [
       "[[1]]\n",
       "  value name\n",
       "1     1    1\n",
       "2     4    1\n",
       "3     3    1\n",
       "\n",
       "[[2]]\n",
       "  value name\n",
       "1     4    1\n",
       "2     3    0\n",
       "3     7    1\n"
      ]
     },
     "metadata": {},
     "output_type": "display_data"
    }
   ],
   "source": [
    "# Append() to make a list of df\n",
    "vec = c()\n",
    "vec <- append(vec, list(df1))\n",
    "vec\n",
    "vec <- append(vec, list(df2))\n",
    "vec"
   ]
  },
  {
   "cell_type": "code",
   "execution_count": 13,
   "id": "1c2a64e9",
   "metadata": {},
   "outputs": [
    {
     "data": {
      "text/html": [
       "<table>\n",
       "<thead><tr><th scope=col>value</th><th scope=col>name</th></tr></thead>\n",
       "<tbody>\n",
       "\t<tr><td>1</td><td>1</td></tr>\n",
       "\t<tr><td>4</td><td>1</td></tr>\n",
       "\t<tr><td>3</td><td>1</td></tr>\n",
       "\t<tr><td>4</td><td>1</td></tr>\n",
       "\t<tr><td>3</td><td>0</td></tr>\n",
       "\t<tr><td>7</td><td>1</td></tr>\n",
       "</tbody>\n",
       "</table>\n"
      ],
      "text/latex": [
       "\\begin{tabular}{r|ll}\n",
       " value & name\\\\\n",
       "\\hline\n",
       "\t 1 & 1\\\\\n",
       "\t 4 & 1\\\\\n",
       "\t 3 & 1\\\\\n",
       "\t 4 & 1\\\\\n",
       "\t 3 & 0\\\\\n",
       "\t 7 & 1\\\\\n",
       "\\end{tabular}\n"
      ],
      "text/markdown": [
       "\n",
       "| value | name |\n",
       "|---|---|\n",
       "| 1 | 1 |\n",
       "| 4 | 1 |\n",
       "| 3 | 1 |\n",
       "| 4 | 1 |\n",
       "| 3 | 0 |\n",
       "| 7 | 1 |\n",
       "\n"
      ],
      "text/plain": [
       "  value name\n",
       "1 1     1   \n",
       "2 4     1   \n",
       "3 3     1   \n",
       "4 4     1   \n",
       "5 3     0   \n",
       "6 7     1   "
      ]
     },
     "metadata": {},
     "output_type": "display_data"
    }
   ],
   "source": [
    "# Concat list of df to be one df. rbind() require all df has the same column names\n",
    "do.call(\"rbind\", vec)"
   ]
  },
  {
   "cell_type": "markdown",
   "id": "c5152c67",
   "metadata": {},
   "source": [
    "### get column names where it has less than 2 real values"
   ]
  },
  {
   "cell_type": "code",
   "execution_count": 14,
   "id": "9b8f888d",
   "metadata": {},
   "outputs": [
    {
     "data": {
      "text/html": [
       "<table>\n",
       "<thead><tr><th scope=col>value1</th><th scope=col>value2</th><th scope=col>value3</th><th scope=col>value4</th></tr></thead>\n",
       "<tbody>\n",
       "\t<tr><td>4 </td><td>NA</td><td> 4</td><td>NA</td></tr>\n",
       "\t<tr><td>3 </td><td> 0</td><td>NA</td><td>NA</td></tr>\n",
       "\t<tr><td>7 </td><td>NA</td><td> 7</td><td>NA</td></tr>\n",
       "</tbody>\n",
       "</table>\n"
      ],
      "text/latex": [
       "\\begin{tabular}{r|llll}\n",
       " value1 & value2 & value3 & value4\\\\\n",
       "\\hline\n",
       "\t 4  & NA &  4 & NA\\\\\n",
       "\t 3  &  0 & NA & NA\\\\\n",
       "\t 7  & NA &  7 & NA\\\\\n",
       "\\end{tabular}\n"
      ],
      "text/markdown": [
       "\n",
       "| value1 | value2 | value3 | value4 |\n",
       "|---|---|---|---|\n",
       "| 4  | NA |  4 | NA |\n",
       "| 3  |  0 | NA | NA |\n",
       "| 7  | NA |  7 | NA |\n",
       "\n"
      ],
      "text/plain": [
       "  value1 value2 value3 value4\n",
       "1 4      NA      4     NA    \n",
       "2 3       0     NA     NA    \n",
       "3 7      NA      7     NA    "
      ]
     },
     "metadata": {},
     "output_type": "display_data"
    }
   ],
   "source": [
    "len <- function(x) { return (length(x[!is.na(x)])) } \n",
    "\n",
    "df <- data.frame(value1 = c(4,3,7), value2 = c(NA, 0,NA), value3 = c(4,NA,7), value4=c(NA,NA,NA))\n",
    "df"
   ]
  },
  {
   "cell_type": "code",
   "execution_count": 15,
   "id": "753d23a9",
   "metadata": {},
   "outputs": [
    {
     "data": {
      "text/html": [
       "<ol class=list-inline>\n",
       "\t<li>'value2'</li>\n",
       "\t<li>'value4'</li>\n",
       "</ol>\n"
      ],
      "text/latex": [
       "\\begin{enumerate*}\n",
       "\\item 'value2'\n",
       "\\item 'value4'\n",
       "\\end{enumerate*}\n"
      ],
      "text/markdown": [
       "1. 'value2'\n",
       "2. 'value4'\n",
       "\n",
       "\n"
      ],
      "text/plain": [
       "[1] \"value2\" \"value4\""
      ]
     },
     "metadata": {},
     "output_type": "display_data"
    }
   ],
   "source": [
    "vec_len_smaller_2 <- c()\n",
    "for (col in colnames(df)){\n",
    "    if (len(df[[col]]) < 2){\n",
    "        vec_len_smaller_2 <- c(vec_len_smaller_2, col)\n",
    "    }\n",
    "}\n",
    "vec_len_smaller_2"
   ]
  },
  {
   "cell_type": "markdown",
   "id": "f0ee3f8e",
   "metadata": {},
   "source": [
    "## II. Transform multi-level JSON to Dataframe"
   ]
  },
  {
   "cell_type": "markdown",
   "id": "6329e3bf",
   "metadata": {},
   "source": [
    "### 1. Make a raw json string for testing"
   ]
  },
  {
   "cell_type": "code",
   "execution_count": 16,
   "id": "ad904e77",
   "metadata": {},
   "outputs": [
    {
     "data": {
      "text/html": [
       "<span style=white-space:pre-wrap>'{\\n    \"_id\" : \"AAA1\",\\n    \"individualCode\" : \"HBD001\",\\n    \"Samples\" : [ \\n        {\\n            \"filename\" : \"PBMCs_APC HBD001 ACD-A 17apr18_088·fcs\",\\n            \"project\" : \"CPI\",\\n            \"markers\" : [ \\n                {\\n                    \"name\" : \"NK (%LC)\",\\n                    \"value\" : 17.92,\\n                    \"confidence\" : \"\",\\n                    \"interpretation\" : \"\"\\n                }, \\n                {\\n                    \"name\" : \"NK- 1 (%LC)\",\\n                    \"value\" : 1.35,\\n                    \"confidence\" : \"\",\\n                    \"interpretation\" : \"\"\\n                }              \\n            ]\\n        }, \\n        {\\n            \"filename\" : \"PBMCs_Th cell HBD001 ACD-A 18apr18_045·fcs\",\\n            \"project\" : \"CPI\",\\n            \"markers\" : [ \\n                {\\n                    \"name\" : \"Exhausted (%CD4)\",\\n                    \"value\" : 0.29,\\n                    \"confidence\" : \"\",\\n                    \"interpretation\" : \"\"\\n                }, \\n                {\\n                    \"name\" : \"R5 Th1 (%CD4)\",\\n                    \"value\" : 1.23,\\n                    \"confidence\" : \"\",\\n                    \"interpretation\" : \"\"\\n                }\\n            ]\\n        }\\n    ]\\n}'</span>"
      ],
      "text/latex": [
       "'\\{\\textbackslash{}n    \"\\_id\" : \"AAA1\",\\textbackslash{}n    \"individualCode\" : \"HBD001\",\\textbackslash{}n    \"Samples\" : {[} \\textbackslash{}n        \\{\\textbackslash{}n            \"filename\" : \"PBMCs\\_APC HBD001 ACD-A 17apr18\\_088·fcs\",\\textbackslash{}n            \"project\" : \"CPI\",\\textbackslash{}n            \"markers\" : {[} \\textbackslash{}n                \\{\\textbackslash{}n                    \"name\" : \"NK (\\%LC)\",\\textbackslash{}n                    \"value\" : 17.92,\\textbackslash{}n                    \"confidence\" : \"\",\\textbackslash{}n                    \"interpretation\" : \"\"\\textbackslash{}n                \\}, \\textbackslash{}n                \\{\\textbackslash{}n                    \"name\" : \"NK- 1 (\\%LC)\",\\textbackslash{}n                    \"value\" : 1.35,\\textbackslash{}n                    \"confidence\" : \"\",\\textbackslash{}n                    \"interpretation\" : \"\"\\textbackslash{}n                \\}              \\textbackslash{}n            {]}\\textbackslash{}n        \\}, \\textbackslash{}n        \\{\\textbackslash{}n            \"filename\" : \"PBMCs\\_Th cell HBD001 ACD-A 18apr18\\_045·fcs\",\\textbackslash{}n            \"project\" : \"CPI\",\\textbackslash{}n            \"markers\" : {[} \\textbackslash{}n                \\{\\textbackslash{}n                    \"name\" : \"Exhausted (\\%CD4)\",\\textbackslash{}n                    \"value\" : 0.29,\\textbackslash{}n                    \"confidence\" : \"\",\\textbackslash{}n                    \"interpretation\" : \"\"\\textbackslash{}n                \\}, \\textbackslash{}n                \\{\\textbackslash{}n                    \"name\" : \"R5 Th1 (\\%CD4)\",\\textbackslash{}n                    \"value\" : 1.23,\\textbackslash{}n                    \"confidence\" : \"\",\\textbackslash{}n                    \"interpretation\" : \"\"\\textbackslash{}n                \\}\\textbackslash{}n            {]}\\textbackslash{}n        \\}\\textbackslash{}n    {]}\\textbackslash{}n\\}'"
      ],
      "text/markdown": [
       "<span style=white-space:pre-wrap>'{\\n    \"_id\" : \"AAA1\",\\n    \"individualCode\" : \"HBD001\",\\n    \"Samples\" : [ \\n        {\\n            \"filename\" : \"PBMCs_APC HBD001 ACD-A 17apr18_088·fcs\",\\n            \"project\" : \"CPI\",\\n            \"markers\" : [ \\n                {\\n                    \"name\" : \"NK (%LC)\",\\n                    \"value\" : 17.92,\\n                    \"confidence\" : \"\",\\n                    \"interpretation\" : \"\"\\n                }, \\n                {\\n                    \"name\" : \"NK- 1 (%LC)\",\\n                    \"value\" : 1.35,\\n                    \"confidence\" : \"\",\\n                    \"interpretation\" : \"\"\\n                }              \\n            ]\\n        }, \\n        {\\n            \"filename\" : \"PBMCs_Th cell HBD001 ACD-A 18apr18_045·fcs\",\\n            \"project\" : \"CPI\",\\n            \"markers\" : [ \\n                {\\n                    \"name\" : \"Exhausted (%CD4)\",\\n                    \"value\" : 0.29,\\n                    \"confidence\" : \"\",\\n                    \"interpretation\" : \"\"\\n                }, \\n                {\\n                    \"name\" : \"R5 Th1 (%CD4)\",\\n                    \"value\" : 1.23,\\n                    \"confidence\" : \"\",\\n                    \"interpretation\" : \"\"\\n                }\\n            ]\\n        }\\n    ]\\n}'</span>"
      ],
      "text/plain": [
       "[1] \"{\\n    \\\"_id\\\" : \\\"AAA1\\\",\\n    \\\"individualCode\\\" : \\\"HBD001\\\",\\n    \\\"Samples\\\" : [ \\n        {\\n            \\\"filename\\\" : \\\"PBMCs_APC HBD001 ACD-A 17apr18_088·fcs\\\",\\n            \\\"project\\\" : \\\"CPI\\\",\\n            \\\"markers\\\" : [ \\n                {\\n                    \\\"name\\\" : \\\"NK (%LC)\\\",\\n                    \\\"value\\\" : 17.92,\\n                    \\\"confidence\\\" : \\\"\\\",\\n                    \\\"interpretation\\\" : \\\"\\\"\\n                }, \\n                {\\n                    \\\"name\\\" : \\\"NK- 1 (%LC)\\\",\\n                    \\\"value\\\" : 1.35,\\n                    \\\"confidence\\\" : \\\"\\\",\\n                    \\\"interpretation\\\" : \\\"\\\"\\n                }              \\n            ]\\n        }, \\n        {\\n            \\\"filename\\\" : \\\"PBMCs_Th cell HBD001 ACD-A 18apr18_045·fcs\\\",\\n            \\\"project\\\" : \\\"CPI\\\",\\n            \\\"markers\\\" : [ \\n                {\\n                    \\\"name\\\" : \\\"Exhausted (%CD4)\\\",\\n                    \\\"value\\\" : 0.29,\\n                    \\\"confidence\\\" : \\\"\\\",\\n                    \\\"interpretation\\\" : \\\"\\\"\\n                }, \\n                {\\n                    \\\"name\\\" : \\\"R5 Th1 (%CD4)\\\",\\n                    \\\"value\\\" : 1.23,\\n                    \\\"confidence\\\" : \\\"\\\",\\n                    \\\"interpretation\\\" : \\\"\\\"\\n                }\\n            ]\\n        }\\n    ]\\n}\""
      ]
     },
     "metadata": {},
     "output_type": "display_data"
    }
   ],
   "source": [
    "library(jsonlite)\n",
    "\n",
    "json_str <- '{\n",
    "    \"_id\" : \"AAA1\",\n",
    "    \"individualCode\" : \"HBD001\",\n",
    "    \"Samples\" : [ \n",
    "        {\n",
    "            \"filename\" : \"PBMCs_APC HBD001 ACD-A 17apr18_088․fcs\",\n",
    "            \"project\" : \"CPI\",\n",
    "            \"markers\" : [ \n",
    "                {\n",
    "                    \"name\" : \"NK (%LC)\",\n",
    "                    \"value\" : 17.92,\n",
    "                    \"confidence\" : \"\",\n",
    "                    \"interpretation\" : \"\"\n",
    "                }, \n",
    "                {\n",
    "                    \"name\" : \"NK- 1 (%LC)\",\n",
    "                    \"value\" : 1.35,\n",
    "                    \"confidence\" : \"\",\n",
    "                    \"interpretation\" : \"\"\n",
    "                }              \n",
    "            ]\n",
    "        }, \n",
    "        {\n",
    "            \"filename\" : \"PBMCs_Th cell HBD001 ACD-A 18apr18_045․fcs\",\n",
    "            \"project\" : \"CPI\",\n",
    "            \"markers\" : [ \n",
    "                {\n",
    "                    \"name\" : \"Exhausted (%CD4)\",\n",
    "                    \"value\" : 0.29,\n",
    "                    \"confidence\" : \"\",\n",
    "                    \"interpretation\" : \"\"\n",
    "                }, \n",
    "                {\n",
    "                    \"name\" : \"R5 Th1 (%CD4)\",\n",
    "                    \"value\" : 1.23,\n",
    "                    \"confidence\" : \"\",\n",
    "                    \"interpretation\" : \"\"\n",
    "                }\n",
    "            ]\n",
    "        }\n",
    "    ]\n",
    "}'\n",
    "\n",
    "json_str"
   ]
  },
  {
   "cell_type": "markdown",
   "id": "6e91bfa0",
   "metadata": {},
   "source": [
    "### 2. Convert json string to R object"
   ]
  },
  {
   "cell_type": "code",
   "execution_count": 17,
   "id": "156eef0d",
   "metadata": {},
   "outputs": [
    {
     "data": {
      "text/html": [
       "<dl>\n",
       "\t<dt>$`_id`</dt>\n",
       "\t\t<dd>'AAA1'</dd>\n",
       "\t<dt>$individualCode</dt>\n",
       "\t\t<dd>'HBD001'</dd>\n",
       "\t<dt>$Samples</dt>\n",
       "\t\t<dd><table>\n",
       "<thead><tr><th scope=col>filename</th><th scope=col>project</th><th scope=col>markers</th></tr></thead>\n",
       "<tbody>\n",
       "\t<tr><td>PBMCs_APC HBD001 ACD-A 17apr18_088·fcs                                                                </td><td>CPI                                                                                                   </td><td>NK (%LC)   , NK- 1 (%LC), 17.92      , 1.35       ,            ,            ,            ,            </td></tr>\n",
       "\t<tr><td>PBMCs_Th cell HBD001 ACD-A 18apr18_045·fcs                                                                                                    </td><td>CPI                                                                                                                                           </td><td>Exhausted (%CD4), R5 Th1 (%CD4)   , 0.29            , 1.23            ,                 ,                 ,                 ,                 </td></tr>\n",
       "</tbody>\n",
       "</table>\n",
       "</dd>\n",
       "</dl>\n"
      ],
      "text/latex": [
       "\\begin{description}\n",
       "\\item[\\$`\\_id`] 'AAA1'\n",
       "\\item[\\$individualCode] 'HBD001'\n",
       "\\item[\\$Samples] \\begin{tabular}{r|lll}\n",
       " filename & project & markers\\\\\n",
       "\\hline\n",
       "\t PBMCs\\_APC HBD001 ACD-A 17apr18\\_088·fcs                                                                 & CPI                                                                                                        & NK (\\%LC)   , NK- 1 (\\%LC), 17.92      , 1.35       ,            ,            ,            ,            \\\\\n",
       "\t PBMCs\\_Th cell HBD001 ACD-A 18apr18\\_045·fcs                                                                                                     & CPI                                                                                                                                                & Exhausted (\\%CD4), R5 Th1 (\\%CD4)   , 0.29            , 1.23            ,                 ,                 ,                 ,                 \\\\\n",
       "\\end{tabular}\n",
       "\n",
       "\\end{description}\n"
      ],
      "text/markdown": [
       "$`_id`\n",
       ":   'AAA1'\n",
       "$individualCode\n",
       ":   'HBD001'\n",
       "$Samples\n",
       ":   \n",
       "| filename | project | markers |\n",
       "|---|---|---|\n",
       "| PBMCs_APC HBD001 ACD-A 17apr18_088·fcs                                                                 | CPI                                                                                                    | NK (%LC)   , NK- 1 (%LC), 17.92      , 1.35       ,            ,            ,            ,             |\n",
       "| PBMCs_Th cell HBD001 ACD-A 18apr18_045·fcs                                                                                                     | CPI                                                                                                                                            | Exhausted (%CD4), R5 Th1 (%CD4)   , 0.29            , 1.23            ,                 ,                 ,                 ,                  |\n",
       "\n",
       "\n",
       "\n",
       "\n"
      ],
      "text/plain": [
       "$`_id`\n",
       "[1] \"AAA1\"\n",
       "\n",
       "$individualCode\n",
       "[1] \"HBD001\"\n",
       "\n",
       "$Samples\n",
       "                                    filename project\n",
       "1     PBMCs_APC HBD001 ACD-A 17apr18_088·fcs     CPI\n",
       "2 PBMCs_Th cell HBD001 ACD-A 18apr18_045·fcs     CPI\n",
       "                                              markers\n",
       "1          NK (%LC), NK- 1 (%LC), 17.92, 1.35, , , , \n",
       "2 Exhausted (%CD4), R5 Th1 (%CD4), 0.29, 1.23, , , , \n"
      ]
     },
     "metadata": {},
     "output_type": "display_data"
    }
   ],
   "source": [
    "list_json <- fromJSON(json_str)\n",
    "list_json"
   ]
  },
  {
   "cell_type": "markdown",
   "id": "9dadf4e8",
   "metadata": {},
   "source": [
    "### 3. Convert R list object to DataFrame"
   ]
  },
  {
   "cell_type": "code",
   "execution_count": 18,
   "id": "c77710b9",
   "metadata": {
    "scrolled": false
   },
   "outputs": [
    {
     "data": {
      "text/html": [
       "<table>\n",
       "<thead><tr><th scope=col>_id</th><th scope=col>individualCode</th><th scope=col>Samples.filename</th><th scope=col>Samples.project</th><th scope=col>Samples.markers</th></tr></thead>\n",
       "<tbody>\n",
       "\t<tr><td>AAA1                                                                                                  </td><td>HBD001                                                                                                </td><td>PBMCs_APC HBD001 ACD-A 17apr18_088·fcs                                                                </td><td>CPI                                                                                                   </td><td>NK (%LC)   , NK- 1 (%LC), 17.92      , 1.35       ,            ,            ,            ,            </td></tr>\n",
       "\t<tr><td>AAA1                                                                                                                                          </td><td>HBD001                                                                                                                                        </td><td>PBMCs_Th cell HBD001 ACD-A 18apr18_045·fcs                                                                                                    </td><td>CPI                                                                                                                                           </td><td>Exhausted (%CD4), R5 Th1 (%CD4)   , 0.29            , 1.23            ,                 ,                 ,                 ,                 </td></tr>\n",
       "</tbody>\n",
       "</table>\n"
      ],
      "text/latex": [
       "\\begin{tabular}{r|lllll}\n",
       " \\_id & individualCode & Samples.filename & Samples.project & Samples.markers\\\\\n",
       "\\hline\n",
       "\t AAA1                                                                                                       & HBD001                                                                                                     & PBMCs\\_APC HBD001 ACD-A 17apr18\\_088·fcs                                                                 & CPI                                                                                                        & NK (\\%LC)   , NK- 1 (\\%LC), 17.92      , 1.35       ,            ,            ,            ,            \\\\\n",
       "\t AAA1                                                                                                                                               & HBD001                                                                                                                                             & PBMCs\\_Th cell HBD001 ACD-A 18apr18\\_045·fcs                                                                                                     & CPI                                                                                                                                                & Exhausted (\\%CD4), R5 Th1 (\\%CD4)   , 0.29            , 1.23            ,                 ,                 ,                 ,                 \\\\\n",
       "\\end{tabular}\n"
      ],
      "text/markdown": [
       "\n",
       "| _id | individualCode | Samples.filename | Samples.project | Samples.markers |\n",
       "|---|---|---|---|---|\n",
       "| AAA1                                                                                                   | HBD001                                                                                                 | PBMCs_APC HBD001 ACD-A 17apr18_088·fcs                                                                 | CPI                                                                                                    | NK (%LC)   , NK- 1 (%LC), 17.92      , 1.35       ,            ,            ,            ,             |\n",
       "| AAA1                                                                                                                                           | HBD001                                                                                                                                         | PBMCs_Th cell HBD001 ACD-A 18apr18_045·fcs                                                                                                     | CPI                                                                                                                                            | Exhausted (%CD4), R5 Th1 (%CD4)   , 0.29            , 1.23            ,                 ,                 ,                 ,                  |\n",
       "\n"
      ],
      "text/plain": [
       "  _id  individualCode Samples.filename                          \n",
       "1 AAA1 HBD001         PBMCs_APC HBD001 ACD-A 17apr18_088·fcs    \n",
       "2 AAA1 HBD001         PBMCs_Th cell HBD001 ACD-A 18apr18_045·fcs\n",
       "  Samples.project\n",
       "1 CPI            \n",
       "2 CPI            \n",
       "  Samples.markers                                                                                                                               \n",
       "1 NK (%LC)   , NK- 1 (%LC), 17.92      , 1.35       ,            ,            ,            ,                                                    \n",
       "2 Exhausted (%CD4), R5 Th1 (%CD4)   , 0.29            , 1.23            ,                 ,                 ,                 ,                 "
      ]
     },
     "metadata": {},
     "output_type": "display_data"
    }
   ],
   "source": [
    "df <- do.call(\"cbind\", list_json)\n",
    "df"
   ]
  },
  {
   "cell_type": "markdown",
   "id": "66cf1649",
   "metadata": {},
   "source": [
    "### 4.  DataFrame of markers (Optional)"
   ]
  },
  {
   "cell_type": "code",
   "execution_count": 19,
   "id": "2bcbd85f",
   "metadata": {},
   "outputs": [
    {
     "data": {
      "text/html": [
       "<ol>\n",
       "\t<li><table>\n",
       "<thead><tr><th scope=col>name</th><th scope=col>value</th><th scope=col>confidence</th><th scope=col>interpretation</th></tr></thead>\n",
       "<tbody>\n",
       "\t<tr><td>NK (%LC)   </td><td>17.92      </td><td>           </td><td>           </td></tr>\n",
       "\t<tr><td>NK- 1 (%LC)</td><td> 1.35      </td><td>           </td><td>           </td></tr>\n",
       "</tbody>\n",
       "</table>\n",
       "</li>\n",
       "\t<li><table>\n",
       "<thead><tr><th scope=col>name</th><th scope=col>value</th><th scope=col>confidence</th><th scope=col>interpretation</th></tr></thead>\n",
       "<tbody>\n",
       "\t<tr><td>Exhausted (%CD4)</td><td>0.29            </td><td>                </td><td>                </td></tr>\n",
       "\t<tr><td>R5 Th1 (%CD4)   </td><td>1.23            </td><td>                </td><td>                </td></tr>\n",
       "</tbody>\n",
       "</table>\n",
       "</li>\n",
       "</ol>\n"
      ],
      "text/latex": [
       "\\begin{enumerate}\n",
       "\\item \\begin{tabular}{r|llll}\n",
       " name & value & confidence & interpretation\\\\\n",
       "\\hline\n",
       "\t NK (\\%LC)    & 17.92         &               &              \\\\\n",
       "\t NK- 1 (\\%LC) &  1.35         &               &              \\\\\n",
       "\\end{tabular}\n",
       "\n",
       "\\item \\begin{tabular}{r|llll}\n",
       " name & value & confidence & interpretation\\\\\n",
       "\\hline\n",
       "\t Exhausted (\\%CD4) & 0.29               &                    &                   \\\\\n",
       "\t R5 Th1 (\\%CD4)    & 1.23               &                    &                   \\\\\n",
       "\\end{tabular}\n",
       "\n",
       "\\end{enumerate}\n"
      ],
      "text/markdown": [
       "1. \n",
       "| name | value | confidence | interpretation |\n",
       "|---|---|---|---|\n",
       "| NK (%LC)    | 17.92       |             |             |\n",
       "| NK- 1 (%LC) |  1.35       |             |             |\n",
       "\n",
       "\n",
       "2. \n",
       "| name | value | confidence | interpretation |\n",
       "|---|---|---|---|\n",
       "| Exhausted (%CD4) | 0.29             |                  |                  |\n",
       "| R5 Th1 (%CD4)    | 1.23             |                  |                  |\n",
       "\n",
       "\n",
       "\n",
       "\n"
      ],
      "text/plain": [
       "[[1]]\n",
       "         name value confidence interpretation\n",
       "1    NK (%LC) 17.92                          \n",
       "2 NK- 1 (%LC)  1.35                          \n",
       "\n",
       "[[2]]\n",
       "              name value confidence interpretation\n",
       "1 Exhausted (%CD4)  0.29                          \n",
       "2    R5 Th1 (%CD4)  1.23                          \n"
      ]
     },
     "metadata": {},
     "output_type": "display_data"
    }
   ],
   "source": [
    "# Check\n",
    "list_markers <- df$Samples.markers\n",
    "list_markers"
   ]
  },
  {
   "cell_type": "code",
   "execution_count": 20,
   "id": "8437908f",
   "metadata": {},
   "outputs": [
    {
     "data": {
      "text/html": [
       "<table>\n",
       "<thead><tr><th scope=col>name</th><th scope=col>value</th><th scope=col>confidence</th><th scope=col>interpretation</th></tr></thead>\n",
       "<tbody>\n",
       "\t<tr><td>NK (%LC)        </td><td>17.92           </td><td>                </td><td>                </td></tr>\n",
       "\t<tr><td>NK- 1 (%LC)     </td><td> 1.35           </td><td>                </td><td>                </td></tr>\n",
       "\t<tr><td>Exhausted (%CD4)</td><td> 0.29           </td><td>                </td><td>                </td></tr>\n",
       "\t<tr><td>R5 Th1 (%CD4)   </td><td> 1.23           </td><td>                </td><td>                </td></tr>\n",
       "</tbody>\n",
       "</table>\n"
      ],
      "text/latex": [
       "\\begin{tabular}{r|llll}\n",
       " name & value & confidence & interpretation\\\\\n",
       "\\hline\n",
       "\t NK (\\%LC)         & 17.92              &                    &                   \\\\\n",
       "\t NK- 1 (\\%LC)      &  1.35              &                    &                   \\\\\n",
       "\t Exhausted (\\%CD4) &  0.29              &                    &                   \\\\\n",
       "\t R5 Th1 (\\%CD4)    &  1.23              &                    &                   \\\\\n",
       "\\end{tabular}\n"
      ],
      "text/markdown": [
       "\n",
       "| name | value | confidence | interpretation |\n",
       "|---|---|---|---|\n",
       "| NK (%LC)         | 17.92            |                  |                  |\n",
       "| NK- 1 (%LC)      |  1.35            |                  |                  |\n",
       "| Exhausted (%CD4) |  0.29            |                  |                  |\n",
       "| R5 Th1 (%CD4)    |  1.23            |                  |                  |\n",
       "\n"
      ],
      "text/plain": [
       "  name             value confidence interpretation\n",
       "1 NK (%LC)         17.92                          \n",
       "2 NK- 1 (%LC)       1.35                          \n",
       "3 Exhausted (%CD4)  0.29                          \n",
       "4 R5 Th1 (%CD4)     1.23                          "
      ]
     },
     "metadata": {},
     "output_type": "display_data"
    }
   ],
   "source": [
    "library(data.table)\n",
    "\n",
    "df_markers <- rbindlist(list_markers, fill=TRUE)\n",
    "df_markers"
   ]
  },
  {
   "cell_type": "code",
   "execution_count": 21,
   "id": "32c0a87b",
   "metadata": {},
   "outputs": [
    {
     "data": {
      "text/html": [
       "<table>\n",
       "<thead><tr><th scope=col>name</th><th scope=col>HBD001</th><th scope=col>confidence</th><th scope=col>interpretation</th></tr></thead>\n",
       "<tbody>\n",
       "\t<tr><td>NK (%LC)        </td><td>17.92           </td><td>                </td><td>                </td></tr>\n",
       "\t<tr><td>NK- 1 (%LC)     </td><td> 1.35           </td><td>                </td><td>                </td></tr>\n",
       "\t<tr><td>Exhausted (%CD4)</td><td> 0.29           </td><td>                </td><td>                </td></tr>\n",
       "\t<tr><td>R5 Th1 (%CD4)   </td><td> 1.23           </td><td>                </td><td>                </td></tr>\n",
       "</tbody>\n",
       "</table>\n"
      ],
      "text/latex": [
       "\\begin{tabular}{r|llll}\n",
       " name & HBD001 & confidence & interpretation\\\\\n",
       "\\hline\n",
       "\t NK (\\%LC)         & 17.92              &                    &                   \\\\\n",
       "\t NK- 1 (\\%LC)      &  1.35              &                    &                   \\\\\n",
       "\t Exhausted (\\%CD4) &  0.29              &                    &                   \\\\\n",
       "\t R5 Th1 (\\%CD4)    &  1.23              &                    &                   \\\\\n",
       "\\end{tabular}\n"
      ],
      "text/markdown": [
       "\n",
       "| name | HBD001 | confidence | interpretation |\n",
       "|---|---|---|---|\n",
       "| NK (%LC)         | 17.92            |                  |                  |\n",
       "| NK- 1 (%LC)      |  1.35            |                  |                  |\n",
       "| Exhausted (%CD4) |  0.29            |                  |                  |\n",
       "| R5 Th1 (%CD4)    |  1.23            |                  |                  |\n",
       "\n"
      ],
      "text/plain": [
       "  name             HBD001 confidence interpretation\n",
       "1 NK (%LC)         17.92                           \n",
       "2 NK- 1 (%LC)       1.35                           \n",
       "3 Exhausted (%CD4)  0.29                           \n",
       "4 R5 Th1 (%CD4)     1.23                           "
      ]
     },
     "metadata": {},
     "output_type": "display_data"
    }
   ],
   "source": [
    "# at df_markers: change column name to HBD001\n",
    "colnames(df_markers)[colnames(df_markers) == 'value'] <- 'HBD001'\n",
    "df_markers"
   ]
  },
  {
   "cell_type": "markdown",
   "id": "eb093dac",
   "metadata": {},
   "source": [
    "### Create a function"
   ]
  },
  {
   "cell_type": "code",
   "execution_count": 22,
   "id": "560f8651",
   "metadata": {},
   "outputs": [],
   "source": [
    "transform_df <- function(df, newColname){\n",
    "    list_Samples <- df$Samples\n",
    "    df_Samples <- rbindlist(list_Samples, fill=TRUE)\n",
    "    list_markers <- df_Samples$markers\n",
    "    df_markers <- rbindlist(list_markers, fill=TRUE)\n",
    "    colnames(df_markers)[colnames(df_markers) == 'value'] <- newColname\n",
    "    return (df_markers)\n",
    "}"
   ]
  },
  {
   "cell_type": "markdown",
   "id": "8a38441c",
   "metadata": {},
   "source": [
    "## III. Merge two Dataframes  \n",
    "```\n",
    "cbind() – combining the columns of two data frames side-by-side\n",
    "rbind() – stacking two data frames on top of each other, appending one to the other\n",
    "merge() – joining two data frames using a common column\n",
    "```"
   ]
  },
  {
   "cell_type": "markdown",
   "id": "07fc29aa",
   "metadata": {},
   "source": [
    "### 1. Merge"
   ]
  },
  {
   "cell_type": "code",
   "execution_count": 23,
   "id": "25515fdd",
   "metadata": {},
   "outputs": [
    {
     "data": {
      "text/html": [
       "<table>\n",
       "<thead><tr><th scope=col>surname</th><th scope=col>nationality</th><th scope=col>retired</th></tr></thead>\n",
       "<tbody>\n",
       "\t<tr><td>AA       </td><td>US       </td><td>yes      </td></tr>\n",
       "\t<tr><td>BB       </td><td>Australia</td><td>no       </td></tr>\n",
       "\t<tr><td>EE       </td><td>US       </td><td>no       </td></tr>\n",
       "</tbody>\n",
       "</table>\n"
      ],
      "text/latex": [
       "\\begin{tabular}{r|lll}\n",
       " surname & nationality & retired\\\\\n",
       "\\hline\n",
       "\t AA        & US        & yes      \\\\\n",
       "\t BB        & Australia & no       \\\\\n",
       "\t EE        & US        & no       \\\\\n",
       "\\end{tabular}\n"
      ],
      "text/markdown": [
       "\n",
       "| surname | nationality | retired |\n",
       "|---|---|---|\n",
       "| AA        | US        | yes       |\n",
       "| BB        | Australia | no        |\n",
       "| EE        | US        | no        |\n",
       "\n"
      ],
      "text/plain": [
       "  surname nationality retired\n",
       "1 AA      US          yes    \n",
       "2 BB      Australia   no     \n",
       "3 EE      US          no     "
      ]
     },
     "metadata": {},
     "output_type": "display_data"
    }
   ],
   "source": [
    "df_authors <- data.frame(\n",
    "    surname = c(\"AA\", \"BB\", \"EE\"),\n",
    "    nationality = c(\"US\", \"Australia\", \"US\"),\n",
    "    retired = c(\"yes\", rep(\"no\", 2)))\n",
    "df_authors"
   ]
  },
  {
   "cell_type": "code",
   "execution_count": 24,
   "id": "82adf85e",
   "metadata": {},
   "outputs": [
    {
     "data": {
      "text/html": [
       "<table>\n",
       "<thead><tr><th scope=col>name</th><th scope=col>title</th></tr></thead>\n",
       "<tbody>\n",
       "\t<tr><td>AA    </td><td>Title1</td></tr>\n",
       "\t<tr><td>DD    </td><td>NA    </td></tr>\n",
       "\t<tr><td>BB    </td><td>Title3</td></tr>\n",
       "</tbody>\n",
       "</table>\n"
      ],
      "text/latex": [
       "\\begin{tabular}{r|ll}\n",
       " name & title\\\\\n",
       "\\hline\n",
       "\t AA     & Title1\\\\\n",
       "\t DD     & NA    \\\\\n",
       "\t BB     & Title3\\\\\n",
       "\\end{tabular}\n"
      ],
      "text/markdown": [
       "\n",
       "| name | title |\n",
       "|---|---|\n",
       "| AA     | Title1 |\n",
       "| DD     | NA     |\n",
       "| BB     | Title3 |\n",
       "\n"
      ],
      "text/plain": [
       "  name title \n",
       "1 AA   Title1\n",
       "2 DD   NA    \n",
       "3 BB   Title3"
      ]
     },
     "metadata": {},
     "output_type": "display_data"
    }
   ],
   "source": [
    "df_books <- data.frame(\n",
    "    name = c(\"AA\", \"DD\", \"BB\"),\n",
    "    title = c(\"Title1\", NA, \"Title3\"))\n",
    "df_books"
   ]
  },
  {
   "cell_type": "code",
   "execution_count": 25,
   "id": "019d316b",
   "metadata": {},
   "outputs": [
    {
     "data": {
      "text/html": [
       "<table>\n",
       "<thead><tr><th scope=col>surname</th><th scope=col>nationality</th><th scope=col>retired</th><th scope=col>title</th></tr></thead>\n",
       "<tbody>\n",
       "\t<tr><td>AA       </td><td>US       </td><td>yes      </td><td>Title1   </td></tr>\n",
       "\t<tr><td>BB       </td><td>Australia</td><td>no       </td><td>Title3   </td></tr>\n",
       "\t<tr><td>EE       </td><td>US       </td><td>no       </td><td>NA       </td></tr>\n",
       "\t<tr><td>DD       </td><td>NA       </td><td>NA       </td><td>NA       </td></tr>\n",
       "</tbody>\n",
       "</table>\n"
      ],
      "text/latex": [
       "\\begin{tabular}{r|llll}\n",
       " surname & nationality & retired & title\\\\\n",
       "\\hline\n",
       "\t AA        & US        & yes       & Title1   \\\\\n",
       "\t BB        & Australia & no        & Title3   \\\\\n",
       "\t EE        & US        & no        & NA       \\\\\n",
       "\t DD        & NA        & NA        & NA       \\\\\n",
       "\\end{tabular}\n"
      ],
      "text/markdown": [
       "\n",
       "| surname | nationality | retired | title |\n",
       "|---|---|---|---|\n",
       "| AA        | US        | yes       | Title1    |\n",
       "| BB        | Australia | no        | Title3    |\n",
       "| EE        | US        | no        | NA        |\n",
       "| DD        | NA        | NA        | NA        |\n",
       "\n"
      ],
      "text/plain": [
       "  surname nationality retired title \n",
       "1 AA      US          yes     Title1\n",
       "2 BB      Australia   no      Title3\n",
       "3 EE      US          no      NA    \n",
       "4 DD      NA          NA      NA    "
      ]
     },
     "metadata": {},
     "output_type": "display_data"
    }
   ],
   "source": [
    "df_merge <- merge(x=df_authors, \n",
    "                  y=df_books, \n",
    "                  by.x=\"surname\", \n",
    "                  by.y=\"name\",\n",
    "                  all=TRUE  # ALL: Outer Join, all.x= TRUE: Left Join, all.y=TRUE: Right join, No specify: Inner join\n",
    "                            # NOTE: Cross join: merge(x = df1, y = df2, by = NULL)\n",
    "                 )\n",
    "df_merge"
   ]
  },
  {
   "cell_type": "markdown",
   "id": "9662d63d",
   "metadata": {},
   "source": [
    "### 2. rbind and bind_rows"
   ]
  },
  {
   "cell_type": "code",
   "execution_count": 26,
   "id": "bb250218",
   "metadata": {},
   "outputs": [
    {
     "data": {
      "text/html": [
       "<table>\n",
       "<thead><tr><th scope=col>a</th><th scope=col>b</th><th scope=col>c</th></tr></thead>\n",
       "<tbody>\n",
       "\t<tr><td>0</td><td>3</td><td>6</td></tr>\n",
       "\t<tr><td>1</td><td>4</td><td>7</td></tr>\n",
       "\t<tr><td>2</td><td>5</td><td>8</td></tr>\n",
       "</tbody>\n",
       "</table>\n"
      ],
      "text/latex": [
       "\\begin{tabular}{r|lll}\n",
       " a & b & c\\\\\n",
       "\\hline\n",
       "\t 0 & 3 & 6\\\\\n",
       "\t 1 & 4 & 7\\\\\n",
       "\t 2 & 5 & 8\\\\\n",
       "\\end{tabular}\n"
      ],
      "text/markdown": [
       "\n",
       "| a | b | c |\n",
       "|---|---|---|\n",
       "| 0 | 3 | 6 |\n",
       "| 1 | 4 | 7 |\n",
       "| 2 | 5 | 8 |\n",
       "\n"
      ],
      "text/plain": [
       "  a b c\n",
       "1 0 3 6\n",
       "2 1 4 7\n",
       "3 2 5 8"
      ]
     },
     "metadata": {},
     "output_type": "display_data"
    }
   ],
   "source": [
    "df1 <- data.frame(a=c(0,1,2), b=c(3,4,5), c=c(6,7,8))\n",
    "df1"
   ]
  },
  {
   "cell_type": "code",
   "execution_count": 27,
   "id": "ec161013",
   "metadata": {},
   "outputs": [
    {
     "data": {
      "text/html": [
       "<table>\n",
       "<thead><tr><th scope=col>a</th><th scope=col>c</th></tr></thead>\n",
       "<tbody>\n",
       "\t<tr><td> 9</td><td>12</td></tr>\n",
       "\t<tr><td>10</td><td>13</td></tr>\n",
       "</tbody>\n",
       "</table>\n"
      ],
      "text/latex": [
       "\\begin{tabular}{r|ll}\n",
       " a & c\\\\\n",
       "\\hline\n",
       "\t  9 & 12\\\\\n",
       "\t 10 & 13\\\\\n",
       "\\end{tabular}\n"
      ],
      "text/markdown": [
       "\n",
       "| a | c |\n",
       "|---|---|\n",
       "|  9 | 12 |\n",
       "| 10 | 13 |\n",
       "\n"
      ],
      "text/plain": [
       "  a  c \n",
       "1  9 12\n",
       "2 10 13"
      ]
     },
     "metadata": {},
     "output_type": "display_data"
    }
   ],
   "source": [
    "df2 <- data.frame(a=c(9,10), c=c(12,13))\n",
    "df2"
   ]
  },
  {
   "cell_type": "code",
   "execution_count": 28,
   "id": "73eafebd",
   "metadata": {},
   "outputs": [
    {
     "data": {
      "text/html": [
       "<table>\n",
       "<thead><tr><th scope=col>a</th><th scope=col>c</th><th scope=col>b</th></tr></thead>\n",
       "<tbody>\n",
       "\t<tr><td> 9</td><td>12</td><td>NA</td></tr>\n",
       "\t<tr><td>10</td><td>13</td><td>NA</td></tr>\n",
       "</tbody>\n",
       "</table>\n"
      ],
      "text/latex": [
       "\\begin{tabular}{r|lll}\n",
       " a & c & b\\\\\n",
       "\\hline\n",
       "\t  9 & 12 & NA\\\\\n",
       "\t 10 & 13 & NA\\\\\n",
       "\\end{tabular}\n"
      ],
      "text/markdown": [
       "\n",
       "| a | c | b |\n",
       "|---|---|---|\n",
       "|  9 | 12 | NA |\n",
       "| 10 | 13 | NA |\n",
       "\n"
      ],
      "text/plain": [
       "  a  c  b \n",
       "1  9 12 NA\n",
       "2 10 13 NA"
      ]
     },
     "metadata": {},
     "output_type": "display_data"
    }
   ],
   "source": [
    "df2$b <- NA  # make a new column with all NA\n",
    "df2"
   ]
  },
  {
   "cell_type": "code",
   "execution_count": 29,
   "id": "7859b0c0",
   "metadata": {},
   "outputs": [
    {
     "data": {
      "text/html": [
       "<table>\n",
       "<thead><tr><th scope=col>a</th><th scope=col>b</th><th scope=col>c</th></tr></thead>\n",
       "<tbody>\n",
       "\t<tr><td> 0</td><td> 3</td><td> 6</td></tr>\n",
       "\t<tr><td> 1</td><td> 4</td><td> 7</td></tr>\n",
       "\t<tr><td> 2</td><td> 5</td><td> 8</td></tr>\n",
       "\t<tr><td> 9</td><td>NA</td><td>12</td></tr>\n",
       "\t<tr><td>10</td><td>NA</td><td>13</td></tr>\n",
       "</tbody>\n",
       "</table>\n"
      ],
      "text/latex": [
       "\\begin{tabular}{r|lll}\n",
       " a & b & c\\\\\n",
       "\\hline\n",
       "\t  0 &  3 &  6\\\\\n",
       "\t  1 &  4 &  7\\\\\n",
       "\t  2 &  5 &  8\\\\\n",
       "\t  9 & NA & 12\\\\\n",
       "\t 10 & NA & 13\\\\\n",
       "\\end{tabular}\n"
      ],
      "text/markdown": [
       "\n",
       "| a | b | c |\n",
       "|---|---|---|\n",
       "|  0 |  3 |  6 |\n",
       "|  1 |  4 |  7 |\n",
       "|  2 |  5 |  8 |\n",
       "|  9 | NA | 12 |\n",
       "| 10 | NA | 13 |\n",
       "\n"
      ],
      "text/plain": [
       "  a  b  c \n",
       "1  0  3  6\n",
       "2  1  4  7\n",
       "3  2  5  8\n",
       "4  9 NA 12\n",
       "5 10 NA 13"
      ]
     },
     "metadata": {},
     "output_type": "display_data"
    }
   ],
   "source": [
    "rbind(df1, df2)   # rbind() requires df1, df2 have the same columns"
   ]
  },
  {
   "cell_type": "code",
   "execution_count": 30,
   "id": "d800f698",
   "metadata": {},
   "outputs": [
    {
     "data": {
      "text/html": [
       "<table>\n",
       "<thead><tr><th scope=col>a</th><th scope=col>c</th></tr></thead>\n",
       "<tbody>\n",
       "\t<tr><td> 9</td><td>12</td></tr>\n",
       "\t<tr><td>10</td><td>13</td></tr>\n",
       "</tbody>\n",
       "</table>\n"
      ],
      "text/latex": [
       "\\begin{tabular}{r|ll}\n",
       " a & c\\\\\n",
       "\\hline\n",
       "\t  9 & 12\\\\\n",
       "\t 10 & 13\\\\\n",
       "\\end{tabular}\n"
      ],
      "text/markdown": [
       "\n",
       "| a | c |\n",
       "|---|---|\n",
       "|  9 | 12 |\n",
       "| 10 | 13 |\n",
       "\n"
      ],
      "text/plain": [
       "  a  c \n",
       "1  9 12\n",
       "2 10 13"
      ]
     },
     "metadata": {},
     "output_type": "display_data"
    }
   ],
   "source": [
    "df3 <- data.frame(a=c(9,10), c=c(12,13))\n",
    "df3"
   ]
  },
  {
   "cell_type": "code",
   "execution_count": 31,
   "id": "a33b4b3e",
   "metadata": {},
   "outputs": [
    {
     "data": {
      "text/html": [
       "<table>\n",
       "<thead><tr><th scope=col>a</th><th scope=col>b</th><th scope=col>c</th></tr></thead>\n",
       "<tbody>\n",
       "\t<tr><td> 0</td><td> 3</td><td> 6</td></tr>\n",
       "\t<tr><td> 1</td><td> 4</td><td> 7</td></tr>\n",
       "\t<tr><td> 2</td><td> 5</td><td> 8</td></tr>\n",
       "\t<tr><td> 9</td><td>NA</td><td>12</td></tr>\n",
       "\t<tr><td>10</td><td>NA</td><td>13</td></tr>\n",
       "</tbody>\n",
       "</table>\n"
      ],
      "text/latex": [
       "\\begin{tabular}{r|lll}\n",
       " a & b & c\\\\\n",
       "\\hline\n",
       "\t  0 &  3 &  6\\\\\n",
       "\t  1 &  4 &  7\\\\\n",
       "\t  2 &  5 &  8\\\\\n",
       "\t  9 & NA & 12\\\\\n",
       "\t 10 & NA & 13\\\\\n",
       "\\end{tabular}\n"
      ],
      "text/markdown": [
       "\n",
       "| a | b | c |\n",
       "|---|---|---|\n",
       "|  0 |  3 |  6 |\n",
       "|  1 |  4 |  7 |\n",
       "|  2 |  5 |  8 |\n",
       "|  9 | NA | 12 |\n",
       "| 10 | NA | 13 |\n",
       "\n"
      ],
      "text/plain": [
       "  a  b  c \n",
       "1  0  3  6\n",
       "2  1  4  7\n",
       "3  2  5  8\n",
       "4  9 NA 12\n",
       "5 10 NA 13"
      ]
     },
     "metadata": {},
     "output_type": "display_data"
    }
   ],
   "source": [
    "bind_rows(df1, df3)  # from the dplyr library"
   ]
  },
  {
   "cell_type": "markdown",
   "id": "e2582675",
   "metadata": {},
   "source": [
    "## IV. filter dataframe"
   ]
  },
  {
   "cell_type": "code",
   "execution_count": 32,
   "id": "cfdc3066",
   "metadata": {},
   "outputs": [
    {
     "data": {
      "text/html": [
       "<table>\n",
       "<thead><tr><th scope=col>sciName</th><th scope=col>family</th><th scope=col>stage</th><th scope=col>count</th></tr></thead>\n",
       "<tbody>\n",
       "\t<tr><td>A </td><td>X </td><td>S1</td><td>1 </td></tr>\n",
       "\t<tr><td>B </td><td>X </td><td>S1</td><td>1 </td></tr>\n",
       "\t<tr><td>C </td><td>X </td><td>S1</td><td>1 </td></tr>\n",
       "\t<tr><td>A </td><td>Y </td><td>S1</td><td>1 </td></tr>\n",
       "\t<tr><td>B </td><td>Y </td><td>S1</td><td>1 </td></tr>\n",
       "\t<tr><td>C </td><td>Y </td><td>S1</td><td>1 </td></tr>\n",
       "\t<tr><td>A </td><td>X </td><td>S2</td><td>1 </td></tr>\n",
       "\t<tr><td>B </td><td>X </td><td>S2</td><td>1 </td></tr>\n",
       "\t<tr><td>C </td><td>X </td><td>S2</td><td>1 </td></tr>\n",
       "\t<tr><td>A </td><td>Y </td><td>S2</td><td>1 </td></tr>\n",
       "\t<tr><td>B </td><td>Y </td><td>S2</td><td>1 </td></tr>\n",
       "\t<tr><td>C </td><td>Y </td><td>S2</td><td>1 </td></tr>\n",
       "\t<tr><td>A </td><td>X </td><td>S3</td><td>1 </td></tr>\n",
       "\t<tr><td>B </td><td>X </td><td>S3</td><td>1 </td></tr>\n",
       "\t<tr><td>C </td><td>X </td><td>S3</td><td>1 </td></tr>\n",
       "\t<tr><td>A </td><td>Y </td><td>S3</td><td>1 </td></tr>\n",
       "\t<tr><td>B </td><td>Y </td><td>S3</td><td>1 </td></tr>\n",
       "\t<tr><td>C </td><td>Y </td><td>S3</td><td>1 </td></tr>\n",
       "\t<tr><td>A </td><td>X </td><td>S4</td><td>1 </td></tr>\n",
       "\t<tr><td>B </td><td>X </td><td>S4</td><td>1 </td></tr>\n",
       "\t<tr><td>C </td><td>X </td><td>S4</td><td>1 </td></tr>\n",
       "\t<tr><td>A </td><td>Y </td><td>S4</td><td>1 </td></tr>\n",
       "\t<tr><td>B </td><td>Y </td><td>S4</td><td>1 </td></tr>\n",
       "\t<tr><td>C </td><td>Y </td><td>S4</td><td>1 </td></tr>\n",
       "</tbody>\n",
       "</table>\n"
      ],
      "text/latex": [
       "\\begin{tabular}{r|llll}\n",
       " sciName & family & stage & count\\\\\n",
       "\\hline\n",
       "\t A  & X  & S1 & 1 \\\\\n",
       "\t B  & X  & S1 & 1 \\\\\n",
       "\t C  & X  & S1 & 1 \\\\\n",
       "\t A  & Y  & S1 & 1 \\\\\n",
       "\t B  & Y  & S1 & 1 \\\\\n",
       "\t C  & Y  & S1 & 1 \\\\\n",
       "\t A  & X  & S2 & 1 \\\\\n",
       "\t B  & X  & S2 & 1 \\\\\n",
       "\t C  & X  & S2 & 1 \\\\\n",
       "\t A  & Y  & S2 & 1 \\\\\n",
       "\t B  & Y  & S2 & 1 \\\\\n",
       "\t C  & Y  & S2 & 1 \\\\\n",
       "\t A  & X  & S3 & 1 \\\\\n",
       "\t B  & X  & S3 & 1 \\\\\n",
       "\t C  & X  & S3 & 1 \\\\\n",
       "\t A  & Y  & S3 & 1 \\\\\n",
       "\t B  & Y  & S3 & 1 \\\\\n",
       "\t C  & Y  & S3 & 1 \\\\\n",
       "\t A  & X  & S4 & 1 \\\\\n",
       "\t B  & X  & S4 & 1 \\\\\n",
       "\t C  & X  & S4 & 1 \\\\\n",
       "\t A  & Y  & S4 & 1 \\\\\n",
       "\t B  & Y  & S4 & 1 \\\\\n",
       "\t C  & Y  & S4 & 1 \\\\\n",
       "\\end{tabular}\n"
      ],
      "text/markdown": [
       "\n",
       "| sciName | family | stage | count |\n",
       "|---|---|---|---|\n",
       "| A  | X  | S1 | 1  |\n",
       "| B  | X  | S1 | 1  |\n",
       "| C  | X  | S1 | 1  |\n",
       "| A  | Y  | S1 | 1  |\n",
       "| B  | Y  | S1 | 1  |\n",
       "| C  | Y  | S1 | 1  |\n",
       "| A  | X  | S2 | 1  |\n",
       "| B  | X  | S2 | 1  |\n",
       "| C  | X  | S2 | 1  |\n",
       "| A  | Y  | S2 | 1  |\n",
       "| B  | Y  | S2 | 1  |\n",
       "| C  | Y  | S2 | 1  |\n",
       "| A  | X  | S3 | 1  |\n",
       "| B  | X  | S3 | 1  |\n",
       "| C  | X  | S3 | 1  |\n",
       "| A  | Y  | S3 | 1  |\n",
       "| B  | Y  | S3 | 1  |\n",
       "| C  | Y  | S3 | 1  |\n",
       "| A  | X  | S4 | 1  |\n",
       "| B  | X  | S4 | 1  |\n",
       "| C  | X  | S4 | 1  |\n",
       "| A  | Y  | S4 | 1  |\n",
       "| B  | Y  | S4 | 1  |\n",
       "| C  | Y  | S4 | 1  |\n",
       "\n"
      ],
      "text/plain": [
       "   sciName family stage count\n",
       "1  A       X      S1    1    \n",
       "2  B       X      S1    1    \n",
       "3  C       X      S1    1    \n",
       "4  A       Y      S1    1    \n",
       "5  B       Y      S1    1    \n",
       "6  C       Y      S1    1    \n",
       "7  A       X      S2    1    \n",
       "8  B       X      S2    1    \n",
       "9  C       X      S2    1    \n",
       "10 A       Y      S2    1    \n",
       "11 B       Y      S2    1    \n",
       "12 C       Y      S2    1    \n",
       "13 A       X      S3    1    \n",
       "14 B       X      S3    1    \n",
       "15 C       X      S3    1    \n",
       "16 A       Y      S3    1    \n",
       "17 B       Y      S3    1    \n",
       "18 C       Y      S3    1    \n",
       "19 A       X      S4    1    \n",
       "20 B       X      S4    1    \n",
       "21 C       X      S4    1    \n",
       "22 A       Y      S4    1    \n",
       "23 B       Y      S4    1    \n",
       "24 C       Y      S4    1    "
      ]
     },
     "metadata": {},
     "output_type": "display_data"
    }
   ],
   "source": [
    "library(dplyr)\n",
    "\n",
    "df <- cbind(expand.grid(sciName=list(\"A\", \"B\", \"C\"), family=list(\"X\", \"Y\"), stage=list(\"S1\", \"S2\", \"S3\", \"S4\")), count=1)\n",
    "df"
   ]
  },
  {
   "cell_type": "code",
   "execution_count": 33,
   "id": "727a2857",
   "metadata": {},
   "outputs": [
    {
     "data": {
      "text/html": [
       "<ol>\n",
       "\t<li><dl>\n",
       "\t<dt>$sciName</dt>\n",
       "\t\t<dd>'A'</dd>\n",
       "\t<dt>$stageVector</dt>\n",
       "\t\t<dd><ol class=list-inline>\n",
       "\t<li>'S2'</li>\n",
       "\t<li>'S3'</li>\n",
       "</ol>\n",
       "</dd>\n",
       "</dl>\n",
       "</li>\n",
       "\t<li><dl>\n",
       "\t<dt>$sciName</dt>\n",
       "\t\t<dd>'C'</dd>\n",
       "\t<dt>$stageVector</dt>\n",
       "\t\t<dd><ol class=list-inline>\n",
       "\t<li>'S3'</li>\n",
       "\t<li>'S4'</li>\n",
       "</ol>\n",
       "</dd>\n",
       "</dl>\n",
       "</li>\n",
       "</ol>\n"
      ],
      "text/latex": [
       "\\begin{enumerate}\n",
       "\\item \\begin{description}\n",
       "\\item[\\$sciName] 'A'\n",
       "\\item[\\$stageVector] \\begin{enumerate*}\n",
       "\\item 'S2'\n",
       "\\item 'S3'\n",
       "\\end{enumerate*}\n",
       "\n",
       "\\end{description}\n",
       "\n",
       "\\item \\begin{description}\n",
       "\\item[\\$sciName] 'C'\n",
       "\\item[\\$stageVector] \\begin{enumerate*}\n",
       "\\item 'S3'\n",
       "\\item 'S4'\n",
       "\\end{enumerate*}\n",
       "\n",
       "\\end{description}\n",
       "\n",
       "\\end{enumerate}\n"
      ],
      "text/markdown": [
       "1. $sciName\n",
       ":   'A'\n",
       "$stageVector\n",
       ":   1. 'S2'\n",
       "2. 'S3'\n",
       "\n",
       "\n",
       "\n",
       "\n",
       "\n",
       "\n",
       "2. $sciName\n",
       ":   'C'\n",
       "$stageVector\n",
       ":   1. 'S3'\n",
       "2. 'S4'\n",
       "\n",
       "\n",
       "\n",
       "\n",
       "\n",
       "\n",
       "\n",
       "\n"
      ],
      "text/plain": [
       "[[1]]\n",
       "[[1]]$sciName\n",
       "[1] \"A\"\n",
       "\n",
       "[[1]]$stageVector\n",
       "[1] \"S2\" \"S3\"\n",
       "\n",
       "\n",
       "[[2]]\n",
       "[[2]]$sciName\n",
       "[1] \"C\"\n",
       "\n",
       "[[2]]$stageVector\n",
       "[1] \"S3\" \"S4\"\n",
       "\n"
      ]
     },
     "metadata": {},
     "output_type": "display_data"
    }
   ],
   "source": [
    "# set up our filter conditions\n",
    "condition1 <- list(sciName=\"A\", stageVector=c(\"S2\", \"S3\"))\n",
    "condition2 <- list(sciName=\"C\", stageVector=c(\"S3\", \"S4\"))\n",
    "conditionList <- list(condition1, condition2)\n",
    "conditionList"
   ]
  },
  {
   "cell_type": "code",
   "execution_count": 34,
   "id": "f30ae0fe",
   "metadata": {},
   "outputs": [],
   "source": [
    "# Define the filtering function\n",
    "filterStages <- function(condition, df) {\n",
    "    subset.data <- df %>%\n",
    "        filter(sciName == condition$sciName) %>%\n",
    "        filter(stage %in% condition$stageVector)\n",
    "    return(subset.data)\n",
    "}"
   ]
  },
  {
   "cell_type": "code",
   "execution_count": 35,
   "id": "93b81ed6",
   "metadata": {},
   "outputs": [
    {
     "data": {
      "text/html": [
       "<table>\n",
       "<thead><tr><th scope=col>sciName</th><th scope=col>family</th><th scope=col>stage</th><th scope=col>count</th></tr></thead>\n",
       "<tbody>\n",
       "\t<tr><td>A </td><td>X </td><td>S2</td><td>1 </td></tr>\n",
       "\t<tr><td>A </td><td>Y </td><td>S2</td><td>1 </td></tr>\n",
       "\t<tr><td>A </td><td>X </td><td>S3</td><td>1 </td></tr>\n",
       "\t<tr><td>A </td><td>Y </td><td>S3</td><td>1 </td></tr>\n",
       "</tbody>\n",
       "</table>\n"
      ],
      "text/latex": [
       "\\begin{tabular}{r|llll}\n",
       " sciName & family & stage & count\\\\\n",
       "\\hline\n",
       "\t A  & X  & S2 & 1 \\\\\n",
       "\t A  & Y  & S2 & 1 \\\\\n",
       "\t A  & X  & S3 & 1 \\\\\n",
       "\t A  & Y  & S3 & 1 \\\\\n",
       "\\end{tabular}\n"
      ],
      "text/markdown": [
       "\n",
       "| sciName | family | stage | count |\n",
       "|---|---|---|---|\n",
       "| A  | X  | S2 | 1  |\n",
       "| A  | Y  | S2 | 1  |\n",
       "| A  | X  | S3 | 1  |\n",
       "| A  | Y  | S3 | 1  |\n",
       "\n"
      ],
      "text/plain": [
       "  sciName family stage count\n",
       "1 A       X      S2    1    \n",
       "2 A       Y      S2    1    \n",
       "3 A       X      S3    1    \n",
       "4 A       Y      S3    1    "
      ]
     },
     "metadata": {},
     "output_type": "display_data"
    },
    {
     "data": {
      "text/html": [
       "<table>\n",
       "<thead><tr><th scope=col>sciName</th><th scope=col>family</th><th scope=col>stage</th><th scope=col>count</th></tr></thead>\n",
       "<tbody>\n",
       "\t<tr><td>C </td><td>X </td><td>S3</td><td>1 </td></tr>\n",
       "\t<tr><td>C </td><td>Y </td><td>S3</td><td>1 </td></tr>\n",
       "\t<tr><td>C </td><td>X </td><td>S4</td><td>1 </td></tr>\n",
       "\t<tr><td>C </td><td>Y </td><td>S4</td><td>1 </td></tr>\n",
       "</tbody>\n",
       "</table>\n"
      ],
      "text/latex": [
       "\\begin{tabular}{r|llll}\n",
       " sciName & family & stage & count\\\\\n",
       "\\hline\n",
       "\t C  & X  & S3 & 1 \\\\\n",
       "\t C  & Y  & S3 & 1 \\\\\n",
       "\t C  & X  & S4 & 1 \\\\\n",
       "\t C  & Y  & S4 & 1 \\\\\n",
       "\\end{tabular}\n"
      ],
      "text/markdown": [
       "\n",
       "| sciName | family | stage | count |\n",
       "|---|---|---|---|\n",
       "| C  | X  | S3 | 1  |\n",
       "| C  | Y  | S3 | 1  |\n",
       "| C  | X  | S4 | 1  |\n",
       "| C  | Y  | S4 | 1  |\n",
       "\n"
      ],
      "text/plain": [
       "  sciName family stage count\n",
       "1 C       X      S3    1    \n",
       "2 C       Y      S3    1    \n",
       "3 C       X      S4    1    \n",
       "4 C       Y      S4    1    "
      ]
     },
     "metadata": {},
     "output_type": "display_data"
    }
   ],
   "source": [
    "# demo the filter function working on a single condition at a time\n",
    "filterStages(condition1, df)\n",
    "filterStages(condition2, df)"
   ]
  },
  {
   "cell_type": "code",
   "execution_count": 36,
   "id": "c4380b1f",
   "metadata": {},
   "outputs": [
    {
     "data": {
      "text/html": [
       "<ol>\n",
       "\t<li><table>\n",
       "<thead><tr><th scope=col>sciName</th><th scope=col>family</th><th scope=col>stage</th><th scope=col>count</th></tr></thead>\n",
       "<tbody>\n",
       "\t<tr><td>A </td><td>X </td><td>S2</td><td>1 </td></tr>\n",
       "\t<tr><td>A </td><td>Y </td><td>S2</td><td>1 </td></tr>\n",
       "\t<tr><td>A </td><td>X </td><td>S3</td><td>1 </td></tr>\n",
       "\t<tr><td>A </td><td>Y </td><td>S3</td><td>1 </td></tr>\n",
       "</tbody>\n",
       "</table>\n",
       "</li>\n",
       "\t<li><table>\n",
       "<thead><tr><th scope=col>sciName</th><th scope=col>family</th><th scope=col>stage</th><th scope=col>count</th></tr></thead>\n",
       "<tbody>\n",
       "\t<tr><td>C </td><td>X </td><td>S3</td><td>1 </td></tr>\n",
       "\t<tr><td>C </td><td>Y </td><td>S3</td><td>1 </td></tr>\n",
       "\t<tr><td>C </td><td>X </td><td>S4</td><td>1 </td></tr>\n",
       "\t<tr><td>C </td><td>Y </td><td>S4</td><td>1 </td></tr>\n",
       "</tbody>\n",
       "</table>\n",
       "</li>\n",
       "</ol>\n"
      ],
      "text/latex": [
       "\\begin{enumerate}\n",
       "\\item \\begin{tabular}{r|llll}\n",
       " sciName & family & stage & count\\\\\n",
       "\\hline\n",
       "\t A  & X  & S2 & 1 \\\\\n",
       "\t A  & Y  & S2 & 1 \\\\\n",
       "\t A  & X  & S3 & 1 \\\\\n",
       "\t A  & Y  & S3 & 1 \\\\\n",
       "\\end{tabular}\n",
       "\n",
       "\\item \\begin{tabular}{r|llll}\n",
       " sciName & family & stage & count\\\\\n",
       "\\hline\n",
       "\t C  & X  & S3 & 1 \\\\\n",
       "\t C  & Y  & S3 & 1 \\\\\n",
       "\t C  & X  & S4 & 1 \\\\\n",
       "\t C  & Y  & S4 & 1 \\\\\n",
       "\\end{tabular}\n",
       "\n",
       "\\end{enumerate}\n"
      ],
      "text/markdown": [
       "1. \n",
       "| sciName | family | stage | count |\n",
       "|---|---|---|---|\n",
       "| A  | X  | S2 | 1  |\n",
       "| A  | Y  | S2 | 1  |\n",
       "| A  | X  | S3 | 1  |\n",
       "| A  | Y  | S3 | 1  |\n",
       "\n",
       "\n",
       "2. \n",
       "| sciName | family | stage | count |\n",
       "|---|---|---|---|\n",
       "| C  | X  | S3 | 1  |\n",
       "| C  | Y  | S3 | 1  |\n",
       "| C  | X  | S4 | 1  |\n",
       "| C  | Y  | S4 | 1  |\n",
       "\n",
       "\n",
       "\n",
       "\n"
      ],
      "text/plain": [
       "[[1]]\n",
       "  sciName family stage count\n",
       "1       A      X    S2     1\n",
       "2       A      Y    S2     1\n",
       "3       A      X    S3     1\n",
       "4       A      Y    S3     1\n",
       "\n",
       "[[2]]\n",
       "  sciName family stage count\n",
       "1       C      X    S3     1\n",
       "2       C      Y    S3     1\n",
       "3       C      X    S4     1\n",
       "4       C      Y    S4     1\n"
      ]
     },
     "metadata": {},
     "output_type": "display_data"
    }
   ],
   "source": [
    "# demo the filter function working over a list of conditions\n",
    "resultDataList <- lapply(conditionList, filterStages, df)\n",
    "resultDataList"
   ]
  },
  {
   "cell_type": "markdown",
   "id": "9f610892",
   "metadata": {},
   "source": [
    "## V. Aggregate df"
   ]
  },
  {
   "cell_type": "code",
   "execution_count": 37,
   "id": "f92fe803",
   "metadata": {},
   "outputs": [
    {
     "data": {
      "text/html": [
       "<table>\n",
       "<thead><tr><th scope=col>Company</th><th scope=col>Name</th><th scope=col>Age</th><th scope=col>Wages</th><th scope=col>Education.University</th><th scope=col>Productivity</th></tr></thead>\n",
       "<tbody>\n",
       "\t<tr><td>A      </td><td>Wayne  </td><td>26     </td><td>50000  </td><td>1      </td><td>100    </td></tr>\n",
       "\t<tr><td>A      </td><td>Wayne  </td><td>27     </td><td>70000  </td><td>1      </td><td>120    </td></tr>\n",
       "\t<tr><td>B      </td><td>William</td><td>28     </td><td>70000  </td><td>1      </td><td>120    </td></tr>\n",
       "\t<tr><td>C      </td><td>Rafael </td><td>32     </td><td>60000  </td><td>0      </td><td> 95    </td></tr>\n",
       "\t<tr><td>A      </td><td>John   </td><td>28     </td><td>50000  </td><td>0      </td><td> 88    </td></tr>\n",
       "\t<tr><td>B      </td><td>Eric   </td><td>24     </td><td>70000  </td><td>1      </td><td>115    </td></tr>\n",
       "\t<tr><td>B      </td><td>James  </td><td>34     </td><td>65000  </td><td>1      </td><td>100    </td></tr>\n",
       "\t<tr><td>C      </td><td>Pablo  </td><td>30     </td><td>50000  </td><td>0      </td><td> 90    </td></tr>\n",
       "\t<tr><td>C      </td><td>Tammy  </td><td>25     </td><td>50000  </td><td>1      </td><td>120    </td></tr>\n",
       "</tbody>\n",
       "</table>\n"
      ],
      "text/latex": [
       "\\begin{tabular}{r|llllll}\n",
       " Company & Name & Age & Wages & Education.University & Productivity\\\\\n",
       "\\hline\n",
       "\t A       & Wayne   & 26      & 50000   & 1       & 100    \\\\\n",
       "\t A       & Wayne   & 27      & 70000   & 1       & 120    \\\\\n",
       "\t B       & William & 28      & 70000   & 1       & 120    \\\\\n",
       "\t C       & Rafael  & 32      & 60000   & 0       &  95    \\\\\n",
       "\t A       & John    & 28      & 50000   & 0       &  88    \\\\\n",
       "\t B       & Eric    & 24      & 70000   & 1       & 115    \\\\\n",
       "\t B       & James   & 34      & 65000   & 1       & 100    \\\\\n",
       "\t C       & Pablo   & 30      & 50000   & 0       &  90    \\\\\n",
       "\t C       & Tammy   & 25      & 50000   & 1       & 120    \\\\\n",
       "\\end{tabular}\n"
      ],
      "text/markdown": [
       "\n",
       "| Company | Name | Age | Wages | Education.University | Productivity |\n",
       "|---|---|---|---|---|---|\n",
       "| A       | Wayne   | 26      | 50000   | 1       | 100     |\n",
       "| A       | Wayne   | 27      | 70000   | 1       | 120     |\n",
       "| B       | William | 28      | 70000   | 1       | 120     |\n",
       "| C       | Rafael  | 32      | 60000   | 0       |  95     |\n",
       "| A       | John    | 28      | 50000   | 0       |  88     |\n",
       "| B       | Eric    | 24      | 70000   | 1       | 115     |\n",
       "| B       | James   | 34      | 65000   | 1       | 100     |\n",
       "| C       | Pablo   | 30      | 50000   | 0       |  90     |\n",
       "| C       | Tammy   | 25      | 50000   | 1       | 120     |\n",
       "\n"
      ],
      "text/plain": [
       "  Company Name    Age Wages Education.University Productivity\n",
       "1 A       Wayne   26  50000 1                    100         \n",
       "2 A       Wayne   27  70000 1                    120         \n",
       "3 B       William 28  70000 1                    120         \n",
       "4 C       Rafael  32  60000 0                     95         \n",
       "5 A       John    28  50000 0                     88         \n",
       "6 B       Eric    24  70000 1                    115         \n",
       "7 B       James   34  65000 1                    100         \n",
       "8 C       Pablo   30  50000 0                     90         \n",
       "9 C       Tammy   25  50000 1                    120         "
      ]
     },
     "metadata": {},
     "output_type": "display_data"
    }
   ],
   "source": [
    "df <- data.frame(Company = c('A', 'A', 'B', 'C', 'A', 'B', 'B', 'C', 'C'), \n",
    "                 Name = c(\"Wayne\", \"Wayne\", \"William\", \"Rafael\", \"John\", \"Eric\", \"James\", \"Pablo\", \"Tammy\"), \n",
    "                 Age = c(26, 27, 28, 32, 28, 24, 34, 30, 25), \n",
    "                 Wages = c(50000, 70000, 70000, 60000, 50000, 70000, 65000, 50000, 50000), \n",
    "                 Education.University = c(1, 1, 1, 0, 0, 1, 1, 0, 1), \n",
    "                 Productivity = c(100, 120, 120, 95, 88, 115, 100, 90, 120))\n",
    "df"
   ]
  },
  {
   "cell_type": "markdown",
   "id": "e8fb8332",
   "metadata": {},
   "source": [
    "### group_by and summarise"
   ]
  },
  {
   "cell_type": "code",
   "execution_count": 38,
   "id": "dde064d5",
   "metadata": {},
   "outputs": [
    {
     "data": {
      "text/html": [
       "<table>\n",
       "<thead><tr><th scope=col>Company</th><th scope=col>Age</th><th scope=col>Wages</th><th scope=col>Education.University</th><th scope=col>Productivity</th></tr></thead>\n",
       "<tbody>\n",
       "\t<tr><td>A       </td><td>27.00000</td><td>56666.67</td><td>2       </td><td>102.6667</td></tr>\n",
       "\t<tr><td>B       </td><td>28.66667</td><td>68333.33</td><td>3       </td><td>111.6667</td></tr>\n",
       "\t<tr><td>C       </td><td>29.00000</td><td>53333.33</td><td>1       </td><td>101.6667</td></tr>\n",
       "</tbody>\n",
       "</table>\n"
      ],
      "text/latex": [
       "\\begin{tabular}{r|lllll}\n",
       " Company & Age & Wages & Education.University & Productivity\\\\\n",
       "\\hline\n",
       "\t A        & 27.00000 & 56666.67 & 2        & 102.6667\\\\\n",
       "\t B        & 28.66667 & 68333.33 & 3        & 111.6667\\\\\n",
       "\t C        & 29.00000 & 53333.33 & 1        & 101.6667\\\\\n",
       "\\end{tabular}\n"
      ],
      "text/markdown": [
       "\n",
       "| Company | Age | Wages | Education.University | Productivity |\n",
       "|---|---|---|---|---|\n",
       "| A        | 27.00000 | 56666.67 | 2        | 102.6667 |\n",
       "| B        | 28.66667 | 68333.33 | 3        | 111.6667 |\n",
       "| C        | 29.00000 | 53333.33 | 1        | 101.6667 |\n",
       "\n"
      ],
      "text/plain": [
       "  Company Age      Wages    Education.University Productivity\n",
       "1 A       27.00000 56666.67 2                    102.6667    \n",
       "2 B       28.66667 68333.33 3                    111.6667    \n",
       "3 C       29.00000 53333.33 1                    101.6667    "
      ]
     },
     "metadata": {},
     "output_type": "display_data"
    }
   ],
   "source": [
    "df_summary <- df %>% \n",
    "                group_by(Company) %>% \n",
    "                summarise(Age = mean(Age), \n",
    "                          Wages = mean(Wages), \n",
    "                          Education.University = sum(Education.University), \n",
    "                          Productivity = mean(Productivity))\n",
    "df_summary"
   ]
  },
  {
   "cell_type": "markdown",
   "id": "7e6c1cc5",
   "metadata": {},
   "source": [
    "### group_by_at, vars and summarise"
   ]
  },
  {
   "cell_type": "code",
   "execution_count": 39,
   "id": "e78609bf",
   "metadata": {},
   "outputs": [
    {
     "name": "stderr",
     "output_type": "stream",
     "text": [
      "`summarise()` has grouped output by 'Company'. You can override using the `.groups` argument.\n"
     ]
    },
    {
     "data": {
      "text/html": [
       "<table>\n",
       "<thead><tr><th scope=col>Company</th><th scope=col>Name</th><th scope=col>Age</th></tr></thead>\n",
       "<tbody>\n",
       "\t<tr><td>A      </td><td>John   </td><td>28.0   </td></tr>\n",
       "\t<tr><td>A      </td><td>Wayne  </td><td>26.5   </td></tr>\n",
       "\t<tr><td>B      </td><td>Eric   </td><td>24.0   </td></tr>\n",
       "\t<tr><td>B      </td><td>James  </td><td>34.0   </td></tr>\n",
       "\t<tr><td>B      </td><td>William</td><td>28.0   </td></tr>\n",
       "\t<tr><td>C      </td><td>Pablo  </td><td>30.0   </td></tr>\n",
       "\t<tr><td>C      </td><td>Rafael </td><td>32.0   </td></tr>\n",
       "\t<tr><td>C      </td><td>Tammy  </td><td>25.0   </td></tr>\n",
       "</tbody>\n",
       "</table>\n"
      ],
      "text/latex": [
       "\\begin{tabular}{r|lll}\n",
       " Company & Name & Age\\\\\n",
       "\\hline\n",
       "\t A       & John    & 28.0   \\\\\n",
       "\t A       & Wayne   & 26.5   \\\\\n",
       "\t B       & Eric    & 24.0   \\\\\n",
       "\t B       & James   & 34.0   \\\\\n",
       "\t B       & William & 28.0   \\\\\n",
       "\t C       & Pablo   & 30.0   \\\\\n",
       "\t C       & Rafael  & 32.0   \\\\\n",
       "\t C       & Tammy   & 25.0   \\\\\n",
       "\\end{tabular}\n"
      ],
      "text/markdown": [
       "\n",
       "| Company | Name | Age |\n",
       "|---|---|---|\n",
       "| A       | John    | 28.0    |\n",
       "| A       | Wayne   | 26.5    |\n",
       "| B       | Eric    | 24.0    |\n",
       "| B       | James   | 34.0    |\n",
       "| B       | William | 28.0    |\n",
       "| C       | Pablo   | 30.0    |\n",
       "| C       | Rafael  | 32.0    |\n",
       "| C       | Tammy   | 25.0    |\n",
       "\n"
      ],
      "text/plain": [
       "  Company Name    Age \n",
       "1 A       John    28.0\n",
       "2 A       Wayne   26.5\n",
       "3 B       Eric    24.0\n",
       "4 B       James   34.0\n",
       "5 B       William 28.0\n",
       "6 C       Pablo   30.0\n",
       "7 C       Rafael  32.0\n",
       "8 C       Tammy   25.0"
      ]
     },
     "metadata": {},
     "output_type": "display_data"
    }
   ],
   "source": [
    "df_summary_1 <- df %>%\n",
    "                group_by_at(vars(one_of(c(\"Company\", \"Name\")))) %>%\n",
    "                summarize(Age = mean(Age))\n",
    "df_summary_1"
   ]
  },
  {
   "cell_type": "markdown",
   "id": "62856529",
   "metadata": {},
   "source": [
    "### Aggregate"
   ]
  },
  {
   "cell_type": "code",
   "execution_count": 40,
   "id": "7cc56f8b",
   "metadata": {},
   "outputs": [
    {
     "data": {
      "text/html": [
       "<table>\n",
       "<thead><tr><th scope=col>Company</th><th scope=col>Name</th><th scope=col>Age</th><th scope=col>Wages</th><th scope=col>Education.University</th><th scope=col>Productivity</th></tr></thead>\n",
       "<tbody>\n",
       "\t<tr><td>B      </td><td>Eric   </td><td>24.0   </td><td>70000  </td><td>1      </td><td>115    </td></tr>\n",
       "\t<tr><td>B      </td><td>James  </td><td>34.0   </td><td>65000  </td><td>1      </td><td>100    </td></tr>\n",
       "\t<tr><td>A      </td><td>John   </td><td>28.0   </td><td>50000  </td><td>0      </td><td> 88    </td></tr>\n",
       "\t<tr><td>C      </td><td>Pablo  </td><td>30.0   </td><td>50000  </td><td>0      </td><td> 90    </td></tr>\n",
       "\t<tr><td>C      </td><td>Rafael </td><td>32.0   </td><td>60000  </td><td>0      </td><td> 95    </td></tr>\n",
       "\t<tr><td>C      </td><td>Tammy  </td><td>25.0   </td><td>50000  </td><td>1      </td><td>120    </td></tr>\n",
       "\t<tr><td>A      </td><td>Wayne  </td><td>26.5   </td><td>60000  </td><td>1      </td><td>110    </td></tr>\n",
       "\t<tr><td>B      </td><td>William</td><td>28.0   </td><td>70000  </td><td>1      </td><td>120    </td></tr>\n",
       "</tbody>\n",
       "</table>\n"
      ],
      "text/latex": [
       "\\begin{tabular}{r|llllll}\n",
       " Company & Name & Age & Wages & Education.University & Productivity\\\\\n",
       "\\hline\n",
       "\t B       & Eric    & 24.0    & 70000   & 1       & 115    \\\\\n",
       "\t B       & James   & 34.0    & 65000   & 1       & 100    \\\\\n",
       "\t A       & John    & 28.0    & 50000   & 0       &  88    \\\\\n",
       "\t C       & Pablo   & 30.0    & 50000   & 0       &  90    \\\\\n",
       "\t C       & Rafael  & 32.0    & 60000   & 0       &  95    \\\\\n",
       "\t C       & Tammy   & 25.0    & 50000   & 1       & 120    \\\\\n",
       "\t A       & Wayne   & 26.5    & 60000   & 1       & 110    \\\\\n",
       "\t B       & William & 28.0    & 70000   & 1       & 120    \\\\\n",
       "\\end{tabular}\n"
      ],
      "text/markdown": [
       "\n",
       "| Company | Name | Age | Wages | Education.University | Productivity |\n",
       "|---|---|---|---|---|---|\n",
       "| B       | Eric    | 24.0    | 70000   | 1       | 115     |\n",
       "| B       | James   | 34.0    | 65000   | 1       | 100     |\n",
       "| A       | John    | 28.0    | 50000   | 0       |  88     |\n",
       "| C       | Pablo   | 30.0    | 50000   | 0       |  90     |\n",
       "| C       | Rafael  | 32.0    | 60000   | 0       |  95     |\n",
       "| C       | Tammy   | 25.0    | 50000   | 1       | 120     |\n",
       "| A       | Wayne   | 26.5    | 60000   | 1       | 110     |\n",
       "| B       | William | 28.0    | 70000   | 1       | 120     |\n",
       "\n"
      ],
      "text/plain": [
       "  Company Name    Age  Wages Education.University Productivity\n",
       "1 B       Eric    24.0 70000 1                    115         \n",
       "2 B       James   34.0 65000 1                    100         \n",
       "3 A       John    28.0 50000 0                     88         \n",
       "4 C       Pablo   30.0 50000 0                     90         \n",
       "5 C       Rafael  32.0 60000 0                     95         \n",
       "6 C       Tammy   25.0 50000 1                    120         \n",
       "7 A       Wayne   26.5 60000 1                    110         \n",
       "8 B       William 28.0 70000 1                    120         "
      ]
     },
     "metadata": {},
     "output_type": "display_data"
    }
   ],
   "source": [
    "aggregate(x = df[c(\"Age\",\"Wages\",\"Education.University\",\"Productivity\")], \n",
    "          by = df[c(\"Company\", \"Name\")], \n",
    "          FUN = mean)"
   ]
  },
  {
   "cell_type": "markdown",
   "id": "cd6a94ce",
   "metadata": {},
   "source": [
    "## VI. Pivot and Transpose dataframe"
   ]
  },
  {
   "cell_type": "code",
   "execution_count": 41,
   "id": "3092b27c",
   "metadata": {},
   "outputs": [],
   "source": [
    "# install.packages(\"tidyverse\")\n",
    "# library(tidyverse)"
   ]
  },
  {
   "cell_type": "code",
   "execution_count": 42,
   "id": "a9b00964",
   "metadata": {},
   "outputs": [
    {
     "data": {
      "text/html": [
       "<dl class=dl-horizontal>\n",
       "\t<dt>Package</dt>\n",
       "\t\t<dd>'tidyr'</dd>\n",
       "\t<dt>Version</dt>\n",
       "\t\t<dd>'1.1.3'</dd>\n",
       "\t<dt>Priority</dt>\n",
       "\t\t<dd>NA</dd>\n",
       "\t<dt>Depends</dt>\n",
       "\t\t<dd>'R (&gt;= 3.1)'</dd>\n",
       "\t<dt>Imports</dt>\n",
       "\t\t<dd>'dplyr (&gt;= 0.8.2), ellipsis (&gt;= 0.1.0), glue, lifecycle,\\nmagrittr, purrr, rlang, tibble (&gt;= 2.1.1), tidyselect (&gt;=\\n1.1.0), utils, vctrs (&gt;= 0.3.6)'</dd>\n",
       "\t<dt>LinkingTo</dt>\n",
       "\t\t<dd>'cpp11 (&gt;= 0.2.6)'</dd>\n",
       "\t<dt>Suggests</dt>\n",
       "\t\t<dd>'covr, data.table, jsonlite, knitr, readr, repurrrsive (&gt;=\\n1.0.0), rmarkdown, testthat (&gt;= 3.0.0)'</dd>\n",
       "\t<dt>Enhances</dt>\n",
       "\t\t<dd>NA</dd>\n",
       "\t<dt>License</dt>\n",
       "\t\t<dd>'MIT + file LICENSE'</dd>\n",
       "\t<dt>License_is_FOSS</dt>\n",
       "\t\t<dd>NA</dd>\n",
       "\t<dt>License_restricts_use</dt>\n",
       "\t\t<dd>NA</dd>\n",
       "\t<dt>OS_type</dt>\n",
       "\t\t<dd>NA</dd>\n",
       "\t<dt>Archs</dt>\n",
       "\t\t<dd>NA</dd>\n",
       "\t<dt>MD5sum</dt>\n",
       "\t\t<dd>'2a292871a810d894c797b9aa9beb8992'</dd>\n",
       "\t<dt>NeedsCompilation</dt>\n",
       "\t\t<dd>'yes'</dd>\n",
       "\t<dt>File</dt>\n",
       "\t\t<dd>NA</dd>\n",
       "\t<dt>Repository</dt>\n",
       "\t\t<dd>'https://cran.r-project.org/src/contrib'</dd>\n",
       "</dl>\n"
      ],
      "text/latex": [
       "\\begin{description*}\n",
       "\\item[Package] 'tidyr'\n",
       "\\item[Version] '1.1.3'\n",
       "\\item[Priority] NA\n",
       "\\item[Depends] 'R (>= 3.1)'\n",
       "\\item[Imports] 'dplyr (>= 0.8.2), ellipsis (>= 0.1.0), glue, lifecycle,\\textbackslash{}nmagrittr, purrr, rlang, tibble (>= 2.1.1), tidyselect (>=\\textbackslash{}n1.1.0), utils, vctrs (>= 0.3.6)'\n",
       "\\item[LinkingTo] 'cpp11 (>= 0.2.6)'\n",
       "\\item[Suggests] 'covr, data.table, jsonlite, knitr, readr, repurrrsive (>=\\textbackslash{}n1.0.0), rmarkdown, testthat (>= 3.0.0)'\n",
       "\\item[Enhances] NA\n",
       "\\item[License] 'MIT + file LICENSE'\n",
       "\\item[License\\textbackslash{}\\_is\\textbackslash{}\\_FOSS] NA\n",
       "\\item[License\\textbackslash{}\\_restricts\\textbackslash{}\\_use] NA\n",
       "\\item[OS\\textbackslash{}\\_type] NA\n",
       "\\item[Archs] NA\n",
       "\\item[MD5sum] '2a292871a810d894c797b9aa9beb8992'\n",
       "\\item[NeedsCompilation] 'yes'\n",
       "\\item[File] NA\n",
       "\\item[Repository] 'https://cran.r-project.org/src/contrib'\n",
       "\\end{description*}\n"
      ],
      "text/markdown": [
       "Package\n",
       ":   'tidyr'Version\n",
       ":   '1.1.3'Priority\n",
       ":   NADepends\n",
       ":   'R (&gt;= 3.1)'Imports\n",
       ":   'dplyr (&gt;= 0.8.2), ellipsis (&gt;= 0.1.0), glue, lifecycle,\\nmagrittr, purrr, rlang, tibble (&gt;= 2.1.1), tidyselect (&gt;=\\n1.1.0), utils, vctrs (&gt;= 0.3.6)'LinkingTo\n",
       ":   'cpp11 (&gt;= 0.2.6)'Suggests\n",
       ":   'covr, data.table, jsonlite, knitr, readr, repurrrsive (&gt;=\\n1.0.0), rmarkdown, testthat (&gt;= 3.0.0)'Enhances\n",
       ":   NALicense\n",
       ":   'MIT + file LICENSE'License_is_FOSS\n",
       ":   NALicense_restricts_use\n",
       ":   NAOS_type\n",
       ":   NAArchs\n",
       ":   NAMD5sum\n",
       ":   '2a292871a810d894c797b9aa9beb8992'NeedsCompilation\n",
       ":   'yes'File\n",
       ":   NARepository\n",
       ":   'https://cran.r-project.org/src/contrib'\n",
       "\n"
      ],
      "text/plain": [
       "                                                                                                                                              Package \n",
       "                                                                                                                                              \"tidyr\" \n",
       "                                                                                                                                              Version \n",
       "                                                                                                                                              \"1.1.3\" \n",
       "                                                                                                                                             Priority \n",
       "                                                                                                                                                   NA \n",
       "                                                                                                                                              Depends \n",
       "                                                                                                                                         \"R (>= 3.1)\" \n",
       "                                                                                                                                              Imports \n",
       "\"dplyr (>= 0.8.2), ellipsis (>= 0.1.0), glue, lifecycle,\\nmagrittr, purrr, rlang, tibble (>= 2.1.1), tidyselect (>=\\n1.1.0), utils, vctrs (>= 0.3.6)\" \n",
       "                                                                                                                                            LinkingTo \n",
       "                                                                                                                                   \"cpp11 (>= 0.2.6)\" \n",
       "                                                                                                                                             Suggests \n",
       "                                                  \"covr, data.table, jsonlite, knitr, readr, repurrrsive (>=\\n1.0.0), rmarkdown, testthat (>= 3.0.0)\" \n",
       "                                                                                                                                             Enhances \n",
       "                                                                                                                                                   NA \n",
       "                                                                                                                                              License \n",
       "                                                                                                                                 \"MIT + file LICENSE\" \n",
       "                                                                                                                                      License_is_FOSS \n",
       "                                                                                                                                                   NA \n",
       "                                                                                                                                License_restricts_use \n",
       "                                                                                                                                                   NA \n",
       "                                                                                                                                              OS_type \n",
       "                                                                                                                                                   NA \n",
       "                                                                                                                                                Archs \n",
       "                                                                                                                                                   NA \n",
       "                                                                                                                                               MD5sum \n",
       "                                                                                                                   \"2a292871a810d894c797b9aa9beb8992\" \n",
       "                                                                                                                                     NeedsCompilation \n",
       "                                                                                                                                                \"yes\" \n",
       "                                                                                                                                                 File \n",
       "                                                                                                                                                   NA \n",
       "                                                                                                                                           Repository \n",
       "                                                                                                             \"https://cran.r-project.org/src/contrib\" "
      ]
     },
     "metadata": {},
     "output_type": "display_data"
    },
    {
     "data": {
      "text/plain": [
       "[1] '3.6.1'"
      ]
     },
     "metadata": {},
     "output_type": "display_data"
    }
   ],
   "source": [
    "available.packages()[\"tidyr\",]\n",
    "package_version(R.version)\n",
    "# print(sessionInfo())\n",
    "# print(version)"
   ]
  },
  {
   "cell_type": "code",
   "execution_count": 43,
   "id": "84f7bdc7",
   "metadata": {},
   "outputs": [
    {
     "name": "stderr",
     "output_type": "stream",
     "text": [
      "Warning message:\n",
      "\"package 'tidyr' was built under R version 3.6.3\""
     ]
    }
   ],
   "source": [
    "# install.packages(\"tidyr\")\n",
    "library(tidyr)\n",
    "library(dplyr)"
   ]
  },
  {
   "cell_type": "code",
   "execution_count": 44,
   "id": "55ae9e06",
   "metadata": {},
   "outputs": [
    {
     "data": {
      "text/html": [
       "<table>\n",
       "<thead><tr><th scope=col>NUM</th><th scope=col>Type</th><th scope=col>Points</th></tr></thead>\n",
       "<tbody>\n",
       "\t<tr><td>45    </td><td>A     </td><td>   9.2</td></tr>\n",
       "\t<tr><td>45    </td><td>F     </td><td>  60.8</td></tr>\n",
       "\t<tr><td>45    </td><td>C     </td><td>  22.9</td></tr>\n",
       "\t<tr><td>45    </td><td>B     </td><td>1012.7</td></tr>\n",
       "\t<tr><td>48    </td><td>D     </td><td>  18.7</td></tr>\n",
       "\t<tr><td>50    </td><td>A     </td><td>  11.1</td></tr>\n",
       "\t<tr><td>66    </td><td>E     </td><td>  67.2</td></tr>\n",
       "\t<tr><td>66    </td><td>C     </td><td>  63.1</td></tr>\n",
       "\t<tr><td>66    </td><td>F     </td><td>  16.7</td></tr>\n",
       "\t<tr><td>68    </td><td>D     </td><td>  58.4</td></tr>\n",
       "</tbody>\n",
       "</table>\n"
      ],
      "text/latex": [
       "\\begin{tabular}{r|lll}\n",
       " NUM & Type & Points\\\\\n",
       "\\hline\n",
       "\t 45     & A      &    9.2\\\\\n",
       "\t 45     & F      &   60.8\\\\\n",
       "\t 45     & C      &   22.9\\\\\n",
       "\t 45     & B      & 1012.7\\\\\n",
       "\t 48     & D      &   18.7\\\\\n",
       "\t 50     & A      &   11.1\\\\\n",
       "\t 66     & E      &   67.2\\\\\n",
       "\t 66     & C      &   63.1\\\\\n",
       "\t 66     & F      &   16.7\\\\\n",
       "\t 68     & D      &   58.4\\\\\n",
       "\\end{tabular}\n"
      ],
      "text/markdown": [
       "\n",
       "| NUM | Type | Points |\n",
       "|---|---|---|\n",
       "| 45     | A      |    9.2 |\n",
       "| 45     | F      |   60.8 |\n",
       "| 45     | C      |   22.9 |\n",
       "| 45     | B      | 1012.7 |\n",
       "| 48     | D      |   18.7 |\n",
       "| 50     | A      |   11.1 |\n",
       "| 66     | E      |   67.2 |\n",
       "| 66     | C      |   63.1 |\n",
       "| 66     | F      |   16.7 |\n",
       "| 68     | D      |   58.4 |\n",
       "\n"
      ],
      "text/plain": [
       "   NUM Type Points\n",
       "1  45  A       9.2\n",
       "2  45  F      60.8\n",
       "3  45  C      22.9\n",
       "4  45  B    1012.7\n",
       "5  48  D      18.7\n",
       "6  50  A      11.1\n",
       "7  66  E      67.2\n",
       "8  66  C      63.1\n",
       "9  66  F      16.7\n",
       "10 68  D      58.4"
      ]
     },
     "metadata": {},
     "output_type": "display_data"
    }
   ],
   "source": [
    "NUM <- c(\"45\", \"45\", \"45\", \"45\", \"48\", \"50\", \"66\", \"66\", \"66\", \"68\")\n",
    "Type <- c(\"A\", \"F\", \"C\", \"B\", \"D\", \"A\", \"E\", \"C\", \"F\", \"D\")\n",
    "Points <- c(9.2,60.8,22.9,1012.7,18.7,11.1,67.2,63.1,16.7,58.4)\n",
    "df <- data.frame(NUM, Type, Points)\n",
    "df"
   ]
  },
  {
   "cell_type": "markdown",
   "id": "fe4ae375",
   "metadata": {},
   "source": [
    "### pivot_wider() function"
   ]
  },
  {
   "cell_type": "code",
   "execution_count": 45,
   "id": "997661db",
   "metadata": {},
   "outputs": [
    {
     "data": {
      "text/html": [
       "<table>\n",
       "<thead><tr><th scope=col>NUM</th><th scope=col>A</th><th scope=col>F</th><th scope=col>C</th><th scope=col>B</th><th scope=col>D</th><th scope=col>E</th></tr></thead>\n",
       "<tbody>\n",
       "\t<tr><td>45    </td><td> 9.2  </td><td>60.8  </td><td>22.9  </td><td>1012.7</td><td>  NA  </td><td>  NA  </td></tr>\n",
       "\t<tr><td>48    </td><td>  NA  </td><td>  NA  </td><td>  NA  </td><td>    NA</td><td>18.7  </td><td>  NA  </td></tr>\n",
       "\t<tr><td>50    </td><td>11.1  </td><td>  NA  </td><td>  NA  </td><td>    NA</td><td>  NA  </td><td>  NA  </td></tr>\n",
       "\t<tr><td>66    </td><td>  NA  </td><td>16.7  </td><td>63.1  </td><td>    NA</td><td>  NA  </td><td>67.2  </td></tr>\n",
       "\t<tr><td>68    </td><td>  NA  </td><td>  NA  </td><td>  NA  </td><td>    NA</td><td>58.4  </td><td>  NA  </td></tr>\n",
       "</tbody>\n",
       "</table>\n"
      ],
      "text/latex": [
       "\\begin{tabular}{r|lllllll}\n",
       " NUM & A & F & C & B & D & E\\\\\n",
       "\\hline\n",
       "\t 45     &  9.2   & 60.8   & 22.9   & 1012.7 &   NA   &   NA  \\\\\n",
       "\t 48     &   NA   &   NA   &   NA   &     NA & 18.7   &   NA  \\\\\n",
       "\t 50     & 11.1   &   NA   &   NA   &     NA &   NA   &   NA  \\\\\n",
       "\t 66     &   NA   & 16.7   & 63.1   &     NA &   NA   & 67.2  \\\\\n",
       "\t 68     &   NA   &   NA   &   NA   &     NA & 58.4   &   NA  \\\\\n",
       "\\end{tabular}\n"
      ],
      "text/markdown": [
       "\n",
       "| NUM | A | F | C | B | D | E |\n",
       "|---|---|---|---|---|---|---|\n",
       "| 45     |  9.2   | 60.8   | 22.9   | 1012.7 |   NA   |   NA   |\n",
       "| 48     |   NA   |   NA   |   NA   |     NA | 18.7   |   NA   |\n",
       "| 50     | 11.1   |   NA   |   NA   |     NA |   NA   |   NA   |\n",
       "| 66     |   NA   | 16.7   | 63.1   |     NA |   NA   | 67.2   |\n",
       "| 68     |   NA   |   NA   |   NA   |     NA | 58.4   |   NA   |\n",
       "\n"
      ],
      "text/plain": [
       "  NUM A    F    C    B      D    E   \n",
       "1 45   9.2 60.8 22.9 1012.7   NA   NA\n",
       "2 48    NA   NA   NA     NA 18.7   NA\n",
       "3 50  11.1   NA   NA     NA   NA   NA\n",
       "4 66    NA 16.7 63.1     NA   NA 67.2\n",
       "5 68    NA   NA   NA     NA 58.4   NA"
      ]
     },
     "metadata": {},
     "output_type": "display_data"
    }
   ],
   "source": [
    "df %>%\n",
    "    pivot_wider(names_from = Type, values_from = Points)"
   ]
  },
  {
   "cell_type": "markdown",
   "id": "bfe33f0e",
   "metadata": {},
   "source": [
    "### Transpose df"
   ]
  },
  {
   "cell_type": "code",
   "execution_count": 46,
   "id": "b512c12b",
   "metadata": {},
   "outputs": [
    {
     "data": {
      "text/html": [
       "<ol class=list-inline>\n",
       "\t<li>'1'</li>\n",
       "\t<li>'2'</li>\n",
       "\t<li>'3'</li>\n",
       "\t<li>'4'</li>\n",
       "\t<li>'5'</li>\n",
       "\t<li>'6'</li>\n",
       "\t<li>'7'</li>\n",
       "\t<li>'8'</li>\n",
       "\t<li>'9'</li>\n",
       "</ol>\n"
      ],
      "text/latex": [
       "\\begin{enumerate*}\n",
       "\\item '1'\n",
       "\\item '2'\n",
       "\\item '3'\n",
       "\\item '4'\n",
       "\\item '5'\n",
       "\\item '6'\n",
       "\\item '7'\n",
       "\\item '8'\n",
       "\\item '9'\n",
       "\\end{enumerate*}\n"
      ],
      "text/markdown": [
       "1. '1'\n",
       "2. '2'\n",
       "3. '3'\n",
       "4. '4'\n",
       "5. '5'\n",
       "6. '6'\n",
       "7. '7'\n",
       "8. '8'\n",
       "9. '9'\n",
       "\n",
       "\n"
      ],
      "text/plain": [
       "[1] \"1\" \"2\" \"3\" \"4\" \"5\" \"6\" \"7\" \"8\" \"9\""
      ]
     },
     "metadata": {},
     "output_type": "display_data"
    },
    {
     "data": {
      "text/html": [
       "<ol class=list-inline>\n",
       "\t<li>'X'</li>\n",
       "\t<li>'Y'</li>\n",
       "\t<li>'Z'</li>\n",
       "</ol>\n"
      ],
      "text/latex": [
       "\\begin{enumerate*}\n",
       "\\item 'X'\n",
       "\\item 'Y'\n",
       "\\item 'Z'\n",
       "\\end{enumerate*}\n"
      ],
      "text/markdown": [
       "1. 'X'\n",
       "2. 'Y'\n",
       "3. 'Z'\n",
       "\n",
       "\n"
      ],
      "text/plain": [
       "[1] \"X\" \"Y\" \"Z\""
      ]
     },
     "metadata": {},
     "output_type": "display_data"
    },
    {
     "data": {
      "text/html": [
       "<table>\n",
       "<thead><tr><th scope=col>X</th><th scope=col>Y</th><th scope=col>Z</th></tr></thead>\n",
       "<tbody>\n",
       "\t<tr><td>ID12   </td><td>2012-06</td><td>  566  </td></tr>\n",
       "\t<tr><td>ID1    </td><td>2012-06</td><td>10239  </td></tr>\n",
       "\t<tr><td>ID6    </td><td>2012-06</td><td>  524  </td></tr>\n",
       "\t<tr><td>ID12   </td><td>2012-07</td><td> 2360  </td></tr>\n",
       "\t<tr><td>ID1    </td><td>2012-07</td><td>13853  </td></tr>\n",
       "\t<tr><td>ID6    </td><td>2012-07</td><td> 2352  </td></tr>\n",
       "\t<tr><td>ID12   </td><td>2012-08</td><td> 3950  </td></tr>\n",
       "\t<tr><td>ID1    </td><td>2012-08</td><td>14738  </td></tr>\n",
       "\t<tr><td>ID6    </td><td>2012-08</td><td> 4104  </td></tr>\n",
       "</tbody>\n",
       "</table>\n"
      ],
      "text/latex": [
       "\\begin{tabular}{r|lll}\n",
       " X & Y & Z\\\\\n",
       "\\hline\n",
       "\t ID12    & 2012-06 &   566  \\\\\n",
       "\t ID1     & 2012-06 & 10239  \\\\\n",
       "\t ID6     & 2012-06 &   524  \\\\\n",
       "\t ID12    & 2012-07 &  2360  \\\\\n",
       "\t ID1     & 2012-07 & 13853  \\\\\n",
       "\t ID6     & 2012-07 &  2352  \\\\\n",
       "\t ID12    & 2012-08 &  3950  \\\\\n",
       "\t ID1     & 2012-08 & 14738  \\\\\n",
       "\t ID6     & 2012-08 &  4104  \\\\\n",
       "\\end{tabular}\n"
      ],
      "text/markdown": [
       "\n",
       "| X | Y | Z |\n",
       "|---|---|---|\n",
       "| ID12    | 2012-06 |   566   |\n",
       "| ID1     | 2012-06 | 10239   |\n",
       "| ID6     | 2012-06 |   524   |\n",
       "| ID12    | 2012-07 |  2360   |\n",
       "| ID1     | 2012-07 | 13853   |\n",
       "| ID6     | 2012-07 |  2352   |\n",
       "| ID12    | 2012-08 |  3950   |\n",
       "| ID1     | 2012-08 | 14738   |\n",
       "| ID6     | 2012-08 |  4104   |\n",
       "\n"
      ],
      "text/plain": [
       "  X    Y       Z    \n",
       "1 ID12 2012-06   566\n",
       "2 ID1  2012-06 10239\n",
       "3 ID6  2012-06   524\n",
       "4 ID12 2012-07  2360\n",
       "5 ID1  2012-07 13853\n",
       "6 ID6  2012-07  2352\n",
       "7 ID12 2012-08  3950\n",
       "8 ID1  2012-08 14738\n",
       "9 ID6  2012-08  4104"
      ]
     },
     "metadata": {},
     "output_type": "display_data"
    }
   ],
   "source": [
    "data <- read.table(text=\"X Y    Z\n",
    "                   ID12   2012-06    566\n",
    "                   ID1    2012-06  10239\n",
    "                   ID6    2012-06    524\n",
    "                   ID12   2012-07   2360\n",
    "                   ID1    2012-07   13853\n",
    "                   ID6    2012-07    2352\n",
    "                   ID12   2012-08   3950\n",
    "                   ID1    2012-08   14738\n",
    "                   ID6    2012-08   4104\",header=TRUE)\n",
    "rownames(data)\n",
    "colnames(data)\n",
    "data"
   ]
  },
  {
   "cell_type": "code",
   "execution_count": 47,
   "id": "424ede4f",
   "metadata": {},
   "outputs": [
    {
     "data": {
      "text/html": [
       "<table>\n",
       "<thead><tr><th scope=col>Y</th><th scope=col>Z</th></tr></thead>\n",
       "<tbody>\n",
       "\t<tr><td>2012-06</td><td>  566  </td></tr>\n",
       "\t<tr><td>2012-06</td><td>10239  </td></tr>\n",
       "\t<tr><td>2012-06</td><td>  524  </td></tr>\n",
       "\t<tr><td>2012-07</td><td> 2360  </td></tr>\n",
       "\t<tr><td>2012-07</td><td>13853  </td></tr>\n",
       "\t<tr><td>2012-07</td><td> 2352  </td></tr>\n",
       "\t<tr><td>2012-08</td><td> 3950  </td></tr>\n",
       "\t<tr><td>2012-08</td><td>14738  </td></tr>\n",
       "\t<tr><td>2012-08</td><td> 4104  </td></tr>\n",
       "</tbody>\n",
       "</table>\n"
      ],
      "text/latex": [
       "\\begin{tabular}{r|ll}\n",
       " Y & Z\\\\\n",
       "\\hline\n",
       "\t 2012-06 &   566  \\\\\n",
       "\t 2012-06 & 10239  \\\\\n",
       "\t 2012-06 &   524  \\\\\n",
       "\t 2012-07 &  2360  \\\\\n",
       "\t 2012-07 & 13853  \\\\\n",
       "\t 2012-07 &  2352  \\\\\n",
       "\t 2012-08 &  3950  \\\\\n",
       "\t 2012-08 & 14738  \\\\\n",
       "\t 2012-08 &  4104  \\\\\n",
       "\\end{tabular}\n"
      ],
      "text/markdown": [
       "\n",
       "| Y | Z |\n",
       "|---|---|\n",
       "| 2012-06 |   566   |\n",
       "| 2012-06 | 10239   |\n",
       "| 2012-06 |   524   |\n",
       "| 2012-07 |  2360   |\n",
       "| 2012-07 | 13853   |\n",
       "| 2012-07 |  2352   |\n",
       "| 2012-08 |  3950   |\n",
       "| 2012-08 | 14738   |\n",
       "| 2012-08 |  4104   |\n",
       "\n"
      ],
      "text/plain": [
       "  Y       Z    \n",
       "1 2012-06   566\n",
       "2 2012-06 10239\n",
       "3 2012-06   524\n",
       "4 2012-07  2360\n",
       "5 2012-07 13853\n",
       "6 2012-07  2352\n",
       "7 2012-08  3950\n",
       "8 2012-08 14738\n",
       "9 2012-08  4104"
      ]
     },
     "metadata": {},
     "output_type": "display_data"
    }
   ],
   "source": [
    "data[c(\"Y\", \"Z\")]"
   ]
  },
  {
   "cell_type": "code",
   "execution_count": 48,
   "id": "368ff1bc",
   "metadata": {},
   "outputs": [
    {
     "data": {
      "text/html": [
       "<table>\n",
       "<thead><tr><th scope=col>marker</th><th scope=col>ID12</th><th scope=col>ID1</th><th scope=col>ID6</th><th scope=col>ID12</th><th scope=col>ID1</th><th scope=col>ID6</th><th scope=col>ID12</th><th scope=col>ID1</th><th scope=col>ID6</th></tr></thead>\n",
       "<tbody>\n",
       "\t<tr><td>Y      </td><td>2012-06</td><td>2012-06</td><td>2012-06</td><td>2012-07</td><td>2012-07</td><td>2012-07</td><td>2012-08</td><td>2012-08</td><td>2012-08</td></tr>\n",
       "\t<tr><td>Z      </td><td>566    </td><td>10239  </td><td>524    </td><td>2360   </td><td>13853  </td><td>2352   </td><td>3950   </td><td>14738  </td><td>4104   </td></tr>\n",
       "</tbody>\n",
       "</table>\n"
      ],
      "text/latex": [
       "\\begin{tabular}{r|llllllllll}\n",
       " marker & ID12 & ID1 & ID6 & ID12 & ID1 & ID6 & ID12 & ID1 & ID6\\\\\n",
       "\\hline\n",
       "\t Y       & 2012-06 & 2012-06 & 2012-06 & 2012-07 & 2012-07 & 2012-07 & 2012-08 & 2012-08 & 2012-08\\\\\n",
       "\t Z       & 566     & 10239   & 524     & 2360    & 13853   & 2352    & 3950    & 14738   & 4104   \\\\\n",
       "\\end{tabular}\n"
      ],
      "text/markdown": [
       "\n",
       "| marker | ID12 | ID1 | ID6 | ID12 | ID1 | ID6 | ID12 | ID1 | ID6 |\n",
       "|---|---|---|---|---|---|---|---|---|---|\n",
       "| Y       | 2012-06 | 2012-06 | 2012-06 | 2012-07 | 2012-07 | 2012-07 | 2012-08 | 2012-08 | 2012-08 |\n",
       "| Z       | 566     | 10239   | 524     | 2360    | 13853   | 2352    | 3950    | 14738   | 4104    |\n",
       "\n"
      ],
      "text/plain": [
       "  marker ID12    ID1     ID6     ID12    ID1     ID6     ID12    ID1    \n",
       "1 Y      2012-06 2012-06 2012-06 2012-07 2012-07 2012-07 2012-08 2012-08\n",
       "2 Z      566     10239   524     2360    13853   2352    3950    14738  \n",
       "  ID6    \n",
       "1 2012-08\n",
       "2 4104   "
      ]
     },
     "metadata": {},
     "output_type": "display_data"
    }
   ],
   "source": [
    "transpose(data, fill=NA, ignore.empty=FALSE, keep.names=\"marker\", make.names=\"X\")"
   ]
  },
  {
   "cell_type": "markdown",
   "id": "5796e43b",
   "metadata": {},
   "source": [
    "# VI. Percentile"
   ]
  },
  {
   "cell_type": "markdown",
   "id": "26736b3c",
   "metadata": {},
   "source": [
    "### Percentile example"
   ]
  },
  {
   "cell_type": "markdown",
   "id": "68fab90d",
   "metadata": {},
   "source": [
    "```\n",
    "Note: method == 'Pandas' is equivalent to the below code.\n",
    "    Just difference with JCSMR in pct_increment = 1. / length instead of  1. / (length + 1)\n",
    "    length = len([v for v in df['Values'] if not nan_none_empty_str(v)])\n",
    "    pct_increment = 1. / length\n",
    "    df['Rank_Percentile_Manual'] = df.Rank * pct_increment\n",
    "Eg. df = pd.DataFrame({'Values': [119, np.nan, 80, 50, 120, 90, 119]}).sort_values('Values')\n",
    "    # Output below is rank max for ties: df['Rank'] = df.rank(method='max')  # average, min, max\n",
    "        Values\tRank\tRank_Percentile_Pandas\tRank_Percentile_Manual\tRank_Percentile_JCSMR\n",
    "    0\t50.0\t1.0\t            0.166667\t            0.166667\t        0.142857\n",
    "    1\t80.0\t2.0\t            0.333333\t            0.333333\t        0.285714\n",
    "    2\t90.0\t3.0\t            0.500000\t            0.500000\t        0.428571\n",
    "    3\t119.0\t5.0\t            0.833333\t            0.833333\t        0.714286\n",
    "    4\t119.0\t5.0\t            0.833333\t            0.833333\t        0.714286\n",
    "    5\t120.0\t6.0\t            1.000000\t            1.000000\t        0.857143\n",
    "    6\tNaN\t   NaN\t            NaN\t                    NaN\t                NaN\n",
    "```"
   ]
  },
  {
   "cell_type": "code",
   "execution_count": 49,
   "id": "9df90453",
   "metadata": {},
   "outputs": [
    {
     "data": {
      "text/html": [
       "<ol>\n",
       "\t<li>0.142857142857143</li>\n",
       "\t<li>0.285714285714286</li>\n",
       "\t<li>0.428571428571429</li>\n",
       "\t<li>0.714285714285714</li>\n",
       "\t<li>0.714285714285714</li>\n",
       "\t<li>0.857142857142857</li>\n",
       "\t<li>&lt;NA&gt;</li>\n",
       "</ol>\n"
      ],
      "text/latex": [
       "\\begin{enumerate}\n",
       "\\item 0.142857142857143\n",
       "\\item 0.285714285714286\n",
       "\\item 0.428571428571429\n",
       "\\item 0.714285714285714\n",
       "\\item 0.714285714285714\n",
       "\\item 0.857142857142857\n",
       "\\item <NA>\n",
       "\\end{enumerate}\n"
      ],
      "text/markdown": [
       "1. 0.142857142857143\n",
       "2. 0.285714285714286\n",
       "3. 0.428571428571429\n",
       "4. 0.714285714285714\n",
       "5. 0.714285714285714\n",
       "6. 0.857142857142857\n",
       "7. &lt;NA&gt;\n",
       "\n",
       "\n"
      ],
      "text/plain": [
       "[[1]]\n",
       "[1] 0.1428571\n",
       "\n",
       "[[2]]\n",
       "[1] 0.2857143\n",
       "\n",
       "[[3]]\n",
       "[1] 0.4285714\n",
       "\n",
       "[[4]]\n",
       "[1] 0.7142857\n",
       "\n",
       "[[5]]\n",
       "[1] 0.7142857\n",
       "\n",
       "[[6]]\n",
       "[1] 0.8571429\n",
       "\n",
       "[[7]]\n",
       "[1] NA\n"
      ]
     },
     "metadata": {},
     "output_type": "display_data"
    }
   ],
   "source": [
    "# Calculate percentile of a value w.r.t a vector\n",
    "percentile_norm <- function(value, vec, method='JCSMR'){\n",
    "   # method == 'JCSMR' or a normal way\n",
    "   if (method == 'JCSMR'){\n",
    "       epsilon <- 1e-6\n",
    "       maxVal <- max(vec, na.rm = TRUE)\n",
    "       vec <- c(vec, maxVal + epsilon)\n",
    "   }   \n",
    "   return (ecdf(vec)(value))   \n",
    "} \n",
    "\n",
    "vec <- c(50, 80, 90, 119, 119, 120, NA)\n",
    "# min(vec, na.rm = TRUE) # max(vec, na.rm = TRUE)\n",
    "lapply(c(50, 80, 90, 119, 119, 120, NA), percentile_norm, vec)"
   ]
  },
  {
   "cell_type": "code",
   "execution_count": 50,
   "id": "b8f211cd",
   "metadata": {},
   "outputs": [
    {
     "data": {
      "text/html": [
       "<ol>\n",
       "\t<li>0</li>\n",
       "\t<li>1</li>\n",
       "\t<li>0</li>\n",
       "\t<li>0</li>\n",
       "\t<li>1</li>\n",
       "\t<li>1</li>\n",
       "\t<li>0</li>\n",
       "\t<li>0</li>\n",
       "\t<li>1</li>\n",
       "\t<li>1</li>\n",
       "\t<li>0</li>\n",
       "\t<li>1</li>\n",
       "\t<li>1</li>\n",
       "\t<li>1</li>\n",
       "\t<li>0</li>\n",
       "</ol>\n"
      ],
      "text/latex": [
       "\\begin{enumerate}\n",
       "\\item 0\n",
       "\\item 1\n",
       "\\item 0\n",
       "\\item 0\n",
       "\\item 1\n",
       "\\item 1\n",
       "\\item 0\n",
       "\\item 0\n",
       "\\item 1\n",
       "\\item 1\n",
       "\\item 0\n",
       "\\item 1\n",
       "\\item 1\n",
       "\\item 1\n",
       "\\item 0\n",
       "\\end{enumerate}\n"
      ],
      "text/markdown": [
       "1. 0\n",
       "2. 1\n",
       "3. 0\n",
       "4. 0\n",
       "5. 1\n",
       "6. 1\n",
       "7. 0\n",
       "8. 0\n",
       "9. 1\n",
       "10. 1\n",
       "11. 0\n",
       "12. 1\n",
       "13. 1\n",
       "14. 1\n",
       "15. 0\n",
       "\n",
       "\n"
      ],
      "text/plain": [
       "[[1]]\n",
       "[1] 0\n",
       "\n",
       "[[2]]\n",
       "[1] 1\n",
       "\n",
       "[[3]]\n",
       "[1] 0\n",
       "\n",
       "[[4]]\n",
       "[1] 0\n",
       "\n",
       "[[5]]\n",
       "[1] 1\n",
       "\n",
       "[[6]]\n",
       "[1] 1\n",
       "\n",
       "[[7]]\n",
       "[1] 0\n",
       "\n",
       "[[8]]\n",
       "[1] 0\n",
       "\n",
       "[[9]]\n",
       "[1] 1\n",
       "\n",
       "[[10]]\n",
       "[1] 1\n",
       "\n",
       "[[11]]\n",
       "[1] 0\n",
       "\n",
       "[[12]]\n",
       "[1] 1\n",
       "\n",
       "[[13]]\n",
       "[1] 1\n",
       "\n",
       "[[14]]\n",
       "[1] 1\n",
       "\n",
       "[[15]]\n",
       "[1] 0\n"
      ]
     },
     "metadata": {},
     "output_type": "display_data"
    }
   ],
   "source": [
    "# Calculate percentile of a value w.r.t a vector\n",
    "percentile_norm <- function(value, vec, method='JCSMR'){\n",
    "   # method == 'JCSMR' or a normal way\n",
    "   if (method == 'JCSMR'){\n",
    "       epsilon <- 1e-6\n",
    "       maxVal <- max(vec, na.rm = TRUE)\n",
    "       vec <- c(vec, maxVal + epsilon)\n",
    "   }   \n",
    "   return (ecdf(vec)(value))   \n",
    "} \n",
    "\n",
    "# df_data: At \"Single Cells/Single Cells/live/LC and Mono/LC/non BT/CD15neg/NK 1 | Freqâ€¤ of LC\"\n",
    "#          has many values 0.33, 0.97, 0.41, 0.31, 2.15, 1.21, 0.64, 0.7, 1.09, 0.93, \n",
    "#                          0.85, 1.82, 0.93, 6.35, 0.68\n",
    "\n",
    "# df_control: at \"Single Cells/Single Cells/live/LC and Mono/LC/non BT/CD15neg/NK 1 | Freqâ€¤ of LC\"\n",
    "#             Only HBD063 has value =0.9 others are NA\n",
    "\n",
    "vec <- c(NA, 0.9, NA)  # control data\n",
    "lapply(c(0.33, 0.97, 0.41, 0.31, 2.15, 1.21, 0.64, 0.7, 1.09, 0.93, 0.85, 1.82, 0.93, 6.35, 0.68), # real data\n",
    "       percentile_norm, \n",
    "       vec  # # control data\n",
    "      )"
   ]
  },
  {
   "cell_type": "code",
   "execution_count": 51,
   "id": "f5f247e9",
   "metadata": {},
   "outputs": [
    {
     "ename": "ERROR",
     "evalue": "Error: Problem with `mutate()` column `Rank_Percentile_JCSMR`.\ni `Rank_Percentile_JCSMR = *...`.\nx object 'df_control' not found\n",
     "output_type": "error",
     "traceback": [
      "Error: Problem with `mutate()` column `Rank_Percentile_JCSMR`.\ni `Rank_Percentile_JCSMR = *...`.\nx object 'df_control' not found\nTraceback:\n",
      "1. df_test %>% mutate(Rank = rank(Values, na.last = \"keep\", ties.method = c(\"average\"))) %>% \n .     mutate(Rank_Percentile = percent_rank(Values)) %>% mutate(Rank_Percentile_manual = percent_rank(Rank)) %>% \n .     mutate(PCT_wo_ties = ntile(Values, 100)) %>% mutate(Rank_Percentile_JCSMR = rank(Values, \n .     na.last = \"keep\", ties.method = c(\"average\")) * (1/(len(df_control$Values) + \n .     1)))",
      "2. mutate(., Rank_Percentile_JCSMR = rank(Values, na.last = \"keep\", \n .     ties.method = c(\"average\")) * (1/(len(df_control$Values) + \n .     1)))",
      "3. mutate.data.frame(., Rank_Percentile_JCSMR = rank(Values, na.last = \"keep\", \n .     ties.method = c(\"average\")) * (1/(len(df_control$Values) + \n .     1)))",
      "4. mutate_cols(.data, ..., caller_env = caller_env())",
      "5. withCallingHandlers({\n .     for (i in seq_along(dots)) {\n .         mask$across_cache_reset()\n .         context_poke(\"column\", old_current_column)\n .         quosures <- expand_across(dots[[i]])\n .         quosures_results <- vector(mode = \"list\", length = length(quosures))\n .         for (k in seq_along(quosures)) {\n .             quo <- quosures[[k]]\n .             quo_data <- attr(quo, \"dplyr:::data\")\n .             if (!is.null(quo_data$column)) {\n .                 context_poke(\"column\", quo_data$column)\n .             }\n .             chunks <- NULL\n .             result <- NULL\n .             if (quo_is_symbol(quo)) {\n .                 name <- as_string(quo_get_expr(quo))\n .                 if (name %in% names(new_columns)) {\n .                   result <- new_columns[[name]]\n .                   chunks <- mask$resolve(name)\n .                 }\n .                 else if (name %in% names(.data)) {\n .                   result <- .data[[name]]\n .                   chunks <- mask$resolve(name)\n .                 }\n .                 if (inherits(.data, \"rowwise_df\") && vec_is_list(result)) {\n .                   sizes <- list_sizes(result)\n .                   wrong <- which(sizes != 1)\n .                   if (length(wrong)) {\n .                     group <- wrong[1L]\n .                     mask$set_current_group(group)\n .                     abort(x_size = sizes[group], class = \"dplyr:::mutate_incompatible_size\")\n .                   }\n .                 }\n .             }\n .             if (is.null(chunks)) {\n .                 chunks <- mask$eval_all_mutate(quo)\n .             }\n .             if (is.null(chunks)) {\n .                 next\n .             }\n .             if (is.null(result)) {\n .                 if (length(rows) == 1) {\n .                   result <- chunks[[1]]\n .                 }\n .                 else {\n .                   result <- withCallingHandlers(vec_unchop(chunks <- vec_cast_common(!!!chunks), \n .                     rows), vctrs_error_incompatible_type = function(cnd) {\n .                     abort(class = \"dplyr:::error_mutate_incompatible_combine\", \n .                       parent = cnd)\n .                   })\n .                 }\n .             }\n .             quosures_results[[k]] <- list(result = result, chunks = chunks)\n .         }\n .         for (k in seq_along(quosures)) {\n .             quo <- quosures[[k]]\n .             quo_data <- attr(quo, \"dplyr:::data\")\n .             quo_result <- quosures_results[[k]]\n .             if (is.null(quo_result)) {\n .                 if (quo_data$is_named) {\n .                   name <- quo_data$name_given\n .                   new_columns[[name]] <- zap()\n .                   mask$remove(name)\n .                 }\n .                 next\n .             }\n .             result <- quo_result$result\n .             chunks <- quo_result$chunks\n .             if (!quo_data$is_named && is.data.frame(result)) {\n .                 new_columns[names(result)] <- result\n .                 mask$add_many(result, chunks)\n .             }\n .             else {\n .                 name <- quo_data$name_auto\n .                 new_columns[[name]] <- result\n .                 mask$add_one(name, chunks)\n .             }\n .         }\n .     }\n . }, error = function(e) {\n .     local_call_step(dots = dots, .index = i, .fn = \"mutate\", \n .         .dot_data = inherits(e, \"rlang_error_data_pronoun_not_found\"))\n .     call_step_envir <- peek_call_step()\n .     error_name <- call_step_envir$error_name\n .     error_expression <- call_step_envir$error_expression\n .     show_group_details <- TRUE\n .     if (inherits(e, \"dplyr:::mutate_incompatible_size\")) {\n .         size <- vec_size(rows[[mask$get_current_group()]])\n .         x_size <- e$x_size\n .         bullets <- c(i = cnd_bullet_column_info(), i = glue(\"`{error_name}` must be size {or_1(size)}, not {x_size}.\"), \n .             i = cnd_bullet_rowwise_unlist())\n .     }\n .     else if (inherits(e, \"dplyr:::mutate_mixed_null\")) {\n .         show_group_details <- FALSE\n .         bullets <- c(i = cnd_bullet_column_info(), x = glue(\"`{error_name}` must return compatible vectors across groups.\"), \n .             i = \"Cannot combine NULL and non NULL results.\", \n .             i = cnd_bullet_rowwise_unlist())\n .     }\n .     else if (inherits(e, \"dplyr:::mutate_not_vector\")) {\n .         bullets <- c(i = cnd_bullet_column_info(), x = glue(\"`{error_name}` must be a vector, not {friendly_type_of(e$result)}.\"), \n .             i = cnd_bullet_rowwise_unlist())\n .     }\n .     else if (inherits(e, \"dplyr:::error_mutate_incompatible_combine\")) {\n .         show_group_details <- FALSE\n .         bullets <- c(i = cnd_bullet_column_info(), x = glue(\"`{error_name}` must return compatible vectors across groups\"), \n .             i = cnd_bullet_combine_details(e$parent$x, e$parent$x_arg), \n .             i = cnd_bullet_combine_details(e$parent$y, e$parent$y_arg))\n .     }\n .     else {\n .         bullets <- c(i = cnd_bullet_column_info(), x = conditionMessage(e))\n .     }\n .     bullets <- c(cnd_bullet_header(), bullets, i = if (show_group_details) cnd_bullet_cur_group_label())\n .     abort(bullets, class = c(\"dplyr:::mutate_error\", \"dplyr_error\"), \n .         error_name = error_name, error_expression = error_expression, \n .         parent = e, bullets = bullets)\n . }, warning = function(w) {\n .     if (check_muffled_warning(w)) {\n .         maybe_restart(\"muffleWarning\")\n .     }\n .     local_call_step(dots = dots, .index = i, .fn = \"mutate\")\n .     warn(c(cnd_bullet_header(), i = cnd_bullet_column_info(), \n .         i = conditionMessage(w), i = cnd_bullet_cur_group_label(what = \"warning\")))\n .     maybe_restart(\"muffleWarning\")\n . })",
      "6. mask$eval_all_mutate(quo)",
      "7. len(df_control$Values)",
      "8. .handleSimpleError(function (e) \n . {\n .     local_call_step(dots = dots, .index = i, .fn = \"mutate\", \n .         .dot_data = inherits(e, \"rlang_error_data_pronoun_not_found\"))\n .     call_step_envir <- peek_call_step()\n .     error_name <- call_step_envir$error_name\n .     error_expression <- call_step_envir$error_expression\n .     show_group_details <- TRUE\n .     if (inherits(e, \"dplyr:::mutate_incompatible_size\")) {\n .         size <- vec_size(rows[[mask$get_current_group()]])\n .         x_size <- e$x_size\n .         bullets <- c(i = cnd_bullet_column_info(), i = glue(\"`{error_name}` must be size {or_1(size)}, not {x_size}.\"), \n .             i = cnd_bullet_rowwise_unlist())\n .     }\n .     else if (inherits(e, \"dplyr:::mutate_mixed_null\")) {\n .         show_group_details <- FALSE\n .         bullets <- c(i = cnd_bullet_column_info(), x = glue(\"`{error_name}` must return compatible vectors across groups.\"), \n .             i = \"Cannot combine NULL and non NULL results.\", \n .             i = cnd_bullet_rowwise_unlist())\n .     }\n .     else if (inherits(e, \"dplyr:::mutate_not_vector\")) {\n .         bullets <- c(i = cnd_bullet_column_info(), x = glue(\"`{error_name}` must be a vector, not {friendly_type_of(e$result)}.\"), \n .             i = cnd_bullet_rowwise_unlist())\n .     }\n .     else if (inherits(e, \"dplyr:::error_mutate_incompatible_combine\")) {\n .         show_group_details <- FALSE\n .         bullets <- c(i = cnd_bullet_column_info(), x = glue(\"`{error_name}` must return compatible vectors across groups\"), \n .             i = cnd_bullet_combine_details(e$parent$x, e$parent$x_arg), \n .             i = cnd_bullet_combine_details(e$parent$y, e$parent$y_arg))\n .     }\n .     else {\n .         bullets <- c(i = cnd_bullet_column_info(), x = conditionMessage(e))\n .     }\n .     bullets <- c(cnd_bullet_header(), bullets, i = if (show_group_details) cnd_bullet_cur_group_label())\n .     abort(bullets, class = c(\"dplyr:::mutate_error\", \"dplyr_error\"), \n .         error_name = error_name, error_expression = error_expression, \n .         parent = e, bullets = bullets)\n . }, \"object 'df_control' not found\", base::quote(len(df_control$Values)))   # at line 1 of file <text>",
      "9. h(simpleError(msg, call))",
      "10. abort(bullets, class = c(\"dplyr:::mutate_error\", \"dplyr_error\"), \n  .     error_name = error_name, error_expression = error_expression, \n  .     parent = e, bullets = bullets)",
      "11. signal_abort(cnd)"
     ]
    }
   ],
   "source": [
    "df_test <- data.frame(Values = c(50, 80, 90, 119, 119, 120, NA))\n",
    "df_test.percentile <- df_test %>% \n",
    "    mutate(Rank = rank(Values, na.last = 'keep', ties.method = c(\"average\")))  %>% # NA rank last\n",
    "    # rank(x, na.last = TRUE,\n",
    "    # ties.method = c(\"average\", \"first\", \"last\", \"random\", \"max\", \"min\"))\n",
    "\n",
    "    # (rank of row in its partition - 1) / (number of rows in the partition - 1)\n",
    "    mutate(Rank_Percentile = percent_rank(Values)) %>%\n",
    "    mutate(Rank_Percentile_manual = percent_rank(Rank)) %>%\n",
    "    mutate(PCT_wo_ties = ntile(Values, 100)) %>% # # percentiles\n",
    "    mutate(Rank_Percentile_JCSMR = rank(Values, na.last = 'keep', ties.method = c(\"average\")) * (1. / (len(df_control$Values) + 1))) \n",
    "    # mutate(PCT = ntile(Values, 4)) # quartiles \n",
    "    # mutate(PCT = ntile(Values, 10))  # deciles\n",
    "df_test.percentile"
   ]
  },
  {
   "cell_type": "markdown",
   "id": "b22f4129",
   "metadata": {},
   "source": [
    "## Control data"
   ]
  },
  {
   "cell_type": "code",
   "execution_count": null,
   "id": "0f63cde5",
   "metadata": {},
   "outputs": [],
   "source": [
    "Values <- c(50, 80, 90, 119, 119, 120, NA)\n",
    "Comment <- rep('Control', length(Values))\n",
    "df_control <- data.frame(Comment, \n",
    "                         Values,\n",
    "                         Values1 = Values,\n",
    "                         Not_existed_in_df_data = Values\n",
    "                        )\n",
    "#df_control\n",
    "summary(df_control)"
   ]
  },
  {
   "cell_type": "code",
   "execution_count": null,
   "id": "3e2b02bb",
   "metadata": {
    "scrolled": true
   },
   "outputs": [],
   "source": [
    "# df_control.per <- df_control %>% \n",
    "#     mutate(Rank = rank(Values, na.last = 'keep', ties.method = c(\"average\")))  %>% # NA rank last\n",
    "#     mutate(Rank_Percentile_JCSMR = per_JCSMR(df_control$Values)) \n",
    "# df_control.per"
   ]
  },
  {
   "cell_type": "markdown",
   "id": "c890ec5c",
   "metadata": {},
   "source": [
    "## real data"
   ]
  },
  {
   "cell_type": "code",
   "execution_count": null,
   "id": "b9a27b32",
   "metadata": {},
   "outputs": [],
   "source": [
    "Values <- c(40, 50, 100, 119, 120, NA, 150) \n",
    "Comment <- rep('Data', length(Values))\n",
    "df_data <- data.frame(Comment, \n",
    "                      Values,\n",
    "                      Values1 = Values,\n",
    "                      Values_new_1 = Values,\n",
    "                      Values_new_2 = Values\n",
    "                     )\n",
    "df_data\n",
    "summary(df_data)"
   ]
  },
  {
   "cell_type": "code",
   "execution_count": null,
   "id": "c585239e",
   "metadata": {},
   "outputs": [],
   "source": [
    "len <- function(x) { return (length(x[!is.na(x)])) } \n",
    "\n",
    "percentile_JCSMR <- function(vec){\n",
    "    percentiles <- rank(vec, na.last = 'keep', ties.method = c(\"average\")) * (1. / (len(vec) + 1))\n",
    "    return (percentiles)\n",
    "}\n",
    "\n",
    "percentile <- function(vec){\n",
    "    percentiles <- rank(vec, na.last = 'keep', ties.method = c(\"average\")) * (1. / len(vec))\n",
    "    return (percentiles)    \n",
    "}\n",
    "\n",
    "# Calculate percentile of a value w.r.t a vector\n",
    "percentile_norm <- function(value, vec){\n",
    "  return (ecdf(vec)(value))\n",
    "} \n",
    "\n",
    "\n",
    "# normalize percentile one column\n",
    "norm_perc_one_col <- function(col_name, df_control, df_data){\n",
    "    df_data[[col_name]] <- unlist(lapply(df_data[, col_name], percentile_norm, df_control[, col_name]))\n",
    "    return (df_data)\n",
    "}\n",
    "\n",
    "\n",
    "normalize_percentile <- function(df_control, df_data, col_not_cal_per=\"marker\"){\n",
    "    \n",
    "    # columns existed both in df_control and df_data\n",
    "    common_cols <- intersect(names(df_control), names(df_data))\n",
    "    \n",
    "    # Get column to calculate normalized percentile (w.r.t control data) \n",
    "    selected_cols <- common_cols[common_cols != col_not_cal_per]\n",
    "    for (col_name in selected_cols){\n",
    "        df_data[[col_name]] <- unlist(lapply(df_data[, col_name], percentile_norm, df_control[, col_name]))\n",
    "    }\n",
    "    \n",
    "    # columns existed df_data ONLY. Calculate percentile by itself\n",
    "    cols_in_data_only <- setdiff(names(df_data), names(df_control))\n",
    "    for (col_name in cols_in_data_only){\n",
    "        # df_data[[col_name]] <- per_JCSMR(df_data[, col_name])\n",
    "        df_data[[col_name]] <- percentile(df_data[, col_name])\n",
    "    }\n",
    "    \n",
    "    return (list(df=df_data, cols_in_data_only=cols_in_data_only))  \n",
    "}\n",
    "\n",
    "df_data <- normalize_percentile(df_control, df_data)\n",
    "df_data\n",
    "df_data$df\n",
    "df_data$cols_in_data_only"
   ]
  },
  {
   "cell_type": "markdown",
   "id": "34c648c6",
   "metadata": {},
   "source": [
    "### Draft Code: keeping for references"
   ]
  },
  {
   "cell_type": "code",
   "execution_count": null,
   "id": "7f88e275",
   "metadata": {},
   "outputs": [],
   "source": [
    "# remove columns of df_data that is not existed in df_control (since it cannot be normalized)\n",
    "df_data <- subset(df_data, select = common_cols)\n",
    "\n",
    "df_data %>%\n",
    "    mutate(Per1 = lapply(df_data$Values, percentile, df_control$Values)) %>%\n",
    "    mutate(PerOfValues = unlist(lapply(df_data$Values, percentile, df_control$Values)))  # calculate and overidden to a colum name\n",
    "\n",
    "# percentile <- ecdf(50:120)\n",
    "percentile <- ecdf(c(50, 80, 90, 119, 119, 120, NA))\n",
    "percentile(119) # 0.83\n",
    "percentile <- ecdf(c(50, 80, 90, 119, 119, 120))\n",
    "percentile(119) # 0.83\n",
    "percentile <- ecdf(c(50, 80, 90, 119, 120))\n",
    "percentile(119) # 0.83\n",
    "\n",
    "percentile <- ecdf(c(50, 80, 90, 119, 119, 120, NA))\n",
    "percentile(100) \n",
    "\n",
    "percentile <- ecdf(c(50, 80, 90, 119, 119, 120, NA))\n",
    "percentile(0) \n",
    "\n",
    "percentile <- ecdf(c(50, 80, 90, 119, 119, 120, NA))\n",
    "percentile(-10) \n",
    "\n",
    "percentile <- ecdf(c(50, 80, 90, 119, 119, 120, NA))\n",
    "percentile(121) \n",
    "\n",
    "percentile <- ecdf(c(50, 80, 90, 119, 119, 120, NA))\n",
    "percentile(140) \n",
    "\n",
    "findInterval(17, c(4, 8, 15, 16, 23, 42))\n",
    "findInterval(20, c(4, 8, 15, 16, 23, 42))\n",
    "findInterval(16, c(4, 8, 15, 16, 23, 42))\n",
    "\n",
    "df_control.per <- df_control %>% \n",
    "    mutate(Rank = rank(Values, na.last = 'keep', ties.method = c(\"average\")))  %>% # NA rank last\n",
    "    # rank(x, na.last = TRUE,\n",
    "    # ties.method = c(\"average\", \"first\", \"last\", \"random\", \"max\", \"min\"))\n",
    "\n",
    "    # (rank of row in its partition - 1) / (number of rows in the partition - 1)\n",
    "    mutate(Rank_Percentile = percent_rank(Values)) %>%\n",
    "    mutate(Rank_Percentile_manual = percent_rank(Rank)) %>%\n",
    "    mutate(PCT_wo_ties = ntile(Values, 100)) %>% # # percentiles\n",
    "    mutate(Rank_Percentile_JCSMR = rank(Values, na.last = 'keep', ties.method = c(\"average\")) * (1. / (len(df_control$Values) + 1))) \n",
    "    # mutate(PCT = ntile(Values, 4)) # quartiles \n",
    "    # mutate(PCT = ntile(Values, 10))  # deciles\n",
    "\n",
    "<!-- CREATE A DATAFRAME -->\n",
    "```{r}\n",
    "df <- data.frame(Name=c('Ali', 'Bob'), # a column name and value\n",
    "                 Age=c(20, 30),        # a column name and value\n",
    "                 PassExam=c(TRUE, FALSE)\n",
    "                 )\n",
    "df\n",
    "```\n",
    "```{r}\n",
    "df['Name']   # return a dataframe\n",
    "```\n",
    "```{r}\n",
    "class(df['Name'])   # === type() in Python\n",
    "```\n",
    "\n",
    "```{r}\n",
    "df$Name  # === df[['Name']]: return a vector. \n",
    "```\n",
    "\n",
    "```{r}\n",
    "class(df$Name) # === class(df[['Name']])\n",
    "```\n",
    "```{r}\n",
    "df[1:2]   # access column 1 to 2\n",
    "```\n",
    "```{r}\n",
    "df[c(1, 3)]   # access column 1 and 3 only\n",
    "```\n",
    "```{r}\n",
    "df[2, ]  # access row 2 and all columns\n",
    "```\n",
    "<!-- Helper functions -->\n",
    "```{r}\n",
    "df <- data.frame(id = letters[1:4], x = 1:4, y = 5:8)\n",
    "df\n",
    "```\n",
    "```{r}\n",
    "length(df)\n",
    "```\n",
    "```{r}\n",
    "head(df, n = 3)  # get first 3 rows\n",
    "```\n",
    "```{r}\n",
    "tail(df, n = 3)\n",
    "```\n",
    "```{r}\n",
    "dim(df)  # nrow(df), ncol(df)\n",
    "```\n",
    "```{r}\n",
    "str(df)  # structure of df\n",
    "```\n",
    "```{r}\n",
    "names(df)  # === list(df.columns) in pandas\n",
    "```\n",
    "```{r}\n",
    "# For example having a df with a column name \"marker\"\n",
    "row.names(df) <- df$marker # set \"marker\" as a index column in Pandas\n",
    "df <- subset(df, select = -c(marker)) # drop the \"marker\" column since it has been use for index\n",
    "```\n",
    "\n",
    "```{r}\n",
    "# Remove row if having any NA\n",
    "na.omit(df)\n",
    "```\n",
    "\n",
    "```{r}\n",
    "nameVetor = sapply(df, class)  # apply a function (here is class) for each columns\n",
    "nameVetor  \n",
    "```\n",
    "```{r}\n",
    "class(nameVetor)\n",
    "```\n",
    "```{r}\n",
    "summary(df)\n",
    "```\n",
    "<!-- DATAFRAMES: TIBBLES: install.packages(\"tibble\") -->\n",
    "```{r}\n",
    "library(tibble)   \n",
    "```\n",
    "```{r}\n",
    "tb <- as_tibble(iris)\n",
    "tb\n",
    "```\n",
    "```{r}\n",
    "class(tb)\n",
    "```\n",
    "\n",
    "```{r}\n",
    "df <- tibble(id = letters[1:4], \n",
    "             x = 1:4, \n",
    "             y = 9,  # tibble will make it a vector with the same length\n",
    "             z = x ^ 2 + y,  # calculate \"z\" column,\n",
    "             test = rep(5, 4)\n",
    "             )\n",
    "df\n",
    "```\n",
    "```{r}\n",
    "df1 = tribble(\n",
    "   ~x, ~y, ~z,   # make column name x, y, z\n",
    "   'a', 1, TRUE,\n",
    "   'b', 2, FALSE\n",
    ")\n",
    "df1\n",
    "```\n",
    "```{r}\n",
    "# Lubridate:  install.packages(\"tidyverse\") or install.packages(\"lubridate\")\n",
    "df2 <- tibble(\n",
    "  a = lubridate:: now() + runif(1e3) * 86400,\n",
    "  b = lubridate::today() + runif(1e3) * 30,\n",
    "  c = 1: 1e3,\n",
    "  d = runif(1e3),  # runif: random uniform [0, 1]\n",
    "  e = sample(letters, 1e3, replace=TRUE)\n",
    ")\n",
    "df2\n",
    "```\n",
    "```{r}\n",
    "print(df2, \n",
    "      n=2,   # number of rows - will take effect in console\n",
    "      width=Inf  # width of table. Eg. width=100\n",
    "      )   \n",
    "```\n",
    "\n",
    "library(readr)\n",
    "library(readxl)\n",
    "library(httr)\n",
    "```\n",
    "```{r}\n",
    "df <- read.csv(\"test.csv\")\n",
    "df\n",
    "```\n",
    "```{r}\n",
    "write.csv(iris, 'iris.csv')\n",
    "```\n",
    "```{r}\n",
    "read_xlsx(\"test.xlsx\")\n",
    "```\n",
    "```{r}\n",
    "GET(\"tidyverse.org\")\n",
    "```"
   ]
  },
  {
   "cell_type": "code",
   "execution_count": null,
   "id": "25800a70",
   "metadata": {},
   "outputs": [],
   "source": []
  }
 ],
 "metadata": {
  "kernelspec": {
   "display_name": "R",
   "language": "R",
   "name": "ir"
  },
  "language_info": {
   "codemirror_mode": "r",
   "file_extension": ".r",
   "mimetype": "text/x-r-source",
   "name": "R",
   "pygments_lexer": "r",
   "version": "3.6.1"
  }
 },
 "nbformat": 4,
 "nbformat_minor": 5
}
