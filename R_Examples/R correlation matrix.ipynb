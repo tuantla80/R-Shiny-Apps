{
 "cells": [
  {
   "cell_type": "markdown",
   "id": "b2f226ed",
   "metadata": {},
   "source": [
    "Ref: http://www.sthda.com/english/wiki/correlation-matrix-a-quick-start-guide-to-analyze-format-and-visualize-a-correlation-matrix-using-r-software  \n",
    "https://www.displayr.com/how-to-create-a-correlation-matrix-in-r/  \n",
    "\n"
   ]
  },
  {
   "cell_type": "code",
   "execution_count": null,
   "id": "f5482d7b",
   "metadata": {},
   "outputs": [],
   "source": [
    "# Load data\n",
    "data(\"mtcars\")"
   ]
  },
  {
   "cell_type": "code",
   "execution_count": 2,
   "id": "918d8f75",
   "metadata": {},
   "outputs": [
    {
     "data": {
      "text/html": [
       "<table>\n",
       "<thead><tr><th></th><th scope=col>mpg</th><th scope=col>disp</th><th scope=col>hp</th><th scope=col>drat</th><th scope=col>wt</th><th scope=col>qsec</th></tr></thead>\n",
       "<tbody>\n",
       "\t<tr><th scope=row>Mazda RX4</th><td>21.0 </td><td>160  </td><td>110  </td><td>3.90 </td><td>2.620</td><td>16.46</td></tr>\n",
       "\t<tr><th scope=row>Mazda RX4 Wag</th><td>21.0 </td><td>160  </td><td>110  </td><td>3.90 </td><td>2.875</td><td>17.02</td></tr>\n",
       "\t<tr><th scope=row>Datsun 710</th><td>22.8 </td><td>108  </td><td> 93  </td><td>3.85 </td><td>2.320</td><td>18.61</td></tr>\n",
       "\t<tr><th scope=row>Hornet 4 Drive</th><td>21.4 </td><td>258  </td><td>110  </td><td>3.08 </td><td>3.215</td><td>19.44</td></tr>\n",
       "\t<tr><th scope=row>Hornet Sportabout</th><td>18.7 </td><td>360  </td><td>175  </td><td>3.15 </td><td>3.440</td><td>17.02</td></tr>\n",
       "\t<tr><th scope=row>Valiant</th><td>18.1 </td><td>225  </td><td>105  </td><td>2.76 </td><td>3.460</td><td>20.22</td></tr>\n",
       "</tbody>\n",
       "</table>\n"
      ],
      "text/latex": [
       "\\begin{tabular}{r|llllll}\n",
       "  & mpg & disp & hp & drat & wt & qsec\\\\\n",
       "\\hline\n",
       "\tMazda RX4 & 21.0  & 160   & 110   & 3.90  & 2.620 & 16.46\\\\\n",
       "\tMazda RX4 Wag & 21.0  & 160   & 110   & 3.90  & 2.875 & 17.02\\\\\n",
       "\tDatsun 710 & 22.8  & 108   &  93   & 3.85  & 2.320 & 18.61\\\\\n",
       "\tHornet 4 Drive & 21.4  & 258   & 110   & 3.08  & 3.215 & 19.44\\\\\n",
       "\tHornet Sportabout & 18.7  & 360   & 175   & 3.15  & 3.440 & 17.02\\\\\n",
       "\tValiant & 18.1  & 225   & 105   & 2.76  & 3.460 & 20.22\\\\\n",
       "\\end{tabular}\n"
      ],
      "text/markdown": [
       "\n",
       "| <!--/--> | mpg | disp | hp | drat | wt | qsec |\n",
       "|---|---|---|---|---|---|---|\n",
       "| Mazda RX4 | 21.0  | 160   | 110   | 3.90  | 2.620 | 16.46 |\n",
       "| Mazda RX4 Wag | 21.0  | 160   | 110   | 3.90  | 2.875 | 17.02 |\n",
       "| Datsun 710 | 22.8  | 108   |  93   | 3.85  | 2.320 | 18.61 |\n",
       "| Hornet 4 Drive | 21.4  | 258   | 110   | 3.08  | 3.215 | 19.44 |\n",
       "| Hornet Sportabout | 18.7  | 360   | 175   | 3.15  | 3.440 | 17.02 |\n",
       "| Valiant | 18.1  | 225   | 105   | 2.76  | 3.460 | 20.22 |\n",
       "\n"
      ],
      "text/plain": [
       "                  mpg  disp hp  drat wt    qsec \n",
       "Mazda RX4         21.0 160  110 3.90 2.620 16.46\n",
       "Mazda RX4 Wag     21.0 160  110 3.90 2.875 17.02\n",
       "Datsun 710        22.8 108   93 3.85 2.320 18.61\n",
       "Hornet 4 Drive    21.4 258  110 3.08 3.215 19.44\n",
       "Hornet Sportabout 18.7 360  175 3.15 3.440 17.02\n",
       "Valiant           18.1 225  105 2.76 3.460 20.22"
      ]
     },
     "metadata": {},
     "output_type": "display_data"
    }
   ],
   "source": [
    "my_data <- mtcars[, c(1,3,4,5,6,7)]\n",
    "head(my_data, 6)"
   ]
  },
  {
   "cell_type": "markdown",
   "id": "437451bf",
   "metadata": {},
   "source": [
    "# I. cor() function  \n",
    "R built-in function to compute correlation matrix in R"
   ]
  },
  {
   "cell_type": "code",
   "execution_count": 4,
   "id": "9b8b87ee",
   "metadata": {},
   "outputs": [
    {
     "data": {
      "text/html": [
       "<table>\n",
       "<thead><tr><th></th><th scope=col>mpg</th><th scope=col>disp</th><th scope=col>hp</th><th scope=col>drat</th><th scope=col>wt</th><th scope=col>qsec</th></tr></thead>\n",
       "<tbody>\n",
       "\t<tr><th scope=row>mpg</th><td> 1.00</td><td>-0.85</td><td>-0.78</td><td> 0.68</td><td>-0.87</td><td> 0.42</td></tr>\n",
       "\t<tr><th scope=row>disp</th><td>-0.85</td><td> 1.00</td><td> 0.79</td><td>-0.71</td><td> 0.89</td><td>-0.43</td></tr>\n",
       "\t<tr><th scope=row>hp</th><td>-0.78</td><td> 0.79</td><td> 1.00</td><td>-0.45</td><td> 0.66</td><td>-0.71</td></tr>\n",
       "\t<tr><th scope=row>drat</th><td> 0.68</td><td>-0.71</td><td>-0.45</td><td> 1.00</td><td>-0.71</td><td> 0.09</td></tr>\n",
       "\t<tr><th scope=row>wt</th><td>-0.87</td><td> 0.89</td><td> 0.66</td><td>-0.71</td><td> 1.00</td><td>-0.17</td></tr>\n",
       "\t<tr><th scope=row>qsec</th><td> 0.42</td><td>-0.43</td><td>-0.71</td><td> 0.09</td><td>-0.17</td><td> 1.00</td></tr>\n",
       "</tbody>\n",
       "</table>\n"
      ],
      "text/latex": [
       "\\begin{tabular}{r|llllll}\n",
       "  & mpg & disp & hp & drat & wt & qsec\\\\\n",
       "\\hline\n",
       "\tmpg &  1.00 & -0.85 & -0.78 &  0.68 & -0.87 &  0.42\\\\\n",
       "\tdisp & -0.85 &  1.00 &  0.79 & -0.71 &  0.89 & -0.43\\\\\n",
       "\thp & -0.78 &  0.79 &  1.00 & -0.45 &  0.66 & -0.71\\\\\n",
       "\tdrat &  0.68 & -0.71 & -0.45 &  1.00 & -0.71 &  0.09\\\\\n",
       "\twt & -0.87 &  0.89 &  0.66 & -0.71 &  1.00 & -0.17\\\\\n",
       "\tqsec &  0.42 & -0.43 & -0.71 &  0.09 & -0.17 &  1.00\\\\\n",
       "\\end{tabular}\n"
      ],
      "text/markdown": [
       "\n",
       "| <!--/--> | mpg | disp | hp | drat | wt | qsec |\n",
       "|---|---|---|---|---|---|---|\n",
       "| mpg |  1.00 | -0.85 | -0.78 |  0.68 | -0.87 |  0.42 |\n",
       "| disp | -0.85 |  1.00 |  0.79 | -0.71 |  0.89 | -0.43 |\n",
       "| hp | -0.78 |  0.79 |  1.00 | -0.45 |  0.66 | -0.71 |\n",
       "| drat |  0.68 | -0.71 | -0.45 |  1.00 | -0.71 |  0.09 |\n",
       "| wt | -0.87 |  0.89 |  0.66 | -0.71 |  1.00 | -0.17 |\n",
       "| qsec |  0.42 | -0.43 | -0.71 |  0.09 | -0.17 |  1.00 |\n",
       "\n"
      ],
      "text/plain": [
       "     mpg   disp  hp    drat  wt    qsec \n",
       "mpg   1.00 -0.85 -0.78  0.68 -0.87  0.42\n",
       "disp -0.85  1.00  0.79 -0.71  0.89 -0.43\n",
       "hp   -0.78  0.79  1.00 -0.45  0.66 -0.71\n",
       "drat  0.68 -0.71 -0.45  1.00 -0.71  0.09\n",
       "wt   -0.87  0.89  0.66 -0.71  1.00 -0.17\n",
       "qsec  0.42 -0.43 -0.71  0.09 -0.17  1.00"
      ]
     },
     "metadata": {},
     "output_type": "display_data"
    }
   ],
   "source": [
    "correlation <- cor(my_data, method = 'pearson') # measures the linear dependence between two variables\n",
    "round(correlation, 2)"
   ]
  },
  {
   "cell_type": "code",
   "execution_count": 5,
   "id": "2a6ad415",
   "metadata": {},
   "outputs": [
    {
     "data": {
      "text/html": [
       "<table>\n",
       "<thead><tr><th></th><th scope=col>mpg</th><th scope=col>disp</th><th scope=col>hp</th><th scope=col>drat</th><th scope=col>wt</th><th scope=col>qsec</th></tr></thead>\n",
       "<tbody>\n",
       "\t<tr><th scope=row>mpg</th><td> 1.00</td><td>-0.77</td><td>-0.74</td><td> 0.46</td><td>-0.73</td><td> 0.32</td></tr>\n",
       "\t<tr><th scope=row>disp</th><td>-0.77</td><td> 1.00</td><td> 0.67</td><td>-0.50</td><td> 0.74</td><td>-0.30</td></tr>\n",
       "\t<tr><th scope=row>hp</th><td>-0.74</td><td> 0.67</td><td> 1.00</td><td>-0.38</td><td> 0.61</td><td>-0.47</td></tr>\n",
       "\t<tr><th scope=row>drat</th><td> 0.46</td><td>-0.50</td><td>-0.38</td><td> 1.00</td><td>-0.55</td><td> 0.03</td></tr>\n",
       "\t<tr><th scope=row>wt</th><td>-0.73</td><td> 0.74</td><td> 0.61</td><td>-0.55</td><td> 1.00</td><td>-0.14</td></tr>\n",
       "\t<tr><th scope=row>qsec</th><td> 0.32</td><td>-0.30</td><td>-0.47</td><td> 0.03</td><td>-0.14</td><td> 1.00</td></tr>\n",
       "</tbody>\n",
       "</table>\n"
      ],
      "text/latex": [
       "\\begin{tabular}{r|llllll}\n",
       "  & mpg & disp & hp & drat & wt & qsec\\\\\n",
       "\\hline\n",
       "\tmpg &  1.00 & -0.77 & -0.74 &  0.46 & -0.73 &  0.32\\\\\n",
       "\tdisp & -0.77 &  1.00 &  0.67 & -0.50 &  0.74 & -0.30\\\\\n",
       "\thp & -0.74 &  0.67 &  1.00 & -0.38 &  0.61 & -0.47\\\\\n",
       "\tdrat &  0.46 & -0.50 & -0.38 &  1.00 & -0.55 &  0.03\\\\\n",
       "\twt & -0.73 &  0.74 &  0.61 & -0.55 &  1.00 & -0.14\\\\\n",
       "\tqsec &  0.32 & -0.30 & -0.47 &  0.03 & -0.14 &  1.00\\\\\n",
       "\\end{tabular}\n"
      ],
      "text/markdown": [
       "\n",
       "| <!--/--> | mpg | disp | hp | drat | wt | qsec |\n",
       "|---|---|---|---|---|---|---|\n",
       "| mpg |  1.00 | -0.77 | -0.74 |  0.46 | -0.73 |  0.32 |\n",
       "| disp | -0.77 |  1.00 |  0.67 | -0.50 |  0.74 | -0.30 |\n",
       "| hp | -0.74 |  0.67 |  1.00 | -0.38 |  0.61 | -0.47 |\n",
       "| drat |  0.46 | -0.50 | -0.38 |  1.00 | -0.55 |  0.03 |\n",
       "| wt | -0.73 |  0.74 |  0.61 | -0.55 |  1.00 | -0.14 |\n",
       "| qsec |  0.32 | -0.30 | -0.47 |  0.03 | -0.14 |  1.00 |\n",
       "\n"
      ],
      "text/plain": [
       "     mpg   disp  hp    drat  wt    qsec \n",
       "mpg   1.00 -0.77 -0.74  0.46 -0.73  0.32\n",
       "disp -0.77  1.00  0.67 -0.50  0.74 -0.30\n",
       "hp   -0.74  0.67  1.00 -0.38  0.61 -0.47\n",
       "drat  0.46 -0.50 -0.38  1.00 -0.55  0.03\n",
       "wt   -0.73  0.74  0.61 -0.55  1.00 -0.14\n",
       "qsec  0.32 -0.30 -0.47  0.03 -0.14  1.00"
      ]
     },
     "metadata": {},
     "output_type": "display_data"
    }
   ],
   "source": [
    "correlation <- cor(my_data, method = 'kendall') # non-parametric rank-based correlation test.\n",
    "round(correlation, 2)"
   ]
  },
  {
   "cell_type": "code",
   "execution_count": 6,
   "id": "425dd0f7",
   "metadata": {},
   "outputs": [
    {
     "data": {
      "text/html": [
       "<table>\n",
       "<thead><tr><th></th><th scope=col>mpg</th><th scope=col>disp</th><th scope=col>hp</th><th scope=col>drat</th><th scope=col>wt</th><th scope=col>qsec</th></tr></thead>\n",
       "<tbody>\n",
       "\t<tr><th scope=row>mpg</th><td> 1.00</td><td>-0.91</td><td>-0.89</td><td> 0.65</td><td>-0.89</td><td> 0.47</td></tr>\n",
       "\t<tr><th scope=row>disp</th><td>-0.91</td><td> 1.00</td><td> 0.85</td><td>-0.68</td><td> 0.90</td><td>-0.46</td></tr>\n",
       "\t<tr><th scope=row>hp</th><td>-0.89</td><td> 0.85</td><td> 1.00</td><td>-0.52</td><td> 0.77</td><td>-0.67</td></tr>\n",
       "\t<tr><th scope=row>drat</th><td> 0.65</td><td>-0.68</td><td>-0.52</td><td> 1.00</td><td>-0.75</td><td> 0.09</td></tr>\n",
       "\t<tr><th scope=row>wt</th><td>-0.89</td><td> 0.90</td><td> 0.77</td><td>-0.75</td><td> 1.00</td><td>-0.23</td></tr>\n",
       "\t<tr><th scope=row>qsec</th><td> 0.47</td><td>-0.46</td><td>-0.67</td><td> 0.09</td><td>-0.23</td><td> 1.00</td></tr>\n",
       "</tbody>\n",
       "</table>\n"
      ],
      "text/latex": [
       "\\begin{tabular}{r|llllll}\n",
       "  & mpg & disp & hp & drat & wt & qsec\\\\\n",
       "\\hline\n",
       "\tmpg &  1.00 & -0.91 & -0.89 &  0.65 & -0.89 &  0.47\\\\\n",
       "\tdisp & -0.91 &  1.00 &  0.85 & -0.68 &  0.90 & -0.46\\\\\n",
       "\thp & -0.89 &  0.85 &  1.00 & -0.52 &  0.77 & -0.67\\\\\n",
       "\tdrat &  0.65 & -0.68 & -0.52 &  1.00 & -0.75 &  0.09\\\\\n",
       "\twt & -0.89 &  0.90 &  0.77 & -0.75 &  1.00 & -0.23\\\\\n",
       "\tqsec &  0.47 & -0.46 & -0.67 &  0.09 & -0.23 &  1.00\\\\\n",
       "\\end{tabular}\n"
      ],
      "text/markdown": [
       "\n",
       "| <!--/--> | mpg | disp | hp | drat | wt | qsec |\n",
       "|---|---|---|---|---|---|---|\n",
       "| mpg |  1.00 | -0.91 | -0.89 |  0.65 | -0.89 |  0.47 |\n",
       "| disp | -0.91 |  1.00 |  0.85 | -0.68 |  0.90 | -0.46 |\n",
       "| hp | -0.89 |  0.85 |  1.00 | -0.52 |  0.77 | -0.67 |\n",
       "| drat |  0.65 | -0.68 | -0.52 |  1.00 | -0.75 |  0.09 |\n",
       "| wt | -0.89 |  0.90 |  0.77 | -0.75 |  1.00 | -0.23 |\n",
       "| qsec |  0.47 | -0.46 | -0.67 |  0.09 | -0.23 |  1.00 |\n",
       "\n"
      ],
      "text/plain": [
       "     mpg   disp  hp    drat  wt    qsec \n",
       "mpg   1.00 -0.91 -0.89  0.65 -0.89  0.47\n",
       "disp -0.91  1.00  0.85 -0.68  0.90 -0.46\n",
       "hp   -0.89  0.85  1.00 -0.52  0.77 -0.67\n",
       "drat  0.65 -0.68 -0.52  1.00 -0.75  0.09\n",
       "wt   -0.89  0.90  0.77 -0.75  1.00 -0.23\n",
       "qsec  0.47 -0.46 -0.67  0.09 -0.23  1.00"
      ]
     },
     "metadata": {},
     "output_type": "display_data"
    }
   ],
   "source": [
    "correlation <- cor(my_data, method = 'spearman') # non-parametric rank-based correlation test.\n",
    "round(correlation, 2)"
   ]
  },
  {
   "cell_type": "markdown",
   "id": "6cc4fa58",
   "metadata": {},
   "source": [
    "# II. Hmisc package  \n",
    "Correlation matrix with significance levels (p-value)"
   ]
  },
  {
   "cell_type": "code",
   "execution_count": 8,
   "id": "ea7328b5",
   "metadata": {},
   "outputs": [
    {
     "name": "stderr",
     "output_type": "stream",
     "text": [
      "also installing the dependencies 'png', 'jpeg', 'checkmate', 'viridisLite', 'survival', 'Formula', 'latticeExtra', 'gridExtra', 'htmlTable', 'viridis'\n",
      "\n"
     ]
    },
    {
     "name": "stdout",
     "output_type": "stream",
     "text": [
      "\n",
      "  There are binary versions available but the source versions are later:\n",
      "           binary source needs_compilation\n",
      "jpeg      0.1-8.1  0.1-9              TRUE\n",
      "survival   3.2-11 3.2-13              TRUE\n",
      "htmlTable   2.1.0  2.4.0             FALSE\n",
      "viridis     0.6.1  0.6.2             FALSE\n",
      "Hmisc       4.5-0  4.6-0              TRUE\n",
      "\n",
      "  Binaries will be installed\n",
      "package 'png' successfully unpacked and MD5 sums checked\n",
      "package 'jpeg' successfully unpacked and MD5 sums checked\n",
      "package 'checkmate' successfully unpacked and MD5 sums checked\n",
      "package 'viridisLite' successfully unpacked and MD5 sums checked\n",
      "package 'survival' successfully unpacked and MD5 sums checked\n",
      "package 'Formula' successfully unpacked and MD5 sums checked\n",
      "package 'latticeExtra' successfully unpacked and MD5 sums checked\n",
      "package 'gridExtra' successfully unpacked and MD5 sums checked\n",
      "package 'Hmisc' successfully unpacked and MD5 sums checked\n",
      "\n",
      "The downloaded binary packages are in\n",
      "\tC:\\Users\\u1106172\\AppData\\Local\\Temp\\RtmpOuXLUh\\downloaded_packages\n"
     ]
    },
    {
     "name": "stderr",
     "output_type": "stream",
     "text": [
      "installing the source packages 'htmlTable', 'viridis'\n",
      "\n"
     ]
    }
   ],
   "source": [
    "install.packages(\"Hmisc\")"
   ]
  },
  {
   "cell_type": "code",
   "execution_count": 9,
   "id": "6c30c44d",
   "metadata": {},
   "outputs": [
    {
     "ename": "ERROR",
     "evalue": "Error in rcorr(as.matrix(my_data)): could not find function \"rcorr\"\n",
     "output_type": "error",
     "traceback": [
      "Error in rcorr(as.matrix(my_data)): could not find function \"rcorr\"\nTraceback:\n"
     ]
    }
   ],
   "source": [
    "res2 <- rcorr(as.matrix(my_data))"
   ]
  },
  {
   "cell_type": "code",
   "execution_count": null,
   "id": "865f3014",
   "metadata": {},
   "outputs": [],
   "source": []
  },
  {
   "cell_type": "code",
   "execution_count": null,
   "id": "8d390fb2",
   "metadata": {},
   "outputs": [],
   "source": []
  }
 ],
 "metadata": {
  "kernelspec": {
   "display_name": "R",
   "language": "R",
   "name": "ir"
  },
  "language_info": {
   "codemirror_mode": "r",
   "file_extension": ".r",
   "mimetype": "text/x-r-source",
   "name": "R",
   "pygments_lexer": "r",
   "version": "3.6.1"
  }
 },
 "nbformat": 4,
 "nbformat_minor": 5
}
