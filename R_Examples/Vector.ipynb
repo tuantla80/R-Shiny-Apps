{
 "cells": [
  {
   "cell_type": "markdown",
   "id": "863b8741",
   "metadata": {},
   "source": [
    "# I. Vector Basics"
   ]
  },
  {
   "cell_type": "markdown",
   "id": "6192795f",
   "metadata": {},
   "source": [
    "### Make a seq."
   ]
  },
  {
   "cell_type": "code",
   "execution_count": 1,
   "id": "b8ca726c",
   "metadata": {},
   "outputs": [
    {
     "data": {
      "text/html": [
       "<ol class=list-inline>\n",
       "\t<li>1</li>\n",
       "\t<li>2</li>\n",
       "\t<li>3</li>\n",
       "\t<li>4</li>\n",
       "\t<li>5</li>\n",
       "\t<li>6</li>\n",
       "\t<li>7</li>\n",
       "\t<li>8</li>\n",
       "\t<li>9</li>\n",
       "\t<li>10</li>\n",
       "</ol>\n"
      ],
      "text/latex": [
       "\\begin{enumerate*}\n",
       "\\item 1\n",
       "\\item 2\n",
       "\\item 3\n",
       "\\item 4\n",
       "\\item 5\n",
       "\\item 6\n",
       "\\item 7\n",
       "\\item 8\n",
       "\\item 9\n",
       "\\item 10\n",
       "\\end{enumerate*}\n"
      ],
      "text/markdown": [
       "1. 1\n",
       "2. 2\n",
       "3. 3\n",
       "4. 4\n",
       "5. 5\n",
       "6. 6\n",
       "7. 7\n",
       "8. 8\n",
       "9. 9\n",
       "10. 10\n",
       "\n",
       "\n"
      ],
      "text/plain": [
       " [1]  1  2  3  4  5  6  7  8  9 10"
      ]
     },
     "metadata": {},
     "output_type": "display_data"
    }
   ],
   "source": [
    "(x <- 1:10)"
   ]
  },
  {
   "cell_type": "code",
   "execution_count": 2,
   "id": "0fba9a33",
   "metadata": {},
   "outputs": [
    {
     "data": {
      "text/html": [
       "<ol class=list-inline>\n",
       "\t<li>1</li>\n",
       "\t<li>2</li>\n",
       "\t<li>3</li>\n",
       "\t<li>4</li>\n",
       "\t<li>5</li>\n",
       "\t<li>6</li>\n",
       "\t<li>7</li>\n",
       "\t<li>8</li>\n",
       "\t<li>9</li>\n",
       "\t<li>10</li>\n",
       "</ol>\n"
      ],
      "text/latex": [
       "\\begin{enumerate*}\n",
       "\\item 1\n",
       "\\item 2\n",
       "\\item 3\n",
       "\\item 4\n",
       "\\item 5\n",
       "\\item 6\n",
       "\\item 7\n",
       "\\item 8\n",
       "\\item 9\n",
       "\\item 10\n",
       "\\end{enumerate*}\n"
      ],
      "text/markdown": [
       "1. 1\n",
       "2. 2\n",
       "3. 3\n",
       "4. 4\n",
       "5. 5\n",
       "6. 6\n",
       "7. 7\n",
       "8. 8\n",
       "9. 9\n",
       "10. 10\n",
       "\n",
       "\n"
      ],
      "text/plain": [
       " [1]  1  2  3  4  5  6  7  8  9 10"
      ]
     },
     "metadata": {},
     "output_type": "display_data"
    }
   ],
   "source": [
    "x"
   ]
  },
  {
   "cell_type": "markdown",
   "id": "5a335c20",
   "metadata": {},
   "source": [
    "#### get()"
   ]
  },
  {
   "cell_type": "code",
   "execution_count": 3,
   "id": "3ede1796",
   "metadata": {},
   "outputs": [
    {
     "data": {
      "text/html": [
       "<ol class=list-inline>\n",
       "\t<li>1</li>\n",
       "\t<li>2</li>\n",
       "\t<li>3</li>\n",
       "\t<li>4</li>\n",
       "\t<li>5</li>\n",
       "\t<li>6</li>\n",
       "\t<li>7</li>\n",
       "\t<li>8</li>\n",
       "\t<li>9</li>\n",
       "\t<li>10</li>\n",
       "</ol>\n"
      ],
      "text/latex": [
       "\\begin{enumerate*}\n",
       "\\item 1\n",
       "\\item 2\n",
       "\\item 3\n",
       "\\item 4\n",
       "\\item 5\n",
       "\\item 6\n",
       "\\item 7\n",
       "\\item 8\n",
       "\\item 9\n",
       "\\item 10\n",
       "\\end{enumerate*}\n"
      ],
      "text/markdown": [
       "1. 1\n",
       "2. 2\n",
       "3. 3\n",
       "4. 4\n",
       "5. 5\n",
       "6. 6\n",
       "7. 7\n",
       "8. 8\n",
       "9. 9\n",
       "10. 10\n",
       "\n",
       "\n"
      ],
      "text/plain": [
       " [1]  1  2  3  4  5  6  7  8  9 10"
      ]
     },
     "metadata": {},
     "output_type": "display_data"
    }
   ],
   "source": [
    "get(\"x\")"
   ]
  },
  {
   "cell_type": "code",
   "execution_count": 4,
   "id": "fa3f52b8",
   "metadata": {},
   "outputs": [
    {
     "data": {
      "text/html": [
       "<ol class=list-inline>\n",
       "\t<li>1</li>\n",
       "\t<li>3</li>\n",
       "\t<li>5</li>\n",
       "\t<li>7</li>\n",
       "\t<li>9</li>\n",
       "</ol>\n"
      ],
      "text/latex": [
       "\\begin{enumerate*}\n",
       "\\item 1\n",
       "\\item 3\n",
       "\\item 5\n",
       "\\item 7\n",
       "\\item 9\n",
       "\\end{enumerate*}\n"
      ],
      "text/markdown": [
       "1. 1\n",
       "2. 3\n",
       "3. 5\n",
       "4. 7\n",
       "5. 9\n",
       "\n",
       "\n"
      ],
      "text/plain": [
       "[1] 1 3 5 7 9"
      ]
     },
     "metadata": {},
     "output_type": "display_data"
    }
   ],
   "source": [
    "x <- seq(from=1, to=10, by=2)\n",
    "x"
   ]
  },
  {
   "cell_type": "code",
   "execution_count": 5,
   "id": "94a7414c",
   "metadata": {},
   "outputs": [
    {
     "data": {
      "text/html": [
       "<ol class=list-inline>\n",
       "\t<li>1</li>\n",
       "\t<li>3</li>\n",
       "\t<li>5</li>\n",
       "\t<li>7</li>\n",
       "\t<li>9</li>\n",
       "</ol>\n"
      ],
      "text/latex": [
       "\\begin{enumerate*}\n",
       "\\item 1\n",
       "\\item 3\n",
       "\\item 5\n",
       "\\item 7\n",
       "\\item 9\n",
       "\\end{enumerate*}\n"
      ],
      "text/markdown": [
       "1. 1\n",
       "2. 3\n",
       "3. 5\n",
       "4. 7\n",
       "5. 9\n",
       "\n",
       "\n"
      ],
      "text/plain": [
       "[1] 1 3 5 7 9"
      ]
     },
     "metadata": {},
     "output_type": "display_data"
    }
   ],
   "source": [
    "x <- seq(from=1, to=10, by=2)\n",
    "x"
   ]
  },
  {
   "cell_type": "code",
   "execution_count": 6,
   "id": "76dec31e",
   "metadata": {},
   "outputs": [
    {
     "data": {
      "text/html": [
       "<ol class=list-inline>\n",
       "\t<li>1</li>\n",
       "\t<li>3</li>\n",
       "\t<li>5</li>\n",
       "\t<li>7</li>\n",
       "\t<li>9</li>\n",
       "</ol>\n"
      ],
      "text/latex": [
       "\\begin{enumerate*}\n",
       "\\item 1\n",
       "\\item 3\n",
       "\\item 5\n",
       "\\item 7\n",
       "\\item 9\n",
       "\\end{enumerate*}\n"
      ],
      "text/markdown": [
       "1. 1\n",
       "2. 3\n",
       "3. 5\n",
       "4. 7\n",
       "5. 9\n",
       "\n",
       "\n"
      ],
      "text/plain": [
       "[1] 1 3 5 7 9"
      ]
     },
     "metadata": {},
     "output_type": "display_data"
    }
   ],
   "source": [
    " # Note: = can mean assignment, function argument binding or case statement depending on context\n",
    "y = seq(from=1, to=10, by=2)\n",
    "y"
   ]
  },
  {
   "cell_type": "markdown",
   "id": "d0a352b9",
   "metadata": {},
   "source": [
    "### Broad casting"
   ]
  },
  {
   "cell_type": "code",
   "execution_count": 7,
   "id": "cafedd7a",
   "metadata": {},
   "outputs": [
    {
     "data": {
      "text/html": [
       "<ol class=list-inline>\n",
       "\t<li>6</li>\n",
       "\t<li>8</li>\n",
       "\t<li>10</li>\n",
       "\t<li>12</li>\n",
       "\t<li>14</li>\n",
       "</ol>\n"
      ],
      "text/latex": [
       "\\begin{enumerate*}\n",
       "\\item 6\n",
       "\\item 8\n",
       "\\item 10\n",
       "\\item 12\n",
       "\\item 14\n",
       "\\end{enumerate*}\n"
      ],
      "text/markdown": [
       "1. 6\n",
       "2. 8\n",
       "3. 10\n",
       "4. 12\n",
       "5. 14\n",
       "\n",
       "\n"
      ],
      "text/plain": [
       "[1]  6  8 10 12 14"
      ]
     },
     "metadata": {},
     "output_type": "display_data"
    }
   ],
   "source": [
    "x + 5"
   ]
  },
  {
   "cell_type": "markdown",
   "id": "f0e1356c",
   "metadata": {},
   "source": [
    "### Elementwise for 2 vectors with the same length"
   ]
  },
  {
   "cell_type": "code",
   "execution_count": 8,
   "id": "4e754f3f",
   "metadata": {},
   "outputs": [
    {
     "data": {
      "text/html": [
       "<ol class=list-inline>\n",
       "\t<li>2</li>\n",
       "\t<li>6</li>\n",
       "\t<li>10</li>\n",
       "\t<li>14</li>\n",
       "\t<li>18</li>\n",
       "</ol>\n"
      ],
      "text/latex": [
       "\\begin{enumerate*}\n",
       "\\item 2\n",
       "\\item 6\n",
       "\\item 10\n",
       "\\item 14\n",
       "\\item 18\n",
       "\\end{enumerate*}\n"
      ],
      "text/markdown": [
       "1. 2\n",
       "2. 6\n",
       "3. 10\n",
       "4. 14\n",
       "5. 18\n",
       "\n",
       "\n"
      ],
      "text/plain": [
       "[1]  2  6 10 14 18"
      ]
     },
     "metadata": {},
     "output_type": "display_data"
    }
   ],
   "source": [
    "z = x + y\n",
    "z"
   ]
  },
  {
   "cell_type": "markdown",
   "id": "f51e6155",
   "metadata": {},
   "source": [
    "### Subset of a vector"
   ]
  },
  {
   "cell_type": "code",
   "execution_count": 9,
   "id": "e79a406f",
   "metadata": {},
   "outputs": [
    {
     "data": {
      "text/html": [
       "<ol class=list-inline>\n",
       "\t<li>1</li>\n",
       "\t<li>3</li>\n",
       "\t<li>5</li>\n",
       "</ol>\n"
      ],
      "text/latex": [
       "\\begin{enumerate*}\n",
       "\\item 1\n",
       "\\item 3\n",
       "\\item 5\n",
       "\\end{enumerate*}\n"
      ],
      "text/markdown": [
       "1. 1\n",
       "2. 3\n",
       "3. 5\n",
       "\n",
       "\n"
      ],
      "text/plain": [
       "[1] 1 3 5"
      ]
     },
     "metadata": {},
     "output_type": "display_data"
    }
   ],
   "source": [
    "xx = x[1:3]\n",
    "xx"
   ]
  },
  {
   "cell_type": "markdown",
   "id": "ce09f61b",
   "metadata": {},
   "source": [
    "### Access one element"
   ]
  },
  {
   "cell_type": "code",
   "execution_count": 10,
   "id": "5cc49768",
   "metadata": {},
   "outputs": [
    {
     "data": {
      "text/html": [
       "5"
      ],
      "text/latex": [
       "5"
      ],
      "text/markdown": [
       "5"
      ],
      "text/plain": [
       "[1] 5"
      ]
     },
     "metadata": {},
     "output_type": "display_data"
    }
   ],
   "source": [
    "x3 = x[3]\n",
    "x3"
   ]
  },
  {
   "cell_type": "markdown",
   "id": "a793896f",
   "metadata": {},
   "source": [
    "### Remove one element. Note: index in R comes from 1 (NOT 0)"
   ]
  },
  {
   "cell_type": "code",
   "execution_count": 11,
   "id": "6973f983",
   "metadata": {},
   "outputs": [
    {
     "data": {
      "text/html": [
       "<ol class=list-inline>\n",
       "\t<li>1</li>\n",
       "\t<li>3</li>\n",
       "\t<li>7</li>\n",
       "\t<li>9</li>\n",
       "</ol>\n"
      ],
      "text/latex": [
       "\\begin{enumerate*}\n",
       "\\item 1\n",
       "\\item 3\n",
       "\\item 7\n",
       "\\item 9\n",
       "\\end{enumerate*}\n"
      ],
      "text/markdown": [
       "1. 1\n",
       "2. 3\n",
       "3. 7\n",
       "4. 9\n",
       "\n",
       "\n"
      ],
      "text/plain": [
       "[1] 1 3 7 9"
      ]
     },
     "metadata": {},
     "output_type": "display_data"
    }
   ],
   "source": [
    "x <- seq(from=1, to=10, by=2)\n",
    "x_except_index_3 = x[-3]\n",
    "x_except_index_3"
   ]
  },
  {
   "cell_type": "code",
   "execution_count": 12,
   "id": "66206814",
   "metadata": {},
   "outputs": [
    {
     "data": {
      "text/html": [
       "<ol class=list-inline>\n",
       "\t<li>1</li>\n",
       "\t<li>3</li>\n",
       "\t<li>5</li>\n",
       "\t<li>9</li>\n",
       "</ol>\n"
      ],
      "text/latex": [
       "\\begin{enumerate*}\n",
       "\\item 1\n",
       "\\item 3\n",
       "\\item 5\n",
       "\\item 9\n",
       "\\end{enumerate*}\n"
      ],
      "text/markdown": [
       "1. 1\n",
       "2. 3\n",
       "3. 5\n",
       "4. 9\n",
       "\n",
       "\n"
      ],
      "text/plain": [
       "[1] 1 3 5 9"
      ]
     },
     "metadata": {},
     "output_type": "display_data"
    },
    {
     "data": {
      "text/html": [
       "'numeric'"
      ],
      "text/latex": [
       "'numeric'"
      ],
      "text/markdown": [
       "'numeric'"
      ],
      "text/plain": [
       "[1] \"numeric\""
      ]
     },
     "metadata": {},
     "output_type": "display_data"
    }
   ],
   "source": [
    "x <- seq(from=1, to=10, by=2)\n",
    "x_removed_7 = x[x!= 7]\n",
    "x_removed_7\n",
    "class(x_removed_7)"
   ]
  },
  {
   "cell_type": "code",
   "execution_count": 13,
   "id": "13ecf18e",
   "metadata": {},
   "outputs": [
    {
     "data": {
      "text/html": [
       "<ol class=list-inline>\n",
       "\t<li>1</li>\n",
       "\t<li>3</li>\n",
       "\t<li>5</li>\n",
       "</ol>\n"
      ],
      "text/latex": [
       "\\begin{enumerate*}\n",
       "\\item 1\n",
       "\\item 3\n",
       "\\item 5\n",
       "\\end{enumerate*}\n"
      ],
      "text/markdown": [
       "1. 1\n",
       "2. 3\n",
       "3. 5\n",
       "\n",
       "\n"
      ],
      "text/plain": [
       "[1] 1 3 5"
      ]
     },
     "metadata": {},
     "output_type": "display_data"
    },
    {
     "data": {
      "text/html": [
       "'numeric'"
      ],
      "text/latex": [
       "'numeric'"
      ],
      "text/markdown": [
       "'numeric'"
      ],
      "text/plain": [
       "[1] \"numeric\""
      ]
     },
     "metadata": {},
     "output_type": "display_data"
    }
   ],
   "source": [
    "x <- seq(from=1, to=10, by=2)\n",
    "x_removed_7_9 <- x[!x %in% c(7, 9)]\n",
    "x_removed_7_9\n",
    "class(x_removed_7_9)"
   ]
  },
  {
   "cell_type": "markdown",
   "id": "df88670d",
   "metadata": {},
   "source": [
    "### NA ‘Not Available’ / Missing Values  \n",
    "At console >?NA   can see the documentation of NA"
   ]
  },
  {
   "cell_type": "code",
   "execution_count": 14,
   "id": "e7bfc507",
   "metadata": {},
   "outputs": [
    {
     "data": {
      "text/html": [
       "<ol class=list-inline>\n",
       "\t<li>20.7</li>\n",
       "\t<li>&lt;NA&gt;</li>\n",
       "\t<li>10</li>\n",
       "</ol>\n"
      ],
      "text/latex": [
       "\\begin{enumerate*}\n",
       "\\item 20.7\n",
       "\\item <NA>\n",
       "\\item 10\n",
       "\\end{enumerate*}\n"
      ],
      "text/markdown": [
       "1. 20.7\n",
       "2. &lt;NA&gt;\n",
       "3. 10\n",
       "\n",
       "\n"
      ],
      "text/plain": [
       "[1] 20.7   NA 10.0"
      ]
     },
     "metadata": {},
     "output_type": "display_data"
    }
   ],
   "source": [
    "x <- c(20.7, NA, 10)\n",
    "x"
   ]
  },
  {
   "cell_type": "markdown",
   "id": "6a447bab",
   "metadata": {},
   "source": [
    "### Check NA:  is.na(a_value), anyNA(a_vector)"
   ]
  },
  {
   "cell_type": "code",
   "execution_count": 15,
   "id": "2b1e7898",
   "metadata": {},
   "outputs": [
    {
     "data": {
      "text/html": [
       "FALSE"
      ],
      "text/latex": [
       "FALSE"
      ],
      "text/markdown": [
       "FALSE"
      ],
      "text/plain": [
       "[1] FALSE"
      ]
     },
     "metadata": {},
     "output_type": "display_data"
    }
   ],
   "source": [
    "value1 = 'test'\n",
    "is.na(value1)"
   ]
  },
  {
   "cell_type": "code",
   "execution_count": 16,
   "id": "54c6d85d",
   "metadata": {},
   "outputs": [
    {
     "data": {
      "text/html": [
       "TRUE"
      ],
      "text/latex": [
       "TRUE"
      ],
      "text/markdown": [
       "TRUE"
      ],
      "text/plain": [
       "[1] TRUE"
      ]
     },
     "metadata": {},
     "output_type": "display_data"
    }
   ],
   "source": [
    "value2 = NA\n",
    "is.na(value2)"
   ]
  },
  {
   "cell_type": "code",
   "execution_count": 17,
   "id": "1fd6ae18",
   "metadata": {},
   "outputs": [
    {
     "data": {
      "text/html": [
       "FALSE"
      ],
      "text/latex": [
       "FALSE"
      ],
      "text/markdown": [
       "FALSE"
      ],
      "text/plain": [
       "[1] FALSE"
      ]
     },
     "metadata": {},
     "output_type": "display_data"
    }
   ],
   "source": [
    "anyNA(c(10, \"test\", 90.1))"
   ]
  },
  {
   "cell_type": "code",
   "execution_count": 18,
   "id": "9a438c4b",
   "metadata": {},
   "outputs": [
    {
     "data": {
      "text/html": [
       "TRUE"
      ],
      "text/latex": [
       "TRUE"
      ],
      "text/markdown": [
       "TRUE"
      ],
      "text/plain": [
       "[1] TRUE"
      ]
     },
     "metadata": {},
     "output_type": "display_data"
    }
   ],
   "source": [
    "anyNA(c(10, \"test\", NA, 90.1))"
   ]
  },
  {
   "cell_type": "markdown",
   "id": "32775472",
   "metadata": {},
   "source": [
    "### Coercion / casting"
   ]
  },
  {
   "cell_type": "code",
   "execution_count": 19,
   "id": "94f2dc46",
   "metadata": {},
   "outputs": [
    {
     "data": {
      "text/html": [
       "<ol class=list-inline>\n",
       "\t<li>'10'</li>\n",
       "\t<li>'20.9'</li>\n",
       "\t<li>'aa'</li>\n",
       "</ol>\n"
      ],
      "text/latex": [
       "\\begin{enumerate*}\n",
       "\\item '10'\n",
       "\\item '20.9'\n",
       "\\item 'aa'\n",
       "\\end{enumerate*}\n"
      ],
      "text/markdown": [
       "1. '10'\n",
       "2. '20.9'\n",
       "3. 'aa'\n",
       "\n",
       "\n"
      ],
      "text/plain": [
       "[1] \"10\"   \"20.9\" \"aa\"  "
      ]
     },
     "metadata": {},
     "output_type": "display_data"
    }
   ],
   "source": [
    "xx <- c(10, 20.9, 'aa')  # coercion to character type (string)\n",
    "xx"
   ]
  },
  {
   "cell_type": "code",
   "execution_count": 20,
   "id": "6b281a0d",
   "metadata": {},
   "outputs": [
    {
     "data": {
      "text/html": [
       "<ol class=list-inline>\n",
       "\t<li>1</li>\n",
       "\t<li>9</li>\n",
       "\t<li>0</li>\n",
       "</ol>\n"
      ],
      "text/latex": [
       "\\begin{enumerate*}\n",
       "\\item 1\n",
       "\\item 9\n",
       "\\item 0\n",
       "\\end{enumerate*}\n"
      ],
      "text/markdown": [
       "1. 1\n",
       "2. 9\n",
       "3. 0\n",
       "\n",
       "\n"
      ],
      "text/plain": [
       "[1] 1 9 0"
      ]
     },
     "metadata": {},
     "output_type": "display_data"
    }
   ],
   "source": [
    "xx <- c(TRUE, 9, FALSE)  # coercion to integer. TRUE: 1, FALSE: 0\n",
    "xx"
   ]
  },
  {
   "cell_type": "code",
   "execution_count": 21,
   "id": "7981cc13",
   "metadata": {},
   "outputs": [
    {
     "data": {
      "text/html": [
       "<ol class=list-inline>\n",
       "\t<li>'TRUE'</li>\n",
       "\t<li>'a'</li>\n",
       "\t<li>'9'</li>\n",
       "\t<li>'FALSE'</li>\n",
       "</ol>\n"
      ],
      "text/latex": [
       "\\begin{enumerate*}\n",
       "\\item 'TRUE'\n",
       "\\item 'a'\n",
       "\\item '9'\n",
       "\\item 'FALSE'\n",
       "\\end{enumerate*}\n"
      ],
      "text/markdown": [
       "1. 'TRUE'\n",
       "2. 'a'\n",
       "3. '9'\n",
       "4. 'FALSE'\n",
       "\n",
       "\n"
      ],
      "text/plain": [
       "[1] \"TRUE\"  \"a\"     \"9\"     \"FALSE\""
      ]
     },
     "metadata": {},
     "output_type": "display_data"
    }
   ],
   "source": [
    "xx <- c(TRUE, 'a', 9, FALSE)  # coercion to character type (string). \n",
    "                              #TRUE: \"TRUE\", FALSE: \"FALSE\"\n",
    "xx"
   ]
  },
  {
   "cell_type": "code",
   "execution_count": 22,
   "id": "86a30357",
   "metadata": {},
   "outputs": [
    {
     "data": {
      "text/html": [
       "<ol class=list-inline>\n",
       "\t<li>'10'</li>\n",
       "\t<li>'1'</li>\n",
       "\t<li>'aa'</li>\n",
       "</ol>\n"
      ],
      "text/latex": [
       "\\begin{enumerate*}\n",
       "\\item '10'\n",
       "\\item '1'\n",
       "\\item 'aa'\n",
       "\\end{enumerate*}\n"
      ],
      "text/markdown": [
       "1. '10'\n",
       "2. '1'\n",
       "3. 'aa'\n",
       "\n",
       "\n"
      ],
      "text/plain": [
       "[1] \"10\" \"1\"  \"aa\""
      ]
     },
     "metadata": {},
     "output_type": "display_data"
    }
   ],
   "source": [
    "xx <- c(as.character(10), as.character(as.numeric(TRUE)), 'aa') # explicit way \n",
    "xx"
   ]
  },
  {
   "cell_type": "markdown",
   "id": "f4e6a163",
   "metadata": {},
   "source": [
    "### Vector naming"
   ]
  },
  {
   "cell_type": "code",
   "execution_count": 23,
   "id": "3a9fe8ce",
   "metadata": {},
   "outputs": [
    {
     "name": "stdout",
     "output_type": "stream",
     "text": [
      "[1] 1 2 3\n",
      "NULL\n"
     ]
    }
   ],
   "source": [
    "x <- 1:3\n",
    "print(x)\n",
    "name = names(x)  # does x have a name?\n",
    "print(name)      # NULL: meaning no name"
   ]
  },
  {
   "cell_type": "code",
   "execution_count": 24,
   "id": "af802fd5",
   "metadata": {},
   "outputs": [
    {
     "data": {
      "text/html": [
       "<ol class=list-inline>\n",
       "\t<li>'a'</li>\n",
       "\t<li>'b'</li>\n",
       "\t<li>'c'</li>\n",
       "\t<li>'d'</li>\n",
       "\t<li>'e'</li>\n",
       "\t<li>'f'</li>\n",
       "\t<li>'g'</li>\n",
       "\t<li>'h'</li>\n",
       "\t<li>'i'</li>\n",
       "\t<li>'j'</li>\n",
       "\t<li>'k'</li>\n",
       "\t<li>'l'</li>\n",
       "\t<li>'m'</li>\n",
       "\t<li>'n'</li>\n",
       "\t<li>'o'</li>\n",
       "\t<li>'p'</li>\n",
       "\t<li>'q'</li>\n",
       "\t<li>'r'</li>\n",
       "\t<li>'s'</li>\n",
       "\t<li>'t'</li>\n",
       "\t<li>'u'</li>\n",
       "\t<li>'v'</li>\n",
       "\t<li>'w'</li>\n",
       "\t<li>'x'</li>\n",
       "\t<li>'y'</li>\n",
       "\t<li>'z'</li>\n",
       "</ol>\n"
      ],
      "text/latex": [
       "\\begin{enumerate*}\n",
       "\\item 'a'\n",
       "\\item 'b'\n",
       "\\item 'c'\n",
       "\\item 'd'\n",
       "\\item 'e'\n",
       "\\item 'f'\n",
       "\\item 'g'\n",
       "\\item 'h'\n",
       "\\item 'i'\n",
       "\\item 'j'\n",
       "\\item 'k'\n",
       "\\item 'l'\n",
       "\\item 'm'\n",
       "\\item 'n'\n",
       "\\item 'o'\n",
       "\\item 'p'\n",
       "\\item 'q'\n",
       "\\item 'r'\n",
       "\\item 's'\n",
       "\\item 't'\n",
       "\\item 'u'\n",
       "\\item 'v'\n",
       "\\item 'w'\n",
       "\\item 'x'\n",
       "\\item 'y'\n",
       "\\item 'z'\n",
       "\\end{enumerate*}\n"
      ],
      "text/markdown": [
       "1. 'a'\n",
       "2. 'b'\n",
       "3. 'c'\n",
       "4. 'd'\n",
       "5. 'e'\n",
       "6. 'f'\n",
       "7. 'g'\n",
       "8. 'h'\n",
       "9. 'i'\n",
       "10. 'j'\n",
       "11. 'k'\n",
       "12. 'l'\n",
       "13. 'm'\n",
       "14. 'n'\n",
       "15. 'o'\n",
       "16. 'p'\n",
       "17. 'q'\n",
       "18. 'r'\n",
       "19. 's'\n",
       "20. 't'\n",
       "21. 'u'\n",
       "22. 'v'\n",
       "23. 'w'\n",
       "24. 'x'\n",
       "25. 'y'\n",
       "26. 'z'\n",
       "\n",
       "\n"
      ],
      "text/plain": [
       " [1] \"a\" \"b\" \"c\" \"d\" \"e\" \"f\" \"g\" \"h\" \"i\" \"j\" \"k\" \"l\" \"m\" \"n\" \"o\" \"p\" \"q\" \"r\" \"s\"\n",
       "[20] \"t\" \"u\" \"v\" \"w\" \"x\" \"y\" \"z\""
      ]
     },
     "metadata": {},
     "output_type": "display_data"
    }
   ],
   "source": [
    "letters # R provides a list of lower-case letters from 'a' to 'z'"
   ]
  },
  {
   "cell_type": "code",
   "execution_count": 25,
   "id": "6f450838",
   "metadata": {},
   "outputs": [
    {
     "data": {
      "text/html": [
       "<ol class=list-inline>\n",
       "\t<li>'A'</li>\n",
       "\t<li>'B'</li>\n",
       "\t<li>'C'</li>\n",
       "\t<li>'D'</li>\n",
       "\t<li>'E'</li>\n",
       "\t<li>'F'</li>\n",
       "\t<li>'G'</li>\n",
       "\t<li>'H'</li>\n",
       "\t<li>'I'</li>\n",
       "\t<li>'J'</li>\n",
       "\t<li>'K'</li>\n",
       "\t<li>'L'</li>\n",
       "\t<li>'M'</li>\n",
       "\t<li>'N'</li>\n",
       "\t<li>'O'</li>\n",
       "\t<li>'P'</li>\n",
       "\t<li>'Q'</li>\n",
       "\t<li>'R'</li>\n",
       "\t<li>'S'</li>\n",
       "\t<li>'T'</li>\n",
       "\t<li>'U'</li>\n",
       "\t<li>'V'</li>\n",
       "\t<li>'W'</li>\n",
       "\t<li>'X'</li>\n",
       "\t<li>'Y'</li>\n",
       "\t<li>'Z'</li>\n",
       "</ol>\n"
      ],
      "text/latex": [
       "\\begin{enumerate*}\n",
       "\\item 'A'\n",
       "\\item 'B'\n",
       "\\item 'C'\n",
       "\\item 'D'\n",
       "\\item 'E'\n",
       "\\item 'F'\n",
       "\\item 'G'\n",
       "\\item 'H'\n",
       "\\item 'I'\n",
       "\\item 'J'\n",
       "\\item 'K'\n",
       "\\item 'L'\n",
       "\\item 'M'\n",
       "\\item 'N'\n",
       "\\item 'O'\n",
       "\\item 'P'\n",
       "\\item 'Q'\n",
       "\\item 'R'\n",
       "\\item 'S'\n",
       "\\item 'T'\n",
       "\\item 'U'\n",
       "\\item 'V'\n",
       "\\item 'W'\n",
       "\\item 'X'\n",
       "\\item 'Y'\n",
       "\\item 'Z'\n",
       "\\end{enumerate*}\n"
      ],
      "text/markdown": [
       "1. 'A'\n",
       "2. 'B'\n",
       "3. 'C'\n",
       "4. 'D'\n",
       "5. 'E'\n",
       "6. 'F'\n",
       "7. 'G'\n",
       "8. 'H'\n",
       "9. 'I'\n",
       "10. 'J'\n",
       "11. 'K'\n",
       "12. 'L'\n",
       "13. 'M'\n",
       "14. 'N'\n",
       "15. 'O'\n",
       "16. 'P'\n",
       "17. 'Q'\n",
       "18. 'R'\n",
       "19. 'S'\n",
       "20. 'T'\n",
       "21. 'U'\n",
       "22. 'V'\n",
       "23. 'W'\n",
       "24. 'X'\n",
       "25. 'Y'\n",
       "26. 'Z'\n",
       "\n",
       "\n"
      ],
      "text/plain": [
       " [1] \"A\" \"B\" \"C\" \"D\" \"E\" \"F\" \"G\" \"H\" \"I\" \"J\" \"K\" \"L\" \"M\" \"N\" \"O\" \"P\" \"Q\" \"R\" \"S\"\n",
       "[20] \"T\" \"U\" \"V\" \"W\" \"X\" \"Y\" \"Z\""
      ]
     },
     "metadata": {},
     "output_type": "display_data"
    }
   ],
   "source": [
    "LETTERS # R provides a list of upper-case letters from 'A' to 'Z'"
   ]
  },
  {
   "cell_type": "code",
   "execution_count": 26,
   "id": "d5d137cd",
   "metadata": {},
   "outputs": [
    {
     "data": {
      "text/html": [
       "<ol class=list-inline>\n",
       "\t<li>'A'</li>\n",
       "\t<li>'B'</li>\n",
       "\t<li>'C'</li>\n",
       "</ol>\n"
      ],
      "text/latex": [
       "\\begin{enumerate*}\n",
       "\\item 'A'\n",
       "\\item 'B'\n",
       "\\item 'C'\n",
       "\\end{enumerate*}\n"
      ],
      "text/markdown": [
       "1. 'A'\n",
       "2. 'B'\n",
       "3. 'C'\n",
       "\n",
       "\n"
      ],
      "text/plain": [
       "[1] \"A\" \"B\" \"C\""
      ]
     },
     "metadata": {},
     "output_type": "display_data"
    }
   ],
   "source": [
    "LETTERS[1:3]"
   ]
  },
  {
   "cell_type": "code",
   "execution_count": 27,
   "id": "9302deb3",
   "metadata": {},
   "outputs": [
    {
     "name": "stdout",
     "output_type": "stream",
     "text": [
      "[1] \"x before\"\n",
      "[1] 1 2 3\n",
      "[1] \"x after\"\n",
      "A B C \n",
      "1 2 3 \n"
     ]
    }
   ],
   "source": [
    "print('x before')\n",
    "print(x)\n",
    "\n",
    "print('x after')\n",
    "names(x) <- LETTERS[1:3]\n",
    "print(x)"
   ]
  },
  {
   "cell_type": "code",
   "execution_count": 28,
   "id": "64d271e5",
   "metadata": {},
   "outputs": [
    {
     "data": {
      "text/html": [
       "'integer'"
      ],
      "text/latex": [
       "'integer'"
      ],
      "text/markdown": [
       "'integer'"
      ],
      "text/plain": [
       "[1] \"integer\""
      ]
     },
     "metadata": {},
     "output_type": "display_data"
    },
    {
     "data": {
      "text/html": [
       "<strong>A:</strong> 1"
      ],
      "text/latex": [
       "\\textbf{A:} 1"
      ],
      "text/markdown": [
       "**A:** 1"
      ],
      "text/plain": [
       "A \n",
       "1 "
      ]
     },
     "metadata": {},
     "output_type": "display_data"
    }
   ],
   "source": [
    "class(x)\n",
    "x['A']"
   ]
  },
  {
   "cell_type": "code",
   "execution_count": 29,
   "id": "149eaaae",
   "metadata": {},
   "outputs": [
    {
     "data": {
      "text/html": [
       "<dl class=dl-horizontal>\n",
       "\t<dt>A</dt>\n",
       "\t\t<dd>9</dd>\n",
       "\t<dt>B</dt>\n",
       "\t\t<dd>2</dd>\n",
       "\t<dt>C</dt>\n",
       "\t\t<dd>7</dd>\n",
       "</dl>\n"
      ],
      "text/latex": [
       "\\begin{description*}\n",
       "\\item[A] 9\n",
       "\\item[B] 2\n",
       "\\item[C] 7\n",
       "\\end{description*}\n"
      ],
      "text/markdown": [
       "A\n",
       ":   9B\n",
       ":   2C\n",
       ":   7\n",
       "\n"
      ],
      "text/plain": [
       "A B C \n",
       "9 2 7 "
      ]
     },
     "metadata": {},
     "output_type": "display_data"
    }
   ],
   "source": [
    "xx <- c('A'=9, 'B'=2, 'C'=7)  # Assign names directly\n",
    "xx"
   ]
  },
  {
   "cell_type": "markdown",
   "id": "604bb552",
   "metadata": {},
   "source": [
    "### Append values to vector"
   ]
  },
  {
   "cell_type": "code",
   "execution_count": 30,
   "id": "3b1a2cd1",
   "metadata": {},
   "outputs": [
    {
     "data": {
      "text/html": [
       "<ol class=list-inline>\n",
       "\t<li>1</li>\n",
       "\t<li>2</li>\n",
       "\t<li>3</li>\n",
       "\t<li>1</li>\n",
       "\t<li>2</li>\n",
       "\t<li>3</li>\n",
       "\t<li>4</li>\n",
       "\t<li>5</li>\n",
       "\t<li>6</li>\n",
       "</ol>\n"
      ],
      "text/latex": [
       "\\begin{enumerate*}\n",
       "\\item 1\n",
       "\\item 2\n",
       "\\item 3\n",
       "\\item 1\n",
       "\\item 2\n",
       "\\item 3\n",
       "\\item 4\n",
       "\\item 5\n",
       "\\item 6\n",
       "\\end{enumerate*}\n"
      ],
      "text/markdown": [
       "1. 1\n",
       "2. 2\n",
       "3. 3\n",
       "4. 1\n",
       "5. 2\n",
       "6. 3\n",
       "7. 4\n",
       "8. 5\n",
       "9. 6\n",
       "\n",
       "\n"
      ],
      "text/plain": [
       "[1] 1 2 3 1 2 3 4 5 6"
      ]
     },
     "metadata": {},
     "output_type": "display_data"
    }
   ],
   "source": [
    "y <- c(1, 2, 3)     # y is vector 1, 2, 3\n",
    "z <- c(y, 4, 5, 6)  # z is vector 1 2 3 4 5 6\n",
    "zz <- c(y, z)       # zz is vector 1 2 3 1 2 3 4 5 6\n",
    "zz"
   ]
  },
  {
   "cell_type": "markdown",
   "id": "472ae577",
   "metadata": {},
   "source": [
    "### mean(), sum(), min(), max() of vector"
   ]
  },
  {
   "cell_type": "code",
   "execution_count": 31,
   "id": "c72cf8f1",
   "metadata": {},
   "outputs": [
    {
     "data": {
      "text/html": [
       "4"
      ],
      "text/latex": [
       "4"
      ],
      "text/markdown": [
       "4"
      ],
      "text/plain": [
       "[1] 4"
      ]
     },
     "metadata": {},
     "output_type": "display_data"
    },
    {
     "data": {
      "text/html": [
       "&lt;NA&gt;"
      ],
      "text/latex": [
       "<NA>"
      ],
      "text/markdown": [
       "&lt;NA&gt;"
      ],
      "text/plain": [
       "[1] NA"
      ]
     },
     "metadata": {},
     "output_type": "display_data"
    },
    {
     "data": {
      "text/html": [
       "4"
      ],
      "text/latex": [
       "4"
      ],
      "text/markdown": [
       "4"
      ],
      "text/plain": [
       "[1] 4"
      ]
     },
     "metadata": {},
     "output_type": "display_data"
    }
   ],
   "source": [
    "y <- c(2, 4, 6)\n",
    "z <- c(y, NA)\n",
    "mean(y)\n",
    "mean(z)\n",
    "mean(z, na.rm=TRUE)"
   ]
  },
  {
   "cell_type": "markdown",
   "id": "b5ebdb2d",
   "metadata": {},
   "source": [
    "### sort a vector"
   ]
  },
  {
   "cell_type": "code",
   "execution_count": 1,
   "id": "584ccb42",
   "metadata": {},
   "outputs": [
    {
     "data": {
      "text/html": [
       "<ol class=list-inline>\n",
       "\t<li>1</li>\n",
       "\t<li>&lt;NA&gt;</li>\n",
       "\t<li>99</li>\n",
       "\t<li>9</li>\n",
       "\t<li>&lt;NA&gt;</li>\n",
       "</ol>\n"
      ],
      "text/latex": [
       "\\begin{enumerate*}\n",
       "\\item 1\n",
       "\\item <NA>\n",
       "\\item 99\n",
       "\\item 9\n",
       "\\item <NA>\n",
       "\\end{enumerate*}\n"
      ],
      "text/markdown": [
       "1. 1\n",
       "2. &lt;NA&gt;\n",
       "3. 99\n",
       "4. 9\n",
       "5. &lt;NA&gt;\n",
       "\n",
       "\n"
      ],
      "text/plain": [
       "[1]  1 NA 99  9 NA"
      ]
     },
     "metadata": {},
     "output_type": "display_data"
    }
   ],
   "source": [
    "x <- c(1, NA, 99, 9, NA)\n",
    "x"
   ]
  },
  {
   "cell_type": "code",
   "execution_count": 2,
   "id": "c9680f85",
   "metadata": {},
   "outputs": [
    {
     "data": {
      "text/html": [
       "<ol class=list-inline>\n",
       "\t<li>1</li>\n",
       "\t<li>9</li>\n",
       "\t<li>99</li>\n",
       "</ol>\n"
      ],
      "text/latex": [
       "\\begin{enumerate*}\n",
       "\\item 1\n",
       "\\item 9\n",
       "\\item 99\n",
       "\\end{enumerate*}\n"
      ],
      "text/markdown": [
       "1. 1\n",
       "2. 9\n",
       "3. 99\n",
       "\n",
       "\n"
      ],
      "text/plain": [
       "[1]  1  9 99"
      ]
     },
     "metadata": {},
     "output_type": "display_data"
    }
   ],
   "source": [
    "sort(x)"
   ]
  },
  {
   "cell_type": "code",
   "execution_count": 4,
   "id": "a49a8e45",
   "metadata": {},
   "outputs": [
    {
     "data": {
      "text/html": [
       "<ol class=list-inline>\n",
       "\t<li>99</li>\n",
       "\t<li>9</li>\n",
       "\t<li>1</li>\n",
       "</ol>\n"
      ],
      "text/latex": [
       "\\begin{enumerate*}\n",
       "\\item 99\n",
       "\\item 9\n",
       "\\item 1\n",
       "\\end{enumerate*}\n"
      ],
      "text/markdown": [
       "1. 99\n",
       "2. 9\n",
       "3. 1\n",
       "\n",
       "\n"
      ],
      "text/plain": [
       "[1] 99  9  1"
      ]
     },
     "metadata": {},
     "output_type": "display_data"
    }
   ],
   "source": [
    "sort(x, decreasing = TRUE)"
   ]
  },
  {
   "cell_type": "code",
   "execution_count": 6,
   "id": "9ad11231",
   "metadata": {},
   "outputs": [
    {
     "data": {
      "text/html": [
       "<ol class=list-inline>\n",
       "\t<li>1</li>\n",
       "\t<li>9</li>\n",
       "\t<li>99</li>\n",
       "</ol>\n"
      ],
      "text/latex": [
       "\\begin{enumerate*}\n",
       "\\item 1\n",
       "\\item 9\n",
       "\\item 99\n",
       "\\end{enumerate*}\n"
      ],
      "text/markdown": [
       "1. 1\n",
       "2. 9\n",
       "3. 99\n",
       "\n",
       "\n"
      ],
      "text/plain": [
       "[1]  1  9 99"
      ]
     },
     "metadata": {},
     "output_type": "display_data"
    }
   ],
   "source": [
    "sort(x, decreasing = FALSE, na.last = NA)"
   ]
  },
  {
   "cell_type": "code",
   "execution_count": 7,
   "id": "81f31d53",
   "metadata": {},
   "outputs": [
    {
     "data": {
      "text/html": [
       "<ol class=list-inline>\n",
       "\t<li>1</li>\n",
       "\t<li>9</li>\n",
       "\t<li>99</li>\n",
       "\t<li>&lt;NA&gt;</li>\n",
       "\t<li>&lt;NA&gt;</li>\n",
       "</ol>\n"
      ],
      "text/latex": [
       "\\begin{enumerate*}\n",
       "\\item 1\n",
       "\\item 9\n",
       "\\item 99\n",
       "\\item <NA>\n",
       "\\item <NA>\n",
       "\\end{enumerate*}\n"
      ],
      "text/markdown": [
       "1. 1\n",
       "2. 9\n",
       "3. 99\n",
       "4. &lt;NA&gt;\n",
       "5. &lt;NA&gt;\n",
       "\n",
       "\n"
      ],
      "text/plain": [
       "[1]  1  9 99 NA NA"
      ]
     },
     "metadata": {},
     "output_type": "display_data"
    }
   ],
   "source": [
    "sort(x, decreasing = FALSE, na.last = TRUE)"
   ]
  },
  {
   "cell_type": "code",
   "execution_count": 8,
   "id": "fedcc254",
   "metadata": {},
   "outputs": [
    {
     "data": {
      "text/html": [
       "<ol class=list-inline>\n",
       "\t<li>&lt;NA&gt;</li>\n",
       "\t<li>&lt;NA&gt;</li>\n",
       "\t<li>1</li>\n",
       "\t<li>9</li>\n",
       "\t<li>99</li>\n",
       "</ol>\n"
      ],
      "text/latex": [
       "\\begin{enumerate*}\n",
       "\\item <NA>\n",
       "\\item <NA>\n",
       "\\item 1\n",
       "\\item 9\n",
       "\\item 99\n",
       "\\end{enumerate*}\n"
      ],
      "text/markdown": [
       "1. &lt;NA&gt;\n",
       "2. &lt;NA&gt;\n",
       "3. 1\n",
       "4. 9\n",
       "5. 99\n",
       "\n",
       "\n"
      ],
      "text/plain": [
       "[1] NA NA  1  9 99"
      ]
     },
     "metadata": {},
     "output_type": "display_data"
    }
   ],
   "source": [
    "sort(x, decreasing = FALSE, na.last = FALSE)"
   ]
  },
  {
   "cell_type": "markdown",
   "id": "d60eabc2",
   "metadata": {},
   "source": [
    "# II. Operations with Vector"
   ]
  },
  {
   "cell_type": "markdown",
   "id": "ddd79223",
   "metadata": {},
   "source": [
    "### Add Leading character to every element in vec"
   ]
  },
  {
   "cell_type": "code",
   "execution_count": 32,
   "id": "f6dbdb96",
   "metadata": {},
   "outputs": [
    {
     "data": {
      "text/html": [
       "<ol class=list-inline>\n",
       "\t<li>'AA'</li>\n",
       "\t<li>'BB'</li>\n",
       "</ol>\n"
      ],
      "text/latex": [
       "\\begin{enumerate*}\n",
       "\\item 'AA'\n",
       "\\item 'BB'\n",
       "\\end{enumerate*}\n"
      ],
      "text/markdown": [
       "1. 'AA'\n",
       "2. 'BB'\n",
       "\n",
       "\n"
      ],
      "text/plain": [
       "[1] \"AA\" \"BB\""
      ]
     },
     "metadata": {},
     "output_type": "display_data"
    }
   ],
   "source": [
    "vec <- c('AA', 'BB')\n",
    "vec"
   ]
  },
  {
   "cell_type": "code",
   "execution_count": 33,
   "id": "c943e62e",
   "metadata": {},
   "outputs": [
    {
     "data": {
      "text/html": [
       "<ol class=list-inline>\n",
       "\t<li>'^AA'</li>\n",
       "\t<li>'^BB'</li>\n",
       "</ol>\n"
      ],
      "text/latex": [
       "\\begin{enumerate*}\n",
       "\\item '\\textasciicircum{}AA'\n",
       "\\item '\\textasciicircum{}BB'\n",
       "\\end{enumerate*}\n"
      ],
      "text/markdown": [
       "1. '^AA'\n",
       "2. '^BB'\n",
       "\n",
       "\n"
      ],
      "text/plain": [
       "[1] \"^AA\" \"^BB\""
      ]
     },
     "metadata": {},
     "output_type": "display_data"
    }
   ],
   "source": [
    "# Add ^ \n",
    "new_vec <- paste0(\"^\", vec)\n",
    "new_vec"
   ]
  },
  {
   "cell_type": "markdown",
   "id": "af2dec22",
   "metadata": {},
   "source": [
    "### Replicate values"
   ]
  },
  {
   "cell_type": "code",
   "execution_count": 34,
   "id": "59eee83f",
   "metadata": {},
   "outputs": [
    {
     "data": {
      "text/html": [
       "<ol class=list-inline>\n",
       "\t<li>'Test'</li>\n",
       "\t<li>'Test'</li>\n",
       "\t<li>'Test'</li>\n",
       "\t<li>'Test'</li>\n",
       "\t<li>'Test'</li>\n",
       "</ol>\n"
      ],
      "text/latex": [
       "\\begin{enumerate*}\n",
       "\\item 'Test'\n",
       "\\item 'Test'\n",
       "\\item 'Test'\n",
       "\\item 'Test'\n",
       "\\item 'Test'\n",
       "\\end{enumerate*}\n"
      ],
      "text/markdown": [
       "1. 'Test'\n",
       "2. 'Test'\n",
       "3. 'Test'\n",
       "4. 'Test'\n",
       "5. 'Test'\n",
       "\n",
       "\n"
      ],
      "text/plain": [
       "[1] \"Test\" \"Test\" \"Test\" \"Test\" \"Test\""
      ]
     },
     "metadata": {},
     "output_type": "display_data"
    }
   ],
   "source": [
    "rep('Test', 5)"
   ]
  },
  {
   "cell_type": "code",
   "execution_count": null,
   "id": "dd3c878c",
   "metadata": {},
   "outputs": [],
   "source": []
  }
 ],
 "metadata": {
  "kernelspec": {
   "display_name": "R",
   "language": "R",
   "name": "ir"
  },
  "language_info": {
   "codemirror_mode": "r",
   "file_extension": ".r",
   "mimetype": "text/x-r-source",
   "name": "R",
   "pygments_lexer": "r",
   "version": "3.6.1"
  }
 },
 "nbformat": 4,
 "nbformat_minor": 5
}
