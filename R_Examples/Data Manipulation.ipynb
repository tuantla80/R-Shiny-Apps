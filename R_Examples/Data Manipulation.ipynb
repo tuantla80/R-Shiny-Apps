{
 "cells": [
  {
   "cell_type": "markdown",
   "id": "9847111b",
   "metadata": {},
   "source": []
  },
  {
   "cell_type": "code",
   "execution_count": 15,
   "id": "11fb6839",
   "metadata": {},
   "outputs": [
    {
     "name": "stderr",
     "output_type": "stream",
     "text": [
      "Warning message:\n",
      "\"package 'tidyr' was built under R version 3.6.3\"\n",
      "Attaching package: 'tidyr'\n",
      "\n",
      "The following object is masked from 'package:magrittr':\n",
      "\n",
      "    extract\n",
      "\n"
     ]
    },
    {
     "ename": "ERROR",
     "evalue": "Error in library(skimr): there is no package called 'skimr'\n",
     "output_type": "error",
     "traceback": [
      "Error in library(skimr): there is no package called 'skimr'\nTraceback:\n",
      "1. library(skimr)"
     ]
    }
   ],
   "source": [
    "library(dplyr)\n",
    "library(tidyr)\n",
    "library(skimr)\n",
    "library(rsample)  # install.packages(\"rsample\")"
   ]
  },
  {
   "cell_type": "markdown",
   "id": "a72d5ad3",
   "metadata": {},
   "source": [
    "## 1. Pipe operator: %>%"
   ]
  },
  {
   "cell_type": "code",
   "execution_count": 3,
   "id": "7822d0e4",
   "metadata": {},
   "outputs": [
    {
     "data": {
      "text/html": [
       "5.5"
      ],
      "text/latex": [
       "5.5"
      ],
      "text/markdown": [
       "5.5"
      ],
      "text/plain": [
       "[1] 5.5"
      ]
     },
     "metadata": {},
     "output_type": "display_data"
    }
   ],
   "source": [
    "1:10 %>% mean()  # === mean(1:10)"
   ]
  },
  {
   "cell_type": "code",
   "execution_count": 4,
   "id": "925924e0",
   "metadata": {},
   "outputs": [
    {
     "data": {
      "text/html": [
       "5"
      ],
      "text/latex": [
       "5"
      ],
      "text/markdown": [
       "5"
      ],
      "text/plain": [
       "[1] 5"
      ]
     },
     "metadata": {},
     "output_type": "display_data"
    }
   ],
   "source": [
    "1:10 %>% mean() %>% floor() # === floor(mean(1:10))"
   ]
  },
  {
   "cell_type": "code",
   "execution_count": 5,
   "id": "5599cdba",
   "metadata": {},
   "outputs": [
    {
     "name": "stdout",
     "output_type": "stream",
     "text": [
      "[1] 5\n"
     ]
    }
   ],
   "source": [
    "1:10 %>%                  # array\n",
    "   mean(na.rm=FALSE) %>%  # mean\n",
    "   floor()  %>%           # floor\n",
    "   print()"
   ]
  },
  {
   "cell_type": "code",
   "execution_count": 6,
   "id": "a9c2460a",
   "metadata": {},
   "outputs": [
    {
     "data": {
      "text/html": [
       "<span style=white-space:pre-wrap>'Hello  World'</span>"
      ],
      "text/latex": [
       "'Hello  World'"
      ],
      "text/markdown": [
       "<span style=white-space:pre-wrap>'Hello  World'</span>"
      ],
      "text/plain": [
       "[1] \"Hello  World\""
      ]
     },
     "metadata": {},
     "output_type": "display_data"
    }
   ],
   "source": [
    "'Hello' %>%\n",
    "   paste(\" World\")"
   ]
  },
  {
   "cell_type": "markdown",
   "id": "91dd9051",
   "metadata": {},
   "source": [
    "## 2. manipulation: starwars"
   ]
  },
  {
   "cell_type": "code",
   "execution_count": 9,
   "id": "129e10a3",
   "metadata": {},
   "outputs": [
    {
     "data": {
      "text/html": [
       "<table>\n",
       "<thead><tr><th scope=col>name</th><th scope=col>height</th><th scope=col>mass</th><th scope=col>hair_color</th><th scope=col>skin_color</th><th scope=col>eye_color</th><th scope=col>birth_year</th><th scope=col>sex</th><th scope=col>gender</th><th scope=col>homeworld</th><th scope=col>species</th><th scope=col>films</th><th scope=col>vehicles</th><th scope=col>starships</th></tr></thead>\n",
       "<tbody>\n",
       "\t<tr><td>Luke Skywalker                                                                                                             </td><td>172                                                                                                                        </td><td>77                                                                                                                         </td><td>blond                                                                                                                      </td><td>fair                                                                                                                       </td><td>blue                                                                                                                       </td><td> 19                                                                                                                        </td><td>male                                                                                                                       </td><td>masculine                                                                                                                  </td><td>Tatooine                                                                                                                   </td><td>Human                                                                                                                      </td><td>The Empire Strikes Back, Revenge of the Sith    , Return of the Jedi     , A New Hope             , The Force Awakens      </td><td>Snowspeeder          , Imperial Speeder Bike                                                                               </td><td>X-wing          , Imperial shuttle                                                                                         </td></tr>\n",
       "\t<tr><td>C-3PO                                                                                                                                               </td><td>167                                                                                                                                                 </td><td>75                                                                                                                                                  </td><td>NA                                                                                                                                                  </td><td>gold                                                                                                                                                </td><td>yellow                                                                                                                                              </td><td>112                                                                                                                                                 </td><td>none                                                                                                                                                </td><td>masculine                                                                                                                                           </td><td>Tatooine                                                                                                                                            </td><td>Droid                                                                                                                                               </td><td>The Empire Strikes Back, Attack of the Clones   , The Phantom Menace     , Revenge of the Sith    , Return of the Jedi     , A New Hope             </td><td>                                                                                                                                                    </td><td>                                                                                                                                                    </td></tr>\n",
       "</tbody>\n",
       "</table>\n"
      ],
      "text/latex": [
       "\\begin{tabular}{r|llllllllllllll}\n",
       " name & height & mass & hair\\_color & skin\\_color & eye\\_color & birth\\_year & sex & gender & homeworld & species & films & vehicles & starships\\\\\n",
       "\\hline\n",
       "\t Luke Skywalker                                                                                                              & 172                                                                                                                         & 77                                                                                                                          & blond                                                                                                                       & fair                                                                                                                        & blue                                                                                                                        &  19                                                                                                                         & male                                                                                                                        & masculine                                                                                                                   & Tatooine                                                                                                                    & Human                                                                                                                       & The Empire Strikes Back, Revenge of the Sith    , Return of the Jedi     , A New Hope             , The Force Awakens       & Snowspeeder          , Imperial Speeder Bike                                                                                & X-wing          , Imperial shuttle                                                                                         \\\\\n",
       "\t C-3PO                                                                                                                                                & 167                                                                                                                                                  & 75                                                                                                                                                   & NA                                                                                                                                                   & gold                                                                                                                                                 & yellow                                                                                                                                               & 112                                                                                                                                                  & none                                                                                                                                                 & masculine                                                                                                                                            & Tatooine                                                                                                                                             & Droid                                                                                                                                                & The Empire Strikes Back, Attack of the Clones   , The Phantom Menace     , Revenge of the Sith    , Return of the Jedi     , A New Hope              &                                                                                                                                                      &                                                                                                                                                     \\\\\n",
       "\\end{tabular}\n"
      ],
      "text/markdown": [
       "\n",
       "| name | height | mass | hair_color | skin_color | eye_color | birth_year | sex | gender | homeworld | species | films | vehicles | starships |\n",
       "|---|---|---|---|---|---|---|---|---|---|---|---|---|---|\n",
       "| Luke Skywalker                                                                                                              | 172                                                                                                                         | 77                                                                                                                          | blond                                                                                                                       | fair                                                                                                                        | blue                                                                                                                        |  19                                                                                                                         | male                                                                                                                        | masculine                                                                                                                   | Tatooine                                                                                                                    | Human                                                                                                                       | The Empire Strikes Back, Revenge of the Sith    , Return of the Jedi     , A New Hope             , The Force Awakens       | Snowspeeder          , Imperial Speeder Bike                                                                                | X-wing          , Imperial shuttle                                                                                          |\n",
       "| C-3PO                                                                                                                                                | 167                                                                                                                                                  | 75                                                                                                                                                   | NA                                                                                                                                                   | gold                                                                                                                                                 | yellow                                                                                                                                               | 112                                                                                                                                                  | none                                                                                                                                                 | masculine                                                                                                                                            | Tatooine                                                                                                                                             | Droid                                                                                                                                                | The Empire Strikes Back, Attack of the Clones   , The Phantom Menace     , Revenge of the Sith    , Return of the Jedi     , A New Hope              |                                                                                                                                                      |                                                                                                                                                      |\n",
       "\n"
      ],
      "text/plain": [
       "  name           height mass hair_color skin_color eye_color birth_year sex \n",
       "1 Luke Skywalker 172    77   blond      fair       blue       19        male\n",
       "2 C-3PO          167    75   NA         gold       yellow    112        none\n",
       "  gender    homeworld species\n",
       "1 masculine Tatooine  Human  \n",
       "2 masculine Tatooine  Droid  \n",
       "  films                                                                                                                                               \n",
       "1 The Empire Strikes Back, Revenge of the Sith    , Return of the Jedi     , A New Hope             , The Force Awakens                               \n",
       "2 The Empire Strikes Back, Attack of the Clones   , The Phantom Menace     , Revenge of the Sith    , Return of the Jedi     , A New Hope             \n",
       "  vehicles                                    \n",
       "1 Snowspeeder          , Imperial Speeder Bike\n",
       "2                                             \n",
       "  starships                         \n",
       "1 X-wing          , Imperial shuttle\n",
       "2                                   "
      ]
     },
     "metadata": {},
     "output_type": "display_data"
    }
   ],
   "source": [
    "head(starwars, 2)  # starwars: a dataframe in R\n",
    "# Access cols. Eg. starwars['eye_color'] return single column dataframe\n",
    "#                  starwars[['eye_color']] (or starwars$eye_color) return a vector "
   ]
  },
  {
   "cell_type": "markdown",
   "id": "1298b24e",
   "metadata": {},
   "source": [
    "### unique()"
   ]
  },
  {
   "cell_type": "code",
   "execution_count": 11,
   "id": "f34c4079",
   "metadata": {},
   "outputs": [
    {
     "data": {
      "text/html": [
       "<ol class=list-inline>\n",
       "\t<li>'blue'</li>\n",
       "\t<li>'yellow'</li>\n",
       "\t<li>'red'</li>\n",
       "\t<li>'brown'</li>\n",
       "\t<li>'blue-gray'</li>\n",
       "\t<li>'black'</li>\n",
       "\t<li>'orange'</li>\n",
       "\t<li>'hazel'</li>\n",
       "\t<li>'pink'</li>\n",
       "\t<li>'unknown'</li>\n",
       "\t<li>'red, blue'</li>\n",
       "\t<li>'gold'</li>\n",
       "\t<li>'green, yellow'</li>\n",
       "\t<li>'white'</li>\n",
       "\t<li>'dark'</li>\n",
       "</ol>\n"
      ],
      "text/latex": [
       "\\begin{enumerate*}\n",
       "\\item 'blue'\n",
       "\\item 'yellow'\n",
       "\\item 'red'\n",
       "\\item 'brown'\n",
       "\\item 'blue-gray'\n",
       "\\item 'black'\n",
       "\\item 'orange'\n",
       "\\item 'hazel'\n",
       "\\item 'pink'\n",
       "\\item 'unknown'\n",
       "\\item 'red, blue'\n",
       "\\item 'gold'\n",
       "\\item 'green, yellow'\n",
       "\\item 'white'\n",
       "\\item 'dark'\n",
       "\\end{enumerate*}\n"
      ],
      "text/markdown": [
       "1. 'blue'\n",
       "2. 'yellow'\n",
       "3. 'red'\n",
       "4. 'brown'\n",
       "5. 'blue-gray'\n",
       "6. 'black'\n",
       "7. 'orange'\n",
       "8. 'hazel'\n",
       "9. 'pink'\n",
       "10. 'unknown'\n",
       "11. 'red, blue'\n",
       "12. 'gold'\n",
       "13. 'green, yellow'\n",
       "14. 'white'\n",
       "15. 'dark'\n",
       "\n",
       "\n"
      ],
      "text/plain": [
       " [1] \"blue\"          \"yellow\"        \"red\"           \"brown\"        \n",
       " [5] \"blue-gray\"     \"black\"         \"orange\"        \"hazel\"        \n",
       " [9] \"pink\"          \"unknown\"       \"red, blue\"     \"gold\"         \n",
       "[13] \"green, yellow\" \"white\"         \"dark\"         "
      ]
     },
     "metadata": {},
     "output_type": "display_data"
    }
   ],
   "source": [
    "starwars[['eye_color']] %>% unique()"
   ]
  },
  {
   "cell_type": "markdown",
   "id": "9698f748",
   "metadata": {},
   "source": [
    "### Select rows where eye_color = black"
   ]
  },
  {
   "cell_type": "code",
   "execution_count": 12,
   "id": "65a16e07",
   "metadata": {},
   "outputs": [
    {
     "data": {
      "text/html": [
       "<table>\n",
       "<thead><tr><th scope=col>name</th><th scope=col>height</th><th scope=col>mass</th><th scope=col>hair_color</th><th scope=col>skin_color</th><th scope=col>eye_color</th><th scope=col>birth_year</th><th scope=col>sex</th><th scope=col>gender</th><th scope=col>homeworld</th><th scope=col>species</th><th scope=col>films</th><th scope=col>vehicles</th><th scope=col>starships</th></tr></thead>\n",
       "<tbody>\n",
       "\t<tr><td>Greedo          </td><td>173             </td><td>74              </td><td>NA              </td><td>green           </td><td>black           </td><td>44              </td><td>male            </td><td>masculine       </td><td>Rodia           </td><td>Rodian          </td><td>A New Hope      </td><td>                </td><td>                </td></tr>\n",
       "\t<tr><td>Nien Nunb         </td><td>160               </td><td>68                </td><td>none              </td><td>grey              </td><td>black             </td><td>NA                </td><td>male              </td><td>masculine         </td><td>Sullust           </td><td>Sullustan         </td><td>Return of the Jedi</td><td>                  </td><td>Millennium Falcon </td></tr>\n",
       "\t<tr><td>Gasgano           </td><td>122               </td><td>NA                </td><td>none              </td><td>white, blue       </td><td>black             </td><td>NA                </td><td>male              </td><td>masculine         </td><td>Troiken           </td><td>Xexto             </td><td>The Phantom Menace</td><td>                  </td><td>                  </td></tr>\n",
       "\t<tr><td>Kit Fisto                                                       </td><td>196                                                             </td><td>87                                                              </td><td>none                                                            </td><td>green                                                           </td><td>black                                                           </td><td>NA                                                              </td><td>male                                                            </td><td>masculine                                                       </td><td>Glee Anselm                                                     </td><td>Nautolan                                                        </td><td>Attack of the Clones, The Phantom Menace  , Revenge of the Sith </td><td>                                                                </td><td>                                                                </td></tr>\n",
       "\t<tr><td>Plo Koon                                                        </td><td>188                                                             </td><td>80                                                              </td><td>none                                                            </td><td>orange                                                          </td><td>black                                                           </td><td>22                                                              </td><td>male                                                            </td><td>masculine                                                       </td><td>Dorin                                                           </td><td>Kel Dor                                                         </td><td>Attack of the Clones, The Phantom Menace  , Revenge of the Sith </td><td>                                                                </td><td>Jedi starfighter                                                </td></tr>\n",
       "\t<tr><td>Lama Su             </td><td>229                 </td><td>88                  </td><td>none                </td><td>grey                </td><td>black               </td><td>NA                  </td><td>male                </td><td>masculine           </td><td>Kamino              </td><td>Kaminoan            </td><td>Attack of the Clones</td><td>                    </td><td>                    </td></tr>\n",
       "\t<tr><td>Taun We             </td><td>213                 </td><td>NA                  </td><td>none                </td><td>grey                </td><td>black               </td><td>NA                  </td><td>female              </td><td>feminine            </td><td>Kamino              </td><td>Kaminoan            </td><td>Attack of the Clones</td><td>                    </td><td>                    </td></tr>\n",
       "\t<tr><td>Shaak Ti                                  </td><td>178                                       </td><td>57                                        </td><td>none                                      </td><td>red, blue, white                          </td><td>black                                     </td><td>NA                                        </td><td>female                                    </td><td>feminine                                  </td><td>Shili                                     </td><td>Togruta                                   </td><td>Attack of the Clones, Revenge of the Sith </td><td>                                          </td><td>                                          </td></tr>\n",
       "\t<tr><td>Tion Medon         </td><td>206                </td><td>80                 </td><td>none               </td><td>grey               </td><td>black              </td><td>NA                 </td><td>male               </td><td>masculine          </td><td>Utapau             </td><td>Pau'an             </td><td>Revenge of the Sith</td><td>                   </td><td>                   </td></tr>\n",
       "\t<tr><td>BB8              </td><td> NA              </td><td>NA               </td><td>none             </td><td>none             </td><td>black            </td><td>NA               </td><td>none             </td><td>masculine        </td><td>NA               </td><td>Droid            </td><td>The Force Awakens</td><td>                 </td><td>                 </td></tr>\n",
       "</tbody>\n",
       "</table>\n"
      ],
      "text/latex": [
       "\\begin{tabular}{r|llllllllllllll}\n",
       " name & height & mass & hair\\_color & skin\\_color & eye\\_color & birth\\_year & sex & gender & homeworld & species & films & vehicles & starships\\\\\n",
       "\\hline\n",
       "\t Greedo           & 173              & 74               & NA               & green            & black            & 44               & male             & masculine        & Rodia            & Rodian           & A New Hope       &                  &                 \\\\\n",
       "\t Nien Nunb          & 160                & 68                 & none               & grey               & black              & NA                 & male               & masculine          & Sullust            & Sullustan          & Return of the Jedi &                    & Millennium Falcon \\\\\n",
       "\t Gasgano            & 122                & NA                 & none               & white, blue        & black              & NA                 & male               & masculine          & Troiken            & Xexto              & The Phantom Menace &                    &                   \\\\\n",
       "\t Kit Fisto                                                        & 196                                                              & 87                                                               & none                                                             & green                                                            & black                                                            & NA                                                               & male                                                             & masculine                                                        & Glee Anselm                                                      & Nautolan                                                         & Attack of the Clones, The Phantom Menace  , Revenge of the Sith  &                                                                  &                                                                 \\\\\n",
       "\t Plo Koon                                                         & 188                                                              & 80                                                               & none                                                             & orange                                                           & black                                                            & 22                                                               & male                                                             & masculine                                                        & Dorin                                                            & Kel Dor                                                          & Attack of the Clones, The Phantom Menace  , Revenge of the Sith  &                                                                  & Jedi starfighter                                                \\\\\n",
       "\t Lama Su              & 229                  & 88                   & none                 & grey                 & black                & NA                   & male                 & masculine            & Kamino               & Kaminoan             & Attack of the Clones &                      &                     \\\\\n",
       "\t Taun We              & 213                  & NA                   & none                 & grey                 & black                & NA                   & female               & feminine             & Kamino               & Kaminoan             & Attack of the Clones &                      &                     \\\\\n",
       "\t Shaak Ti                                   & 178                                        & 57                                         & none                                       & red, blue, white                           & black                                      & NA                                         & female                                     & feminine                                   & Shili                                      & Togruta                                    & Attack of the Clones, Revenge of the Sith  &                                            &                                           \\\\\n",
       "\t Tion Medon          & 206                 & 80                  & none                & grey                & black               & NA                  & male                & masculine           & Utapau              & Pau'an              & Revenge of the Sith &                     &                    \\\\\n",
       "\t BB8               &  NA               & NA                & none              & none              & black             & NA                & none              & masculine         & NA                & Droid             & The Force Awakens &                   &                  \\\\\n",
       "\\end{tabular}\n"
      ],
      "text/markdown": [
       "\n",
       "| name | height | mass | hair_color | skin_color | eye_color | birth_year | sex | gender | homeworld | species | films | vehicles | starships |\n",
       "|---|---|---|---|---|---|---|---|---|---|---|---|---|---|\n",
       "| Greedo           | 173              | 74               | NA               | green            | black            | 44               | male             | masculine        | Rodia            | Rodian           | A New Hope       |                  |                  |\n",
       "| Nien Nunb          | 160                | 68                 | none               | grey               | black              | NA                 | male               | masculine          | Sullust            | Sullustan          | Return of the Jedi |                    | Millennium Falcon  |\n",
       "| Gasgano            | 122                | NA                 | none               | white, blue        | black              | NA                 | male               | masculine          | Troiken            | Xexto              | The Phantom Menace |                    |                    |\n",
       "| Kit Fisto                                                        | 196                                                              | 87                                                               | none                                                             | green                                                            | black                                                            | NA                                                               | male                                                             | masculine                                                        | Glee Anselm                                                      | Nautolan                                                         | Attack of the Clones, The Phantom Menace  , Revenge of the Sith  |                                                                  |                                                                  |\n",
       "| Plo Koon                                                         | 188                                                              | 80                                                               | none                                                             | orange                                                           | black                                                            | 22                                                               | male                                                             | masculine                                                        | Dorin                                                            | Kel Dor                                                          | Attack of the Clones, The Phantom Menace  , Revenge of the Sith  |                                                                  | Jedi starfighter                                                 |\n",
       "| Lama Su              | 229                  | 88                   | none                 | grey                 | black                | NA                   | male                 | masculine            | Kamino               | Kaminoan             | Attack of the Clones |                      |                      |\n",
       "| Taun We              | 213                  | NA                   | none                 | grey                 | black                | NA                   | female               | feminine             | Kamino               | Kaminoan             | Attack of the Clones |                      |                      |\n",
       "| Shaak Ti                                   | 178                                        | 57                                         | none                                       | red, blue, white                           | black                                      | NA                                         | female                                     | feminine                                   | Shili                                      | Togruta                                    | Attack of the Clones, Revenge of the Sith  |                                            |                                            |\n",
       "| Tion Medon          | 206                 | 80                  | none                | grey                | black               | NA                  | male                | masculine           | Utapau              | Pau'an              | Revenge of the Sith |                     |                     |\n",
       "| BB8               |  NA               | NA                | none              | none              | black             | NA                | none              | masculine         | NA                | Droid             | The Force Awakens |                   |                   |\n",
       "\n"
      ],
      "text/plain": [
       "   name       height mass hair_color skin_color       eye_color birth_year\n",
       "1  Greedo     173    74   NA         green            black     44        \n",
       "2  Nien Nunb  160    68   none       grey             black     NA        \n",
       "3  Gasgano    122    NA   none       white, blue      black     NA        \n",
       "4  Kit Fisto  196    87   none       green            black     NA        \n",
       "5  Plo Koon   188    80   none       orange           black     22        \n",
       "6  Lama Su    229    88   none       grey             black     NA        \n",
       "7  Taun We    213    NA   none       grey             black     NA        \n",
       "8  Shaak Ti   178    57   none       red, blue, white black     NA        \n",
       "9  Tion Medon 206    80   none       grey             black     NA        \n",
       "10 BB8         NA    NA   none       none             black     NA        \n",
       "   sex    gender    homeworld   species  \n",
       "1  male   masculine Rodia       Rodian   \n",
       "2  male   masculine Sullust     Sullustan\n",
       "3  male   masculine Troiken     Xexto    \n",
       "4  male   masculine Glee Anselm Nautolan \n",
       "5  male   masculine Dorin       Kel Dor  \n",
       "6  male   masculine Kamino      Kaminoan \n",
       "7  female feminine  Kamino      Kaminoan \n",
       "8  female feminine  Shili       Togruta  \n",
       "9  male   masculine Utapau      Pau'an   \n",
       "10 none   masculine NA          Droid    \n",
       "   films                                                            vehicles\n",
       "1  A New Hope                                                               \n",
       "2  Return of the Jedi                                                       \n",
       "3  The Phantom Menace                                                       \n",
       "4  Attack of the Clones, The Phantom Menace  , Revenge of the Sith          \n",
       "5  Attack of the Clones, The Phantom Menace  , Revenge of the Sith          \n",
       "6  Attack of the Clones                                                     \n",
       "7  Attack of the Clones                                                     \n",
       "8  Attack of the Clones, Revenge of the Sith                                \n",
       "9  Revenge of the Sith                                                      \n",
       "10 The Force Awakens                                                        \n",
       "   starships        \n",
       "1                   \n",
       "2  Millennium Falcon\n",
       "3                   \n",
       "4                   \n",
       "5  Jedi starfighter \n",
       "6                   \n",
       "7                   \n",
       "8                   \n",
       "9                   \n",
       "10                  "
      ]
     },
     "metadata": {},
     "output_type": "display_data"
    }
   ],
   "source": [
    "starwars  %>% \n",
    "   filter(eye_color == \"black\")  # NOTE: not use filter(\"eye_color\" == \"black\") "
   ]
  },
  {
   "cell_type": "markdown",
   "id": "60abdd97",
   "metadata": {},
   "source": [
    "### Select rows where ..."
   ]
  },
  {
   "cell_type": "code",
   "execution_count": 13,
   "id": "5ea5cfd4",
   "metadata": {},
   "outputs": [
    {
     "data": {
      "text/html": [
       "<table>\n",
       "<thead><tr><th scope=col>name</th><th scope=col>height</th><th scope=col>mass</th><th scope=col>hair_color</th><th scope=col>skin_color</th><th scope=col>eye_color</th><th scope=col>birth_year</th><th scope=col>sex</th><th scope=col>gender</th><th scope=col>homeworld</th><th scope=col>species</th><th scope=col>films</th><th scope=col>vehicles</th><th scope=col>starships</th></tr></thead>\n",
       "<tbody>\n",
       "\t<tr><td>Greedo     </td><td>173        </td><td>74         </td><td>NA         </td><td>green      </td><td>black      </td><td>44         </td><td>male       </td><td>masculine  </td><td>Rodia      </td><td>Rodian     </td><td>A New Hope </td><td>           </td><td>           </td></tr>\n",
       "\t<tr><td>Kit Fisto                                                       </td><td>196                                                             </td><td>87                                                              </td><td>none                                                            </td><td>green                                                           </td><td>black                                                           </td><td>NA                                                              </td><td>male                                                            </td><td>masculine                                                       </td><td>Glee Anselm                                                     </td><td>Nautolan                                                        </td><td>Attack of the Clones, The Phantom Menace  , Revenge of the Sith </td><td>                                                                </td><td>                                                                </td></tr>\n",
       "</tbody>\n",
       "</table>\n"
      ],
      "text/latex": [
       "\\begin{tabular}{r|llllllllllllll}\n",
       " name & height & mass & hair\\_color & skin\\_color & eye\\_color & birth\\_year & sex & gender & homeworld & species & films & vehicles & starships\\\\\n",
       "\\hline\n",
       "\t Greedo      & 173         & 74          & NA          & green       & black       & 44          & male        & masculine   & Rodia       & Rodian      & A New Hope  &             &            \\\\\n",
       "\t Kit Fisto                                                        & 196                                                              & 87                                                               & none                                                             & green                                                            & black                                                            & NA                                                               & male                                                             & masculine                                                        & Glee Anselm                                                      & Nautolan                                                         & Attack of the Clones, The Phantom Menace  , Revenge of the Sith  &                                                                  &                                                                 \\\\\n",
       "\\end{tabular}\n"
      ],
      "text/markdown": [
       "\n",
       "| name | height | mass | hair_color | skin_color | eye_color | birth_year | sex | gender | homeworld | species | films | vehicles | starships |\n",
       "|---|---|---|---|---|---|---|---|---|---|---|---|---|---|\n",
       "| Greedo      | 173         | 74          | NA          | green       | black       | 44          | male        | masculine   | Rodia       | Rodian      | A New Hope  |             |             |\n",
       "| Kit Fisto                                                        | 196                                                              | 87                                                               | none                                                             | green                                                            | black                                                            | NA                                                               | male                                                             | masculine                                                        | Glee Anselm                                                      | Nautolan                                                         | Attack of the Clones, The Phantom Menace  , Revenge of the Sith  |                                                                  |                                                                  |\n",
       "\n"
      ],
      "text/plain": [
       "  name      height mass hair_color skin_color eye_color birth_year sex \n",
       "1 Greedo    173    74   NA         green      black     44         male\n",
       "2 Kit Fisto 196    87   none       green      black     NA         male\n",
       "  gender    homeworld   species \n",
       "1 masculine Rodia       Rodian  \n",
       "2 masculine Glee Anselm Nautolan\n",
       "  films                                                            vehicles\n",
       "1 A New Hope                                                               \n",
       "2 Attack of the Clones, The Phantom Menace  , Revenge of the Sith          \n",
       "  starships\n",
       "1          \n",
       "2          "
      ]
     },
     "metadata": {},
     "output_type": "display_data"
    }
   ],
   "source": [
    "starwars  %>% \n",
    "   filter(eye_color == \"black\" & skin_color == \"green\") "
   ]
  },
  {
   "cell_type": "code",
   "execution_count": 14,
   "id": "14e287b2",
   "metadata": {},
   "outputs": [
    {
     "data": {
      "text/html": [
       "<table>\n",
       "<thead><tr><th scope=col>name</th><th scope=col>height</th><th scope=col>mass</th><th scope=col>hair_color</th><th scope=col>skin_color</th><th scope=col>eye_color</th><th scope=col>birth_year</th><th scope=col>sex</th><th scope=col>gender</th><th scope=col>homeworld</th><th scope=col>species</th><th scope=col>films</th><th scope=col>vehicles</th><th scope=col>starships</th></tr></thead>\n",
       "<tbody>\n",
       "\t<tr><td>Greedo     </td><td>173        </td><td>74         </td><td>NA         </td><td>green      </td><td>black      </td><td>44         </td><td>male       </td><td>masculine  </td><td>Rodia      </td><td>Rodian     </td><td>A New Hope </td><td>           </td><td>           </td></tr>\n",
       "\t<tr><td>Kit Fisto                                                       </td><td>196                                                             </td><td>87                                                              </td><td>none                                                            </td><td>green                                                           </td><td>black                                                           </td><td>NA                                                              </td><td>male                                                            </td><td>masculine                                                       </td><td>Glee Anselm                                                     </td><td>Nautolan                                                        </td><td>Attack of the Clones, The Phantom Menace  , Revenge of the Sith </td><td>                                                                </td><td>                                                                </td></tr>\n",
       "</tbody>\n",
       "</table>\n"
      ],
      "text/latex": [
       "\\begin{tabular}{r|llllllllllllll}\n",
       " name & height & mass & hair\\_color & skin\\_color & eye\\_color & birth\\_year & sex & gender & homeworld & species & films & vehicles & starships\\\\\n",
       "\\hline\n",
       "\t Greedo      & 173         & 74          & NA          & green       & black       & 44          & male        & masculine   & Rodia       & Rodian      & A New Hope  &             &            \\\\\n",
       "\t Kit Fisto                                                        & 196                                                              & 87                                                               & none                                                             & green                                                            & black                                                            & NA                                                               & male                                                             & masculine                                                        & Glee Anselm                                                      & Nautolan                                                         & Attack of the Clones, The Phantom Menace  , Revenge of the Sith  &                                                                  &                                                                 \\\\\n",
       "\\end{tabular}\n"
      ],
      "text/markdown": [
       "\n",
       "| name | height | mass | hair_color | skin_color | eye_color | birth_year | sex | gender | homeworld | species | films | vehicles | starships |\n",
       "|---|---|---|---|---|---|---|---|---|---|---|---|---|---|\n",
       "| Greedo      | 173         | 74          | NA          | green       | black       | 44          | male        | masculine   | Rodia       | Rodian      | A New Hope  |             |             |\n",
       "| Kit Fisto                                                        | 196                                                              | 87                                                               | none                                                             | green                                                            | black                                                            | NA                                                               | male                                                             | masculine                                                        | Glee Anselm                                                      | Nautolan                                                         | Attack of the Clones, The Phantom Menace  , Revenge of the Sith  |                                                                  |                                                                  |\n",
       "\n"
      ],
      "text/plain": [
       "  name      height mass hair_color skin_color eye_color birth_year sex \n",
       "1 Greedo    173    74   NA         green      black     44         male\n",
       "2 Kit Fisto 196    87   none       green      black     NA         male\n",
       "  gender    homeworld   species \n",
       "1 masculine Rodia       Rodian  \n",
       "2 masculine Glee Anselm Nautolan\n",
       "  films                                                            vehicles\n",
       "1 A New Hope                                                               \n",
       "2 Attack of the Clones, The Phantom Menace  , Revenge of the Sith          \n",
       "  starships\n",
       "1          \n",
       "2          "
      ]
     },
     "metadata": {},
     "output_type": "display_data"
    }
   ],
   "source": [
    "# Equivalent to\n",
    "starwars  %>% \n",
    "   filter(eye_color == \"black\")  %>% \n",
    "   filter(skin_color == \"green\")"
   ]
  },
  {
   "cell_type": "code",
   "execution_count": null,
   "id": "f0db0415",
   "metadata": {},
   "outputs": [],
   "source": [
    "select: selecting cols "
   ]
  }
 ],
 "metadata": {
  "kernelspec": {
   "display_name": "R",
   "language": "R",
   "name": "ir"
  },
  "language_info": {
   "codemirror_mode": "r",
   "file_extension": ".r",
   "mimetype": "text/x-r-source",
   "name": "R",
   "pygments_lexer": "r",
   "version": "3.6.1"
  }
 },
 "nbformat": 4,
 "nbformat_minor": 5
}
