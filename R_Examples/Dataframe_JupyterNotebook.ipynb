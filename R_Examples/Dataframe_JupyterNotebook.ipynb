{
 "cells": [
  {
   "cell_type": "code",
   "execution_count": 1,
   "id": "f0b2d03d",
   "metadata": {},
   "outputs": [
    {
     "name": "stderr",
     "output_type": "stream",
     "text": [
      "\n",
      "Attaching package: 'dplyr'\n",
      "\n",
      "The following objects are masked from 'package:stats':\n",
      "\n",
      "    filter, lag\n",
      "\n",
      "The following objects are masked from 'package:base':\n",
      "\n",
      "    intersect, setdiff, setequal, union\n",
      "\n"
     ]
    }
   ],
   "source": [
    "library(dplyr)"
   ]
  },
  {
   "cell_type": "code",
   "execution_count": 2,
   "id": "26582c90",
   "metadata": {},
   "outputs": [
    {
     "data": {
      "text/html": [
       "<table>\n",
       "<thead><tr><th scope=col>label</th><th scope=col>x1</th><th scope=col>x2</th></tr></thead>\n",
       "<tbody>\n",
       "\t<tr><td>a1 </td><td> 1 </td><td>100</td></tr>\n",
       "\t<tr><td>a2 </td><td> 2 </td><td> NA</td></tr>\n",
       "\t<tr><td>a3 </td><td> 3 </td><td>300</td></tr>\n",
       "\t<tr><td>a4 </td><td>NA </td><td>400</td></tr>\n",
       "\t<tr><td>a5 </td><td>NA </td><td> NA</td></tr>\n",
       "</tbody>\n",
       "</table>\n"
      ],
      "text/latex": [
       "\\begin{tabular}{r|lll}\n",
       " label & x1 & x2\\\\\n",
       "\\hline\n",
       "\t a1  &  1  & 100\\\\\n",
       "\t a2  &  2  &  NA\\\\\n",
       "\t a3  &  3  & 300\\\\\n",
       "\t a4  & NA  & 400\\\\\n",
       "\t a5  & NA  &  NA\\\\\n",
       "\\end{tabular}\n"
      ],
      "text/markdown": [
       "\n",
       "| label | x1 | x2 |\n",
       "|---|---|---|\n",
       "| a1  |  1  | 100 |\n",
       "| a2  |  2  |  NA |\n",
       "| a3  |  3  | 300 |\n",
       "| a4  | NA  | 400 |\n",
       "| a5  | NA  |  NA |\n",
       "\n"
      ],
      "text/plain": [
       "  label x1 x2 \n",
       "1 a1     1 100\n",
       "2 a2     2  NA\n",
       "3 a3     3 300\n",
       "4 a4    NA 400\n",
       "5 a5    NA  NA"
      ]
     },
     "metadata": {},
     "output_type": "display_data"
    }
   ],
   "source": [
    "df <- data.frame(label = c('a1', 'a2', 'a3', 'a4', 'a5'),\n",
    "                 x1 = c(1, 2, 3, NA, NA), \n",
    "                 x2 = c(100, NA, 300, 400, NA))\n",
    "df"
   ]
  },
  {
   "cell_type": "markdown",
   "id": "e54f8d2e",
   "metadata": {},
   "source": [
    "### Set index for df instead of integer index"
   ]
  },
  {
   "cell_type": "code",
   "execution_count": 3,
   "id": "971ce7bd",
   "metadata": {},
   "outputs": [
    {
     "data": {
      "text/html": [
       "<table>\n",
       "<thead><tr><th></th><th scope=col>label</th><th scope=col>x1</th><th scope=col>x2</th></tr></thead>\n",
       "<tbody>\n",
       "\t<tr><th scope=row>a1</th><td>a1 </td><td> 1 </td><td>100</td></tr>\n",
       "\t<tr><th scope=row>a2</th><td>a2 </td><td> 2 </td><td> NA</td></tr>\n",
       "\t<tr><th scope=row>a3</th><td>a3 </td><td> 3 </td><td>300</td></tr>\n",
       "\t<tr><th scope=row>a4</th><td>a4 </td><td>NA </td><td>400</td></tr>\n",
       "\t<tr><th scope=row>a5</th><td>a5 </td><td>NA </td><td> NA</td></tr>\n",
       "</tbody>\n",
       "</table>\n"
      ],
      "text/latex": [
       "\\begin{tabular}{r|lll}\n",
       "  & label & x1 & x2\\\\\n",
       "\\hline\n",
       "\ta1 & a1  &  1  & 100\\\\\n",
       "\ta2 & a2  &  2  &  NA\\\\\n",
       "\ta3 & a3  &  3  & 300\\\\\n",
       "\ta4 & a4  & NA  & 400\\\\\n",
       "\ta5 & a5  & NA  &  NA\\\\\n",
       "\\end{tabular}\n"
      ],
      "text/markdown": [
       "\n",
       "| <!--/--> | label | x1 | x2 |\n",
       "|---|---|---|---|\n",
       "| a1 | a1  |  1  | 100 |\n",
       "| a2 | a2  |  2  |  NA |\n",
       "| a3 | a3  |  3  | 300 |\n",
       "| a4 | a4  | NA  | 400 |\n",
       "| a5 | a5  | NA  |  NA |\n",
       "\n"
      ],
      "text/plain": [
       "   label x1 x2 \n",
       "a1 a1     1 100\n",
       "a2 a2     2  NA\n",
       "a3 a3     3 300\n",
       "a4 a4    NA 400\n",
       "a5 a5    NA  NA"
      ]
     },
     "metadata": {},
     "output_type": "display_data"
    }
   ],
   "source": [
    "row.names(df) <- df$label\n",
    "df"
   ]
  },
  {
   "cell_type": "markdown",
   "id": "fd3c23be",
   "metadata": {},
   "source": [
    "### Remove a column in df"
   ]
  },
  {
   "cell_type": "code",
   "execution_count": 4,
   "id": "a7ac3e4f",
   "metadata": {},
   "outputs": [
    {
     "data": {
      "text/html": [
       "<table>\n",
       "<thead><tr><th></th><th scope=col>x1</th><th scope=col>x2</th></tr></thead>\n",
       "<tbody>\n",
       "\t<tr><th scope=row>a1</th><td> 1 </td><td>100</td></tr>\n",
       "\t<tr><th scope=row>a2</th><td> 2 </td><td> NA</td></tr>\n",
       "\t<tr><th scope=row>a3</th><td> 3 </td><td>300</td></tr>\n",
       "\t<tr><th scope=row>a4</th><td>NA </td><td>400</td></tr>\n",
       "\t<tr><th scope=row>a5</th><td>NA </td><td> NA</td></tr>\n",
       "</tbody>\n",
       "</table>\n"
      ],
      "text/latex": [
       "\\begin{tabular}{r|ll}\n",
       "  & x1 & x2\\\\\n",
       "\\hline\n",
       "\ta1 &  1  & 100\\\\\n",
       "\ta2 &  2  &  NA\\\\\n",
       "\ta3 &  3  & 300\\\\\n",
       "\ta4 & NA  & 400\\\\\n",
       "\ta5 & NA  &  NA\\\\\n",
       "\\end{tabular}\n"
      ],
      "text/markdown": [
       "\n",
       "| <!--/--> | x1 | x2 |\n",
       "|---|---|---|\n",
       "| a1 |  1  | 100 |\n",
       "| a2 |  2  |  NA |\n",
       "| a3 |  3  | 300 |\n",
       "| a4 | NA  | 400 |\n",
       "| a5 | NA  |  NA |\n",
       "\n"
      ],
      "text/plain": [
       "   x1 x2 \n",
       "a1  1 100\n",
       "a2  2  NA\n",
       "a3  3 300\n",
       "a4 NA 400\n",
       "a5 NA  NA"
      ]
     },
     "metadata": {},
     "output_type": "display_data"
    }
   ],
   "source": [
    "df <- subset(df, select = -c(label))\n",
    "df"
   ]
  },
  {
   "cell_type": "markdown",
   "id": "6b3a0cc5",
   "metadata": {},
   "source": [
    "### remove \"rows\" in a dataframe with a NA value in one of the columns"
   ]
  },
  {
   "cell_type": "code",
   "execution_count": 5,
   "id": "b9847b70",
   "metadata": {},
   "outputs": [
    {
     "data": {
      "text/html": [
       "<table>\n",
       "<thead><tr><th></th><th scope=col>x1</th><th scope=col>x2</th></tr></thead>\n",
       "<tbody>\n",
       "\t<tr><th scope=row>a1</th><td>1  </td><td>100</td></tr>\n",
       "\t<tr><th scope=row>a3</th><td>3  </td><td>300</td></tr>\n",
       "</tbody>\n",
       "</table>\n"
      ],
      "text/latex": [
       "\\begin{tabular}{r|ll}\n",
       "  & x1 & x2\\\\\n",
       "\\hline\n",
       "\ta1 & 1   & 100\\\\\n",
       "\ta3 & 3   & 300\\\\\n",
       "\\end{tabular}\n"
      ],
      "text/markdown": [
       "\n",
       "| <!--/--> | x1 | x2 |\n",
       "|---|---|---|\n",
       "| a1 | 1   | 100 |\n",
       "| a3 | 3   | 300 |\n",
       "\n"
      ],
      "text/plain": [
       "   x1 x2 \n",
       "a1 1  100\n",
       "a3 3  300"
      ]
     },
     "metadata": {},
     "output_type": "display_data"
    }
   ],
   "source": [
    "df1 = na.omit(df)\n",
    "df1"
   ]
  },
  {
   "cell_type": "markdown",
   "id": "d0de7d3f",
   "metadata": {},
   "source": [
    "### remove \"rows\" in a dataframe with all NA"
   ]
  },
  {
   "cell_type": "code",
   "execution_count": 6,
   "id": "85a51e11",
   "metadata": {},
   "outputs": [
    {
     "data": {
      "text/html": [
       "<table>\n",
       "<thead><tr><th scope=col>x1</th><th scope=col>x2</th></tr></thead>\n",
       "<tbody>\n",
       "\t<tr><td> 1 </td><td>100</td></tr>\n",
       "\t<tr><td> 2 </td><td> NA</td></tr>\n",
       "\t<tr><td> 3 </td><td>300</td></tr>\n",
       "\t<tr><td>NA </td><td>400</td></tr>\n",
       "</tbody>\n",
       "</table>\n"
      ],
      "text/latex": [
       "\\begin{tabular}{r|ll}\n",
       " x1 & x2\\\\\n",
       "\\hline\n",
       "\t  1  & 100\\\\\n",
       "\t  2  &  NA\\\\\n",
       "\t  3  & 300\\\\\n",
       "\t NA  & 400\\\\\n",
       "\\end{tabular}\n"
      ],
      "text/markdown": [
       "\n",
       "| x1 | x2 |\n",
       "|---|---|\n",
       "|  1  | 100 |\n",
       "|  2  |  NA |\n",
       "|  3  | 300 |\n",
       "| NA  | 400 |\n",
       "\n"
      ],
      "text/plain": [
       "  x1 x2 \n",
       "1  1 100\n",
       "2  2  NA\n",
       "3  3 300\n",
       "4 NA 400"
      ]
     },
     "metadata": {},
     "output_type": "display_data"
    }
   ],
   "source": [
    "df %>% filter_all(any_vars(!is.na(.)))"
   ]
  },
  {
   "cell_type": "code",
   "execution_count": null,
   "id": "4698ac5f",
   "metadata": {},
   "outputs": [],
   "source": []
  }
 ],
 "metadata": {
  "kernelspec": {
   "display_name": "R",
   "language": "R",
   "name": "ir"
  },
  "language_info": {
   "codemirror_mode": "r",
   "file_extension": ".r",
   "mimetype": "text/x-r-source",
   "name": "R",
   "pygments_lexer": "r",
   "version": "3.6.1"
  }
 },
 "nbformat": 4,
 "nbformat_minor": 5
}
