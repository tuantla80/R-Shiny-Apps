{
 "cells": [
  {
   "cell_type": "code",
   "execution_count": 1,
   "id": "41dd62c3",
   "metadata": {},
   "outputs": [
    {
     "name": "stderr",
     "output_type": "stream",
     "text": [
      "Warning message:\n",
      "\"package 'dplyr' was built under R version 3.6.3\"\n",
      "Attaching package: 'dplyr'\n",
      "\n",
      "The following objects are masked from 'package:stats':\n",
      "\n",
      "    filter, lag\n",
      "\n",
      "The following objects are masked from 'package:base':\n",
      "\n",
      "    intersect, setdiff, setequal, union\n",
      "\n",
      "Warning message:\n",
      "\"package 'data.table' was built under R version 3.6.3\"\n",
      "Attaching package: 'data.table'\n",
      "\n",
      "The following objects are masked from 'package:dplyr':\n",
      "\n",
      "    between, first, last\n",
      "\n"
     ]
    }
   ],
   "source": [
    "library(graphics)\n",
    "library(ggplot2)\n",
    "library(dplyr)  # dplyr is a part of the tidyverse\n",
    "library(data.table)"
   ]
  },
  {
   "cell_type": "markdown",
   "id": "bcf621b3",
   "metadata": {},
   "source": [
    "# PART 1. Data wrangling"
   ]
  },
  {
   "cell_type": "markdown",
   "id": "dad19e38",
   "metadata": {},
   "source": [
    "### 1. Read data"
   ]
  },
  {
   "cell_type": "code",
   "execution_count": 2,
   "id": "b9ab82f6",
   "metadata": {},
   "outputs": [
    {
     "data": {
      "text/html": [
       "<table>\n",
       "<thead><tr><th scope=col>case</th><th scope=col>ARM</th><th scope=col>AGE</th><th scope=col>BMI</th><th scope=col>density</th></tr></thead>\n",
       "<tbody>\n",
       "\t<tr><td>1   </td><td>1   </td><td>38  </td><td>21.8</td><td>40  </td></tr>\n",
       "\t<tr><td>0   </td><td>1   </td><td>43  </td><td>32.3</td><td> 5  </td></tr>\n",
       "\t<tr><td>0   </td><td>1   </td><td>46  </td><td>23.0</td><td>45  </td></tr>\n",
       "</tbody>\n",
       "</table>\n"
      ],
      "text/latex": [
       "\\begin{tabular}{r|lllll}\n",
       " case & ARM & AGE & BMI & density\\\\\n",
       "\\hline\n",
       "\t 1    & 1    & 38   & 21.8 & 40  \\\\\n",
       "\t 0    & 1    & 43   & 32.3 &  5  \\\\\n",
       "\t 0    & 1    & 46   & 23.0 & 45  \\\\\n",
       "\\end{tabular}\n"
      ],
      "text/markdown": [
       "\n",
       "| case | ARM | AGE | BMI | density |\n",
       "|---|---|---|---|---|\n",
       "| 1    | 1    | 38   | 21.8 | 40   |\n",
       "| 0    | 1    | 43   | 32.3 |  5   |\n",
       "| 0    | 1    | 46   | 23.0 | 45   |\n",
       "\n"
      ],
      "text/plain": [
       "  case ARM AGE BMI  density\n",
       "1 1    1   38  21.8 40     \n",
       "2 0    1   43  32.3  5     \n",
       "3 0    1   46  23.0 45     "
      ]
     },
     "metadata": {},
     "output_type": "display_data"
    }
   ],
   "source": [
    "cancer_df <- read.csv('data/Cuzick_2010_breast_cancer_density.csv')\n",
    "head(cancer_df, 3)"
   ]
  },
  {
   "cell_type": "markdown",
   "id": "87f7b9a8",
   "metadata": {},
   "source": [
    "### 2. Create new columns"
   ]
  },
  {
   "cell_type": "code",
   "execution_count": 3,
   "id": "989089fe",
   "metadata": {},
   "outputs": [
    {
     "data": {
      "text/html": [
       "<table>\n",
       "<thead><tr><th scope=col>case</th><th scope=col>ARM</th><th scope=col>AGE</th><th scope=col>BMI</th><th scope=col>density</th><th scope=col>case_f</th><th scope=col>ARM_f</th></tr></thead>\n",
       "<tbody>\n",
       "\t<tr><td>1        </td><td>1        </td><td>38       </td><td>21.8     </td><td>40       </td><td>Cancer   </td><td>Placebo  </td></tr>\n",
       "\t<tr><td>0        </td><td>1        </td><td>43       </td><td>32.3     </td><td> 5       </td><td>No cancer</td><td>Placebo  </td></tr>\n",
       "\t<tr><td>0        </td><td>1        </td><td>46       </td><td>23.0     </td><td>45       </td><td>No cancer</td><td>Placebo  </td></tr>\n",
       "</tbody>\n",
       "</table>\n"
      ],
      "text/latex": [
       "\\begin{tabular}{r|lllllll}\n",
       " case & ARM & AGE & BMI & density & case\\_f & ARM\\_f\\\\\n",
       "\\hline\n",
       "\t 1         & 1         & 38        & 21.8      & 40        & Cancer    & Placebo  \\\\\n",
       "\t 0         & 1         & 43        & 32.3      &  5        & No cancer & Placebo  \\\\\n",
       "\t 0         & 1         & 46        & 23.0      & 45        & No cancer & Placebo  \\\\\n",
       "\\end{tabular}\n"
      ],
      "text/markdown": [
       "\n",
       "| case | ARM | AGE | BMI | density | case_f | ARM_f |\n",
       "|---|---|---|---|---|---|---|\n",
       "| 1         | 1         | 38        | 21.8      | 40        | Cancer    | Placebo   |\n",
       "| 0         | 1         | 43        | 32.3      |  5        | No cancer | Placebo   |\n",
       "| 0         | 1         | 46        | 23.0      | 45        | No cancer | Placebo   |\n",
       "\n"
      ],
      "text/plain": [
       "  case ARM AGE BMI  density case_f    ARM_f  \n",
       "1 1    1   38  21.8 40      Cancer    Placebo\n",
       "2 0    1   43  32.3  5      No cancer Placebo\n",
       "3 0    1   46  23.0 45      No cancer Placebo"
      ]
     },
     "metadata": {},
     "output_type": "display_data"
    },
    {
     "name": "stdout",
     "output_type": "stream",
     "text": [
      "'data.frame':\t1065 obs. of  7 variables:\n",
      " $ case   : int  1 0 0 0 0 0 0 0 0 0 ...\n",
      " $ ARM    : int  1 1 1 2 1 1 2 1 1 2 ...\n",
      " $ AGE    : int  38 43 46 52 59 62 35 58 51 40 ...\n",
      " $ BMI    : num  21.8 32.3 23 19.6 26.2 23.7 27.9 25.8 27.7 38.4 ...\n",
      " $ density: int  40 5 45 40 40 80 25 15 10 20 ...\n",
      " $ case_f : chr  \"Cancer\" \"No cancer\" \"No cancer\" \"No cancer\" ...\n",
      " $ ARM_f  : chr  \"Placebo\" \"Placebo\" \"Placebo\" \"Tamoxifen\" ...\n"
     ]
    }
   ],
   "source": [
    "cancer_df$case_f <- ifelse(cancer_df$case == 1, \n",
    "                           'Cancer',\n",
    "                           'No cancer')\n",
    "\n",
    "cancer_df$ARM_f <- ifelse(cancer_df$ARM == 1, \n",
    "                          'Placebo', \n",
    "                          'Tamoxifen')\n",
    "head(cancer_df, 3)\n",
    "str(cancer_df)"
   ]
  },
  {
   "cell_type": "markdown",
   "id": "ef12b103",
   "metadata": {},
   "source": [
    "### 3. Change column to factor"
   ]
  },
  {
   "cell_type": "markdown",
   "id": "e5d0b294",
   "metadata": {},
   "source": [
    "```\n",
    "Factors:\n",
    "- are used to represent categorical data.\n",
    "- can be ordered or unordered.\n",
    "- are stored as integers, and have labels associated with these unique integers.\n",
    "- can only contain a pre-defined set values, known as levels. By default, R always sorts levels in alphabetical order.\n",
    "\n",
    "It is good for statistical analysis and visualization\n",
    "Store data as factor can save memory.\n",
    "Comparisons with factors will be quicker because equality is tested by comparing the numbers, not the character values.\n",
    "```"
   ]
  },
  {
   "cell_type": "code",
   "execution_count": 4,
   "id": "dd07631f",
   "metadata": {},
   "outputs": [
    {
     "data": {
      "text/html": [
       "<table>\n",
       "<thead><tr><th scope=col>case</th><th scope=col>ARM</th><th scope=col>AGE</th><th scope=col>BMI</th><th scope=col>density</th><th scope=col>case_f</th><th scope=col>ARM_f</th></tr></thead>\n",
       "<tbody>\n",
       "\t<tr><td>1        </td><td>1        </td><td>38       </td><td>21.8     </td><td>40       </td><td>Cancer   </td><td>Placebo  </td></tr>\n",
       "\t<tr><td>0        </td><td>1        </td><td>43       </td><td>32.3     </td><td> 5       </td><td>No cancer</td><td>Placebo  </td></tr>\n",
       "\t<tr><td>0        </td><td>1        </td><td>46       </td><td>23.0     </td><td>45       </td><td>No cancer</td><td>Placebo  </td></tr>\n",
       "</tbody>\n",
       "</table>\n"
      ],
      "text/latex": [
       "\\begin{tabular}{r|lllllll}\n",
       " case & ARM & AGE & BMI & density & case\\_f & ARM\\_f\\\\\n",
       "\\hline\n",
       "\t 1         & 1         & 38        & 21.8      & 40        & Cancer    & Placebo  \\\\\n",
       "\t 0         & 1         & 43        & 32.3      &  5        & No cancer & Placebo  \\\\\n",
       "\t 0         & 1         & 46        & 23.0      & 45        & No cancer & Placebo  \\\\\n",
       "\\end{tabular}\n"
      ],
      "text/markdown": [
       "\n",
       "| case | ARM | AGE | BMI | density | case_f | ARM_f |\n",
       "|---|---|---|---|---|---|---|\n",
       "| 1         | 1         | 38        | 21.8      | 40        | Cancer    | Placebo   |\n",
       "| 0         | 1         | 43        | 32.3      |  5        | No cancer | Placebo   |\n",
       "| 0         | 1         | 46        | 23.0      | 45        | No cancer | Placebo   |\n",
       "\n"
      ],
      "text/plain": [
       "  case ARM AGE BMI  density case_f    ARM_f  \n",
       "1 1    1   38  21.8 40      Cancer    Placebo\n",
       "2 0    1   43  32.3  5      No cancer Placebo\n",
       "3 0    1   46  23.0 45      No cancer Placebo"
      ]
     },
     "metadata": {},
     "output_type": "display_data"
    },
    {
     "name": "stdout",
     "output_type": "stream",
     "text": [
      "'data.frame':\t1065 obs. of  7 variables:\n",
      " $ case   : int  1 0 0 0 0 0 0 0 0 0 ...\n",
      " $ ARM    : int  1 1 1 2 1 1 2 1 1 2 ...\n",
      " $ AGE    : int  38 43 46 52 59 62 35 58 51 40 ...\n",
      " $ BMI    : num  21.8 32.3 23 19.6 26.2 23.7 27.9 25.8 27.7 38.4 ...\n",
      " $ density: int  40 5 45 40 40 80 25 15 10 20 ...\n",
      " $ case_f : Factor w/ 2 levels \"No cancer\",\"Cancer\": 2 1 1 1 1 1 1 1 1 1 ...\n",
      " $ ARM_f  : Factor w/ 2 levels \"Placebo\",\"Tamoxifen\": 1 1 1 2 1 1 2 1 1 2 ...\n"
     ]
    }
   ],
   "source": [
    "# Change to factor. Here specifically define the order of level\n",
    "cancer_df$case_f <- factor(cancer_df$case_f, \n",
    "                           levels = c('No cancer',\n",
    "                                      'Cancer'))\n",
    "\n",
    "cancer_df$ARM_f <- factor(cancer_df$ARM_f, \n",
    "                          levels = c('Placebo',\n",
    "                                     'Tamoxifen'))\n",
    "head(cancer_df, 3)\n",
    "str(cancer_df)"
   ]
  },
  {
   "cell_type": "code",
   "execution_count": 5,
   "id": "e945dc4b",
   "metadata": {},
   "outputs": [
    {
     "data": {
      "text/html": [
       "<ol class=list-inline>\n",
       "\t<li>'No cancer'</li>\n",
       "\t<li>'Cancer'</li>\n",
       "</ol>\n"
      ],
      "text/latex": [
       "\\begin{enumerate*}\n",
       "\\item 'No cancer'\n",
       "\\item 'Cancer'\n",
       "\\end{enumerate*}\n"
      ],
      "text/markdown": [
       "1. 'No cancer'\n",
       "2. 'Cancer'\n",
       "\n",
       "\n"
      ],
      "text/plain": [
       "[1] \"No cancer\" \"Cancer\"   "
      ]
     },
     "metadata": {},
     "output_type": "display_data"
    }
   ],
   "source": [
    "# check levels of factor\n",
    "levels(cancer_df$case_f)"
   ]
  },
  {
   "cell_type": "code",
   "execution_count": 6,
   "id": "67cd03ca",
   "metadata": {},
   "outputs": [
    {
     "data": {
      "text/html": [
       "2"
      ],
      "text/latex": [
       "2"
      ],
      "text/markdown": [
       "2"
      ],
      "text/plain": [
       "[1] 2"
      ]
     },
     "metadata": {},
     "output_type": "display_data"
    }
   ],
   "source": [
    "nlevels(cancer_df$case_f)"
   ]
  },
  {
   "cell_type": "markdown",
   "id": "089cc56b",
   "metadata": {},
   "source": [
    "### 4. Filter and Pipe %>%"
   ]
  },
  {
   "cell_type": "code",
   "execution_count": 7,
   "id": "30c1e075",
   "metadata": {},
   "outputs": [
    {
     "data": {
      "text/html": [
       "<ol class=list-inline>\n",
       "\t<li>507</li>\n",
       "\t<li>7</li>\n",
       "</ol>\n"
      ],
      "text/latex": [
       "\\begin{enumerate*}\n",
       "\\item 507\n",
       "\\item 7\n",
       "\\end{enumerate*}\n"
      ],
      "text/markdown": [
       "1. 507\n",
       "2. 7\n",
       "\n",
       "\n"
      ],
      "text/plain": [
       "[1] 507   7"
      ]
     },
     "metadata": {},
     "output_type": "display_data"
    },
    {
     "data": {
      "text/html": [
       "<table>\n",
       "<thead><tr><th scope=col>case</th><th scope=col>ARM</th><th scope=col>AGE</th><th scope=col>BMI</th><th scope=col>density</th><th scope=col>case_f</th><th scope=col>ARM_f</th></tr></thead>\n",
       "<tbody>\n",
       "\t<tr><td>0        </td><td>2        </td><td>52       </td><td>19.6     </td><td>40       </td><td>No cancer</td><td>Tamoxifen</td></tr>\n",
       "\t<tr><td>0        </td><td>2        </td><td>35       </td><td>27.9     </td><td>25       </td><td>No cancer</td><td>Tamoxifen</td></tr>\n",
       "</tbody>\n",
       "</table>\n"
      ],
      "text/latex": [
       "\\begin{tabular}{r|lllllll}\n",
       " case & ARM & AGE & BMI & density & case\\_f & ARM\\_f\\\\\n",
       "\\hline\n",
       "\t 0         & 2         & 52        & 19.6      & 40        & No cancer & Tamoxifen\\\\\n",
       "\t 0         & 2         & 35        & 27.9      & 25        & No cancer & Tamoxifen\\\\\n",
       "\\end{tabular}\n"
      ],
      "text/markdown": [
       "\n",
       "| case | ARM | AGE | BMI | density | case_f | ARM_f |\n",
       "|---|---|---|---|---|---|---|\n",
       "| 0         | 2         | 52        | 19.6      | 40        | No cancer | Tamoxifen |\n",
       "| 0         | 2         | 35        | 27.9      | 25        | No cancer | Tamoxifen |\n",
       "\n"
      ],
      "text/plain": [
       "  case ARM AGE BMI  density case_f    ARM_f    \n",
       "1 0    2   52  19.6 40      No cancer Tamoxifen\n",
       "2 0    2   35  27.9 25      No cancer Tamoxifen"
      ]
     },
     "metadata": {},
     "output_type": "display_data"
    },
    {
     "data": {
      "text/html": [
       "<table>\n",
       "<thead><tr><th></th><th scope=col>case</th><th scope=col>ARM</th><th scope=col>AGE</th><th scope=col>BMI</th><th scope=col>density</th><th scope=col>case_f</th><th scope=col>ARM_f</th></tr></thead>\n",
       "<tbody>\n",
       "\t<tr><th scope=row>506</th><td>0        </td><td>2        </td><td>49       </td><td>30.9     </td><td>40       </td><td>No cancer</td><td>Tamoxifen</td></tr>\n",
       "\t<tr><th scope=row>507</th><td>0        </td><td>2        </td><td>47       </td><td>21.7     </td><td>90       </td><td>No cancer</td><td>Tamoxifen</td></tr>\n",
       "</tbody>\n",
       "</table>\n"
      ],
      "text/latex": [
       "\\begin{tabular}{r|lllllll}\n",
       "  & case & ARM & AGE & BMI & density & case\\_f & ARM\\_f\\\\\n",
       "\\hline\n",
       "\t506 & 0         & 2         & 49        & 30.9      & 40        & No cancer & Tamoxifen\\\\\n",
       "\t507 & 0         & 2         & 47        & 21.7      & 90        & No cancer & Tamoxifen\\\\\n",
       "\\end{tabular}\n"
      ],
      "text/markdown": [
       "\n",
       "| <!--/--> | case | ARM | AGE | BMI | density | case_f | ARM_f |\n",
       "|---|---|---|---|---|---|---|---|\n",
       "| 506 | 0         | 2         | 49        | 30.9      | 40        | No cancer | Tamoxifen |\n",
       "| 507 | 0         | 2         | 47        | 21.7      | 90        | No cancer | Tamoxifen |\n",
       "\n"
      ],
      "text/plain": [
       "    case ARM AGE BMI  density case_f    ARM_f    \n",
       "506 0    2   49  30.9 40      No cancer Tamoxifen\n",
       "507 0    2   47  21.7 90      No cancer Tamoxifen"
      ]
     },
     "metadata": {},
     "output_type": "display_data"
    }
   ],
   "source": [
    "df_filtered <- filter(cancer_df, ARM_f == 'Tamoxifen')\n",
    "dim(df_filtered)\n",
    "head(df_filtered, 2)\n",
    "tail(df_filtered, 2)"
   ]
  },
  {
   "cell_type": "code",
   "execution_count": 8,
   "id": "8f2b4e0a",
   "metadata": {},
   "outputs": [
    {
     "data": {
      "text/html": [
       "<ol class=list-inline>\n",
       "\t<li>507</li>\n",
       "\t<li>7</li>\n",
       "</ol>\n"
      ],
      "text/latex": [
       "\\begin{enumerate*}\n",
       "\\item 507\n",
       "\\item 7\n",
       "\\end{enumerate*}\n"
      ],
      "text/markdown": [
       "1. 507\n",
       "2. 7\n",
       "\n",
       "\n"
      ],
      "text/plain": [
       "[1] 507   7"
      ]
     },
     "metadata": {},
     "output_type": "display_data"
    },
    {
     "data": {
      "text/html": [
       "<table>\n",
       "<thead><tr><th scope=col>case</th><th scope=col>ARM</th><th scope=col>AGE</th><th scope=col>BMI</th><th scope=col>density</th><th scope=col>case_f</th><th scope=col>ARM_f</th></tr></thead>\n",
       "<tbody>\n",
       "\t<tr><td>0        </td><td>2        </td><td>52       </td><td>19.6     </td><td>40       </td><td>No cancer</td><td>Tamoxifen</td></tr>\n",
       "\t<tr><td>0        </td><td>2        </td><td>35       </td><td>27.9     </td><td>25       </td><td>No cancer</td><td>Tamoxifen</td></tr>\n",
       "</tbody>\n",
       "</table>\n"
      ],
      "text/latex": [
       "\\begin{tabular}{r|lllllll}\n",
       " case & ARM & AGE & BMI & density & case\\_f & ARM\\_f\\\\\n",
       "\\hline\n",
       "\t 0         & 2         & 52        & 19.6      & 40        & No cancer & Tamoxifen\\\\\n",
       "\t 0         & 2         & 35        & 27.9      & 25        & No cancer & Tamoxifen\\\\\n",
       "\\end{tabular}\n"
      ],
      "text/markdown": [
       "\n",
       "| case | ARM | AGE | BMI | density | case_f | ARM_f |\n",
       "|---|---|---|---|---|---|---|\n",
       "| 0         | 2         | 52        | 19.6      | 40        | No cancer | Tamoxifen |\n",
       "| 0         | 2         | 35        | 27.9      | 25        | No cancer | Tamoxifen |\n",
       "\n"
      ],
      "text/plain": [
       "  case ARM AGE BMI  density case_f    ARM_f    \n",
       "1 0    2   52  19.6 40      No cancer Tamoxifen\n",
       "2 0    2   35  27.9 25      No cancer Tamoxifen"
      ]
     },
     "metadata": {},
     "output_type": "display_data"
    },
    {
     "data": {
      "text/html": [
       "<table>\n",
       "<thead><tr><th></th><th scope=col>case</th><th scope=col>ARM</th><th scope=col>AGE</th><th scope=col>BMI</th><th scope=col>density</th><th scope=col>case_f</th><th scope=col>ARM_f</th></tr></thead>\n",
       "<tbody>\n",
       "\t<tr><th scope=row>506</th><td>0        </td><td>2        </td><td>49       </td><td>30.9     </td><td>40       </td><td>No cancer</td><td>Tamoxifen</td></tr>\n",
       "\t<tr><th scope=row>507</th><td>0        </td><td>2        </td><td>47       </td><td>21.7     </td><td>90       </td><td>No cancer</td><td>Tamoxifen</td></tr>\n",
       "</tbody>\n",
       "</table>\n"
      ],
      "text/latex": [
       "\\begin{tabular}{r|lllllll}\n",
       "  & case & ARM & AGE & BMI & density & case\\_f & ARM\\_f\\\\\n",
       "\\hline\n",
       "\t506 & 0         & 2         & 49        & 30.9      & 40        & No cancer & Tamoxifen\\\\\n",
       "\t507 & 0         & 2         & 47        & 21.7      & 90        & No cancer & Tamoxifen\\\\\n",
       "\\end{tabular}\n"
      ],
      "text/markdown": [
       "\n",
       "| <!--/--> | case | ARM | AGE | BMI | density | case_f | ARM_f |\n",
       "|---|---|---|---|---|---|---|---|\n",
       "| 506 | 0         | 2         | 49        | 30.9      | 40        | No cancer | Tamoxifen |\n",
       "| 507 | 0         | 2         | 47        | 21.7      | 90        | No cancer | Tamoxifen |\n",
       "\n"
      ],
      "text/plain": [
       "    case ARM AGE BMI  density case_f    ARM_f    \n",
       "506 0    2   49  30.9 40      No cancer Tamoxifen\n",
       "507 0    2   47  21.7 90      No cancer Tamoxifen"
      ]
     },
     "metadata": {},
     "output_type": "display_data"
    }
   ],
   "source": [
    "df_filtered <- cancer_df %>% filter(ARM_f == 'Tamoxifen')\n",
    "dim(df_filtered)\n",
    "head(df_filtered, 2)\n",
    "tail(df_filtered, 2)"
   ]
  },
  {
   "cell_type": "markdown",
   "id": "d41437d9",
   "metadata": {},
   "source": [
    "#### filter with AND logical operator"
   ]
  },
  {
   "cell_type": "code",
   "execution_count": 9,
   "id": "39f47b2c",
   "metadata": {},
   "outputs": [
    {
     "data": {
      "text/html": [
       "<ol class=list-inline>\n",
       "\t<li>42</li>\n",
       "\t<li>7</li>\n",
       "</ol>\n"
      ],
      "text/latex": [
       "\\begin{enumerate*}\n",
       "\\item 42\n",
       "\\item 7\n",
       "\\end{enumerate*}\n"
      ],
      "text/markdown": [
       "1. 42\n",
       "2. 7\n",
       "\n",
       "\n"
      ],
      "text/plain": [
       "[1] 42  7"
      ]
     },
     "metadata": {},
     "output_type": "display_data"
    },
    {
     "data": {
      "text/html": [
       "<table>\n",
       "<thead><tr><th scope=col>case</th><th scope=col>ARM</th><th scope=col>AGE</th><th scope=col>BMI</th><th scope=col>density</th><th scope=col>case_f</th><th scope=col>ARM_f</th></tr></thead>\n",
       "<tbody>\n",
       "\t<tr><td>0        </td><td>2        </td><td>58       </td><td>19.2     </td><td>95       </td><td>No cancer</td><td>Tamoxifen</td></tr>\n",
       "\t<tr><td>0        </td><td>2        </td><td>50       </td><td>21.1     </td><td>90       </td><td>No cancer</td><td>Tamoxifen</td></tr>\n",
       "</tbody>\n",
       "</table>\n"
      ],
      "text/latex": [
       "\\begin{tabular}{r|lllllll}\n",
       " case & ARM & AGE & BMI & density & case\\_f & ARM\\_f\\\\\n",
       "\\hline\n",
       "\t 0         & 2         & 58        & 19.2      & 95        & No cancer & Tamoxifen\\\\\n",
       "\t 0         & 2         & 50        & 21.1      & 90        & No cancer & Tamoxifen\\\\\n",
       "\\end{tabular}\n"
      ],
      "text/markdown": [
       "\n",
       "| case | ARM | AGE | BMI | density | case_f | ARM_f |\n",
       "|---|---|---|---|---|---|---|\n",
       "| 0         | 2         | 58        | 19.2      | 95        | No cancer | Tamoxifen |\n",
       "| 0         | 2         | 50        | 21.1      | 90        | No cancer | Tamoxifen |\n",
       "\n"
      ],
      "text/plain": [
       "  case ARM AGE BMI  density case_f    ARM_f    \n",
       "1 0    2   58  19.2 95      No cancer Tamoxifen\n",
       "2 0    2   50  21.1 90      No cancer Tamoxifen"
      ]
     },
     "metadata": {},
     "output_type": "display_data"
    },
    {
     "data": {
      "text/html": [
       "<table>\n",
       "<thead><tr><th></th><th scope=col>case</th><th scope=col>ARM</th><th scope=col>AGE</th><th scope=col>BMI</th><th scope=col>density</th><th scope=col>case_f</th><th scope=col>ARM_f</th></tr></thead>\n",
       "<tbody>\n",
       "\t<tr><th scope=row>41</th><td>1        </td><td>2        </td><td>46       </td><td>20.5     </td><td>95       </td><td>Cancer   </td><td>Tamoxifen</td></tr>\n",
       "\t<tr><th scope=row>42</th><td>0        </td><td>2        </td><td>47       </td><td>21.7     </td><td>90       </td><td>No cancer</td><td>Tamoxifen</td></tr>\n",
       "</tbody>\n",
       "</table>\n"
      ],
      "text/latex": [
       "\\begin{tabular}{r|lllllll}\n",
       "  & case & ARM & AGE & BMI & density & case\\_f & ARM\\_f\\\\\n",
       "\\hline\n",
       "\t41 & 1         & 2         & 46        & 20.5      & 95        & Cancer    & Tamoxifen\\\\\n",
       "\t42 & 0         & 2         & 47        & 21.7      & 90        & No cancer & Tamoxifen\\\\\n",
       "\\end{tabular}\n"
      ],
      "text/markdown": [
       "\n",
       "| <!--/--> | case | ARM | AGE | BMI | density | case_f | ARM_f |\n",
       "|---|---|---|---|---|---|---|---|\n",
       "| 41 | 1         | 2         | 46        | 20.5      | 95        | Cancer    | Tamoxifen |\n",
       "| 42 | 0         | 2         | 47        | 21.7      | 90        | No cancer | Tamoxifen |\n",
       "\n"
      ],
      "text/plain": [
       "   case ARM AGE BMI  density case_f    ARM_f    \n",
       "41 1    2   46  20.5 95      Cancer    Tamoxifen\n",
       "42 0    2   47  21.7 90      No cancer Tamoxifen"
      ]
     },
     "metadata": {},
     "output_type": "display_data"
    }
   ],
   "source": [
    "df_filtered <- cancer_df %>% \n",
    "    filter(ARM_f == 'Tamoxifen', density >= 90) # AND operator\n",
    "dim(df_filtered)\n",
    "head(df_filtered, 2)\n",
    "tail(df_filtered, 2)"
   ]
  },
  {
   "cell_type": "code",
   "execution_count": 10,
   "id": "24d203bc",
   "metadata": {},
   "outputs": [
    {
     "data": {
      "text/html": [
       "<ol class=list-inline>\n",
       "\t<li>42</li>\n",
       "\t<li>7</li>\n",
       "</ol>\n"
      ],
      "text/latex": [
       "\\begin{enumerate*}\n",
       "\\item 42\n",
       "\\item 7\n",
       "\\end{enumerate*}\n"
      ],
      "text/markdown": [
       "1. 42\n",
       "2. 7\n",
       "\n",
       "\n"
      ],
      "text/plain": [
       "[1] 42  7"
      ]
     },
     "metadata": {},
     "output_type": "display_data"
    },
    {
     "data": {
      "text/html": [
       "<table>\n",
       "<thead><tr><th scope=col>case</th><th scope=col>ARM</th><th scope=col>AGE</th><th scope=col>BMI</th><th scope=col>density</th><th scope=col>case_f</th><th scope=col>ARM_f</th></tr></thead>\n",
       "<tbody>\n",
       "\t<tr><td>0        </td><td>2        </td><td>58       </td><td>19.2     </td><td>95       </td><td>No cancer</td><td>Tamoxifen</td></tr>\n",
       "\t<tr><td>0        </td><td>2        </td><td>50       </td><td>21.1     </td><td>90       </td><td>No cancer</td><td>Tamoxifen</td></tr>\n",
       "</tbody>\n",
       "</table>\n"
      ],
      "text/latex": [
       "\\begin{tabular}{r|lllllll}\n",
       " case & ARM & AGE & BMI & density & case\\_f & ARM\\_f\\\\\n",
       "\\hline\n",
       "\t 0         & 2         & 58        & 19.2      & 95        & No cancer & Tamoxifen\\\\\n",
       "\t 0         & 2         & 50        & 21.1      & 90        & No cancer & Tamoxifen\\\\\n",
       "\\end{tabular}\n"
      ],
      "text/markdown": [
       "\n",
       "| case | ARM | AGE | BMI | density | case_f | ARM_f |\n",
       "|---|---|---|---|---|---|---|\n",
       "| 0         | 2         | 58        | 19.2      | 95        | No cancer | Tamoxifen |\n",
       "| 0         | 2         | 50        | 21.1      | 90        | No cancer | Tamoxifen |\n",
       "\n"
      ],
      "text/plain": [
       "  case ARM AGE BMI  density case_f    ARM_f    \n",
       "1 0    2   58  19.2 95      No cancer Tamoxifen\n",
       "2 0    2   50  21.1 90      No cancer Tamoxifen"
      ]
     },
     "metadata": {},
     "output_type": "display_data"
    },
    {
     "data": {
      "text/html": [
       "<table>\n",
       "<thead><tr><th></th><th scope=col>case</th><th scope=col>ARM</th><th scope=col>AGE</th><th scope=col>BMI</th><th scope=col>density</th><th scope=col>case_f</th><th scope=col>ARM_f</th></tr></thead>\n",
       "<tbody>\n",
       "\t<tr><th scope=row>41</th><td>1        </td><td>2        </td><td>46       </td><td>20.5     </td><td>95       </td><td>Cancer   </td><td>Tamoxifen</td></tr>\n",
       "\t<tr><th scope=row>42</th><td>0        </td><td>2        </td><td>47       </td><td>21.7     </td><td>90       </td><td>No cancer</td><td>Tamoxifen</td></tr>\n",
       "</tbody>\n",
       "</table>\n"
      ],
      "text/latex": [
       "\\begin{tabular}{r|lllllll}\n",
       "  & case & ARM & AGE & BMI & density & case\\_f & ARM\\_f\\\\\n",
       "\\hline\n",
       "\t41 & 1         & 2         & 46        & 20.5      & 95        & Cancer    & Tamoxifen\\\\\n",
       "\t42 & 0         & 2         & 47        & 21.7      & 90        & No cancer & Tamoxifen\\\\\n",
       "\\end{tabular}\n"
      ],
      "text/markdown": [
       "\n",
       "| <!--/--> | case | ARM | AGE | BMI | density | case_f | ARM_f |\n",
       "|---|---|---|---|---|---|---|---|\n",
       "| 41 | 1         | 2         | 46        | 20.5      | 95        | Cancer    | Tamoxifen |\n",
       "| 42 | 0         | 2         | 47        | 21.7      | 90        | No cancer | Tamoxifen |\n",
       "\n"
      ],
      "text/plain": [
       "   case ARM AGE BMI  density case_f    ARM_f    \n",
       "41 1    2   46  20.5 95      Cancer    Tamoxifen\n",
       "42 0    2   47  21.7 90      No cancer Tamoxifen"
      ]
     },
     "metadata": {},
     "output_type": "display_data"
    }
   ],
   "source": [
    "df_filtered <- cancer_df %>% \n",
    "    filter(ARM_f == 'Tamoxifen' & density >= 90) # AND operator\n",
    "dim(df_filtered)\n",
    "head(df_filtered, 2)\n",
    "tail(df_filtered, 2)"
   ]
  },
  {
   "cell_type": "markdown",
   "id": "e9050285",
   "metadata": {},
   "source": [
    "#### filter with OR logical operator"
   ]
  },
  {
   "cell_type": "code",
   "execution_count": 11,
   "id": "b31e933a",
   "metadata": {},
   "outputs": [
    {
     "data": {
      "text/html": [
       "<ol class=list-inline>\n",
       "\t<li>248</li>\n",
       "\t<li>7</li>\n",
       "</ol>\n"
      ],
      "text/latex": [
       "\\begin{enumerate*}\n",
       "\\item 248\n",
       "\\item 7\n",
       "\\end{enumerate*}\n"
      ],
      "text/markdown": [
       "1. 248\n",
       "2. 7\n",
       "\n",
       "\n"
      ],
      "text/plain": [
       "[1] 248   7"
      ]
     },
     "metadata": {},
     "output_type": "display_data"
    },
    {
     "data": {
      "text/html": [
       "<table>\n",
       "<thead><tr><th scope=col>case</th><th scope=col>ARM</th><th scope=col>AGE</th><th scope=col>BMI</th><th scope=col>density</th><th scope=col>case_f</th><th scope=col>ARM_f</th></tr></thead>\n",
       "<tbody>\n",
       "\t<tr><td>1        </td><td>1        </td><td>38       </td><td>21.8     </td><td>40       </td><td>Cancer   </td><td>Placebo  </td></tr>\n",
       "\t<tr><td>0        </td><td>1        </td><td>43       </td><td>32.3     </td><td> 5       </td><td>No cancer</td><td>Placebo  </td></tr>\n",
       "</tbody>\n",
       "</table>\n"
      ],
      "text/latex": [
       "\\begin{tabular}{r|lllllll}\n",
       " case & ARM & AGE & BMI & density & case\\_f & ARM\\_f\\\\\n",
       "\\hline\n",
       "\t 1         & 1         & 38        & 21.8      & 40        & Cancer    & Placebo  \\\\\n",
       "\t 0         & 1         & 43        & 32.3      &  5        & No cancer & Placebo  \\\\\n",
       "\\end{tabular}\n"
      ],
      "text/markdown": [
       "\n",
       "| case | ARM | AGE | BMI | density | case_f | ARM_f |\n",
       "|---|---|---|---|---|---|---|\n",
       "| 1         | 1         | 38        | 21.8      | 40        | Cancer    | Placebo   |\n",
       "| 0         | 1         | 43        | 32.3      |  5        | No cancer | Placebo   |\n",
       "\n"
      ],
      "text/plain": [
       "  case ARM AGE BMI  density case_f    ARM_f  \n",
       "1 1    1   38  21.8 40      Cancer    Placebo\n",
       "2 0    1   43  32.3  5      No cancer Placebo"
      ]
     },
     "metadata": {},
     "output_type": "display_data"
    },
    {
     "data": {
      "text/html": [
       "<table>\n",
       "<thead><tr><th></th><th scope=col>case</th><th scope=col>ARM</th><th scope=col>AGE</th><th scope=col>BMI</th><th scope=col>density</th><th scope=col>case_f</th><th scope=col>ARM_f</th></tr></thead>\n",
       "<tbody>\n",
       "\t<tr><th scope=row>247</th><td>1      </td><td>1      </td><td>40     </td><td>21.4   </td><td>85     </td><td>Cancer </td><td>Placebo</td></tr>\n",
       "\t<tr><th scope=row>248</th><td>1      </td><td>1      </td><td>45     </td><td>28.2   </td><td>80     </td><td>Cancer </td><td>Placebo</td></tr>\n",
       "</tbody>\n",
       "</table>\n"
      ],
      "text/latex": [
       "\\begin{tabular}{r|lllllll}\n",
       "  & case & ARM & AGE & BMI & density & case\\_f & ARM\\_f\\\\\n",
       "\\hline\n",
       "\t247 & 1       & 1       & 40      & 21.4    & 85      & Cancer  & Placebo\\\\\n",
       "\t248 & 1       & 1       & 45      & 28.2    & 80      & Cancer  & Placebo\\\\\n",
       "\\end{tabular}\n"
      ],
      "text/markdown": [
       "\n",
       "| <!--/--> | case | ARM | AGE | BMI | density | case_f | ARM_f |\n",
       "|---|---|---|---|---|---|---|---|\n",
       "| 247 | 1       | 1       | 40      | 21.4    | 85      | Cancer  | Placebo |\n",
       "| 248 | 1       | 1       | 45      | 28.2    | 80      | Cancer  | Placebo |\n",
       "\n"
      ],
      "text/plain": [
       "    case ARM AGE BMI  density case_f ARM_f  \n",
       "247 1    1   40  21.4 85      Cancer Placebo\n",
       "248 1    1   45  28.2 80      Cancer Placebo"
      ]
     },
     "metadata": {},
     "output_type": "display_data"
    }
   ],
   "source": [
    "df_filtered <- cancer_df %>% \n",
    "    filter(case_f == 'Cancer' | AGE < 45)\n",
    "dim(df_filtered)\n",
    "head(df_filtered, 2)\n",
    "tail(df_filtered, 2)"
   ]
  },
  {
   "cell_type": "markdown",
   "id": "1d1ea15c",
   "metadata": {},
   "source": [
    "#### filter with NOT and OR logical operator"
   ]
  },
  {
   "cell_type": "code",
   "execution_count": 12,
   "id": "d27484e2",
   "metadata": {},
   "outputs": [
    {
     "data": {
      "text/html": [
       "<ol class=list-inline>\n",
       "\t<li>955</li>\n",
       "\t<li>7</li>\n",
       "</ol>\n"
      ],
      "text/latex": [
       "\\begin{enumerate*}\n",
       "\\item 955\n",
       "\\item 7\n",
       "\\end{enumerate*}\n"
      ],
      "text/markdown": [
       "1. 955\n",
       "2. 7\n",
       "\n",
       "\n"
      ],
      "text/plain": [
       "[1] 955   7"
      ]
     },
     "metadata": {},
     "output_type": "display_data"
    },
    {
     "data": {
      "text/html": [
       "<table>\n",
       "<thead><tr><th scope=col>case</th><th scope=col>ARM</th><th scope=col>AGE</th><th scope=col>BMI</th><th scope=col>density</th><th scope=col>case_f</th><th scope=col>ARM_f</th></tr></thead>\n",
       "<tbody>\n",
       "\t<tr><td>1        </td><td>1        </td><td>38       </td><td>21.8     </td><td>40       </td><td>Cancer   </td><td>Placebo  </td></tr>\n",
       "\t<tr><td>0        </td><td>1        </td><td>43       </td><td>32.3     </td><td> 5       </td><td>No cancer</td><td>Placebo  </td></tr>\n",
       "</tbody>\n",
       "</table>\n"
      ],
      "text/latex": [
       "\\begin{tabular}{r|lllllll}\n",
       " case & ARM & AGE & BMI & density & case\\_f & ARM\\_f\\\\\n",
       "\\hline\n",
       "\t 1         & 1         & 38        & 21.8      & 40        & Cancer    & Placebo  \\\\\n",
       "\t 0         & 1         & 43        & 32.3      &  5        & No cancer & Placebo  \\\\\n",
       "\\end{tabular}\n"
      ],
      "text/markdown": [
       "\n",
       "| case | ARM | AGE | BMI | density | case_f | ARM_f |\n",
       "|---|---|---|---|---|---|---|\n",
       "| 1         | 1         | 38        | 21.8      | 40        | Cancer    | Placebo   |\n",
       "| 0         | 1         | 43        | 32.3      |  5        | No cancer | Placebo   |\n",
       "\n"
      ],
      "text/plain": [
       "  case ARM AGE BMI  density case_f    ARM_f  \n",
       "1 1    1   38  21.8 40      Cancer    Placebo\n",
       "2 0    1   43  32.3  5      No cancer Placebo"
      ]
     },
     "metadata": {},
     "output_type": "display_data"
    },
    {
     "data": {
      "text/html": [
       "<table>\n",
       "<thead><tr><th></th><th scope=col>case</th><th scope=col>ARM</th><th scope=col>AGE</th><th scope=col>BMI</th><th scope=col>density</th><th scope=col>case_f</th><th scope=col>ARM_f</th></tr></thead>\n",
       "<tbody>\n",
       "\t<tr><th scope=row>954</th><td>0        </td><td>2        </td><td>49       </td><td>30.9     </td><td>40       </td><td>No cancer</td><td>Tamoxifen</td></tr>\n",
       "\t<tr><th scope=row>955</th><td>0        </td><td>2        </td><td>47       </td><td>21.7     </td><td>90       </td><td>No cancer</td><td>Tamoxifen</td></tr>\n",
       "</tbody>\n",
       "</table>\n"
      ],
      "text/latex": [
       "\\begin{tabular}{r|lllllll}\n",
       "  & case & ARM & AGE & BMI & density & case\\_f & ARM\\_f\\\\\n",
       "\\hline\n",
       "\t954 & 0         & 2         & 49        & 30.9      & 40        & No cancer & Tamoxifen\\\\\n",
       "\t955 & 0         & 2         & 47        & 21.7      & 90        & No cancer & Tamoxifen\\\\\n",
       "\\end{tabular}\n"
      ],
      "text/markdown": [
       "\n",
       "| <!--/--> | case | ARM | AGE | BMI | density | case_f | ARM_f |\n",
       "|---|---|---|---|---|---|---|---|\n",
       "| 954 | 0         | 2         | 49        | 30.9      | 40        | No cancer | Tamoxifen |\n",
       "| 955 | 0         | 2         | 47        | 21.7      | 90        | No cancer | Tamoxifen |\n",
       "\n"
      ],
      "text/plain": [
       "    case ARM AGE BMI  density case_f    ARM_f    \n",
       "954 0    2   49  30.9 40      No cancer Tamoxifen\n",
       "955 0    2   47  21.7 90      No cancer Tamoxifen"
      ]
     },
     "metadata": {},
     "output_type": "display_data"
    }
   ],
   "source": [
    "df_filtered <- cancer_df %>% \n",
    "    filter(!case_f == 'Cancer' | AGE < 45)\n",
    "dim(df_filtered)\n",
    "head(df_filtered, 2)\n",
    "tail(df_filtered, 2)"
   ]
  },
  {
   "cell_type": "markdown",
   "id": "b9beca12",
   "metadata": {},
   "source": [
    "### 5. Arrange: to sort things"
   ]
  },
  {
   "cell_type": "code",
   "execution_count": 13,
   "id": "01b9c6b1",
   "metadata": {},
   "outputs": [
    {
     "data": {
      "text/html": [
       "<ol class=list-inline>\n",
       "\t<li>1065</li>\n",
       "\t<li>7</li>\n",
       "</ol>\n"
      ],
      "text/latex": [
       "\\begin{enumerate*}\n",
       "\\item 1065\n",
       "\\item 7\n",
       "\\end{enumerate*}\n"
      ],
      "text/markdown": [
       "1. 1065\n",
       "2. 7\n",
       "\n",
       "\n"
      ],
      "text/plain": [
       "[1] 1065    7"
      ]
     },
     "metadata": {},
     "output_type": "display_data"
    },
    {
     "data": {
      "text/html": [
       "<table>\n",
       "<thead><tr><th scope=col>case</th><th scope=col>ARM</th><th scope=col>AGE</th><th scope=col>BMI</th><th scope=col>density</th><th scope=col>case_f</th><th scope=col>ARM_f</th></tr></thead>\n",
       "<tbody>\n",
       "\t<tr><td>0        </td><td>1        </td><td>66       </td><td>32.5     </td><td>0        </td><td>No cancer</td><td>Placebo  </td></tr>\n",
       "\t<tr><td>0        </td><td>1        </td><td>54       </td><td>39.5     </td><td>0        </td><td>No cancer</td><td>Placebo  </td></tr>\n",
       "</tbody>\n",
       "</table>\n"
      ],
      "text/latex": [
       "\\begin{tabular}{r|lllllll}\n",
       " case & ARM & AGE & BMI & density & case\\_f & ARM\\_f\\\\\n",
       "\\hline\n",
       "\t 0         & 1         & 66        & 32.5      & 0         & No cancer & Placebo  \\\\\n",
       "\t 0         & 1         & 54        & 39.5      & 0         & No cancer & Placebo  \\\\\n",
       "\\end{tabular}\n"
      ],
      "text/markdown": [
       "\n",
       "| case | ARM | AGE | BMI | density | case_f | ARM_f |\n",
       "|---|---|---|---|---|---|---|\n",
       "| 0         | 1         | 66        | 32.5      | 0         | No cancer | Placebo   |\n",
       "| 0         | 1         | 54        | 39.5      | 0         | No cancer | Placebo   |\n",
       "\n"
      ],
      "text/plain": [
       "  case ARM AGE BMI  density case_f    ARM_f  \n",
       "1 0    1   66  32.5 0       No cancer Placebo\n",
       "2 0    1   54  39.5 0       No cancer Placebo"
      ]
     },
     "metadata": {},
     "output_type": "display_data"
    },
    {
     "data": {
      "text/html": [
       "<table>\n",
       "<thead><tr><th></th><th scope=col>case</th><th scope=col>ARM</th><th scope=col>AGE</th><th scope=col>BMI</th><th scope=col>density</th><th scope=col>case_f</th><th scope=col>ARM_f</th></tr></thead>\n",
       "<tbody>\n",
       "\t<tr><th scope=row>1064</th><td>0        </td><td>2        </td><td>44       </td><td>20.8     </td><td>100      </td><td>No cancer</td><td>Tamoxifen</td></tr>\n",
       "\t<tr><th scope=row>1065</th><td>0        </td><td>2        </td><td>47       </td><td>22.2     </td><td>100      </td><td>No cancer</td><td>Tamoxifen</td></tr>\n",
       "</tbody>\n",
       "</table>\n"
      ],
      "text/latex": [
       "\\begin{tabular}{r|lllllll}\n",
       "  & case & ARM & AGE & BMI & density & case\\_f & ARM\\_f\\\\\n",
       "\\hline\n",
       "\t1064 & 0         & 2         & 44        & 20.8      & 100       & No cancer & Tamoxifen\\\\\n",
       "\t1065 & 0         & 2         & 47        & 22.2      & 100       & No cancer & Tamoxifen\\\\\n",
       "\\end{tabular}\n"
      ],
      "text/markdown": [
       "\n",
       "| <!--/--> | case | ARM | AGE | BMI | density | case_f | ARM_f |\n",
       "|---|---|---|---|---|---|---|---|\n",
       "| 1064 | 0         | 2         | 44        | 20.8      | 100       | No cancer | Tamoxifen |\n",
       "| 1065 | 0         | 2         | 47        | 22.2      | 100       | No cancer | Tamoxifen |\n",
       "\n"
      ],
      "text/plain": [
       "     case ARM AGE BMI  density case_f    ARM_f    \n",
       "1064 0    2   44  20.8 100     No cancer Tamoxifen\n",
       "1065 0    2   47  22.2 100     No cancer Tamoxifen"
      ]
     },
     "metadata": {},
     "output_type": "display_data"
    }
   ],
   "source": [
    "# Ascending order\n",
    "df_arrange <- cancer_df %>% \n",
    "    arrange(density)\n",
    "\n",
    "dim(df_arrange)\n",
    "head(df_arrange, 2)\n",
    "tail(df_arrange, 2)"
   ]
  },
  {
   "cell_type": "code",
   "execution_count": 14,
   "id": "ddc6096f",
   "metadata": {},
   "outputs": [
    {
     "data": {
      "text/html": [
       "<ol class=list-inline>\n",
       "\t<li>1065</li>\n",
       "\t<li>7</li>\n",
       "</ol>\n"
      ],
      "text/latex": [
       "\\begin{enumerate*}\n",
       "\\item 1065\n",
       "\\item 7\n",
       "\\end{enumerate*}\n"
      ],
      "text/markdown": [
       "1. 1065\n",
       "2. 7\n",
       "\n",
       "\n"
      ],
      "text/plain": [
       "[1] 1065    7"
      ]
     },
     "metadata": {},
     "output_type": "display_data"
    },
    {
     "data": {
      "text/html": [
       "<table>\n",
       "<thead><tr><th scope=col>case</th><th scope=col>ARM</th><th scope=col>AGE</th><th scope=col>BMI</th><th scope=col>density</th><th scope=col>case_f</th><th scope=col>ARM_f</th></tr></thead>\n",
       "<tbody>\n",
       "\t<tr><td>0        </td><td>2        </td><td>44       </td><td>20.8     </td><td>100      </td><td>No cancer</td><td>Tamoxifen</td></tr>\n",
       "\t<tr><td>0        </td><td>2        </td><td>47       </td><td>22.2     </td><td>100      </td><td>No cancer</td><td>Tamoxifen</td></tr>\n",
       "</tbody>\n",
       "</table>\n"
      ],
      "text/latex": [
       "\\begin{tabular}{r|lllllll}\n",
       " case & ARM & AGE & BMI & density & case\\_f & ARM\\_f\\\\\n",
       "\\hline\n",
       "\t 0         & 2         & 44        & 20.8      & 100       & No cancer & Tamoxifen\\\\\n",
       "\t 0         & 2         & 47        & 22.2      & 100       & No cancer & Tamoxifen\\\\\n",
       "\\end{tabular}\n"
      ],
      "text/markdown": [
       "\n",
       "| case | ARM | AGE | BMI | density | case_f | ARM_f |\n",
       "|---|---|---|---|---|---|---|\n",
       "| 0         | 2         | 44        | 20.8      | 100       | No cancer | Tamoxifen |\n",
       "| 0         | 2         | 47        | 22.2      | 100       | No cancer | Tamoxifen |\n",
       "\n"
      ],
      "text/plain": [
       "  case ARM AGE BMI  density case_f    ARM_f    \n",
       "1 0    2   44  20.8 100     No cancer Tamoxifen\n",
       "2 0    2   47  22.2 100     No cancer Tamoxifen"
      ]
     },
     "metadata": {},
     "output_type": "display_data"
    },
    {
     "data": {
      "text/html": [
       "<table>\n",
       "<thead><tr><th></th><th scope=col>case</th><th scope=col>ARM</th><th scope=col>AGE</th><th scope=col>BMI</th><th scope=col>density</th><th scope=col>case_f</th><th scope=col>ARM_f</th></tr></thead>\n",
       "<tbody>\n",
       "\t<tr><th scope=row>1064</th><td>0        </td><td>2        </td><td>55       </td><td>30.1     </td><td>0        </td><td>No cancer</td><td>Tamoxifen</td></tr>\n",
       "\t<tr><th scope=row>1065</th><td>0        </td><td>1        </td><td>52       </td><td>24.0     </td><td>0        </td><td>No cancer</td><td>Placebo  </td></tr>\n",
       "</tbody>\n",
       "</table>\n"
      ],
      "text/latex": [
       "\\begin{tabular}{r|lllllll}\n",
       "  & case & ARM & AGE & BMI & density & case\\_f & ARM\\_f\\\\\n",
       "\\hline\n",
       "\t1064 & 0         & 2         & 55        & 30.1      & 0         & No cancer & Tamoxifen\\\\\n",
       "\t1065 & 0         & 1         & 52        & 24.0      & 0         & No cancer & Placebo  \\\\\n",
       "\\end{tabular}\n"
      ],
      "text/markdown": [
       "\n",
       "| <!--/--> | case | ARM | AGE | BMI | density | case_f | ARM_f |\n",
       "|---|---|---|---|---|---|---|---|\n",
       "| 1064 | 0         | 2         | 55        | 30.1      | 0         | No cancer | Tamoxifen |\n",
       "| 1065 | 0         | 1         | 52        | 24.0      | 0         | No cancer | Placebo   |\n",
       "\n"
      ],
      "text/plain": [
       "     case ARM AGE BMI  density case_f    ARM_f    \n",
       "1064 0    2   55  30.1 0       No cancer Tamoxifen\n",
       "1065 0    1   52  24.0 0       No cancer Placebo  "
      ]
     },
     "metadata": {},
     "output_type": "display_data"
    }
   ],
   "source": [
    "# Descending order\n",
    "df_arrange <- cancer_df %>% \n",
    "    arrange(desc(density))\n",
    "\n",
    "dim(df_arrange)\n",
    "head(df_arrange, 2)\n",
    "tail(df_arrange, 2)"
   ]
  },
  {
   "cell_type": "markdown",
   "id": "bf059103",
   "metadata": {},
   "source": [
    "#### sort on multiple columns"
   ]
  },
  {
   "cell_type": "code",
   "execution_count": 15,
   "id": "39d56ae6",
   "metadata": {},
   "outputs": [
    {
     "data": {
      "text/html": [
       "<ol class=list-inline>\n",
       "\t<li>1065</li>\n",
       "\t<li>7</li>\n",
       "</ol>\n"
      ],
      "text/latex": [
       "\\begin{enumerate*}\n",
       "\\item 1065\n",
       "\\item 7\n",
       "\\end{enumerate*}\n"
      ],
      "text/markdown": [
       "1. 1065\n",
       "2. 7\n",
       "\n",
       "\n"
      ],
      "text/plain": [
       "[1] 1065    7"
      ]
     },
     "metadata": {},
     "output_type": "display_data"
    },
    {
     "data": {
      "text/html": [
       "<table>\n",
       "<thead><tr><th scope=col>case</th><th scope=col>ARM</th><th scope=col>AGE</th><th scope=col>BMI</th><th scope=col>density</th><th scope=col>case_f</th><th scope=col>ARM_f</th></tr></thead>\n",
       "<tbody>\n",
       "\t<tr><td>0        </td><td>2        </td><td>47       </td><td>22.2     </td><td>100      </td><td>No cancer</td><td>Tamoxifen</td></tr>\n",
       "\t<tr><td>0        </td><td>2        </td><td>44       </td><td>20.8     </td><td>100      </td><td>No cancer</td><td>Tamoxifen</td></tr>\n",
       "</tbody>\n",
       "</table>\n"
      ],
      "text/latex": [
       "\\begin{tabular}{r|lllllll}\n",
       " case & ARM & AGE & BMI & density & case\\_f & ARM\\_f\\\\\n",
       "\\hline\n",
       "\t 0         & 2         & 47        & 22.2      & 100       & No cancer & Tamoxifen\\\\\n",
       "\t 0         & 2         & 44        & 20.8      & 100       & No cancer & Tamoxifen\\\\\n",
       "\\end{tabular}\n"
      ],
      "text/markdown": [
       "\n",
       "| case | ARM | AGE | BMI | density | case_f | ARM_f |\n",
       "|---|---|---|---|---|---|---|\n",
       "| 0         | 2         | 47        | 22.2      | 100       | No cancer | Tamoxifen |\n",
       "| 0         | 2         | 44        | 20.8      | 100       | No cancer | Tamoxifen |\n",
       "\n"
      ],
      "text/plain": [
       "  case ARM AGE BMI  density case_f    ARM_f    \n",
       "1 0    2   47  22.2 100     No cancer Tamoxifen\n",
       "2 0    2   44  20.8 100     No cancer Tamoxifen"
      ]
     },
     "metadata": {},
     "output_type": "display_data"
    },
    {
     "data": {
      "text/html": [
       "<table>\n",
       "<thead><tr><th></th><th scope=col>case</th><th scope=col>ARM</th><th scope=col>AGE</th><th scope=col>BMI</th><th scope=col>density</th><th scope=col>case_f</th><th scope=col>ARM_f</th></tr></thead>\n",
       "<tbody>\n",
       "\t<tr><th scope=row>1064</th><td>0        </td><td>1        </td><td>39       </td><td>31.6     </td><td>0        </td><td>No cancer</td><td>Placebo  </td></tr>\n",
       "\t<tr><th scope=row>1065</th><td>0        </td><td>2        </td><td>38       </td><td>28.7     </td><td>0        </td><td>No cancer</td><td>Tamoxifen</td></tr>\n",
       "</tbody>\n",
       "</table>\n"
      ],
      "text/latex": [
       "\\begin{tabular}{r|lllllll}\n",
       "  & case & ARM & AGE & BMI & density & case\\_f & ARM\\_f\\\\\n",
       "\\hline\n",
       "\t1064 & 0         & 1         & 39        & 31.6      & 0         & No cancer & Placebo  \\\\\n",
       "\t1065 & 0         & 2         & 38        & 28.7      & 0         & No cancer & Tamoxifen\\\\\n",
       "\\end{tabular}\n"
      ],
      "text/markdown": [
       "\n",
       "| <!--/--> | case | ARM | AGE | BMI | density | case_f | ARM_f |\n",
       "|---|---|---|---|---|---|---|---|\n",
       "| 1064 | 0         | 1         | 39        | 31.6      | 0         | No cancer | Placebo   |\n",
       "| 1065 | 0         | 2         | 38        | 28.7      | 0         | No cancer | Tamoxifen |\n",
       "\n"
      ],
      "text/plain": [
       "     case ARM AGE BMI  density case_f    ARM_f    \n",
       "1064 0    1   39  31.6 0       No cancer Placebo  \n",
       "1065 0    2   38  28.7 0       No cancer Tamoxifen"
      ]
     },
     "metadata": {},
     "output_type": "display_data"
    }
   ],
   "source": [
    "df_arrange <- cancer_df %>%\n",
    "  arrange(desc(density), desc(AGE))\n",
    "dim(df_arrange)\n",
    "head(df_arrange, 2)\n",
    "tail(df_arrange, 2)"
   ]
  },
  {
   "cell_type": "code",
   "execution_count": 16,
   "id": "5e216ba0",
   "metadata": {},
   "outputs": [
    {
     "data": {
      "text/html": [
       "<ol class=list-inline>\n",
       "\t<li>1065</li>\n",
       "\t<li>7</li>\n",
       "</ol>\n"
      ],
      "text/latex": [
       "\\begin{enumerate*}\n",
       "\\item 1065\n",
       "\\item 7\n",
       "\\end{enumerate*}\n"
      ],
      "text/markdown": [
       "1. 1065\n",
       "2. 7\n",
       "\n",
       "\n"
      ],
      "text/plain": [
       "[1] 1065    7"
      ]
     },
     "metadata": {},
     "output_type": "display_data"
    },
    {
     "data": {
      "text/html": [
       "<table>\n",
       "<thead><tr><th scope=col>case</th><th scope=col>ARM</th><th scope=col>AGE</th><th scope=col>BMI</th><th scope=col>density</th><th scope=col>case_f</th><th scope=col>ARM_f</th></tr></thead>\n",
       "<tbody>\n",
       "\t<tr><td>0        </td><td>2        </td><td>70       </td><td>21.5     </td><td>0        </td><td>No cancer</td><td>Tamoxifen</td></tr>\n",
       "\t<tr><td>0        </td><td>2        </td><td>68       </td><td>29.7     </td><td>0        </td><td>No cancer</td><td>Tamoxifen</td></tr>\n",
       "</tbody>\n",
       "</table>\n"
      ],
      "text/latex": [
       "\\begin{tabular}{r|lllllll}\n",
       " case & ARM & AGE & BMI & density & case\\_f & ARM\\_f\\\\\n",
       "\\hline\n",
       "\t 0         & 2         & 70        & 21.5      & 0         & No cancer & Tamoxifen\\\\\n",
       "\t 0         & 2         & 68        & 29.7      & 0         & No cancer & Tamoxifen\\\\\n",
       "\\end{tabular}\n"
      ],
      "text/markdown": [
       "\n",
       "| case | ARM | AGE | BMI | density | case_f | ARM_f |\n",
       "|---|---|---|---|---|---|---|\n",
       "| 0         | 2         | 70        | 21.5      | 0         | No cancer | Tamoxifen |\n",
       "| 0         | 2         | 68        | 29.7      | 0         | No cancer | Tamoxifen |\n",
       "\n"
      ],
      "text/plain": [
       "  case ARM AGE BMI  density case_f    ARM_f    \n",
       "1 0    2   70  21.5 0       No cancer Tamoxifen\n",
       "2 0    2   68  29.7 0       No cancer Tamoxifen"
      ]
     },
     "metadata": {},
     "output_type": "display_data"
    },
    {
     "data": {
      "text/html": [
       "<table>\n",
       "<thead><tr><th></th><th scope=col>case</th><th scope=col>ARM</th><th scope=col>AGE</th><th scope=col>BMI</th><th scope=col>density</th><th scope=col>case_f</th><th scope=col>ARM_f</th></tr></thead>\n",
       "<tbody>\n",
       "\t<tr><th scope=row>1064</th><td>0        </td><td>2        </td><td>47       </td><td>22.2     </td><td>100      </td><td>No cancer</td><td>Tamoxifen</td></tr>\n",
       "\t<tr><th scope=row>1065</th><td>0        </td><td>2        </td><td>44       </td><td>20.8     </td><td>100      </td><td>No cancer</td><td>Tamoxifen</td></tr>\n",
       "</tbody>\n",
       "</table>\n"
      ],
      "text/latex": [
       "\\begin{tabular}{r|lllllll}\n",
       "  & case & ARM & AGE & BMI & density & case\\_f & ARM\\_f\\\\\n",
       "\\hline\n",
       "\t1064 & 0         & 2         & 47        & 22.2      & 100       & No cancer & Tamoxifen\\\\\n",
       "\t1065 & 0         & 2         & 44        & 20.8      & 100       & No cancer & Tamoxifen\\\\\n",
       "\\end{tabular}\n"
      ],
      "text/markdown": [
       "\n",
       "| <!--/--> | case | ARM | AGE | BMI | density | case_f | ARM_f |\n",
       "|---|---|---|---|---|---|---|---|\n",
       "| 1064 | 0         | 2         | 47        | 22.2      | 100       | No cancer | Tamoxifen |\n",
       "| 1065 | 0         | 2         | 44        | 20.8      | 100       | No cancer | Tamoxifen |\n",
       "\n"
      ],
      "text/plain": [
       "     case ARM AGE BMI  density case_f    ARM_f    \n",
       "1064 0    2   47  22.2 100     No cancer Tamoxifen\n",
       "1065 0    2   44  20.8 100     No cancer Tamoxifen"
      ]
     },
     "metadata": {},
     "output_type": "display_data"
    }
   ],
   "source": [
    "df_arrange <- cancer_df %>%\n",
    "  arrange(density, desc(AGE))\n",
    "dim(df_arrange)\n",
    "head(df_arrange, 2)\n",
    "tail(df_arrange, 2)"
   ]
  },
  {
   "cell_type": "markdown",
   "id": "582c6ed4",
   "metadata": {},
   "source": [
    "### 6. Select(): to select columns"
   ]
  },
  {
   "cell_type": "code",
   "execution_count": 17,
   "id": "1a5b8c99",
   "metadata": {},
   "outputs": [
    {
     "data": {
      "text/html": [
       "<table>\n",
       "<thead><tr><th scope=col>AGE</th><th scope=col>density</th></tr></thead>\n",
       "<tbody>\n",
       "\t<tr><td>38</td><td>40</td></tr>\n",
       "\t<tr><td>43</td><td> 5</td></tr>\n",
       "</tbody>\n",
       "</table>\n"
      ],
      "text/latex": [
       "\\begin{tabular}{r|ll}\n",
       " AGE & density\\\\\n",
       "\\hline\n",
       "\t 38 & 40\\\\\n",
       "\t 43 &  5\\\\\n",
       "\\end{tabular}\n"
      ],
      "text/markdown": [
       "\n",
       "| AGE | density |\n",
       "|---|---|\n",
       "| 38 | 40 |\n",
       "| 43 |  5 |\n",
       "\n"
      ],
      "text/plain": [
       "  AGE density\n",
       "1 38  40     \n",
       "2 43   5     "
      ]
     },
     "metadata": {},
     "output_type": "display_data"
    }
   ],
   "source": [
    "df_select <- cancer_df %>%\n",
    "  select(AGE, density)\n",
    "\n",
    "head(df_select, 2)"
   ]
  },
  {
   "cell_type": "code",
   "execution_count": 18,
   "id": "aee00c2b",
   "metadata": {},
   "outputs": [
    {
     "data": {
      "text/html": [
       "<table>\n",
       "<thead><tr><th scope=col>AGE</th><th scope=col>density</th></tr></thead>\n",
       "<tbody>\n",
       "\t<tr><td>38</td><td>40</td></tr>\n",
       "\t<tr><td>43</td><td> 5</td></tr>\n",
       "</tbody>\n",
       "</table>\n"
      ],
      "text/latex": [
       "\\begin{tabular}{r|ll}\n",
       " AGE & density\\\\\n",
       "\\hline\n",
       "\t 38 & 40\\\\\n",
       "\t 43 &  5\\\\\n",
       "\\end{tabular}\n"
      ],
      "text/markdown": [
       "\n",
       "| AGE | density |\n",
       "|---|---|\n",
       "| 38 | 40 |\n",
       "| 43 |  5 |\n",
       "\n"
      ],
      "text/plain": [
       "  AGE density\n",
       "1 38  40     \n",
       "2 43   5     "
      ]
     },
     "metadata": {},
     "output_type": "display_data"
    }
   ],
   "source": [
    "# The same as above\n",
    "df_select <- cancer_df[, c('AGE', 'density')]\n",
    "head(df_select, 2)"
   ]
  },
  {
   "cell_type": "markdown",
   "id": "2e2ca1a2",
   "metadata": {},
   "source": [
    "### 7. Mutate(): to create new columns"
   ]
  },
  {
   "cell_type": "code",
   "execution_count": 19,
   "id": "8ed92bc5",
   "metadata": {},
   "outputs": [
    {
     "data": {
      "text/html": [
       "<table>\n",
       "<thead><tr><th scope=col>case</th><th scope=col>ARM</th><th scope=col>AGE</th><th scope=col>BMI</th><th scope=col>density</th><th scope=col>case_f</th><th scope=col>ARM_f</th><th scope=col>density_prop</th></tr></thead>\n",
       "<tbody>\n",
       "\t<tr><td>1        </td><td>1        </td><td>38       </td><td>21.8     </td><td>40       </td><td>Cancer   </td><td>Placebo  </td><td>0.40     </td></tr>\n",
       "\t<tr><td>0        </td><td>1        </td><td>43       </td><td>32.3     </td><td> 5       </td><td>No cancer</td><td>Placebo  </td><td>0.05     </td></tr>\n",
       "\t<tr><td>0        </td><td>1        </td><td>46       </td><td>23.0     </td><td>45       </td><td>No cancer</td><td>Placebo  </td><td>0.45     </td></tr>\n",
       "</tbody>\n",
       "</table>\n"
      ],
      "text/latex": [
       "\\begin{tabular}{r|llllllll}\n",
       " case & ARM & AGE & BMI & density & case\\_f & ARM\\_f & density\\_prop\\\\\n",
       "\\hline\n",
       "\t 1         & 1         & 38        & 21.8      & 40        & Cancer    & Placebo   & 0.40     \\\\\n",
       "\t 0         & 1         & 43        & 32.3      &  5        & No cancer & Placebo   & 0.05     \\\\\n",
       "\t 0         & 1         & 46        & 23.0      & 45        & No cancer & Placebo   & 0.45     \\\\\n",
       "\\end{tabular}\n"
      ],
      "text/markdown": [
       "\n",
       "| case | ARM | AGE | BMI | density | case_f | ARM_f | density_prop |\n",
       "|---|---|---|---|---|---|---|---|\n",
       "| 1         | 1         | 38        | 21.8      | 40        | Cancer    | Placebo   | 0.40      |\n",
       "| 0         | 1         | 43        | 32.3      |  5        | No cancer | Placebo   | 0.05      |\n",
       "| 0         | 1         | 46        | 23.0      | 45        | No cancer | Placebo   | 0.45      |\n",
       "\n"
      ],
      "text/plain": [
       "  case ARM AGE BMI  density case_f    ARM_f   density_prop\n",
       "1 1    1   38  21.8 40      Cancer    Placebo 0.40        \n",
       "2 0    1   43  32.3  5      No cancer Placebo 0.05        \n",
       "3 0    1   46  23.0 45      No cancer Placebo 0.45        "
      ]
     },
     "metadata": {},
     "output_type": "display_data"
    }
   ],
   "source": [
    "df_mutate <- cancer_df %>%\n",
    "                mutate(density_prop = density / 100)\n",
    "head(df_mutate, 3)"
   ]
  },
  {
   "cell_type": "markdown",
   "id": "1576089d",
   "metadata": {},
   "source": [
    "### 8. group_by and summarize"
   ]
  },
  {
   "cell_type": "code",
   "execution_count": 20,
   "id": "7efe630b",
   "metadata": {},
   "outputs": [
    {
     "data": {
      "text/html": [
       "<ol class=list-inline>\n",
       "\t<li>1065</li>\n",
       "\t<li>7</li>\n",
       "</ol>\n"
      ],
      "text/latex": [
       "\\begin{enumerate*}\n",
       "\\item 1065\n",
       "\\item 7\n",
       "\\end{enumerate*}\n"
      ],
      "text/markdown": [
       "1. 1065\n",
       "2. 7\n",
       "\n",
       "\n"
      ],
      "text/plain": [
       "[1] 1065    7"
      ]
     },
     "metadata": {},
     "output_type": "display_data"
    },
    {
     "data": {
      "text/html": [
       "<table>\n",
       "<thead><tr><th scope=col>case</th><th scope=col>ARM</th><th scope=col>AGE</th><th scope=col>BMI</th><th scope=col>density</th><th scope=col>case_f</th><th scope=col>ARM_f</th></tr></thead>\n",
       "<tbody>\n",
       "\t<tr><td>1        </td><td>1        </td><td>38       </td><td>21.8     </td><td>40       </td><td>Cancer   </td><td>Placebo  </td></tr>\n",
       "\t<tr><td>0        </td><td>1        </td><td>43       </td><td>32.3     </td><td> 5       </td><td>No cancer</td><td>Placebo  </td></tr>\n",
       "</tbody>\n",
       "</table>\n"
      ],
      "text/latex": [
       "\\begin{tabular}{r|lllllll}\n",
       " case & ARM & AGE & BMI & density & case\\_f & ARM\\_f\\\\\n",
       "\\hline\n",
       "\t 1         & 1         & 38        & 21.8      & 40        & Cancer    & Placebo  \\\\\n",
       "\t 0         & 1         & 43        & 32.3      &  5        & No cancer & Placebo  \\\\\n",
       "\\end{tabular}\n"
      ],
      "text/markdown": [
       "\n",
       "| case | ARM | AGE | BMI | density | case_f | ARM_f |\n",
       "|---|---|---|---|---|---|---|\n",
       "| 1         | 1         | 38        | 21.8      | 40        | Cancer    | Placebo   |\n",
       "| 0         | 1         | 43        | 32.3      |  5        | No cancer | Placebo   |\n",
       "\n"
      ],
      "text/plain": [
       "  case ARM AGE BMI  density case_f    ARM_f  \n",
       "1 1    1   38  21.8 40      Cancer    Placebo\n",
       "2 0    1   43  32.3  5      No cancer Placebo"
      ]
     },
     "metadata": {},
     "output_type": "display_data"
    },
    {
     "data": {
      "text/html": [
       "<table>\n",
       "<thead><tr><th></th><th scope=col>case</th><th scope=col>ARM</th><th scope=col>AGE</th><th scope=col>BMI</th><th scope=col>density</th><th scope=col>case_f</th><th scope=col>ARM_f</th></tr></thead>\n",
       "<tbody>\n",
       "\t<tr><th scope=row>1064</th><td>0        </td><td>2        </td><td>49       </td><td>30.9     </td><td>40       </td><td>No cancer</td><td>Tamoxifen</td></tr>\n",
       "\t<tr><th scope=row>1065</th><td>0        </td><td>2        </td><td>47       </td><td>21.7     </td><td>90       </td><td>No cancer</td><td>Tamoxifen</td></tr>\n",
       "</tbody>\n",
       "</table>\n"
      ],
      "text/latex": [
       "\\begin{tabular}{r|lllllll}\n",
       "  & case & ARM & AGE & BMI & density & case\\_f & ARM\\_f\\\\\n",
       "\\hline\n",
       "\t1064 & 0         & 2         & 49        & 30.9      & 40        & No cancer & Tamoxifen\\\\\n",
       "\t1065 & 0         & 2         & 47        & 21.7      & 90        & No cancer & Tamoxifen\\\\\n",
       "\\end{tabular}\n"
      ],
      "text/markdown": [
       "\n",
       "| <!--/--> | case | ARM | AGE | BMI | density | case_f | ARM_f |\n",
       "|---|---|---|---|---|---|---|---|\n",
       "| 1064 | 0         | 2         | 49        | 30.9      | 40        | No cancer | Tamoxifen |\n",
       "| 1065 | 0         | 2         | 47        | 21.7      | 90        | No cancer | Tamoxifen |\n",
       "\n"
      ],
      "text/plain": [
       "     case ARM AGE BMI  density case_f    ARM_f    \n",
       "1064 0    2   49  30.9 40      No cancer Tamoxifen\n",
       "1065 0    2   47  21.7 90      No cancer Tamoxifen"
      ]
     },
     "metadata": {},
     "output_type": "display_data"
    }
   ],
   "source": [
    "dim(cancer_df)\n",
    "head(cancer_df, 2)\n",
    "tail(cancer_df, 2)"
   ]
  },
  {
   "cell_type": "code",
   "execution_count": 21,
   "id": "7ad2b9e3",
   "metadata": {},
   "outputs": [
    {
     "data": {
      "text/html": [
       "<ol class=list-inline>\n",
       "\t<li>1065</li>\n",
       "\t<li>7</li>\n",
       "</ol>\n"
      ],
      "text/latex": [
       "\\begin{enumerate*}\n",
       "\\item 1065\n",
       "\\item 7\n",
       "\\end{enumerate*}\n"
      ],
      "text/markdown": [
       "1. 1065\n",
       "2. 7\n",
       "\n",
       "\n"
      ],
      "text/plain": [
       "[1] 1065    7"
      ]
     },
     "metadata": {},
     "output_type": "display_data"
    },
    {
     "data": {
      "text/html": [
       "<table>\n",
       "<thead><tr><th scope=col>case</th><th scope=col>ARM</th><th scope=col>AGE</th><th scope=col>BMI</th><th scope=col>density</th><th scope=col>case_f</th><th scope=col>ARM_f</th></tr></thead>\n",
       "<tbody>\n",
       "\t<tr><td>1        </td><td>1        </td><td>38       </td><td>21.8     </td><td>40       </td><td>Cancer   </td><td>Placebo  </td></tr>\n",
       "\t<tr><td>0        </td><td>1        </td><td>43       </td><td>32.3     </td><td> 5       </td><td>No cancer</td><td>Placebo  </td></tr>\n",
       "</tbody>\n",
       "</table>\n"
      ],
      "text/latex": [
       "\\begin{tabular}{r|lllllll}\n",
       " case & ARM & AGE & BMI & density & case\\_f & ARM\\_f\\\\\n",
       "\\hline\n",
       "\t 1         & 1         & 38        & 21.8      & 40        & Cancer    & Placebo  \\\\\n",
       "\t 0         & 1         & 43        & 32.3      &  5        & No cancer & Placebo  \\\\\n",
       "\\end{tabular}\n"
      ],
      "text/markdown": [
       "\n",
       "| case | ARM | AGE | BMI | density | case_f | ARM_f |\n",
       "|---|---|---|---|---|---|---|\n",
       "| 1         | 1         | 38        | 21.8      | 40        | Cancer    | Placebo   |\n",
       "| 0         | 1         | 43        | 32.3      |  5        | No cancer | Placebo   |\n",
       "\n"
      ],
      "text/plain": [
       "  case ARM AGE BMI  density case_f    ARM_f  \n",
       "1 1    1   38  21.8 40      Cancer    Placebo\n",
       "2 0    1   43  32.3  5      No cancer Placebo"
      ]
     },
     "metadata": {},
     "output_type": "display_data"
    },
    {
     "data": {
      "text/html": [
       "<table>\n",
       "<thead><tr><th scope=col>case</th><th scope=col>ARM</th><th scope=col>AGE</th><th scope=col>BMI</th><th scope=col>density</th><th scope=col>case_f</th><th scope=col>ARM_f</th></tr></thead>\n",
       "<tbody>\n",
       "\t<tr><td>0        </td><td>2        </td><td>49       </td><td>30.9     </td><td>40       </td><td>No cancer</td><td>Tamoxifen</td></tr>\n",
       "\t<tr><td>0        </td><td>2        </td><td>47       </td><td>21.7     </td><td>90       </td><td>No cancer</td><td>Tamoxifen</td></tr>\n",
       "</tbody>\n",
       "</table>\n"
      ],
      "text/latex": [
       "\\begin{tabular}{r|lllllll}\n",
       " case & ARM & AGE & BMI & density & case\\_f & ARM\\_f\\\\\n",
       "\\hline\n",
       "\t 0         & 2         & 49        & 30.9      & 40        & No cancer & Tamoxifen\\\\\n",
       "\t 0         & 2         & 47        & 21.7      & 90        & No cancer & Tamoxifen\\\\\n",
       "\\end{tabular}\n"
      ],
      "text/markdown": [
       "\n",
       "| case | ARM | AGE | BMI | density | case_f | ARM_f |\n",
       "|---|---|---|---|---|---|---|\n",
       "| 0         | 2         | 49        | 30.9      | 40        | No cancer | Tamoxifen |\n",
       "| 0         | 2         | 47        | 21.7      | 90        | No cancer | Tamoxifen |\n",
       "\n"
      ],
      "text/plain": [
       "  case ARM AGE BMI  density case_f    ARM_f    \n",
       "1 0    2   49  30.9 40      No cancer Tamoxifen\n",
       "2 0    2   47  21.7 90      No cancer Tamoxifen"
      ]
     },
     "metadata": {},
     "output_type": "display_data"
    }
   ],
   "source": [
    "# Note: if just using group_by, it is not in effect yet.\n",
    "df_gb <- cancer_df %>%\n",
    "            group_by(case_f)\n",
    "            \n",
    "dim(df_gb)\n",
    "head(df_gb, 2)\n",
    "tail(df_gb, 2)"
   ]
  },
  {
   "cell_type": "code",
   "execution_count": 22,
   "id": "bfc8c055",
   "metadata": {},
   "outputs": [
    {
     "data": {
      "text/html": [
       "<ol class=list-inline>\n",
       "\t<li>2</li>\n",
       "\t<li>2</li>\n",
       "</ol>\n"
      ],
      "text/latex": [
       "\\begin{enumerate*}\n",
       "\\item 2\n",
       "\\item 2\n",
       "\\end{enumerate*}\n"
      ],
      "text/markdown": [
       "1. 2\n",
       "2. 2\n",
       "\n",
       "\n"
      ],
      "text/plain": [
       "[1] 2 2"
      ]
     },
     "metadata": {},
     "output_type": "display_data"
    },
    {
     "data": {
      "text/html": [
       "<table>\n",
       "<thead><tr><th scope=col>case_f</th><th scope=col>count</th></tr></thead>\n",
       "<tbody>\n",
       "\t<tr><td>No cancer</td><td>942      </td></tr>\n",
       "\t<tr><td>Cancer   </td><td>123      </td></tr>\n",
       "</tbody>\n",
       "</table>\n"
      ],
      "text/latex": [
       "\\begin{tabular}{r|ll}\n",
       " case\\_f & count\\\\\n",
       "\\hline\n",
       "\t No cancer & 942      \\\\\n",
       "\t Cancer    & 123      \\\\\n",
       "\\end{tabular}\n"
      ],
      "text/markdown": [
       "\n",
       "| case_f | count |\n",
       "|---|---|\n",
       "| No cancer | 942       |\n",
       "| Cancer    | 123       |\n",
       "\n"
      ],
      "text/plain": [
       "  case_f    count\n",
       "1 No cancer 942  \n",
       "2 Cancer    123  "
      ]
     },
     "metadata": {},
     "output_type": "display_data"
    }
   ],
   "source": [
    "# group_by and summarise \"count\"\n",
    "df_gb <- cancer_df %>%\n",
    "            group_by(case_f) %>%\n",
    "            summarise(count = n())\n",
    "dim(df_gb)\n",
    "df_gb"
   ]
  },
  {
   "cell_type": "code",
   "execution_count": 23,
   "id": "229ef229",
   "metadata": {},
   "outputs": [
    {
     "data": {
      "text/html": [
       "<ol class=list-inline>\n",
       "\t<li>2</li>\n",
       "\t<li>2</li>\n",
       "</ol>\n"
      ],
      "text/latex": [
       "\\begin{enumerate*}\n",
       "\\item 2\n",
       "\\item 2\n",
       "\\end{enumerate*}\n"
      ],
      "text/markdown": [
       "1. 2\n",
       "2. 2\n",
       "\n",
       "\n"
      ],
      "text/plain": [
       "[1] 2 2"
      ]
     },
     "metadata": {},
     "output_type": "display_data"
    },
    {
     "data": {
      "text/html": [
       "<table>\n",
       "<thead><tr><th scope=col>case_f</th><th scope=col>mean_age</th></tr></thead>\n",
       "<tbody>\n",
       "\t<tr><td>No cancer</td><td>50.07749 </td></tr>\n",
       "\t<tr><td>Cancer   </td><td>50.83740 </td></tr>\n",
       "</tbody>\n",
       "</table>\n"
      ],
      "text/latex": [
       "\\begin{tabular}{r|ll}\n",
       " case\\_f & mean\\_age\\\\\n",
       "\\hline\n",
       "\t No cancer & 50.07749 \\\\\n",
       "\t Cancer    & 50.83740 \\\\\n",
       "\\end{tabular}\n"
      ],
      "text/markdown": [
       "\n",
       "| case_f | mean_age |\n",
       "|---|---|\n",
       "| No cancer | 50.07749  |\n",
       "| Cancer    | 50.83740  |\n",
       "\n"
      ],
      "text/plain": [
       "  case_f    mean_age\n",
       "1 No cancer 50.07749\n",
       "2 Cancer    50.83740"
      ]
     },
     "metadata": {},
     "output_type": "display_data"
    }
   ],
   "source": [
    "# group_by and summarise \"mean\"\n",
    "df_gb <- cancer_df %>%\n",
    "            group_by(case_f) %>%\n",
    "            summarise(mean_age = mean(AGE))\n",
    "dim(df_gb)\n",
    "df_gb"
   ]
  },
  {
   "cell_type": "code",
   "execution_count": 24,
   "id": "1d336a4f",
   "metadata": {},
   "outputs": [
    {
     "name": "stderr",
     "output_type": "stream",
     "text": [
      "`summarise()` has grouped output by 'ARM_f'. You can override using the `.groups` argument.\n"
     ]
    },
    {
     "data": {
      "text/html": [
       "<ol class=list-inline>\n",
       "\t<li>4</li>\n",
       "\t<li>4</li>\n",
       "</ol>\n"
      ],
      "text/latex": [
       "\\begin{enumerate*}\n",
       "\\item 4\n",
       "\\item 4\n",
       "\\end{enumerate*}\n"
      ],
      "text/markdown": [
       "1. 4\n",
       "2. 4\n",
       "\n",
       "\n"
      ],
      "text/plain": [
       "[1] 4 4"
      ]
     },
     "metadata": {},
     "output_type": "display_data"
    },
    {
     "data": {
      "text/html": [
       "<table>\n",
       "<thead><tr><th scope=col>ARM_f</th><th scope=col>case_f</th><th scope=col>count</th><th scope=col>mean_age</th></tr></thead>\n",
       "<tbody>\n",
       "\t<tr><td>Placebo  </td><td>No cancer</td><td>486      </td><td>50.06790 </td></tr>\n",
       "\t<tr><td>Placebo  </td><td>Cancer   </td><td> 72      </td><td>50.55556 </td></tr>\n",
       "\t<tr><td>Tamoxifen</td><td>No cancer</td><td>456      </td><td>50.08772 </td></tr>\n",
       "\t<tr><td>Tamoxifen</td><td>Cancer   </td><td> 51      </td><td>51.23529 </td></tr>\n",
       "</tbody>\n",
       "</table>\n"
      ],
      "text/latex": [
       "\\begin{tabular}{r|llll}\n",
       " ARM\\_f & case\\_f & count & mean\\_age\\\\\n",
       "\\hline\n",
       "\t Placebo   & No cancer & 486       & 50.06790 \\\\\n",
       "\t Placebo   & Cancer    &  72       & 50.55556 \\\\\n",
       "\t Tamoxifen & No cancer & 456       & 50.08772 \\\\\n",
       "\t Tamoxifen & Cancer    &  51       & 51.23529 \\\\\n",
       "\\end{tabular}\n"
      ],
      "text/markdown": [
       "\n",
       "| ARM_f | case_f | count | mean_age |\n",
       "|---|---|---|---|\n",
       "| Placebo   | No cancer | 486       | 50.06790  |\n",
       "| Placebo   | Cancer    |  72       | 50.55556  |\n",
       "| Tamoxifen | No cancer | 456       | 50.08772  |\n",
       "| Tamoxifen | Cancer    |  51       | 51.23529  |\n",
       "\n"
      ],
      "text/plain": [
       "  ARM_f     case_f    count mean_age\n",
       "1 Placebo   No cancer 486   50.06790\n",
       "2 Placebo   Cancer     72   50.55556\n",
       "3 Tamoxifen No cancer 456   50.08772\n",
       "4 Tamoxifen Cancer     51   51.23529"
      ]
     },
     "metadata": {},
     "output_type": "display_data"
    }
   ],
   "source": [
    "# group_by and summarise \"count\" and \"mean\"\n",
    "df_gb <- cancer_df %>%\n",
    "            group_by(ARM_f, case_f) %>%\n",
    "            summarise(count = n(), mean_age = mean(AGE))\n",
    "dim(df_gb)\n",
    "df_gb"
   ]
  },
  {
   "cell_type": "code",
   "execution_count": 25,
   "id": "0da00950",
   "metadata": {},
   "outputs": [
    {
     "data": {
      "text/html": [
       "<ol class=list-inline>\n",
       "\t<li>2</li>\n",
       "\t<li>3</li>\n",
       "</ol>\n"
      ],
      "text/latex": [
       "\\begin{enumerate*}\n",
       "\\item 2\n",
       "\\item 3\n",
       "\\end{enumerate*}\n"
      ],
      "text/markdown": [
       "1. 2\n",
       "2. 3\n",
       "\n",
       "\n"
      ],
      "text/plain": [
       "[1] 2 3"
      ]
     },
     "metadata": {},
     "output_type": "display_data"
    },
    {
     "data": {
      "text/html": [
       "<table>\n",
       "<thead><tr><th scope=col>ARM_f</th><th scope=col>median_BMI</th><th scope=col>median_density</th></tr></thead>\n",
       "<tbody>\n",
       "\t<tr><td>Placebo  </td><td>25.8     </td><td>45       </td></tr>\n",
       "\t<tr><td>Tamoxifen</td><td>25.5     </td><td>40       </td></tr>\n",
       "</tbody>\n",
       "</table>\n"
      ],
      "text/latex": [
       "\\begin{tabular}{r|lll}\n",
       " ARM\\_f & median\\_BMI & median\\_density\\\\\n",
       "\\hline\n",
       "\t Placebo   & 25.8      & 45       \\\\\n",
       "\t Tamoxifen & 25.5      & 40       \\\\\n",
       "\\end{tabular}\n"
      ],
      "text/markdown": [
       "\n",
       "| ARM_f | median_BMI | median_density |\n",
       "|---|---|---|\n",
       "| Placebo   | 25.8      | 45        |\n",
       "| Tamoxifen | 25.5      | 40        |\n",
       "\n"
      ],
      "text/plain": [
       "  ARM_f     median_BMI median_density\n",
       "1 Placebo   25.8       45            \n",
       "2 Tamoxifen 25.5       40            "
      ]
     },
     "metadata": {},
     "output_type": "display_data"
    }
   ],
   "source": [
    "# ?median\n",
    "# group_by and summarise \"median\"\n",
    "# Note: using na.rm=TRUE\n",
    "df_gb <- cancer_df %>%            \n",
    "            group_by(ARM_f) %>%\n",
    "            summarise(median_BMI = median(BMI, na.rm = TRUE), \n",
    "                      median_density = median(density))\n",
    "dim(df_gb)\n",
    "df_gb"
   ]
  },
  {
   "cell_type": "markdown",
   "id": "b395cfd6",
   "metadata": {},
   "source": [
    "### 9. Example of data wrangling as  pipe %>% chain commands"
   ]
  },
  {
   "cell_type": "markdown",
   "id": "26e24ec9",
   "metadata": {},
   "source": [
    "#### Eg 1."
   ]
  },
  {
   "cell_type": "code",
   "execution_count": 26,
   "id": "572a66b4",
   "metadata": {},
   "outputs": [
    {
     "data": {
      "text/html": [
       "<ol class=list-inline>\n",
       "\t<li>24</li>\n",
       "\t<li>5</li>\n",
       "</ol>\n"
      ],
      "text/latex": [
       "\\begin{enumerate*}\n",
       "\\item 24\n",
       "\\item 5\n",
       "\\end{enumerate*}\n"
      ],
      "text/markdown": [
       "1. 24\n",
       "2. 5\n",
       "\n",
       "\n"
      ],
      "text/plain": [
       "[1] 24  5"
      ]
     },
     "metadata": {},
     "output_type": "display_data"
    },
    {
     "data": {
      "text/html": [
       "<table>\n",
       "<thead><tr><th scope=col>ARM_f</th><th scope=col>case_f</th><th scope=col>AGE</th><th scope=col>BMI</th><th scope=col>density_prop</th></tr></thead>\n",
       "<tbody>\n",
       "\t<tr><td>Tamoxifen</td><td>No cancer</td><td>35       </td><td>21.2     </td><td>0.90     </td></tr>\n",
       "\t<tr><td>Placebo  </td><td>No cancer</td><td>35       </td><td>22.0     </td><td>0.95     </td></tr>\n",
       "\t<tr><td>Tamoxifen</td><td>No cancer</td><td>35       </td><td>24.6     </td><td>0.80     </td></tr>\n",
       "</tbody>\n",
       "</table>\n"
      ],
      "text/latex": [
       "\\begin{tabular}{r|lllll}\n",
       " ARM\\_f & case\\_f & AGE & BMI & density\\_prop\\\\\n",
       "\\hline\n",
       "\t Tamoxifen & No cancer & 35        & 21.2      & 0.90     \\\\\n",
       "\t Placebo   & No cancer & 35        & 22.0      & 0.95     \\\\\n",
       "\t Tamoxifen & No cancer & 35        & 24.6      & 0.80     \\\\\n",
       "\\end{tabular}\n"
      ],
      "text/markdown": [
       "\n",
       "| ARM_f | case_f | AGE | BMI | density_prop |\n",
       "|---|---|---|---|---|\n",
       "| Tamoxifen | No cancer | 35        | 21.2      | 0.90      |\n",
       "| Placebo   | No cancer | 35        | 22.0      | 0.95      |\n",
       "| Tamoxifen | No cancer | 35        | 24.6      | 0.80      |\n",
       "\n"
      ],
      "text/plain": [
       "  ARM_f     case_f    AGE BMI  density_prop\n",
       "1 Tamoxifen No cancer 35  21.2 0.90        \n",
       "2 Placebo   No cancer 35  22.0 0.95        \n",
       "3 Tamoxifen No cancer 35  24.6 0.80        "
      ]
     },
     "metadata": {},
     "output_type": "display_data"
    },
    {
     "data": {
      "text/html": [
       "<table>\n",
       "<thead><tr><th></th><th scope=col>ARM_f</th><th scope=col>case_f</th><th scope=col>AGE</th><th scope=col>BMI</th><th scope=col>density_prop</th></tr></thead>\n",
       "<tbody>\n",
       "\t<tr><th scope=row>22</th><td>Placebo  </td><td>No cancer</td><td>39       </td><td>26.9     </td><td>0.3      </td></tr>\n",
       "\t<tr><th scope=row>23</th><td>Placebo  </td><td>No cancer</td><td>39       </td><td>31.6     </td><td>0.0      </td></tr>\n",
       "\t<tr><th scope=row>24</th><td>Placebo  </td><td>No cancer</td><td>39       </td><td>34.5     </td><td>0.5      </td></tr>\n",
       "</tbody>\n",
       "</table>\n"
      ],
      "text/latex": [
       "\\begin{tabular}{r|lllll}\n",
       "  & ARM\\_f & case\\_f & AGE & BMI & density\\_prop\\\\\n",
       "\\hline\n",
       "\t22 & Placebo   & No cancer & 39        & 26.9      & 0.3      \\\\\n",
       "\t23 & Placebo   & No cancer & 39        & 31.6      & 0.0      \\\\\n",
       "\t24 & Placebo   & No cancer & 39        & 34.5      & 0.5      \\\\\n",
       "\\end{tabular}\n"
      ],
      "text/markdown": [
       "\n",
       "| <!--/--> | ARM_f | case_f | AGE | BMI | density_prop |\n",
       "|---|---|---|---|---|---|\n",
       "| 22 | Placebo   | No cancer | 39        | 26.9      | 0.3       |\n",
       "| 23 | Placebo   | No cancer | 39        | 31.6      | 0.0       |\n",
       "| 24 | Placebo   | No cancer | 39        | 34.5      | 0.5       |\n",
       "\n"
      ],
      "text/plain": [
       "   ARM_f   case_f    AGE BMI  density_prop\n",
       "22 Placebo No cancer 39  26.9 0.3         \n",
       "23 Placebo No cancer 39  31.6 0.0         \n",
       "24 Placebo No cancer 39  34.5 0.5         "
      ]
     },
     "metadata": {},
     "output_type": "display_data"
    }
   ],
   "source": [
    "df_chain <- cancer_df %>%\n",
    "              mutate(density_prop = density / 100) %>%\n",
    "              select(ARM_f, case_f, AGE, BMI, density_prop) %>%\n",
    "              filter(AGE < 40) %>%\n",
    "              arrange(AGE, BMI)\n",
    "dim(df_chain)\n",
    "head(df_chain, 3)\n",
    "tail(df_chain, 3)"
   ]
  },
  {
   "cell_type": "markdown",
   "id": "fbe7f291",
   "metadata": {},
   "source": [
    "#### Eg 2."
   ]
  },
  {
   "cell_type": "code",
   "execution_count": 27,
   "id": "cbed997e",
   "metadata": {},
   "outputs": [
    {
     "data": {
      "text/html": [
       "<ol class=list-inline>\n",
       "\t<li>2</li>\n",
       "\t<li>3</li>\n",
       "</ol>\n"
      ],
      "text/latex": [
       "\\begin{enumerate*}\n",
       "\\item 2\n",
       "\\item 3\n",
       "\\end{enumerate*}\n"
      ],
      "text/markdown": [
       "1. 2\n",
       "2. 3\n",
       "\n",
       "\n"
      ],
      "text/plain": [
       "[1] 2 3"
      ]
     },
     "metadata": {},
     "output_type": "display_data"
    },
    {
     "data": {
      "text/html": [
       "<table>\n",
       "<thead><tr><th scope=col>ARM_f</th><th scope=col>count</th><th scope=col>proportion</th></tr></thead>\n",
       "<tbody>\n",
       "\t<tr><td>Placebo  </td><td>119      </td><td>0.508547 </td></tr>\n",
       "\t<tr><td>Tamoxifen</td><td>115      </td><td>0.491453 </td></tr>\n",
       "</tbody>\n",
       "</table>\n"
      ],
      "text/latex": [
       "\\begin{tabular}{r|lll}\n",
       " ARM\\_f & count & proportion\\\\\n",
       "\\hline\n",
       "\t Placebo   & 119       & 0.508547 \\\\\n",
       "\t Tamoxifen & 115       & 0.491453 \\\\\n",
       "\\end{tabular}\n"
      ],
      "text/markdown": [
       "\n",
       "| ARM_f | count | proportion |\n",
       "|---|---|---|\n",
       "| Placebo   | 119       | 0.508547  |\n",
       "| Tamoxifen | 115       | 0.491453  |\n",
       "\n"
      ],
      "text/plain": [
       "  ARM_f     count proportion\n",
       "1 Placebo   119   0.508547  \n",
       "2 Tamoxifen 115   0.491453  "
      ]
     },
     "metadata": {},
     "output_type": "display_data"
    }
   ],
   "source": [
    "df_chain <- cancer_df %>%\n",
    "    filter(AGE <= 45) %>%\n",
    "    group_by(ARM_f) %>%\n",
    "    summarise(count = n()) %>%\n",
    "    mutate(proportion = count / sum(count))\n",
    "\n",
    "dim(df_chain)\n",
    "df_chain"
   ]
  },
  {
   "cell_type": "markdown",
   "id": "dd67cfba",
   "metadata": {},
   "source": [
    "#### Eg 3."
   ]
  },
  {
   "cell_type": "code",
   "execution_count": 28,
   "id": "c059b1f8",
   "metadata": {},
   "outputs": [
    {
     "data": {
      "image/png": "[encoded data removed]",
      "text/plain": [
       "plot without title"
      ]
     },
     "metadata": {},
     "output_type": "display_data"
    }
   ],
   "source": [
    "options(repr.plot.width = 3, repr.plot.height = 2.5)\n",
    "\n",
    "cancer_df %>%\n",
    "    filter(AGE <= 45) %>%\n",
    "    group_by(ARM_f) %>%\n",
    "    summarise(count = n()) %>%\n",
    "    mutate(proportion = count / sum(count)) %>%\n",
    "    ggplot(aes(x=ARM_f, y = proportion)) +\n",
    "    geom_col()"
   ]
  },
  {
   "cell_type": "markdown",
   "id": "cd88c1d3",
   "metadata": {},
   "source": [
    "#### Eg 4: Which density values had at least 80 records?"
   ]
  },
  {
   "cell_type": "code",
   "execution_count": 29,
   "id": "8954b1e5",
   "metadata": {},
   "outputs": [
    {
     "data": {
      "text/html": [
       "<ol class=list-inline>\n",
       "\t<li>4</li>\n",
       "\t<li>2</li>\n",
       "</ol>\n"
      ],
      "text/latex": [
       "\\begin{enumerate*}\n",
       "\\item 4\n",
       "\\item 2\n",
       "\\end{enumerate*}\n"
      ],
      "text/markdown": [
       "1. 4\n",
       "2. 2\n",
       "\n",
       "\n"
      ],
      "text/plain": [
       "[1] 4 2"
      ]
     },
     "metadata": {},
     "output_type": "display_data"
    },
    {
     "data": {
      "text/html": [
       "<table>\n",
       "<thead><tr><th scope=col>density</th><th scope=col>count</th></tr></thead>\n",
       "<tbody>\n",
       "\t<tr><td> 0 </td><td>114</td></tr>\n",
       "\t<tr><td>40 </td><td> 84</td></tr>\n",
       "\t<tr><td>70 </td><td> 99</td></tr>\n",
       "\t<tr><td>80 </td><td>105</td></tr>\n",
       "</tbody>\n",
       "</table>\n"
      ],
      "text/latex": [
       "\\begin{tabular}{r|ll}\n",
       " density & count\\\\\n",
       "\\hline\n",
       "\t  0  & 114\\\\\n",
       "\t 40  &  84\\\\\n",
       "\t 70  &  99\\\\\n",
       "\t 80  & 105\\\\\n",
       "\\end{tabular}\n"
      ],
      "text/markdown": [
       "\n",
       "| density | count |\n",
       "|---|---|\n",
       "|  0  | 114 |\n",
       "| 40  |  84 |\n",
       "| 70  |  99 |\n",
       "| 80  | 105 |\n",
       "\n"
      ],
      "text/plain": [
       "  density count\n",
       "1  0      114  \n",
       "2 40       84  \n",
       "3 70       99  \n",
       "4 80      105  "
      ]
     },
     "metadata": {},
     "output_type": "display_data"
    }
   ],
   "source": [
    "df_density <- cancer_df %>%\n",
    "    group_by(density) %>%\n",
    "    summarise(count = n()) %>%\n",
    "    filter(count >= 80)\n",
    "\n",
    "dim(df_density)\n",
    "df_density"
   ]
  },
  {
   "cell_type": "markdown",
   "id": "159e9d69",
   "metadata": {},
   "source": [
    "# II. Practice exercises"
   ]
  },
  {
   "cell_type": "markdown",
   "id": "73ab360c",
   "metadata": {},
   "source": [
    "```\n",
    "In this exercise we will explore a recent published dataset, from this paper:\n",
    "\n",
    "Marcato, F., van den Brand, H., Jansen, C. A., Rutten, V. P., Kemp, B., Engel, B., ... & van Reenen, K. (2021). Effects of pre-transport diet, transport duration and transport condition on immune cell subsets, haptoglobin, cortisol and bilirubin in young veal calves. PloS one, 16(2), e0246959.\n",
    "\n",
    "It is an agricultural experiment but it reminds me of many of the experiments I have seen from students at JCSMR. They have a model organism (in this case, veal), to which they apply one of two treatments (a diet), and one of two stressful events (transport for 6 or 18 hours, called 'duration' here), and measure cortisol, bilirubin, and immune response (titre and flow cytometry) before and after (and, for some of the measures, at multiple time points).\n",
    "\n",
    "This document contains exercises for you to work through, but they are not arbitrary exercises -- rather they are organised to form an exploratory data analysis of these data. Specifically, the exercises are just the first few things that I actually did when I first looked at this data.\n",
    "```"
   ]
  },
  {
   "cell_type": "code",
   "execution_count": 30,
   "id": "2307bff4",
   "metadata": {},
   "outputs": [],
   "source": [
    "# Install the following packages\n",
    "# install.packages('learnr')\n",
    "# install.packages(\"janitor\")"
   ]
  },
  {
   "cell_type": "code",
   "execution_count": 31,
   "id": "6693cb36",
   "metadata": {},
   "outputs": [
    {
     "name": "stderr",
     "output_type": "stream",
     "text": [
      "Warning message:\n",
      "\"package 'readr' was built under R version 3.6.3\"Warning message:\n",
      "\"package 'magrittr' was built under R version 3.6.3\"Warning message:\n",
      "\"package 'tidyr' was built under R version 3.6.3\"\n",
      "Attaching package: 'tidyr'\n",
      "\n",
      "The following object is masked from 'package:magrittr':\n",
      "\n",
      "    extract\n",
      "\n",
      "Warning message:\n",
      "\"package 'janitor' was built under R version 3.6.3\"\n",
      "Attaching package: 'janitor'\n",
      "\n",
      "The following objects are masked from 'package:stats':\n",
      "\n",
      "    chisq.test, fisher.test\n",
      "\n"
     ]
    }
   ],
   "source": [
    "library(readr)\n",
    "library(magrittr)\n",
    "library(tidyr)\n",
    "library(ggplot2)\n",
    "library(dplyr)\n",
    "library(janitor)"
   ]
  },
  {
   "cell_type": "markdown",
   "id": "ae0dc546",
   "metadata": {},
   "source": [
    "## 1. Read and clean up the data"
   ]
  },
  {
   "cell_type": "code",
   "execution_count": 32,
   "id": "e36d4d0b",
   "metadata": {},
   "outputs": [
    {
     "name": "stderr",
     "output_type": "stream",
     "text": [
      "\n",
      "-- Column specification --------------------------------------------------------\n",
      "cols(\n",
      "  .default = col_double(),\n",
      "  Timepoint = col_character(),\n",
      "  Uplo = col_character(),\n",
      "  Bafr = col_character(),\n",
      "  Diet = col_character(),\n",
      "  Type = col_character(),\n",
      "  Bilirubin_1 = col_character(),\n",
      "  Cortisol_1 = col_character(),\n",
      "  Haptoglobin = col_character(),\n",
      "  Titer_IgG = col_character(),\n",
      "  Titer_IgM = col_character()\n",
      ")\n",
      "i Use `spec()` for the full column specifications.\n",
      "\n"
     ]
    },
    {
     "name": "stdout",
     "output_type": "stream",
     "text": [
      "spec_tbl_df [1,024 x 37] (S3: spec_tbl_df/tbl_df/tbl/data.frame)\n",
      " $ Timepoint         : chr [1:1024] \"CC\" \"CC\" \"CC\" \"CC\" ...\n",
      " $ Batch             : num [1:1024] 1 1 1 1 1 1 1 1 1 1 ...\n",
      " $ Animal            : num [1:1024] 1 2 3 4 5 6 7 8 9 10 ...\n",
      " $ Eartag            : num [1:1024] 48454 4796 85085 884 59787 ...\n",
      " $ Uplo              : chr [1:1024] \"up\" \"up\" \"low\" \"low\" ...\n",
      " $ Bafr              : chr [1:1024] \"back\" \"back\" \"back\" \"back\" ...\n",
      " $ Pen               : num [1:1024] 4 4 6 6 7 7 2 2 10 10 ...\n",
      " $ Corridor          : num [1:1024] 1 1 1 1 1 1 1 1 2 2 ...\n",
      " $ Diet              : chr [1:1024] \"E\" \"E\" \"M\" \"M\" ...\n",
      " $ Duration          : num [1:1024] 6 6 6 6 6 6 6 6 6 6 ...\n",
      " $ Type              : chr [1:1024] \"U\" \"U\" \"C\" \"C\" ...\n",
      " $ Bilirubin_1       : chr [1:1024] \"12.95\" \"18.51\" \"26.11\" \"9.84\" ...\n",
      " $ Cortisol_1        : chr [1:1024] \"7.58\" \"16.55\" \"17.49\" \"12.37\" ...\n",
      " $ Haptoglobin       : chr [1:1024] \"0.31\" \"0.28\" \"0.18\" \"0.55\" ...\n",
      " $ Titer_IgG         : chr [1:1024] \"4.7\" \"3.9\" \"4.4\" \"4.9\" ...\n",
      " $ Titer_IgM         : chr [1:1024] \"6.6\" \"4.0\" \"5.3\" \"3.8\" ...\n",
      " $ wbc               : num [1:1024] 6.79 13.31 11.68 5.29 6.87 ...\n",
      " $ neutro1           : num [1:1024] 2.77 6.02 4.17 1.6 2.22 4.94 3 8.65 3.81 6.93 ...\n",
      " $ lympho1           : num [1:1024] 2.69 4.75 3.8 2.33 3.58 1.79 4.65 5.55 4.87 3.77 ...\n",
      " $ mono1             : num [1:1024] 1.15 1.87 2.2 1.04 0.9 1.1 1.59 2.07 1.48 1.09 ...\n",
      " $ eo1               : num [1:1024] 0.07 0.16 0.46 0.14 0.08 0.73 0.41 0.51 0.06 0.15 ...\n",
      " $ baso1             : num [1:1024] 0.11 0.52 1.06 0.18 0.1 0.4 0.14 0.17 0.23 0.19 ...\n",
      " $ neutro2           : num [1:1024] 40.8 45.3 35.6 30.2 32.3 ...\n",
      " $ lympho2           : num [1:1024] 39.6 35.6 32.5 44 52.1 ...\n",
      " $ mono2             : num [1:1024] 16.9 14.1 18.8 19.8 13.1 ...\n",
      " $ eo2               : num [1:1024] 1.05 1.15 3.95 2.6 1.15 8.15 4.15 3.05 0.55 1.2 ...\n",
      " $ baso2             : num [1:1024] 1.55 3.85 9.1 3.5 1.4 4.5 1.4 1 2.2 1.5 ...\n",
      " $ CD8+              : num [1:1024] 7.05 5.73 10.7 5.15 8.08 12.1 15.5 5.19 14.4 11.5 ...\n",
      " $ CD8+ perf+        : num [1:1024] 0.67 1.31 1.41 2.08 0.78 1.24 0 0.34 0.86 0.68 ...\n",
      " $ NK+               : num [1:1024] 4.52 6.52 13.3 3.16 14.4 13.8 8.3 5.22 8.28 12.3 ...\n",
      " $ NK+ perf+         : num [1:1024] 1.64 2.86 1.3 1.43 2.17 0.94 0.82 1.39 1.66 2.83 ...\n",
      " $ CD4+              : num [1:1024] 17.9 11.2 0.1 0.09 8.47 22.5 14.9 8.19 24.9 11.5 ...\n",
      " $ CD4+ perf+        : num [1:1024] 0.02 0.25 4.17 11.8 0.19 0.12 0 0.06 0.49 0.12 ...\n",
      " $ gamma delta+      : num [1:1024] 41.6 48.9 23.5 55.9 36.9 18.9 3.17 63.5 0.11 37 ...\n",
      " $ gamma delta+ perf+: num [1:1024] 0.06 0.33 0.12 0.23 0.07 0.19 0 0.12 0 0.09 ...\n",
      " $ CD14+ large       : num [1:1024] 35.2 34.2 44.7 24.1 19.1 61.1 3.93 43.7 28.3 25.1 ...\n",
      " $ CD21+ large       : num [1:1024] 8.04 12.5 12.8 6.85 16.3 4.3 29.1 3.4 11.5 6.92 ...\n",
      " - attr(*, \"spec\")=\n",
      "  .. cols(\n",
      "  ..   Timepoint = col_character(),\n",
      "  ..   Batch = col_double(),\n",
      "  ..   Animal = col_double(),\n",
      "  ..   Eartag = col_double(),\n",
      "  ..   Uplo = col_character(),\n",
      "  ..   Bafr = col_character(),\n",
      "  ..   Pen = col_double(),\n",
      "  ..   Corridor = col_double(),\n",
      "  ..   Diet = col_character(),\n",
      "  ..   Duration = col_double(),\n",
      "  ..   Type = col_character(),\n",
      "  ..   Bilirubin_1 = col_character(),\n",
      "  ..   Cortisol_1 = col_character(),\n",
      "  ..   Haptoglobin = col_character(),\n",
      "  ..   Titer_IgG = col_character(),\n",
      "  ..   Titer_IgM = col_character(),\n",
      "  ..   wbc = col_double(),\n",
      "  ..   neutro1 = col_double(),\n",
      "  ..   lympho1 = col_double(),\n",
      "  ..   mono1 = col_double(),\n",
      "  ..   eo1 = col_double(),\n",
      "  ..   baso1 = col_double(),\n",
      "  ..   neutro2 = col_double(),\n",
      "  ..   lympho2 = col_double(),\n",
      "  ..   mono2 = col_double(),\n",
      "  ..   eo2 = col_double(),\n",
      "  ..   baso2 = col_double(),\n",
      "  ..   `CD8+` = col_double(),\n",
      "  ..   `CD8+ perf+` = col_double(),\n",
      "  ..   `NK+` = col_double(),\n",
      "  ..   `NK+ perf+` = col_double(),\n",
      "  ..   `CD4+` = col_double(),\n",
      "  ..   `CD4+ perf+` = col_double(),\n",
      "  ..   `gamma delta+` = col_double(),\n",
      "  ..   `gamma delta+ perf+` = col_double(),\n",
      "  ..   `CD14+ large` = col_double(),\n",
      "  ..   `CD21+ large` = col_double()\n",
      "  .. )\n"
     ]
    }
   ],
   "source": [
    "veal <- read_csv('data/Marcato_2021_immunity.csv')\n",
    "str(veal)"
   ]
  },
  {
   "cell_type": "code",
   "execution_count": 33,
   "id": "5bd0f456",
   "metadata": {},
   "outputs": [
    {
     "data": {
      "text/html": [
       "<table>\n",
       "<thead><tr><th scope=col>Timepoint</th><th scope=col>Batch</th><th scope=col>Animal</th><th scope=col>Eartag</th><th scope=col>Uplo</th><th scope=col>Bafr</th><th scope=col>Pen</th><th scope=col>Corridor</th><th scope=col>Diet</th><th scope=col>Duration</th><th scope=col>...</th><th scope=col>CD8+</th><th scope=col>CD8+ perf+</th><th scope=col>NK+</th><th scope=col>NK+ perf+</th><th scope=col>CD4+</th><th scope=col>CD4+ perf+</th><th scope=col>gamma delta+</th><th scope=col>gamma delta+ perf+</th><th scope=col>CD14+ large</th><th scope=col>CD21+ large</th></tr></thead>\n",
       "<tbody>\n",
       "\t<tr><td>CC   </td><td>1    </td><td>1    </td><td>48454</td><td>up   </td><td>back </td><td>4    </td><td>1    </td><td>E    </td><td>6    </td><td>...  </td><td> 7.05</td><td>0.67 </td><td> 4.52</td><td>1.64 </td><td>17.90</td><td> 0.02</td><td>41.6 </td><td>0.06 </td><td>35.2 </td><td> 8.04</td></tr>\n",
       "\t<tr><td>CC   </td><td>1    </td><td>2    </td><td> 4796</td><td>up   </td><td>back </td><td>4    </td><td>1    </td><td>E    </td><td>6    </td><td>...  </td><td> 5.73</td><td>1.31 </td><td> 6.52</td><td>2.86 </td><td>11.20</td><td> 0.25</td><td>48.9 </td><td>0.33 </td><td>34.2 </td><td>12.50</td></tr>\n",
       "\t<tr><td>CC   </td><td>1    </td><td>3    </td><td>85085</td><td>low  </td><td>back </td><td>6    </td><td>1    </td><td>M    </td><td>6    </td><td>...  </td><td>10.70</td><td>1.41 </td><td>13.30</td><td>1.30 </td><td> 0.10</td><td> 4.17</td><td>23.5 </td><td>0.12 </td><td>44.7 </td><td>12.80</td></tr>\n",
       "\t<tr><td>CC   </td><td>1    </td><td>4    </td><td>  884</td><td>low  </td><td>back </td><td>6    </td><td>1    </td><td>M    </td><td>6    </td><td>...  </td><td> 5.15</td><td>2.08 </td><td> 3.16</td><td>1.43 </td><td> 0.09</td><td>11.80</td><td>55.9 </td><td>0.23 </td><td>24.1 </td><td> 6.85</td></tr>\n",
       "\t<tr><td>CC   </td><td>1    </td><td>5    </td><td>59787</td><td>up   </td><td>back </td><td>7    </td><td>1    </td><td>E    </td><td>6    </td><td>...  </td><td> 8.08</td><td>0.78 </td><td>14.40</td><td>2.17 </td><td> 8.47</td><td> 0.19</td><td>36.9 </td><td>0.07 </td><td>19.1 </td><td>16.30</td></tr>\n",
       "</tbody>\n",
       "</table>\n"
      ],
      "text/latex": [
       "\\begin{tabular}{r|lllllllllllllllllllllllllllllllllllll}\n",
       " Timepoint & Batch & Animal & Eartag & Uplo & Bafr & Pen & Corridor & Diet & Duration & ... & CD8+ & CD8+ perf+ & NK+ & NK+ perf+ & CD4+ & CD4+ perf+ & gamma delta+ & gamma delta+ perf+ & CD14+ large & CD21+ large\\\\\n",
       "\\hline\n",
       "\t CC    & 1     & 1     & 48454 & up    & back  & 4     & 1     & E     & 6     & ...   &  7.05 & 0.67  &  4.52 & 1.64  & 17.90 &  0.02 & 41.6  & 0.06  & 35.2  &  8.04\\\\\n",
       "\t CC    & 1     & 2     &  4796 & up    & back  & 4     & 1     & E     & 6     & ...   &  5.73 & 1.31  &  6.52 & 2.86  & 11.20 &  0.25 & 48.9  & 0.33  & 34.2  & 12.50\\\\\n",
       "\t CC    & 1     & 3     & 85085 & low   & back  & 6     & 1     & M     & 6     & ...   & 10.70 & 1.41  & 13.30 & 1.30  &  0.10 &  4.17 & 23.5  & 0.12  & 44.7  & 12.80\\\\\n",
       "\t CC    & 1     & 4     &   884 & low   & back  & 6     & 1     & M     & 6     & ...   &  5.15 & 2.08  &  3.16 & 1.43  &  0.09 & 11.80 & 55.9  & 0.23  & 24.1  &  6.85\\\\\n",
       "\t CC    & 1     & 5     & 59787 & up    & back  & 7     & 1     & E     & 6     & ...   &  8.08 & 0.78  & 14.40 & 2.17  &  8.47 &  0.19 & 36.9  & 0.07  & 19.1  & 16.30\\\\\n",
       "\\end{tabular}\n"
      ],
      "text/markdown": [
       "\n",
       "| Timepoint | Batch | Animal | Eartag | Uplo | Bafr | Pen | Corridor | Diet | Duration | ... | CD8+ | CD8+ perf+ | NK+ | NK+ perf+ | CD4+ | CD4+ perf+ | gamma delta+ | gamma delta+ perf+ | CD14+ large | CD21+ large |\n",
       "|---|---|---|---|---|---|---|---|---|---|---|---|---|---|---|---|---|---|---|---|---|\n",
       "| CC    | 1     | 1     | 48454 | up    | back  | 4     | 1     | E     | 6     | ...   |  7.05 | 0.67  |  4.52 | 1.64  | 17.90 |  0.02 | 41.6  | 0.06  | 35.2  |  8.04 |\n",
       "| CC    | 1     | 2     |  4796 | up    | back  | 4     | 1     | E     | 6     | ...   |  5.73 | 1.31  |  6.52 | 2.86  | 11.20 |  0.25 | 48.9  | 0.33  | 34.2  | 12.50 |\n",
       "| CC    | 1     | 3     | 85085 | low   | back  | 6     | 1     | M     | 6     | ...   | 10.70 | 1.41  | 13.30 | 1.30  |  0.10 |  4.17 | 23.5  | 0.12  | 44.7  | 12.80 |\n",
       "| CC    | 1     | 4     |   884 | low   | back  | 6     | 1     | M     | 6     | ...   |  5.15 | 2.08  |  3.16 | 1.43  |  0.09 | 11.80 | 55.9  | 0.23  | 24.1  |  6.85 |\n",
       "| CC    | 1     | 5     | 59787 | up    | back  | 7     | 1     | E     | 6     | ...   |  8.08 | 0.78  | 14.40 | 2.17  |  8.47 |  0.19 | 36.9  | 0.07  | 19.1  | 16.30 |\n",
       "\n"
      ],
      "text/plain": [
       "  Timepoint Batch Animal Eartag Uplo Bafr Pen Corridor Diet Duration ... CD8+ \n",
       "1 CC        1     1      48454  up   back 4   1        E    6        ...  7.05\n",
       "2 CC        1     2       4796  up   back 4   1        E    6        ...  5.73\n",
       "3 CC        1     3      85085  low  back 6   1        M    6        ... 10.70\n",
       "4 CC        1     4        884  low  back 6   1        M    6        ...  5.15\n",
       "5 CC        1     5      59787  up   back 7   1        E    6        ...  8.08\n",
       "  CD8+ perf+ NK+   NK+ perf+ CD4+  CD4+ perf+ gamma delta+ gamma delta+ perf+\n",
       "1 0.67        4.52 1.64      17.90  0.02      41.6         0.06              \n",
       "2 1.31        6.52 2.86      11.20  0.25      48.9         0.33              \n",
       "3 1.41       13.30 1.30       0.10  4.17      23.5         0.12              \n",
       "4 2.08        3.16 1.43       0.09 11.80      55.9         0.23              \n",
       "5 0.78       14.40 2.17       8.47  0.19      36.9         0.07              \n",
       "  CD14+ large CD21+ large\n",
       "1 35.2         8.04      \n",
       "2 34.2        12.50      \n",
       "3 44.7        12.80      \n",
       "4 24.1         6.85      \n",
       "5 19.1        16.30      "
      ]
     },
     "metadata": {},
     "output_type": "display_data"
    },
    {
     "data": {
      "text/html": [
       "<table>\n",
       "<thead><tr><th scope=col>Timepoint</th><th scope=col>Batch</th><th scope=col>Animal</th><th scope=col>Eartag</th><th scope=col>Uplo</th><th scope=col>Bafr</th><th scope=col>Pen</th><th scope=col>Corridor</th><th scope=col>Diet</th><th scope=col>Duration</th><th scope=col>...</th><th scope=col>CD8+</th><th scope=col>CD8+ perf+</th><th scope=col>NK+</th><th scope=col>NK+ perf+</th><th scope=col>CD4+</th><th scope=col>CD4+ perf+</th><th scope=col>gamma delta+</th><th scope=col>gamma delta+ perf+</th><th scope=col>CD14+ large</th><th scope=col>CD21+ large</th></tr></thead>\n",
       "<tbody>\n",
       "\t<tr><td>Week 5</td><td>2     </td><td>124   </td><td>64693 </td><td>up    </td><td>back  </td><td>62    </td><td>8     </td><td>M     </td><td> 6    </td><td>...   </td><td>NA    </td><td>NA    </td><td>NA    </td><td>NA    </td><td>NA    </td><td>NA    </td><td>NA    </td><td>NA    </td><td>NA    </td><td>NA    </td></tr>\n",
       "\t<tr><td>Week 5</td><td>2     </td><td>125   </td><td> 9797 </td><td>low   </td><td>front </td><td>63    </td><td>8     </td><td>M     </td><td>18    </td><td>...   </td><td>NA    </td><td>NA    </td><td>NA    </td><td>NA    </td><td>NA    </td><td>NA    </td><td>NA    </td><td>NA    </td><td>NA    </td><td>NA    </td></tr>\n",
       "\t<tr><td>Week 5</td><td>2     </td><td>126   </td><td>40277 </td><td>low   </td><td>front </td><td>63    </td><td>8     </td><td>M     </td><td>18    </td><td>...   </td><td>NA    </td><td>NA    </td><td>NA    </td><td>NA    </td><td>NA    </td><td>NA    </td><td>NA    </td><td>NA    </td><td>NA    </td><td>NA    </td></tr>\n",
       "\t<tr><td>Week 5</td><td>2     </td><td>127   </td><td>  902 </td><td>low   </td><td>front </td><td>64    </td><td>8     </td><td>M     </td><td>18    </td><td>...   </td><td>NA    </td><td>NA    </td><td>NA    </td><td>NA    </td><td>NA    </td><td>NA    </td><td>NA    </td><td>NA    </td><td>NA    </td><td>NA    </td></tr>\n",
       "\t<tr><td>Week 5</td><td>2     </td><td>128   </td><td>63889 </td><td>low   </td><td>front </td><td>64    </td><td>8     </td><td>M     </td><td>18    </td><td>...   </td><td>NA    </td><td>NA    </td><td>NA    </td><td>NA    </td><td>NA    </td><td>NA    </td><td>NA    </td><td>NA    </td><td>NA    </td><td>NA    </td></tr>\n",
       "</tbody>\n",
       "</table>\n"
      ],
      "text/latex": [
       "\\begin{tabular}{r|lllllllllllllllllllllllllllllllllllll}\n",
       " Timepoint & Batch & Animal & Eartag & Uplo & Bafr & Pen & Corridor & Diet & Duration & ... & CD8+ & CD8+ perf+ & NK+ & NK+ perf+ & CD4+ & CD4+ perf+ & gamma delta+ & gamma delta+ perf+ & CD14+ large & CD21+ large\\\\\n",
       "\\hline\n",
       "\t Week 5 & 2      & 124    & 64693  & up     & back   & 62     & 8      & M      &  6     & ...    & NA     & NA     & NA     & NA     & NA     & NA     & NA     & NA     & NA     & NA    \\\\\n",
       "\t Week 5 & 2      & 125    &  9797  & low    & front  & 63     & 8      & M      & 18     & ...    & NA     & NA     & NA     & NA     & NA     & NA     & NA     & NA     & NA     & NA    \\\\\n",
       "\t Week 5 & 2      & 126    & 40277  & low    & front  & 63     & 8      & M      & 18     & ...    & NA     & NA     & NA     & NA     & NA     & NA     & NA     & NA     & NA     & NA    \\\\\n",
       "\t Week 5 & 2      & 127    &   902  & low    & front  & 64     & 8      & M      & 18     & ...    & NA     & NA     & NA     & NA     & NA     & NA     & NA     & NA     & NA     & NA    \\\\\n",
       "\t Week 5 & 2      & 128    & 63889  & low    & front  & 64     & 8      & M      & 18     & ...    & NA     & NA     & NA     & NA     & NA     & NA     & NA     & NA     & NA     & NA    \\\\\n",
       "\\end{tabular}\n"
      ],
      "text/markdown": [
       "\n",
       "| Timepoint | Batch | Animal | Eartag | Uplo | Bafr | Pen | Corridor | Diet | Duration | ... | CD8+ | CD8+ perf+ | NK+ | NK+ perf+ | CD4+ | CD4+ perf+ | gamma delta+ | gamma delta+ perf+ | CD14+ large | CD21+ large |\n",
       "|---|---|---|---|---|---|---|---|---|---|---|---|---|---|---|---|---|---|---|---|---|\n",
       "| Week 5 | 2      | 124    | 64693  | up     | back   | 62     | 8      | M      |  6     | ...    | NA     | NA     | NA     | NA     | NA     | NA     | NA     | NA     | NA     | NA     |\n",
       "| Week 5 | 2      | 125    |  9797  | low    | front  | 63     | 8      | M      | 18     | ...    | NA     | NA     | NA     | NA     | NA     | NA     | NA     | NA     | NA     | NA     |\n",
       "| Week 5 | 2      | 126    | 40277  | low    | front  | 63     | 8      | M      | 18     | ...    | NA     | NA     | NA     | NA     | NA     | NA     | NA     | NA     | NA     | NA     |\n",
       "| Week 5 | 2      | 127    |   902  | low    | front  | 64     | 8      | M      | 18     | ...    | NA     | NA     | NA     | NA     | NA     | NA     | NA     | NA     | NA     | NA     |\n",
       "| Week 5 | 2      | 128    | 63889  | low    | front  | 64     | 8      | M      | 18     | ...    | NA     | NA     | NA     | NA     | NA     | NA     | NA     | NA     | NA     | NA     |\n",
       "\n"
      ],
      "text/plain": [
       "  Timepoint Batch Animal Eartag Uplo Bafr  Pen Corridor Diet Duration ... CD8+\n",
       "1 Week 5    2     124    64693  up   back  62  8        M     6       ... NA  \n",
       "2 Week 5    2     125     9797  low  front 63  8        M    18       ... NA  \n",
       "3 Week 5    2     126    40277  low  front 63  8        M    18       ... NA  \n",
       "4 Week 5    2     127      902  low  front 64  8        M    18       ... NA  \n",
       "5 Week 5    2     128    63889  low  front 64  8        M    18       ... NA  \n",
       "  CD8+ perf+ NK+ NK+ perf+ CD4+ CD4+ perf+ gamma delta+ gamma delta+ perf+\n",
       "1 NA         NA  NA        NA   NA         NA           NA                \n",
       "2 NA         NA  NA        NA   NA         NA           NA                \n",
       "3 NA         NA  NA        NA   NA         NA           NA                \n",
       "4 NA         NA  NA        NA   NA         NA           NA                \n",
       "5 NA         NA  NA        NA   NA         NA           NA                \n",
       "  CD14+ large CD21+ large\n",
       "1 NA          NA         \n",
       "2 NA          NA         \n",
       "3 NA          NA         \n",
       "4 NA          NA         \n",
       "5 NA          NA         "
      ]
     },
     "metadata": {},
     "output_type": "display_data"
    }
   ],
   "source": [
    "head(veal, 5)\n",
    "tail(veal, 5)"
   ]
  },
  {
   "cell_type": "markdown",
   "id": "6ffae68c",
   "metadata": {},
   "source": [
    "### clean up the data using clean_names()  \n",
    "Many of the later columns here have spaces or punctuation that is a pain to work with.  \n",
    "A convenient way of dealing with this is to use the clean_names() function from the janitor package."
   ]
  },
  {
   "cell_type": "code",
   "execution_count": 34,
   "id": "e444f909",
   "metadata": {},
   "outputs": [
    {
     "name": "stdout",
     "output_type": "stream",
     "text": [
      "spec_tbl_df [1,024 x 37] (S3: spec_tbl_df/tbl_df/tbl/data.frame)\n",
      " $ timepoint       : chr [1:1024] \"CC\" \"CC\" \"CC\" \"CC\" ...\n",
      " $ batch           : num [1:1024] 1 1 1 1 1 1 1 1 1 1 ...\n",
      " $ animal          : num [1:1024] 1 2 3 4 5 6 7 8 9 10 ...\n",
      " $ eartag          : num [1:1024] 48454 4796 85085 884 59787 ...\n",
      " $ uplo            : chr [1:1024] \"up\" \"up\" \"low\" \"low\" ...\n",
      " $ bafr            : chr [1:1024] \"back\" \"back\" \"back\" \"back\" ...\n",
      " $ pen             : num [1:1024] 4 4 6 6 7 7 2 2 10 10 ...\n",
      " $ corridor        : num [1:1024] 1 1 1 1 1 1 1 1 2 2 ...\n",
      " $ diet            : chr [1:1024] \"E\" \"E\" \"M\" \"M\" ...\n",
      " $ duration        : num [1:1024] 6 6 6 6 6 6 6 6 6 6 ...\n",
      " $ type            : chr [1:1024] \"U\" \"U\" \"C\" \"C\" ...\n",
      " $ bilirubin_1     : chr [1:1024] \"12.95\" \"18.51\" \"26.11\" \"9.84\" ...\n",
      " $ cortisol_1      : chr [1:1024] \"7.58\" \"16.55\" \"17.49\" \"12.37\" ...\n",
      " $ haptoglobin     : chr [1:1024] \"0.31\" \"0.28\" \"0.18\" \"0.55\" ...\n",
      " $ titer_ig_g      : chr [1:1024] \"4.7\" \"3.9\" \"4.4\" \"4.9\" ...\n",
      " $ titer_ig_m      : chr [1:1024] \"6.6\" \"4.0\" \"5.3\" \"3.8\" ...\n",
      " $ wbc             : num [1:1024] 6.79 13.31 11.68 5.29 6.87 ...\n",
      " $ neutro1         : num [1:1024] 2.77 6.02 4.17 1.6 2.22 4.94 3 8.65 3.81 6.93 ...\n",
      " $ lympho1         : num [1:1024] 2.69 4.75 3.8 2.33 3.58 1.79 4.65 5.55 4.87 3.77 ...\n",
      " $ mono1           : num [1:1024] 1.15 1.87 2.2 1.04 0.9 1.1 1.59 2.07 1.48 1.09 ...\n",
      " $ eo1             : num [1:1024] 0.07 0.16 0.46 0.14 0.08 0.73 0.41 0.51 0.06 0.15 ...\n",
      " $ baso1           : num [1:1024] 0.11 0.52 1.06 0.18 0.1 0.4 0.14 0.17 0.23 0.19 ...\n",
      " $ neutro2         : num [1:1024] 40.8 45.3 35.6 30.2 32.3 ...\n",
      " $ lympho2         : num [1:1024] 39.6 35.6 32.5 44 52.1 ...\n",
      " $ mono2           : num [1:1024] 16.9 14.1 18.8 19.8 13.1 ...\n",
      " $ eo2             : num [1:1024] 1.05 1.15 3.95 2.6 1.15 8.15 4.15 3.05 0.55 1.2 ...\n",
      " $ baso2           : num [1:1024] 1.55 3.85 9.1 3.5 1.4 4.5 1.4 1 2.2 1.5 ...\n",
      " $ cd8             : num [1:1024] 7.05 5.73 10.7 5.15 8.08 12.1 15.5 5.19 14.4 11.5 ...\n",
      " $ cd8_perf        : num [1:1024] 0.67 1.31 1.41 2.08 0.78 1.24 0 0.34 0.86 0.68 ...\n",
      " $ nk              : num [1:1024] 4.52 6.52 13.3 3.16 14.4 13.8 8.3 5.22 8.28 12.3 ...\n",
      " $ nk_perf         : num [1:1024] 1.64 2.86 1.3 1.43 2.17 0.94 0.82 1.39 1.66 2.83 ...\n",
      " $ cd4             : num [1:1024] 17.9 11.2 0.1 0.09 8.47 22.5 14.9 8.19 24.9 11.5 ...\n",
      " $ cd4_perf        : num [1:1024] 0.02 0.25 4.17 11.8 0.19 0.12 0 0.06 0.49 0.12 ...\n",
      " $ gamma_delta     : num [1:1024] 41.6 48.9 23.5 55.9 36.9 18.9 3.17 63.5 0.11 37 ...\n",
      " $ gamma_delta_perf: num [1:1024] 0.06 0.33 0.12 0.23 0.07 0.19 0 0.12 0 0.09 ...\n",
      " $ cd14_large      : num [1:1024] 35.2 34.2 44.7 24.1 19.1 61.1 3.93 43.7 28.3 25.1 ...\n",
      " $ cd21_large      : num [1:1024] 8.04 12.5 12.8 6.85 16.3 4.3 29.1 3.4 11.5 6.92 ...\n"
     ]
    }
   ],
   "source": [
    "veal <- clean_names(veal)\n",
    "attr(veal, 'spec') <- NULL # this just helps display things mores concisely\n",
    "str(veal)"
   ]
  },
  {
   "cell_type": "code",
   "execution_count": 35,
   "id": "d6e11d18",
   "metadata": {},
   "outputs": [
    {
     "data": {
      "text/html": [
       "<table>\n",
       "<thead><tr><th scope=col>timepoint</th><th scope=col>batch</th><th scope=col>animal</th><th scope=col>eartag</th><th scope=col>uplo</th><th scope=col>bafr</th><th scope=col>pen</th><th scope=col>corridor</th><th scope=col>diet</th><th scope=col>duration</th><th scope=col>...</th><th scope=col>cd8</th><th scope=col>cd8_perf</th><th scope=col>nk</th><th scope=col>nk_perf</th><th scope=col>cd4</th><th scope=col>cd4_perf</th><th scope=col>gamma_delta</th><th scope=col>gamma_delta_perf</th><th scope=col>cd14_large</th><th scope=col>cd21_large</th></tr></thead>\n",
       "<tbody>\n",
       "\t<tr><td>CC   </td><td>1    </td><td>1    </td><td>48454</td><td>up   </td><td>back </td><td>4    </td><td>1    </td><td>E    </td><td>6    </td><td>...  </td><td> 7.05</td><td>0.67 </td><td> 4.52</td><td>1.64 </td><td>17.90</td><td> 0.02</td><td>41.6 </td><td>0.06 </td><td>35.2 </td><td> 8.04</td></tr>\n",
       "\t<tr><td>CC   </td><td>1    </td><td>2    </td><td> 4796</td><td>up   </td><td>back </td><td>4    </td><td>1    </td><td>E    </td><td>6    </td><td>...  </td><td> 5.73</td><td>1.31 </td><td> 6.52</td><td>2.86 </td><td>11.20</td><td> 0.25</td><td>48.9 </td><td>0.33 </td><td>34.2 </td><td>12.50</td></tr>\n",
       "\t<tr><td>CC   </td><td>1    </td><td>3    </td><td>85085</td><td>low  </td><td>back </td><td>6    </td><td>1    </td><td>M    </td><td>6    </td><td>...  </td><td>10.70</td><td>1.41 </td><td>13.30</td><td>1.30 </td><td> 0.10</td><td> 4.17</td><td>23.5 </td><td>0.12 </td><td>44.7 </td><td>12.80</td></tr>\n",
       "\t<tr><td>CC   </td><td>1    </td><td>4    </td><td>  884</td><td>low  </td><td>back </td><td>6    </td><td>1    </td><td>M    </td><td>6    </td><td>...  </td><td> 5.15</td><td>2.08 </td><td> 3.16</td><td>1.43 </td><td> 0.09</td><td>11.80</td><td>55.9 </td><td>0.23 </td><td>24.1 </td><td> 6.85</td></tr>\n",
       "\t<tr><td>CC   </td><td>1    </td><td>5    </td><td>59787</td><td>up   </td><td>back </td><td>7    </td><td>1    </td><td>E    </td><td>6    </td><td>...  </td><td> 8.08</td><td>0.78 </td><td>14.40</td><td>2.17 </td><td> 8.47</td><td> 0.19</td><td>36.9 </td><td>0.07 </td><td>19.1 </td><td>16.30</td></tr>\n",
       "</tbody>\n",
       "</table>\n"
      ],
      "text/latex": [
       "\\begin{tabular}{r|lllllllllllllllllllllllllllllllllllll}\n",
       " timepoint & batch & animal & eartag & uplo & bafr & pen & corridor & diet & duration & ... & cd8 & cd8\\_perf & nk & nk\\_perf & cd4 & cd4\\_perf & gamma\\_delta & gamma\\_delta\\_perf & cd14\\_large & cd21\\_large\\\\\n",
       "\\hline\n",
       "\t CC    & 1     & 1     & 48454 & up    & back  & 4     & 1     & E     & 6     & ...   &  7.05 & 0.67  &  4.52 & 1.64  & 17.90 &  0.02 & 41.6  & 0.06  & 35.2  &  8.04\\\\\n",
       "\t CC    & 1     & 2     &  4796 & up    & back  & 4     & 1     & E     & 6     & ...   &  5.73 & 1.31  &  6.52 & 2.86  & 11.20 &  0.25 & 48.9  & 0.33  & 34.2  & 12.50\\\\\n",
       "\t CC    & 1     & 3     & 85085 & low   & back  & 6     & 1     & M     & 6     & ...   & 10.70 & 1.41  & 13.30 & 1.30  &  0.10 &  4.17 & 23.5  & 0.12  & 44.7  & 12.80\\\\\n",
       "\t CC    & 1     & 4     &   884 & low   & back  & 6     & 1     & M     & 6     & ...   &  5.15 & 2.08  &  3.16 & 1.43  &  0.09 & 11.80 & 55.9  & 0.23  & 24.1  &  6.85\\\\\n",
       "\t CC    & 1     & 5     & 59787 & up    & back  & 7     & 1     & E     & 6     & ...   &  8.08 & 0.78  & 14.40 & 2.17  &  8.47 &  0.19 & 36.9  & 0.07  & 19.1  & 16.30\\\\\n",
       "\\end{tabular}\n"
      ],
      "text/markdown": [
       "\n",
       "| timepoint | batch | animal | eartag | uplo | bafr | pen | corridor | diet | duration | ... | cd8 | cd8_perf | nk | nk_perf | cd4 | cd4_perf | gamma_delta | gamma_delta_perf | cd14_large | cd21_large |\n",
       "|---|---|---|---|---|---|---|---|---|---|---|---|---|---|---|---|---|---|---|---|---|\n",
       "| CC    | 1     | 1     | 48454 | up    | back  | 4     | 1     | E     | 6     | ...   |  7.05 | 0.67  |  4.52 | 1.64  | 17.90 |  0.02 | 41.6  | 0.06  | 35.2  |  8.04 |\n",
       "| CC    | 1     | 2     |  4796 | up    | back  | 4     | 1     | E     | 6     | ...   |  5.73 | 1.31  |  6.52 | 2.86  | 11.20 |  0.25 | 48.9  | 0.33  | 34.2  | 12.50 |\n",
       "| CC    | 1     | 3     | 85085 | low   | back  | 6     | 1     | M     | 6     | ...   | 10.70 | 1.41  | 13.30 | 1.30  |  0.10 |  4.17 | 23.5  | 0.12  | 44.7  | 12.80 |\n",
       "| CC    | 1     | 4     |   884 | low   | back  | 6     | 1     | M     | 6     | ...   |  5.15 | 2.08  |  3.16 | 1.43  |  0.09 | 11.80 | 55.9  | 0.23  | 24.1  |  6.85 |\n",
       "| CC    | 1     | 5     | 59787 | up    | back  | 7     | 1     | E     | 6     | ...   |  8.08 | 0.78  | 14.40 | 2.17  |  8.47 |  0.19 | 36.9  | 0.07  | 19.1  | 16.30 |\n",
       "\n"
      ],
      "text/plain": [
       "  timepoint batch animal eartag uplo bafr pen corridor diet duration ... cd8  \n",
       "1 CC        1     1      48454  up   back 4   1        E    6        ...  7.05\n",
       "2 CC        1     2       4796  up   back 4   1        E    6        ...  5.73\n",
       "3 CC        1     3      85085  low  back 6   1        M    6        ... 10.70\n",
       "4 CC        1     4        884  low  back 6   1        M    6        ...  5.15\n",
       "5 CC        1     5      59787  up   back 7   1        E    6        ...  8.08\n",
       "  cd8_perf nk    nk_perf cd4   cd4_perf gamma_delta gamma_delta_perf cd14_large\n",
       "1 0.67      4.52 1.64    17.90  0.02    41.6        0.06             35.2      \n",
       "2 1.31      6.52 2.86    11.20  0.25    48.9        0.33             34.2      \n",
       "3 1.41     13.30 1.30     0.10  4.17    23.5        0.12             44.7      \n",
       "4 2.08      3.16 1.43     0.09 11.80    55.9        0.23             24.1      \n",
       "5 0.78     14.40 2.17     8.47  0.19    36.9        0.07             19.1      \n",
       "  cd21_large\n",
       "1  8.04     \n",
       "2 12.50     \n",
       "3 12.80     \n",
       "4  6.85     \n",
       "5 16.30     "
      ]
     },
     "metadata": {},
     "output_type": "display_data"
    },
    {
     "data": {
      "text/html": [
       "<table>\n",
       "<thead><tr><th scope=col>timepoint</th><th scope=col>batch</th><th scope=col>animal</th><th scope=col>eartag</th><th scope=col>uplo</th><th scope=col>bafr</th><th scope=col>pen</th><th scope=col>corridor</th><th scope=col>diet</th><th scope=col>duration</th><th scope=col>...</th><th scope=col>cd8</th><th scope=col>cd8_perf</th><th scope=col>nk</th><th scope=col>nk_perf</th><th scope=col>cd4</th><th scope=col>cd4_perf</th><th scope=col>gamma_delta</th><th scope=col>gamma_delta_perf</th><th scope=col>cd14_large</th><th scope=col>cd21_large</th></tr></thead>\n",
       "<tbody>\n",
       "\t<tr><td>Week 5</td><td>2     </td><td>124   </td><td>64693 </td><td>up    </td><td>back  </td><td>62    </td><td>8     </td><td>M     </td><td> 6    </td><td>...   </td><td>NA    </td><td>NA    </td><td>NA    </td><td>NA    </td><td>NA    </td><td>NA    </td><td>NA    </td><td>NA    </td><td>NA    </td><td>NA    </td></tr>\n",
       "\t<tr><td>Week 5</td><td>2     </td><td>125   </td><td> 9797 </td><td>low   </td><td>front </td><td>63    </td><td>8     </td><td>M     </td><td>18    </td><td>...   </td><td>NA    </td><td>NA    </td><td>NA    </td><td>NA    </td><td>NA    </td><td>NA    </td><td>NA    </td><td>NA    </td><td>NA    </td><td>NA    </td></tr>\n",
       "\t<tr><td>Week 5</td><td>2     </td><td>126   </td><td>40277 </td><td>low   </td><td>front </td><td>63    </td><td>8     </td><td>M     </td><td>18    </td><td>...   </td><td>NA    </td><td>NA    </td><td>NA    </td><td>NA    </td><td>NA    </td><td>NA    </td><td>NA    </td><td>NA    </td><td>NA    </td><td>NA    </td></tr>\n",
       "\t<tr><td>Week 5</td><td>2     </td><td>127   </td><td>  902 </td><td>low   </td><td>front </td><td>64    </td><td>8     </td><td>M     </td><td>18    </td><td>...   </td><td>NA    </td><td>NA    </td><td>NA    </td><td>NA    </td><td>NA    </td><td>NA    </td><td>NA    </td><td>NA    </td><td>NA    </td><td>NA    </td></tr>\n",
       "\t<tr><td>Week 5</td><td>2     </td><td>128   </td><td>63889 </td><td>low   </td><td>front </td><td>64    </td><td>8     </td><td>M     </td><td>18    </td><td>...   </td><td>NA    </td><td>NA    </td><td>NA    </td><td>NA    </td><td>NA    </td><td>NA    </td><td>NA    </td><td>NA    </td><td>NA    </td><td>NA    </td></tr>\n",
       "</tbody>\n",
       "</table>\n"
      ],
      "text/latex": [
       "\\begin{tabular}{r|lllllllllllllllllllllllllllllllllllll}\n",
       " timepoint & batch & animal & eartag & uplo & bafr & pen & corridor & diet & duration & ... & cd8 & cd8\\_perf & nk & nk\\_perf & cd4 & cd4\\_perf & gamma\\_delta & gamma\\_delta\\_perf & cd14\\_large & cd21\\_large\\\\\n",
       "\\hline\n",
       "\t Week 5 & 2      & 124    & 64693  & up     & back   & 62     & 8      & M      &  6     & ...    & NA     & NA     & NA     & NA     & NA     & NA     & NA     & NA     & NA     & NA    \\\\\n",
       "\t Week 5 & 2      & 125    &  9797  & low    & front  & 63     & 8      & M      & 18     & ...    & NA     & NA     & NA     & NA     & NA     & NA     & NA     & NA     & NA     & NA    \\\\\n",
       "\t Week 5 & 2      & 126    & 40277  & low    & front  & 63     & 8      & M      & 18     & ...    & NA     & NA     & NA     & NA     & NA     & NA     & NA     & NA     & NA     & NA    \\\\\n",
       "\t Week 5 & 2      & 127    &   902  & low    & front  & 64     & 8      & M      & 18     & ...    & NA     & NA     & NA     & NA     & NA     & NA     & NA     & NA     & NA     & NA    \\\\\n",
       "\t Week 5 & 2      & 128    & 63889  & low    & front  & 64     & 8      & M      & 18     & ...    & NA     & NA     & NA     & NA     & NA     & NA     & NA     & NA     & NA     & NA    \\\\\n",
       "\\end{tabular}\n"
      ],
      "text/markdown": [
       "\n",
       "| timepoint | batch | animal | eartag | uplo | bafr | pen | corridor | diet | duration | ... | cd8 | cd8_perf | nk | nk_perf | cd4 | cd4_perf | gamma_delta | gamma_delta_perf | cd14_large | cd21_large |\n",
       "|---|---|---|---|---|---|---|---|---|---|---|---|---|---|---|---|---|---|---|---|---|\n",
       "| Week 5 | 2      | 124    | 64693  | up     | back   | 62     | 8      | M      |  6     | ...    | NA     | NA     | NA     | NA     | NA     | NA     | NA     | NA     | NA     | NA     |\n",
       "| Week 5 | 2      | 125    |  9797  | low    | front  | 63     | 8      | M      | 18     | ...    | NA     | NA     | NA     | NA     | NA     | NA     | NA     | NA     | NA     | NA     |\n",
       "| Week 5 | 2      | 126    | 40277  | low    | front  | 63     | 8      | M      | 18     | ...    | NA     | NA     | NA     | NA     | NA     | NA     | NA     | NA     | NA     | NA     |\n",
       "| Week 5 | 2      | 127    |   902  | low    | front  | 64     | 8      | M      | 18     | ...    | NA     | NA     | NA     | NA     | NA     | NA     | NA     | NA     | NA     | NA     |\n",
       "| Week 5 | 2      | 128    | 63889  | low    | front  | 64     | 8      | M      | 18     | ...    | NA     | NA     | NA     | NA     | NA     | NA     | NA     | NA     | NA     | NA     |\n",
       "\n"
      ],
      "text/plain": [
       "  timepoint batch animal eartag uplo bafr  pen corridor diet duration ... cd8\n",
       "1 Week 5    2     124    64693  up   back  62  8        M     6       ... NA \n",
       "2 Week 5    2     125     9797  low  front 63  8        M    18       ... NA \n",
       "3 Week 5    2     126    40277  low  front 63  8        M    18       ... NA \n",
       "4 Week 5    2     127      902  low  front 64  8        M    18       ... NA \n",
       "5 Week 5    2     128    63889  low  front 64  8        M    18       ... NA \n",
       "  cd8_perf nk nk_perf cd4 cd4_perf gamma_delta gamma_delta_perf cd14_large\n",
       "1 NA       NA NA      NA  NA       NA          NA               NA        \n",
       "2 NA       NA NA      NA  NA       NA          NA               NA        \n",
       "3 NA       NA NA      NA  NA       NA          NA               NA        \n",
       "4 NA       NA NA      NA  NA       NA          NA               NA        \n",
       "5 NA       NA NA      NA  NA       NA          NA               NA        \n",
       "  cd21_large\n",
       "1 NA        \n",
       "2 NA        \n",
       "3 NA        \n",
       "4 NA        \n",
       "5 NA        "
      ]
     },
     "metadata": {},
     "output_type": "display_data"
    }
   ],
   "source": [
    "head(veal, 5)\n",
    "tail(veal, 5)"
   ]
  },
  {
   "cell_type": "markdown",
   "id": "19d5dfe3",
   "metadata": {},
   "source": [
    "### Change . to NA"
   ]
  },
  {
   "cell_type": "markdown",
   "id": "9f2d97d4",
   "metadata": {},
   "source": [
    "```\n",
    "When we look at this str() output, we notice that some of the columns that we expect to be numbers, are not. If you look at the csv you notice that they have '.' instead of empty cells where data are missing. Converting these to numberic will work (and turn those dots into NAs), but it will show a warning.\n",
    "```"
   ]
  },
  {
   "cell_type": "code",
   "execution_count": 36,
   "id": "ca4eee06",
   "metadata": {},
   "outputs": [
    {
     "name": "stderr",
     "output_type": "stream",
     "text": [
      "Warning message in eval(expr, envir, enclos):\n",
      "\"NAs introduced by coercion\"Warning message in eval(expr, envir, enclos):\n",
      "\"NAs introduced by coercion\"Warning message in eval(expr, envir, enclos):\n",
      "\"NAs introduced by coercion\"Warning message in eval(expr, envir, enclos):\n",
      "\"NAs introduced by coercion\"Warning message in eval(expr, envir, enclos):\n",
      "\"NAs introduced by coercion\""
     ]
    }
   ],
   "source": [
    "veal$bilirubin_1 <- as.numeric(veal$bilirubin_1)\n",
    "veal$cortisol_1 <- as.numeric(veal$cortisol_1)\n",
    "veal$haptoglobin <- as.numeric(veal$haptoglobin)\n",
    "veal$titer_ig_g <- as.numeric(veal$titer_ig_g)\n",
    "veal$titer_ig_m <- as.numeric(veal$titer_ig_m)"
   ]
  },
  {
   "cell_type": "markdown",
   "id": "a0e5af68",
   "metadata": {},
   "source": [
    "## 2. Initial checks of experimental setup"
   ]
  },
  {
   "cell_type": "code",
   "execution_count": 37,
   "id": "e925be19",
   "metadata": {},
   "outputs": [
    {
     "name": "stdout",
     "output_type": "stream",
     "text": [
      "spec_tbl_df [1,024 x 37] (S3: spec_tbl_df/tbl_df/tbl/data.frame)\n",
      " $ timepoint       : chr [1:1024] \"CC\" \"CC\" \"CC\" \"CC\" ...\n",
      " $ batch           : num [1:1024] 1 1 1 1 1 1 1 1 1 1 ...\n",
      " $ animal          : num [1:1024] 1 2 3 4 5 6 7 8 9 10 ...\n",
      " $ eartag          : num [1:1024] 48454 4796 85085 884 59787 ...\n",
      " $ uplo            : chr [1:1024] \"up\" \"up\" \"low\" \"low\" ...\n",
      " $ bafr            : chr [1:1024] \"back\" \"back\" \"back\" \"back\" ...\n",
      " $ pen             : num [1:1024] 4 4 6 6 7 7 2 2 10 10 ...\n",
      " $ corridor        : num [1:1024] 1 1 1 1 1 1 1 1 2 2 ...\n",
      " $ diet            : chr [1:1024] \"E\" \"E\" \"M\" \"M\" ...\n",
      " $ duration        : num [1:1024] 6 6 6 6 6 6 6 6 6 6 ...\n",
      " $ type            : chr [1:1024] \"U\" \"U\" \"C\" \"C\" ...\n",
      " $ bilirubin_1     : num [1:1024] 12.95 18.51 26.11 9.84 19.05 ...\n",
      " $ cortisol_1      : num [1:1024] 7.58 16.55 17.49 12.37 3.55 ...\n",
      " $ haptoglobin     : num [1:1024] 0.31 0.28 0.18 0.55 0.17 0.15 0.2 0.18 0.27 0.19 ...\n",
      " $ titer_ig_g      : num [1:1024] 4.7 3.9 4.4 4.9 5.3 5.7 5.4 5.2 3.5 3.9 ...\n",
      " $ titer_ig_m      : num [1:1024] 6.6 4 5.3 3.8 4.5 5.7 2 6.9 5 4.8 ...\n",
      " $ wbc             : num [1:1024] 6.79 13.31 11.68 5.29 6.87 ...\n",
      " $ neutro1         : num [1:1024] 2.77 6.02 4.17 1.6 2.22 4.94 3 8.65 3.81 6.93 ...\n",
      " $ lympho1         : num [1:1024] 2.69 4.75 3.8 2.33 3.58 1.79 4.65 5.55 4.87 3.77 ...\n",
      " $ mono1           : num [1:1024] 1.15 1.87 2.2 1.04 0.9 1.1 1.59 2.07 1.48 1.09 ...\n",
      " $ eo1             : num [1:1024] 0.07 0.16 0.46 0.14 0.08 0.73 0.41 0.51 0.06 0.15 ...\n",
      " $ baso1           : num [1:1024] 0.11 0.52 1.06 0.18 0.1 0.4 0.14 0.17 0.23 0.19 ...\n",
      " $ neutro2         : num [1:1024] 40.8 45.3 35.6 30.2 32.3 ...\n",
      " $ lympho2         : num [1:1024] 39.6 35.6 32.5 44 52.1 ...\n",
      " $ mono2           : num [1:1024] 16.9 14.1 18.8 19.8 13.1 ...\n",
      " $ eo2             : num [1:1024] 1.05 1.15 3.95 2.6 1.15 8.15 4.15 3.05 0.55 1.2 ...\n",
      " $ baso2           : num [1:1024] 1.55 3.85 9.1 3.5 1.4 4.5 1.4 1 2.2 1.5 ...\n",
      " $ cd8             : num [1:1024] 7.05 5.73 10.7 5.15 8.08 12.1 15.5 5.19 14.4 11.5 ...\n",
      " $ cd8_perf        : num [1:1024] 0.67 1.31 1.41 2.08 0.78 1.24 0 0.34 0.86 0.68 ...\n",
      " $ nk              : num [1:1024] 4.52 6.52 13.3 3.16 14.4 13.8 8.3 5.22 8.28 12.3 ...\n",
      " $ nk_perf         : num [1:1024] 1.64 2.86 1.3 1.43 2.17 0.94 0.82 1.39 1.66 2.83 ...\n",
      " $ cd4             : num [1:1024] 17.9 11.2 0.1 0.09 8.47 22.5 14.9 8.19 24.9 11.5 ...\n",
      " $ cd4_perf        : num [1:1024] 0.02 0.25 4.17 11.8 0.19 0.12 0 0.06 0.49 0.12 ...\n",
      " $ gamma_delta     : num [1:1024] 41.6 48.9 23.5 55.9 36.9 18.9 3.17 63.5 0.11 37 ...\n",
      " $ gamma_delta_perf: num [1:1024] 0.06 0.33 0.12 0.23 0.07 0.19 0 0.12 0 0.09 ...\n",
      " $ cd14_large      : num [1:1024] 35.2 34.2 44.7 24.1 19.1 61.1 3.93 43.7 28.3 25.1 ...\n",
      " $ cd21_large      : num [1:1024] 8.04 12.5 12.8 6.85 16.3 4.3 29.1 3.4 11.5 6.92 ...\n"
     ]
    }
   ],
   "source": [
    "str(veal)"
   ]
  },
  {
   "cell_type": "markdown",
   "id": "65ee9cce",
   "metadata": {},
   "source": [
    "```\n",
    "The first thing we will do check that we understand how the data are organised. If we had performed the experiment ourselves, we would know what to expect and should compare the data to that knowledge (to make sure nothing has gone wrong between the experiment and now); when the data are not ours it helps us understand what we are analysing.\n",
    "```"
   ]
  },
  {
   "cell_type": "markdown",
   "id": "c4a61766",
   "metadata": {},
   "source": [
    "### First, how many observations (i.e., rows of data) are there for each timepoint?"
   ]
  },
  {
   "cell_type": "code",
   "execution_count": 38,
   "id": "3a995f44",
   "metadata": {},
   "outputs": [
    {
     "data": {
      "text/html": [
       "<table>\n",
       "<thead><tr><th scope=col>timepoint</th><th scope=col>count</th></tr></thead>\n",
       "<tbody>\n",
       "\t<tr><td>CC    </td><td>128   </td></tr>\n",
       "\t<tr><td>T0    </td><td>128   </td></tr>\n",
       "\t<tr><td>T24   </td><td>128   </td></tr>\n",
       "\t<tr><td>T4    </td><td>128   </td></tr>\n",
       "\t<tr><td>T48   </td><td>128   </td></tr>\n",
       "\t<tr><td>Week 1</td><td>128   </td></tr>\n",
       "\t<tr><td>Week 3</td><td>128   </td></tr>\n",
       "\t<tr><td>Week 5</td><td>128   </td></tr>\n",
       "</tbody>\n",
       "</table>\n"
      ],
      "text/latex": [
       "\\begin{tabular}{r|ll}\n",
       " timepoint & count\\\\\n",
       "\\hline\n",
       "\t CC     & 128   \\\\\n",
       "\t T0     & 128   \\\\\n",
       "\t T24    & 128   \\\\\n",
       "\t T4     & 128   \\\\\n",
       "\t T48    & 128   \\\\\n",
       "\t Week 1 & 128   \\\\\n",
       "\t Week 3 & 128   \\\\\n",
       "\t Week 5 & 128   \\\\\n",
       "\\end{tabular}\n"
      ],
      "text/markdown": [
       "\n",
       "| timepoint | count |\n",
       "|---|---|\n",
       "| CC     | 128    |\n",
       "| T0     | 128    |\n",
       "| T24    | 128    |\n",
       "| T4     | 128    |\n",
       "| T48    | 128    |\n",
       "| Week 1 | 128    |\n",
       "| Week 3 | 128    |\n",
       "| Week 5 | 128    |\n",
       "\n"
      ],
      "text/plain": [
       "  timepoint count\n",
       "1 CC        128  \n",
       "2 T0        128  \n",
       "3 T24       128  \n",
       "4 T4        128  \n",
       "5 T48       128  \n",
       "6 Week 1    128  \n",
       "7 Week 3    128  \n",
       "8 Week 5    128  "
      ]
     },
     "metadata": {},
     "output_type": "display_data"
    }
   ],
   "source": [
    "veal %>%\n",
    "  group_by(timepoint) %>%\n",
    "  summarise(count = n())"
   ]
  },
  {
   "cell_type": "markdown",
   "id": "e22bc788",
   "metadata": {},
   "source": [
    "```\n",
    "What does this imply? That there were 128 veal, all of which were sampled at each time point.\n",
    "```"
   ]
  },
  {
   "cell_type": "markdown",
   "id": "8efd5a84",
   "metadata": {},
   "source": [
    "### How many different animals are there for each combination of diet and duration at timepoint 'CC'?"
   ]
  },
  {
   "cell_type": "code",
   "execution_count": 39,
   "id": "bd20ef29",
   "metadata": {},
   "outputs": [
    {
     "name": "stderr",
     "output_type": "stream",
     "text": [
      "`summarise()` has grouped output by 'diet'. You can override using the `.groups` argument.\n"
     ]
    },
    {
     "data": {
      "text/html": [
       "<table>\n",
       "<thead><tr><th scope=col>diet</th><th scope=col>duration</th><th scope=col>count</th></tr></thead>\n",
       "<tbody>\n",
       "\t<tr><td>E </td><td> 6</td><td>32</td></tr>\n",
       "\t<tr><td>E </td><td>18</td><td>32</td></tr>\n",
       "\t<tr><td>M </td><td> 6</td><td>32</td></tr>\n",
       "\t<tr><td>M </td><td>18</td><td>32</td></tr>\n",
       "</tbody>\n",
       "</table>\n"
      ],
      "text/latex": [
       "\\begin{tabular}{r|lll}\n",
       " diet & duration & count\\\\\n",
       "\\hline\n",
       "\t E  &  6 & 32\\\\\n",
       "\t E  & 18 & 32\\\\\n",
       "\t M  &  6 & 32\\\\\n",
       "\t M  & 18 & 32\\\\\n",
       "\\end{tabular}\n"
      ],
      "text/markdown": [
       "\n",
       "| diet | duration | count |\n",
       "|---|---|---|\n",
       "| E  |  6 | 32 |\n",
       "| E  | 18 | 32 |\n",
       "| M  |  6 | 32 |\n",
       "| M  | 18 | 32 |\n",
       "\n"
      ],
      "text/plain": [
       "  diet duration count\n",
       "1 E     6       32   \n",
       "2 E    18       32   \n",
       "3 M     6       32   \n",
       "4 M    18       32   "
      ]
     },
     "metadata": {},
     "output_type": "display_data"
    }
   ],
   "source": [
    "veal %>%\n",
    "  filter(timepoint =='CC')%>%\n",
    "  group_by(diet, duration) %>%\n",
    "  summarise(count = n())"
   ]
  },
  {
   "cell_type": "markdown",
   "id": "2bc17c91",
   "metadata": {},
   "source": [
    "### Look at the timepoint, diet, duration, and eartag of animal 1 (at all timepoints):"
   ]
  },
  {
   "cell_type": "code",
   "execution_count": 40,
   "id": "27c1b30e",
   "metadata": {},
   "outputs": [
    {
     "data": {
      "text/html": [
       "<table>\n",
       "<thead><tr><th scope=col>timepoint</th><th scope=col>diet</th><th scope=col>duration</th><th scope=col>eartag</th></tr></thead>\n",
       "<tbody>\n",
       "\t<tr><td>CC    </td><td>E     </td><td> 6    </td><td>48454 </td></tr>\n",
       "\t<tr><td>T0    </td><td>E     </td><td> 6    </td><td>48454 </td></tr>\n",
       "\t<tr><td>T24   </td><td>M     </td><td> 6    </td><td>73981 </td></tr>\n",
       "\t<tr><td>T4    </td><td>M     </td><td> 6    </td><td>73981 </td></tr>\n",
       "\t<tr><td>T48   </td><td>M     </td><td> 6    </td><td>73981 </td></tr>\n",
       "\t<tr><td>Week 1</td><td>E     </td><td>18    </td><td>22185 </td></tr>\n",
       "\t<tr><td>Week 3</td><td>E     </td><td>18    </td><td>22185 </td></tr>\n",
       "\t<tr><td>Week 5</td><td>E     </td><td>18    </td><td>53452 </td></tr>\n",
       "</tbody>\n",
       "</table>\n"
      ],
      "text/latex": [
       "\\begin{tabular}{r|llll}\n",
       " timepoint & diet & duration & eartag\\\\\n",
       "\\hline\n",
       "\t CC     & E      &  6     & 48454 \\\\\n",
       "\t T0     & E      &  6     & 48454 \\\\\n",
       "\t T24    & M      &  6     & 73981 \\\\\n",
       "\t T4     & M      &  6     & 73981 \\\\\n",
       "\t T48    & M      &  6     & 73981 \\\\\n",
       "\t Week 1 & E      & 18     & 22185 \\\\\n",
       "\t Week 3 & E      & 18     & 22185 \\\\\n",
       "\t Week 5 & E      & 18     & 53452 \\\\\n",
       "\\end{tabular}\n"
      ],
      "text/markdown": [
       "\n",
       "| timepoint | diet | duration | eartag |\n",
       "|---|---|---|---|\n",
       "| CC     | E      |  6     | 48454  |\n",
       "| T0     | E      |  6     | 48454  |\n",
       "| T24    | M      |  6     | 73981  |\n",
       "| T4     | M      |  6     | 73981  |\n",
       "| T48    | M      |  6     | 73981  |\n",
       "| Week 1 | E      | 18     | 22185  |\n",
       "| Week 3 | E      | 18     | 22185  |\n",
       "| Week 5 | E      | 18     | 53452  |\n",
       "\n"
      ],
      "text/plain": [
       "  timepoint diet duration eartag\n",
       "1 CC        E     6       48454 \n",
       "2 T0        E     6       48454 \n",
       "3 T24       M     6       73981 \n",
       "4 T4        M     6       73981 \n",
       "5 T48       M     6       73981 \n",
       "6 Week 1    E    18       22185 \n",
       "7 Week 3    E    18       22185 \n",
       "8 Week 5    E    18       53452 "
      ]
     },
     "metadata": {},
     "output_type": "display_data"
    }
   ],
   "source": [
    "veal %>%\n",
    "  filter(animal == 1) %>%\n",
    "  select(timepoint, diet, duration, eartag)"
   ]
  },
  {
   "cell_type": "markdown",
   "id": "b1de40f5",
   "metadata": {},
   "source": [
    "```\n",
    "This should worry you -- these aren't the same animal! Instead we should use the eartag column. \n",
    "```"
   ]
  },
  {
   "cell_type": "markdown",
   "id": "290f2bb9",
   "metadata": {},
   "source": [
    "### Look at the timepoint, diet, duration, and animal id of eartag 48454 (at all timepoints):"
   ]
  },
  {
   "cell_type": "code",
   "execution_count": 41,
   "id": "415ad032",
   "metadata": {},
   "outputs": [
    {
     "data": {
      "text/html": [
       "<table>\n",
       "<thead><tr><th scope=col>timepoint</th><th scope=col>diet</th><th scope=col>duration</th><th scope=col>animal</th></tr></thead>\n",
       "<tbody>\n",
       "\t<tr><td>CC    </td><td>E     </td><td>6     </td><td>1     </td></tr>\n",
       "\t<tr><td>T0    </td><td>E     </td><td>6     </td><td>1     </td></tr>\n",
       "\t<tr><td>T24   </td><td>E     </td><td>6     </td><td>3     </td></tr>\n",
       "\t<tr><td>T4    </td><td>E     </td><td>6     </td><td>3     </td></tr>\n",
       "\t<tr><td>T48   </td><td>E     </td><td>6     </td><td>3     </td></tr>\n",
       "\t<tr><td>Week 1</td><td>E     </td><td>6     </td><td>7     </td></tr>\n",
       "\t<tr><td>Week 3</td><td>E     </td><td>6     </td><td>7     </td></tr>\n",
       "\t<tr><td>Week 5</td><td>E     </td><td>6     </td><td>7     </td></tr>\n",
       "</tbody>\n",
       "</table>\n"
      ],
      "text/latex": [
       "\\begin{tabular}{r|llll}\n",
       " timepoint & diet & duration & animal\\\\\n",
       "\\hline\n",
       "\t CC     & E      & 6      & 1     \\\\\n",
       "\t T0     & E      & 6      & 1     \\\\\n",
       "\t T24    & E      & 6      & 3     \\\\\n",
       "\t T4     & E      & 6      & 3     \\\\\n",
       "\t T48    & E      & 6      & 3     \\\\\n",
       "\t Week 1 & E      & 6      & 7     \\\\\n",
       "\t Week 3 & E      & 6      & 7     \\\\\n",
       "\t Week 5 & E      & 6      & 7     \\\\\n",
       "\\end{tabular}\n"
      ],
      "text/markdown": [
       "\n",
       "| timepoint | diet | duration | animal |\n",
       "|---|---|---|---|\n",
       "| CC     | E      | 6      | 1      |\n",
       "| T0     | E      | 6      | 1      |\n",
       "| T24    | E      | 6      | 3      |\n",
       "| T4     | E      | 6      | 3      |\n",
       "| T48    | E      | 6      | 3      |\n",
       "| Week 1 | E      | 6      | 7      |\n",
       "| Week 3 | E      | 6      | 7      |\n",
       "| Week 5 | E      | 6      | 7      |\n",
       "\n"
      ],
      "text/plain": [
       "  timepoint diet duration animal\n",
       "1 CC        E    6        1     \n",
       "2 T0        E    6        1     \n",
       "3 T24       E    6        3     \n",
       "4 T4        E    6        3     \n",
       "5 T48       E    6        3     \n",
       "6 Week 1    E    6        7     \n",
       "7 Week 3    E    6        7     \n",
       "8 Week 5    E    6        7     "
      ]
     },
     "metadata": {},
     "output_type": "display_data"
    }
   ],
   "source": [
    "veal %>%\n",
    "  filter(eartag == 48454) %>%\n",
    "  select(timepoint, diet, duration, animal)"
   ]
  },
  {
   "cell_type": "markdown",
   "id": "da37ef25",
   "metadata": {},
   "source": [
    "```\n",
    "This looks a lot better. It is important to check what is going on in your data, and think critically about the output   you see -- does it make sense? This process should help you understand what you are doing, diagnose any errors, etc.\n",
    "```"
   ]
  },
  {
   "cell_type": "markdown",
   "id": "6d19e6ec",
   "metadata": {},
   "source": [
    "## 3. Initial plots & factors"
   ]
  },
  {
   "cell_type": "code",
   "execution_count": 42,
   "id": "08750a34",
   "metadata": {},
   "outputs": [
    {
     "name": "stdout",
     "output_type": "stream",
     "text": [
      "spec_tbl_df [1,024 x 37] (S3: spec_tbl_df/tbl_df/tbl/data.frame)\n",
      " $ timepoint       : chr [1:1024] \"CC\" \"CC\" \"CC\" \"CC\" ...\n",
      " $ batch           : num [1:1024] 1 1 1 1 1 1 1 1 1 1 ...\n",
      " $ animal          : num [1:1024] 1 2 3 4 5 6 7 8 9 10 ...\n",
      " $ eartag          : num [1:1024] 48454 4796 85085 884 59787 ...\n",
      " $ uplo            : chr [1:1024] \"up\" \"up\" \"low\" \"low\" ...\n",
      " $ bafr            : chr [1:1024] \"back\" \"back\" \"back\" \"back\" ...\n",
      " $ pen             : num [1:1024] 4 4 6 6 7 7 2 2 10 10 ...\n",
      " $ corridor        : num [1:1024] 1 1 1 1 1 1 1 1 2 2 ...\n",
      " $ diet            : chr [1:1024] \"E\" \"E\" \"M\" \"M\" ...\n",
      " $ duration        : num [1:1024] 6 6 6 6 6 6 6 6 6 6 ...\n",
      " $ type            : chr [1:1024] \"U\" \"U\" \"C\" \"C\" ...\n",
      " $ bilirubin_1     : num [1:1024] 12.95 18.51 26.11 9.84 19.05 ...\n",
      " $ cortisol_1      : num [1:1024] 7.58 16.55 17.49 12.37 3.55 ...\n",
      " $ haptoglobin     : num [1:1024] 0.31 0.28 0.18 0.55 0.17 0.15 0.2 0.18 0.27 0.19 ...\n",
      " $ titer_ig_g      : num [1:1024] 4.7 3.9 4.4 4.9 5.3 5.7 5.4 5.2 3.5 3.9 ...\n",
      " $ titer_ig_m      : num [1:1024] 6.6 4 5.3 3.8 4.5 5.7 2 6.9 5 4.8 ...\n",
      " $ wbc             : num [1:1024] 6.79 13.31 11.68 5.29 6.87 ...\n",
      " $ neutro1         : num [1:1024] 2.77 6.02 4.17 1.6 2.22 4.94 3 8.65 3.81 6.93 ...\n",
      " $ lympho1         : num [1:1024] 2.69 4.75 3.8 2.33 3.58 1.79 4.65 5.55 4.87 3.77 ...\n",
      " $ mono1           : num [1:1024] 1.15 1.87 2.2 1.04 0.9 1.1 1.59 2.07 1.48 1.09 ...\n",
      " $ eo1             : num [1:1024] 0.07 0.16 0.46 0.14 0.08 0.73 0.41 0.51 0.06 0.15 ...\n",
      " $ baso1           : num [1:1024] 0.11 0.52 1.06 0.18 0.1 0.4 0.14 0.17 0.23 0.19 ...\n",
      " $ neutro2         : num [1:1024] 40.8 45.3 35.6 30.2 32.3 ...\n",
      " $ lympho2         : num [1:1024] 39.6 35.6 32.5 44 52.1 ...\n",
      " $ mono2           : num [1:1024] 16.9 14.1 18.8 19.8 13.1 ...\n",
      " $ eo2             : num [1:1024] 1.05 1.15 3.95 2.6 1.15 8.15 4.15 3.05 0.55 1.2 ...\n",
      " $ baso2           : num [1:1024] 1.55 3.85 9.1 3.5 1.4 4.5 1.4 1 2.2 1.5 ...\n",
      " $ cd8             : num [1:1024] 7.05 5.73 10.7 5.15 8.08 12.1 15.5 5.19 14.4 11.5 ...\n",
      " $ cd8_perf        : num [1:1024] 0.67 1.31 1.41 2.08 0.78 1.24 0 0.34 0.86 0.68 ...\n",
      " $ nk              : num [1:1024] 4.52 6.52 13.3 3.16 14.4 13.8 8.3 5.22 8.28 12.3 ...\n",
      " $ nk_perf         : num [1:1024] 1.64 2.86 1.3 1.43 2.17 0.94 0.82 1.39 1.66 2.83 ...\n",
      " $ cd4             : num [1:1024] 17.9 11.2 0.1 0.09 8.47 22.5 14.9 8.19 24.9 11.5 ...\n",
      " $ cd4_perf        : num [1:1024] 0.02 0.25 4.17 11.8 0.19 0.12 0 0.06 0.49 0.12 ...\n",
      " $ gamma_delta     : num [1:1024] 41.6 48.9 23.5 55.9 36.9 18.9 3.17 63.5 0.11 37 ...\n",
      " $ gamma_delta_perf: num [1:1024] 0.06 0.33 0.12 0.23 0.07 0.19 0 0.12 0 0.09 ...\n",
      " $ cd14_large      : num [1:1024] 35.2 34.2 44.7 24.1 19.1 61.1 3.93 43.7 28.3 25.1 ...\n",
      " $ cd21_large      : num [1:1024] 8.04 12.5 12.8 6.85 16.3 4.3 29.1 3.4 11.5 6.92 ...\n"
     ]
    }
   ],
   "source": [
    "# (reminder what our data now looks like)\n",
    "str(veal)"
   ]
  },
  {
   "cell_type": "markdown",
   "id": "6d5da721",
   "metadata": {},
   "source": [
    "### Cortisol is a hormone commonly used to measure stress.  \n",
    "Create a line graph with timepoint on the x axis, cortisol on the y axis, group=eartag (so that you get one line per animal) and a facet_grid with diet by duration."
   ]
  },
  {
   "cell_type": "code",
   "execution_count": 43,
   "id": "099834a1",
   "metadata": {},
   "outputs": [
    {
     "name": "stderr",
     "output_type": "stream",
     "text": [
      "Warning message:\n",
      "\"Removed 63 row(s) containing missing values (geom_path).\""
     ]
    },
    {
     "data": {
      "image/png": "[encoded data removed]",
      "text/plain": [
       "plot without title"
      ]
     },
     "metadata": {},
     "output_type": "display_data"
    }
   ],
   "source": [
    "options(repr.plot.width = 4, repr.plot.height = 3.5)\n",
    "\n",
    "ggplot(veal, aes(x=timepoint, y = cortisol_1, group=eartag))+\n",
    "  geom_line() + \n",
    "  facet_grid(diet~duration)"
   ]
  },
  {
   "cell_type": "markdown",
   "id": "7e8ce1da",
   "metadata": {},
   "source": [
    "### What do you notice is wrong with the above plot?\n",
    "\n",
    "The x axis is in the wrong order! you can fix this using factor() and specifying the levels.\n",
    "\n",
    "Fix the factor levels and remake the plot (just paste the plot code again)."
   ]
  },
  {
   "cell_type": "code",
   "execution_count": 44,
   "id": "46629262",
   "metadata": {},
   "outputs": [
    {
     "name": "stderr",
     "output_type": "stream",
     "text": [
      "Warning message:\n",
      "\"Removed 63 row(s) containing missing values (geom_path).\""
     ]
    },
    {
     "data": {
      "image/png": "[encoded data removed]",
      "text/plain": [
       "plot without title"
      ]
     },
     "metadata": {},
     "output_type": "display_data"
    }
   ],
   "source": [
    "veal$timepoint <- factor(veal$timepoint, levels = c('CC',\n",
    "                                                    'T0',\n",
    "                                                    'T4',\n",
    "                                                    'T8',\n",
    "                                                    'T24',\n",
    "                                                    'T48',\n",
    "                                                    'Week 1',\n",
    "                                                    'Week 3',\n",
    "                                                    'Week 5'))\n",
    "\n",
    "ggplot(veal, aes(x=timepoint, y = cortisol_1, group=eartag))+\n",
    "  geom_line() + \n",
    "  facet_grid(diet~duration)"
   ]
  },
  {
   "cell_type": "markdown",
   "id": "fcced5ca",
   "metadata": {},
   "source": [
    "### We see that there are some missing values in these data where the lines stop unexpectedly. \n",
    "Check where they are by counting the number of NAs values for cortisol that appear at each timepoint. To do this, you probably want to use is.na() in a filter()."
   ]
  },
  {
   "cell_type": "code",
   "execution_count": 45,
   "id": "ae82ab98",
   "metadata": {},
   "outputs": [
    {
     "data": {
      "text/html": [
       "<table>\n",
       "<thead><tr><th scope=col>timepoint</th><th scope=col>count</th></tr></thead>\n",
       "<tbody>\n",
       "\t<tr><td>CC    </td><td> 2    </td></tr>\n",
       "\t<tr><td>T4    </td><td> 7    </td></tr>\n",
       "\t<tr><td>T24   </td><td>17    </td></tr>\n",
       "\t<tr><td>T48   </td><td>23    </td></tr>\n",
       "\t<tr><td>Week 1</td><td>21    </td></tr>\n",
       "\t<tr><td>Week 3</td><td>43    </td></tr>\n",
       "\t<tr><td>Week 5</td><td>39    </td></tr>\n",
       "</tbody>\n",
       "</table>\n"
      ],
      "text/latex": [
       "\\begin{tabular}{r|ll}\n",
       " timepoint & count\\\\\n",
       "\\hline\n",
       "\t CC     &  2    \\\\\n",
       "\t T4     &  7    \\\\\n",
       "\t T24    & 17    \\\\\n",
       "\t T48    & 23    \\\\\n",
       "\t Week 1 & 21    \\\\\n",
       "\t Week 3 & 43    \\\\\n",
       "\t Week 5 & 39    \\\\\n",
       "\\end{tabular}\n"
      ],
      "text/markdown": [
       "\n",
       "| timepoint | count |\n",
       "|---|---|\n",
       "| CC     |  2     |\n",
       "| T4     |  7     |\n",
       "| T24    | 17     |\n",
       "| T48    | 23     |\n",
       "| Week 1 | 21     |\n",
       "| Week 3 | 43     |\n",
       "| Week 5 | 39     |\n",
       "\n"
      ],
      "text/plain": [
       "  timepoint count\n",
       "1 CC         2   \n",
       "2 T4         7   \n",
       "3 T24       17   \n",
       "4 T48       23   \n",
       "5 Week 1    21   \n",
       "6 Week 3    43   \n",
       "7 Week 5    39   "
      ]
     },
     "metadata": {},
     "output_type": "display_data"
    }
   ],
   "source": [
    "veal %>%\n",
    "  filter(is.na(cortisol_1)) %>%\n",
    "  group_by(timepoint) %>%\n",
    "  summarise(count = n())"
   ]
  },
  {
   "cell_type": "markdown",
   "id": "d95ce4b3",
   "metadata": {},
   "source": [
    "```\n",
    "Most of the interesting changes in these data appear to occur in the first 48 hours.\n",
    "Filter the 'Week x' timepoints out of the data before piping (%>%) to ggplot (You can use %in% to filter for multiple   timepoints). Plot bilirubin on the y axis (still as a line plot, with the same facets as above).\n",
    "```"
   ]
  },
  {
   "cell_type": "code",
   "execution_count": 46,
   "id": "6eebaba9",
   "metadata": {},
   "outputs": [
    {
     "data": {
      "image/png": "[encoded data removed]",
      "text/plain": [
       "plot without title"
      ]
     },
     "metadata": {},
     "output_type": "display_data"
    }
   ],
   "source": [
    "veal %>% filter(!timepoint %in% c('Week 1', 'Week 3','Week 5')) %>%\n",
    "ggplot(aes(x=timepoint, y = bilirubin_1, group=eartag))+\n",
    "  geom_line() + \n",
    "  facet_grid(diet~duration)"
   ]
  },
  {
   "cell_type": "markdown",
   "id": "4de4c18b",
   "metadata": {},
   "source": [
    "```\n",
    "The lines contain a lot of important information but are hard to read.\n",
    "Instead of the lines, change to a boxplot. This time fill by diet, and facet by duration.\n",
    "```"
   ]
  },
  {
   "cell_type": "code",
   "execution_count": 47,
   "id": "a2c8f793",
   "metadata": {},
   "outputs": [
    {
     "name": "stderr",
     "output_type": "stream",
     "text": [
      "Warning message:\n",
      "\"Removed 3 rows containing non-finite values (stat_boxplot).\""
     ]
    },
    {
     "data": {
      "image/png": "[encoded data removed]",
      "text/plain": [
       "plot without title"
      ]
     },
     "metadata": {},
     "output_type": "display_data"
    }
   ],
   "source": [
    "options(repr.plot.width = 8, repr.plot.height = 3.5)\n",
    "\n",
    "ggplot(veal, aes(x=timepoint, \n",
    "                 y=bilirubin_1,\n",
    "                 fill=diet))+\n",
    "  geom_boxplot()+\n",
    "  facet_grid(~duration)"
   ]
  },
  {
   "cell_type": "markdown",
   "id": "fe25ed7e",
   "metadata": {},
   "source": [
    "```\n",
    "Visually there are hints that there might be something going on here, but a statistical model is needed to say anything conclusive.\n",
    "```"
   ]
  },
  {
   "cell_type": "markdown",
   "id": "26446e43",
   "metadata": {},
   "source": [
    "## 4. FACS data"
   ]
  },
  {
   "cell_type": "code",
   "execution_count": 48,
   "id": "6e6bbc7d",
   "metadata": {},
   "outputs": [
    {
     "name": "stdout",
     "output_type": "stream",
     "text": [
      "spec_tbl_df [1,024 x 37] (S3: spec_tbl_df/tbl_df/tbl/data.frame)\n",
      " $ timepoint       : Factor w/ 9 levels \"CC\",\"T0\",\"T4\",..: 1 1 1 1 1 1 1 1 1 1 ...\n",
      " $ batch           : num [1:1024] 1 1 1 1 1 1 1 1 1 1 ...\n",
      " $ animal          : num [1:1024] 1 2 3 4 5 6 7 8 9 10 ...\n",
      " $ eartag          : num [1:1024] 48454 4796 85085 884 59787 ...\n",
      " $ uplo            : chr [1:1024] \"up\" \"up\" \"low\" \"low\" ...\n",
      " $ bafr            : chr [1:1024] \"back\" \"back\" \"back\" \"back\" ...\n",
      " $ pen             : num [1:1024] 4 4 6 6 7 7 2 2 10 10 ...\n",
      " $ corridor        : num [1:1024] 1 1 1 1 1 1 1 1 2 2 ...\n",
      " $ diet            : chr [1:1024] \"E\" \"E\" \"M\" \"M\" ...\n",
      " $ duration        : num [1:1024] 6 6 6 6 6 6 6 6 6 6 ...\n",
      " $ type            : chr [1:1024] \"U\" \"U\" \"C\" \"C\" ...\n",
      " $ bilirubin_1     : num [1:1024] 12.95 18.51 26.11 9.84 19.05 ...\n",
      " $ cortisol_1      : num [1:1024] 7.58 16.55 17.49 12.37 3.55 ...\n",
      " $ haptoglobin     : num [1:1024] 0.31 0.28 0.18 0.55 0.17 0.15 0.2 0.18 0.27 0.19 ...\n",
      " $ titer_ig_g      : num [1:1024] 4.7 3.9 4.4 4.9 5.3 5.7 5.4 5.2 3.5 3.9 ...\n",
      " $ titer_ig_m      : num [1:1024] 6.6 4 5.3 3.8 4.5 5.7 2 6.9 5 4.8 ...\n",
      " $ wbc             : num [1:1024] 6.79 13.31 11.68 5.29 6.87 ...\n",
      " $ neutro1         : num [1:1024] 2.77 6.02 4.17 1.6 2.22 4.94 3 8.65 3.81 6.93 ...\n",
      " $ lympho1         : num [1:1024] 2.69 4.75 3.8 2.33 3.58 1.79 4.65 5.55 4.87 3.77 ...\n",
      " $ mono1           : num [1:1024] 1.15 1.87 2.2 1.04 0.9 1.1 1.59 2.07 1.48 1.09 ...\n",
      " $ eo1             : num [1:1024] 0.07 0.16 0.46 0.14 0.08 0.73 0.41 0.51 0.06 0.15 ...\n",
      " $ baso1           : num [1:1024] 0.11 0.52 1.06 0.18 0.1 0.4 0.14 0.17 0.23 0.19 ...\n",
      " $ neutro2         : num [1:1024] 40.8 45.3 35.6 30.2 32.3 ...\n",
      " $ lympho2         : num [1:1024] 39.6 35.6 32.5 44 52.1 ...\n",
      " $ mono2           : num [1:1024] 16.9 14.1 18.8 19.8 13.1 ...\n",
      " $ eo2             : num [1:1024] 1.05 1.15 3.95 2.6 1.15 8.15 4.15 3.05 0.55 1.2 ...\n",
      " $ baso2           : num [1:1024] 1.55 3.85 9.1 3.5 1.4 4.5 1.4 1 2.2 1.5 ...\n",
      " $ cd8             : num [1:1024] 7.05 5.73 10.7 5.15 8.08 12.1 15.5 5.19 14.4 11.5 ...\n",
      " $ cd8_perf        : num [1:1024] 0.67 1.31 1.41 2.08 0.78 1.24 0 0.34 0.86 0.68 ...\n",
      " $ nk              : num [1:1024] 4.52 6.52 13.3 3.16 14.4 13.8 8.3 5.22 8.28 12.3 ...\n",
      " $ nk_perf         : num [1:1024] 1.64 2.86 1.3 1.43 2.17 0.94 0.82 1.39 1.66 2.83 ...\n",
      " $ cd4             : num [1:1024] 17.9 11.2 0.1 0.09 8.47 22.5 14.9 8.19 24.9 11.5 ...\n",
      " $ cd4_perf        : num [1:1024] 0.02 0.25 4.17 11.8 0.19 0.12 0 0.06 0.49 0.12 ...\n",
      " $ gamma_delta     : num [1:1024] 41.6 48.9 23.5 55.9 36.9 18.9 3.17 63.5 0.11 37 ...\n",
      " $ gamma_delta_perf: num [1:1024] 0.06 0.33 0.12 0.23 0.07 0.19 0 0.12 0 0.09 ...\n",
      " $ cd14_large      : num [1:1024] 35.2 34.2 44.7 24.1 19.1 61.1 3.93 43.7 28.3 25.1 ...\n",
      " $ cd21_large      : num [1:1024] 8.04 12.5 12.8 6.85 16.3 4.3 29.1 3.4 11.5 6.92 ...\n"
     ]
    }
   ],
   "source": [
    "# (reminder what our data now looks like)\n",
    "str(veal)"
   ]
  },
  {
   "cell_type": "markdown",
   "id": "39d97bd9",
   "metadata": {},
   "source": [
    "### The FACS was only done at timepoints CC and T0, so we just want to work with those times."
   ]
  },
  {
   "cell_type": "code",
   "execution_count": 49,
   "id": "524d57d5",
   "metadata": {},
   "outputs": [],
   "source": [
    "# Filter the dataset to get just those timepoints, store this with the name veal_start.\n",
    "veal_start <- veal %>% \n",
    "                filter(timepoint == 'CC' | timepoint == 'T0')"
   ]
  },
  {
   "cell_type": "code",
   "execution_count": 50,
   "id": "497d6231",
   "metadata": {},
   "outputs": [
    {
     "name": "stderr",
     "output_type": "stream",
     "text": [
      "Warning message:\n",
      "\"Removed 1 rows containing non-finite values (stat_boxplot).\""
     ]
    },
    {
     "data": {
      "image/png": "[encoded data removed]",
      "text/plain": [
       "plot without title"
      ]
     },
     "metadata": {},
     "output_type": "display_data"
    }
   ],
   "source": [
    "# Plot a boxplot with these data, with x as timepoint, y as cd8, fill by diet and facet by duration.\n",
    "ggplot(veal_start, aes(x=timepoint, \n",
    "                       y=cd8,\n",
    "                       fill=diet))+\n",
    "  geom_boxplot()+\n",
    "  facet_grid(~duration)"
   ]
  },
  {
   "cell_type": "markdown",
   "id": "06912afa",
   "metadata": {},
   "source": [
    "### Now try a line plot, remember you need group=eartag. It may help to facet by both diet and duration."
   ]
  },
  {
   "cell_type": "code",
   "execution_count": 51,
   "id": "1449dbe2",
   "metadata": {},
   "outputs": [
    {
     "name": "stderr",
     "output_type": "stream",
     "text": [
      "Warning message:\n",
      "\"Removed 1 row(s) containing missing values (geom_path).\""
     ]
    },
    {
     "data": {
      "image/png": "[encoded data removed]",
      "text/plain": [
       "plot without title"
      ]
     },
     "metadata": {},
     "output_type": "display_data"
    }
   ],
   "source": [
    "ggplot(veal_start, aes(x=timepoint, \n",
    "                       y=cd8,\n",
    "                       col=diet,\n",
    "                       group=eartag))+\n",
    "  geom_line()+\n",
    "  facet_grid(diet~duration)"
   ]
  },
  {
   "cell_type": "markdown",
   "id": "19f41317",
   "metadata": {},
   "source": [
    "```\n",
    "It does look like there is something happening here, but it is difficult to diagnose like this. Something that might be more informative is the change in cd8 between time CC and time T0. \n",
    "We can do this, but it needs something a little complicated: a function called pivot_wider(). We will look at how to do this in more detail in the next workshop, for now you should work from / edit this example:\n",
    "```"
   ]
  },
  {
   "cell_type": "code",
   "execution_count": 52,
   "id": "48aa1859",
   "metadata": {},
   "outputs": [
    {
     "name": "stderr",
     "output_type": "stream",
     "text": [
      "Warning message:\n",
      "\"Removed 1 rows containing non-finite values (stat_boxplot).\"Warning message:\n",
      "\"Removed 1 rows containing missing values (geom_point).\""
     ]
    },
    {
     "data": {
      "image/png": "[encoded data removed]",
      "text/plain": [
       "plot without title"
      ]
     },
     "metadata": {},
     "output_type": "display_data"
    }
   ],
   "source": [
    "veal_start %>%\n",
    "  select(eartag, diet, duration, timepoint, cd8) %>%\n",
    "  pivot_wider(names_from = timepoint,\n",
    "              values_from = cd8) %>%\n",
    "  mutate(change_in_cd8 = T0 - CC) %>%\n",
    "  ggplot(aes(x=factor(duration),\n",
    "             y=change_in_cd8, \n",
    "             fill=diet))+\n",
    "  \n",
    "  geom_boxplot() + # geom_boxplot(outlier.size = 0)+\n",
    "  geom_point(position = position_jitterdodge(jitter.width = 0.2))+\n",
    "  geom_hline(yintercept = 0,\n",
    "             col='red',\n",
    "             lty='dashed')+\n",
    "  xlab('Duration') + \n",
    "  ylab('Change in cd8+ %')+\n",
    "  theme_bw(base_size = 18)"
   ]
  },
  {
   "cell_type": "markdown",
   "id": "6046f46f",
   "metadata": {},
   "source": [
    "```\n",
    "An alternative way to explore this data is to use a density plot. Copy/paste and edit the example above to visualise this using a density plot.\n",
    "```"
   ]
  },
  {
   "cell_type": "code",
   "execution_count": 53,
   "id": "0d8aa4db",
   "metadata": {},
   "outputs": [
    {
     "name": "stderr",
     "output_type": "stream",
     "text": [
      "Warning message:\n",
      "\"Removed 1 rows containing non-finite values (stat_density).\""
     ]
    },
    {
     "data": {
      "image/png": "[encoded data removed]",
      "text/plain": [
       "plot without title"
      ]
     },
     "metadata": {},
     "output_type": "display_data"
    }
   ],
   "source": [
    "veal_start %>%\n",
    "  select(eartag,diet,duration,timepoint,cd8) %>%\n",
    "  pivot_wider(names_from = timepoint,\n",
    "              values_from = cd8) %>%\n",
    "  mutate(change_in_cd8 = T0 - CC) %>%\n",
    "  ggplot(aes(x=change_in_cd8, fill=diet))+\n",
    "  geom_density(alpha=0.2)+\n",
    "  facet_wrap(~duration, ncol=1)+\n",
    "  geom_vline(xintercept = 0,col='red',lty='dashed')+\n",
    "  xlab('Duration')+ylab('Change in cd8+ %')+\n",
    "  theme_bw(base_size = 18)"
   ]
  },
  {
   "cell_type": "markdown",
   "id": "066c29ec",
   "metadata": {},
   "source": [
    "```\n",
    "Instead of a graphical summary, it might be easier to summarise this information numerically (either as a table, or data that would go in a results section).\n",
    "\n",
    "For each combination of diet and duration, show the proportion of veal that had an increase in cd8 between time CC and T0.\n",
    "Hints:\n",
    "You probably want to use something like ```is_increase = if_else(change_in_cd8 > 0,'Increase','Decrease')``` in a mutate statement, then group_by, summarise and then a few more statements to clean up to get what you want.\n",
    "```"
   ]
  },
  {
   "cell_type": "code",
   "execution_count": 54,
   "id": "d51a0cb0",
   "metadata": {},
   "outputs": [
    {
     "name": "stderr",
     "output_type": "stream",
     "text": [
      "`summarise()` has grouped output by 'diet', 'duration'. You can override using the `.groups` argument.\n"
     ]
    },
    {
     "data": {
      "text/html": [
       "<table>\n",
       "<thead><tr><th scope=col>diet</th><th scope=col>duration</th><th scope=col>proportion</th></tr></thead>\n",
       "<tbody>\n",
       "\t<tr><td>E      </td><td> 6     </td><td>0.34375</td></tr>\n",
       "\t<tr><td>M      </td><td> 6     </td><td>0.18750</td></tr>\n",
       "\t<tr><td>E      </td><td>18     </td><td>0.56250</td></tr>\n",
       "\t<tr><td>M      </td><td>18     </td><td>0.46875</td></tr>\n",
       "</tbody>\n",
       "</table>\n"
      ],
      "text/latex": [
       "\\begin{tabular}{r|lll}\n",
       " diet & duration & proportion\\\\\n",
       "\\hline\n",
       "\t E       &  6      & 0.34375\\\\\n",
       "\t M       &  6      & 0.18750\\\\\n",
       "\t E       & 18      & 0.56250\\\\\n",
       "\t M       & 18      & 0.46875\\\\\n",
       "\\end{tabular}\n"
      ],
      "text/markdown": [
       "\n",
       "| diet | duration | proportion |\n",
       "|---|---|---|\n",
       "| E       |  6      | 0.34375 |\n",
       "| M       |  6      | 0.18750 |\n",
       "| E       | 18      | 0.56250 |\n",
       "| M       | 18      | 0.46875 |\n",
       "\n"
      ],
      "text/plain": [
       "  diet duration proportion\n",
       "1 E     6       0.34375   \n",
       "2 M     6       0.18750   \n",
       "3 E    18       0.56250   \n",
       "4 M    18       0.46875   "
      ]
     },
     "metadata": {},
     "output_type": "display_data"
    }
   ],
   "source": [
    "veal_start %>%\n",
    "  select(eartag, diet, duration, timepoint, cd8) %>%\n",
    "  pivot_wider(names_from = timepoint,\n",
    "              values_from = cd8) %>%\n",
    "  mutate(change_in_cd8 = T0 - CC) %>%\n",
    "  mutate(is_increase = if_else(change_in_cd8 > 0,'Increase','Decrease')) %>%\n",
    "  group_by(diet, duration, is_increase) %>%\n",
    "  summarise(count = n()) %>%\n",
    "  mutate(proportion = count/sum(count)) %>%\n",
    "  filter(is_increase == 'Increase') %>%\n",
    "  arrange(duration) %>%\n",
    "  select(diet,duration, proportion)"
   ]
  },
  {
   "cell_type": "code",
   "execution_count": null,
   "id": "ba3a3eff",
   "metadata": {},
   "outputs": [],
   "source": []
  }
 ],
 "metadata": {
  "kernelspec": {
   "display_name": "R",
   "language": "R",
   "name": "ir"
  },
  "language_info": {
   "codemirror_mode": "r",
   "file_extension": ".r",
   "mimetype": "text/x-r-source",
   "name": "R",
   "pygments_lexer": "r",
   "version": "3.6.1"
  }
 },
 "nbformat": 4,
 "nbformat_minor": 5
}
