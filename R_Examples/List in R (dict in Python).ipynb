{
 "cells": [
  {
   "cell_type": "markdown",
   "id": "d19d93b0",
   "metadata": {},
   "source": [
    "## 1. Create a list"
   ]
  },
  {
   "cell_type": "code",
   "execution_count": 1,
   "id": "492a465b",
   "metadata": {},
   "outputs": [
    {
     "name": "stderr",
     "output_type": "stream",
     "text": [
      "\n",
      "Attaching package: 'dplyr'\n",
      "\n",
      "The following objects are masked from 'package:stats':\n",
      "\n",
      "    filter, lag\n",
      "\n",
      "The following objects are masked from 'package:base':\n",
      "\n",
      "    intersect, setdiff, setequal, union\n",
      "\n"
     ]
    }
   ],
   "source": [
    "library(dplyr)"
   ]
  },
  {
   "cell_type": "code",
   "execution_count": 2,
   "id": "b356a706",
   "metadata": {},
   "outputs": [
    {
     "data": {
      "text/html": [
       "<ol>\n",
       "\t<li>1</li>\n",
       "\t<li>'abc'</li>\n",
       "\t<li>TRUE</li>\n",
       "\t<li>3</li>\n",
       "</ol>\n"
      ],
      "text/latex": [
       "\\begin{enumerate}\n",
       "\\item 1\n",
       "\\item 'abc'\n",
       "\\item TRUE\n",
       "\\item 3\n",
       "\\end{enumerate}\n"
      ],
      "text/markdown": [
       "1. 1\n",
       "2. 'abc'\n",
       "3. TRUE\n",
       "4. 3\n",
       "\n",
       "\n"
      ],
      "text/plain": [
       "[[1]]\n",
       "[1] 1\n",
       "\n",
       "[[2]]\n",
       "[1] \"abc\"\n",
       "\n",
       "[[3]]\n",
       "[1] TRUE\n",
       "\n",
       "[[4]]\n",
       "[1] 3\n"
      ]
     },
     "metadata": {},
     "output_type": "display_data"
    }
   ],
   "source": [
    "list_1 = list(1, \"abc\", TRUE, 3)  # === list(c(1), c(\"abc\"), c(TRUE), c(3))\n",
    "                             # every element in a list is actually a vector\n",
    "list_1"
   ]
  },
  {
   "cell_type": "code",
   "execution_count": 3,
   "id": "fe9899bb",
   "metadata": {},
   "outputs": [
    {
     "data": {
      "text/html": [
       "<ol>\n",
       "\t<li>1</li>\n",
       "\t<li>'abc'</li>\n",
       "\t<li>TRUE</li>\n",
       "\t<li>3</li>\n",
       "</ol>\n"
      ],
      "text/latex": [
       "\\begin{enumerate}\n",
       "\\item 1\n",
       "\\item 'abc'\n",
       "\\item TRUE\n",
       "\\item 3\n",
       "\\end{enumerate}\n"
      ],
      "text/markdown": [
       "1. 1\n",
       "2. 'abc'\n",
       "3. TRUE\n",
       "4. 3\n",
       "\n",
       "\n"
      ],
      "text/plain": [
       "[[1]]\n",
       "[1] 1\n",
       "\n",
       "[[2]]\n",
       "[1] \"abc\"\n",
       "\n",
       "[[3]]\n",
       "[1] TRUE\n",
       "\n",
       "[[4]]\n",
       "[1] 3\n"
      ]
     },
     "metadata": {},
     "output_type": "display_data"
    }
   ],
   "source": [
    "#  every element in a list is actually a vector\n",
    "list_2 <- list(c(1), c(\"abc\"), c(TRUE), c(3))\n",
    "list_2"
   ]
  },
  {
   "cell_type": "code",
   "execution_count": 4,
   "id": "155fd6c2",
   "metadata": {},
   "outputs": [
    {
     "data": {
      "text/html": [
       "'character'"
      ],
      "text/latex": [
       "'character'"
      ],
      "text/markdown": [
       "'character'"
      ],
      "text/plain": [
       "[1] \"character\""
      ]
     },
     "metadata": {},
     "output_type": "display_data"
    }
   ],
   "source": [
    "class(list_2[[2]])"
   ]
  },
  {
   "cell_type": "markdown",
   "id": "02b8d0d3",
   "metadata": {},
   "source": [
    "## 2. Apply function to a list: lapply"
   ]
  },
  {
   "cell_type": "code",
   "execution_count": 5,
   "id": "f291c4af",
   "metadata": {},
   "outputs": [
    {
     "data": {
      "text/html": [
       "<ol>\n",
       "\t<li>'numeric'</li>\n",
       "\t<li>'character'</li>\n",
       "\t<li>'logical'</li>\n",
       "\t<li>'numeric'</li>\n",
       "</ol>\n"
      ],
      "text/latex": [
       "\\begin{enumerate}\n",
       "\\item 'numeric'\n",
       "\\item 'character'\n",
       "\\item 'logical'\n",
       "\\item 'numeric'\n",
       "\\end{enumerate}\n"
      ],
      "text/markdown": [
       "1. 'numeric'\n",
       "2. 'character'\n",
       "3. 'logical'\n",
       "4. 'numeric'\n",
       "\n",
       "\n"
      ],
      "text/plain": [
       "[[1]]\n",
       "[1] \"numeric\"\n",
       "\n",
       "[[2]]\n",
       "[1] \"character\"\n",
       "\n",
       "[[3]]\n",
       "[1] \"logical\"\n",
       "\n",
       "[[4]]\n",
       "[1] \"numeric\"\n"
      ]
     },
     "metadata": {},
     "output_type": "display_data"
    }
   ],
   "source": [
    "types_x <- lapply(list_1, class)  # apply a class function to every element in list x\n",
    "                                  # and return to a new list\n",
    "types_x"
   ]
  },
  {
   "cell_type": "markdown",
   "id": "ce0aeef5",
   "metadata": {},
   "source": [
    "## 3. as.list()"
   ]
  },
  {
   "cell_type": "code",
   "execution_count": 6,
   "id": "4ce350b1",
   "metadata": {},
   "outputs": [
    {
     "data": {
      "text/html": [
       "<ol>\n",
       "\t<li>1</li>\n",
       "\t<li>2</li>\n",
       "\t<li>3</li>\n",
       "</ol>\n"
      ],
      "text/latex": [
       "\\begin{enumerate}\n",
       "\\item 1\n",
       "\\item 2\n",
       "\\item 3\n",
       "\\end{enumerate}\n"
      ],
      "text/markdown": [
       "1. 1\n",
       "2. 2\n",
       "3. 3\n",
       "\n",
       "\n"
      ],
      "text/plain": [
       "[[1]]\n",
       "[1] 1\n",
       "\n",
       "[[2]]\n",
       "[1] 2\n",
       "\n",
       "[[3]]\n",
       "[1] 3\n"
      ]
     },
     "metadata": {},
     "output_type": "display_data"
    }
   ],
   "source": [
    "as.list(1:3)"
   ]
  },
  {
   "cell_type": "markdown",
   "id": "e78a5079",
   "metadata": {},
   "source": [
    "## 4. list with many types of datasets, access by name"
   ]
  },
  {
   "cell_type": "code",
   "execution_count": 7,
   "id": "4f482bb8",
   "metadata": {},
   "outputs": [
    {
     "data": {
      "text/html": [
       "<dl>\n",
       "\t<dt>$a</dt>\n",
       "\t\t<dd>'test1'</dd>\n",
       "\t<dt>$b</dt>\n",
       "\t\t<dd><ol class=list-inline>\n",
       "\t<li>1</li>\n",
       "\t<li>2</li>\n",
       "\t<li>3</li>\n",
       "</ol>\n",
       "</dd>\n",
       "\t<dt>$data</dt>\n",
       "\t\t<dd><table>\n",
       "<thead><tr><th scope=col>Sepal.Length</th><th scope=col>Sepal.Width</th><th scope=col>Petal.Length</th><th scope=col>Petal.Width</th><th scope=col>Species</th></tr></thead>\n",
       "<tbody>\n",
       "\t<tr><td>5.1   </td><td>3.5   </td><td>1.4   </td><td>0.2   </td><td>setosa</td></tr>\n",
       "\t<tr><td>4.9   </td><td>3.0   </td><td>1.4   </td><td>0.2   </td><td>setosa</td></tr>\n",
       "\t<tr><td>4.7   </td><td>3.2   </td><td>1.3   </td><td>0.2   </td><td>setosa</td></tr>\n",
       "\t<tr><td>4.6   </td><td>3.1   </td><td>1.5   </td><td>0.2   </td><td>setosa</td></tr>\n",
       "\t<tr><td>5.0   </td><td>3.6   </td><td>1.4   </td><td>0.2   </td><td>setosa</td></tr>\n",
       "\t<tr><td>5.4   </td><td>3.9   </td><td>1.7   </td><td>0.4   </td><td>setosa</td></tr>\n",
       "</tbody>\n",
       "</table>\n",
       "</dd>\n",
       "</dl>\n"
      ],
      "text/latex": [
       "\\begin{description}\n",
       "\\item[\\$a] 'test1'\n",
       "\\item[\\$b] \\begin{enumerate*}\n",
       "\\item 1\n",
       "\\item 2\n",
       "\\item 3\n",
       "\\end{enumerate*}\n",
       "\n",
       "\\item[\\$data] \\begin{tabular}{r|lllll}\n",
       " Sepal.Length & Sepal.Width & Petal.Length & Petal.Width & Species\\\\\n",
       "\\hline\n",
       "\t 5.1    & 3.5    & 1.4    & 0.2    & setosa\\\\\n",
       "\t 4.9    & 3.0    & 1.4    & 0.2    & setosa\\\\\n",
       "\t 4.7    & 3.2    & 1.3    & 0.2    & setosa\\\\\n",
       "\t 4.6    & 3.1    & 1.5    & 0.2    & setosa\\\\\n",
       "\t 5.0    & 3.6    & 1.4    & 0.2    & setosa\\\\\n",
       "\t 5.4    & 3.9    & 1.7    & 0.4    & setosa\\\\\n",
       "\\end{tabular}\n",
       "\n",
       "\\end{description}\n"
      ],
      "text/markdown": [
       "$a\n",
       ":   'test1'\n",
       "$b\n",
       ":   1. 1\n",
       "2. 2\n",
       "3. 3\n",
       "\n",
       "\n",
       "\n",
       "$data\n",
       ":   \n",
       "| Sepal.Length | Sepal.Width | Petal.Length | Petal.Width | Species |\n",
       "|---|---|---|---|---|\n",
       "| 5.1    | 3.5    | 1.4    | 0.2    | setosa |\n",
       "| 4.9    | 3.0    | 1.4    | 0.2    | setosa |\n",
       "| 4.7    | 3.2    | 1.3    | 0.2    | setosa |\n",
       "| 4.6    | 3.1    | 1.5    | 0.2    | setosa |\n",
       "| 5.0    | 3.6    | 1.4    | 0.2    | setosa |\n",
       "| 5.4    | 3.9    | 1.7    | 0.4    | setosa |\n",
       "\n",
       "\n",
       "\n",
       "\n"
      ],
      "text/plain": [
       "$a\n",
       "[1] \"test1\"\n",
       "\n",
       "$b\n",
       "[1] 1 2 3\n",
       "\n",
       "$data\n",
       "  Sepal.Length Sepal.Width Petal.Length Petal.Width Species\n",
       "1          5.1         3.5          1.4         0.2  setosa\n",
       "2          4.9         3.0          1.4         0.2  setosa\n",
       "3          4.7         3.2          1.3         0.2  setosa\n",
       "4          4.6         3.1          1.5         0.2  setosa\n",
       "5          5.0         3.6          1.4         0.2  setosa\n",
       "6          5.4         3.9          1.7         0.4  setosa\n"
      ]
     },
     "metadata": {},
     "output_type": "display_data"
    }
   ],
   "source": [
    "list_3 <- list(a=\"test1\", b=1:3, data=head(iris))  # a, b and data are names\n",
    "list_3"
   ]
  },
  {
   "cell_type": "code",
   "execution_count": 8,
   "id": "bdb778f0",
   "metadata": {},
   "outputs": [
    {
     "data": {
      "text/html": [
       "<ol class=list-inline>\n",
       "\t<li>1</li>\n",
       "\t<li>2</li>\n",
       "\t<li>3</li>\n",
       "</ol>\n"
      ],
      "text/latex": [
       "\\begin{enumerate*}\n",
       "\\item 1\n",
       "\\item 2\n",
       "\\item 3\n",
       "\\end{enumerate*}\n"
      ],
      "text/markdown": [
       "1. 1\n",
       "2. 2\n",
       "3. 3\n",
       "\n",
       "\n"
      ],
      "text/plain": [
       "[1] 1 2 3"
      ]
     },
     "metadata": {},
     "output_type": "display_data"
    }
   ],
   "source": [
    "# access to \"b\" name of list_3 by $ sign\n",
    "list_3$b"
   ]
  },
  {
   "cell_type": "code",
   "execution_count": 9,
   "id": "c7990f90",
   "metadata": {},
   "outputs": [
    {
     "data": {
      "text/html": [
       "<ol class=list-inline>\n",
       "\t<li>1</li>\n",
       "\t<li>2</li>\n",
       "\t<li>3</li>\n",
       "</ol>\n"
      ],
      "text/latex": [
       "\\begin{enumerate*}\n",
       "\\item 1\n",
       "\\item 2\n",
       "\\item 3\n",
       "\\end{enumerate*}\n"
      ],
      "text/markdown": [
       "1. 1\n",
       "2. 2\n",
       "3. 3\n",
       "\n",
       "\n"
      ],
      "text/plain": [
       "[1] 1 2 3"
      ]
     },
     "metadata": {},
     "output_type": "display_data"
    }
   ],
   "source": [
    "# access to \"b\" name of list_3 by [[]]\n",
    "list_3[[\"b\"]]"
   ]
  },
  {
   "cell_type": "code",
   "execution_count": 10,
   "id": "371d31ce",
   "metadata": {},
   "outputs": [
    {
     "data": {
      "text/html": [
       "<strong>$b</strong> = <ol class=list-inline>\n",
       "\t<li>1</li>\n",
       "\t<li>2</li>\n",
       "\t<li>3</li>\n",
       "</ol>\n"
      ],
      "text/latex": [
       "\\textbf{\\$b} = \\begin{enumerate*}\n",
       "\\item 1\n",
       "\\item 2\n",
       "\\item 3\n",
       "\\end{enumerate*}\n"
      ],
      "text/markdown": [
       "**$b** = 1. 1\n",
       "2. 2\n",
       "3. 3\n",
       "\n",
       "\n"
      ],
      "text/plain": [
       "$b\n",
       "[1] 1 2 3\n"
      ]
     },
     "metadata": {},
     "output_type": "display_data"
    }
   ],
   "source": [
    "# access to \"b\" name of list_3 by []\n",
    "list_3[\"b\"]"
   ]
  },
  {
   "cell_type": "markdown",
   "id": "eb48f630",
   "metadata": {},
   "source": [
    "## 5.  Create a list "
   ]
  },
  {
   "cell_type": "code",
   "execution_count": 11,
   "id": "0b6ab30d",
   "metadata": {},
   "outputs": [
    {
     "data": {
      "text/html": [
       "<table>\n",
       "<thead><tr><th scope=col>individual_id</th><th scope=col>external_id</th><th scope=col>gender</th></tr></thead>\n",
       "<tbody>\n",
       "\t<tr><td>80786 </td><td>CPI248</td><td>FEMALE</td></tr>\n",
       "\t<tr><td>80792 </td><td>CPI203</td><td>FEMALE</td></tr>\n",
       "\t<tr><td>98318 </td><td>CPI236</td><td>MALE  </td></tr>\n",
       "\t<tr><td>80793 </td><td>CPI204</td><td>FEMALE</td></tr>\n",
       "\t<tr><td>92884 </td><td>CPI236</td><td>Male  </td></tr>\n",
       "</tbody>\n",
       "</table>\n"
      ],
      "text/latex": [
       "\\begin{tabular}{r|lll}\n",
       " individual\\_id & external\\_id & gender\\\\\n",
       "\\hline\n",
       "\t 80786  & CPI248 & FEMALE\\\\\n",
       "\t 80792  & CPI203 & FEMALE\\\\\n",
       "\t 98318  & CPI236 & MALE  \\\\\n",
       "\t 80793  & CPI204 & FEMALE\\\\\n",
       "\t 92884  & CPI236 & Male  \\\\\n",
       "\\end{tabular}\n"
      ],
      "text/markdown": [
       "\n",
       "| individual_id | external_id | gender |\n",
       "|---|---|---|\n",
       "| 80786  | CPI248 | FEMALE |\n",
       "| 80792  | CPI203 | FEMALE |\n",
       "| 98318  | CPI236 | MALE   |\n",
       "| 80793  | CPI204 | FEMALE |\n",
       "| 92884  | CPI236 | Male   |\n",
       "\n"
      ],
      "text/plain": [
       "  individual_id external_id gender\n",
       "1 80786         CPI248      FEMALE\n",
       "2 80792         CPI203      FEMALE\n",
       "3 98318         CPI236      MALE  \n",
       "4 80793         CPI204      FEMALE\n",
       "5 92884         CPI236      Male  "
      ]
     },
     "metadata": {},
     "output_type": "display_data"
    }
   ],
   "source": [
    "df <- data.frame(\n",
    "    individual_id = c(80786, 80792, 98318, 80793, 92884),\n",
    "    external_id = c('CPI248', 'CPI203', 'CPI236', 'CPI204', 'CPI236'),\n",
    "    gender = c('FEMALE', 'FEMALE', 'MALE', 'FEMALE', 'Male')\n",
    ")\n",
    "df"
   ]
  },
  {
   "cell_type": "code",
   "execution_count": 12,
   "id": "4899540f",
   "metadata": {},
   "outputs": [
    {
     "data": {
      "text/html": [
       "<dl>\n",
       "\t<dt>$Male</dt>\n",
       "\t\t<dd><ol class=list-inline>\n",
       "\t<li>'CPI236'</li>\n",
       "\t<li>'CPI236'</li>\n",
       "</ol>\n",
       "</dd>\n",
       "\t<dt>$Female</dt>\n",
       "\t\t<dd><ol class=list-inline>\n",
       "\t<li>'CPI248'</li>\n",
       "\t<li>'CPI203'</li>\n",
       "\t<li>'CPI204'</li>\n",
       "</ol>\n",
       "</dd>\n",
       "</dl>\n"
      ],
      "text/latex": [
       "\\begin{description}\n",
       "\\item[\\$Male] \\begin{enumerate*}\n",
       "\\item 'CPI236'\n",
       "\\item 'CPI236'\n",
       "\\end{enumerate*}\n",
       "\n",
       "\\item[\\$Female] \\begin{enumerate*}\n",
       "\\item 'CPI248'\n",
       "\\item 'CPI203'\n",
       "\\item 'CPI204'\n",
       "\\end{enumerate*}\n",
       "\n",
       "\\end{description}\n"
      ],
      "text/markdown": [
       "$Male\n",
       ":   1. 'CPI236'\n",
       "2. 'CPI236'\n",
       "\n",
       "\n",
       "\n",
       "$Female\n",
       ":   1. 'CPI248'\n",
       "2. 'CPI203'\n",
       "3. 'CPI204'\n",
       "\n",
       "\n",
       "\n",
       "\n",
       "\n"
      ],
      "text/plain": [
       "$Male\n",
       "[1] \"CPI236\" \"CPI236\"\n",
       "\n",
       "$Female\n",
       "[1] \"CPI248\" \"CPI203\" \"CPI204\"\n"
      ]
     },
     "metadata": {},
     "output_type": "display_data"
    }
   ],
   "source": [
    "Male <- df %>% \n",
    "            filter(tolower(gender) == 'male') %>%\n",
    "            select(external_id)\n",
    "Female <- df %>% \n",
    "            filter(tolower(gender) == 'female') %>%\n",
    "            select(external_id)\n",
    "dic <- list(\n",
    "    Male = as.vector(Male$external_id),\n",
    "    Female = as.vector(Female$external_id)\n",
    ")\n",
    "dic"
   ]
  },
  {
   "cell_type": "code",
   "execution_count": 13,
   "id": "13d8b812",
   "metadata": {},
   "outputs": [
    {
     "data": {
      "text/html": [
       "<ol class=list-inline>\n",
       "\t<li>'CPI236'</li>\n",
       "\t<li>'CPI236'</li>\n",
       "</ol>\n"
      ],
      "text/latex": [
       "\\begin{enumerate*}\n",
       "\\item 'CPI236'\n",
       "\\item 'CPI236'\n",
       "\\end{enumerate*}\n"
      ],
      "text/markdown": [
       "1. 'CPI236'\n",
       "2. 'CPI236'\n",
       "\n",
       "\n"
      ],
      "text/plain": [
       "[1] \"CPI236\" \"CPI236\""
      ]
     },
     "metadata": {},
     "output_type": "display_data"
    }
   ],
   "source": [
    "dic$Male"
   ]
  },
  {
   "cell_type": "code",
   "execution_count": 14,
   "id": "c06f670d",
   "metadata": {},
   "outputs": [
    {
     "data": {
      "text/html": [
       "<ol class=list-inline>\n",
       "\t<li>0</li>\n",
       "\t<li>0</li>\n",
       "\t<li>0</li>\n",
       "\t<li>0</li>\n",
       "\t<li>0</li>\n",
       "\t<li>1</li>\n",
       "\t<li>1</li>\n",
       "\t<li>1</li>\n",
       "</ol>\n"
      ],
      "text/latex": [
       "\\begin{enumerate*}\n",
       "\\item 0\n",
       "\\item 0\n",
       "\\item 0\n",
       "\\item 0\n",
       "\\item 0\n",
       "\\item 1\n",
       "\\item 1\n",
       "\\item 1\n",
       "\\end{enumerate*}\n"
      ],
      "text/markdown": [
       "1. 0\n",
       "2. 0\n",
       "3. 0\n",
       "4. 0\n",
       "5. 0\n",
       "6. 1\n",
       "7. 1\n",
       "8. 1\n",
       "\n",
       "\n"
      ],
      "text/plain": [
       "[1] 0 0 0 0 0 1 1 1"
      ]
     },
     "metadata": {},
     "output_type": "display_data"
    }
   ],
   "source": [
    "c(rep(0, 5), rep(1, 3))"
   ]
  },
  {
   "cell_type": "code",
   "execution_count": 15,
   "id": "ad554b08",
   "metadata": {},
   "outputs": [
    {
     "data": {
      "text/html": [
       "<dl>\n",
       "\t<dt>$Male</dt>\n",
       "\t\t<dd><ol class=list-inline>\n",
       "\t<li>'CPI464'</li>\n",
       "\t<li>'CPI503'</li>\n",
       "</ol>\n",
       "</dd>\n",
       "\t<dt>$Female</dt>\n",
       "\t\t<dd><ol class=list-inline>\n",
       "\t<li>'CPI465'</li>\n",
       "\t<li>'CPI504'</li>\n",
       "</ol>\n",
       "</dd>\n",
       "\t<dt>$Other</dt>\n",
       "\t\t<dd><ol class=list-inline>\n",
       "\t<li>'NOTexisted'</li>\n",
       "\t<li>''</li>\n",
       "\t<li>NA</li>\n",
       "</ol>\n",
       "</dd>\n",
       "</dl>\n"
      ],
      "text/latex": [
       "\\begin{description}\n",
       "\\item[\\$Male] \\begin{enumerate*}\n",
       "\\item 'CPI464'\n",
       "\\item 'CPI503'\n",
       "\\end{enumerate*}\n",
       "\n",
       "\\item[\\$Female] \\begin{enumerate*}\n",
       "\\item 'CPI465'\n",
       "\\item 'CPI504'\n",
       "\\end{enumerate*}\n",
       "\n",
       "\\item[\\$Other] \\begin{enumerate*}\n",
       "\\item 'NOTexisted'\n",
       "\\item ''\n",
       "\\item NA\n",
       "\\end{enumerate*}\n",
       "\n",
       "\\end{description}\n"
      ],
      "text/markdown": [
       "$Male\n",
       ":   1. 'CPI464'\n",
       "2. 'CPI503'\n",
       "\n",
       "\n",
       "\n",
       "$Female\n",
       ":   1. 'CPI465'\n",
       "2. 'CPI504'\n",
       "\n",
       "\n",
       "\n",
       "$Other\n",
       ":   1. 'NOTexisted'\n",
       "2. ''\n",
       "3. NA\n",
       "\n",
       "\n",
       "\n",
       "\n",
       "\n"
      ],
      "text/plain": [
       "$Male\n",
       "[1] \"CPI464\" \"CPI503\"\n",
       "\n",
       "$Female\n",
       "[1] \"CPI465\" \"CPI504\"\n",
       "\n",
       "$Other\n",
       "[1] \"NOTexisted\" \"\"           NA          \n"
      ]
     },
     "metadata": {},
     "output_type": "display_data"
    }
   ],
   "source": [
    "dic = list(Male = c(\"CPI464\", \"CPI503\"),\n",
    "           Female = c(\"CPI465\", \"CPI504\"),\n",
    "           Other = c(\"NOTexisted\", \"\", NA))\n",
    "dic"
   ]
  },
  {
   "cell_type": "markdown",
   "id": "94364be4",
   "metadata": {},
   "source": [
    "## 6. Get values of list (dict in Python)"
   ]
  },
  {
   "cell_type": "code",
   "execution_count": 16,
   "id": "49d5786f",
   "metadata": {},
   "outputs": [],
   "source": [
    "get_values_of_list <- function(dic){\n",
    "    # vec <- names(dic)\n",
    "    values <- as.vector(unlist(dic))\n",
    "    return (values)\n",
    "}"
   ]
  },
  {
   "cell_type": "code",
   "execution_count": 17,
   "id": "ff4c3dc8",
   "metadata": {},
   "outputs": [
    {
     "data": {
      "text/html": [
       "<ol class=list-inline>\n",
       "\t<li>'za1'</li>\n",
       "\t<li>'za22'</li>\n",
       "\t<li>'b'</li>\n",
       "</ol>\n"
      ],
      "text/latex": [
       "\\begin{enumerate*}\n",
       "\\item 'za1'\n",
       "\\item 'za22'\n",
       "\\item 'b'\n",
       "\\end{enumerate*}\n"
      ],
      "text/markdown": [
       "1. 'za1'\n",
       "2. 'za22'\n",
       "3. 'b'\n",
       "\n",
       "\n"
      ],
      "text/plain": [
       "[1] \"za1\"  \"za22\" \"b\"   "
      ]
     },
     "metadata": {},
     "output_type": "display_data"
    },
    {
     "data": {
      "text/html": [
       "'All'"
      ],
      "text/latex": [
       "'All'"
      ],
      "text/markdown": [
       "'All'"
      ],
      "text/plain": [
       "[1] \"All\""
      ]
     },
     "metadata": {},
     "output_type": "display_data"
    }
   ],
   "source": [
    "dict1 = list('All' = list('a' = c('za1', 'za22'), \n",
    "                          'b'= c('b'),\n",
    "                          'c' = c()))\n",
    "values <- get_values_of_list(dict1)\n",
    "values\n",
    "names(dict1)"
   ]
  },
  {
   "cell_type": "code",
   "execution_count": 18,
   "id": "0149e9b0",
   "metadata": {},
   "outputs": [
    {
     "data": {
      "text/html": [
       "<dl class=dl-horizontal>\n",
       "\t<dt>All.a1</dt>\n",
       "\t\t<dd>'za1'</dd>\n",
       "\t<dt>All.a2</dt>\n",
       "\t\t<dd>'za22'</dd>\n",
       "\t<dt>All.b</dt>\n",
       "\t\t<dd>'b'</dd>\n",
       "</dl>\n"
      ],
      "text/latex": [
       "\\begin{description*}\n",
       "\\item[All.a1] 'za1'\n",
       "\\item[All.a2] 'za22'\n",
       "\\item[All.b] 'b'\n",
       "\\end{description*}\n"
      ],
      "text/markdown": [
       "All.a1\n",
       ":   'za1'All.a2\n",
       ":   'za22'All.b\n",
       ":   'b'\n",
       "\n"
      ],
      "text/plain": [
       "All.a1 All.a2  All.b \n",
       " \"za1\" \"za22\"    \"b\" "
      ]
     },
     "metadata": {},
     "output_type": "display_data"
    }
   ],
   "source": [
    "unlist(dict1)"
   ]
  },
  {
   "cell_type": "code",
   "execution_count": 19,
   "id": "b1d82420",
   "metadata": {},
   "outputs": [
    {
     "data": {
      "text/html": [
       "<ol class=list-inline>\n",
       "\t<li>'za1'</li>\n",
       "\t<li>'za22'</li>\n",
       "\t<li>'b'</li>\n",
       "</ol>\n"
      ],
      "text/latex": [
       "\\begin{enumerate*}\n",
       "\\item 'za1'\n",
       "\\item 'za22'\n",
       "\\item 'b'\n",
       "\\end{enumerate*}\n"
      ],
      "text/markdown": [
       "1. 'za1'\n",
       "2. 'za22'\n",
       "3. 'b'\n",
       "\n",
       "\n"
      ],
      "text/plain": [
       "[1] \"za1\"  \"za22\" \"b\"   "
      ]
     },
     "metadata": {},
     "output_type": "display_data"
    }
   ],
   "source": [
    "as.vector(unlist(dict1))"
   ]
  },
  {
   "cell_type": "markdown",
   "id": "05d70ff1",
   "metadata": {},
   "source": [
    "## 7. Change a list to a tree"
   ]
  },
  {
   "cell_type": "code",
   "execution_count": 20,
   "id": "2f35fb91",
   "metadata": {},
   "outputs": [
    {
     "data": {
      "text/html": [
       "<strong>$All</strong> = <dl>\n",
       "\t<dt>$a</dt>\n",
       "\t\t<dd><ol class=list-inline>\n",
       "\t<li>'a1'</li>\n",
       "\t<li>'a2'</li>\n",
       "</ol>\n",
       "</dd>\n",
       "\t<dt>$b</dt>\n",
       "\t\t<dd>'b'</dd>\n",
       "\t<dt>$c</dt>\n",
       "\t\t<dd>NULL</dd>\n",
       "</dl>\n"
      ],
      "text/latex": [
       "\\textbf{\\$All} = \\begin{description}\n",
       "\\item[\\$a] \\begin{enumerate*}\n",
       "\\item 'a1'\n",
       "\\item 'a2'\n",
       "\\end{enumerate*}\n",
       "\n",
       "\\item[\\$b] 'b'\n",
       "\\item[\\$c] NULL\n",
       "\\end{description}\n"
      ],
      "text/markdown": [
       "**$All** = $a\n",
       ":   1. 'a1'\n",
       "2. 'a2'\n",
       "\n",
       "\n",
       "\n",
       "$b\n",
       ":   'b'\n",
       "$c\n",
       ":   NULL\n",
       "\n",
       "\n"
      ],
      "text/plain": [
       "$All\n",
       "$All$a\n",
       "[1] \"a1\" \"a2\"\n",
       "\n",
       "$All$b\n",
       "[1] \"b\"\n",
       "\n",
       "$All$c\n",
       "NULL\n",
       "\n"
      ]
     },
     "metadata": {},
     "output_type": "display_data"
    }
   ],
   "source": [
    "dic = list('All' = list('a' = c('a1', 'a2'), \n",
    "                       'b'= c('b'),\n",
    "                       'c' = c()))\n",
    "dic # <=> dic[\"All\"]"
   ]
  },
  {
   "cell_type": "code",
   "execution_count": 21,
   "id": "33eb8a43",
   "metadata": {},
   "outputs": [
    {
     "data": {
      "text/html": [
       "'All'"
      ],
      "text/latex": [
       "'All'"
      ],
      "text/markdown": [
       "'All'"
      ],
      "text/plain": [
       "[1] \"All\""
      ]
     },
     "metadata": {},
     "output_type": "display_data"
    }
   ],
   "source": [
    "names(dic)"
   ]
  },
  {
   "cell_type": "code",
   "execution_count": 22,
   "id": "65b3d31a",
   "metadata": {},
   "outputs": [
    {
     "data": {
      "text/html": [
       "<ol class=list-inline>\n",
       "\t<li>'a'</li>\n",
       "\t<li>'b'</li>\n",
       "\t<li>'c'</li>\n",
       "</ol>\n"
      ],
      "text/latex": [
       "\\begin{enumerate*}\n",
       "\\item 'a'\n",
       "\\item 'b'\n",
       "\\item 'c'\n",
       "\\end{enumerate*}\n"
      ],
      "text/markdown": [
       "1. 'a'\n",
       "2. 'b'\n",
       "3. 'c'\n",
       "\n",
       "\n"
      ],
      "text/plain": [
       "[1] \"a\" \"b\" \"c\""
      ]
     },
     "metadata": {},
     "output_type": "display_data"
    }
   ],
   "source": [
    "names(dic[[\"All\"]])"
   ]
  },
  {
   "cell_type": "code",
   "execution_count": 23,
   "id": "0d5b848f",
   "metadata": {},
   "outputs": [
    {
     "data": {
      "text/html": [
       "<dl>\n",
       "\t<dt>$a</dt>\n",
       "\t\t<dd><ol class=list-inline>\n",
       "\t<li>'a1'</li>\n",
       "\t<li>'a2'</li>\n",
       "</ol>\n",
       "</dd>\n",
       "\t<dt>$b</dt>\n",
       "\t\t<dd>'b'</dd>\n",
       "\t<dt>$c</dt>\n",
       "\t\t<dd>NULL</dd>\n",
       "</dl>\n"
      ],
      "text/latex": [
       "\\begin{description}\n",
       "\\item[\\$a] \\begin{enumerate*}\n",
       "\\item 'a1'\n",
       "\\item 'a2'\n",
       "\\end{enumerate*}\n",
       "\n",
       "\\item[\\$b] 'b'\n",
       "\\item[\\$c] NULL\n",
       "\\end{description}\n"
      ],
      "text/markdown": [
       "$a\n",
       ":   1. 'a1'\n",
       "2. 'a2'\n",
       "\n",
       "\n",
       "\n",
       "$b\n",
       ":   'b'\n",
       "$c\n",
       ":   NULL\n",
       "\n",
       "\n"
      ],
      "text/plain": [
       "$a\n",
       "[1] \"a1\" \"a2\"\n",
       "\n",
       "$b\n",
       "[1] \"b\"\n",
       "\n",
       "$c\n",
       "NULL\n"
      ]
     },
     "metadata": {},
     "output_type": "display_data"
    }
   ],
   "source": [
    "dic[[\"All\"]]"
   ]
  },
  {
   "cell_type": "code",
   "execution_count": 24,
   "id": "06309936",
   "metadata": {},
   "outputs": [
    {
     "data": {
      "text/html": [
       "<dl class=dl-horizontal>\n",
       "\t<dt>a1</dt>\n",
       "\t\t<dd>'a1'</dd>\n",
       "\t<dt>a2</dt>\n",
       "\t\t<dd>'a2'</dd>\n",
       "\t<dt>b</dt>\n",
       "\t\t<dd>'b'</dd>\n",
       "</dl>\n"
      ],
      "text/latex": [
       "\\begin{description*}\n",
       "\\item[a1] 'a1'\n",
       "\\item[a2] 'a2'\n",
       "\\item[b] 'b'\n",
       "\\end{description*}\n"
      ],
      "text/markdown": [
       "a1\n",
       ":   'a1'a2\n",
       ":   'a2'b\n",
       ":   'b'\n",
       "\n"
      ],
      "text/plain": [
       "  a1   a2    b \n",
       "\"a1\" \"a2\"  \"b\" "
      ]
     },
     "metadata": {},
     "output_type": "display_data"
    },
    {
     "data": {
      "text/html": [
       "<ol class=list-inline>\n",
       "\t<li>'a1'</li>\n",
       "\t<li>'a2'</li>\n",
       "\t<li>'b'</li>\n",
       "</ol>\n"
      ],
      "text/latex": [
       "\\begin{enumerate*}\n",
       "\\item 'a1'\n",
       "\\item 'a2'\n",
       "\\item 'b'\n",
       "\\end{enumerate*}\n"
      ],
      "text/markdown": [
       "1. 'a1'\n",
       "2. 'a2'\n",
       "3. 'b'\n",
       "\n",
       "\n"
      ],
      "text/plain": [
       "[1] \"a1\" \"a2\" \"b\" "
      ]
     },
     "metadata": {},
     "output_type": "display_data"
    }
   ],
   "source": [
    "sub_dic <- dic[[\"All\"]]\n",
    "vec <- names(sub_dic)\n",
    "unlist(sub_dic[vec])\n",
    "as.vector(unlist(sub_dic[vec]))\n",
    "# identical(as.vector(unlist(sub_dic[v])), c(\"A\", \"C\"))"
   ]
  },
  {
   "cell_type": "code",
   "execution_count": null,
   "id": "9bcfc41b",
   "metadata": {},
   "outputs": [],
   "source": [
    "vec = c(99, 'a', 'b')\n",
    "ll1 <- as.list(vec)\n",
    "ll1\n",
    "ll1[1]\n",
    "# names(vec) <- vec"
   ]
  },
  {
   "cell_type": "code",
   "execution_count": null,
   "id": "95558ac5",
   "metadata": {},
   "outputs": [],
   "source": [
    "ll2 <- as.list(setNames(vec, vec))\n",
    "ll2\n",
    "class(ll2)\n",
    "ll2[['99']]"
   ]
  },
  {
   "cell_type": "code",
   "execution_count": 4,
   "id": "7e4c084a",
   "metadata": {},
   "outputs": [
    {
     "data": {
      "text/html": [
       "<dl>\n",
       "\t<dt>$ev1</dt>\n",
       "\t\t<dd><ol class=list-inline>\n",
       "\t<li>10</li>\n",
       "\t<li>20</li>\n",
       "\t<li>30</li>\n",
       "</ol>\n",
       "</dd>\n",
       "\t<dt>$ev2</dt>\n",
       "\t\t<dd>15</dd>\n",
       "\t<dt>$rv</dt>\n",
       "\t\t<dd>'Group 1'</dd>\n",
       "</dl>\n"
      ],
      "text/latex": [
       "\\begin{description}\n",
       "\\item[\\$ev1] \\begin{enumerate*}\n",
       "\\item 10\n",
       "\\item 20\n",
       "\\item 30\n",
       "\\end{enumerate*}\n",
       "\n",
       "\\item[\\$ev2] 15\n",
       "\\item[\\$rv] 'Group 1'\n",
       "\\end{description}\n"
      ],
      "text/markdown": [
       "$ev1\n",
       ":   1. 10\n",
       "2. 20\n",
       "3. 30\n",
       "\n",
       "\n",
       "\n",
       "$ev2\n",
       ":   15\n",
       "$rv\n",
       ":   'Group 1'\n",
       "\n",
       "\n"
      ],
      "text/plain": [
       "$ev1\n",
       "[1] 10 20 30\n",
       "\n",
       "$ev2\n",
       "[1] 15\n",
       "\n",
       "$rv\n",
       "[1] \"Group 1\"\n"
      ]
     },
     "metadata": {},
     "output_type": "display_data"
    }
   ],
   "source": [
    "x = list(\"ev1\"=c(10, 20, 30), \"ev2\"=15, \"rv\"=\"Group 1\")\n",
    "x"
   ]
  },
  {
   "cell_type": "code",
   "execution_count": 5,
   "id": "4f39e2cf",
   "metadata": {},
   "outputs": [
    {
     "data": {
      "text/html": [
       "<dl class=dl-horizontal>\n",
       "\t<dt>ev11</dt>\n",
       "\t\t<dd>'10'</dd>\n",
       "\t<dt>ev12</dt>\n",
       "\t\t<dd>'20'</dd>\n",
       "\t<dt>ev13</dt>\n",
       "\t\t<dd>'30'</dd>\n",
       "\t<dt>ev2</dt>\n",
       "\t\t<dd>'15'</dd>\n",
       "\t<dt>rv</dt>\n",
       "\t\t<dd>'Group 1'</dd>\n",
       "</dl>\n"
      ],
      "text/latex": [
       "\\begin{description*}\n",
       "\\item[ev11] '10'\n",
       "\\item[ev12] '20'\n",
       "\\item[ev13] '30'\n",
       "\\item[ev2] '15'\n",
       "\\item[rv] 'Group 1'\n",
       "\\end{description*}\n"
      ],
      "text/markdown": [
       "ev11\n",
       ":   '10'ev12\n",
       ":   '20'ev13\n",
       ":   '30'ev2\n",
       ":   '15'rv\n",
       ":   'Group 1'\n",
       "\n"
      ],
      "text/plain": [
       "     ev11      ev12      ev13       ev2        rv \n",
       "     \"10\"      \"20\"      \"30\"      \"15\" \"Group 1\" "
      ]
     },
     "metadata": {},
     "output_type": "display_data"
    }
   ],
   "source": [
    "unlist(x)"
   ]
  },
  {
   "cell_type": "code",
   "execution_count": 6,
   "id": "74a20d74",
   "metadata": {},
   "outputs": [
    {
     "data": {
      "text/html": [
       "<strong>$names</strong> = <ol class=list-inline>\n",
       "\t<li>'ev1'</li>\n",
       "\t<li>'ev2'</li>\n",
       "\t<li>'rv'</li>\n",
       "</ol>\n"
      ],
      "text/latex": [
       "\\textbf{\\$names} = \\begin{enumerate*}\n",
       "\\item 'ev1'\n",
       "\\item 'ev2'\n",
       "\\item 'rv'\n",
       "\\end{enumerate*}\n"
      ],
      "text/markdown": [
       "**$names** = 1. 'ev1'\n",
       "2. 'ev2'\n",
       "3. 'rv'\n",
       "\n",
       "\n"
      ],
      "text/plain": [
       "$names\n",
       "[1] \"ev1\" \"ev2\" \"rv\" \n"
      ]
     },
     "metadata": {},
     "output_type": "display_data"
    }
   ],
   "source": [
    "attributes(x)"
   ]
  },
  {
   "cell_type": "markdown",
   "id": "402121cd",
   "metadata": {},
   "source": [
    "## 8. Sorted values in a sub-list"
   ]
  },
  {
   "cell_type": "code",
   "execution_count": 30,
   "id": "501ea48f",
   "metadata": {},
   "outputs": [
    {
     "data": {
      "text/html": [
       "<strong>$All</strong> = <dl>\n",
       "\t<dt>$a</dt>\n",
       "\t\t<dd><ol class=list-inline>\n",
       "\t<li>'a1'</li>\n",
       "\t<li>'a2'</li>\n",
       "\t<li>'a3'</li>\n",
       "</ol>\n",
       "</dd>\n",
       "\t<dt>$b</dt>\n",
       "\t\t<dd><ol class=list-inline>\n",
       "\t<li>'b1'</li>\n",
       "\t<li>'b2'</li>\n",
       "\t<li>'a3'</li>\n",
       "</ol>\n",
       "</dd>\n",
       "\t<dt>$c</dt>\n",
       "\t\t<dd>NULL</dd>\n",
       "</dl>\n"
      ],
      "text/latex": [
       "\\textbf{\\$All} = \\begin{description}\n",
       "\\item[\\$a] \\begin{enumerate*}\n",
       "\\item 'a1'\n",
       "\\item 'a2'\n",
       "\\item 'a3'\n",
       "\\end{enumerate*}\n",
       "\n",
       "\\item[\\$b] \\begin{enumerate*}\n",
       "\\item 'b1'\n",
       "\\item 'b2'\n",
       "\\item 'a3'\n",
       "\\end{enumerate*}\n",
       "\n",
       "\\item[\\$c] NULL\n",
       "\\end{description}\n"
      ],
      "text/markdown": [
       "**$All** = $a\n",
       ":   1. 'a1'\n",
       "2. 'a2'\n",
       "3. 'a3'\n",
       "\n",
       "\n",
       "\n",
       "$b\n",
       ":   1. 'b1'\n",
       "2. 'b2'\n",
       "3. 'a3'\n",
       "\n",
       "\n",
       "\n",
       "$c\n",
       ":   NULL\n",
       "\n",
       "\n"
      ],
      "text/plain": [
       "$All\n",
       "$All$a\n",
       "[1] \"a1\" \"a2\" \"a3\"\n",
       "\n",
       "$All$b\n",
       "[1] \"b1\" \"b2\" \"a3\"\n",
       "\n",
       "$All$c\n",
       "NULL\n",
       "\n"
      ]
     },
     "metadata": {},
     "output_type": "display_data"
    }
   ],
   "source": [
    "dic = list('All' = list('a' = c('a1', 'a2', 'a3'), \n",
    "                        'b' = c('b1', 'b2', 'a3'),\n",
    "                        'c' = c()))\n",
    "dic # <=> dic[\"All\"]"
   ]
  },
  {
   "cell_type": "code",
   "execution_count": 31,
   "id": "0a3421ea",
   "metadata": {},
   "outputs": [
    {
     "data": {
      "text/html": [
       "<dl class=dl-horizontal>\n",
       "\t<dt>a</dt>\n",
       "\t\t<dd>TRUE</dd>\n",
       "\t<dt>b</dt>\n",
       "\t\t<dd>TRUE</dd>\n",
       "\t<dt>c</dt>\n",
       "\t\t<dd>FALSE</dd>\n",
       "</dl>\n"
      ],
      "text/latex": [
       "\\begin{description*}\n",
       "\\item[a] TRUE\n",
       "\\item[b] TRUE\n",
       "\\item[c] FALSE\n",
       "\\end{description*}\n"
      ],
      "text/markdown": [
       "a\n",
       ":   TRUEb\n",
       ":   TRUEc\n",
       ":   FALSE\n",
       "\n"
      ],
      "text/plain": [
       "    a     b     c \n",
       " TRUE  TRUE FALSE "
      ]
     },
     "metadata": {},
     "output_type": "display_data"
    },
    {
     "data": {
      "text/html": [
       "<ol class=list-inline>\n",
       "\t<li>'a'</li>\n",
       "\t<li>'b'</li>\n",
       "</ol>\n"
      ],
      "text/latex": [
       "\\begin{enumerate*}\n",
       "\\item 'a'\n",
       "\\item 'b'\n",
       "\\end{enumerate*}\n"
      ],
      "text/markdown": [
       "1. 'a'\n",
       "2. 'b'\n",
       "\n",
       "\n"
      ],
      "text/plain": [
       "[1] \"a\" \"b\""
      ]
     },
     "metadata": {},
     "output_type": "display_data"
    }
   ],
   "source": [
    "# Move a2 to the first item of key a\n",
    "# dic[['All']][['b']] <- sort(dic[['All']][['b']])\n",
    "# stack(dic[['All']])\n",
    "dic1 <- dic[[\"All\"]]\n",
    "idx <- sapply(dic1, function(x) any( x %in% c(\"a3\")))\n",
    "idx\n",
    "names(dic1)[ idx ]"
   ]
  },
  {
   "cell_type": "code",
   "execution_count": 35,
   "id": "4712f943",
   "metadata": {},
   "outputs": [],
   "source": [
    "get_key_of_a_given_value <- function(dic, value){\n",
    "    idx <- sapply(dic, function(x) any( x %in% c(value)))\n",
    "    return (names(dic[idx]))\n",
    "}"
   ]
  },
  {
   "cell_type": "code",
   "execution_count": 44,
   "id": "071ea068",
   "metadata": {},
   "outputs": [
    {
     "data": {
      "text/html": [
       "'character'"
      ],
      "text/latex": [
       "'character'"
      ],
      "text/markdown": [
       "'character'"
      ],
      "text/plain": [
       "[1] \"character\""
      ]
     },
     "metadata": {},
     "output_type": "display_data"
    }
   ],
   "source": [
    "dic = list('a' = c('a1', 'a2', 'a3'), \n",
    "           'b' = c('b1', 'b2', 'a3'),\n",
    "           'c' = c())\n",
    "\n",
    "keys <- get_key_of_a_given_value(dic, value=\"b2\")\n",
    "class(keys)"
   ]
  },
  {
   "cell_type": "code",
   "execution_count": 45,
   "id": "3ed2a380",
   "metadata": {},
   "outputs": [
    {
     "data": {
      "text/html": [
       "'b'"
      ],
      "text/latex": [
       "'b'"
      ],
      "text/markdown": [
       "'b'"
      ],
      "text/plain": [
       "[1] \"b\""
      ]
     },
     "metadata": {},
     "output_type": "display_data"
    }
   ],
   "source": [
    "keys[1]"
   ]
  },
  {
   "cell_type": "code",
   "execution_count": 41,
   "id": "939c8dc8",
   "metadata": {},
   "outputs": [
    {
     "data": {
      "text/html": [
       "NA"
      ],
      "text/latex": [
       "NA"
      ],
      "text/markdown": [
       "NA"
      ],
      "text/plain": [
       "[1] NA"
      ]
     },
     "metadata": {},
     "output_type": "display_data"
    }
   ],
   "source": [
    "ll[2]"
   ]
  },
  {
   "cell_type": "code",
   "execution_count": 46,
   "id": "dc792099",
   "metadata": {},
   "outputs": [
    {
     "data": {
      "text/html": [
       "'character'"
      ],
      "text/latex": [
       "'character'"
      ],
      "text/markdown": [
       "'character'"
      ],
      "text/plain": [
       "[1] \"character\""
      ]
     },
     "metadata": {},
     "output_type": "display_data"
    },
    {
     "data": {
      "text/html": [
       "<ol class=list-inline>\n",
       "\t<li>'a'</li>\n",
       "\t<li>'b'</li>\n",
       "</ol>\n"
      ],
      "text/latex": [
       "\\begin{enumerate*}\n",
       "\\item 'a'\n",
       "\\item 'b'\n",
       "\\end{enumerate*}\n"
      ],
      "text/markdown": [
       "1. 'a'\n",
       "2. 'b'\n",
       "\n",
       "\n"
      ],
      "text/plain": [
       "[1] \"a\" \"b\""
      ]
     },
     "metadata": {},
     "output_type": "display_data"
    }
   ],
   "source": [
    "keys <- get_key_of_a_given_value(dic, value=\"a3\")\n",
    "class(keys)\n",
    "keys"
   ]
  },
  {
   "cell_type": "code",
   "execution_count": 48,
   "id": "457e6086",
   "metadata": {},
   "outputs": [
    {
     "data": {
      "text/html": [],
      "text/latex": [],
      "text/markdown": [],
      "text/plain": [
       "character(0)"
      ]
     },
     "metadata": {},
     "output_type": "display_data"
    }
   ],
   "source": [
    "keys <- get_key_of_a_given_value(dic, value=\"NOT existed\")\n",
    "keys"
   ]
  },
  {
   "cell_type": "code",
   "execution_count": 2,
   "id": "ccb1faa5",
   "metadata": {},
   "outputs": [],
   "source": [
    "get_key_of_given_values <- function(dic, values){\n",
    "  # To get a vector of key given by a vector of values from a one-level R list (one-level dict in Python)\n",
    "  # Input: \n",
    "  #   dic: one-level R list (one-level dict in Python)\n",
    "  #   values: a vector of values\n",
    "  # Output:\n",
    "  #   a vector stores key(s)\n",
    "  # Usage:\n",
    "  #   dic = list('a' = c('a1', 'a2', 'a3'), \n",
    "  #              'b' = c('b1', 'b2', 'a3'),\n",
    "  #              'c' = c())\n",
    "  #   keys <- get_key_of_a_given_value(dic, value=\"b2\") \n",
    "  #   --> Output: keys = c('b')\n",
    "  #   keys <- get_key_of_a_given_value(dic, value=\"a3\")\n",
    "  #   --> Output: keys = c('a', 'b')\n",
    "  #   keys <- get_key_of_a_given_value(dic, value=\"NOT existed\")\n",
    "  #   --> Output: keys = c()\n",
    "  \n",
    "  idx <- sapply(dic, function(x) any( x %in% values))\n",
    "  return (names(dic[idx]))\n",
    "}"
   ]
  },
  {
   "cell_type": "code",
   "execution_count": 3,
   "id": "52c99630",
   "metadata": {},
   "outputs": [
    {
     "data": {
      "text/html": [
       "'b'"
      ],
      "text/latex": [
       "'b'"
      ],
      "text/markdown": [
       "'b'"
      ],
      "text/plain": [
       "[1] \"b\""
      ]
     },
     "metadata": {},
     "output_type": "display_data"
    }
   ],
   "source": [
    "dic = list('a' = c('a1', 'a2', 'a3'), \n",
    "           'b' = c('b1', 'b2', 'a3'),\n",
    "           'c' = c())\n",
    "\n",
    "keys <- get_key_of_given_values(dic, values=c(\"b2\"))\n",
    "keys"
   ]
  },
  {
   "cell_type": "code",
   "execution_count": 4,
   "id": "1e07c0bd",
   "metadata": {},
   "outputs": [
    {
     "data": {
      "text/html": [
       "<ol class=list-inline>\n",
       "\t<li>'a'</li>\n",
       "\t<li>'b'</li>\n",
       "</ol>\n"
      ],
      "text/latex": [
       "\\begin{enumerate*}\n",
       "\\item 'a'\n",
       "\\item 'b'\n",
       "\\end{enumerate*}\n"
      ],
      "text/markdown": [
       "1. 'a'\n",
       "2. 'b'\n",
       "\n",
       "\n"
      ],
      "text/plain": [
       "[1] \"a\" \"b\""
      ]
     },
     "metadata": {},
     "output_type": "display_data"
    }
   ],
   "source": [
    "keys <- get_key_of_given_values(dic, values=c(\"a1\", \"b2\", \"b3\", \"NOT existed\"))\n",
    "keys"
   ]
  },
  {
   "cell_type": "code",
   "execution_count": 5,
   "id": "b390fd5b",
   "metadata": {},
   "outputs": [
    {
     "data": {
      "text/html": [],
      "text/latex": [],
      "text/markdown": [],
      "text/plain": [
       "character(0)"
      ]
     },
     "metadata": {},
     "output_type": "display_data"
    }
   ],
   "source": [
    "keys <- get_key_of_given_values(dic, values=c(\"NOT existed\"))\n",
    "keys"
   ]
  },
  {
   "cell_type": "code",
   "execution_count": 6,
   "id": "053ef29b",
   "metadata": {},
   "outputs": [
    {
     "data": {
      "text/html": [
       "<dl>\n",
       "\t<dt>$a</dt>\n",
       "\t\t<dd><ol class=list-inline>\n",
       "\t<li>'a1'</li>\n",
       "\t<li>'a2'</li>\n",
       "\t<li>'a3'</li>\n",
       "</ol>\n",
       "</dd>\n",
       "\t<dt>$b</dt>\n",
       "\t\t<dd><ol class=list-inline>\n",
       "\t<li>'b1'</li>\n",
       "\t<li>'b2'</li>\n",
       "\t<li>'a3'</li>\n",
       "</ol>\n",
       "</dd>\n",
       "\t<dt>$c</dt>\n",
       "\t\t<dd>NULL</dd>\n",
       "</dl>\n"
      ],
      "text/latex": [
       "\\begin{description}\n",
       "\\item[\\$a] \\begin{enumerate*}\n",
       "\\item 'a1'\n",
       "\\item 'a2'\n",
       "\\item 'a3'\n",
       "\\end{enumerate*}\n",
       "\n",
       "\\item[\\$b] \\begin{enumerate*}\n",
       "\\item 'b1'\n",
       "\\item 'b2'\n",
       "\\item 'a3'\n",
       "\\end{enumerate*}\n",
       "\n",
       "\\item[\\$c] NULL\n",
       "\\end{description}\n"
      ],
      "text/markdown": [
       "$a\n",
       ":   1. 'a1'\n",
       "2. 'a2'\n",
       "3. 'a3'\n",
       "\n",
       "\n",
       "\n",
       "$b\n",
       ":   1. 'b1'\n",
       "2. 'b2'\n",
       "3. 'a3'\n",
       "\n",
       "\n",
       "\n",
       "$c\n",
       ":   NULL\n",
       "\n",
       "\n"
      ],
      "text/plain": [
       "$a\n",
       "[1] \"a1\" \"a2\" \"a3\"\n",
       "\n",
       "$b\n",
       "[1] \"b1\" \"b2\" \"a3\"\n",
       "\n",
       "$c\n",
       "NULL\n"
      ]
     },
     "metadata": {},
     "output_type": "display_data"
    }
   ],
   "source": [
    "dic"
   ]
  },
  {
   "cell_type": "code",
   "execution_count": 7,
   "id": "cc0dd77a",
   "metadata": {},
   "outputs": [
    {
     "data": {
      "text/html": [
       "<dl>\n",
       "\t<dt>$a</dt>\n",
       "\t\t<dd><ol class=list-inline>\n",
       "\t<li>'a2'</li>\n",
       "\t<li>'a1'</li>\n",
       "\t<li>'a3'</li>\n",
       "</ol>\n",
       "</dd>\n",
       "\t<dt>$b</dt>\n",
       "\t\t<dd><ol class=list-inline>\n",
       "\t<li>'b1'</li>\n",
       "\t<li>'b2'</li>\n",
       "\t<li>'a3'</li>\n",
       "</ol>\n",
       "</dd>\n",
       "\t<dt>$c</dt>\n",
       "\t\t<dd>NULL</dd>\n",
       "</dl>\n"
      ],
      "text/latex": [
       "\\begin{description}\n",
       "\\item[\\$a] \\begin{enumerate*}\n",
       "\\item 'a2'\n",
       "\\item 'a1'\n",
       "\\item 'a3'\n",
       "\\end{enumerate*}\n",
       "\n",
       "\\item[\\$b] \\begin{enumerate*}\n",
       "\\item 'b1'\n",
       "\\item 'b2'\n",
       "\\item 'a3'\n",
       "\\end{enumerate*}\n",
       "\n",
       "\\item[\\$c] NULL\n",
       "\\end{description}\n"
      ],
      "text/markdown": [
       "$a\n",
       ":   1. 'a2'\n",
       "2. 'a1'\n",
       "3. 'a3'\n",
       "\n",
       "\n",
       "\n",
       "$b\n",
       ":   1. 'b1'\n",
       "2. 'b2'\n",
       "3. 'a3'\n",
       "\n",
       "\n",
       "\n",
       "$c\n",
       ":   NULL\n",
       "\n",
       "\n"
      ],
      "text/plain": [
       "$a\n",
       "[1] \"a2\" \"a1\" \"a3\"\n",
       "\n",
       "$b\n",
       "[1] \"b1\" \"b2\" \"a3\"\n",
       "\n",
       "$c\n",
       "NULL\n"
      ]
     },
     "metadata": {},
     "output_type": "display_data"
    }
   ],
   "source": [
    "dic[['a']] <- c('a2', dic[['a']][! dic[['a']] %in% c('a2')])\n",
    "# vec = c('z', vec[! vec %in% c('z')])\n",
    "dic"
   ]
  },
  {
   "cell_type": "code",
   "execution_count": 9,
   "id": "702671a2",
   "metadata": {},
   "outputs": [
    {
     "data": {
      "text/html": [
       "<ol class=list-inline>\n",
       "\t<li>'a2'</li>\n",
       "\t<li>'a1'</li>\n",
       "\t<li>'a3'</li>\n",
       "\t<li>'b1'</li>\n",
       "\t<li>'b2'</li>\n",
       "\t<li>'a3'</li>\n",
       "</ol>\n"
      ],
      "text/latex": [
       "\\begin{enumerate*}\n",
       "\\item 'a2'\n",
       "\\item 'a1'\n",
       "\\item 'a3'\n",
       "\\item 'b1'\n",
       "\\item 'b2'\n",
       "\\item 'a3'\n",
       "\\end{enumerate*}\n"
      ],
      "text/markdown": [
       "1. 'a2'\n",
       "2. 'a1'\n",
       "3. 'a3'\n",
       "4. 'b1'\n",
       "5. 'b2'\n",
       "6. 'a3'\n",
       "\n",
       "\n"
      ],
      "text/plain": [
       "[1] \"a2\" \"a1\" \"a3\" \"b1\" \"b2\" \"a3\""
      ]
     },
     "metadata": {},
     "output_type": "display_data"
    }
   ],
   "source": [
    "as.vector(unlist(dic))"
   ]
  },
  {
   "cell_type": "code",
   "execution_count": 10,
   "id": "8f20f310",
   "metadata": {},
   "outputs": [
    {
     "data": {
      "text/html": [
       "<ol class=list-inline>\n",
       "\t<li>'b'</li>\n",
       "\t<li>'d'</li>\n",
       "\t<li>'a'</li>\n",
       "\t<li>'e'</li>\n",
       "\t<li>'z'</li>\n",
       "\t<li>'c'</li>\n",
       "</ol>\n"
      ],
      "text/latex": [
       "\\begin{enumerate*}\n",
       "\\item 'b'\n",
       "\\item 'd'\n",
       "\\item 'a'\n",
       "\\item 'e'\n",
       "\\item 'z'\n",
       "\\item 'c'\n",
       "\\end{enumerate*}\n"
      ],
      "text/markdown": [
       "1. 'b'\n",
       "2. 'd'\n",
       "3. 'a'\n",
       "4. 'e'\n",
       "5. 'z'\n",
       "6. 'c'\n",
       "\n",
       "\n"
      ],
      "text/plain": [
       "[1] \"b\" \"d\" \"a\" \"e\" \"z\" \"c\""
      ]
     },
     "metadata": {},
     "output_type": "display_data"
    }
   ],
   "source": [
    "move_a_specific_value_to_beginning_of_a_vec <- function(vec, value){\n",
    "  vec = c(value, vec[! vec %in% c(value)])\n",
    "  return (vec)\n",
    "}\n",
    "\n",
    "vec <- c('d', 'a', 'e', 'b', 'z', 'c')\n",
    "vec <- move_a_specific_value_to_beginning_of_a_vec(vec=vec, value='b')\n",
    "vec"
   ]
  },
  {
   "cell_type": "code",
   "execution_count": null,
   "id": "73b3d8bc",
   "metadata": {},
   "outputs": [],
   "source": [
    "sorted_a_specific_value_within_a_specific_group <- function(markers_selected, a_selected_marker_to_sort){\n",
    "    dic <- get_parent_marker_groups(vec=markers_selected, \n",
    "                                    make_shinytree_format = FALSE)\n",
    "    key <- get_key_of_a_given_value(dic=dic, \n",
    "                                    value=a_selected_marker_to_sort)\n",
    "    \n",
    "    dic[[key]] <- move_a_specific_value_to_beginning_of_a_vec(vec=dic[[key]], \n",
    "                                                              a_selected_marker_to_sort)\n",
    "    \n",
    "    markers_selected <- as.vector(unlist(dic))\n",
    "    \n",
    "    return (markers_selected)\n",
    "}"
   ]
  }
 ],
 "metadata": {
  "kernelspec": {
   "display_name": "R",
   "language": "R",
   "name": "ir"
  },
  "language_info": {
   "codemirror_mode": "r",
   "file_extension": ".r",
   "mimetype": "text/x-r-source",
   "name": "R",
   "pygments_lexer": "r",
   "version": "3.6.1"
  }
 },
 "nbformat": 4,
 "nbformat_minor": 5
}
