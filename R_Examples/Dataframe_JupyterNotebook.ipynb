{
 "cells": [
  {
   "cell_type": "code",
   "execution_count": 1,
   "id": "40a42c38",
   "metadata": {},
   "outputs": [
    {
     "name": "stderr",
     "output_type": "stream",
     "text": [
      "\n",
      "Attaching package: 'dplyr'\n",
      "\n",
      "The following objects are masked from 'package:stats':\n",
      "\n",
      "    filter, lag\n",
      "\n",
      "The following objects are masked from 'package:base':\n",
      "\n",
      "    intersect, setdiff, setequal, union\n",
      "\n"
     ]
    }
   ],
   "source": [
    "library(dplyr)"
   ]
  },
  {
   "cell_type": "markdown",
   "id": "85b17994",
   "metadata": {},
   "source": [
    "## I. Dataframe basics"
   ]
  },
  {
   "cell_type": "code",
   "execution_count": 11,
   "id": "bd9ee6a6",
   "metadata": {},
   "outputs": [
    {
     "data": {
      "text/html": [
       "<table>\n",
       "<thead><tr><th scope=col>label</th><th scope=col>x1</th><th scope=col>x2</th></tr></thead>\n",
       "<tbody>\n",
       "\t<tr><td>a1 </td><td> 1 </td><td>100</td></tr>\n",
       "\t<tr><td>a2 </td><td> 2 </td><td> NA</td></tr>\n",
       "\t<tr><td>a3 </td><td> 3 </td><td>300</td></tr>\n",
       "\t<tr><td>a4 </td><td>NA </td><td>400</td></tr>\n",
       "\t<tr><td>a5 </td><td>NA </td><td> NA</td></tr>\n",
       "</tbody>\n",
       "</table>\n"
      ],
      "text/latex": [
       "\\begin{tabular}{r|lll}\n",
       " label & x1 & x2\\\\\n",
       "\\hline\n",
       "\t a1  &  1  & 100\\\\\n",
       "\t a2  &  2  &  NA\\\\\n",
       "\t a3  &  3  & 300\\\\\n",
       "\t a4  & NA  & 400\\\\\n",
       "\t a5  & NA  &  NA\\\\\n",
       "\\end{tabular}\n"
      ],
      "text/markdown": [
       "\n",
       "| label | x1 | x2 |\n",
       "|---|---|---|\n",
       "| a1  |  1  | 100 |\n",
       "| a2  |  2  |  NA |\n",
       "| a3  |  3  | 300 |\n",
       "| a4  | NA  | 400 |\n",
       "| a5  | NA  |  NA |\n",
       "\n"
      ],
      "text/plain": [
       "  label x1 x2 \n",
       "1 a1     1 100\n",
       "2 a2     2  NA\n",
       "3 a3     3 300\n",
       "4 a4    NA 400\n",
       "5 a5    NA  NA"
      ]
     },
     "metadata": {},
     "output_type": "display_data"
    }
   ],
   "source": [
    "df <- data.frame(label = c('a1', 'a2', 'a3', 'a4', 'a5'),\n",
    "                 x1 = c(1, 2, 3, NA, NA), \n",
    "                 x2 = c(100, NA, 300, 400, NA))\n",
    "df"
   ]
  },
  {
   "cell_type": "markdown",
   "id": "bdd98eb3",
   "metadata": {},
   "source": [
    "### Get unique values of a column"
   ]
  },
  {
   "cell_type": "code",
   "execution_count": 13,
   "id": "c0cd2228",
   "metadata": {},
   "outputs": [
    {
     "data": {
      "text/html": [
       "<ol class=list-inline>\n",
       "\t<li>a1</li>\n",
       "\t<li>a2</li>\n",
       "\t<li>a3</li>\n",
       "\t<li>a4</li>\n",
       "\t<li>a5</li>\n",
       "</ol>\n",
       "\n",
       "<details>\n",
       "\t<summary style=display:list-item;cursor:pointer>\n",
       "\t\t<strong>Levels</strong>:\n",
       "\t</summary>\n",
       "\t<ol class=list-inline>\n",
       "\t\t<li>'a1'</li>\n",
       "\t\t<li>'a2'</li>\n",
       "\t\t<li>'a3'</li>\n",
       "\t\t<li>'a4'</li>\n",
       "\t\t<li>'a5'</li>\n",
       "\t</ol>\n",
       "</details>"
      ],
      "text/latex": [
       "\\begin{enumerate*}\n",
       "\\item a1\n",
       "\\item a2\n",
       "\\item a3\n",
       "\\item a4\n",
       "\\item a5\n",
       "\\end{enumerate*}\n",
       "\n",
       "\\emph{Levels}: \\begin{enumerate*}\n",
       "\\item 'a1'\n",
       "\\item 'a2'\n",
       "\\item 'a3'\n",
       "\\item 'a4'\n",
       "\\item 'a5'\n",
       "\\end{enumerate*}\n"
      ],
      "text/markdown": [
       "1. a1\n",
       "2. a2\n",
       "3. a3\n",
       "4. a4\n",
       "5. a5\n",
       "\n",
       "\n",
       "\n",
       "**Levels**: 1. 'a1'\n",
       "2. 'a2'\n",
       "3. 'a3'\n",
       "4. 'a4'\n",
       "5. 'a5'\n",
       "\n",
       "\n"
      ],
      "text/plain": [
       "[1] a1 a2 a3 a4 a5\n",
       "Levels: a1 a2 a3 a4 a5"
      ]
     },
     "metadata": {},
     "output_type": "display_data"
    },
    {
     "data": {
      "text/html": [
       "'factor'"
      ],
      "text/latex": [
       "'factor'"
      ],
      "text/markdown": [
       "'factor'"
      ],
      "text/plain": [
       "[1] \"factor\""
      ]
     },
     "metadata": {},
     "output_type": "display_data"
    }
   ],
   "source": [
    "labels = unique(df$label)\n",
    "labels\n",
    "class(labels)"
   ]
  },
  {
   "cell_type": "markdown",
   "id": "b815c52d",
   "metadata": {},
   "source": [
    "### Access df by column names"
   ]
  },
  {
   "cell_type": "code",
   "execution_count": 3,
   "id": "5b0ef282",
   "metadata": {},
   "outputs": [
    {
     "data": {
      "text/html": [
       "<table>\n",
       "<thead><tr><th scope=col>x1</th><th scope=col>x2</th></tr></thead>\n",
       "<tbody>\n",
       "\t<tr><td> 1 </td><td>100</td></tr>\n",
       "\t<tr><td> 2 </td><td> NA</td></tr>\n",
       "\t<tr><td> 3 </td><td>300</td></tr>\n",
       "\t<tr><td>NA </td><td>400</td></tr>\n",
       "\t<tr><td>NA </td><td> NA</td></tr>\n",
       "</tbody>\n",
       "</table>\n"
      ],
      "text/latex": [
       "\\begin{tabular}{r|ll}\n",
       " x1 & x2\\\\\n",
       "\\hline\n",
       "\t  1  & 100\\\\\n",
       "\t  2  &  NA\\\\\n",
       "\t  3  & 300\\\\\n",
       "\t NA  & 400\\\\\n",
       "\t NA  &  NA\\\\\n",
       "\\end{tabular}\n"
      ],
      "text/markdown": [
       "\n",
       "| x1 | x2 |\n",
       "|---|---|\n",
       "|  1  | 100 |\n",
       "|  2  |  NA |\n",
       "|  3  | 300 |\n",
       "| NA  | 400 |\n",
       "| NA  |  NA |\n",
       "\n"
      ],
      "text/plain": [
       "  x1 x2 \n",
       "1  1 100\n",
       "2  2  NA\n",
       "3  3 300\n",
       "4 NA 400\n",
       "5 NA  NA"
      ]
     },
     "metadata": {},
     "output_type": "display_data"
    }
   ],
   "source": [
    "df_sub2 <- df[c('x1', 'x2')]\n",
    "df_sub2"
   ]
  },
  {
   "cell_type": "code",
   "execution_count": 4,
   "id": "c012c6ee",
   "metadata": {},
   "outputs": [
    {
     "data": {
      "text/html": [
       "<table>\n",
       "<thead><tr><th scope=col>x1</th></tr></thead>\n",
       "<tbody>\n",
       "\t<tr><td> 1</td></tr>\n",
       "\t<tr><td> 2</td></tr>\n",
       "\t<tr><td> 3</td></tr>\n",
       "\t<tr><td>NA</td></tr>\n",
       "\t<tr><td>NA</td></tr>\n",
       "</tbody>\n",
       "</table>\n"
      ],
      "text/latex": [
       "\\begin{tabular}{r|l}\n",
       " x1\\\\\n",
       "\\hline\n",
       "\t  1\\\\\n",
       "\t  2\\\\\n",
       "\t  3\\\\\n",
       "\t NA\\\\\n",
       "\t NA\\\\\n",
       "\\end{tabular}\n"
      ],
      "text/markdown": [
       "\n",
       "| x1 |\n",
       "|---|\n",
       "|  1 |\n",
       "|  2 |\n",
       "|  3 |\n",
       "| NA |\n",
       "| NA |\n",
       "\n"
      ],
      "text/plain": [
       "  x1\n",
       "1  1\n",
       "2  2\n",
       "3  3\n",
       "4 NA\n",
       "5 NA"
      ]
     },
     "metadata": {},
     "output_type": "display_data"
    },
    {
     "data": {
      "text/html": [
       "'data.frame'"
      ],
      "text/latex": [
       "'data.frame'"
      ],
      "text/markdown": [
       "'data.frame'"
      ],
      "text/plain": [
       "[1] \"data.frame\""
      ]
     },
     "metadata": {},
     "output_type": "display_data"
    }
   ],
   "source": [
    "df_sub1 <- df['x1']\n",
    "df_sub1\n",
    "class(df_sub1)"
   ]
  },
  {
   "cell_type": "markdown",
   "id": "008a76f0",
   "metadata": {},
   "source": [
    "### Set index for df instead of integer index"
   ]
  },
  {
   "cell_type": "code",
   "execution_count": 5,
   "id": "8224a0f8",
   "metadata": {},
   "outputs": [
    {
     "data": {
      "text/html": [
       "<table>\n",
       "<thead><tr><th></th><th scope=col>label</th><th scope=col>x1</th><th scope=col>x2</th></tr></thead>\n",
       "<tbody>\n",
       "\t<tr><th scope=row>a1</th><td>a1 </td><td> 1 </td><td>100</td></tr>\n",
       "\t<tr><th scope=row>a2</th><td>a2 </td><td> 2 </td><td> NA</td></tr>\n",
       "\t<tr><th scope=row>a3</th><td>a3 </td><td> 3 </td><td>300</td></tr>\n",
       "\t<tr><th scope=row>a4</th><td>a4 </td><td>NA </td><td>400</td></tr>\n",
       "\t<tr><th scope=row>a5</th><td>a5 </td><td>NA </td><td> NA</td></tr>\n",
       "</tbody>\n",
       "</table>\n"
      ],
      "text/latex": [
       "\\begin{tabular}{r|lll}\n",
       "  & label & x1 & x2\\\\\n",
       "\\hline\n",
       "\ta1 & a1  &  1  & 100\\\\\n",
       "\ta2 & a2  &  2  &  NA\\\\\n",
       "\ta3 & a3  &  3  & 300\\\\\n",
       "\ta4 & a4  & NA  & 400\\\\\n",
       "\ta5 & a5  & NA  &  NA\\\\\n",
       "\\end{tabular}\n"
      ],
      "text/markdown": [
       "\n",
       "| <!--/--> | label | x1 | x2 |\n",
       "|---|---|---|---|\n",
       "| a1 | a1  |  1  | 100 |\n",
       "| a2 | a2  |  2  |  NA |\n",
       "| a3 | a3  |  3  | 300 |\n",
       "| a4 | a4  | NA  | 400 |\n",
       "| a5 | a5  | NA  |  NA |\n",
       "\n"
      ],
      "text/plain": [
       "   label x1 x2 \n",
       "a1 a1     1 100\n",
       "a2 a2     2  NA\n",
       "a3 a3     3 300\n",
       "a4 a4    NA 400\n",
       "a5 a5    NA  NA"
      ]
     },
     "metadata": {},
     "output_type": "display_data"
    }
   ],
   "source": [
    "row.names(df) <- df$label\n",
    "df"
   ]
  },
  {
   "cell_type": "markdown",
   "id": "d1d45e66",
   "metadata": {},
   "source": [
    "### Remove a column in df"
   ]
  },
  {
   "cell_type": "code",
   "execution_count": 6,
   "id": "d1b9e3a4",
   "metadata": {},
   "outputs": [
    {
     "data": {
      "text/html": [
       "<table>\n",
       "<thead><tr><th></th><th scope=col>x1</th><th scope=col>x2</th></tr></thead>\n",
       "<tbody>\n",
       "\t<tr><th scope=row>a1</th><td> 1 </td><td>100</td></tr>\n",
       "\t<tr><th scope=row>a2</th><td> 2 </td><td> NA</td></tr>\n",
       "\t<tr><th scope=row>a3</th><td> 3 </td><td>300</td></tr>\n",
       "\t<tr><th scope=row>a4</th><td>NA </td><td>400</td></tr>\n",
       "\t<tr><th scope=row>a5</th><td>NA </td><td> NA</td></tr>\n",
       "</tbody>\n",
       "</table>\n"
      ],
      "text/latex": [
       "\\begin{tabular}{r|ll}\n",
       "  & x1 & x2\\\\\n",
       "\\hline\n",
       "\ta1 &  1  & 100\\\\\n",
       "\ta2 &  2  &  NA\\\\\n",
       "\ta3 &  3  & 300\\\\\n",
       "\ta4 & NA  & 400\\\\\n",
       "\ta5 & NA  &  NA\\\\\n",
       "\\end{tabular}\n"
      ],
      "text/markdown": [
       "\n",
       "| <!--/--> | x1 | x2 |\n",
       "|---|---|---|\n",
       "| a1 |  1  | 100 |\n",
       "| a2 |  2  |  NA |\n",
       "| a3 |  3  | 300 |\n",
       "| a4 | NA  | 400 |\n",
       "| a5 | NA  |  NA |\n",
       "\n"
      ],
      "text/plain": [
       "   x1 x2 \n",
       "a1  1 100\n",
       "a2  2  NA\n",
       "a3  3 300\n",
       "a4 NA 400\n",
       "a5 NA  NA"
      ]
     },
     "metadata": {},
     "output_type": "display_data"
    }
   ],
   "source": [
    "df <- subset(df, select = -c(label))\n",
    "df"
   ]
  },
  {
   "cell_type": "markdown",
   "id": "1432d634",
   "metadata": {},
   "source": [
    "### remove \"rows\" in a dataframe with a NA value in one of the columns"
   ]
  },
  {
   "cell_type": "code",
   "execution_count": 7,
   "id": "56d6b62b",
   "metadata": {},
   "outputs": [
    {
     "data": {
      "text/html": [
       "<table>\n",
       "<thead><tr><th></th><th scope=col>x1</th><th scope=col>x2</th></tr></thead>\n",
       "<tbody>\n",
       "\t<tr><th scope=row>a1</th><td>1  </td><td>100</td></tr>\n",
       "\t<tr><th scope=row>a3</th><td>3  </td><td>300</td></tr>\n",
       "</tbody>\n",
       "</table>\n"
      ],
      "text/latex": [
       "\\begin{tabular}{r|ll}\n",
       "  & x1 & x2\\\\\n",
       "\\hline\n",
       "\ta1 & 1   & 100\\\\\n",
       "\ta3 & 3   & 300\\\\\n",
       "\\end{tabular}\n"
      ],
      "text/markdown": [
       "\n",
       "| <!--/--> | x1 | x2 |\n",
       "|---|---|---|\n",
       "| a1 | 1   | 100 |\n",
       "| a3 | 3   | 300 |\n",
       "\n"
      ],
      "text/plain": [
       "   x1 x2 \n",
       "a1 1  100\n",
       "a3 3  300"
      ]
     },
     "metadata": {},
     "output_type": "display_data"
    }
   ],
   "source": [
    "df1 = na.omit(df)\n",
    "df1"
   ]
  },
  {
   "cell_type": "markdown",
   "id": "b003bc9a",
   "metadata": {},
   "source": [
    "### remove \"rows\" in a dataframe with all NA"
   ]
  },
  {
   "cell_type": "code",
   "execution_count": 8,
   "id": "9795d545",
   "metadata": {},
   "outputs": [
    {
     "data": {
      "text/html": [
       "<table>\n",
       "<thead><tr><th scope=col>x1</th><th scope=col>x2</th></tr></thead>\n",
       "<tbody>\n",
       "\t<tr><td> 1 </td><td>100</td></tr>\n",
       "\t<tr><td> 2 </td><td> NA</td></tr>\n",
       "\t<tr><td> 3 </td><td>300</td></tr>\n",
       "\t<tr><td>NA </td><td>400</td></tr>\n",
       "</tbody>\n",
       "</table>\n"
      ],
      "text/latex": [
       "\\begin{tabular}{r|ll}\n",
       " x1 & x2\\\\\n",
       "\\hline\n",
       "\t  1  & 100\\\\\n",
       "\t  2  &  NA\\\\\n",
       "\t  3  & 300\\\\\n",
       "\t NA  & 400\\\\\n",
       "\\end{tabular}\n"
      ],
      "text/markdown": [
       "\n",
       "| x1 | x2 |\n",
       "|---|---|\n",
       "|  1  | 100 |\n",
       "|  2  |  NA |\n",
       "|  3  | 300 |\n",
       "| NA  | 400 |\n",
       "\n"
      ],
      "text/plain": [
       "  x1 x2 \n",
       "1  1 100\n",
       "2  2  NA\n",
       "3  3 300\n",
       "4 NA 400"
      ]
     },
     "metadata": {},
     "output_type": "display_data"
    }
   ],
   "source": [
    "df %>% filter_all(any_vars(!is.na(.)))"
   ]
  },
  {
   "cell_type": "markdown",
   "id": "c3375dd8",
   "metadata": {},
   "source": [
    "### Get column names"
   ]
  },
  {
   "cell_type": "code",
   "execution_count": 10,
   "id": "4086cdc0",
   "metadata": {},
   "outputs": [
    {
     "data": {
      "text/html": [
       "<ol class=list-inline>\n",
       "\t<li>'x1'</li>\n",
       "\t<li>'x2'</li>\n",
       "</ol>\n"
      ],
      "text/latex": [
       "\\begin{enumerate*}\n",
       "\\item 'x1'\n",
       "\\item 'x2'\n",
       "\\end{enumerate*}\n"
      ],
      "text/markdown": [
       "1. 'x1'\n",
       "2. 'x2'\n",
       "\n",
       "\n"
      ],
      "text/plain": [
       "[1] \"x1\" \"x2\""
      ]
     },
     "metadata": {},
     "output_type": "display_data"
    },
    {
     "data": {
      "text/html": [
       "'character'"
      ],
      "text/latex": [
       "'character'"
      ],
      "text/markdown": [
       "'character'"
      ],
      "text/plain": [
       "[1] \"character\""
      ]
     },
     "metadata": {},
     "output_type": "display_data"
    }
   ],
   "source": [
    "# col_names = colnames(df)\n",
    "col_names = names(df)\n",
    "col_names\n",
    "class(col_names)"
   ]
  },
  {
   "cell_type": "markdown",
   "id": "f0ee3f8e",
   "metadata": {},
   "source": [
    "## II. Transform multi-level JSON to Dataframe"
   ]
  },
  {
   "cell_type": "markdown",
   "id": "6329e3bf",
   "metadata": {},
   "source": [
    "### 1. Make a raw json string for testing"
   ]
  },
  {
   "cell_type": "code",
   "execution_count": 37,
   "id": "ad904e77",
   "metadata": {},
   "outputs": [
    {
     "data": {
      "text/html": [
       "<span style=white-space:pre-wrap>'{\\n    \"_id\" : \"AAA1\",\\n    \"individualCode\" : \"HBD001\",\\n    \"Samples\" : [ \\n        {\\n            \"filename\" : \"PBMCs_APC HBD001 ACD-A 17apr18_088·fcs\",\\n            \"project\" : \"CPI\",\\n            \"markers\" : [ \\n                {\\n                    \"name\" : \"NK (%LC)\",\\n                    \"value\" : 17.92,\\n                    \"confidence\" : \"\",\\n                    \"interpretation\" : \"\"\\n                }, \\n                {\\n                    \"name\" : \"NK- 1 (%LC)\",\\n                    \"value\" : 1.35,\\n                    \"confidence\" : \"\",\\n                    \"interpretation\" : \"\"\\n                }              \\n            ]\\n        }, \\n        {\\n            \"filename\" : \"PBMCs_Th cell HBD001 ACD-A 18apr18_045·fcs\",\\n            \"project\" : \"CPI\",\\n            \"markers\" : [ \\n                {\\n                    \"name\" : \"Exhausted (%CD4)\",\\n                    \"value\" : 0.29,\\n                    \"confidence\" : \"\",\\n                    \"interpretation\" : \"\"\\n                }, \\n                {\\n                    \"name\" : \"R5 Th1 (%CD4)\",\\n                    \"value\" : 1.23,\\n                    \"confidence\" : \"\",\\n                    \"interpretation\" : \"\"\\n                }\\n            ]\\n        }\\n    ]\\n}'</span>"
      ],
      "text/latex": [
       "'\\{\\textbackslash{}n    \"\\_id\" : \"AAA1\",\\textbackslash{}n    \"individualCode\" : \"HBD001\",\\textbackslash{}n    \"Samples\" : {[} \\textbackslash{}n        \\{\\textbackslash{}n            \"filename\" : \"PBMCs\\_APC HBD001 ACD-A 17apr18\\_088·fcs\",\\textbackslash{}n            \"project\" : \"CPI\",\\textbackslash{}n            \"markers\" : {[} \\textbackslash{}n                \\{\\textbackslash{}n                    \"name\" : \"NK (\\%LC)\",\\textbackslash{}n                    \"value\" : 17.92,\\textbackslash{}n                    \"confidence\" : \"\",\\textbackslash{}n                    \"interpretation\" : \"\"\\textbackslash{}n                \\}, \\textbackslash{}n                \\{\\textbackslash{}n                    \"name\" : \"NK- 1 (\\%LC)\",\\textbackslash{}n                    \"value\" : 1.35,\\textbackslash{}n                    \"confidence\" : \"\",\\textbackslash{}n                    \"interpretation\" : \"\"\\textbackslash{}n                \\}              \\textbackslash{}n            {]}\\textbackslash{}n        \\}, \\textbackslash{}n        \\{\\textbackslash{}n            \"filename\" : \"PBMCs\\_Th cell HBD001 ACD-A 18apr18\\_045·fcs\",\\textbackslash{}n            \"project\" : \"CPI\",\\textbackslash{}n            \"markers\" : {[} \\textbackslash{}n                \\{\\textbackslash{}n                    \"name\" : \"Exhausted (\\%CD4)\",\\textbackslash{}n                    \"value\" : 0.29,\\textbackslash{}n                    \"confidence\" : \"\",\\textbackslash{}n                    \"interpretation\" : \"\"\\textbackslash{}n                \\}, \\textbackslash{}n                \\{\\textbackslash{}n                    \"name\" : \"R5 Th1 (\\%CD4)\",\\textbackslash{}n                    \"value\" : 1.23,\\textbackslash{}n                    \"confidence\" : \"\",\\textbackslash{}n                    \"interpretation\" : \"\"\\textbackslash{}n                \\}\\textbackslash{}n            {]}\\textbackslash{}n        \\}\\textbackslash{}n    {]}\\textbackslash{}n\\}'"
      ],
      "text/markdown": [
       "<span style=white-space:pre-wrap>'{\\n    \"_id\" : \"AAA1\",\\n    \"individualCode\" : \"HBD001\",\\n    \"Samples\" : [ \\n        {\\n            \"filename\" : \"PBMCs_APC HBD001 ACD-A 17apr18_088·fcs\",\\n            \"project\" : \"CPI\",\\n            \"markers\" : [ \\n                {\\n                    \"name\" : \"NK (%LC)\",\\n                    \"value\" : 17.92,\\n                    \"confidence\" : \"\",\\n                    \"interpretation\" : \"\"\\n                }, \\n                {\\n                    \"name\" : \"NK- 1 (%LC)\",\\n                    \"value\" : 1.35,\\n                    \"confidence\" : \"\",\\n                    \"interpretation\" : \"\"\\n                }              \\n            ]\\n        }, \\n        {\\n            \"filename\" : \"PBMCs_Th cell HBD001 ACD-A 18apr18_045·fcs\",\\n            \"project\" : \"CPI\",\\n            \"markers\" : [ \\n                {\\n                    \"name\" : \"Exhausted (%CD4)\",\\n                    \"value\" : 0.29,\\n                    \"confidence\" : \"\",\\n                    \"interpretation\" : \"\"\\n                }, \\n                {\\n                    \"name\" : \"R5 Th1 (%CD4)\",\\n                    \"value\" : 1.23,\\n                    \"confidence\" : \"\",\\n                    \"interpretation\" : \"\"\\n                }\\n            ]\\n        }\\n    ]\\n}'</span>"
      ],
      "text/plain": [
       "[1] \"{\\n    \\\"_id\\\" : \\\"AAA1\\\",\\n    \\\"individualCode\\\" : \\\"HBD001\\\",\\n    \\\"Samples\\\" : [ \\n        {\\n            \\\"filename\\\" : \\\"PBMCs_APC HBD001 ACD-A 17apr18_088·fcs\\\",\\n            \\\"project\\\" : \\\"CPI\\\",\\n            \\\"markers\\\" : [ \\n                {\\n                    \\\"name\\\" : \\\"NK (%LC)\\\",\\n                    \\\"value\\\" : 17.92,\\n                    \\\"confidence\\\" : \\\"\\\",\\n                    \\\"interpretation\\\" : \\\"\\\"\\n                }, \\n                {\\n                    \\\"name\\\" : \\\"NK- 1 (%LC)\\\",\\n                    \\\"value\\\" : 1.35,\\n                    \\\"confidence\\\" : \\\"\\\",\\n                    \\\"interpretation\\\" : \\\"\\\"\\n                }              \\n            ]\\n        }, \\n        {\\n            \\\"filename\\\" : \\\"PBMCs_Th cell HBD001 ACD-A 18apr18_045·fcs\\\",\\n            \\\"project\\\" : \\\"CPI\\\",\\n            \\\"markers\\\" : [ \\n                {\\n                    \\\"name\\\" : \\\"Exhausted (%CD4)\\\",\\n                    \\\"value\\\" : 0.29,\\n                    \\\"confidence\\\" : \\\"\\\",\\n                    \\\"interpretation\\\" : \\\"\\\"\\n                }, \\n                {\\n                    \\\"name\\\" : \\\"R5 Th1 (%CD4)\\\",\\n                    \\\"value\\\" : 1.23,\\n                    \\\"confidence\\\" : \\\"\\\",\\n                    \\\"interpretation\\\" : \\\"\\\"\\n                }\\n            ]\\n        }\\n    ]\\n}\""
      ]
     },
     "metadata": {},
     "output_type": "display_data"
    }
   ],
   "source": [
    "library(jsonlite)\n",
    "\n",
    "json_str <- '{\n",
    "    \"_id\" : \"AAA1\",\n",
    "    \"individualCode\" : \"HBD001\",\n",
    "    \"Samples\" : [ \n",
    "        {\n",
    "            \"filename\" : \"PBMCs_APC HBD001 ACD-A 17apr18_088․fcs\",\n",
    "            \"project\" : \"CPI\",\n",
    "            \"markers\" : [ \n",
    "                {\n",
    "                    \"name\" : \"NK (%LC)\",\n",
    "                    \"value\" : 17.92,\n",
    "                    \"confidence\" : \"\",\n",
    "                    \"interpretation\" : \"\"\n",
    "                }, \n",
    "                {\n",
    "                    \"name\" : \"NK- 1 (%LC)\",\n",
    "                    \"value\" : 1.35,\n",
    "                    \"confidence\" : \"\",\n",
    "                    \"interpretation\" : \"\"\n",
    "                }              \n",
    "            ]\n",
    "        }, \n",
    "        {\n",
    "            \"filename\" : \"PBMCs_Th cell HBD001 ACD-A 18apr18_045․fcs\",\n",
    "            \"project\" : \"CPI\",\n",
    "            \"markers\" : [ \n",
    "                {\n",
    "                    \"name\" : \"Exhausted (%CD4)\",\n",
    "                    \"value\" : 0.29,\n",
    "                    \"confidence\" : \"\",\n",
    "                    \"interpretation\" : \"\"\n",
    "                }, \n",
    "                {\n",
    "                    \"name\" : \"R5 Th1 (%CD4)\",\n",
    "                    \"value\" : 1.23,\n",
    "                    \"confidence\" : \"\",\n",
    "                    \"interpretation\" : \"\"\n",
    "                }\n",
    "            ]\n",
    "        }\n",
    "    ]\n",
    "}'\n",
    "\n",
    "json_str"
   ]
  },
  {
   "cell_type": "markdown",
   "id": "6e91bfa0",
   "metadata": {},
   "source": [
    "### 2. Convert json string to R object"
   ]
  },
  {
   "cell_type": "code",
   "execution_count": 38,
   "id": "156eef0d",
   "metadata": {},
   "outputs": [
    {
     "data": {
      "text/html": [
       "<dl>\n",
       "\t<dt>$`_id`</dt>\n",
       "\t\t<dd>'AAA1'</dd>\n",
       "\t<dt>$individualCode</dt>\n",
       "\t\t<dd>'HBD001'</dd>\n",
       "\t<dt>$Samples</dt>\n",
       "\t\t<dd><table>\n",
       "<thead><tr><th scope=col>filename</th><th scope=col>project</th><th scope=col>markers</th></tr></thead>\n",
       "<tbody>\n",
       "\t<tr><td>PBMCs_APC HBD001 ACD-A 17apr18_088·fcs                                                                </td><td>CPI                                                                                                   </td><td>NK (%LC)   , NK- 1 (%LC), 17.92      , 1.35       ,            ,            ,            ,            </td></tr>\n",
       "\t<tr><td>PBMCs_Th cell HBD001 ACD-A 18apr18_045·fcs                                                                                                    </td><td>CPI                                                                                                                                           </td><td>Exhausted (%CD4), R5 Th1 (%CD4)   , 0.29            , 1.23            ,                 ,                 ,                 ,                 </td></tr>\n",
       "</tbody>\n",
       "</table>\n",
       "</dd>\n",
       "</dl>\n"
      ],
      "text/latex": [
       "\\begin{description}\n",
       "\\item[\\$`\\_id`] 'AAA1'\n",
       "\\item[\\$individualCode] 'HBD001'\n",
       "\\item[\\$Samples] \\begin{tabular}{r|lll}\n",
       " filename & project & markers\\\\\n",
       "\\hline\n",
       "\t PBMCs\\_APC HBD001 ACD-A 17apr18\\_088·fcs                                                                 & CPI                                                                                                        & NK (\\%LC)   , NK- 1 (\\%LC), 17.92      , 1.35       ,            ,            ,            ,            \\\\\n",
       "\t PBMCs\\_Th cell HBD001 ACD-A 18apr18\\_045·fcs                                                                                                     & CPI                                                                                                                                                & Exhausted (\\%CD4), R5 Th1 (\\%CD4)   , 0.29            , 1.23            ,                 ,                 ,                 ,                 \\\\\n",
       "\\end{tabular}\n",
       "\n",
       "\\end{description}\n"
      ],
      "text/markdown": [
       "$`_id`\n",
       ":   'AAA1'\n",
       "$individualCode\n",
       ":   'HBD001'\n",
       "$Samples\n",
       ":   \n",
       "| filename | project | markers |\n",
       "|---|---|---|\n",
       "| PBMCs_APC HBD001 ACD-A 17apr18_088·fcs                                                                 | CPI                                                                                                    | NK (%LC)   , NK- 1 (%LC), 17.92      , 1.35       ,            ,            ,            ,             |\n",
       "| PBMCs_Th cell HBD001 ACD-A 18apr18_045·fcs                                                                                                     | CPI                                                                                                                                            | Exhausted (%CD4), R5 Th1 (%CD4)   , 0.29            , 1.23            ,                 ,                 ,                 ,                  |\n",
       "\n",
       "\n",
       "\n",
       "\n"
      ],
      "text/plain": [
       "$`_id`\n",
       "[1] \"AAA1\"\n",
       "\n",
       "$individualCode\n",
       "[1] \"HBD001\"\n",
       "\n",
       "$Samples\n",
       "                                    filename project\n",
       "1     PBMCs_APC HBD001 ACD-A 17apr18_088·fcs     CPI\n",
       "2 PBMCs_Th cell HBD001 ACD-A 18apr18_045·fcs     CPI\n",
       "                                              markers\n",
       "1          NK (%LC), NK- 1 (%LC), 17.92, 1.35, , , , \n",
       "2 Exhausted (%CD4), R5 Th1 (%CD4), 0.29, 1.23, , , , \n"
      ]
     },
     "metadata": {},
     "output_type": "display_data"
    }
   ],
   "source": [
    "list_json <- fromJSON(json_str)\n",
    "list_json"
   ]
  },
  {
   "cell_type": "markdown",
   "id": "9dadf4e8",
   "metadata": {},
   "source": [
    "### 3. Convert R list object to DataFrame"
   ]
  },
  {
   "cell_type": "code",
   "execution_count": 43,
   "id": "c77710b9",
   "metadata": {
    "scrolled": false
   },
   "outputs": [
    {
     "data": {
      "text/html": [
       "<table>\n",
       "<thead><tr><th scope=col>_id</th><th scope=col>individualCode</th><th scope=col>Samples.filename</th><th scope=col>Samples.project</th><th scope=col>Samples.markers</th></tr></thead>\n",
       "<tbody>\n",
       "\t<tr><td>AAA1                                                                                                  </td><td>HBD001                                                                                                </td><td>PBMCs_APC HBD001 ACD-A 17apr18_088·fcs                                                                </td><td>CPI                                                                                                   </td><td>NK (%LC)   , NK- 1 (%LC), 17.92      , 1.35       ,            ,            ,            ,            </td></tr>\n",
       "\t<tr><td>AAA1                                                                                                                                          </td><td>HBD001                                                                                                                                        </td><td>PBMCs_Th cell HBD001 ACD-A 18apr18_045·fcs                                                                                                    </td><td>CPI                                                                                                                                           </td><td>Exhausted (%CD4), R5 Th1 (%CD4)   , 0.29            , 1.23            ,                 ,                 ,                 ,                 </td></tr>\n",
       "</tbody>\n",
       "</table>\n"
      ],
      "text/latex": [
       "\\begin{tabular}{r|lllll}\n",
       " \\_id & individualCode & Samples.filename & Samples.project & Samples.markers\\\\\n",
       "\\hline\n",
       "\t AAA1                                                                                                       & HBD001                                                                                                     & PBMCs\\_APC HBD001 ACD-A 17apr18\\_088·fcs                                                                 & CPI                                                                                                        & NK (\\%LC)   , NK- 1 (\\%LC), 17.92      , 1.35       ,            ,            ,            ,            \\\\\n",
       "\t AAA1                                                                                                                                               & HBD001                                                                                                                                             & PBMCs\\_Th cell HBD001 ACD-A 18apr18\\_045·fcs                                                                                                     & CPI                                                                                                                                                & Exhausted (\\%CD4), R5 Th1 (\\%CD4)   , 0.29            , 1.23            ,                 ,                 ,                 ,                 \\\\\n",
       "\\end{tabular}\n"
      ],
      "text/markdown": [
       "\n",
       "| _id | individualCode | Samples.filename | Samples.project | Samples.markers |\n",
       "|---|---|---|---|---|\n",
       "| AAA1                                                                                                   | HBD001                                                                                                 | PBMCs_APC HBD001 ACD-A 17apr18_088·fcs                                                                 | CPI                                                                                                    | NK (%LC)   , NK- 1 (%LC), 17.92      , 1.35       ,            ,            ,            ,             |\n",
       "| AAA1                                                                                                                                           | HBD001                                                                                                                                         | PBMCs_Th cell HBD001 ACD-A 18apr18_045·fcs                                                                                                     | CPI                                                                                                                                            | Exhausted (%CD4), R5 Th1 (%CD4)   , 0.29            , 1.23            ,                 ,                 ,                 ,                  |\n",
       "\n"
      ],
      "text/plain": [
       "  _id  individualCode Samples.filename                          \n",
       "1 AAA1 HBD001         PBMCs_APC HBD001 ACD-A 17apr18_088·fcs    \n",
       "2 AAA1 HBD001         PBMCs_Th cell HBD001 ACD-A 18apr18_045·fcs\n",
       "  Samples.project\n",
       "1 CPI            \n",
       "2 CPI            \n",
       "  Samples.markers                                                                                                                               \n",
       "1 NK (%LC)   , NK- 1 (%LC), 17.92      , 1.35       ,            ,            ,            ,                                                    \n",
       "2 Exhausted (%CD4), R5 Th1 (%CD4)   , 0.29            , 1.23            ,                 ,                 ,                 ,                 "
      ]
     },
     "metadata": {},
     "output_type": "display_data"
    }
   ],
   "source": [
    "df <- do.call(\"cbind\", list_json)\n",
    "df"
   ]
  },
  {
   "cell_type": "markdown",
   "id": "66cf1649",
   "metadata": {},
   "source": [
    "### 4.  DataFrame of markers (Optional)"
   ]
  },
  {
   "cell_type": "code",
   "execution_count": 46,
   "id": "2bcbd85f",
   "metadata": {},
   "outputs": [
    {
     "data": {
      "text/html": [
       "<ol>\n",
       "\t<li><table>\n",
       "<thead><tr><th scope=col>name</th><th scope=col>value</th><th scope=col>confidence</th><th scope=col>interpretation</th></tr></thead>\n",
       "<tbody>\n",
       "\t<tr><td>NK (%LC)   </td><td>17.92      </td><td>           </td><td>           </td></tr>\n",
       "\t<tr><td>NK- 1 (%LC)</td><td> 1.35      </td><td>           </td><td>           </td></tr>\n",
       "</tbody>\n",
       "</table>\n",
       "</li>\n",
       "\t<li><table>\n",
       "<thead><tr><th scope=col>name</th><th scope=col>value</th><th scope=col>confidence</th><th scope=col>interpretation</th></tr></thead>\n",
       "<tbody>\n",
       "\t<tr><td>Exhausted (%CD4)</td><td>0.29            </td><td>                </td><td>                </td></tr>\n",
       "\t<tr><td>R5 Th1 (%CD4)   </td><td>1.23            </td><td>                </td><td>                </td></tr>\n",
       "</tbody>\n",
       "</table>\n",
       "</li>\n",
       "</ol>\n"
      ],
      "text/latex": [
       "\\begin{enumerate}\n",
       "\\item \\begin{tabular}{r|llll}\n",
       " name & value & confidence & interpretation\\\\\n",
       "\\hline\n",
       "\t NK (\\%LC)    & 17.92         &               &              \\\\\n",
       "\t NK- 1 (\\%LC) &  1.35         &               &              \\\\\n",
       "\\end{tabular}\n",
       "\n",
       "\\item \\begin{tabular}{r|llll}\n",
       " name & value & confidence & interpretation\\\\\n",
       "\\hline\n",
       "\t Exhausted (\\%CD4) & 0.29               &                    &                   \\\\\n",
       "\t R5 Th1 (\\%CD4)    & 1.23               &                    &                   \\\\\n",
       "\\end{tabular}\n",
       "\n",
       "\\end{enumerate}\n"
      ],
      "text/markdown": [
       "1. \n",
       "| name | value | confidence | interpretation |\n",
       "|---|---|---|---|\n",
       "| NK (%LC)    | 17.92       |             |             |\n",
       "| NK- 1 (%LC) |  1.35       |             |             |\n",
       "\n",
       "\n",
       "2. \n",
       "| name | value | confidence | interpretation |\n",
       "|---|---|---|---|\n",
       "| Exhausted (%CD4) | 0.29             |                  |                  |\n",
       "| R5 Th1 (%CD4)    | 1.23             |                  |                  |\n",
       "\n",
       "\n",
       "\n",
       "\n"
      ],
      "text/plain": [
       "[[1]]\n",
       "         name value confidence interpretation\n",
       "1    NK (%LC) 17.92                          \n",
       "2 NK- 1 (%LC)  1.35                          \n",
       "\n",
       "[[2]]\n",
       "              name value confidence interpretation\n",
       "1 Exhausted (%CD4)  0.29                          \n",
       "2    R5 Th1 (%CD4)  1.23                          \n"
      ]
     },
     "metadata": {},
     "output_type": "display_data"
    }
   ],
   "source": [
    "# Check\n",
    "list_markers <- df$Samples.markers\n",
    "list_markers"
   ]
  },
  {
   "cell_type": "code",
   "execution_count": 47,
   "id": "8437908f",
   "metadata": {},
   "outputs": [
    {
     "name": "stderr",
     "output_type": "stream",
     "text": [
      "\n",
      "Attaching package: 'data.table'\n",
      "\n",
      "The following objects are masked from 'package:dplyr':\n",
      "\n",
      "    between, first, last\n",
      "\n",
      "The following object is masked from 'package:purrr':\n",
      "\n",
      "    transpose\n",
      "\n"
     ]
    },
    {
     "data": {
      "text/html": [
       "<table>\n",
       "<thead><tr><th scope=col>name</th><th scope=col>value</th><th scope=col>confidence</th><th scope=col>interpretation</th></tr></thead>\n",
       "<tbody>\n",
       "\t<tr><td>NK (%LC)        </td><td>17.92           </td><td>                </td><td>                </td></tr>\n",
       "\t<tr><td>NK- 1 (%LC)     </td><td> 1.35           </td><td>                </td><td>                </td></tr>\n",
       "\t<tr><td>Exhausted (%CD4)</td><td> 0.29           </td><td>                </td><td>                </td></tr>\n",
       "\t<tr><td>R5 Th1 (%CD4)   </td><td> 1.23           </td><td>                </td><td>                </td></tr>\n",
       "</tbody>\n",
       "</table>\n"
      ],
      "text/latex": [
       "\\begin{tabular}{r|llll}\n",
       " name & value & confidence & interpretation\\\\\n",
       "\\hline\n",
       "\t NK (\\%LC)         & 17.92              &                    &                   \\\\\n",
       "\t NK- 1 (\\%LC)      &  1.35              &                    &                   \\\\\n",
       "\t Exhausted (\\%CD4) &  0.29              &                    &                   \\\\\n",
       "\t R5 Th1 (\\%CD4)    &  1.23              &                    &                   \\\\\n",
       "\\end{tabular}\n"
      ],
      "text/markdown": [
       "\n",
       "| name | value | confidence | interpretation |\n",
       "|---|---|---|---|\n",
       "| NK (%LC)         | 17.92            |                  |                  |\n",
       "| NK- 1 (%LC)      |  1.35            |                  |                  |\n",
       "| Exhausted (%CD4) |  0.29            |                  |                  |\n",
       "| R5 Th1 (%CD4)    |  1.23            |                  |                  |\n",
       "\n"
      ],
      "text/plain": [
       "  name             value confidence interpretation\n",
       "1 NK (%LC)         17.92                          \n",
       "2 NK- 1 (%LC)       1.35                          \n",
       "3 Exhausted (%CD4)  0.29                          \n",
       "4 R5 Th1 (%CD4)     1.23                          "
      ]
     },
     "metadata": {},
     "output_type": "display_data"
    }
   ],
   "source": [
    "library(data.table)\n",
    "\n",
    "df_markers <- rbindlist(list_markers, fill=TRUE)\n",
    "df_markers"
   ]
  },
  {
   "cell_type": "code",
   "execution_count": 50,
   "id": "32c0a87b",
   "metadata": {},
   "outputs": [
    {
     "data": {
      "text/html": [
       "<table>\n",
       "<thead><tr><th scope=col>name</th><th scope=col>HBD001</th><th scope=col>confidence</th><th scope=col>interpretation</th></tr></thead>\n",
       "<tbody>\n",
       "\t<tr><td>NK (%LC)        </td><td>17.92           </td><td>                </td><td>                </td></tr>\n",
       "\t<tr><td>NK- 1 (%LC)     </td><td> 1.35           </td><td>                </td><td>                </td></tr>\n",
       "\t<tr><td>Exhausted (%CD4)</td><td> 0.29           </td><td>                </td><td>                </td></tr>\n",
       "\t<tr><td>R5 Th1 (%CD4)   </td><td> 1.23           </td><td>                </td><td>                </td></tr>\n",
       "</tbody>\n",
       "</table>\n"
      ],
      "text/latex": [
       "\\begin{tabular}{r|llll}\n",
       " name & HBD001 & confidence & interpretation\\\\\n",
       "\\hline\n",
       "\t NK (\\%LC)         & 17.92              &                    &                   \\\\\n",
       "\t NK- 1 (\\%LC)      &  1.35              &                    &                   \\\\\n",
       "\t Exhausted (\\%CD4) &  0.29              &                    &                   \\\\\n",
       "\t R5 Th1 (\\%CD4)    &  1.23              &                    &                   \\\\\n",
       "\\end{tabular}\n"
      ],
      "text/markdown": [
       "\n",
       "| name | HBD001 | confidence | interpretation |\n",
       "|---|---|---|---|\n",
       "| NK (%LC)         | 17.92            |                  |                  |\n",
       "| NK- 1 (%LC)      |  1.35            |                  |                  |\n",
       "| Exhausted (%CD4) |  0.29            |                  |                  |\n",
       "| R5 Th1 (%CD4)    |  1.23            |                  |                  |\n",
       "\n"
      ],
      "text/plain": [
       "  name             HBD001 confidence interpretation\n",
       "1 NK (%LC)         17.92                           \n",
       "2 NK- 1 (%LC)       1.35                           \n",
       "3 Exhausted (%CD4)  0.29                           \n",
       "4 R5 Th1 (%CD4)     1.23                           "
      ]
     },
     "metadata": {},
     "output_type": "display_data"
    }
   ],
   "source": [
    "# at df_markers: change column name to HBD001\n",
    "colnames(df_markers)[colnames(df_markers) == 'value'] <- 'HBD001'\n",
    "df_markers"
   ]
  },
  {
   "cell_type": "markdown",
   "id": "eb093dac",
   "metadata": {},
   "source": [
    "### Create a function"
   ]
  },
  {
   "cell_type": "code",
   "execution_count": 65,
   "id": "560f8651",
   "metadata": {},
   "outputs": [],
   "source": [
    "transform_df <- function(df, newColname){\n",
    "    list_Samples <- df$Samples\n",
    "    df_Samples <- rbindlist(list_Samples, fill=TRUE)\n",
    "    list_markers <- df_Samples$markers\n",
    "    df_markers <- rbindlist(list_markers, fill=TRUE)\n",
    "    colnames(df_markers)[colnames(df_markers) == 'value'] <- newColname\n",
    "    return (df_markers)\n",
    "}"
   ]
  },
  {
   "cell_type": "markdown",
   "id": "8a38441c",
   "metadata": {},
   "source": [
    "## IV. Merge two Dataframes  \n",
    "```\n",
    "cbind() – combining the columns of two data frames side-by-side\n",
    "rbind() – stacking two data frames on top of each other, appending one to the other\n",
    "merge() – joining two data frames using a common column\n",
    "```"
   ]
  },
  {
   "cell_type": "markdown",
   "id": "07fc29aa",
   "metadata": {},
   "source": [
    "### 1. Merge"
   ]
  },
  {
   "cell_type": "code",
   "execution_count": 57,
   "id": "25515fdd",
   "metadata": {},
   "outputs": [
    {
     "data": {
      "text/html": [
       "<table>\n",
       "<thead><tr><th scope=col>surname</th><th scope=col>nationality</th><th scope=col>retired</th></tr></thead>\n",
       "<tbody>\n",
       "\t<tr><td>AA       </td><td>US       </td><td>yes      </td></tr>\n",
       "\t<tr><td>BB       </td><td>Australia</td><td>no       </td></tr>\n",
       "\t<tr><td>EE       </td><td>US       </td><td>no       </td></tr>\n",
       "</tbody>\n",
       "</table>\n"
      ],
      "text/latex": [
       "\\begin{tabular}{r|lll}\n",
       " surname & nationality & retired\\\\\n",
       "\\hline\n",
       "\t AA        & US        & yes      \\\\\n",
       "\t BB        & Australia & no       \\\\\n",
       "\t EE        & US        & no       \\\\\n",
       "\\end{tabular}\n"
      ],
      "text/markdown": [
       "\n",
       "| surname | nationality | retired |\n",
       "|---|---|---|\n",
       "| AA        | US        | yes       |\n",
       "| BB        | Australia | no        |\n",
       "| EE        | US        | no        |\n",
       "\n"
      ],
      "text/plain": [
       "  surname nationality retired\n",
       "1 AA      US          yes    \n",
       "2 BB      Australia   no     \n",
       "3 EE      US          no     "
      ]
     },
     "metadata": {},
     "output_type": "display_data"
    }
   ],
   "source": [
    "df_authors <- data.frame(\n",
    "    surname = c(\"AA\", \"BB\", \"EE\"),\n",
    "    nationality = c(\"US\", \"Australia\", \"US\"),\n",
    "    retired = c(\"yes\", rep(\"no\", 2)))\n",
    "df_authors"
   ]
  },
  {
   "cell_type": "code",
   "execution_count": 60,
   "id": "82adf85e",
   "metadata": {},
   "outputs": [
    {
     "data": {
      "text/html": [
       "<table>\n",
       "<thead><tr><th scope=col>name</th><th scope=col>title</th></tr></thead>\n",
       "<tbody>\n",
       "\t<tr><td>AA    </td><td>Title1</td></tr>\n",
       "\t<tr><td>DD    </td><td>NA    </td></tr>\n",
       "\t<tr><td>BB    </td><td>Title3</td></tr>\n",
       "</tbody>\n",
       "</table>\n"
      ],
      "text/latex": [
       "\\begin{tabular}{r|ll}\n",
       " name & title\\\\\n",
       "\\hline\n",
       "\t AA     & Title1\\\\\n",
       "\t DD     & NA    \\\\\n",
       "\t BB     & Title3\\\\\n",
       "\\end{tabular}\n"
      ],
      "text/markdown": [
       "\n",
       "| name | title |\n",
       "|---|---|\n",
       "| AA     | Title1 |\n",
       "| DD     | NA     |\n",
       "| BB     | Title3 |\n",
       "\n"
      ],
      "text/plain": [
       "  name title \n",
       "1 AA   Title1\n",
       "2 DD   NA    \n",
       "3 BB   Title3"
      ]
     },
     "metadata": {},
     "output_type": "display_data"
    }
   ],
   "source": [
    "df_books <- data.frame(\n",
    "    name = c(\"AA\", \"DD\", \"BB\"),\n",
    "    title = c(\"Title1\", NA, \"Title3\"))\n",
    "df_books"
   ]
  },
  {
   "cell_type": "code",
   "execution_count": 62,
   "id": "019d316b",
   "metadata": {},
   "outputs": [
    {
     "data": {
      "text/html": [
       "<table>\n",
       "<thead><tr><th scope=col>surname</th><th scope=col>nationality</th><th scope=col>retired</th><th scope=col>title</th></tr></thead>\n",
       "<tbody>\n",
       "\t<tr><td>AA       </td><td>US       </td><td>yes      </td><td>Title1   </td></tr>\n",
       "\t<tr><td>BB       </td><td>Australia</td><td>no       </td><td>Title3   </td></tr>\n",
       "\t<tr><td>EE       </td><td>US       </td><td>no       </td><td>NA       </td></tr>\n",
       "\t<tr><td>DD       </td><td>NA       </td><td>NA       </td><td>NA       </td></tr>\n",
       "</tbody>\n",
       "</table>\n"
      ],
      "text/latex": [
       "\\begin{tabular}{r|llll}\n",
       " surname & nationality & retired & title\\\\\n",
       "\\hline\n",
       "\t AA        & US        & yes       & Title1   \\\\\n",
       "\t BB        & Australia & no        & Title3   \\\\\n",
       "\t EE        & US        & no        & NA       \\\\\n",
       "\t DD        & NA        & NA        & NA       \\\\\n",
       "\\end{tabular}\n"
      ],
      "text/markdown": [
       "\n",
       "| surname | nationality | retired | title |\n",
       "|---|---|---|---|\n",
       "| AA        | US        | yes       | Title1    |\n",
       "| BB        | Australia | no        | Title3    |\n",
       "| EE        | US        | no        | NA        |\n",
       "| DD        | NA        | NA        | NA        |\n",
       "\n"
      ],
      "text/plain": [
       "  surname nationality retired title \n",
       "1 AA      US          yes     Title1\n",
       "2 BB      Australia   no      Title3\n",
       "3 EE      US          no      NA    \n",
       "4 DD      NA          NA      NA    "
      ]
     },
     "metadata": {},
     "output_type": "display_data"
    }
   ],
   "source": [
    "df_merge <- merge(x=df_authors, \n",
    "                  y=df_books, \n",
    "                  by.x=\"surname\", \n",
    "                  by.y=\"name\",\n",
    "                  all=TRUE  # ALL: Outer Join, all.x= TRUE: Left Join, all.y=TRUE: Right join, No specify: Inner join\n",
    "                            # NOTE: Cross join: merge(x = df1, y = df2, by = NULL)\n",
    "                 )\n",
    "df_merge"
   ]
  },
  {
   "cell_type": "markdown",
   "id": "9662d63d",
   "metadata": {},
   "source": [
    "### 2. rbind and bind_rows"
   ]
  },
  {
   "cell_type": "code",
   "execution_count": 76,
   "id": "bb250218",
   "metadata": {},
   "outputs": [
    {
     "data": {
      "text/html": [
       "<table>\n",
       "<thead><tr><th scope=col>a</th><th scope=col>b</th><th scope=col>c</th></tr></thead>\n",
       "<tbody>\n",
       "\t<tr><td>0</td><td>3</td><td>6</td></tr>\n",
       "\t<tr><td>1</td><td>4</td><td>7</td></tr>\n",
       "\t<tr><td>2</td><td>5</td><td>8</td></tr>\n",
       "</tbody>\n",
       "</table>\n"
      ],
      "text/latex": [
       "\\begin{tabular}{r|lll}\n",
       " a & b & c\\\\\n",
       "\\hline\n",
       "\t 0 & 3 & 6\\\\\n",
       "\t 1 & 4 & 7\\\\\n",
       "\t 2 & 5 & 8\\\\\n",
       "\\end{tabular}\n"
      ],
      "text/markdown": [
       "\n",
       "| a | b | c |\n",
       "|---|---|---|\n",
       "| 0 | 3 | 6 |\n",
       "| 1 | 4 | 7 |\n",
       "| 2 | 5 | 8 |\n",
       "\n"
      ],
      "text/plain": [
       "  a b c\n",
       "1 0 3 6\n",
       "2 1 4 7\n",
       "3 2 5 8"
      ]
     },
     "metadata": {},
     "output_type": "display_data"
    }
   ],
   "source": [
    "df1 <- data.frame(a=c(0,1,2), b=c(3,4,5), c=c(6,7,8))\n",
    "df1"
   ]
  },
  {
   "cell_type": "code",
   "execution_count": 77,
   "id": "ec161013",
   "metadata": {},
   "outputs": [
    {
     "data": {
      "text/html": [
       "<table>\n",
       "<thead><tr><th scope=col>a</th><th scope=col>c</th></tr></thead>\n",
       "<tbody>\n",
       "\t<tr><td> 9</td><td>12</td></tr>\n",
       "\t<tr><td>10</td><td>13</td></tr>\n",
       "</tbody>\n",
       "</table>\n"
      ],
      "text/latex": [
       "\\begin{tabular}{r|ll}\n",
       " a & c\\\\\n",
       "\\hline\n",
       "\t  9 & 12\\\\\n",
       "\t 10 & 13\\\\\n",
       "\\end{tabular}\n"
      ],
      "text/markdown": [
       "\n",
       "| a | c |\n",
       "|---|---|\n",
       "|  9 | 12 |\n",
       "| 10 | 13 |\n",
       "\n"
      ],
      "text/plain": [
       "  a  c \n",
       "1  9 12\n",
       "2 10 13"
      ]
     },
     "metadata": {},
     "output_type": "display_data"
    }
   ],
   "source": [
    "df2 <- data.frame(a=c(9,10), c=c(12,13))\n",
    "df2"
   ]
  },
  {
   "cell_type": "code",
   "execution_count": 71,
   "id": "73eafebd",
   "metadata": {},
   "outputs": [
    {
     "data": {
      "text/html": [
       "<table>\n",
       "<thead><tr><th scope=col>a</th><th scope=col>c</th><th scope=col>b</th></tr></thead>\n",
       "<tbody>\n",
       "\t<tr><td> 9</td><td>12</td><td>NA</td></tr>\n",
       "\t<tr><td>10</td><td>13</td><td>NA</td></tr>\n",
       "</tbody>\n",
       "</table>\n"
      ],
      "text/latex": [
       "\\begin{tabular}{r|lll}\n",
       " a & c & b\\\\\n",
       "\\hline\n",
       "\t  9 & 12 & NA\\\\\n",
       "\t 10 & 13 & NA\\\\\n",
       "\\end{tabular}\n"
      ],
      "text/markdown": [
       "\n",
       "| a | c | b |\n",
       "|---|---|---|\n",
       "|  9 | 12 | NA |\n",
       "| 10 | 13 | NA |\n",
       "\n"
      ],
      "text/plain": [
       "  a  c  b \n",
       "1  9 12 NA\n",
       "2 10 13 NA"
      ]
     },
     "metadata": {},
     "output_type": "display_data"
    }
   ],
   "source": [
    "df2$b <- NA  # make a new column with all NA\n",
    "df2"
   ]
  },
  {
   "cell_type": "code",
   "execution_count": 73,
   "id": "7859b0c0",
   "metadata": {},
   "outputs": [
    {
     "data": {
      "text/html": [
       "<table>\n",
       "<thead><tr><th scope=col>a</th><th scope=col>b</th><th scope=col>c</th></tr></thead>\n",
       "<tbody>\n",
       "\t<tr><td> 0</td><td> 3</td><td> 6</td></tr>\n",
       "\t<tr><td> 1</td><td> 4</td><td> 7</td></tr>\n",
       "\t<tr><td> 2</td><td> 5</td><td> 8</td></tr>\n",
       "\t<tr><td> 9</td><td>NA</td><td>12</td></tr>\n",
       "\t<tr><td>10</td><td>NA</td><td>13</td></tr>\n",
       "</tbody>\n",
       "</table>\n"
      ],
      "text/latex": [
       "\\begin{tabular}{r|lll}\n",
       " a & b & c\\\\\n",
       "\\hline\n",
       "\t  0 &  3 &  6\\\\\n",
       "\t  1 &  4 &  7\\\\\n",
       "\t  2 &  5 &  8\\\\\n",
       "\t  9 & NA & 12\\\\\n",
       "\t 10 & NA & 13\\\\\n",
       "\\end{tabular}\n"
      ],
      "text/markdown": [
       "\n",
       "| a | b | c |\n",
       "|---|---|---|\n",
       "|  0 |  3 |  6 |\n",
       "|  1 |  4 |  7 |\n",
       "|  2 |  5 |  8 |\n",
       "|  9 | NA | 12 |\n",
       "| 10 | NA | 13 |\n",
       "\n"
      ],
      "text/plain": [
       "  a  b  c \n",
       "1  0  3  6\n",
       "2  1  4  7\n",
       "3  2  5  8\n",
       "4  9 NA 12\n",
       "5 10 NA 13"
      ]
     },
     "metadata": {},
     "output_type": "display_data"
    }
   ],
   "source": [
    "rbind(df1, df2)   # rbind() requires df1, df2 have the same columns"
   ]
  },
  {
   "cell_type": "code",
   "execution_count": 79,
   "id": "d800f698",
   "metadata": {},
   "outputs": [
    {
     "data": {
      "text/html": [
       "<table>\n",
       "<thead><tr><th scope=col>a</th><th scope=col>c</th></tr></thead>\n",
       "<tbody>\n",
       "\t<tr><td> 9</td><td>12</td></tr>\n",
       "\t<tr><td>10</td><td>13</td></tr>\n",
       "</tbody>\n",
       "</table>\n"
      ],
      "text/latex": [
       "\\begin{tabular}{r|ll}\n",
       " a & c\\\\\n",
       "\\hline\n",
       "\t  9 & 12\\\\\n",
       "\t 10 & 13\\\\\n",
       "\\end{tabular}\n"
      ],
      "text/markdown": [
       "\n",
       "| a | c |\n",
       "|---|---|\n",
       "|  9 | 12 |\n",
       "| 10 | 13 |\n",
       "\n"
      ],
      "text/plain": [
       "  a  c \n",
       "1  9 12\n",
       "2 10 13"
      ]
     },
     "metadata": {},
     "output_type": "display_data"
    }
   ],
   "source": [
    "df3 <- data.frame(a=c(9,10), c=c(12,13))\n",
    "df3"
   ]
  },
  {
   "cell_type": "code",
   "execution_count": 80,
   "id": "a33b4b3e",
   "metadata": {},
   "outputs": [
    {
     "data": {
      "text/html": [
       "<table>\n",
       "<thead><tr><th scope=col>a</th><th scope=col>b</th><th scope=col>c</th></tr></thead>\n",
       "<tbody>\n",
       "\t<tr><td> 0</td><td> 3</td><td> 6</td></tr>\n",
       "\t<tr><td> 1</td><td> 4</td><td> 7</td></tr>\n",
       "\t<tr><td> 2</td><td> 5</td><td> 8</td></tr>\n",
       "\t<tr><td> 9</td><td>NA</td><td>12</td></tr>\n",
       "\t<tr><td>10</td><td>NA</td><td>13</td></tr>\n",
       "</tbody>\n",
       "</table>\n"
      ],
      "text/latex": [
       "\\begin{tabular}{r|lll}\n",
       " a & b & c\\\\\n",
       "\\hline\n",
       "\t  0 &  3 &  6\\\\\n",
       "\t  1 &  4 &  7\\\\\n",
       "\t  2 &  5 &  8\\\\\n",
       "\t  9 & NA & 12\\\\\n",
       "\t 10 & NA & 13\\\\\n",
       "\\end{tabular}\n"
      ],
      "text/markdown": [
       "\n",
       "| a | b | c |\n",
       "|---|---|---|\n",
       "|  0 |  3 |  6 |\n",
       "|  1 |  4 |  7 |\n",
       "|  2 |  5 |  8 |\n",
       "|  9 | NA | 12 |\n",
       "| 10 | NA | 13 |\n",
       "\n"
      ],
      "text/plain": [
       "  a  b  c \n",
       "1  0  3  6\n",
       "2  1  4  7\n",
       "3  2  5  8\n",
       "4  9 NA 12\n",
       "5 10 NA 13"
      ]
     },
     "metadata": {},
     "output_type": "display_data"
    }
   ],
   "source": [
    "bind_rows(df1, df3)  # from the dplyr library"
   ]
  },
  {
   "cell_type": "code",
   "execution_count": null,
   "id": "ac74bf20",
   "metadata": {},
   "outputs": [],
   "source": []
  },
  {
   "cell_type": "code",
   "execution_count": null,
   "id": "cfdc3066",
   "metadata": {},
   "outputs": [],
   "source": []
  },
  {
   "cell_type": "code",
   "execution_count": null,
   "id": "727a2857",
   "metadata": {},
   "outputs": [],
   "source": []
  },
  {
   "cell_type": "code",
   "execution_count": null,
   "id": "f30ae0fe",
   "metadata": {},
   "outputs": [],
   "source": []
  },
  {
   "cell_type": "code",
   "execution_count": null,
   "id": "93b81ed6",
   "metadata": {},
   "outputs": [],
   "source": []
  },
  {
   "cell_type": "code",
   "execution_count": 15,
   "id": "b35fc22a",
   "metadata": {},
   "outputs": [
    {
     "data": {
      "text/html": [
       "<table>\n",
       "<thead><tr><th scope=col>id</th><th scope=col>json_col</th><th scope=col>startdate</th></tr></thead>\n",
       "<tbody>\n",
       "\t<tr><td>101                                                                             </td><td>[{\"foo_a\":\"bar\"}]                                                               </td><td>2010-11-01                                                                      </td></tr>\n",
       "\t<tr><td>102                                                                             </td><td>[{\"foo_a\":\"bar\",\"foo_b\":\"bar\"}]                                                 </td><td>2008-03-25                                                                      </td></tr>\n",
       "\t<tr><td>103                                                                             </td><td>[{\"foo_a\":\"bar\",\"foo_c\":2}]                                                     </td><td>2007-03-14                                                                      </td></tr>\n",
       "\t<tr><td>104                                                                             </td><td>[{\"foo_a\":\"bar\",\"foo_b\":\"bar\",\"foo_c\":2,\"nested_col\":{\"foo_d\":\"bar\",\"foo_e\":3}}]</td><td>2006-02-21                                                                      </td></tr>\n",
       "</tbody>\n",
       "</table>\n"
      ],
      "text/latex": [
       "\\begin{tabular}{r|lll}\n",
       " id & json\\_col & startdate\\\\\n",
       "\\hline\n",
       "\t 101                                                                                        & {[}\\{\"foo\\_a\":\"bar\"\\}{]}                                                                & 2010-11-01                                                                                \\\\\n",
       "\t 102                                                                                          & {[}\\{\"foo\\_a\":\"bar\",\"foo\\_b\":\"bar\"\\}{]}                                                  & 2008-03-25                                                                                  \\\\\n",
       "\t 103                                                                                          & {[}\\{\"foo\\_a\":\"bar\",\"foo\\_c\":2\\}{]}                                                      & 2007-03-14                                                                                  \\\\\n",
       "\t 104                                                                                                      & {[}\\{\"foo\\_a\":\"bar\",\"foo\\_b\":\"bar\",\"foo\\_c\":2,\"nested\\_col\":\\{\"foo\\_d\":\"bar\",\"foo\\_e\":3\\}\\}{]} & 2006-02-21                                                                                              \\\\\n",
       "\\end{tabular}\n"
      ],
      "text/markdown": [
       "\n",
       "| id | json_col | startdate |\n",
       "|---|---|---|\n",
       "| 101                                                                              | [{\"foo_a\":\"bar\"}]                                                                | 2010-11-01                                                                       |\n",
       "| 102                                                                              | [{\"foo_a\":\"bar\",\"foo_b\":\"bar\"}]                                                  | 2008-03-25                                                                       |\n",
       "| 103                                                                              | [{\"foo_a\":\"bar\",\"foo_c\":2}]                                                      | 2007-03-14                                                                       |\n",
       "| 104                                                                              | [{\"foo_a\":\"bar\",\"foo_b\":\"bar\",\"foo_c\":2,\"nested_col\":{\"foo_d\":\"bar\",\"foo_e\":3}}] | 2006-02-21                                                                       |\n",
       "\n"
      ],
      "text/plain": [
       "  id \n",
       "1 101\n",
       "2 102\n",
       "3 103\n",
       "4 104\n",
       "  json_col                                                                        \n",
       "1 [{\"foo_a\":\"bar\"}]                                                               \n",
       "2 [{\"foo_a\":\"bar\",\"foo_b\":\"bar\"}]                                                 \n",
       "3 [{\"foo_a\":\"bar\",\"foo_c\":2}]                                                     \n",
       "4 [{\"foo_a\":\"bar\",\"foo_b\":\"bar\",\"foo_c\":2,\"nested_col\":{\"foo_d\":\"bar\",\"foo_e\":3}}]\n",
       "  startdate \n",
       "1 2010-11-01\n",
       "2 2008-03-25\n",
       "3 2007-03-14\n",
       "4 2006-02-21"
      ]
     },
     "metadata": {},
     "output_type": "display_data"
    }
   ],
   "source": [
    "sample.df <- data.frame(id = c(101, 102, 103, 104),\n",
    "                    json_col = c('[{\"foo_a\":\"bar\"}]',\n",
    "                                 '[{\"foo_a\":\"bar\",\"foo_b\":\"bar\"}]',\n",
    "                                 '[{\"foo_a\":\"bar\",\"foo_c\":2}]',\n",
    "                                 '[{\"foo_a\":\"bar\",\"foo_b\":\"bar\",\"foo_c\":2,\"nested_col\":{\"foo_d\":\"bar\",\"foo_e\":3}}]'),\n",
    "                    startdate = as.Date(c('2010-11-1','2008-3-25','2007-3-14','2006-2-21')))\n",
    "sample.df"
   ]
  },
  {
   "cell_type": "code",
   "execution_count": 17,
   "id": "2170f89c",
   "metadata": {},
   "outputs": [
    {
     "data": {
      "text/html": [
       "<table>\n",
       "<thead><tr><th scope=col>id</th><th scope=col>json_col</th><th scope=col>startdate</th><th scope=col>foo_a</th><th scope=col>foo_b</th><th scope=col>foo_c</th><th scope=col>nested_col.foo_d</th><th scope=col>nested_col.foo_e</th></tr></thead>\n",
       "<tbody>\n",
       "\t<tr><td>101                                                                             </td><td>[{\"foo_a\":\"bar\"}]                                                               </td><td>2010-11-01                                                                      </td><td>bar                                                                             </td><td>NA                                                                              </td><td>NA                                                                              </td><td>NA                                                                              </td><td>NA                                                                              </td></tr>\n",
       "\t<tr><td>102                                                                             </td><td>[{\"foo_a\":\"bar\",\"foo_b\":\"bar\"}]                                                 </td><td>2008-03-25                                                                      </td><td>bar                                                                             </td><td>bar                                                                             </td><td>NA                                                                              </td><td>NA                                                                              </td><td>NA                                                                              </td></tr>\n",
       "\t<tr><td>103                                                                             </td><td>[{\"foo_a\":\"bar\",\"foo_c\":2}]                                                     </td><td>2007-03-14                                                                      </td><td>bar                                                                             </td><td>NA                                                                              </td><td> 2                                                                              </td><td>NA                                                                              </td><td>NA                                                                              </td></tr>\n",
       "\t<tr><td>104                                                                             </td><td>[{\"foo_a\":\"bar\",\"foo_b\":\"bar\",\"foo_c\":2,\"nested_col\":{\"foo_d\":\"bar\",\"foo_e\":3}}]</td><td>2006-02-21                                                                      </td><td>bar                                                                             </td><td>bar                                                                             </td><td> 2                                                                              </td><td>bar                                                                             </td><td> 3                                                                              </td></tr>\n",
       "</tbody>\n",
       "</table>\n"
      ],
      "text/latex": [
       "\\begin{tabular}{r|llllllll}\n",
       " id & json\\_col & startdate & foo\\_a & foo\\_b & foo\\_c & nested\\_col.foo\\_d & nested\\_col.foo\\_e\\\\\n",
       "\\hline\n",
       "\t 101                                                                                        & {[}\\{\"foo\\_a\":\"bar\"\\}{]}                                                                & 2010-11-01                                                                                 & bar                                                                                        & NA                                                                                         & NA                                                                                         & NA                                                                                         & NA                                                                                        \\\\\n",
       "\t 102                                                                                          & {[}\\{\"foo\\_a\":\"bar\",\"foo\\_b\":\"bar\"\\}{]}                                                  & 2008-03-25                                                                                   & bar                                                                                          & bar                                                                                          & NA                                                                                           & NA                                                                                           & NA                                                                                          \\\\\n",
       "\t 103                                                                                          & {[}\\{\"foo\\_a\":\"bar\",\"foo\\_c\":2\\}{]}                                                      & 2007-03-14                                                                                   & bar                                                                                          & NA                                                                                           &  2                                                                                           & NA                                                                                           & NA                                                                                          \\\\\n",
       "\t 104                                                                                                      & {[}\\{\"foo\\_a\":\"bar\",\"foo\\_b\":\"bar\",\"foo\\_c\":2,\"nested\\_col\":\\{\"foo\\_d\":\"bar\",\"foo\\_e\":3\\}\\}{]} & 2006-02-21                                                                                               & bar                                                                                                      & bar                                                                                                      &  2                                                                                                       & bar                                                                                                      &  3                                                                                                      \\\\\n",
       "\\end{tabular}\n"
      ],
      "text/markdown": [
       "\n",
       "| id | json_col | startdate | foo_a | foo_b | foo_c | nested_col.foo_d | nested_col.foo_e |\n",
       "|---|---|---|---|---|---|---|---|\n",
       "| 101                                                                              | [{\"foo_a\":\"bar\"}]                                                                | 2010-11-01                                                                       | bar                                                                              | NA                                                                               | NA                                                                               | NA                                                                               | NA                                                                               |\n",
       "| 102                                                                              | [{\"foo_a\":\"bar\",\"foo_b\":\"bar\"}]                                                  | 2008-03-25                                                                       | bar                                                                              | bar                                                                              | NA                                                                               | NA                                                                               | NA                                                                               |\n",
       "| 103                                                                              | [{\"foo_a\":\"bar\",\"foo_c\":2}]                                                      | 2007-03-14                                                                       | bar                                                                              | NA                                                                               |  2                                                                               | NA                                                                               | NA                                                                               |\n",
       "| 104                                                                              | [{\"foo_a\":\"bar\",\"foo_b\":\"bar\",\"foo_c\":2,\"nested_col\":{\"foo_d\":\"bar\",\"foo_e\":3}}] | 2006-02-21                                                                       | bar                                                                              | bar                                                                              |  2                                                                               | bar                                                                              |  3                                                                               |\n",
       "\n"
      ],
      "text/plain": [
       "  id \n",
       "1 101\n",
       "2 102\n",
       "3 103\n",
       "4 104\n",
       "  json_col                                                                        \n",
       "1 [{\"foo_a\":\"bar\"}]                                                               \n",
       "2 [{\"foo_a\":\"bar\",\"foo_b\":\"bar\"}]                                                 \n",
       "3 [{\"foo_a\":\"bar\",\"foo_c\":2}]                                                     \n",
       "4 [{\"foo_a\":\"bar\",\"foo_b\":\"bar\",\"foo_c\":2,\"nested_col\":{\"foo_d\":\"bar\",\"foo_e\":3}}]\n",
       "  startdate  foo_a foo_b foo_c nested_col.foo_d nested_col.foo_e\n",
       "1 2010-11-01 bar   NA    NA    NA               NA              \n",
       "2 2008-03-25 bar   bar   NA    NA               NA              \n",
       "3 2007-03-14 bar   NA     2    NA               NA              \n",
       "4 2006-02-21 bar   bar    2    bar               3              "
      ]
     },
     "metadata": {},
     "output_type": "display_data"
    }
   ],
   "source": [
    "library(dplyr)\n",
    "library(tidyr)\n",
    "library(purrr)\n",
    "library(jsonlite)\n",
    "\n",
    "sample.df %>%\n",
    "  mutate(\n",
    "    json_parsed = map(json_col, ~ fromJSON(., flatten=TRUE))\n",
    "  ) %>%\n",
    "  unnest(json_parsed)"
   ]
  },
  {
   "cell_type": "code",
   "execution_count": 20,
   "id": "c6d41947",
   "metadata": {},
   "outputs": [
    {
     "data": {
      "text/html": [
       "<table>\n",
       "<thead><tr><th scope=col>foo_a</th><th scope=col>foo_b</th><th scope=col>foo_c</th><th scope=col>nested_col.foo_d</th><th scope=col>nested_col.foo_e</th><th scope=col>id</th><th scope=col>startdate</th></tr></thead>\n",
       "<tbody>\n",
       "\t<tr><td>bar       </td><td>NA        </td><td>NA        </td><td>NA        </td><td>NA        </td><td>101       </td><td>2010-11-01</td></tr>\n",
       "\t<tr><td>bar       </td><td>bar       </td><td>NA        </td><td>NA        </td><td>NA        </td><td>102       </td><td>2008-03-25</td></tr>\n",
       "\t<tr><td>bar       </td><td>NA        </td><td> 2        </td><td>NA        </td><td>NA        </td><td>103       </td><td>2007-03-14</td></tr>\n",
       "\t<tr><td>bar       </td><td>bar       </td><td> 2        </td><td>bar       </td><td> 3        </td><td>104       </td><td>2006-02-21</td></tr>\n",
       "</tbody>\n",
       "</table>\n"
      ],
      "text/latex": [
       "\\begin{tabular}{r|lllllll}\n",
       " foo\\_a & foo\\_b & foo\\_c & nested\\_col.foo\\_d & nested\\_col.foo\\_e & id & startdate\\\\\n",
       "\\hline\n",
       "\t bar        & NA         & NA         & NA         & NA         & 101        & 2010-11-01\\\\\n",
       "\t bar        & bar        & NA         & NA         & NA         & 102        & 2008-03-25\\\\\n",
       "\t bar        & NA         &  2         & NA         & NA         & 103        & 2007-03-14\\\\\n",
       "\t bar        & bar        &  2         & bar        &  3         & 104        & 2006-02-21\\\\\n",
       "\\end{tabular}\n"
      ],
      "text/markdown": [
       "\n",
       "| foo_a | foo_b | foo_c | nested_col.foo_d | nested_col.foo_e | id | startdate |\n",
       "|---|---|---|---|---|---|---|\n",
       "| bar        | NA         | NA         | NA         | NA         | 101        | 2010-11-01 |\n",
       "| bar        | bar        | NA         | NA         | NA         | 102        | 2008-03-25 |\n",
       "| bar        | NA         |  2         | NA         | NA         | 103        | 2007-03-14 |\n",
       "| bar        | bar        |  2         | bar        |  3         | 104        | 2006-02-21 |\n",
       "\n"
      ],
      "text/plain": [
       "  foo_a foo_b foo_c nested_col.foo_d nested_col.foo_e id  startdate \n",
       "1 bar   NA    NA    NA               NA               101 2010-11-01\n",
       "2 bar   bar   NA    NA               NA               102 2008-03-25\n",
       "3 bar   NA     2    NA               NA               103 2007-03-14\n",
       "4 bar   bar    2    bar               3               104 2006-02-21"
      ]
     },
     "metadata": {},
     "output_type": "display_data"
    }
   ],
   "source": [
    "library(dplyr)\n",
    "library(jsonlite)\n",
    "\n",
    "new.df <- sample.df %>% \n",
    "          rowwise() %>%\n",
    "          do(data.frame(fromJSON(.$json_col, flatten = T))) %>%\n",
    "          ungroup() %>%\n",
    "          bind_cols(sample.df %>% select(-json_col))\n",
    "\n",
    "new.df"
   ]
  },
  {
   "cell_type": "code",
   "execution_count": null,
   "id": "2c5995a5",
   "metadata": {},
   "outputs": [],
   "source": []
  },
  {
   "cell_type": "code",
   "execution_count": 22,
   "id": "c2266421",
   "metadata": {},
   "outputs": [
    {
     "ename": "ERROR",
     "evalue": "Error in parse(text = x, srcfile = src): <text>:7:17: unexpected '['\n6:     \"folder\" : \"/jcsmr/CPI/Fulcher/FACS files/CPI_20180628\",\n7:     \"Samples\" : [\n                   ^\n",
     "output_type": "error",
     "traceback": [
      "Error in parse(text = x, srcfile = src): <text>:7:17: unexpected '['\n6:     \"folder\" : \"/jcsmr/CPI/Fulcher/FACS files/CPI_20180628\",\n7:     \"Samples\" : [\n                   ^\nTraceback:\n"
     ]
    }
   ],
   "source": [
    "df1 <- data.frame(\n",
    "    \"individualCode\" = \"HBD001\",\n",
    "    \"runId\" = \"CPI_28062018\",\n",
    "   \n",
    "    \"folder\" = \"/jcsmr/CPI/Fulcher/FACS files/CPI_20180628\",\n",
    "    \"Samples\" : [ \n",
    "        {\n",
    "            \"filename\" : \"PBMCs_APC HBD001 ACD-A 17apr18_088․fcs\",\n",
    "            \"datetime\" : \"2018-06-29\",\n",
    "            \"technician\" : \"RobT\",\n",
    "            \"instrumentModel\" : \"LSRII\",\n",
    "            \"instrumentID\" : \"1\",\n",
    "            \"project\" : \"CPI\",\n",
    "            \"software\" : \"BD FACSDiva Software Version 8.0.1\",\n",
    "            \"markers\" : [ \n",
    "                {\n",
    "                    \"name\" : \"NK (%LC)\",\n",
    "                    \"value\" : 17.92,\n",
    "                    \"confidence\" : \"\",\n",
    "                    \"interpretation\" : \"\"\n",
    "                }, \n",
    "                {\n",
    "                    \"name\" : \"Classical Monocytes(%APC)\",\n",
    "                    \"value\" : 47.9,\n",
    "                    \"confidence\" : \"\",\n",
    "                    \"interpretation\" : \"\"\n",
    "                }\n",
    "              \n",
    "            ]\n",
    "        }\n",
    "        ])\n",
    "       \n",
    "df1"
   ]
  },
  {
   "cell_type": "code",
   "execution_count": null,
   "id": "5f77423f",
   "metadata": {},
   "outputs": [],
   "source": []
  }
 ],
 "metadata": {
  "kernelspec": {
   "display_name": "R",
   "language": "R",
   "name": "ir"
  },
  "language_info": {
   "codemirror_mode": "r",
   "file_extension": ".r",
   "mimetype": "text/x-r-source",
   "name": "R",
   "pygments_lexer": "r",
   "version": "3.6.1"
  }
 },
 "nbformat": 4,
 "nbformat_minor": 5
}
