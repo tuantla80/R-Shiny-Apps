{
 "cells": [
  {
   "cell_type": "code",
   "execution_count": null,
   "id": "f41d4593",
   "metadata": {},
   "outputs": [],
   "source": []
  },
  {
   "cell_type": "code",
   "execution_count": 1,
   "id": "e21296bb",
   "metadata": {},
   "outputs": [
    {
     "name": "stderr",
     "output_type": "stream",
     "text": [
      "Loading required package: carData\n",
      "Warning message:\n",
      "\"package 'dplyr' was built under R version 3.6.3\"\n",
      "Attaching package: 'dplyr'\n",
      "\n",
      "The following object is masked from 'package:car':\n",
      "\n",
      "    recode\n",
      "\n",
      "The following objects are masked from 'package:stats':\n",
      "\n",
      "    filter, lag\n",
      "\n",
      "The following objects are masked from 'package:base':\n",
      "\n",
      "    intersect, setdiff, setequal, union\n",
      "\n"
     ]
    }
   ],
   "source": [
    "library(ggplot2)\n",
    "library(car)\n",
    "library(dplyr)"
   ]
  },
  {
   "cell_type": "markdown",
   "id": "039e7208",
   "metadata": {},
   "source": [
    "# I. Comparing the means of two groups  \n",
    "https://whitlockschluter3e.zoology.ubc.ca/Tutorials%20using%20R/R_tutorial_Comparing_means_of_2_groups.html"
   ]
  },
  {
   "cell_type": "code",
   "execution_count": 2,
   "id": "3694b141",
   "metadata": {},
   "outputs": [],
   "source": [
    "titanicData <- read.csv(\"ABDLabs/DataForLabs/titanic.csv\") \n",
    "# full path = C:\\AI\\R-Shiny-Apps\\R_Examples\\ABDLabs\\DataForLabs\\titanic.csv"
   ]
  },
  {
   "cell_type": "code",
   "execution_count": 3,
   "id": "99cdb60e",
   "metadata": {},
   "outputs": [
    {
     "data": {
      "text/html": [
       "<table>\n",
       "<thead><tr><th scope=col>passenger_class</th><th scope=col>name</th><th scope=col>age</th><th scope=col>embarked</th><th scope=col>home_destination</th><th scope=col>sex</th><th scope=col>survive</th></tr></thead>\n",
       "<tbody>\n",
       "\t<tr><td>1st                            </td><td>Allen,MissElisabethWalton      </td><td>29                             </td><td>Southampton                    </td><td>StLouis,MO                     </td><td>female                         </td><td>yes                            </td></tr>\n",
       "\t<tr><td>1st                            </td><td>Allison,MissHelenLoraine       </td><td> 2                             </td><td>Southampton                    </td><td>Montreal,PQ/Chesterville,ON    </td><td>female                         </td><td>no                             </td></tr>\n",
       "\t<tr><td>1st                            </td><td>Allison,MrHudsonJoshuaCreighton</td><td>30                             </td><td>Southampton                    </td><td>Montreal,PQ/Chesterville,ON    </td><td>male                           </td><td>no                             </td></tr>\n",
       "</tbody>\n",
       "</table>\n"
      ],
      "text/latex": [
       "\\begin{tabular}{r|lllllll}\n",
       " passenger\\_class & name & age & embarked & home\\_destination & sex & survive\\\\\n",
       "\\hline\n",
       "\t 1st                             & Allen,MissElisabethWalton       & 29                              & Southampton                     & StLouis,MO                      & female                          & yes                            \\\\\n",
       "\t 1st                             & Allison,MissHelenLoraine        &  2                              & Southampton                     & Montreal,PQ/Chesterville,ON     & female                          & no                             \\\\\n",
       "\t 1st                             & Allison,MrHudsonJoshuaCreighton & 30                              & Southampton                     & Montreal,PQ/Chesterville,ON     & male                            & no                             \\\\\n",
       "\\end{tabular}\n"
      ],
      "text/markdown": [
       "\n",
       "| passenger_class | name | age | embarked | home_destination | sex | survive |\n",
       "|---|---|---|---|---|---|---|\n",
       "| 1st                             | Allen,MissElisabethWalton       | 29                              | Southampton                     | StLouis,MO                      | female                          | yes                             |\n",
       "| 1st                             | Allison,MissHelenLoraine        |  2                              | Southampton                     | Montreal,PQ/Chesterville,ON     | female                          | no                              |\n",
       "| 1st                             | Allison,MrHudsonJoshuaCreighton | 30                              | Southampton                     | Montreal,PQ/Chesterville,ON     | male                            | no                              |\n",
       "\n"
      ],
      "text/plain": [
       "  passenger_class name                            age embarked   \n",
       "1 1st             Allen,MissElisabethWalton       29  Southampton\n",
       "2 1st             Allison,MissHelenLoraine         2  Southampton\n",
       "3 1st             Allison,MrHudsonJoshuaCreighton 30  Southampton\n",
       "  home_destination            sex    survive\n",
       "1 StLouis,MO                  female yes    \n",
       "2 Montreal,PQ/Chesterville,ON female no     \n",
       "3 Montreal,PQ/Chesterville,ON male   no     "
      ]
     },
     "metadata": {},
     "output_type": "display_data"
    }
   ],
   "source": [
    "head(titanicData, 3)"
   ]
  },
  {
   "cell_type": "markdown",
   "id": "4bce71d8",
   "metadata": {},
   "source": [
    "## 1. Strip charts  \n",
    "geom_jitter()"
   ]
  },
  {
   "cell_type": "code",
   "execution_count": 4,
   "id": "5cfd3816",
   "metadata": {},
   "outputs": [],
   "source": [
    "# Define size of graph\n",
    "options(repr.plot.width = 3, repr.plot.height = 2.5)"
   ]
  },
  {
   "cell_type": "code",
   "execution_count": 5,
   "id": "9a4cd755",
   "metadata": {},
   "outputs": [
    {
     "name": "stderr",
     "output_type": "stream",
     "text": [
      "Warning message:\n",
      "\"Removed 680 rows containing missing values (geom_point).\""
     ]
    },
    {
     "data": {
      "image/png": "[encoded data removed]",
      "text/plain": [
       "plot without title"
      ]
     },
     "metadata": {},
     "output_type": "display_data"
    }
   ],
   "source": [
    "ggplot(titanicData, aes(x = survive, \n",
    "                        y = age)) + geom_jitter(position = position_jitter(0.05)) + theme_minimal()"
   ]
  },
  {
   "cell_type": "markdown",
   "id": "8c3893af",
   "metadata": {},
   "source": [
    "## 2. Multiple histograms"
   ]
  },
  {
   "cell_type": "code",
   "execution_count": 6,
   "id": "7e2b67c2",
   "metadata": {},
   "outputs": [
    {
     "name": "stderr",
     "output_type": "stream",
     "text": [
      "`stat_bin()` using `bins = 30`. Pick better value with `binwidth`.\n",
      "Warning message:\n",
      "\"Removed 680 rows containing non-finite values (stat_bin).\""
     ]
    },
    {
     "data": {
      "image/png": "[encoded data removed]",
      "text/plain": [
       "plot without title"
      ]
     },
     "metadata": {},
     "output_type": "display_data"
    }
   ],
   "source": [
    "ggplot(titanicData, aes(x = age)) +   \n",
    "    geom_histogram() + \n",
    "    facet_wrap(~ survive, ncol = 1)"
   ]
  },
  {
   "cell_type": "markdown",
   "id": "af69f2ee",
   "metadata": {},
   "source": [
    "## 3. Violin plots"
   ]
  },
  {
   "cell_type": "code",
   "execution_count": 7,
   "id": "676a22bd",
   "metadata": {},
   "outputs": [
    {
     "name": "stderr",
     "output_type": "stream",
     "text": [
      "Warning message:\n",
      "\"`fun.y` is deprecated. Use `fun` instead.\"Warning message:\n",
      "\"Removed 680 rows containing non-finite values (stat_ydensity).\"Warning message:\n",
      "\"Removed 680 rows containing non-finite values (stat_summary).\""
     ]
    },
    {
     "data": {
      "image/png": "[encoded data removed]",
      "text/plain": [
       "plot without title"
      ]
     },
     "metadata": {},
     "output_type": "display_data"
    }
   ],
   "source": [
    "ggplot(titanicData, \n",
    "       aes(x = survive, \n",
    "           y=age, \n",
    "           fill = survive)) + \n",
    "  geom_violin() +\n",
    "  xlab(\"Survival\") + ylab(\"Age\") + \n",
    "  theme_classic()+scale_fill_manual(values=c(\"#FFB531\",\"#BC211A\"))+ \n",
    "  stat_summary(fun.y=mean,  geom=\"point\", color=\"black\")+ \n",
    "  theme(legend.position=\"none\")+ \n",
    "  theme(aspect.ratio=1)\n",
    "\n",
    "# Note here Survival YES has one class so the distribution is symmetry. Similar to NO"
   ]
  },
  {
   "cell_type": "markdown",
   "id": "f81781a3",
   "metadata": {},
   "source": [
    "## 4. Two-sample t-test: to compare the means of two groups   \n",
    "\n",
    "A t-test is a statistical test that compares the means of two samples. <b> It is used in hypothesis testing, with a null hypothesis that the difference in group means is zero </b> and an alternate hypothesis that the difference in group means is different from zero.\n",
    "\n",
    "- <b>p-value smaller than or equal to 0.05 indicates strong evidence against the null hypothesis, so it should be rejected; </b>\n",
    "- p-value larger than 0.05 indicated weak evidence against the null- hypothesis, so it cannot be rejected;\n",
    "- p-value very close to 0.05 means it can go either way.\n",
    "\n",
    "For a 2-sample t-test, two variables are used, one categorical and one numerical.  \n",
    "Eg. x has A or B (studyCode or Control) and y is real value (eg. water drink,...) corresponding of each individual\n"
   ]
  },
  {
   "cell_type": "markdown",
   "id": "937a6fa7",
   "metadata": {},
   "source": [
    "### 4.1 Common t-test"
   ]
  },
  {
   "cell_type": "code",
   "execution_count": 8,
   "id": "96fcd953",
   "metadata": {},
   "outputs": [
    {
     "data": {
      "text/plain": [
       "\n",
       "\tTwo Sample t-test\n",
       "\n",
       "data:  age by survive\n",
       "t = 2.0173, df = 631, p-value = 0.04409\n",
       "alternative hypothesis: true difference in means is not equal to 0\n",
       "95 percent confidence interval:\n",
       " 0.06300333 4.68528476\n",
       "sample estimates:\n",
       " mean in group no mean in group yes \n",
       "         32.24811          29.87396 \n"
      ]
     },
     "metadata": {},
     "output_type": "display_data"
    }
   ],
   "source": [
    "t.test(data = titanicData, # data frames whic has age (real value) and survive (categorical) columns\n",
    "       age ~ survive,  \n",
    "       var.equal = TRUE # assume that the variances of the two groups (YES or NO survival) are EQUAL\n",
    "      )\n",
    "# Output below: The output gives us the test statistic t, the degrees of freedom for the test (df),\n",
    "# and the P-value for the test of equal population means (which in this case is P = 0.044).\n",
    "\n"
   ]
  },
  {
   "cell_type": "markdown",
   "id": "d7a49d33",
   "metadata": {},
   "source": [
    "### 4.2 Welch’s t-test: Welch’s t-test (with var.equal = FALSE) is actually the default for t.test()."
   ]
  },
  {
   "cell_type": "code",
   "execution_count": 9,
   "id": "413ae58f",
   "metadata": {},
   "outputs": [
    {
     "data": {
      "text/plain": [
       "\n",
       "\tWelch Two Sample t-test\n",
       "\n",
       "data:  age by survive\n",
       "t = 1.9947, df = 570.96, p-value = 0.04655\n",
       "alternative hypothesis: true difference in means is not equal to 0\n",
       "95 percent confidence interval:\n",
       " 0.03644633 4.71184176\n",
       "sample estimates:\n",
       " mean in group no mean in group yes \n",
       "         32.24811          29.87396 \n"
      ]
     },
     "metadata": {},
     "output_type": "display_data"
    }
   ],
   "source": [
    "t.test(data = titanicData, \n",
    "       age ~ survive, \n",
    "       var.equal = FALSE # NOT assume that the variances of the two groups (YES or NO survival) are EQUAL\n",
    "      )"
   ]
  },
  {
   "cell_type": "markdown",
   "id": "e28e3ecd",
   "metadata": {},
   "source": [
    "## 5. Paired t-test  \n",
    "The function t.test() can also perform paired t-tests. <b> Remember, a paired t-test is used when each data point in one group is paired meaningfully with a data point in the other group. </b>  \n",
    "The Titanic data set does not include any paired data so we will use other datasets"
   ]
  },
  {
   "cell_type": "code",
   "execution_count": 10,
   "id": "79ce5295",
   "metadata": {},
   "outputs": [
    {
     "data": {
      "text/html": [
       "<table>\n",
       "<thead><tr><th scope=col>blackbird</th><th scope=col>beforeImplant</th><th scope=col>afterImplant</th><th scope=col>logBeforeImplant</th><th scope=col>logAfterImplant</th></tr></thead>\n",
       "<tbody>\n",
       "\t<tr><td>1   </td><td>105 </td><td> 85 </td><td>4.65</td><td>4.44</td></tr>\n",
       "\t<tr><td>2   </td><td> 50 </td><td> 74 </td><td>3.91</td><td>4.30</td></tr>\n",
       "\t<tr><td>3   </td><td>136 </td><td>145 </td><td>4.91</td><td>4.98</td></tr>\n",
       "</tbody>\n",
       "</table>\n"
      ],
      "text/latex": [
       "\\begin{tabular}{r|lllll}\n",
       " blackbird & beforeImplant & afterImplant & logBeforeImplant & logAfterImplant\\\\\n",
       "\\hline\n",
       "\t 1    & 105  &  85  & 4.65 & 4.44\\\\\n",
       "\t 2    &  50  &  74  & 3.91 & 4.30\\\\\n",
       "\t 3    & 136  & 145  & 4.91 & 4.98\\\\\n",
       "\\end{tabular}\n"
      ],
      "text/markdown": [
       "\n",
       "| blackbird | beforeImplant | afterImplant | logBeforeImplant | logAfterImplant |\n",
       "|---|---|---|---|---|\n",
       "| 1    | 105  |  85  | 4.65 | 4.44 |\n",
       "| 2    |  50  |  74  | 3.91 | 4.30 |\n",
       "| 3    | 136  | 145  | 4.91 | 4.98 |\n",
       "\n"
      ],
      "text/plain": [
       "  blackbird beforeImplant afterImplant logBeforeImplant logAfterImplant\n",
       "1 1         105            85          4.65             4.44           \n",
       "2 2          50            74          3.91             4.30           \n",
       "3 3         136           145          4.91             4.98           "
      ]
     },
     "metadata": {},
     "output_type": "display_data"
    }
   ],
   "source": [
    "blackbird <- read.csv(\"ABDLabs/DataForLabs/chap12e2BlackbirdTestosterone.csv\")\n",
    "head(blackbird, 3)"
   ]
  },
  {
   "cell_type": "markdown",
   "id": "caee7c73",
   "metadata": {},
   "source": [
    "These data show the log antibody production of male blackbirds before <b>(logBeforeImplant)</b> and after <b>(logAfterImplant)</b> the birds received a testosterone implant. There is a before and after measure for each bird, so the data are paired."
   ]
  },
  {
   "cell_type": "code",
   "execution_count": 11,
   "id": "2ec5f422",
   "metadata": {},
   "outputs": [
    {
     "data": {
      "text/plain": [
       "\n",
       "\tPaired t-test\n",
       "\n",
       "data:  blackbird$logAfterImplant and blackbird$logBeforeImplant\n",
       "t = 1.2714, df = 12, p-value = 0.2277\n",
       "alternative hypothesis: true difference in means is not equal to 0\n",
       "95 percent confidence interval:\n",
       " -0.04007695  0.15238464\n",
       "sample estimates:\n",
       "mean of the differences \n",
       "             0.05615385 \n"
      ]
     },
     "metadata": {},
     "output_type": "display_data"
    }
   ],
   "source": [
    "t.test(blackbird$logAfterImplant, \n",
    "       blackbird$logBeforeImplant, \n",
    "       paired = TRUE)"
   ]
  },
  {
   "cell_type": "markdown",
   "id": "c5caadc4",
   "metadata": {},
   "source": [
    "## 6. Levene’s test: to compare the variances of two or more groups  \n",
    "The basic version of R does not do Levene’s test, but it is available from the package car with the function leveneTest()."
   ]
  },
  {
   "cell_type": "code",
   "execution_count": 12,
   "id": "51a04674",
   "metadata": {},
   "outputs": [
    {
     "data": {
      "text/html": [
       "<table>\n",
       "<thead><tr><th></th><th scope=col>Df</th><th scope=col>F value</th><th scope=col>Pr(&gt;F)</th></tr></thead>\n",
       "<tbody>\n",
       "\t<tr><th scope=row>group</th><td>  1      </td><td>3.905995 </td><td>0.0485492</td></tr>\n",
       "\t<tr><th scope=row> </th><td>631      </td><td>      NA </td><td>       NA</td></tr>\n",
       "</tbody>\n",
       "</table>\n"
      ],
      "text/latex": [
       "\\begin{tabular}{r|lll}\n",
       "  & Df & F value & Pr(>F)\\\\\n",
       "\\hline\n",
       "\tgroup &   1       & 3.905995  & 0.0485492\\\\\n",
       "\t  & 631       &       NA  &        NA\\\\\n",
       "\\end{tabular}\n"
      ],
      "text/markdown": [
       "\n",
       "| <!--/--> | Df | F value | Pr(>F) |\n",
       "|---|---|---|---|\n",
       "| group |   1       | 3.905995  | 0.0485492 |\n",
       "|   | 631       |       NA  |        NA |\n",
       "\n"
      ],
      "text/plain": [
       "      Df  F value  Pr(>F)   \n",
       "group   1 3.905995 0.0485492\n",
       "      631       NA        NA"
      ]
     },
     "metadata": {},
     "output_type": "display_data"
    }
   ],
   "source": [
    "leveneTest(data = titanicData, \n",
    "           age ~ survive, \n",
    "           center = mean # how to calculate the center of each group. \n",
    "                         # For the standard Levene’s test, use center = mean\n",
    "          )\n",
    "\n",
    "# Below output\n",
    "# the P-value of Levene’s test is P = 0.04855. \n",
    "# We would reject the null hypothesis that the group that survived and \n",
    "# the group that died had the same population variances for the variable age."
   ]
  },
  {
   "cell_type": "markdown",
   "id": "436c4245",
   "metadata": {},
   "source": [
    "# II. Analysis of variance (ANOVA): compare the means of multiple groups"
   ]
  },
  {
   "cell_type": "markdown",
   "id": "87e4b13d",
   "metadata": {},
   "source": [
    "## 1. ANOVA to compare the means of multiple groups"
   ]
  },
  {
   "cell_type": "code",
   "execution_count": 13,
   "id": "e1a71dd5",
   "metadata": {},
   "outputs": [
    {
     "data": {
      "text/html": [
       "<table>\n",
       "<thead><tr><th scope=col>passenger_class</th><th scope=col>name</th><th scope=col>age</th><th scope=col>embarked</th><th scope=col>home_destination</th><th scope=col>sex</th><th scope=col>survive</th></tr></thead>\n",
       "<tbody>\n",
       "\t<tr><td>1st                            </td><td>Allen,MissElisabethWalton      </td><td>29                             </td><td>Southampton                    </td><td>StLouis,MO                     </td><td>female                         </td><td>yes                            </td></tr>\n",
       "\t<tr><td>1st                            </td><td>Allison,MissHelenLoraine       </td><td> 2                             </td><td>Southampton                    </td><td>Montreal,PQ/Chesterville,ON    </td><td>female                         </td><td>no                             </td></tr>\n",
       "\t<tr><td>1st                            </td><td>Allison,MrHudsonJoshuaCreighton</td><td>30                             </td><td>Southampton                    </td><td>Montreal,PQ/Chesterville,ON    </td><td>male                           </td><td>no                             </td></tr>\n",
       "</tbody>\n",
       "</table>\n"
      ],
      "text/latex": [
       "\\begin{tabular}{r|lllllll}\n",
       " passenger\\_class & name & age & embarked & home\\_destination & sex & survive\\\\\n",
       "\\hline\n",
       "\t 1st                             & Allen,MissElisabethWalton       & 29                              & Southampton                     & StLouis,MO                      & female                          & yes                            \\\\\n",
       "\t 1st                             & Allison,MissHelenLoraine        &  2                              & Southampton                     & Montreal,PQ/Chesterville,ON     & female                          & no                             \\\\\n",
       "\t 1st                             & Allison,MrHudsonJoshuaCreighton & 30                              & Southampton                     & Montreal,PQ/Chesterville,ON     & male                            & no                             \\\\\n",
       "\\end{tabular}\n"
      ],
      "text/markdown": [
       "\n",
       "| passenger_class | name | age | embarked | home_destination | sex | survive |\n",
       "|---|---|---|---|---|---|---|\n",
       "| 1st                             | Allen,MissElisabethWalton       | 29                              | Southampton                     | StLouis,MO                      | female                          | yes                             |\n",
       "| 1st                             | Allison,MissHelenLoraine        |  2                              | Southampton                     | Montreal,PQ/Chesterville,ON     | female                          | no                              |\n",
       "| 1st                             | Allison,MrHudsonJoshuaCreighton | 30                              | Southampton                     | Montreal,PQ/Chesterville,ON     | male                            | no                              |\n",
       "\n"
      ],
      "text/plain": [
       "  passenger_class name                            age embarked   \n",
       "1 1st             Allen,MissElisabethWalton       29  Southampton\n",
       "2 1st             Allison,MissHelenLoraine         2  Southampton\n",
       "3 1st             Allison,MrHudsonJoshuaCreighton 30  Southampton\n",
       "  home_destination            sex    survive\n",
       "1 StLouis,MO                  female yes    \n",
       "2 Montreal,PQ/Chesterville,ON female no     \n",
       "3 Montreal,PQ/Chesterville,ON male   no     "
      ]
     },
     "metadata": {},
     "output_type": "display_data"
    }
   ],
   "source": [
    "head(titanicData, 3)"
   ]
  },
  {
   "cell_type": "markdown",
   "id": "d00f8641",
   "metadata": {},
   "source": [
    "#### passenger_class has 3 classess"
   ]
  },
  {
   "cell_type": "code",
   "execution_count": 14,
   "id": "dba52b16",
   "metadata": {},
   "outputs": [
    {
     "data": {
      "text/html": [
       "<ol class=list-inline>\n",
       "\t<li>1st</li>\n",
       "\t<li>2nd</li>\n",
       "\t<li>3rd</li>\n",
       "</ol>\n",
       "\n",
       "<details>\n",
       "\t<summary style=display:list-item;cursor:pointer>\n",
       "\t\t<strong>Levels</strong>:\n",
       "\t</summary>\n",
       "\t<ol class=list-inline>\n",
       "\t\t<li>'1st'</li>\n",
       "\t\t<li>'2nd'</li>\n",
       "\t\t<li>'3rd'</li>\n",
       "\t</ol>\n",
       "</details>"
      ],
      "text/latex": [
       "\\begin{enumerate*}\n",
       "\\item 1st\n",
       "\\item 2nd\n",
       "\\item 3rd\n",
       "\\end{enumerate*}\n",
       "\n",
       "\\emph{Levels}: \\begin{enumerate*}\n",
       "\\item '1st'\n",
       "\\item '2nd'\n",
       "\\item '3rd'\n",
       "\\end{enumerate*}\n"
      ],
      "text/markdown": [
       "1. 1st\n",
       "2. 2nd\n",
       "3. 3rd\n",
       "\n",
       "\n",
       "\n",
       "**Levels**: 1. '1st'\n",
       "2. '2nd'\n",
       "3. '3rd'\n",
       "\n",
       "\n"
      ],
      "text/plain": [
       "[1] 1st 2nd 3rd\n",
       "Levels: 1st 2nd 3rd"
      ]
     },
     "metadata": {},
     "output_type": "display_data"
    }
   ],
   "source": [
    "unique(titanicData$passenger_class)"
   ]
  },
  {
   "cell_type": "code",
   "execution_count": 15,
   "id": "bd612ed9",
   "metadata": {},
   "outputs": [
    {
     "name": "stderr",
     "output_type": "stream",
     "text": [
      "`stat_bin()` using `bins = 30`. Pick better value with `binwidth`.\n",
      "Warning message:\n",
      "\"Removed 680 rows containing non-finite values (stat_bin).\""
     ]
    },
    {
     "data": {
      "image/png": "[encoded data removed]",
      "text/plain": [
       "plot without title"
      ]
     },
     "metadata": {},
     "output_type": "display_data"
    }
   ],
   "source": [
    "options(repr.plot.width = 7, repr.plot.height = 2.5)\n",
    "ggplot(titanicData, \n",
    "       aes(x = age)) +   \n",
    "      geom_histogram() + \n",
    "      facet_wrap(~passenger_class, ncol = 3) \n",
    "\n",
    "# The below data look sufficiently normal and with similar spreads that ANOVA would be appropriate."
   ]
  },
  {
   "cell_type": "code",
   "execution_count": 16,
   "id": "4db92436",
   "metadata": {},
   "outputs": [
    {
     "data": {
      "text/html": [
       "<table>\n",
       "<thead><tr><th scope=col>passenger_class</th><th scope=col>name</th><th scope=col>age</th><th scope=col>embarked</th><th scope=col>home_destination</th><th scope=col>sex</th><th scope=col>survive</th></tr></thead>\n",
       "<tbody>\n",
       "\t<tr><td>1st                            </td><td>Allen,MissElisabethWalton      </td><td>29                             </td><td>Southampton                    </td><td>StLouis,MO                     </td><td>female                         </td><td>yes                            </td></tr>\n",
       "\t<tr><td>1st                            </td><td>Allison,MissHelenLoraine       </td><td> 2                             </td><td>Southampton                    </td><td>Montreal,PQ/Chesterville,ON    </td><td>female                         </td><td>no                             </td></tr>\n",
       "\t<tr><td>1st                            </td><td>Allison,MrHudsonJoshuaCreighton</td><td>30                             </td><td>Southampton                    </td><td>Montreal,PQ/Chesterville,ON    </td><td>male                           </td><td>no                             </td></tr>\n",
       "</tbody>\n",
       "</table>\n"
      ],
      "text/latex": [
       "\\begin{tabular}{r|lllllll}\n",
       " passenger\\_class & name & age & embarked & home\\_destination & sex & survive\\\\\n",
       "\\hline\n",
       "\t 1st                             & Allen,MissElisabethWalton       & 29                              & Southampton                     & StLouis,MO                      & female                          & yes                            \\\\\n",
       "\t 1st                             & Allison,MissHelenLoraine        &  2                              & Southampton                     & Montreal,PQ/Chesterville,ON     & female                          & no                             \\\\\n",
       "\t 1st                             & Allison,MrHudsonJoshuaCreighton & 30                              & Southampton                     & Montreal,PQ/Chesterville,ON     & male                            & no                             \\\\\n",
       "\\end{tabular}\n"
      ],
      "text/markdown": [
       "\n",
       "| passenger_class | name | age | embarked | home_destination | sex | survive |\n",
       "|---|---|---|---|---|---|---|\n",
       "| 1st                             | Allen,MissElisabethWalton       | 29                              | Southampton                     | StLouis,MO                      | female                          | yes                             |\n",
       "| 1st                             | Allison,MissHelenLoraine        |  2                              | Southampton                     | Montreal,PQ/Chesterville,ON     | female                          | no                              |\n",
       "| 1st                             | Allison,MrHudsonJoshuaCreighton | 30                              | Southampton                     | Montreal,PQ/Chesterville,ON     | male                            | no                              |\n",
       "\n"
      ],
      "text/plain": [
       "  passenger_class name                            age embarked   \n",
       "1 1st             Allen,MissElisabethWalton       29  Southampton\n",
       "2 1st             Allison,MissHelenLoraine         2  Southampton\n",
       "3 1st             Allison,MrHudsonJoshuaCreighton 30  Southampton\n",
       "  home_destination            sex    survive\n",
       "1 StLouis,MO                  female yes    \n",
       "2 Montreal,PQ/Chesterville,ON female no     \n",
       "3 Montreal,PQ/Chesterville,ON male   no     "
      ]
     },
     "metadata": {},
     "output_type": "display_data"
    }
   ],
   "source": [
    "# To confirm these visual impressions, it would be useful to construct a table of \n",
    "# the means and standard deviations of each group.\n",
    "\n",
    "# First, use group_by() to organize your data frame by the appropriate grouping variable. \n",
    "# For example, here we want to organize the titanicData by passenger_class:\n",
    "\n",
    "titanic_by_passenger_class <- group_by(titanicData, passenger_class)\n",
    "head (titanic_by_passenger_class, 3)"
   ]
  },
  {
   "cell_type": "code",
   "execution_count": 17,
   "id": "c1f775ec",
   "metadata": {},
   "outputs": [
    {
     "data": {
      "text/html": [
       "<table>\n",
       "<thead><tr><th scope=col>passenger_class</th><th scope=col>group_mean</th></tr></thead>\n",
       "<tbody>\n",
       "\t<tr><td>1st     </td><td>39.66777</td></tr>\n",
       "\t<tr><td>2nd     </td><td>28.30031</td></tr>\n",
       "\t<tr><td>3rd     </td><td>24.51966</td></tr>\n",
       "</tbody>\n",
       "</table>\n"
      ],
      "text/latex": [
       "\\begin{tabular}{r|ll}\n",
       " passenger\\_class & group\\_mean\\\\\n",
       "\\hline\n",
       "\t 1st      & 39.66777\\\\\n",
       "\t 2nd      & 28.30031\\\\\n",
       "\t 3rd      & 24.51966\\\\\n",
       "\\end{tabular}\n"
      ],
      "text/markdown": [
       "\n",
       "| passenger_class | group_mean |\n",
       "|---|---|\n",
       "| 1st      | 39.66777 |\n",
       "| 2nd      | 28.30031 |\n",
       "| 3rd      | 24.51966 |\n",
       "\n"
      ],
      "text/plain": [
       "  passenger_class group_mean\n",
       "1 1st             39.66777  \n",
       "2 2nd             28.30031  \n",
       "3 3rd             24.51966  "
      ]
     },
     "metadata": {},
     "output_type": "display_data"
    }
   ],
   "source": [
    "# After applying group_by() to a data frame, we can summarize the data using summarise()\n",
    "summarise(titanic_by_passenger_class, \n",
    "          group_mean = mean(age, na.rm=TRUE) # Can apply mean(), median(), var()\n",
    "                                             # group_mean to be the column name after calling\n",
    "         )"
   ]
  },
  {
   "cell_type": "code",
   "execution_count": 18,
   "id": "d43b00d3",
   "metadata": {},
   "outputs": [
    {
     "data": {
      "text/html": [
       "<table>\n",
       "<thead><tr><th scope=col>passenger_class</th><th scope=col>group_mean</th><th scope=col>group_sd</th></tr></thead>\n",
       "<tbody>\n",
       "\t<tr><td>1st     </td><td>39.66777</td><td>14.93044</td></tr>\n",
       "\t<tr><td>2nd     </td><td>28.30031</td><td>13.00764</td></tr>\n",
       "\t<tr><td>3rd     </td><td>24.51966</td><td>11.33059</td></tr>\n",
       "</tbody>\n",
       "</table>\n"
      ],
      "text/latex": [
       "\\begin{tabular}{r|lll}\n",
       " passenger\\_class & group\\_mean & group\\_sd\\\\\n",
       "\\hline\n",
       "\t 1st      & 39.66777 & 14.93044\\\\\n",
       "\t 2nd      & 28.30031 & 13.00764\\\\\n",
       "\t 3rd      & 24.51966 & 11.33059\\\\\n",
       "\\end{tabular}\n"
      ],
      "text/markdown": [
       "\n",
       "| passenger_class | group_mean | group_sd |\n",
       "|---|---|---|\n",
       "| 1st      | 39.66777 | 14.93044 |\n",
       "| 2nd      | 28.30031 | 13.00764 |\n",
       "| 3rd      | 24.51966 | 11.33059 |\n",
       "\n"
      ],
      "text/plain": [
       "  passenger_class group_mean group_sd\n",
       "1 1st             39.66777   14.93044\n",
       "2 2nd             28.30031   13.00764\n",
       "3 3rd             24.51966   11.33059"
      ]
     },
     "metadata": {},
     "output_type": "display_data"
    }
   ],
   "source": [
    "summarise(titanic_by_passenger_class, \n",
    "          group_mean = mean(age, na.rm=TRUE), # group_mean column\n",
    "          group_sd = sd(age, na.rm=TRUE)      # group_sd column\n",
    "         )\n",
    "# Note that the standard deviations are very similar, which means that\n",
    "# these data fit the equal variance assumption of ANOVA."
   ]
  },
  {
   "cell_type": "markdown",
   "id": "a530877f",
   "metadata": {},
   "source": [
    "### ANOVA: 2 steps\n",
    "Doing ANOVA takes at least two steps. First, we fit the ANOVA model to the data using the function lm(). This step carries out a bunch of intermediate calculations. Second, we use the results of first step to do the ANOVA calculations and place them in an ANOVA table using the function anova(). The function name lm() stands for “linear model”; this is actually a very powerful function that allows a variety of calculations. One-way ANOVA is a type of linear model."
   ]
  },
  {
   "cell_type": "markdown",
   "id": "dff30239",
   "metadata": {},
   "source": [
    "#### Step 1. lm()"
   ]
  },
  {
   "cell_type": "code",
   "execution_count": 19,
   "id": "e55e0cdb",
   "metadata": {},
   "outputs": [
    {
     "data": {
      "text/plain": [
       "\n",
       "Call:\n",
       "lm(formula = age ~ passenger_class, data = titanicData)\n",
       "\n",
       "Coefficients:\n",
       "       (Intercept)  passenger_class2nd  passenger_class3rd  \n",
       "             39.67              -11.37              -15.15  \n"
      ]
     },
     "metadata": {},
     "output_type": "display_data"
    }
   ],
   "source": [
    "titanicANOVA <- lm(data = titanicData, \n",
    "                   age ~ passenger_class  # age is real value, passenger_class is categorical\n",
    "                  )\n",
    "titanicANOVA"
   ]
  },
  {
   "cell_type": "markdown",
   "id": "8a385683",
   "metadata": {},
   "source": [
    "#### Step 2: anova()  \n",
    "The function anova() takes the results of lm() as input and returns an ANOVA table as output:"
   ]
  },
  {
   "cell_type": "code",
   "execution_count": 20,
   "id": "62c6a819",
   "metadata": {},
   "outputs": [
    {
     "data": {
      "text/html": [
       "<table>\n",
       "<thead><tr><th></th><th scope=col>Df</th><th scope=col>Sum Sq</th><th scope=col>Mean Sq</th><th scope=col>F value</th><th scope=col>Pr(&gt;F)</th></tr></thead>\n",
       "<tbody>\n",
       "\t<tr><th scope=row>passenger_class</th><td>  2         </td><td> 26689.69   </td><td>13344.8450  </td><td>75.90261    </td><td>2.925659e-30</td></tr>\n",
       "\t<tr><th scope=row>Residuals</th><td>630         </td><td>110763.68   </td><td>  175.8154  </td><td>      NA    </td><td>          NA</td></tr>\n",
       "</tbody>\n",
       "</table>\n"
      ],
      "text/latex": [
       "\\begin{tabular}{r|lllll}\n",
       "  & Df & Sum Sq & Mean Sq & F value & Pr(>F)\\\\\n",
       "\\hline\n",
       "\tpassenger\\_class &   2          &  26689.69    & 13344.8450   & 75.90261     & 2.925659e-30\\\\\n",
       "\tResiduals & 630          & 110763.68    &   175.8154   &       NA     &           NA\\\\\n",
       "\\end{tabular}\n"
      ],
      "text/markdown": [
       "\n",
       "| <!--/--> | Df | Sum Sq | Mean Sq | F value | Pr(>F) |\n",
       "|---|---|---|---|---|---|\n",
       "| passenger_class |   2          |  26689.69    | 13344.8450   | 75.90261     | 2.925659e-30 |\n",
       "| Residuals | 630          | 110763.68    |   175.8154   |       NA     |           NA |\n",
       "\n"
      ],
      "text/plain": [
       "                Df  Sum Sq    Mean Sq    F value  Pr(>F)      \n",
       "passenger_class   2  26689.69 13344.8450 75.90261 2.925659e-30\n",
       "Residuals       630 110763.68   175.8154       NA           NA"
      ]
     },
     "metadata": {},
     "output_type": "display_data"
    }
   ],
   "source": [
    "anova(titanicANOVA)"
   ]
  },
  {
   "cell_type": "markdown",
   "id": "138371b9",
   "metadata": {},
   "source": [
    "This table shows the results of a test of the null hypothesis that the mean ages are the same among the three groups. The P-value is very small, and so we reject the null hypothesis of no differences in mean age among the passenger classes. \n",
    "-> Meaning that the mean difference amongst passenger class is significant"
   ]
  },
  {
   "cell_type": "markdown",
   "id": "821096e0",
   "metadata": {},
   "source": [
    "## 2. Tukey-Kramer test  \n",
    "A single-factor ANOVA can tell us that at least one group has a different mean from another group, but it does not inform us which group means are different from which other group means. A Tukey-Kramer test lets us test the null hypothesis of no difference between the population means for all pairs of groups. The Tukey-Kramer test (also known as a Tukey Honest Significance Test, or Tukey HSD), is implemented in R in the function TukeyHSD().  \n",
    "We will use the results of an ANOVA done with lm() as above, that we stored in the variable titanicANOVA. To do a Tukey-Kramer test on these data, we need to first apply the function aov() to titanicANOVA, and then we need to apply the function TukeyHSD to the result. We can do this in a single command:"
   ]
  },
  {
   "cell_type": "code",
   "execution_count": 21,
   "id": "acf34a4b",
   "metadata": {},
   "outputs": [
    {
     "data": {
      "text/plain": [
       "  Tukey multiple comparisons of means\n",
       "    95% family-wise confidence level\n",
       "\n",
       "Fit: aov(formula = titanicANOVA)\n",
       "\n",
       "$passenger_class\n",
       "              diff        lwr        upr     p adj\n",
       "2nd-1st -11.367459 -14.345803  -8.389115 0.0000000\n",
       "3rd-1st -15.148115 -18.192710 -12.103521 0.0000000\n",
       "3rd-2nd  -3.780656  -6.871463  -0.689849 0.0116695\n"
      ]
     },
     "metadata": {},
     "output_type": "display_data"
    }
   ],
   "source": [
    "TukeyHSD(aov(titanicANOVA))"
   ]
  },
  {
   "cell_type": "markdown",
   "id": "5a1b4795",
   "metadata": {},
   "source": [
    "The key part of this output is the table at the bottom. It estimates the difference between the means of groups (for example, the 2nd passenger class compared to the 1st passenger class) and calculates a 95% confidence interval for the difference between the corresponding population means. (“lwr” and “upr” correspond to the lower and upper bounds of that confidence interval for the difference in means.) Finally, it give the P-value from a test of the null hypothesis of no difference between the means (the column headed with “p adj”). In the case of the Titanic data, P is less than 0.05 in all pairs, and we therefore reject every null hypothesis. We conclude that the population mean ages of all passenger classes are significantly different from each other."
   ]
  },
  {
   "cell_type": "markdown",
   "id": "a43e5b9a",
   "metadata": {},
   "source": [
    "## 3. Kruskal-Wallis test  \n",
    "A Kruskal-Wallis test is a non-parametric analog of a one-way ANOVA. It does not assume that the variable has a normal distribution. (Instead, it tests whether the variable has the same distribution with the same mean in each group.)  \n",
    "To run a Kruskal-Wallis test, use the R function kruskal.test(). The input for this function is the same as we used for lm() above. It includes a model formula statement and the name of the data frame to be used."
   ]
  },
  {
   "cell_type": "code",
   "execution_count": 22,
   "id": "ade1527b",
   "metadata": {},
   "outputs": [
    {
     "data": {
      "text/plain": [
       "\n",
       "\tKruskal-Wallis rank sum test\n",
       "\n",
       "data:  age by passenger_class\n",
       "Kruskal-Wallis chi-squared = 116.08, df = 2, p-value < 2.2e-16\n"
      ]
     },
     "metadata": {},
     "output_type": "display_data"
    }
   ],
   "source": [
    "kruskal.test(data = titanicData, age ~ passenger_class)"
   ]
  },
  {
   "cell_type": "markdown",
   "id": "c87bd1ae",
   "metadata": {},
   "source": [
    "You can see for the output that a Kruskal-Wallis test also strongly rejects the null hypothesis of equality of age for all passenger class groups with the Titanic data."
   ]
  },
  {
   "cell_type": "code",
   "execution_count": null,
   "id": "55d5183c",
   "metadata": {},
   "outputs": [],
   "source": []
  }
 ],
 "metadata": {
  "kernelspec": {
   "display_name": "R",
   "language": "R",
   "name": "ir"
  },
  "language_info": {
   "codemirror_mode": "r",
   "file_extension": ".r",
   "mimetype": "text/x-r-source",
   "name": "R",
   "pygments_lexer": "r",
   "version": "3.6.1"
  }
 },
 "nbformat": 4,
 "nbformat_minor": 5
}
