{
 "cells": [
  {
   "cell_type": "code",
   "execution_count": null,
   "id": "bc5abf91",
   "metadata": {},
   "outputs": [],
   "source": []
  },
  {
   "cell_type": "code",
   "execution_count": 33,
   "id": "5a9f75b1",
   "metadata": {},
   "outputs": [],
   "source": [
    "# install.packages(\"dtw\")"
   ]
  },
  {
   "cell_type": "code",
   "execution_count": 36,
   "id": "8d65f82d",
   "metadata": {},
   "outputs": [],
   "source": [
    "library(dtw)\n",
    "options(repr.plot.width = 4, repr.plot.height = 3.5)"
   ]
  },
  {
   "cell_type": "code",
   "execution_count": 37,
   "id": "3cc25243",
   "metadata": {},
   "outputs": [],
   "source": [
    "# n <- 200\n",
    "# a <- sin(seq(0,4*pi, len = n)) + runif(n)/5\n",
    "# b <- cos(seq(-pi,3*pi, len = n)) + runif(n)/5\n",
    "# plot(a, type = \"l\")\n",
    "# lines(b, col = \"blue\")"
   ]
  },
  {
   "cell_type": "code",
   "execution_count": 38,
   "id": "815a981c",
   "metadata": {},
   "outputs": [
    {
     "data": {
      "image/png": "[encoded data removed]",
      "text/plain": [
       "plot without title"
      ]
     },
     "metadata": {},
     "output_type": "display_data"
    }
   ],
   "source": [
    "x = c(0, 0, 1, 1, 0, 0, -1, 0, 0, 0, 0)\n",
    "y <- c(0, 0, 0, 0, 1, 1, 0, 0, 0, -1, -0.5, 0, 0)\n",
    "plot(x, type = \"l\")\n",
    "lines(y, col = \"blue\")"
   ]
  },
  {
   "cell_type": "code",
   "execution_count": 39,
   "id": "03d6dc44",
   "metadata": {},
   "outputs": [],
   "source": [
    "align <- dtw(x, y, keep = T)"
   ]
  },
  {
   "cell_type": "code",
   "execution_count": 40,
   "id": "124352ea",
   "metadata": {},
   "outputs": [
    {
     "name": "stdout",
     "output_type": "stream",
     "text": [
      "List of 20\n",
      " $ costMatrix        : num [1:11, 1:13] 0 0 1 2 2 2 3 3 3 3 ...\n",
      " $ directionMatrix   : int [1:11, 1:13] NA 3 3 3 3 3 3 3 3 3 ...\n",
      " $ stepPattern       : 'stepPattern' num [1:6, 1:4] 1 1 2 2 3 3 1 0 0 0 ...\n",
      "  ..- attr(*, \"npat\")= num 3\n",
      "  ..- attr(*, \"norm\")= chr \"N+M\"\n",
      " $ N                 : int 11\n",
      " $ M                 : int 13\n",
      " $ call              : language dtw(x = x, y = y, keep.internals = T)\n",
      " $ openEnd           : logi FALSE\n",
      " $ openBegin         : logi FALSE\n",
      " $ windowFunction    :function (iw, jw, ...)  \n",
      " $ jmin              : int 13\n",
      " $ distance          : num 0.5\n",
      " $ normalizedDistance: num 0.0208\n",
      " $ index1            : num [1:15] 1 1 1 2 3 4 5 5 6 7 ...\n",
      " $ index2            : num [1:15] 1 2 3 4 5 6 7 8 9 10 ...\n",
      " $ index1s           : num [1:15] 1 1 1 2 3 4 5 5 6 7 ...\n",
      " $ index2s           : num [1:15] 1 2 3 4 5 6 7 8 9 10 ...\n",
      " $ stepsTaken        : int [1:14] 2 2 1 1 1 1 2 1 1 2 ...\n",
      " $ localCostMatrix   : 'crossdist' num [1:11, 1:13] 0 0 1 1 0 0 1 0 0 0 ...\n",
      "  ..- attr(*, \"method\")= chr \"Euclidean\"\n",
      "  ..- attr(*, \"call\")= language proxy::dist(x = x, y = y, method = dist.method)\n",
      " $ query             : num [1:11, 1] 0 0 1 1 0 0 -1 0 0 0 ...\n",
      " $ reference         : num [1:13, 1] 0 0 0 0 1 1 0 0 0 -1 ...\n",
      " - attr(*, \"class\")= chr \"dtw\"\n"
     ]
    }
   ],
   "source": [
    "str(align)"
   ]
  },
  {
   "cell_type": "code",
   "execution_count": 41,
   "id": "ebec3a8d",
   "metadata": {},
   "outputs": [
    {
     "data": {
      "image/png": "[encoded data removed]",
      "text/plain": [
       "plot without title"
      ]
     },
     "metadata": {},
     "output_type": "display_data"
    }
   ],
   "source": [
    "dtwPlotTwoWay(align, offset = -5)"
   ]
  },
  {
   "cell_type": "code",
   "execution_count": 32,
   "id": "61d86e5b",
   "metadata": {},
   "outputs": [
    {
     "data": {
      "image/png": "[encoded data removed]",
      "text/plain": [
       "plot without title"
      ]
     },
     "metadata": {},
     "output_type": "display_data"
    }
   ],
   "source": [
    "dtwPlotDensity(align)"
   ]
  },
  {
   "cell_type": "code",
   "execution_count": null,
   "id": "cc493366",
   "metadata": {},
   "outputs": [],
   "source": []
  }
 ],
 "metadata": {
  "kernelspec": {
   "display_name": "R",
   "language": "R",
   "name": "ir"
  },
  "language_info": {
   "codemirror_mode": "r",
   "file_extension": ".r",
   "mimetype": "text/x-r-source",
   "name": "R",
   "pygments_lexer": "r",
   "version": "3.6.1"
  }
 },
 "nbformat": 4,
 "nbformat_minor": 5
}
