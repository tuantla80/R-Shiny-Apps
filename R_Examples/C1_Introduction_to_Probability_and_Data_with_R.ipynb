{
 "cells": [
  {
   "cell_type": "code",
   "execution_count": null,
   "id": "ef251973",
   "metadata": {},
   "outputs": [],
   "source": []
  },
  {
   "cell_type": "markdown",
   "id": "293e123c",
   "metadata": {},
   "source": [
    "# I. Theory"
   ]
  },
  {
   "cell_type": "markdown",
   "id": "4ac1df69",
   "metadata": {},
   "source": [
    "## 1. Data"
   ]
  },
  {
   "cell_type": "markdown",
   "id": "86fca63c",
   "metadata": {},
   "source": [
    "Example:  \n",
    "> Student height → continuous numerical  \n",
    "> Whether a student has previously taken a statistics course → categorical  \n",
    "> Customer satisfaction: very unsatisfied, unsatisfied, satisfied, very satisfied → ordinal categorical.  \n",
    "> Population of each state in the US → continuous numerical <- <b> WRONG </b> Becasue counted data are discrete numerical variables since they can’t take on non-whole values.  \n",
    "\n",
    "Terms:\n",
    "- retrospective: uses past data\n",
    "- prospective: data are collected throughout the study."
   ]
  },
  {
   "cell_type": "markdown",
   "id": "3fbbd4b4",
   "metadata": {},
   "source": [
    "## 2. Observational Studies & Experiments"
   ]
  },
  {
   "cell_type": "markdown",
   "id": "f0565e6f",
   "metadata": {},
   "source": [
    "> <b> 1. Observational study: </b> No random assignment.   \n",
    "For the most part, it allows us to make only correlational statements.  \n",
    "> <b> 2. Experiments: </b> Using random assignment.  \n",
    "It allow us to infer causation.\n",
    "\n",
    "<h3> Note </h3>  \n",
    "Correlation does not imply causation"
   ]
  },
  {
   "cell_type": "markdown",
   "id": "1393a368",
   "metadata": {},
   "source": [
    "## 3. Sampling and sources of bias"
   ]
  },
  {
   "cell_type": "markdown",
   "id": "fc57c524",
   "metadata": {},
   "source": [
    "<h3>Few sources of sampling bias</h3>  \n",
    "\n",
    "> <b> 1. Convenience sample: </b> Individuals who are easily accessible are more likely to be included in the sample.  \n",
    "> <b> 2. Non-response: </b> If only a (non-random) fraction of the randomly sampled people respond to a survey such that the sample is no longer representative of the poppulation.  \n",
    "> <b> 3. Voluntary response: </b> Occurs when the sample consists of people whi volunteer to respond because they have strong opinions on the issues. \n",
    "\n",
    "<h3>Sampling methods</h3>\n",
    "\n",
    "> <b> 1. Simple Random Sample (SRS: </b> Each case is equally likely to be selected.  \n",
    "> <b> 2. Stratified Sample: </b> Divide the population into homogenous groups strata (eg. Male and Female groups), then randomly sample from within each stratum.  \n",
    "> <b> 3. Cluster Sample: </b> Divide the population into clusters (heterogeneous within themselves - different with stratified), randomly sample a few clusters, then sample all observations within these clusters.  \n",
    "> <b> 4. Multistage sample: </b> Divide the population clusters (heterogeneous within themselves - different with stratified), randomly sample a few clusters, then randomly sample within these clusters.  "
   ]
  },
  {
   "cell_type": "markdown",
   "id": "b2669cd1",
   "metadata": {},
   "source": [
    "## 4. Experimental Design"
   ]
  },
  {
   "cell_type": "markdown",
   "id": "e3793c9c",
   "metadata": {},
   "source": [
    "<h3>The 4 principles of experimental design</h3>  \n",
    "\n",
    "> <b> 1. Control: </b> To compare treatment of interest to a control group.  \n",
    "> <b> 2. Randomize: </b> To randomely assign subjects to treatments.  \n",
    "> <b> 3. Replicate: </b> To collect a sufficiently large sample or replicate the entire study.  \n",
    "> <b> 4. Block: </b> To block for variables known or suspected to affect the outcome.  \n",
    "\n",
    "<h4>For example: Design an experiment investigating whether energy gels help you run faster. </h4>\n",
    "\n",
    "> Treatment group: energy gel <br> \n",
    "> Control group: No energy gel <br> \n",
    "> Since energy gels might affect pro and amateur athletes differently, we, therefore, <b>block</b> for pro status:  \n",
    "    - Divide the sample to pro and amateur <br>\n",
    "    - Randomly assign pro and amateur athletes to treatment and control groups.  \n",
    "    --> pro and amateur athletes are equally represented in both groups  \n",
    "    \n",
    "<h4> Blocking vs. explanatory variables </h4>  \n",
    "\n",
    "> Explanatory variables (aka factors): conditions we can impose on experimental units.  \n",
    "> Blocking variables: Characteristecs that experimental units come with, that we would like to control for.  \n",
    "\n",
    "<h4> Example: </h4>  \n",
    "A study is designed to test the effect of light level and noise level on exam performance of students. The researcher also believes that light and noise levels might have different effects on males and females, so wants to make sure both genders are represented equally under different conditions. <br>\n",
    "Therefore, there are  <b> 2 explanatory variables (light and noise), 1 blocking variable (gender), and 1 response variable (exam performance)  </b> (The researchers are interested in the effect of light and noise on exam performance. Since they believe these two variables might be affecting the outcome, these are the explanatory variables and exam performance is the response variable. Gender of the student is a nuisance variable they want to control for, hence they block for it. Unlike light and noise, gender is not a treatment that is being imposed on the subjects.)\n",
    "\n",
    "<h4> Random sampling vs. Random assigment </h4>  \n",
    "\n",
    "> <b>Random sampling</b>: Population -> get samples (subjects are being selected for a study) -> If subjects selected randomly from population and each subject in the population is equally likely to be selected and the resulting sample is likely representative of the population, therefore, the result is <b>generalizability</b>  \n",
    "> <b>Random assigment</b>: samples -> the subjects are being assigned to various treatments. By a random assigment, we ensure that the different characteristics of subjects are represented equally in the treatment and control groups. This allows us to attribute any observed difference between the treatment and control groups. Therefore, we can make <b>causal conclusions</b> based on the study.   \n",
    "\n",
    "<h4> Confounder (Confounding) variables </h4>  \n",
    "\n",
    "> Eg. <b>Conduct a study evaluating whether people read Serif or Sans Serif fonts faster.</b>  \n",
    "> We design: Population --> Samples --> Assign two treatment groups: Group 1. People who read Serif and Group 2. People who read Sans Serif and compare when they read the same text content. Through random assigment, we ensure that <b> other factors that may be contributing to reading speed, for example, fluency or how often they read the subject for leisure, are represented equally in the two groups. We call such variables confounder or confounding variables </b> <br>  \n",
    "Confounding variables: Extraneous variables that affect both the explanatory and the response variable, and that make it seem like there is a relationship between them.   \n",
    "> Note: Stratified sampling allows for controlling for possible confounders in the sampling stage, while blocking allows for controlling for such variables during random assignment."
   ]
  },
  {
   "cell_type": "markdown",
   "id": "a1a85978",
   "metadata": {},
   "source": [
    "# II. R"
   ]
  },
  {
   "cell_type": "code",
   "execution_count": 7,
   "id": "61ba435e",
   "metadata": {
    "scrolled": false
   },
   "outputs": [],
   "source": [
    "library(devtools)\n",
    "\n",
    "# Run one time for the below code\n",
    "# devtools::install_github(\"statswithr/statsr\",\n",
    "#                          dependencies=TRUE,\n",
    "#                          upgrade_dependencies = TRUE)"
   ]
  },
  {
   "cell_type": "code",
   "execution_count": null,
   "id": "db47793e",
   "metadata": {},
   "outputs": [],
   "source": []
  }
 ],
 "metadata": {
  "kernelspec": {
   "display_name": "R",
   "language": "R",
   "name": "ir"
  },
  "language_info": {
   "codemirror_mode": "r",
   "file_extension": ".r",
   "mimetype": "text/x-r-source",
   "name": "R",
   "pygments_lexer": "r",
   "version": "3.6.1"
  }
 },
 "nbformat": 4,
 "nbformat_minor": 5
}
