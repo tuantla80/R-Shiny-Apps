{
 "cells": [
  {
   "cell_type": "markdown",
   "id": "fa128162",
   "metadata": {},
   "source": [
    "### R workflow:  \n",
    "```\n",
    "We organise our analyses in R as follows:\n",
    "\n",
    "(0) Check the data source file / format in advance and pre-process if necessary.  \n",
    "(1) Preparation: import libraries that we'll need for the analyses.  \n",
    "(2) Set-up: import the data set, and do some initial checks.  \n",
    "(3) Data management:  set data types/ restructure/subset data as needed.  \n",
    "(4) Data exploration: visualisation for assessing patterns/associations.  \n",
    "(5) Fit statistical model:  \n",
    "    (a) assess model assumptions  \n",
    "    (b) statistical inference  \n",
    "    (c) obtain estimates of treatment effects (plus/minus uncertainty)  \n",
    "(6) Graphical or tabular summary of statistical model.\n",
    "```"
   ]
  },
  {
   "cell_type": "markdown",
   "id": "00694741",
   "metadata": {},
   "source": [
    "## 1. Set up libraries"
   ]
  },
  {
   "cell_type": "code",
   "execution_count": 1,
   "id": "30945d78",
   "metadata": {},
   "outputs": [],
   "source": [
    "# Linear Mixed Effects Models\n",
    "# install.packages(\"lmerTest\") \n",
    "\n",
    "# Providing an easier way to both create and view diagnostic plots for models in R.\n",
    "# install.packages(\"ggResidpanel\") \n",
    "\n",
    "# Estimated Marginal Means, aka Least-Squares Means\n",
    "# install.packages(\"emmeans\")\n",
    "\n",
    "# The following libs may need to install as requirements of above installations\n",
    "# install.packages(\"lme4\")\n",
    "# install.packages(\"Matrix\")\n",
    "# install.packages(\"statmod\")"
   ]
  },
  {
   "cell_type": "markdown",
   "id": "9524341f",
   "metadata": {},
   "source": [
    "## 2. Import data and check data structure"
   ]
  },
  {
   "cell_type": "code",
   "execution_count": 2,
   "id": "1d73e88d",
   "metadata": {},
   "outputs": [
    {
     "name": "stderr",
     "output_type": "stream",
     "text": [
      "Warning message:\n",
      "\"package 'tidyr' was built under R version 3.6.3\"Warning message:\n",
      "\"package 'dplyr' was built under R version 3.6.3\"\n",
      "Attaching package: 'dplyr'\n",
      "\n",
      "The following objects are masked from 'package:stats':\n",
      "\n",
      "    filter, lag\n",
      "\n",
      "The following objects are masked from 'package:base':\n",
      "\n",
      "    intersect, setdiff, setequal, union\n",
      "\n",
      "Warning message:\n",
      "\"package 'lmerTest' was built under R version 3.6.3\"Loading required package: lme4\n",
      "Warning message:\n",
      "\"package 'lme4' was built under R version 3.6.3\"Loading required package: Matrix\n",
      "\n",
      "Attaching package: 'Matrix'\n",
      "\n",
      "The following objects are masked from 'package:tidyr':\n",
      "\n",
      "    expand, pack, unpack\n",
      "\n",
      "\n",
      "Attaching package: 'lmerTest'\n",
      "\n",
      "The following object is masked from 'package:lme4':\n",
      "\n",
      "    lmer\n",
      "\n",
      "The following object is masked from 'package:stats':\n",
      "\n",
      "    step\n",
      "\n",
      "Warning message:\n",
      "\"package 'ggResidpanel' was built under R version 3.6.3\""
     ]
    }
   ],
   "source": [
    "#library(readxl)\n",
    "#library(janitor)\n",
    "library(ggplot2)\n",
    "library(tidyr)\n",
    "library(dplyr)\n",
    "library(lmerTest)\n",
    "library(ggResidpanel)\n",
    "library(emmeans)"
   ]
  },
  {
   "cell_type": "code",
   "execution_count": 3,
   "id": "b74071ef",
   "metadata": {},
   "outputs": [
    {
     "name": "stdout",
     "output_type": "stream",
     "text": [
      "'data.frame':\t492 obs. of  7 variables:\n",
      " $ animal_id        : Factor w/ 44 levels \"ETF1\",\"ETF10\",..: 1 1 1 1 1 1 4 4 4 4 ...\n",
      " $ prenatal_exposure: Factor w/ 2 levels \"alcohol\",\"free choice liquid diet\": 1 1 1 1 1 1 1 1 1 1 ...\n",
      " $ weight           : int  59 59 59 59 59 59 68 68 68 68 ...\n",
      " $ sex              : Factor w/ 2 levels \"female\",\"male\": 1 1 1 1 1 1 1 1 1 1 ...\n",
      " $ concentration    : num  0 0.1 0.3 1 3 6 0 0.1 0.3 1 ...\n",
      " $ avgLicks         : num  54.5 54.8 34.4 46.2 13.6 ...\n",
      " $ stimulus         : Factor w/ 2 levels \"nicotine\",\"sucrose\": 1 1 1 1 1 1 1 1 1 1 ...\n"
     ]
    }
   ],
   "source": [
    "df <- read.csv(\"data/combined_avg_licks_data.csv\")\n",
    "str(df)"
   ]
  },
  {
   "cell_type": "code",
   "execution_count": 4,
   "id": "2193b000",
   "metadata": {},
   "outputs": [
    {
     "data": {
      "text/html": [
       "<ol class=list-inline>\n",
       "\t<li>492</li>\n",
       "\t<li>7</li>\n",
       "</ol>\n"
      ],
      "text/latex": [
       "\\begin{enumerate*}\n",
       "\\item 492\n",
       "\\item 7\n",
       "\\end{enumerate*}\n"
      ],
      "text/markdown": [
       "1. 492\n",
       "2. 7\n",
       "\n",
       "\n"
      ],
      "text/plain": [
       "[1] 492   7"
      ]
     },
     "metadata": {},
     "output_type": "display_data"
    },
    {
     "data": {
      "text/html": [
       "<table>\n",
       "<thead><tr><th scope=col>animal_id</th><th scope=col>prenatal_exposure</th><th scope=col>weight</th><th scope=col>sex</th><th scope=col>concentration</th><th scope=col>avgLicks</th><th scope=col>stimulus</th></tr></thead>\n",
       "<tbody>\n",
       "\t<tr><td>ETF1    </td><td>alcohol </td><td>59      </td><td>female  </td><td>0.0     </td><td>54.5    </td><td>nicotine</td></tr>\n",
       "\t<tr><td>ETF1    </td><td>alcohol </td><td>59      </td><td>female  </td><td>0.1     </td><td>54.8    </td><td>nicotine</td></tr>\n",
       "\t<tr><td>ETF1    </td><td>alcohol </td><td>59      </td><td>female  </td><td>0.3     </td><td>34.4    </td><td>nicotine</td></tr>\n",
       "</tbody>\n",
       "</table>\n"
      ],
      "text/latex": [
       "\\begin{tabular}{r|lllllll}\n",
       " animal\\_id & prenatal\\_exposure & weight & sex & concentration & avgLicks & stimulus\\\\\n",
       "\\hline\n",
       "\t ETF1     & alcohol  & 59       & female   & 0.0      & 54.5     & nicotine\\\\\n",
       "\t ETF1     & alcohol  & 59       & female   & 0.1      & 54.8     & nicotine\\\\\n",
       "\t ETF1     & alcohol  & 59       & female   & 0.3      & 34.4     & nicotine\\\\\n",
       "\\end{tabular}\n"
      ],
      "text/markdown": [
       "\n",
       "| animal_id | prenatal_exposure | weight | sex | concentration | avgLicks | stimulus |\n",
       "|---|---|---|---|---|---|---|\n",
       "| ETF1     | alcohol  | 59       | female   | 0.0      | 54.5     | nicotine |\n",
       "| ETF1     | alcohol  | 59       | female   | 0.1      | 54.8     | nicotine |\n",
       "| ETF1     | alcohol  | 59       | female   | 0.3      | 34.4     | nicotine |\n",
       "\n"
      ],
      "text/plain": [
       "  animal_id prenatal_exposure weight sex    concentration avgLicks stimulus\n",
       "1 ETF1      alcohol           59     female 0.0           54.5     nicotine\n",
       "2 ETF1      alcohol           59     female 0.1           54.8     nicotine\n",
       "3 ETF1      alcohol           59     female 0.3           34.4     nicotine"
      ]
     },
     "metadata": {},
     "output_type": "display_data"
    },
    {
     "data": {
      "text/html": [
       "<table>\n",
       "<thead><tr><th></th><th scope=col>animal_id</th><th scope=col>prenatal_exposure</th><th scope=col>weight</th><th scope=col>sex</th><th scope=col>concentration</th><th scope=col>avgLicks</th><th scope=col>stimulus</th></tr></thead>\n",
       "<tbody>\n",
       "\t<tr><th scope=row>490</th><td>FCM11                  </td><td>free choice liquid diet</td><td>59                     </td><td>male                   </td><td>0.2                    </td><td>22.45455               </td><td>sucrose                </td></tr>\n",
       "\t<tr><th scope=row>491</th><td>FCM11                  </td><td>free choice liquid diet</td><td>59                     </td><td>male                   </td><td>0.3                    </td><td>54.36364               </td><td>sucrose                </td></tr>\n",
       "\t<tr><th scope=row>492</th><td>FCM11                  </td><td>free choice liquid diet</td><td>59                     </td><td>male                   </td><td>0.6                    </td><td>58.09091               </td><td>sucrose                </td></tr>\n",
       "</tbody>\n",
       "</table>\n"
      ],
      "text/latex": [
       "\\begin{tabular}{r|lllllll}\n",
       "  & animal\\_id & prenatal\\_exposure & weight & sex & concentration & avgLicks & stimulus\\\\\n",
       "\\hline\n",
       "\t490 & FCM11                   & free choice liquid diet & 59                      & male                    & 0.2                     & 22.45455                & sucrose                \\\\\n",
       "\t491 & FCM11                   & free choice liquid diet & 59                      & male                    & 0.3                     & 54.36364                & sucrose                \\\\\n",
       "\t492 & FCM11                   & free choice liquid diet & 59                      & male                    & 0.6                     & 58.09091                & sucrose                \\\\\n",
       "\\end{tabular}\n"
      ],
      "text/markdown": [
       "\n",
       "| <!--/--> | animal_id | prenatal_exposure | weight | sex | concentration | avgLicks | stimulus |\n",
       "|---|---|---|---|---|---|---|---|\n",
       "| 490 | FCM11                   | free choice liquid diet | 59                      | male                    | 0.2                     | 22.45455                | sucrose                 |\n",
       "| 491 | FCM11                   | free choice liquid diet | 59                      | male                    | 0.3                     | 54.36364                | sucrose                 |\n",
       "| 492 | FCM11                   | free choice liquid diet | 59                      | male                    | 0.6                     | 58.09091                | sucrose                 |\n",
       "\n"
      ],
      "text/plain": [
       "    animal_id prenatal_exposure       weight sex  concentration avgLicks\n",
       "490 FCM11     free choice liquid diet 59     male 0.2           22.45455\n",
       "491 FCM11     free choice liquid diet 59     male 0.3           54.36364\n",
       "492 FCM11     free choice liquid diet 59     male 0.6           58.09091\n",
       "    stimulus\n",
       "490 sucrose \n",
       "491 sucrose \n",
       "492 sucrose "
      ]
     },
     "metadata": {},
     "output_type": "display_data"
    }
   ],
   "source": [
    "dim(df)\n",
    "head(df, 3)\n",
    "tail(df, 3)"
   ]
  },
  {
   "cell_type": "markdown",
   "id": "bc806bab",
   "metadata": {},
   "source": [
    "```\n",
    "Check that you understand how the data are set up, how many observations there are in each group, etc. typically by\n",
    "constructing some kind of summary table.\n",
    "```"
   ]
  },
  {
   "cell_type": "code",
   "execution_count": 5,
   "id": "986cd173",
   "metadata": {},
   "outputs": [
    {
     "name": "stderr",
     "output_type": "stream",
     "text": [
      "`summarise()` has grouped output by 'prenatal_exposure', 'sex'. You can override using the `.groups` argument.\n"
     ]
    },
    {
     "data": {
      "text/html": [
       "<ol class=list-inline>\n",
       "\t<li>8</li>\n",
       "\t<li>4</li>\n",
       "</ol>\n"
      ],
      "text/latex": [
       "\\begin{enumerate*}\n",
       "\\item 8\n",
       "\\item 4\n",
       "\\end{enumerate*}\n"
      ],
      "text/markdown": [
       "1. 8\n",
       "2. 4\n",
       "\n",
       "\n"
      ],
      "text/plain": [
       "[1] 8 4"
      ]
     },
     "metadata": {},
     "output_type": "display_data"
    },
    {
     "data": {
      "text/html": [
       "<table>\n",
       "<thead><tr><th scope=col>prenatal_exposure</th><th scope=col>sex</th><th scope=col>stimulus</th><th scope=col>count</th></tr></thead>\n",
       "<tbody>\n",
       "\t<tr><td>alcohol                </td><td>female                 </td><td>nicotine               </td><td>54                     </td></tr>\n",
       "\t<tr><td>alcohol                </td><td>female                 </td><td>sucrose                </td><td>66                     </td></tr>\n",
       "\t<tr><td>alcohol                </td><td>male                   </td><td>nicotine               </td><td>60                     </td></tr>\n",
       "\t<tr><td>alcohol                </td><td>male                   </td><td>sucrose                </td><td>66                     </td></tr>\n",
       "\t<tr><td>free choice liquid diet</td><td>female                 </td><td>nicotine               </td><td>60                     </td></tr>\n",
       "\t<tr><td>free choice liquid diet</td><td>female                 </td><td>sucrose                </td><td>66                     </td></tr>\n",
       "\t<tr><td>free choice liquid diet</td><td>male                   </td><td>nicotine               </td><td>54                     </td></tr>\n",
       "\t<tr><td>free choice liquid diet</td><td>male                   </td><td>sucrose                </td><td>66                     </td></tr>\n",
       "</tbody>\n",
       "</table>\n"
      ],
      "text/latex": [
       "\\begin{tabular}{r|llll}\n",
       " prenatal\\_exposure & sex & stimulus & count\\\\\n",
       "\\hline\n",
       "\t alcohol                 & female                  & nicotine                & 54                     \\\\\n",
       "\t alcohol                 & female                  & sucrose                 & 66                     \\\\\n",
       "\t alcohol                 & male                    & nicotine                & 60                     \\\\\n",
       "\t alcohol                 & male                    & sucrose                 & 66                     \\\\\n",
       "\t free choice liquid diet & female                  & nicotine                & 60                     \\\\\n",
       "\t free choice liquid diet & female                  & sucrose                 & 66                     \\\\\n",
       "\t free choice liquid diet & male                    & nicotine                & 54                     \\\\\n",
       "\t free choice liquid diet & male                    & sucrose                 & 66                     \\\\\n",
       "\\end{tabular}\n"
      ],
      "text/markdown": [
       "\n",
       "| prenatal_exposure | sex | stimulus | count |\n",
       "|---|---|---|---|\n",
       "| alcohol                 | female                  | nicotine                | 54                      |\n",
       "| alcohol                 | female                  | sucrose                 | 66                      |\n",
       "| alcohol                 | male                    | nicotine                | 60                      |\n",
       "| alcohol                 | male                    | sucrose                 | 66                      |\n",
       "| free choice liquid diet | female                  | nicotine                | 60                      |\n",
       "| free choice liquid diet | female                  | sucrose                 | 66                      |\n",
       "| free choice liquid diet | male                    | nicotine                | 54                      |\n",
       "| free choice liquid diet | male                    | sucrose                 | 66                      |\n",
       "\n"
      ],
      "text/plain": [
       "  prenatal_exposure       sex    stimulus count\n",
       "1 alcohol                 female nicotine 54   \n",
       "2 alcohol                 female sucrose  66   \n",
       "3 alcohol                 male   nicotine 60   \n",
       "4 alcohol                 male   sucrose  66   \n",
       "5 free choice liquid diet female nicotine 60   \n",
       "6 free choice liquid diet female sucrose  66   \n",
       "7 free choice liquid diet male   nicotine 54   \n",
       "8 free choice liquid diet male   sucrose  66   "
      ]
     },
     "metadata": {},
     "output_type": "display_data"
    }
   ],
   "source": [
    "df_1 <- df %>%\n",
    "            group_by(prenatal_exposure, sex, stimulus) %>%\n",
    "            summarise(count = n()) %>%  # summarise(mean(count = n()))  \n",
    "            ungroup()  \n",
    "dim(df_1)\n",
    "df_1"
   ]
  },
  {
   "cell_type": "code",
   "execution_count": 6,
   "id": "9693edd1",
   "metadata": {},
   "outputs": [
    {
     "name": "stdout",
     "output_type": "stream",
     "text": [
      "'data.frame':\t492 obs. of  7 variables:\n",
      " $ animal_id        : Factor w/ 44 levels \"ETF1\",\"ETF10\",..: 1 1 1 1 1 1 4 4 4 4 ...\n",
      " $ prenatal_exposure: Factor w/ 2 levels \"free choice liquid diet\",..: 2 2 2 2 2 2 2 2 2 2 ...\n",
      " $ weight           : int  59 59 59 59 59 59 68 68 68 68 ...\n",
      " $ sex              : Factor w/ 2 levels \"female\",\"male\": 1 1 1 1 1 1 1 1 1 1 ...\n",
      " $ concentration    : num  0 0.1 0.3 1 3 6 0 0.1 0.3 1 ...\n",
      " $ avgLicks         : num  54.5 54.8 34.4 46.2 13.6 ...\n",
      " $ stimulus         : Factor w/ 2 levels \"sucrose\",\"nicotine\": 2 2 2 2 2 2 2 2 2 2 ...\n"
     ]
    }
   ],
   "source": [
    "df$prenatal_exposure <- factor(df$prenatal_exposure,\n",
    "                               levels = c('free choice liquid diet', 'alcohol'))\n",
    "\n",
    "df$stimulus <- factor(df$stimulus,\n",
    "                      levels = c('sucrose', 'nicotine'))\n",
    "str(df)"
   ]
  },
  {
   "cell_type": "markdown",
   "id": "c2cd1022",
   "metadata": {},
   "source": [
    "## 3. Data exploration  \n",
    "Think of a few different ways to explore your data, keeping mind your research question."
   ]
  },
  {
   "cell_type": "code",
   "execution_count": 7,
   "id": "c65dd11e",
   "metadata": {},
   "outputs": [
    {
     "name": "stderr",
     "output_type": "stream",
     "text": [
      "Warning message:\n",
      "\"Transformation introduced infinite values in continuous x-axis\"Warning message:\n",
      "\"Transformation introduced infinite values in continuous x-axis\""
     ]
    },
    {
     "data": {
      "image/png": "[encoded data removed]",
      "text/plain": [
       "plot without title"
      ]
     },
     "metadata": {},
     "output_type": "display_data"
    }
   ],
   "source": [
    "options(repr.plot.width = 8, repr.plot.height = 3.5)\n",
    "\n",
    "ggplot(df, aes(x = concentration,\n",
    "               y = avgLicks,\n",
    "               color = prenatal_exposure,\n",
    "               group = animal_id)\n",
    "      ) +\n",
    "    geom_point() +\n",
    "    geom_line() +\n",
    "    scale_x_log10() +\n",
    "    facet_wrap(~stimulus, scale = 'free_x')"
   ]
  },
  {
   "cell_type": "code",
   "execution_count": 8,
   "id": "4f2a970a",
   "metadata": {},
   "outputs": [
    {
     "data": {
      "image/png": "[encoded data removed]",
      "text/plain": [
       "plot without title"
      ]
     },
     "metadata": {},
     "output_type": "display_data"
    }
   ],
   "source": [
    "ggplot(df, aes(x = factor(concentration),\n",
    "               y = avgLicks,\n",
    "               color = prenatal_exposure)\n",
    "      ) +\n",
    "    geom_boxplot() +\n",
    "    facet_wrap(~stimulus, scale = 'free_x')"
   ]
  },
  {
   "cell_type": "markdown",
   "id": "115651c2",
   "metadata": {},
   "source": [
    "## 4. Modeling"
   ]
  },
  {
   "cell_type": "code",
   "execution_count": 9,
   "id": "ec4af6d5",
   "metadata": {},
   "outputs": [],
   "source": [
    "# Fit a model to these data to address the research question. \n",
    "# This should respect your experimental design, include blocking factors, etc."
   ]
  },
  {
   "cell_type": "markdown",
   "id": "6db18819",
   "metadata": {},
   "source": [
    "### 4.1. nicotine modeling"
   ]
  },
  {
   "cell_type": "code",
   "execution_count": 10,
   "id": "ab575821",
   "metadata": {},
   "outputs": [],
   "source": [
    "nicotine <- df %>% filter(stimulus == 'nicotine')\n",
    "\n",
    "lm1 <- lmer(avgLicks ~ prenatal_exposure* concentration + sex + weight + (1|animal_id),\n",
    "            data = nicotine)"
   ]
  },
  {
   "cell_type": "markdown",
   "id": "7e4eaba0",
   "metadata": {},
   "source": [
    "#### Use the anova() function to get the ANOVA table. Interpret the table."
   ]
  },
  {
   "cell_type": "code",
   "execution_count": 11,
   "id": "021b8818",
   "metadata": {},
   "outputs": [
    {
     "data": {
      "text/html": [
       "<table>\n",
       "<thead><tr><th></th><th scope=col>Sum Sq</th><th scope=col>Mean Sq</th><th scope=col>NumDF</th><th scope=col>DenDF</th><th scope=col>F value</th><th scope=col>Pr(&gt;F)</th></tr></thead>\n",
       "<tbody>\n",
       "\t<tr><th scope=row>prenatal_exposure</th><td>  565.7969  </td><td>  565.7969  </td><td>1           </td><td> 42.10592   </td><td>  5.535568  </td><td>2.338082e-02</td></tr>\n",
       "\t<tr><th scope=row>concentration</th><td>29218.0992  </td><td>29218.0992  </td><td>1           </td><td>188.00000   </td><td>285.860131  </td><td>1.356011e-39</td></tr>\n",
       "\t<tr><th scope=row>sex</th><td>  129.8036  </td><td>  129.8036  </td><td>1           </td><td> 34.00000   </td><td>  1.269955  </td><td>2.676660e-01</td></tr>\n",
       "\t<tr><th scope=row>weight</th><td>  234.7147  </td><td>  234.7147  </td><td>1           </td><td> 34.00000   </td><td>  2.296370  </td><td>1.389194e-01</td></tr>\n",
       "\t<tr><th scope=row>prenatal_exposure:concentration</th><td>  157.9773  </td><td>  157.9773  </td><td>1           </td><td>188.00000   </td><td>  1.545597  </td><td>2.153348e-01</td></tr>\n",
       "</tbody>\n",
       "</table>\n"
      ],
      "text/latex": [
       "\\begin{tabular}{r|llllll}\n",
       "  & Sum Sq & Mean Sq & NumDF & DenDF & F value & Pr(>F)\\\\\n",
       "\\hline\n",
       "\tprenatal\\_exposure &   565.7969   &   565.7969   & 1            &  42.10592    &   5.535568   & 2.338082e-02\\\\\n",
       "\tconcentration & 29218.0992   & 29218.0992   & 1            & 188.00000    & 285.860131   & 1.356011e-39\\\\\n",
       "\tsex &   129.8036   &   129.8036   & 1            &  34.00000    &   1.269955   & 2.676660e-01\\\\\n",
       "\tweight &   234.7147   &   234.7147   & 1            &  34.00000    &   2.296370   & 1.389194e-01\\\\\n",
       "\tprenatal\\_exposure:concentration &   157.9773   &   157.9773   & 1            & 188.00000    &   1.545597   & 2.153348e-01\\\\\n",
       "\\end{tabular}\n"
      ],
      "text/markdown": [
       "\n",
       "| <!--/--> | Sum Sq | Mean Sq | NumDF | DenDF | F value | Pr(>F) |\n",
       "|---|---|---|---|---|---|---|\n",
       "| prenatal_exposure |   565.7969   |   565.7969   | 1            |  42.10592    |   5.535568   | 2.338082e-02 |\n",
       "| concentration | 29218.0992   | 29218.0992   | 1            | 188.00000    | 285.860131   | 1.356011e-39 |\n",
       "| sex |   129.8036   |   129.8036   | 1            |  34.00000    |   1.269955   | 2.676660e-01 |\n",
       "| weight |   234.7147   |   234.7147   | 1            |  34.00000    |   2.296370   | 1.389194e-01 |\n",
       "| prenatal_exposure:concentration |   157.9773   |   157.9773   | 1            | 188.00000    |   1.545597   | 2.153348e-01 |\n",
       "\n"
      ],
      "text/plain": [
       "                                Sum Sq     Mean Sq    NumDF DenDF    \n",
       "prenatal_exposure                 565.7969   565.7969 1      42.10592\n",
       "concentration                   29218.0992 29218.0992 1     188.00000\n",
       "sex                               129.8036   129.8036 1      34.00000\n",
       "weight                            234.7147   234.7147 1      34.00000\n",
       "prenatal_exposure:concentration   157.9773   157.9773 1     188.00000\n",
       "                                F value    Pr(>F)      \n",
       "prenatal_exposure                 5.535568 2.338082e-02\n",
       "concentration                   285.860131 1.356011e-39\n",
       "sex                               1.269955 2.676660e-01\n",
       "weight                            2.296370 1.389194e-01\n",
       "prenatal_exposure:concentration   1.545597 2.153348e-01"
      ]
     },
     "metadata": {},
     "output_type": "display_data"
    }
   ],
   "source": [
    "anova(lm1)"
   ]
  },
  {
   "cell_type": "markdown",
   "id": "617c4cf1",
   "metadata": {},
   "source": [
    "#### Assess model assumptions with residual plots using resid_panel()"
   ]
  },
  {
   "cell_type": "code",
   "execution_count": 12,
   "id": "b27b7fc9",
   "metadata": {},
   "outputs": [
    {
     "data": {
      "image/png": "[encoded data removed]",
      "text/plain": [
       "plot without title"
      ]
     },
     "metadata": {},
     "output_type": "display_data"
    }
   ],
   "source": [
    "options(repr.plot.width = 7, repr.plot.height = 5)\n",
    "\n",
    "resid_panel(lm1)"
   ]
  },
  {
   "cell_type": "markdown",
   "id": "2caac7ba",
   "metadata": {},
   "source": [
    "#### Transform if necessary and repeat.\n",
    "\n",
    "Compare what you see in the anova table with your exploratory graphs, to get a sense of the story your data is telling.\n",
    "\n",
    "\n",
    "Look at parameter estimates and between-Experiment variation using the summary() function"
   ]
  },
  {
   "cell_type": "code",
   "execution_count": 13,
   "id": "0f41c86e",
   "metadata": {},
   "outputs": [
    {
     "data": {
      "text/plain": [
       "Linear mixed model fit by REML. t-tests use Satterthwaite's method [\n",
       "lmerModLmerTest]\n",
       "Formula: avgLicks ~ prenatal_exposure * concentration + sex + weight +  \n",
       "    (1 | animal_id)\n",
       "   Data: nicotine\n",
       "\n",
       "REML criterion at convergence: 1743.6\n",
       "\n",
       "Scaled residuals: \n",
       "    Min      1Q  Median      3Q     Max \n",
       "-2.8781 -0.6190  0.1340  0.6053  2.5169 \n",
       "\n",
       "Random effects:\n",
       " Groups    Name        Variance Std.Dev.\n",
       " animal_id (Intercept)  60.94    7.807  \n",
       " Residual              102.21   10.110  \n",
       "Number of obs: 228, groups:  animal_id, 38\n",
       "\n",
       "Fixed effects:\n",
       "                                       Estimate Std. Error       df t value\n",
       "(Intercept)                             19.8886    20.9628  34.0893   0.949\n",
       "prenatal_exposurealcohol                 7.8875     3.3524  42.1059   2.353\n",
       "concentration                           -4.8486     0.4377 188.0000 -11.076\n",
       "sexmale                                 -3.6366     3.2270  34.0000  -1.127\n",
       "weight                                   0.4351     0.2872  34.0000   1.515\n",
       "prenatal_exposurealcohol:concentration  -0.7696     0.6191 188.0000  -1.243\n",
       "                                       Pr(>|t|)    \n",
       "(Intercept)                              0.3494    \n",
       "prenatal_exposurealcohol                 0.0234 *  \n",
       "concentration                            <2e-16 ***\n",
       "sexmale                                  0.2677    \n",
       "weight                                   0.1389    \n",
       "prenatal_exposurealcohol:concentration   0.2153    \n",
       "---\n",
       "Signif. codes:  0 '***' 0.001 '**' 0.01 '*' 0.05 '.' 0.1 ' ' 1\n",
       "\n",
       "Correlation of Fixed Effects:\n",
       "            (Intr) prntl_ cncntr sexmal weight\n",
       "prntl_xpsrl -0.467                            \n",
       "concentratn -0.036  0.226                     \n",
       "sexmale      0.397 -0.226  0.000              \n",
       "weight      -0.993  0.406  0.000 -0.458       \n",
       "prntl_xpsr:  0.026 -0.320 -0.707  0.000  0.000"
      ]
     },
     "metadata": {},
     "output_type": "display_data"
    }
   ],
   "source": [
    "summary(lm1)"
   ]
  },
  {
   "cell_type": "markdown",
   "id": "7a3ca594",
   "metadata": {},
   "source": [
    "#### Obtain mean estimates and standard errors for plotting using the emmeans() function"
   ]
  },
  {
   "cell_type": "code",
   "execution_count": 14,
   "id": "5b994d0e",
   "metadata": {},
   "outputs": [
    {
     "name": "stderr",
     "output_type": "stream",
     "text": [
      "Cannot use mode = \"kenward-roger\" because *pbkrtest* package is not installed\n"
     ]
    },
    {
     "data": {
      "text/plain": [
       "prenatal_exposure = free choice liquid diet:\n",
       " concentration emmean   SE   df lower.CL upper.CL\n",
       "           0.1   49.2 2.26 41.9     44.7     53.8\n",
       "           0.3   48.2 2.23 40.0     43.7     52.7\n",
       "           1.0   44.8 2.16 35.5     40.5     49.2\n",
       "           3.0   35.1 2.21 38.7     30.7     39.6\n",
       "           6.0   20.6 2.84 95.6     15.0     26.2\n",
       "\n",
       "prenatal_exposure = alcohol:\n",
       " concentration emmean   SE   df lower.CL upper.CL\n",
       "           0.1   57.0 2.26 41.9     52.5     61.6\n",
       "           0.3   55.9 2.23 40.0     51.4     60.4\n",
       "           1.0   52.0 2.16 35.5     47.6     56.3\n",
       "           3.0   40.7 2.21 38.7     36.2     45.2\n",
       "           6.0   23.9 2.84 95.6     18.2     29.5\n",
       "\n",
       "Results are averaged over the levels of: sex \n",
       "Degrees-of-freedom method: satterthwaite \n",
       "Confidence level used: 0.95 "
      ]
     },
     "metadata": {},
     "output_type": "display_data"
    }
   ],
   "source": [
    "emmeans(lm1, ~ concentration | prenatal_exposure,\n",
    "        at = list(concentration = c(0.1, 0.3, 1, 3, 6)))"
   ]
  },
  {
   "cell_type": "code",
   "execution_count": 15,
   "id": "88645f26",
   "metadata": {},
   "outputs": [
    {
     "name": "stderr",
     "output_type": "stream",
     "text": [
      "Cannot use mode = \"kenward-roger\" because *pbkrtest* package is not installed\n"
     ]
    },
    {
     "data": {
      "text/plain": [
       "concentration = 0.1:\n",
       " prenatal_exposure       emmean   SE   df lower.CL upper.CL\n",
       " free choice liquid diet   49.2 2.26 41.9     44.7     53.8\n",
       " alcohol                   57.0 2.26 41.9     52.5     61.6\n",
       "\n",
       "concentration = 0.3:\n",
       " prenatal_exposure       emmean   SE   df lower.CL upper.CL\n",
       " free choice liquid diet   48.2 2.23 40.0     43.7     52.7\n",
       " alcohol                   55.9 2.23 40.0     51.4     60.4\n",
       "\n",
       "concentration = 1.0:\n",
       " prenatal_exposure       emmean   SE   df lower.CL upper.CL\n",
       " free choice liquid diet   44.8 2.16 35.5     40.5     49.2\n",
       " alcohol                   52.0 2.16 35.5     47.6     56.3\n",
       "\n",
       "concentration = 3.0:\n",
       " prenatal_exposure       emmean   SE   df lower.CL upper.CL\n",
       " free choice liquid diet   35.1 2.21 38.7     30.7     39.6\n",
       " alcohol                   40.7 2.21 38.7     36.2     45.2\n",
       "\n",
       "concentration = 6.0:\n",
       " prenatal_exposure       emmean   SE   df lower.CL upper.CL\n",
       " free choice liquid diet   20.6 2.84 95.6     15.0     26.2\n",
       " alcohol                   23.9 2.84 95.6     18.2     29.5\n",
       "\n",
       "Results are averaged over the levels of: sex \n",
       "Degrees-of-freedom method: satterthwaite \n",
       "Confidence level used: 0.95 "
      ]
     },
     "metadata": {},
     "output_type": "display_data"
    }
   ],
   "source": [
    "emmeans(lm1, ~ prenatal_exposure | concentration,\n",
    "        at = list(concentration = c(0.1, 0.3, 1, 3, 6)))"
   ]
  },
  {
   "cell_type": "markdown",
   "id": "96602fb1",
   "metadata": {},
   "source": [
    "#### Create a graphic summarising the model means"
   ]
  },
  {
   "cell_type": "code",
   "execution_count": 16,
   "id": "163c3946",
   "metadata": {},
   "outputs": [
    {
     "name": "stderr",
     "output_type": "stream",
     "text": [
      "Cannot use mode = \"kenward-roger\" because *pbkrtest* package is not installed\n",
      "Warning message:\n",
      "\"Transformation introduced infinite values in continuous x-axis\"Warning message:\n",
      "\"Transformation introduced infinite values in continuous x-axis\""
     ]
    },
    {
     "data": {
      "image/png": "[encoded data removed]",
      "text/plain": [
       "plot without title"
      ]
     },
     "metadata": {},
     "output_type": "display_data"
    }
   ],
   "source": [
    "options(repr.plot.width = 7, repr.plot.height = 3.5)\n",
    "\n",
    "em1 <- emmeans(lm1, ~prenatal_exposure * concentration,\n",
    "               at = list(concentration = seq(0, 6, 0.01))\n",
    "              ) %>% \n",
    "        as_tibble()\n",
    "# str(em1)\n",
    "\n",
    "ggplot(em1, aes(x = concentration, \n",
    "                y = emmean,\n",
    "                color = prenatal_exposure)) +\n",
    "    geom_line() + \n",
    "    geom_ribbon(aes(ymin = lower.CL, ymax=upper.CL, fill = prenatal_exposure), alpha=0.3) +\n",
    "    scale_x_log10() + \n",
    "    labs(x = 'Nicotine concentration',\n",
    "         y = \"Average number of licks in 1 minute\")"
   ]
  },
  {
   "cell_type": "markdown",
   "id": "1cd29963",
   "metadata": {},
   "source": [
    "#### Describe the outcome of your model in words (i.e., in the way that you might in the results section of a publication):"
   ]
  },
  {
   "cell_type": "markdown",
   "id": "d3157c5a",
   "metadata": {},
   "source": [
    "### 4. 2. Exercise -- try this for sucrose \n",
    "Make a model  \n",
    "Look at its residuals and anova  \n",
    "look at its emmeans  \n",
    "Make a output plot from the model  \n"
   ]
  },
  {
   "cell_type": "code",
   "execution_count": 17,
   "id": "66a07c61",
   "metadata": {},
   "outputs": [],
   "source": [
    "sucrose <- df %>% filter(stimulus == 'sucrose')\n",
    "\n",
    "lm1 <- lmer(avgLicks ~ prenatal_exposure* concentration + sex + weight + (1|animal_id),\n",
    "            data = sucrose)"
   ]
  },
  {
   "cell_type": "code",
   "execution_count": 18,
   "id": "03c912c3",
   "metadata": {},
   "outputs": [
    {
     "data": {
      "text/html": [
       "<table>\n",
       "<thead><tr><th></th><th scope=col>Sum Sq</th><th scope=col>Mean Sq</th><th scope=col>NumDF</th><th scope=col>DenDF</th><th scope=col>F value</th><th scope=col>Pr(&gt;F)</th></tr></thead>\n",
       "<tbody>\n",
       "\t<tr><th scope=row>prenatal_exposure</th><td>  264.380319</td><td>  264.380319</td><td>1           </td><td> 74.7096    </td><td>  2.34702114</td><td>1.297465e-01</td></tr>\n",
       "\t<tr><th scope=row>concentration</th><td>65422.220662</td><td>65422.220662</td><td>1           </td><td>218.0000    </td><td>580.78201835</td><td>2.126956e-63</td></tr>\n",
       "\t<tr><th scope=row>sex</th><td>    9.313682</td><td>    9.313682</td><td>1           </td><td> 40.0000    </td><td>  0.08268168</td><td>7.751802e-01</td></tr>\n",
       "\t<tr><th scope=row>weight</th><td>   86.847915</td><td>   86.847915</td><td>1           </td><td> 40.0000    </td><td>  0.77098739</td><td>3.851557e-01</td></tr>\n",
       "\t<tr><th scope=row>prenatal_exposure:concentration</th><td>    4.119437</td><td>    4.119437</td><td>1           </td><td>218.0000    </td><td>  0.03657007</td><td>8.485210e-01</td></tr>\n",
       "</tbody>\n",
       "</table>\n"
      ],
      "text/latex": [
       "\\begin{tabular}{r|llllll}\n",
       "  & Sum Sq & Mean Sq & NumDF & DenDF & F value & Pr(>F)\\\\\n",
       "\\hline\n",
       "\tprenatal\\_exposure &   264.380319 &   264.380319 & 1            &  74.7096     &   2.34702114 & 1.297465e-01\\\\\n",
       "\tconcentration & 65422.220662 & 65422.220662 & 1            & 218.0000     & 580.78201835 & 2.126956e-63\\\\\n",
       "\tsex &     9.313682 &     9.313682 & 1            &  40.0000     &   0.08268168 & 7.751802e-01\\\\\n",
       "\tweight &    86.847915 &    86.847915 & 1            &  40.0000     &   0.77098739 & 3.851557e-01\\\\\n",
       "\tprenatal\\_exposure:concentration &     4.119437 &     4.119437 & 1            & 218.0000     &   0.03657007 & 8.485210e-01\\\\\n",
       "\\end{tabular}\n"
      ],
      "text/markdown": [
       "\n",
       "| <!--/--> | Sum Sq | Mean Sq | NumDF | DenDF | F value | Pr(>F) |\n",
       "|---|---|---|---|---|---|---|\n",
       "| prenatal_exposure |   264.380319 |   264.380319 | 1            |  74.7096     |   2.34702114 | 1.297465e-01 |\n",
       "| concentration | 65422.220662 | 65422.220662 | 1            | 218.0000     | 580.78201835 | 2.126956e-63 |\n",
       "| sex |     9.313682 |     9.313682 | 1            |  40.0000     |   0.08268168 | 7.751802e-01 |\n",
       "| weight |    86.847915 |    86.847915 | 1            |  40.0000     |   0.77098739 | 3.851557e-01 |\n",
       "| prenatal_exposure:concentration |     4.119437 |     4.119437 | 1            | 218.0000     |   0.03657007 | 8.485210e-01 |\n",
       "\n"
      ],
      "text/plain": [
       "                                Sum Sq       Mean Sq      NumDF DenDF   \n",
       "prenatal_exposure                 264.380319   264.380319 1      74.7096\n",
       "concentration                   65422.220662 65422.220662 1     218.0000\n",
       "sex                                 9.313682     9.313682 1      40.0000\n",
       "weight                             86.847915    86.847915 1      40.0000\n",
       "prenatal_exposure:concentration     4.119437     4.119437 1     218.0000\n",
       "                                F value      Pr(>F)      \n",
       "prenatal_exposure                 2.34702114 1.297465e-01\n",
       "concentration                   580.78201835 2.126956e-63\n",
       "sex                               0.08268168 7.751802e-01\n",
       "weight                            0.77098739 3.851557e-01\n",
       "prenatal_exposure:concentration   0.03657007 8.485210e-01"
      ]
     },
     "metadata": {},
     "output_type": "display_data"
    }
   ],
   "source": [
    "anova(lm1)"
   ]
  },
  {
   "cell_type": "code",
   "execution_count": 19,
   "id": "c51dff33",
   "metadata": {},
   "outputs": [
    {
     "data": {
      "image/png": "[encoded data removed]",
      "text/plain": [
       "plot without title"
      ]
     },
     "metadata": {},
     "output_type": "display_data"
    }
   ],
   "source": [
    "options(repr.plot.width = 7, repr.plot.height = 5)\n",
    "\n",
    "resid_panel(lm1)"
   ]
  },
  {
   "cell_type": "code",
   "execution_count": 20,
   "id": "27868e7a",
   "metadata": {},
   "outputs": [
    {
     "data": {
      "text/plain": [
       "Linear mixed model fit by REML. t-tests use Satterthwaite's method [\n",
       "lmerModLmerTest]\n",
       "Formula: avgLicks ~ prenatal_exposure * concentration + sex + weight +  \n",
       "    (1 | animal_id)\n",
       "   Data: sucrose\n",
       "\n",
       "REML criterion at convergence: 2004\n",
       "\n",
       "Scaled residuals: \n",
       "    Min      1Q  Median      3Q     Max \n",
       "-4.2670 -0.6200 -0.1638  0.4847  3.2057 \n",
       "\n",
       "Random effects:\n",
       " Groups    Name        Variance Std.Dev.\n",
       " animal_id (Intercept)  18.24    4.271  \n",
       " Residual              112.65   10.613  \n",
       "Number of obs: 264, groups:  animal_id, 44\n",
       "\n",
       "Fixed effects:\n",
       "                                       Estimate Std. Error       df t value\n",
       "(Intercept)                             30.6078    13.5409  40.3799   2.260\n",
       "prenatal_exposurealcohol                -3.8215     2.4945  74.7096  -1.532\n",
       "concentration                           76.6999     4.5369 218.0000  16.906\n",
       "sexmale                                  0.5379     1.8707  40.0000   0.288\n",
       "weight                                  -0.1864     0.2123  40.0000  -0.878\n",
       "prenatal_exposurealcohol:concentration   1.2270     6.4162 218.0000   0.191\n",
       "                                       Pr(>|t|)    \n",
       "(Intercept)                              0.0293 *  \n",
       "prenatal_exposurealcohol                 0.1297    \n",
       "concentration                            <2e-16 ***\n",
       "sexmale                                  0.7752    \n",
       "weight                                   0.3852    \n",
       "prenatal_exposurealcohol:concentration   0.8485    \n",
       "---\n",
       "Signif. codes:  0 '***' 0.001 '**' 0.01 '*' 0.05 '.' 0.1 ' ' 1\n",
       "\n",
       "Correlation of Fixed Effects:\n",
       "            (Intr) prntl_ cncntr sexmal weight\n",
       "prntl_xpsrl -0.497                            \n",
       "concentratn -0.069  0.373                     \n",
       "sexmale      0.128 -0.083  0.000              \n",
       "weight      -0.991  0.426  0.000 -0.196       \n",
       "prntl_xpsr:  0.049 -0.527 -0.707  0.000  0.000"
      ]
     },
     "metadata": {},
     "output_type": "display_data"
    }
   ],
   "source": [
    "summary(lm1)"
   ]
  },
  {
   "cell_type": "code",
   "execution_count": 21,
   "id": "8037a466",
   "metadata": {},
   "outputs": [
    {
     "name": "stderr",
     "output_type": "stream",
     "text": [
      "Cannot use mode = \"kenward-roger\" because *pbkrtest* package is not installed\n"
     ]
    },
    {
     "data": {
      "image/png": "[encoded data removed]",
      "text/plain": [
       "plot without title"
      ]
     },
     "metadata": {},
     "output_type": "display_data"
    }
   ],
   "source": [
    "options(repr.plot.width = 7, repr.plot.height = 3.5)\n",
    " \n",
    "em1 <- emmeans(lm1, ~ concentration * prenatal_exposure,\n",
    "        at = list(concentration = c(0., 0.03, 0.1, 0.2, 0.6)))%>% \n",
    "        as_tibble()\n",
    "\n",
    "# str(em1)\n",
    "ggplot(em1, aes(x = concentration, \n",
    "                y = emmean,\n",
    "                color = prenatal_exposure)) +\n",
    "geom_line() + \n",
    "geom_ribbon(aes(ymin = lower.CL, ymax=upper.CL, fill = prenatal_exposure), alpha=0.2) +\n",
    "# scale_x_log10() + \n",
    "labs(y = \"Average number of licks in 1 minute\",\n",
    "     x = 'sucrose concentration')"
   ]
  }
 ],
 "metadata": {
  "kernelspec": {
   "display_name": "R",
   "language": "R",
   "name": "ir"
  },
  "language_info": {
   "codemirror_mode": "r",
   "file_extension": ".r",
   "mimetype": "text/x-r-source",
   "name": "R",
   "pygments_lexer": "r",
   "version": "3.6.1"
  }
 },
 "nbformat": 4,
 "nbformat_minor": 5
}
