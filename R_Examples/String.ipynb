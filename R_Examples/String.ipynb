{
 "cells": [
  {
   "cell_type": "code",
   "execution_count": 1,
   "id": "40a42c38",
   "metadata": {},
   "outputs": [
    {
     "name": "stderr",
     "output_type": "stream",
     "text": [
      "Warning message:\n",
      "\"package 'dplyr' was built under R version 3.6.3\"\n",
      "Attaching package: 'dplyr'\n",
      "\n",
      "The following objects are masked from 'package:stats':\n",
      "\n",
      "    filter, lag\n",
      "\n",
      "The following objects are masked from 'package:base':\n",
      "\n",
      "    intersect, setdiff, setequal, union\n",
      "\n",
      "Warning message:\n",
      "\"package 'tidyr' was built under R version 3.6.3\""
     ]
    }
   ],
   "source": [
    "library(dplyr)\n",
    "library(stringi)  # to get stri_remove_empty()\n",
    "library(jsonlite)\n",
    "library(tidyr)\n",
    "library(stringr)"
   ]
  },
  {
   "cell_type": "markdown",
   "id": "ac33c9c7",
   "metadata": {},
   "source": [
    "### strsplit()"
   ]
  },
  {
   "cell_type": "code",
   "execution_count": 2,
   "id": "22f4c2df",
   "metadata": {},
   "outputs": [
    {
     "data": {
      "text/html": [
       "<ol>\n",
       "\t<li><ol class=list-inline>\n",
       "\t<li>'T'</li>\n",
       "\t<li>'h'</li>\n",
       "\t<li>'e'</li>\n",
       "\t<li>' '</li>\n",
       "\t<li>'q'</li>\n",
       "\t<li>'u'</li>\n",
       "\t<li>'i'</li>\n",
       "\t<li>'c'</li>\n",
       "\t<li>'k'</li>\n",
       "\t<li>' '</li>\n",
       "\t<li>'b'</li>\n",
       "\t<li>'r'</li>\n",
       "\t<li>'o'</li>\n",
       "\t<li>'w'</li>\n",
       "\t<li>'n'</li>\n",
       "\t<li>' '</li>\n",
       "\t<li>'f'</li>\n",
       "\t<li>'o'</li>\n",
       "\t<li>'x'</li>\n",
       "\t<li>' '</li>\n",
       "\t<li>'j'</li>\n",
       "\t<li>'u'</li>\n",
       "\t<li>'m'</li>\n",
       "\t<li>'p'</li>\n",
       "\t<li>'s'</li>\n",
       "\t<li>' '</li>\n",
       "\t<li>'o'</li>\n",
       "\t<li>'v'</li>\n",
       "\t<li>'e'</li>\n",
       "\t<li>'r'</li>\n",
       "\t<li>' '</li>\n",
       "\t<li>'t'</li>\n",
       "\t<li>'h'</li>\n",
       "\t<li>'e'</li>\n",
       "\t<li>' '</li>\n",
       "\t<li>'l'</li>\n",
       "\t<li>'a'</li>\n",
       "\t<li>'z'</li>\n",
       "\t<li>'y'</li>\n",
       "\t<li>' '</li>\n",
       "\t<li>'d'</li>\n",
       "\t<li>'o'</li>\n",
       "\t<li>'g'</li>\n",
       "</ol>\n",
       "</li>\n",
       "</ol>\n"
      ],
      "text/latex": [
       "\\begin{enumerate}\n",
       "\\item \\begin{enumerate*}\n",
       "\\item 'T'\n",
       "\\item 'h'\n",
       "\\item 'e'\n",
       "\\item ' '\n",
       "\\item 'q'\n",
       "\\item 'u'\n",
       "\\item 'i'\n",
       "\\item 'c'\n",
       "\\item 'k'\n",
       "\\item ' '\n",
       "\\item 'b'\n",
       "\\item 'r'\n",
       "\\item 'o'\n",
       "\\item 'w'\n",
       "\\item 'n'\n",
       "\\item ' '\n",
       "\\item 'f'\n",
       "\\item 'o'\n",
       "\\item 'x'\n",
       "\\item ' '\n",
       "\\item 'j'\n",
       "\\item 'u'\n",
       "\\item 'm'\n",
       "\\item 'p'\n",
       "\\item 's'\n",
       "\\item ' '\n",
       "\\item 'o'\n",
       "\\item 'v'\n",
       "\\item 'e'\n",
       "\\item 'r'\n",
       "\\item ' '\n",
       "\\item 't'\n",
       "\\item 'h'\n",
       "\\item 'e'\n",
       "\\item ' '\n",
       "\\item 'l'\n",
       "\\item 'a'\n",
       "\\item 'z'\n",
       "\\item 'y'\n",
       "\\item ' '\n",
       "\\item 'd'\n",
       "\\item 'o'\n",
       "\\item 'g'\n",
       "\\end{enumerate*}\n",
       "\n",
       "\\end{enumerate}\n"
      ],
      "text/markdown": [
       "1. 1. 'T'\n",
       "2. 'h'\n",
       "3. 'e'\n",
       "4. ' '\n",
       "5. 'q'\n",
       "6. 'u'\n",
       "7. 'i'\n",
       "8. 'c'\n",
       "9. 'k'\n",
       "10. ' '\n",
       "11. 'b'\n",
       "12. 'r'\n",
       "13. 'o'\n",
       "14. 'w'\n",
       "15. 'n'\n",
       "16. ' '\n",
       "17. 'f'\n",
       "18. 'o'\n",
       "19. 'x'\n",
       "20. ' '\n",
       "21. 'j'\n",
       "22. 'u'\n",
       "23. 'm'\n",
       "24. 'p'\n",
       "25. 's'\n",
       "26. ' '\n",
       "27. 'o'\n",
       "28. 'v'\n",
       "29. 'e'\n",
       "30. 'r'\n",
       "31. ' '\n",
       "32. 't'\n",
       "33. 'h'\n",
       "34. 'e'\n",
       "35. ' '\n",
       "36. 'l'\n",
       "37. 'a'\n",
       "38. 'z'\n",
       "39. 'y'\n",
       "40. ' '\n",
       "41. 'd'\n",
       "42. 'o'\n",
       "43. 'g'\n",
       "\n",
       "\n",
       "\n",
       "\n",
       "\n"
      ],
      "text/plain": [
       "[[1]]\n",
       " [1] \"T\" \"h\" \"e\" \" \" \"q\" \"u\" \"i\" \"c\" \"k\" \" \" \"b\" \"r\" \"o\" \"w\" \"n\" \" \" \"f\" \"o\" \"x\"\n",
       "[20] \" \" \"j\" \"u\" \"m\" \"p\" \"s\" \" \" \"o\" \"v\" \"e\" \"r\" \" \" \"t\" \"h\" \"e\" \" \" \"l\" \"a\" \"z\"\n",
       "[39] \"y\" \" \" \"d\" \"o\" \"g\"\n"
      ]
     },
     "metadata": {},
     "output_type": "display_data"
    }
   ],
   "source": [
    "pangram <- \"The quick brown fox jumps over the lazy dog\"\n",
    "values <- strsplit(pangram, \"\")\n",
    "values"
   ]
  },
  {
   "cell_type": "code",
   "execution_count": 3,
   "id": "577dffbc",
   "metadata": {},
   "outputs": [
    {
     "data": {
      "text/html": [
       "<ol>\n",
       "\t<li><ol class=list-inline>\n",
       "\t<li>'The'</li>\n",
       "\t<li>'quick'</li>\n",
       "\t<li>'brown'</li>\n",
       "\t<li>'fox'</li>\n",
       "\t<li>'jumps'</li>\n",
       "\t<li>'over'</li>\n",
       "\t<li>'the'</li>\n",
       "\t<li>'lazy'</li>\n",
       "\t<li>'dog'</li>\n",
       "</ol>\n",
       "</li>\n",
       "</ol>\n"
      ],
      "text/latex": [
       "\\begin{enumerate}\n",
       "\\item \\begin{enumerate*}\n",
       "\\item 'The'\n",
       "\\item 'quick'\n",
       "\\item 'brown'\n",
       "\\item 'fox'\n",
       "\\item 'jumps'\n",
       "\\item 'over'\n",
       "\\item 'the'\n",
       "\\item 'lazy'\n",
       "\\item 'dog'\n",
       "\\end{enumerate*}\n",
       "\n",
       "\\end{enumerate}\n"
      ],
      "text/markdown": [
       "1. 1. 'The'\n",
       "2. 'quick'\n",
       "3. 'brown'\n",
       "4. 'fox'\n",
       "5. 'jumps'\n",
       "6. 'over'\n",
       "7. 'the'\n",
       "8. 'lazy'\n",
       "9. 'dog'\n",
       "\n",
       "\n",
       "\n",
       "\n",
       "\n"
      ],
      "text/plain": [
       "[[1]]\n",
       "[1] \"The\"   \"quick\" \"brown\" \"fox\"   \"jumps\" \"over\"  \"the\"   \"lazy\"  \"dog\"  \n"
      ]
     },
     "metadata": {},
     "output_type": "display_data"
    }
   ],
   "source": [
    "values <- strsplit(pangram, \" \")\n",
    "values"
   ]
  },
  {
   "cell_type": "code",
   "execution_count": 4,
   "id": "75f46f40",
   "metadata": {},
   "outputs": [
    {
     "data": {
      "text/html": [
       "'list'"
      ],
      "text/latex": [
       "'list'"
      ],
      "text/markdown": [
       "'list'"
      ],
      "text/plain": [
       "[1] \"list\""
      ]
     },
     "metadata": {},
     "output_type": "display_data"
    }
   ],
   "source": [
    "class(values)"
   ]
  },
  {
   "cell_type": "markdown",
   "id": "6f1af3bf",
   "metadata": {},
   "source": [
    "### Split string with newline, comma, dot, white space"
   ]
  },
  {
   "cell_type": "code",
   "execution_count": 5,
   "id": "f885615e",
   "metadata": {},
   "outputs": [
    {
     "data": {
      "text/html": [
       "<span style=white-space:pre-wrap>'a1\\n           a2 a3\\n           a4, a5\\n           a6 a7  ,\\n           a8\\n '</span>"
      ],
      "text/latex": [
       "'a1\\textbackslash{}n           a2 a3\\textbackslash{}n           a4, a5\\textbackslash{}n           a6 a7  ,\\textbackslash{}n           a8\\textbackslash{}n '"
      ],
      "text/markdown": [
       "<span style=white-space:pre-wrap>'a1\\n           a2 a3\\n           a4, a5\\n           a6 a7  ,\\n           a8\\n '</span>"
      ],
      "text/plain": [
       "[1] \"a1\\n           a2 a3\\n           a4, a5\\n           a6 a7  ,\\n           a8\\n \""
      ]
     },
     "metadata": {},
     "output_type": "display_data"
    }
   ],
   "source": [
    "string <- \"a1\n",
    "           a2 a3\n",
    "           a4, a5\n",
    "           a6 a7  ,\n",
    "           a8\n",
    " \"\n",
    "string"
   ]
  },
  {
   "cell_type": "code",
   "execution_count": 6,
   "id": "4b593901",
   "metadata": {},
   "outputs": [],
   "source": [
    "parseInput <- function(string){\n",
    "  # split new line\n",
    "  str <- strsplit(string, '\\\\s')\n",
    "  # remove empty string and NA\n",
    "  str <- stri_remove_empty(str[[1]], TRUE)\n",
    "  # remove , and .\n",
    "  str <- str[! str %in% c(',', '.')]\n",
    "  # remove trailing ,\n",
    "  str <- gsub(',$', \"\", str)\n",
    "  return (str)\n",
    "}"
   ]
  },
  {
   "cell_type": "code",
   "execution_count": 7,
   "id": "89abc6c1",
   "metadata": {},
   "outputs": [
    {
     "data": {
      "text/html": [
       "'character'"
      ],
      "text/latex": [
       "'character'"
      ],
      "text/markdown": [
       "'character'"
      ],
      "text/plain": [
       "[1] \"character\""
      ]
     },
     "metadata": {},
     "output_type": "display_data"
    },
    {
     "data": {
      "text/html": [
       "<ol class=list-inline>\n",
       "\t<li>'a1'</li>\n",
       "\t<li>'a2'</li>\n",
       "\t<li>'a3'</li>\n",
       "\t<li>'a4'</li>\n",
       "\t<li>'a5'</li>\n",
       "\t<li>'a6'</li>\n",
       "\t<li>'a7'</li>\n",
       "\t<li>'a8'</li>\n",
       "</ol>\n"
      ],
      "text/latex": [
       "\\begin{enumerate*}\n",
       "\\item 'a1'\n",
       "\\item 'a2'\n",
       "\\item 'a3'\n",
       "\\item 'a4'\n",
       "\\item 'a5'\n",
       "\\item 'a6'\n",
       "\\item 'a7'\n",
       "\\item 'a8'\n",
       "\\end{enumerate*}\n"
      ],
      "text/markdown": [
       "1. 'a1'\n",
       "2. 'a2'\n",
       "3. 'a3'\n",
       "4. 'a4'\n",
       "5. 'a5'\n",
       "6. 'a6'\n",
       "7. 'a7'\n",
       "8. 'a8'\n",
       "\n",
       "\n"
      ],
      "text/plain": [
       "[1] \"a1\" \"a2\" \"a3\" \"a4\" \"a5\" \"a6\" \"a7\" \"a8\""
      ]
     },
     "metadata": {},
     "output_type": "display_data"
    }
   ],
   "source": [
    "parsed_str <- parseInput(string=string)\n",
    "class(parsed_str)  \n",
    "parsed_str"
   ]
  },
  {
   "cell_type": "markdown",
   "id": "04fc50b3",
   "metadata": {},
   "source": [
    "#### Step by step of parseInput()"
   ]
  },
  {
   "cell_type": "code",
   "execution_count": 8,
   "id": "540c078f",
   "metadata": {},
   "outputs": [
    {
     "data": {
      "text/html": [
       "'list'"
      ],
      "text/latex": [
       "'list'"
      ],
      "text/markdown": [
       "'list'"
      ],
      "text/plain": [
       "[1] \"list\""
      ]
     },
     "metadata": {},
     "output_type": "display_data"
    },
    {
     "data": {
      "text/html": [
       "<ol>\n",
       "\t<li><ol class=list-inline>\n",
       "\t<li>'a1'</li>\n",
       "\t<li>''</li>\n",
       "\t<li>''</li>\n",
       "\t<li>''</li>\n",
       "\t<li>''</li>\n",
       "\t<li>''</li>\n",
       "\t<li>''</li>\n",
       "\t<li>''</li>\n",
       "\t<li>''</li>\n",
       "\t<li>''</li>\n",
       "\t<li>''</li>\n",
       "\t<li>''</li>\n",
       "\t<li>'a2'</li>\n",
       "\t<li>'a3'</li>\n",
       "\t<li>''</li>\n",
       "\t<li>''</li>\n",
       "\t<li>''</li>\n",
       "\t<li>''</li>\n",
       "\t<li>''</li>\n",
       "\t<li>''</li>\n",
       "\t<li>''</li>\n",
       "\t<li>''</li>\n",
       "\t<li>''</li>\n",
       "\t<li>''</li>\n",
       "\t<li>''</li>\n",
       "\t<li>'a4,'</li>\n",
       "\t<li>'a5'</li>\n",
       "\t<li>''</li>\n",
       "\t<li>''</li>\n",
       "\t<li>''</li>\n",
       "\t<li>''</li>\n",
       "\t<li>''</li>\n",
       "\t<li>''</li>\n",
       "\t<li>''</li>\n",
       "\t<li>''</li>\n",
       "\t<li>''</li>\n",
       "\t<li>''</li>\n",
       "\t<li>''</li>\n",
       "\t<li>'a6'</li>\n",
       "\t<li>'a7'</li>\n",
       "\t<li>''</li>\n",
       "\t<li>','</li>\n",
       "\t<li>''</li>\n",
       "\t<li>''</li>\n",
       "\t<li>''</li>\n",
       "\t<li>''</li>\n",
       "\t<li>''</li>\n",
       "\t<li>''</li>\n",
       "\t<li>''</li>\n",
       "\t<li>''</li>\n",
       "\t<li>''</li>\n",
       "\t<li>''</li>\n",
       "\t<li>''</li>\n",
       "\t<li>'a8'</li>\n",
       "\t<li>''</li>\n",
       "</ol>\n",
       "</li>\n",
       "</ol>\n"
      ],
      "text/latex": [
       "\\begin{enumerate}\n",
       "\\item \\begin{enumerate*}\n",
       "\\item 'a1'\n",
       "\\item ''\n",
       "\\item ''\n",
       "\\item ''\n",
       "\\item ''\n",
       "\\item ''\n",
       "\\item ''\n",
       "\\item ''\n",
       "\\item ''\n",
       "\\item ''\n",
       "\\item ''\n",
       "\\item ''\n",
       "\\item 'a2'\n",
       "\\item 'a3'\n",
       "\\item ''\n",
       "\\item ''\n",
       "\\item ''\n",
       "\\item ''\n",
       "\\item ''\n",
       "\\item ''\n",
       "\\item ''\n",
       "\\item ''\n",
       "\\item ''\n",
       "\\item ''\n",
       "\\item ''\n",
       "\\item 'a4,'\n",
       "\\item 'a5'\n",
       "\\item ''\n",
       "\\item ''\n",
       "\\item ''\n",
       "\\item ''\n",
       "\\item ''\n",
       "\\item ''\n",
       "\\item ''\n",
       "\\item ''\n",
       "\\item ''\n",
       "\\item ''\n",
       "\\item ''\n",
       "\\item 'a6'\n",
       "\\item 'a7'\n",
       "\\item ''\n",
       "\\item ','\n",
       "\\item ''\n",
       "\\item ''\n",
       "\\item ''\n",
       "\\item ''\n",
       "\\item ''\n",
       "\\item ''\n",
       "\\item ''\n",
       "\\item ''\n",
       "\\item ''\n",
       "\\item ''\n",
       "\\item ''\n",
       "\\item 'a8'\n",
       "\\item ''\n",
       "\\end{enumerate*}\n",
       "\n",
       "\\end{enumerate}\n"
      ],
      "text/markdown": [
       "1. 1. 'a1'\n",
       "2. ''\n",
       "3. ''\n",
       "4. ''\n",
       "5. ''\n",
       "6. ''\n",
       "7. ''\n",
       "8. ''\n",
       "9. ''\n",
       "10. ''\n",
       "11. ''\n",
       "12. ''\n",
       "13. 'a2'\n",
       "14. 'a3'\n",
       "15. ''\n",
       "16. ''\n",
       "17. ''\n",
       "18. ''\n",
       "19. ''\n",
       "20. ''\n",
       "21. ''\n",
       "22. ''\n",
       "23. ''\n",
       "24. ''\n",
       "25. ''\n",
       "26. 'a4,'\n",
       "27. 'a5'\n",
       "28. ''\n",
       "29. ''\n",
       "30. ''\n",
       "31. ''\n",
       "32. ''\n",
       "33. ''\n",
       "34. ''\n",
       "35. ''\n",
       "36. ''\n",
       "37. ''\n",
       "38. ''\n",
       "39. 'a6'\n",
       "40. 'a7'\n",
       "41. ''\n",
       "42. ','\n",
       "43. ''\n",
       "44. ''\n",
       "45. ''\n",
       "46. ''\n",
       "47. ''\n",
       "48. ''\n",
       "49. ''\n",
       "50. ''\n",
       "51. ''\n",
       "52. ''\n",
       "53. ''\n",
       "54. 'a8'\n",
       "55. ''\n",
       "\n",
       "\n",
       "\n",
       "\n",
       "\n"
      ],
      "text/plain": [
       "[[1]]\n",
       " [1] \"a1\"  \"\"    \"\"    \"\"    \"\"    \"\"    \"\"    \"\"    \"\"    \"\"    \"\"    \"\"   \n",
       "[13] \"a2\"  \"a3\"  \"\"    \"\"    \"\"    \"\"    \"\"    \"\"    \"\"    \"\"    \"\"    \"\"   \n",
       "[25] \"\"    \"a4,\" \"a5\"  \"\"    \"\"    \"\"    \"\"    \"\"    \"\"    \"\"    \"\"    \"\"   \n",
       "[37] \"\"    \"\"    \"a6\"  \"a7\"  \"\"    \",\"   \"\"    \"\"    \"\"    \"\"    \"\"    \"\"   \n",
       "[49] \"\"    \"\"    \"\"    \"\"    \"\"    \"a8\"  \"\"   \n"
      ]
     },
     "metadata": {},
     "output_type": "display_data"
    },
    {
     "data": {
      "text/html": [
       "<ol class=list-inline>\n",
       "\t<li>'a1'</li>\n",
       "\t<li>''</li>\n",
       "\t<li>''</li>\n",
       "\t<li>''</li>\n",
       "\t<li>''</li>\n",
       "\t<li>''</li>\n",
       "\t<li>''</li>\n",
       "\t<li>''</li>\n",
       "\t<li>''</li>\n",
       "\t<li>''</li>\n",
       "\t<li>''</li>\n",
       "\t<li>''</li>\n",
       "\t<li>'a2'</li>\n",
       "\t<li>'a3'</li>\n",
       "\t<li>''</li>\n",
       "\t<li>''</li>\n",
       "\t<li>''</li>\n",
       "\t<li>''</li>\n",
       "\t<li>''</li>\n",
       "\t<li>''</li>\n",
       "\t<li>''</li>\n",
       "\t<li>''</li>\n",
       "\t<li>''</li>\n",
       "\t<li>''</li>\n",
       "\t<li>''</li>\n",
       "\t<li>'a4,'</li>\n",
       "\t<li>'a5'</li>\n",
       "\t<li>''</li>\n",
       "\t<li>''</li>\n",
       "\t<li>''</li>\n",
       "\t<li>''</li>\n",
       "\t<li>''</li>\n",
       "\t<li>''</li>\n",
       "\t<li>''</li>\n",
       "\t<li>''</li>\n",
       "\t<li>''</li>\n",
       "\t<li>''</li>\n",
       "\t<li>''</li>\n",
       "\t<li>'a6'</li>\n",
       "\t<li>'a7'</li>\n",
       "\t<li>''</li>\n",
       "\t<li>','</li>\n",
       "\t<li>''</li>\n",
       "\t<li>''</li>\n",
       "\t<li>''</li>\n",
       "\t<li>''</li>\n",
       "\t<li>''</li>\n",
       "\t<li>''</li>\n",
       "\t<li>''</li>\n",
       "\t<li>''</li>\n",
       "\t<li>''</li>\n",
       "\t<li>''</li>\n",
       "\t<li>''</li>\n",
       "\t<li>'a8'</li>\n",
       "\t<li>''</li>\n",
       "</ol>\n"
      ],
      "text/latex": [
       "\\begin{enumerate*}\n",
       "\\item 'a1'\n",
       "\\item ''\n",
       "\\item ''\n",
       "\\item ''\n",
       "\\item ''\n",
       "\\item ''\n",
       "\\item ''\n",
       "\\item ''\n",
       "\\item ''\n",
       "\\item ''\n",
       "\\item ''\n",
       "\\item ''\n",
       "\\item 'a2'\n",
       "\\item 'a3'\n",
       "\\item ''\n",
       "\\item ''\n",
       "\\item ''\n",
       "\\item ''\n",
       "\\item ''\n",
       "\\item ''\n",
       "\\item ''\n",
       "\\item ''\n",
       "\\item ''\n",
       "\\item ''\n",
       "\\item ''\n",
       "\\item 'a4,'\n",
       "\\item 'a5'\n",
       "\\item ''\n",
       "\\item ''\n",
       "\\item ''\n",
       "\\item ''\n",
       "\\item ''\n",
       "\\item ''\n",
       "\\item ''\n",
       "\\item ''\n",
       "\\item ''\n",
       "\\item ''\n",
       "\\item ''\n",
       "\\item 'a6'\n",
       "\\item 'a7'\n",
       "\\item ''\n",
       "\\item ','\n",
       "\\item ''\n",
       "\\item ''\n",
       "\\item ''\n",
       "\\item ''\n",
       "\\item ''\n",
       "\\item ''\n",
       "\\item ''\n",
       "\\item ''\n",
       "\\item ''\n",
       "\\item ''\n",
       "\\item ''\n",
       "\\item 'a8'\n",
       "\\item ''\n",
       "\\end{enumerate*}\n"
      ],
      "text/markdown": [
       "1. 'a1'\n",
       "2. ''\n",
       "3. ''\n",
       "4. ''\n",
       "5. ''\n",
       "6. ''\n",
       "7. ''\n",
       "8. ''\n",
       "9. ''\n",
       "10. ''\n",
       "11. ''\n",
       "12. ''\n",
       "13. 'a2'\n",
       "14. 'a3'\n",
       "15. ''\n",
       "16. ''\n",
       "17. ''\n",
       "18. ''\n",
       "19. ''\n",
       "20. ''\n",
       "21. ''\n",
       "22. ''\n",
       "23. ''\n",
       "24. ''\n",
       "25. ''\n",
       "26. 'a4,'\n",
       "27. 'a5'\n",
       "28. ''\n",
       "29. ''\n",
       "30. ''\n",
       "31. ''\n",
       "32. ''\n",
       "33. ''\n",
       "34. ''\n",
       "35. ''\n",
       "36. ''\n",
       "37. ''\n",
       "38. ''\n",
       "39. 'a6'\n",
       "40. 'a7'\n",
       "41. ''\n",
       "42. ','\n",
       "43. ''\n",
       "44. ''\n",
       "45. ''\n",
       "46. ''\n",
       "47. ''\n",
       "48. ''\n",
       "49. ''\n",
       "50. ''\n",
       "51. ''\n",
       "52. ''\n",
       "53. ''\n",
       "54. 'a8'\n",
       "55. ''\n",
       "\n",
       "\n"
      ],
      "text/plain": [
       " [1] \"a1\"  \"\"    \"\"    \"\"    \"\"    \"\"    \"\"    \"\"    \"\"    \"\"    \"\"    \"\"   \n",
       "[13] \"a2\"  \"a3\"  \"\"    \"\"    \"\"    \"\"    \"\"    \"\"    \"\"    \"\"    \"\"    \"\"   \n",
       "[25] \"\"    \"a4,\" \"a5\"  \"\"    \"\"    \"\"    \"\"    \"\"    \"\"    \"\"    \"\"    \"\"   \n",
       "[37] \"\"    \"\"    \"a6\"  \"a7\"  \"\"    \",\"   \"\"    \"\"    \"\"    \"\"    \"\"    \"\"   \n",
       "[49] \"\"    \"\"    \"\"    \"\"    \"\"    \"a8\"  \"\"   "
      ]
     },
     "metadata": {},
     "output_type": "display_data"
    },
    {
     "data": {
      "text/html": [
       "'character'"
      ],
      "text/latex": [
       "'character'"
      ],
      "text/markdown": [
       "'character'"
      ],
      "text/plain": [
       "[1] \"character\""
      ]
     },
     "metadata": {},
     "output_type": "display_data"
    }
   ],
   "source": [
    "# split new line\n",
    "string1 <- strsplit(string, '\\\\s')\n",
    "class(string1)\n",
    "string1\n",
    "string1[[1]]\n",
    "class(string1[[1]])"
   ]
  },
  {
   "cell_type": "code",
   "execution_count": 9,
   "id": "3cb0d300",
   "metadata": {},
   "outputs": [
    {
     "data": {
      "text/html": [
       "<ol class=list-inline>\n",
       "\t<li>'a1'</li>\n",
       "\t<li>'a2'</li>\n",
       "\t<li>'a3'</li>\n",
       "\t<li>'a4,'</li>\n",
       "\t<li>'a5'</li>\n",
       "\t<li>'a6'</li>\n",
       "\t<li>'a7'</li>\n",
       "\t<li>','</li>\n",
       "\t<li>'a8'</li>\n",
       "</ol>\n"
      ],
      "text/latex": [
       "\\begin{enumerate*}\n",
       "\\item 'a1'\n",
       "\\item 'a2'\n",
       "\\item 'a3'\n",
       "\\item 'a4,'\n",
       "\\item 'a5'\n",
       "\\item 'a6'\n",
       "\\item 'a7'\n",
       "\\item ','\n",
       "\\item 'a8'\n",
       "\\end{enumerate*}\n"
      ],
      "text/markdown": [
       "1. 'a1'\n",
       "2. 'a2'\n",
       "3. 'a3'\n",
       "4. 'a4,'\n",
       "5. 'a5'\n",
       "6. 'a6'\n",
       "7. 'a7'\n",
       "8. ','\n",
       "9. 'a8'\n",
       "\n",
       "\n"
      ],
      "text/plain": [
       "[1] \"a1\"  \"a2\"  \"a3\"  \"a4,\" \"a5\"  \"a6\"  \"a7\"  \",\"   \"a8\" "
      ]
     },
     "metadata": {},
     "output_type": "display_data"
    }
   ],
   "source": [
    "# remove empty string and NA\n",
    "string2 = stri_remove_empty(string1[[1]])\n",
    "string2"
   ]
  },
  {
   "cell_type": "code",
   "execution_count": 10,
   "id": "8db5b177",
   "metadata": {},
   "outputs": [
    {
     "data": {
      "text/html": [
       "<ol class=list-inline>\n",
       "\t<li>'a1'</li>\n",
       "\t<li>'a2'</li>\n",
       "\t<li>'a3'</li>\n",
       "\t<li>'a4,'</li>\n",
       "\t<li>'a5'</li>\n",
       "\t<li>'a6'</li>\n",
       "\t<li>'a7'</li>\n",
       "\t<li>'a8'</li>\n",
       "</ol>\n"
      ],
      "text/latex": [
       "\\begin{enumerate*}\n",
       "\\item 'a1'\n",
       "\\item 'a2'\n",
       "\\item 'a3'\n",
       "\\item 'a4,'\n",
       "\\item 'a5'\n",
       "\\item 'a6'\n",
       "\\item 'a7'\n",
       "\\item 'a8'\n",
       "\\end{enumerate*}\n"
      ],
      "text/markdown": [
       "1. 'a1'\n",
       "2. 'a2'\n",
       "3. 'a3'\n",
       "4. 'a4,'\n",
       "5. 'a5'\n",
       "6. 'a6'\n",
       "7. 'a7'\n",
       "8. 'a8'\n",
       "\n",
       "\n"
      ],
      "text/plain": [
       "[1] \"a1\"  \"a2\"  \"a3\"  \"a4,\" \"a5\"  \"a6\"  \"a7\"  \"a8\" "
      ]
     },
     "metadata": {},
     "output_type": "display_data"
    }
   ],
   "source": [
    "string3 <- string2[! string2 %in% c(',', '.')]\n",
    "string3"
   ]
  },
  {
   "cell_type": "code",
   "execution_count": 11,
   "id": "697ddb1a",
   "metadata": {},
   "outputs": [
    {
     "data": {
      "text/html": [
       "<ol class=list-inline>\n",
       "\t<li>'a1'</li>\n",
       "\t<li>'a2'</li>\n",
       "\t<li>'a3'</li>\n",
       "\t<li>'a4'</li>\n",
       "\t<li>'a5'</li>\n",
       "\t<li>'a6'</li>\n",
       "\t<li>'a7'</li>\n",
       "\t<li>'a8'</li>\n",
       "</ol>\n"
      ],
      "text/latex": [
       "\\begin{enumerate*}\n",
       "\\item 'a1'\n",
       "\\item 'a2'\n",
       "\\item 'a3'\n",
       "\\item 'a4'\n",
       "\\item 'a5'\n",
       "\\item 'a6'\n",
       "\\item 'a7'\n",
       "\\item 'a8'\n",
       "\\end{enumerate*}\n"
      ],
      "text/markdown": [
       "1. 'a1'\n",
       "2. 'a2'\n",
       "3. 'a3'\n",
       "4. 'a4'\n",
       "5. 'a5'\n",
       "6. 'a6'\n",
       "7. 'a7'\n",
       "8. 'a8'\n",
       "\n",
       "\n"
      ],
      "text/plain": [
       "[1] \"a1\" \"a2\" \"a3\" \"a4\" \"a5\" \"a6\" \"a7\" \"a8\""
      ]
     },
     "metadata": {},
     "output_type": "display_data"
    }
   ],
   "source": [
    "string4 <- gsub(\",$\", '', string3)\n",
    "string4"
   ]
  },
  {
   "cell_type": "markdown",
   "id": "a53991f5",
   "metadata": {},
   "source": [
    "### Trim white space of leading and trailing"
   ]
  },
  {
   "cell_type": "code",
   "execution_count": 12,
   "id": "0af27a0d",
   "metadata": {},
   "outputs": [
    {
     "data": {
      "text/html": [
       "<span style=white-space:pre-wrap>'  Some text.   '</span>"
      ],
      "text/latex": [
       "'  Some text.   '"
      ],
      "text/markdown": [
       "<span style=white-space:pre-wrap>'  Some text.   '</span>"
      ],
      "text/plain": [
       "[1] \"  Some text.   \""
      ]
     },
     "metadata": {},
     "output_type": "display_data"
    },
    {
     "data": {
      "text/html": [
       "'Some text.'"
      ],
      "text/latex": [
       "'Some text.'"
      ],
      "text/markdown": [
       "'Some text.'"
      ],
      "text/plain": [
       "[1] \"Some text.\""
      ]
     },
     "metadata": {},
     "output_type": "display_data"
    },
    {
     "data": {
      "text/html": [
       "<span style=white-space:pre-wrap>'Some text.   '</span>"
      ],
      "text/latex": [
       "'Some text.   '"
      ],
      "text/markdown": [
       "<span style=white-space:pre-wrap>'Some text.   '</span>"
      ],
      "text/plain": [
       "[1] \"Some text.   \""
      ]
     },
     "metadata": {},
     "output_type": "display_data"
    },
    {
     "data": {
      "text/html": [
       "<span style=white-space:pre-wrap>'  Some text.'</span>"
      ],
      "text/latex": [
       "'  Some text.'"
      ],
      "text/markdown": [
       "<span style=white-space:pre-wrap>'  Some text.'</span>"
      ],
      "text/plain": [
       "[1] \"  Some text.\""
      ]
     },
     "metadata": {},
     "output_type": "display_data"
    }
   ],
   "source": [
    "x <- \"  Some text.   \"\n",
    "x\n",
    "trimws(x)\n",
    "trimws(x, \"l\")\n",
    "trimws(x, \"r\")"
   ]
  },
  {
   "cell_type": "markdown",
   "id": "b63b46f0",
   "metadata": {},
   "source": [
    "### Remove matched patterns in a string"
   ]
  },
  {
   "cell_type": "code",
   "execution_count": 13,
   "id": "03bdefd1",
   "metadata": {},
   "outputs": [
    {
     "data": {
      "text/html": [
       "<ol class=list-inline>\n",
       "\t<li>'ne apple'</li>\n",
       "\t<li>'tw pears'</li>\n",
       "\t<li>'thre bananas'</li>\n",
       "</ol>\n"
      ],
      "text/latex": [
       "\\begin{enumerate*}\n",
       "\\item 'ne apple'\n",
       "\\item 'tw pears'\n",
       "\\item 'thre bananas'\n",
       "\\end{enumerate*}\n"
      ],
      "text/markdown": [
       "1. 'ne apple'\n",
       "2. 'tw pears'\n",
       "3. 'thre bananas'\n",
       "\n",
       "\n"
      ],
      "text/plain": [
       "[1] \"ne apple\"     \"tw pears\"     \"thre bananas\""
      ]
     },
     "metadata": {},
     "output_type": "display_data"
    }
   ],
   "source": [
    "fruits <- c(\"one apple\", \"two pears\", \"three bananas\")\n",
    "str_remove(string = fruits, pattern = \"[aeiou]\")  # str_remove is a function from stringr"
   ]
  },
  {
   "cell_type": "code",
   "execution_count": null,
   "id": "ef1ad6ba",
   "metadata": {},
   "outputs": [],
   "source": []
  },
  {
   "cell_type": "markdown",
   "id": "e1238738",
   "metadata": {},
   "source": [
    "### stri_remove_empty"
   ]
  },
  {
   "cell_type": "code",
   "execution_count": 14,
   "id": "50c4b6ad",
   "metadata": {},
   "outputs": [
    {
     "data": {
      "text/html": [
       "<ol class=list-inline>\n",
       "\t<li>'a'</li>\n",
       "\t<li>'b'</li>\n",
       "</ol>\n"
      ],
      "text/latex": [
       "\\begin{enumerate*}\n",
       "\\item 'a'\n",
       "\\item 'b'\n",
       "\\end{enumerate*}\n"
      ],
      "text/markdown": [
       "1. 'a'\n",
       "2. 'b'\n",
       "\n",
       "\n"
      ],
      "text/plain": [
       "[1] \"a\" \"b\""
      ]
     },
     "metadata": {},
     "output_type": "display_data"
    },
    {
     "data": {
      "text/html": [
       "<ol class=list-inline>\n",
       "\t<li>'a'</li>\n",
       "\t<li>NA</li>\n",
       "\t<li>'b'</li>\n",
       "</ol>\n"
      ],
      "text/latex": [
       "\\begin{enumerate*}\n",
       "\\item 'a'\n",
       "\\item NA\n",
       "\\item 'b'\n",
       "\\end{enumerate*}\n"
      ],
      "text/markdown": [
       "1. 'a'\n",
       "2. NA\n",
       "3. 'b'\n",
       "\n",
       "\n"
      ],
      "text/plain": [
       "[1] \"a\" NA  \"b\""
      ]
     },
     "metadata": {},
     "output_type": "display_data"
    },
    {
     "data": {
      "text/html": [
       "<ol class=list-inline>\n",
       "\t<li>'a'</li>\n",
       "\t<li>'b'</li>\n",
       "</ol>\n"
      ],
      "text/latex": [
       "\\begin{enumerate*}\n",
       "\\item 'a'\n",
       "\\item 'b'\n",
       "\\end{enumerate*}\n"
      ],
      "text/markdown": [
       "1. 'a'\n",
       "2. 'b'\n",
       "\n",
       "\n"
      ],
      "text/plain": [
       "[1] \"a\" \"b\""
      ]
     },
     "metadata": {},
     "output_type": "display_data"
    },
    {
     "data": {
      "text/html": [
       "<ol class=list-inline>\n",
       "\t<li>'a'</li>\n",
       "\t<li>'b'</li>\n",
       "</ol>\n"
      ],
      "text/latex": [
       "\\begin{enumerate*}\n",
       "\\item 'a'\n",
       "\\item 'b'\n",
       "\\end{enumerate*}\n"
      ],
      "text/markdown": [
       "1. 'a'\n",
       "2. 'b'\n",
       "\n",
       "\n"
      ],
      "text/plain": [
       "[1] \"a\" \"b\""
      ]
     },
     "metadata": {},
     "output_type": "display_data"
    }
   ],
   "source": [
    "stri_remove_empty(stri_na2empty(c('a', NA, '', 'b')))\n",
    "stri_remove_empty(c('a', NA, '', 'b'))\n",
    "stri_remove_empty(c('a', NA, '', 'b'), TRUE)\n",
    "\n",
    "stri_omit_empty_na(c('a', NA, '', 'b'))"
   ]
  },
  {
   "cell_type": "markdown",
   "id": "aa071c62",
   "metadata": {},
   "source": [
    "### strsplit with regex"
   ]
  },
  {
   "cell_type": "code",
   "execution_count": 15,
   "id": "d8e7d30a",
   "metadata": {},
   "outputs": [
    {
     "data": {
      "text/html": [
       "<span style=white-space:pre-wrap>'sxdcsdfsd, sdwsd, sererer, ererr    gfhghgh  ttt'</span>"
      ],
      "text/latex": [
       "'sxdcsdfsd, sdwsd, sererer, ererr    gfhghgh  ttt'"
      ],
      "text/markdown": [
       "<span style=white-space:pre-wrap>'sxdcsdfsd, sdwsd, sererer, ererr    gfhghgh  ttt'</span>"
      ],
      "text/plain": [
       "[1] \"sxdcsdfsd, sdwsd, sererer, ererr    gfhghgh  ttt\""
      ]
     },
     "metadata": {},
     "output_type": "display_data"
    }
   ],
   "source": [
    "ll = \"sxdcsdfsd, sdwsd, sererer, ererr    gfhghgh  ttt\"\n",
    "ll"
   ]
  },
  {
   "cell_type": "code",
   "execution_count": 16,
   "id": "a0271248",
   "metadata": {},
   "outputs": [
    {
     "data": {
      "text/html": [
       "<ol>\n",
       "\t<li><ol class=list-inline>\n",
       "\t<li>'sxdcsdfsd'</li>\n",
       "\t<li>' sdwsd'</li>\n",
       "\t<li>' sererer'</li>\n",
       "\t<li><span style=white-space:pre-wrap>' ererr    gfhghgh  ttt'</span></li>\n",
       "</ol>\n",
       "</li>\n",
       "</ol>\n"
      ],
      "text/latex": [
       "\\begin{enumerate}\n",
       "\\item \\begin{enumerate*}\n",
       "\\item 'sxdcsdfsd'\n",
       "\\item ' sdwsd'\n",
       "\\item ' sererer'\n",
       "\\item ' ererr    gfhghgh  ttt'\n",
       "\\end{enumerate*}\n",
       "\n",
       "\\end{enumerate}\n"
      ],
      "text/markdown": [
       "1. 1. 'sxdcsdfsd'\n",
       "2. ' sdwsd'\n",
       "3. ' sererer'\n",
       "4. <span style=white-space:pre-wrap>' ererr    gfhghgh  ttt'</span>\n",
       "\n",
       "\n",
       "\n",
       "\n",
       "\n"
      ],
      "text/plain": [
       "[[1]]\n",
       "[1] \"sxdcsdfsd\"              \" sdwsd\"                 \" sererer\"              \n",
       "[4] \" ererr    gfhghgh  ttt\"\n"
      ]
     },
     "metadata": {},
     "output_type": "display_data"
    }
   ],
   "source": [
    "vv = strsplit(ll, \",\")\n",
    "vv"
   ]
  },
  {
   "cell_type": "code",
   "execution_count": 17,
   "id": "31ea6d64",
   "metadata": {},
   "outputs": [
    {
     "data": {
      "text/html": [
       "'list'"
      ],
      "text/latex": [
       "'list'"
      ],
      "text/markdown": [
       "'list'"
      ],
      "text/plain": [
       "[1] \"list\""
      ]
     },
     "metadata": {},
     "output_type": "display_data"
    }
   ],
   "source": [
    "class(vv)"
   ]
  },
  {
   "cell_type": "code",
   "execution_count": 18,
   "id": "627256c9",
   "metadata": {},
   "outputs": [
    {
     "data": {
      "text/html": [
       "<ol>\n",
       "\t<li><ol class=list-inline>\n",
       "\t<li>'sxdcsdfsd'</li>\n",
       "\t<li>'sdwsd'</li>\n",
       "\t<li>'sererer'</li>\n",
       "\t<li>'ererr'</li>\n",
       "\t<li>'gfhghgh'</li>\n",
       "\t<li>'ttt'</li>\n",
       "</ol>\n",
       "</li>\n",
       "</ol>\n"
      ],
      "text/latex": [
       "\\begin{enumerate}\n",
       "\\item \\begin{enumerate*}\n",
       "\\item 'sxdcsdfsd'\n",
       "\\item 'sdwsd'\n",
       "\\item 'sererer'\n",
       "\\item 'ererr'\n",
       "\\item 'gfhghgh'\n",
       "\\item 'ttt'\n",
       "\\end{enumerate*}\n",
       "\n",
       "\\end{enumerate}\n"
      ],
      "text/markdown": [
       "1. 1. 'sxdcsdfsd'\n",
       "2. 'sdwsd'\n",
       "3. 'sererer'\n",
       "4. 'ererr'\n",
       "5. 'gfhghgh'\n",
       "6. 'ttt'\n",
       "\n",
       "\n",
       "\n",
       "\n",
       "\n"
      ],
      "text/plain": [
       "[[1]]\n",
       "[1] \"sxdcsdfsd\" \"sdwsd\"     \"sererer\"   \"ererr\"     \"gfhghgh\"   \"ttt\"      \n"
      ]
     },
     "metadata": {},
     "output_type": "display_data"
    }
   ],
   "source": [
    "vv = strsplit(ll, \"[, ]+\")\n",
    "vv"
   ]
  },
  {
   "cell_type": "code",
   "execution_count": 19,
   "id": "ed7ecd6b",
   "metadata": {},
   "outputs": [
    {
     "data": {
      "text/html": [
       "'list'"
      ],
      "text/latex": [
       "'list'"
      ],
      "text/markdown": [
       "'list'"
      ],
      "text/plain": [
       "[1] \"list\""
      ]
     },
     "metadata": {},
     "output_type": "display_data"
    }
   ],
   "source": [
    "class(vv)"
   ]
  },
  {
   "cell_type": "code",
   "execution_count": 20,
   "id": "3e85e033",
   "metadata": {},
   "outputs": [
    {
     "data": {
      "text/html": [
       "<ol class=list-inline>\n",
       "\t<li>'sxdcsdfsd'</li>\n",
       "\t<li>'sdwsd'</li>\n",
       "\t<li>'sererer'</li>\n",
       "\t<li>'ererr'</li>\n",
       "\t<li>'gfhghgh'</li>\n",
       "\t<li>'ttt'</li>\n",
       "</ol>\n"
      ],
      "text/latex": [
       "\\begin{enumerate*}\n",
       "\\item 'sxdcsdfsd'\n",
       "\\item 'sdwsd'\n",
       "\\item 'sererer'\n",
       "\\item 'ererr'\n",
       "\\item 'gfhghgh'\n",
       "\\item 'ttt'\n",
       "\\end{enumerate*}\n"
      ],
      "text/markdown": [
       "1. 'sxdcsdfsd'\n",
       "2. 'sdwsd'\n",
       "3. 'sererer'\n",
       "4. 'ererr'\n",
       "5. 'gfhghgh'\n",
       "6. 'ttt'\n",
       "\n",
       "\n"
      ],
      "text/plain": [
       "[1] \"sxdcsdfsd\" \"sdwsd\"     \"sererer\"   \"ererr\"     \"gfhghgh\"   \"ttt\"      "
      ]
     },
     "metadata": {},
     "output_type": "display_data"
    }
   ],
   "source": [
    "vv <- c(unlist(vv))\n",
    "vv"
   ]
  },
  {
   "cell_type": "code",
   "execution_count": 21,
   "id": "49d8d0ed",
   "metadata": {},
   "outputs": [
    {
     "data": {
      "text/html": [
       "'character'"
      ],
      "text/latex": [
       "'character'"
      ],
      "text/markdown": [
       "'character'"
      ],
      "text/plain": [
       "[1] \"character\""
      ]
     },
     "metadata": {},
     "output_type": "display_data"
    }
   ],
   "source": [
    "class(vv)"
   ]
  },
  {
   "cell_type": "markdown",
   "id": "f9e92f82",
   "metadata": {},
   "source": [
    "### get unique value of a vector"
   ]
  },
  {
   "cell_type": "code",
   "execution_count": 22,
   "id": "0f1a5ebc",
   "metadata": {},
   "outputs": [
    {
     "data": {
      "text/html": [
       "'CPI515, CPI515 CPI515, GEM108'"
      ],
      "text/latex": [
       "'CPI515, CPI515 CPI515, GEM108'"
      ],
      "text/markdown": [
       "'CPI515, CPI515 CPI515, GEM108'"
      ],
      "text/plain": [
       "[1] \"CPI515, CPI515 CPI515, GEM108\""
      ]
     },
     "metadata": {},
     "output_type": "display_data"
    }
   ],
   "source": [
    "text = \"CPI515, CPI515 CPI515, GEM108\"\n",
    "text"
   ]
  },
  {
   "cell_type": "code",
   "execution_count": 23,
   "id": "6af85c95",
   "metadata": {},
   "outputs": [
    {
     "data": {
      "text/html": [
       "<ol class=list-inline>\n",
       "\t<li>'CPI515'</li>\n",
       "\t<li>'CPI515'</li>\n",
       "\t<li>'CPI515'</li>\n",
       "\t<li>'GEM108'</li>\n",
       "</ol>\n"
      ],
      "text/latex": [
       "\\begin{enumerate*}\n",
       "\\item 'CPI515'\n",
       "\\item 'CPI515'\n",
       "\\item 'CPI515'\n",
       "\\item 'GEM108'\n",
       "\\end{enumerate*}\n"
      ],
      "text/markdown": [
       "1. 'CPI515'\n",
       "2. 'CPI515'\n",
       "3. 'CPI515'\n",
       "4. 'GEM108'\n",
       "\n",
       "\n"
      ],
      "text/plain": [
       "[1] \"CPI515\" \"CPI515\" \"CPI515\" \"GEM108\""
      ]
     },
     "metadata": {},
     "output_type": "display_data"
    }
   ],
   "source": [
    "vec <- strsplit(text, \"[, ]+\")  # here vec is a list\n",
    "vec <- unlist(vec)              # here vec is character. class(vec)\n",
    "vec"
   ]
  },
  {
   "cell_type": "code",
   "execution_count": 24,
   "id": "dd339fba",
   "metadata": {},
   "outputs": [
    {
     "data": {
      "text/html": [
       "<ol class=list-inline>\n",
       "\t<li>'CPI515'</li>\n",
       "\t<li>'GEM108'</li>\n",
       "</ol>\n"
      ],
      "text/latex": [
       "\\begin{enumerate*}\n",
       "\\item 'CPI515'\n",
       "\\item 'GEM108'\n",
       "\\end{enumerate*}\n"
      ],
      "text/markdown": [
       "1. 'CPI515'\n",
       "2. 'GEM108'\n",
       "\n",
       "\n"
      ],
      "text/plain": [
       "[1] \"CPI515\" \"GEM108\""
      ]
     },
     "metadata": {},
     "output_type": "display_data"
    },
    {
     "data": {
      "text/html": [
       "'character'"
      ],
      "text/latex": [
       "'character'"
      ],
      "text/markdown": [
       "'character'"
      ],
      "text/plain": [
       "[1] \"character\""
      ]
     },
     "metadata": {},
     "output_type": "display_data"
    }
   ],
   "source": [
    "vec <- unique(vec)\n",
    "vec\n",
    "class(vec)"
   ]
  },
  {
   "cell_type": "markdown",
   "id": "c54e9f42",
   "metadata": {},
   "source": [
    "### paste0() and paste()"
   ]
  },
  {
   "cell_type": "markdown",
   "id": "99cbe37a",
   "metadata": {},
   "source": [
    "#### paste0()"
   ]
  },
  {
   "cell_type": "code",
   "execution_count": 25,
   "id": "12b13274",
   "metadata": {},
   "outputs": [
    {
     "data": {
      "text/html": [
       "'#comment_title{color: red; font-size: 20px; font-family:Arial; font-weight:bold;}'"
      ],
      "text/latex": [
       "'\\#comment\\_title\\{color: red; font-size: 20px; font-family:Arial; font-weight:bold;\\}'"
      ],
      "text/markdown": [
       "'#comment_title{color: red; font-size: 20px; font-family:Arial; font-weight:bold;}'"
      ],
      "text/plain": [
       "[1] \"#comment_title{color: red; font-size: 20px; font-family:Arial; font-weight:bold;}\""
      ]
     },
     "metadata": {},
     "output_type": "display_data"
    }
   ],
   "source": [
    "string_0 = paste0(\"#comment_title\", \"{color: red; font-size: 20px; font-family:Arial; font-weight:bold;}\")\n",
    "string_0"
   ]
  },
  {
   "cell_type": "markdown",
   "id": "4ce1abea",
   "metadata": {},
   "source": [
    "#### paste()"
   ]
  },
  {
   "cell_type": "code",
   "execution_count": 26,
   "id": "9fc23c0e",
   "metadata": {},
   "outputs": [
    {
     "data": {
      "text/html": [
       "'#comment_title__{color: red; font-size: 20px; font-family:Arial; font-weight:bold;}'"
      ],
      "text/latex": [
       "'\\#comment\\_title\\_\\_\\{color: red; font-size: 20px; font-family:Arial; font-weight:bold;\\}'"
      ],
      "text/markdown": [
       "'#comment_title__{color: red; font-size: 20px; font-family:Arial; font-weight:bold;}'"
      ],
      "text/plain": [
       "[1] \"#comment_title__{color: red; font-size: 20px; font-family:Arial; font-weight:bold;}\""
      ]
     },
     "metadata": {},
     "output_type": "display_data"
    }
   ],
   "source": [
    "string_1 = paste(\"#comment_title\", \"{color: red; font-size: 20px; font-family:Arial; font-weight:bold;}\", sep=\"__\")\n",
    "string_1"
   ]
  },
  {
   "cell_type": "code",
   "execution_count": 13,
   "id": "d24639cf",
   "metadata": {},
   "outputs": [
    {
     "data": {
      "text/html": [
       "'Monday, Tuesday, Wednesday'"
      ],
      "text/latex": [
       "'Monday, Tuesday, Wednesday'"
      ],
      "text/markdown": [
       "'Monday, Tuesday, Wednesday'"
      ],
      "text/plain": [
       "[1] \"Monday, Tuesday, Wednesday\""
      ]
     },
     "metadata": {},
     "output_type": "display_data"
    }
   ],
   "source": [
    "# change a list of words to a string with commas\n",
    "vec = c('Monday', 'Tuesday', 'Wednesday')\n",
    "words <- paste(vec, collapse = \", \")\n",
    "words"
   ]
  },
  {
   "cell_type": "code",
   "execution_count": 16,
   "id": "56f8c08e",
   "metadata": {},
   "outputs": [
    {
     "data": {
      "text/html": [
       "'\"Monday\", \" Tuesday\", \" Wednesday\"'"
      ],
      "text/latex": [
       "'\"Monday\", \" Tuesday\", \" Wednesday\"'"
      ],
      "text/markdown": [
       "'\"Monday\", \" Tuesday\", \" Wednesday\"'"
      ],
      "text/plain": [
       "[1] \"\\\"Monday\\\", \\\" Tuesday\\\", \\\" Wednesday\\\"\""
      ]
     },
     "metadata": {},
     "output_type": "display_data"
    }
   ],
   "source": [
    "# change a list of words to a string with double quotes and commas\n",
    "vec = c('Monday', 'Tuesday', 'Wednesday')\n",
    "sapply(strsplit(paste(vec, collapse = \", \"), ','), function(x) toString(dQuote(x)))"
   ]
  },
  {
   "cell_type": "code",
   "execution_count": 15,
   "id": "6f04bd66",
   "metadata": {},
   "outputs": [
    {
     "data": {
      "text/html": [
       "'Monday, Tuesday, Wednesday, Thursday,Friday'"
      ],
      "text/latex": [
       "'Monday, Tuesday, Wednesday, Thursday,Friday'"
      ],
      "text/markdown": [
       "'Monday, Tuesday, Wednesday, Thursday,Friday'"
      ],
      "text/plain": [
       "[1] \"Monday, Tuesday, Wednesday, Thursday,Friday\""
      ]
     },
     "metadata": {},
     "output_type": "display_data"
    },
    {
     "data": {
      "text/html": [
       "'\"Monday\", \" Tuesday\", \" Wednesday\", \" Thursday\", \"Friday\"'"
      ],
      "text/latex": [
       "'\"Monday\", \" Tuesday\", \" Wednesday\", \" Thursday\", \"Friday\"'"
      ],
      "text/markdown": [
       "'\"Monday\", \" Tuesday\", \" Wednesday\", \" Thursday\", \"Friday\"'"
      ],
      "text/plain": [
       "[1] \"\\\"Monday\\\", \\\" Tuesday\\\", \\\" Wednesday\\\", \\\" Thursday\\\", \\\"Friday\\\"\""
      ]
     },
     "metadata": {},
     "output_type": "display_data"
    }
   ],
   "source": [
    "# add quotes around each word in a string\n",
    "words<-\"Monday, Tuesday, Wednesday, Thursday,Friday\"\n",
    "words\n",
    "sapply(strsplit(words, ','), function(x) toString(dQuote(x)))"
   ]
  },
  {
   "cell_type": "code",
   "execution_count": null,
   "id": "b50d8127",
   "metadata": {},
   "outputs": [],
   "source": []
  }
 ],
 "metadata": {
  "kernelspec": {
   "display_name": "R",
   "language": "R",
   "name": "ir"
  },
  "language_info": {
   "codemirror_mode": "r",
   "file_extension": ".r",
   "mimetype": "text/x-r-source",
   "name": "R",
   "pygments_lexer": "r",
   "version": "3.6.1"
  }
 },
 "nbformat": 4,
 "nbformat_minor": 5
}
