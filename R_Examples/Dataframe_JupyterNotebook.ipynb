{
 "cells": [
  {
   "cell_type": "code",
   "execution_count": 1,
   "id": "40a42c38",
   "metadata": {},
   "outputs": [
    {
     "name": "stderr",
     "output_type": "stream",
     "text": [
      "\n",
      "Attaching package: 'dplyr'\n",
      "\n",
      "The following objects are masked from 'package:stats':\n",
      "\n",
      "    filter, lag\n",
      "\n",
      "The following objects are masked from 'package:base':\n",
      "\n",
      "    intersect, setdiff, setequal, union\n",
      "\n"
     ]
    }
   ],
   "source": [
    "library(dplyr)"
   ]
  },
  {
   "cell_type": "code",
   "execution_count": 2,
   "id": "bd9ee6a6",
   "metadata": {},
   "outputs": [
    {
     "data": {
      "text/html": [
       "<table>\n",
       "<thead><tr><th scope=col>label</th><th scope=col>x1</th><th scope=col>x2</th></tr></thead>\n",
       "<tbody>\n",
       "\t<tr><td>a1 </td><td> 1 </td><td>100</td></tr>\n",
       "\t<tr><td>a2 </td><td> 2 </td><td> NA</td></tr>\n",
       "\t<tr><td>a3 </td><td> 3 </td><td>300</td></tr>\n",
       "\t<tr><td>a4 </td><td>NA </td><td>400</td></tr>\n",
       "\t<tr><td>a5 </td><td>NA </td><td> NA</td></tr>\n",
       "</tbody>\n",
       "</table>\n"
      ],
      "text/latex": [
       "\\begin{tabular}{r|lll}\n",
       " label & x1 & x2\\\\\n",
       "\\hline\n",
       "\t a1  &  1  & 100\\\\\n",
       "\t a2  &  2  &  NA\\\\\n",
       "\t a3  &  3  & 300\\\\\n",
       "\t a4  & NA  & 400\\\\\n",
       "\t a5  & NA  &  NA\\\\\n",
       "\\end{tabular}\n"
      ],
      "text/markdown": [
       "\n",
       "| label | x1 | x2 |\n",
       "|---|---|---|\n",
       "| a1  |  1  | 100 |\n",
       "| a2  |  2  |  NA |\n",
       "| a3  |  3  | 300 |\n",
       "| a4  | NA  | 400 |\n",
       "| a5  | NA  |  NA |\n",
       "\n"
      ],
      "text/plain": [
       "  label x1 x2 \n",
       "1 a1     1 100\n",
       "2 a2     2  NA\n",
       "3 a3     3 300\n",
       "4 a4    NA 400\n",
       "5 a5    NA  NA"
      ]
     },
     "metadata": {},
     "output_type": "display_data"
    }
   ],
   "source": [
    "df <- data.frame(label = c('a1', 'a2', 'a3', 'a4', 'a5'),\n",
    "                 x1 = c(1, 2, 3, NA, NA), \n",
    "                 x2 = c(100, NA, 300, 400, NA))\n",
    "df"
   ]
  },
  {
   "cell_type": "markdown",
   "id": "008a76f0",
   "metadata": {},
   "source": [
    "### Set index for df instead of integer index"
   ]
  },
  {
   "cell_type": "code",
   "execution_count": 3,
   "id": "8224a0f8",
   "metadata": {},
   "outputs": [
    {
     "data": {
      "text/html": [
       "<table>\n",
       "<thead><tr><th></th><th scope=col>label</th><th scope=col>x1</th><th scope=col>x2</th></tr></thead>\n",
       "<tbody>\n",
       "\t<tr><th scope=row>a1</th><td>a1 </td><td> 1 </td><td>100</td></tr>\n",
       "\t<tr><th scope=row>a2</th><td>a2 </td><td> 2 </td><td> NA</td></tr>\n",
       "\t<tr><th scope=row>a3</th><td>a3 </td><td> 3 </td><td>300</td></tr>\n",
       "\t<tr><th scope=row>a4</th><td>a4 </td><td>NA </td><td>400</td></tr>\n",
       "\t<tr><th scope=row>a5</th><td>a5 </td><td>NA </td><td> NA</td></tr>\n",
       "</tbody>\n",
       "</table>\n"
      ],
      "text/latex": [
       "\\begin{tabular}{r|lll}\n",
       "  & label & x1 & x2\\\\\n",
       "\\hline\n",
       "\ta1 & a1  &  1  & 100\\\\\n",
       "\ta2 & a2  &  2  &  NA\\\\\n",
       "\ta3 & a3  &  3  & 300\\\\\n",
       "\ta4 & a4  & NA  & 400\\\\\n",
       "\ta5 & a5  & NA  &  NA\\\\\n",
       "\\end{tabular}\n"
      ],
      "text/markdown": [
       "\n",
       "| <!--/--> | label | x1 | x2 |\n",
       "|---|---|---|---|\n",
       "| a1 | a1  |  1  | 100 |\n",
       "| a2 | a2  |  2  |  NA |\n",
       "| a3 | a3  |  3  | 300 |\n",
       "| a4 | a4  | NA  | 400 |\n",
       "| a5 | a5  | NA  |  NA |\n",
       "\n"
      ],
      "text/plain": [
       "   label x1 x2 \n",
       "a1 a1     1 100\n",
       "a2 a2     2  NA\n",
       "a3 a3     3 300\n",
       "a4 a4    NA 400\n",
       "a5 a5    NA  NA"
      ]
     },
     "metadata": {},
     "output_type": "display_data"
    }
   ],
   "source": [
    "row.names(df) <- df$label\n",
    "df"
   ]
  },
  {
   "cell_type": "markdown",
   "id": "d1d45e66",
   "metadata": {},
   "source": [
    "### Remove a column in df"
   ]
  },
  {
   "cell_type": "code",
   "execution_count": 4,
   "id": "d1b9e3a4",
   "metadata": {},
   "outputs": [
    {
     "data": {
      "text/html": [
       "<table>\n",
       "<thead><tr><th></th><th scope=col>x1</th><th scope=col>x2</th></tr></thead>\n",
       "<tbody>\n",
       "\t<tr><th scope=row>a1</th><td> 1 </td><td>100</td></tr>\n",
       "\t<tr><th scope=row>a2</th><td> 2 </td><td> NA</td></tr>\n",
       "\t<tr><th scope=row>a3</th><td> 3 </td><td>300</td></tr>\n",
       "\t<tr><th scope=row>a4</th><td>NA </td><td>400</td></tr>\n",
       "\t<tr><th scope=row>a5</th><td>NA </td><td> NA</td></tr>\n",
       "</tbody>\n",
       "</table>\n"
      ],
      "text/latex": [
       "\\begin{tabular}{r|ll}\n",
       "  & x1 & x2\\\\\n",
       "\\hline\n",
       "\ta1 &  1  & 100\\\\\n",
       "\ta2 &  2  &  NA\\\\\n",
       "\ta3 &  3  & 300\\\\\n",
       "\ta4 & NA  & 400\\\\\n",
       "\ta5 & NA  &  NA\\\\\n",
       "\\end{tabular}\n"
      ],
      "text/markdown": [
       "\n",
       "| <!--/--> | x1 | x2 |\n",
       "|---|---|---|\n",
       "| a1 |  1  | 100 |\n",
       "| a2 |  2  |  NA |\n",
       "| a3 |  3  | 300 |\n",
       "| a4 | NA  | 400 |\n",
       "| a5 | NA  |  NA |\n",
       "\n"
      ],
      "text/plain": [
       "   x1 x2 \n",
       "a1  1 100\n",
       "a2  2  NA\n",
       "a3  3 300\n",
       "a4 NA 400\n",
       "a5 NA  NA"
      ]
     },
     "metadata": {},
     "output_type": "display_data"
    }
   ],
   "source": [
    "df <- subset(df, select = -c(label))\n",
    "df"
   ]
  },
  {
   "cell_type": "markdown",
   "id": "1432d634",
   "metadata": {},
   "source": [
    "### remove \"rows\" in a dataframe with a NA value in one of the columns"
   ]
  },
  {
   "cell_type": "code",
   "execution_count": 5,
   "id": "56d6b62b",
   "metadata": {},
   "outputs": [
    {
     "data": {
      "text/html": [
       "<table>\n",
       "<thead><tr><th></th><th scope=col>x1</th><th scope=col>x2</th></tr></thead>\n",
       "<tbody>\n",
       "\t<tr><th scope=row>a1</th><td>1  </td><td>100</td></tr>\n",
       "\t<tr><th scope=row>a3</th><td>3  </td><td>300</td></tr>\n",
       "</tbody>\n",
       "</table>\n"
      ],
      "text/latex": [
       "\\begin{tabular}{r|ll}\n",
       "  & x1 & x2\\\\\n",
       "\\hline\n",
       "\ta1 & 1   & 100\\\\\n",
       "\ta3 & 3   & 300\\\\\n",
       "\\end{tabular}\n"
      ],
      "text/markdown": [
       "\n",
       "| <!--/--> | x1 | x2 |\n",
       "|---|---|---|\n",
       "| a1 | 1   | 100 |\n",
       "| a3 | 3   | 300 |\n",
       "\n"
      ],
      "text/plain": [
       "   x1 x2 \n",
       "a1 1  100\n",
       "a3 3  300"
      ]
     },
     "metadata": {},
     "output_type": "display_data"
    }
   ],
   "source": [
    "df1 = na.omit(df)\n",
    "df1"
   ]
  },
  {
   "cell_type": "markdown",
   "id": "b003bc9a",
   "metadata": {},
   "source": [
    "### remove \"rows\" in a dataframe with all NA"
   ]
  },
  {
   "cell_type": "code",
   "execution_count": 6,
   "id": "9795d545",
   "metadata": {},
   "outputs": [
    {
     "data": {
      "text/html": [
       "<table>\n",
       "<thead><tr><th scope=col>x1</th><th scope=col>x2</th></tr></thead>\n",
       "<tbody>\n",
       "\t<tr><td> 1 </td><td>100</td></tr>\n",
       "\t<tr><td> 2 </td><td> NA</td></tr>\n",
       "\t<tr><td> 3 </td><td>300</td></tr>\n",
       "\t<tr><td>NA </td><td>400</td></tr>\n",
       "</tbody>\n",
       "</table>\n"
      ],
      "text/latex": [
       "\\begin{tabular}{r|ll}\n",
       " x1 & x2\\\\\n",
       "\\hline\n",
       "\t  1  & 100\\\\\n",
       "\t  2  &  NA\\\\\n",
       "\t  3  & 300\\\\\n",
       "\t NA  & 400\\\\\n",
       "\\end{tabular}\n"
      ],
      "text/markdown": [
       "\n",
       "| x1 | x2 |\n",
       "|---|---|\n",
       "|  1  | 100 |\n",
       "|  2  |  NA |\n",
       "|  3  | 300 |\n",
       "| NA  | 400 |\n",
       "\n"
      ],
      "text/plain": [
       "  x1 x2 \n",
       "1  1 100\n",
       "2  2  NA\n",
       "3  3 300\n",
       "4 NA 400"
      ]
     },
     "metadata": {},
     "output_type": "display_data"
    }
   ],
   "source": [
    "df %>% filter_all(any_vars(!is.na(.)))"
   ]
  },
  {
   "cell_type": "markdown",
   "id": "c3375dd8",
   "metadata": {},
   "source": [
    "### Get column names"
   ]
  },
  {
   "cell_type": "code",
   "execution_count": 7,
   "id": "4086cdc0",
   "metadata": {},
   "outputs": [
    {
     "data": {
      "text/html": [
       "<ol class=list-inline>\n",
       "\t<li>'x1'</li>\n",
       "\t<li>'x2'</li>\n",
       "</ol>\n"
      ],
      "text/latex": [
       "\\begin{enumerate*}\n",
       "\\item 'x1'\n",
       "\\item 'x2'\n",
       "\\end{enumerate*}\n"
      ],
      "text/markdown": [
       "1. 'x1'\n",
       "2. 'x2'\n",
       "\n",
       "\n"
      ],
      "text/plain": [
       "[1] \"x1\" \"x2\""
      ]
     },
     "metadata": {},
     "output_type": "display_data"
    }
   ],
   "source": [
    "# col_names = colnames(df)\n",
    "col_names = names(df)\n",
    "col_names"
   ]
  },
  {
   "cell_type": "code",
   "execution_count": 8,
   "id": "b908b08c",
   "metadata": {},
   "outputs": [
    {
     "data": {
      "text/html": [
       "'character'"
      ],
      "text/latex": [
       "'character'"
      ],
      "text/markdown": [
       "'character'"
      ],
      "text/plain": [
       "[1] \"character\""
      ]
     },
     "metadata": {},
     "output_type": "display_data"
    }
   ],
   "source": [
    "class(col_names)"
   ]
  },
  {
   "cell_type": "code",
   "execution_count": 9,
   "id": "cdad4007",
   "metadata": {},
   "outputs": [
    {
     "data": {
      "text/html": [
       "'x1'"
      ],
      "text/latex": [
       "'x1'"
      ],
      "text/markdown": [
       "'x1'"
      ],
      "text/plain": [
       "[1] \"x1\""
      ]
     },
     "metadata": {},
     "output_type": "display_data"
    }
   ],
   "source": [
    "col_names[1]"
   ]
  },
  {
   "cell_type": "code",
   "execution_count": 10,
   "id": "99e4cd1f",
   "metadata": {},
   "outputs": [
    {
     "data": {
      "text/html": [
       "'x2'"
      ],
      "text/latex": [
       "'x2'"
      ],
      "text/markdown": [
       "'x2'"
      ],
      "text/plain": [
       "[1] \"x2\""
      ]
     },
     "metadata": {},
     "output_type": "display_data"
    }
   ],
   "source": [
    "col_names[2]"
   ]
  },
  {
   "cell_type": "code",
   "execution_count": null,
   "id": "31750d86",
   "metadata": {},
   "outputs": [],
   "source": []
  },
  {
   "cell_type": "code",
   "execution_count": 11,
   "id": "003a386d",
   "metadata": {},
   "outputs": [
    {
     "data": {
      "text/html": [
       "<dl>\n",
       "\t<dt>$a</dt>\n",
       "\t\t<dd><ol class=list-inline>\n",
       "\t<li>1</li>\n",
       "\t<li>2</li>\n",
       "\t<li>3</li>\n",
       "\t<li>4</li>\n",
       "</ol>\n",
       "</dd>\n",
       "\t<dt>$b</dt>\n",
       "\t\t<dd><ol class=list-inline>\n",
       "\t<li>5</li>\n",
       "\t<li>6</li>\n",
       "\t<li>7</li>\n",
       "</ol>\n",
       "</dd>\n",
       "\t<dt>$c</dt>\n",
       "\t\t<dd><ol class=list-inline>\n",
       "\t<li>8</li>\n",
       "\t<li>9</li>\n",
       "\t<li>10</li>\n",
       "</ol>\n",
       "</dd>\n",
       "</dl>\n"
      ],
      "text/latex": [
       "\\begin{description}\n",
       "\\item[\\$a] \\begin{enumerate*}\n",
       "\\item 1\n",
       "\\item 2\n",
       "\\item 3\n",
       "\\item 4\n",
       "\\end{enumerate*}\n",
       "\n",
       "\\item[\\$b] \\begin{enumerate*}\n",
       "\\item 5\n",
       "\\item 6\n",
       "\\item 7\n",
       "\\end{enumerate*}\n",
       "\n",
       "\\item[\\$c] \\begin{enumerate*}\n",
       "\\item 8\n",
       "\\item 9\n",
       "\\item 10\n",
       "\\end{enumerate*}\n",
       "\n",
       "\\end{description}\n"
      ],
      "text/markdown": [
       "$a\n",
       ":   1. 1\n",
       "2. 2\n",
       "3. 3\n",
       "4. 4\n",
       "\n",
       "\n",
       "\n",
       "$b\n",
       ":   1. 5\n",
       "2. 6\n",
       "3. 7\n",
       "\n",
       "\n",
       "\n",
       "$c\n",
       ":   1. 8\n",
       "2. 9\n",
       "3. 10\n",
       "\n",
       "\n",
       "\n",
       "\n",
       "\n"
      ],
      "text/plain": [
       "$a\n",
       "[1] 1 2 3 4\n",
       "\n",
       "$b\n",
       "[1] 5 6 7\n",
       "\n",
       "$c\n",
       "[1]  8  9 10\n"
      ]
     },
     "metadata": {},
     "output_type": "display_data"
    }
   ],
   "source": [
    "split_chunk <- function(x, n) split(x, sort(rep(letters[1:n], each=n, len=length(x))))\n",
    "\n",
    "x <- 1:10\n",
    "split_chunk(x, 3)"
   ]
  },
  {
   "cell_type": "code",
   "execution_count": 12,
   "id": "ccc68955",
   "metadata": {},
   "outputs": [
    {
     "data": {
      "text/html": [
       "<dl>\n",
       "\t<dt>$`1`</dt>\n",
       "\t\t<dd><ol class=list-inline>\n",
       "\t<li>1</li>\n",
       "\t<li>2</li>\n",
       "\t<li>3</li>\n",
       "\t<li>4</li>\n",
       "</ol>\n",
       "</dd>\n",
       "\t<dt>$`2`</dt>\n",
       "\t\t<dd><ol class=list-inline>\n",
       "\t<li>5</li>\n",
       "\t<li>6</li>\n",
       "\t<li>7</li>\n",
       "</ol>\n",
       "</dd>\n",
       "\t<dt>$`3`</dt>\n",
       "\t\t<dd><ol class=list-inline>\n",
       "\t<li>8</li>\n",
       "\t<li>9</li>\n",
       "\t<li>10</li>\n",
       "</ol>\n",
       "</dd>\n",
       "</dl>\n"
      ],
      "text/latex": [
       "\\begin{description}\n",
       "\\item[\\$`1`] \\begin{enumerate*}\n",
       "\\item 1\n",
       "\\item 2\n",
       "\\item 3\n",
       "\\item 4\n",
       "\\end{enumerate*}\n",
       "\n",
       "\\item[\\$`2`] \\begin{enumerate*}\n",
       "\\item 5\n",
       "\\item 6\n",
       "\\item 7\n",
       "\\end{enumerate*}\n",
       "\n",
       "\\item[\\$`3`] \\begin{enumerate*}\n",
       "\\item 8\n",
       "\\item 9\n",
       "\\item 10\n",
       "\\end{enumerate*}\n",
       "\n",
       "\\end{description}\n"
      ],
      "text/markdown": [
       "$`1`\n",
       ":   1. 1\n",
       "2. 2\n",
       "3. 3\n",
       "4. 4\n",
       "\n",
       "\n",
       "\n",
       "$`2`\n",
       ":   1. 5\n",
       "2. 6\n",
       "3. 7\n",
       "\n",
       "\n",
       "\n",
       "$`3`\n",
       ":   1. 8\n",
       "2. 9\n",
       "3. 10\n",
       "\n",
       "\n",
       "\n",
       "\n",
       "\n"
      ],
      "text/plain": [
       "$`1`\n",
       "[1] 1 2 3 4\n",
       "\n",
       "$`2`\n",
       "[1] 5 6 7\n",
       "\n",
       "$`3`\n",
       "[1]  8  9 10\n"
      ]
     },
     "metadata": {},
     "output_type": "display_data"
    }
   ],
   "source": [
    "n <- 3\n",
    "# xs = split(x, sort(x%%n))\n",
    "# xs = split(x, rep_len(1:n, length(x)))\n",
    "# xs = split(x, 1:n)  # divide it into 5 parts\n",
    "#chunk = function(x, n) split(x, sort(rank(x) %% n))\n",
    "#xs = chunk(x, n)\n",
    "xs <- split(x, sort(rep_len(1:n, length(x))))\n",
    "xs"
   ]
  },
  {
   "cell_type": "code",
   "execution_count": 13,
   "id": "e5026d64",
   "metadata": {},
   "outputs": [
    {
     "data": {
      "text/html": [
       "'list'"
      ],
      "text/latex": [
       "'list'"
      ],
      "text/markdown": [
       "'list'"
      ],
      "text/plain": [
       "[1] \"list\""
      ]
     },
     "metadata": {},
     "output_type": "display_data"
    }
   ],
   "source": [
    "class(xs)"
   ]
  },
  {
   "cell_type": "code",
   "execution_count": 17,
   "id": "6a7d37ba",
   "metadata": {},
   "outputs": [
    {
     "data": {
      "text/html": [
       "'list'"
      ],
      "text/latex": [
       "'list'"
      ],
      "text/markdown": [
       "'list'"
      ],
      "text/plain": [
       "[1] \"list\""
      ]
     },
     "metadata": {},
     "output_type": "display_data"
    }
   ],
   "source": [
    "class(xs[1][1])"
   ]
  },
  {
   "cell_type": "code",
   "execution_count": 19,
   "id": "d21f0cbc",
   "metadata": {},
   "outputs": [
    {
     "data": {
      "text/html": [
       "<strong>$`1`</strong> = <ol class=list-inline>\n",
       "\t<li>1</li>\n",
       "\t<li>2</li>\n",
       "\t<li>3</li>\n",
       "\t<li>4</li>\n",
       "</ol>\n"
      ],
      "text/latex": [
       "\\textbf{\\$`1`} = \\begin{enumerate*}\n",
       "\\item 1\n",
       "\\item 2\n",
       "\\item 3\n",
       "\\item 4\n",
       "\\end{enumerate*}\n"
      ],
      "text/markdown": [
       "**$`1`** = 1. 1\n",
       "2. 2\n",
       "3. 3\n",
       "4. 4\n",
       "\n",
       "\n"
      ],
      "text/plain": [
       "$`1`\n",
       "[1] 1 2 3 4\n"
      ]
     },
     "metadata": {},
     "output_type": "display_data"
    }
   ],
   "source": [
    "xs[1]"
   ]
  },
  {
   "cell_type": "code",
   "execution_count": 20,
   "id": "8675c9ff",
   "metadata": {},
   "outputs": [
    {
     "data": {
      "text/html": [
       "<ol class=list-inline>\n",
       "\t<li>1</li>\n",
       "\t<li>2</li>\n",
       "\t<li>3</li>\n",
       "\t<li>4</li>\n",
       "</ol>\n"
      ],
      "text/latex": [
       "\\begin{enumerate*}\n",
       "\\item 1\n",
       "\\item 2\n",
       "\\item 3\n",
       "\\item 4\n",
       "\\end{enumerate*}\n"
      ],
      "text/markdown": [
       "1. 1\n",
       "2. 2\n",
       "3. 3\n",
       "4. 4\n",
       "\n",
       "\n"
      ],
      "text/plain": [
       "[1] 1 2 3 4"
      ]
     },
     "metadata": {},
     "output_type": "display_data"
    }
   ],
   "source": [
    "unlist(xs[1], use.names = FALSE)"
   ]
  },
  {
   "cell_type": "code",
   "execution_count": null,
   "id": "7040ad78",
   "metadata": {},
   "outputs": [],
   "source": [
    "ll = c(1, 2, 3)\n",
    "class(ll)"
   ]
  },
  {
   "cell_type": "code",
   "execution_count": null,
   "id": "9a81513a",
   "metadata": {},
   "outputs": [],
   "source": [
    "vec = unlist(xs[1])\n",
    "vec"
   ]
  },
  {
   "cell_type": "code",
   "execution_count": null,
   "id": "783fc794",
   "metadata": {},
   "outputs": [],
   "source": [
    "class(vec)"
   ]
  },
  {
   "cell_type": "code",
   "execution_count": null,
   "id": "257faa06",
   "metadata": {},
   "outputs": [],
   "source": [
    "c(vec)"
   ]
  },
  {
   "cell_type": "code",
   "execution_count": null,
   "id": "5cdfb648",
   "metadata": {},
   "outputs": [],
   "source": [
    "# Creating a list.\n",
    "my_list <- list(l1 = c(1, 3, 5, 7),                \n",
    "                l2 = c(1, 2, 3),                    \n",
    "                l3 = c(1, 1, 10, 5, 8, 65, 90))  \n",
    "my_list"
   ]
  },
  {
   "cell_type": "code",
   "execution_count": null,
   "id": "7c774f5d",
   "metadata": {},
   "outputs": [],
   "source": [
    "vec1 = my_list['l1']\n",
    "vec1"
   ]
  },
  {
   "cell_type": "markdown",
   "id": "b9ede889",
   "metadata": {},
   "source": [
    "## II."
   ]
  },
  {
   "cell_type": "code",
   "execution_count": 21,
   "id": "e568b055",
   "metadata": {},
   "outputs": [
    {
     "data": {
      "text/html": [
       "<table>\n",
       "<thead><tr><th scope=col>label</th><th scope=col>x1</th><th scope=col>x2</th></tr></thead>\n",
       "<tbody>\n",
       "\t<tr><td>AA </td><td> 1 </td><td>100</td></tr>\n",
       "\t<tr><td>BB </td><td> 2 </td><td> NA</td></tr>\n",
       "\t<tr><td>AA </td><td> 3 </td><td>300</td></tr>\n",
       "\t<tr><td>CC </td><td>NA </td><td>400</td></tr>\n",
       "\t<tr><td>BB </td><td>NA </td><td> NA</td></tr>\n",
       "</tbody>\n",
       "</table>\n"
      ],
      "text/latex": [
       "\\begin{tabular}{r|lll}\n",
       " label & x1 & x2\\\\\n",
       "\\hline\n",
       "\t AA  &  1  & 100\\\\\n",
       "\t BB  &  2  &  NA\\\\\n",
       "\t AA  &  3  & 300\\\\\n",
       "\t CC  & NA  & 400\\\\\n",
       "\t BB  & NA  &  NA\\\\\n",
       "\\end{tabular}\n"
      ],
      "text/markdown": [
       "\n",
       "| label | x1 | x2 |\n",
       "|---|---|---|\n",
       "| AA  |  1  | 100 |\n",
       "| BB  |  2  |  NA |\n",
       "| AA  |  3  | 300 |\n",
       "| CC  | NA  | 400 |\n",
       "| BB  | NA  |  NA |\n",
       "\n"
      ],
      "text/plain": [
       "  label x1 x2 \n",
       "1 AA     1 100\n",
       "2 BB     2  NA\n",
       "3 AA     3 300\n",
       "4 CC    NA 400\n",
       "5 BB    NA  NA"
      ]
     },
     "metadata": {},
     "output_type": "display_data"
    }
   ],
   "source": [
    "df <- data.frame(label = c('AA', 'BB', 'AA', 'CC', 'BB'),\n",
    "                 x1 = c(1, 2, 3, NA, NA), \n",
    "                 x2 = c(100, NA, 300, 400, NA))\n",
    "df"
   ]
  },
  {
   "cell_type": "code",
   "execution_count": 22,
   "id": "8166987a",
   "metadata": {},
   "outputs": [
    {
     "data": {
      "text/html": [
       "<ol class=list-inline>\n",
       "\t<li>AA</li>\n",
       "\t<li>BB</li>\n",
       "\t<li>CC</li>\n",
       "</ol>\n",
       "\n",
       "<details>\n",
       "\t<summary style=display:list-item;cursor:pointer>\n",
       "\t\t<strong>Levels</strong>:\n",
       "\t</summary>\n",
       "\t<ol class=list-inline>\n",
       "\t\t<li>'AA'</li>\n",
       "\t\t<li>'BB'</li>\n",
       "\t\t<li>'CC'</li>\n",
       "\t</ol>\n",
       "</details>"
      ],
      "text/latex": [
       "\\begin{enumerate*}\n",
       "\\item AA\n",
       "\\item BB\n",
       "\\item CC\n",
       "\\end{enumerate*}\n",
       "\n",
       "\\emph{Levels}: \\begin{enumerate*}\n",
       "\\item 'AA'\n",
       "\\item 'BB'\n",
       "\\item 'CC'\n",
       "\\end{enumerate*}\n"
      ],
      "text/markdown": [
       "1. AA\n",
       "2. BB\n",
       "3. CC\n",
       "\n",
       "\n",
       "\n",
       "**Levels**: 1. 'AA'\n",
       "2. 'BB'\n",
       "3. 'CC'\n",
       "\n",
       "\n"
      ],
      "text/plain": [
       "[1] AA BB CC\n",
       "Levels: AA BB CC"
      ]
     },
     "metadata": {},
     "output_type": "display_data"
    }
   ],
   "source": [
    "labels = unique(df$label)\n",
    "labels"
   ]
  },
  {
   "cell_type": "code",
   "execution_count": null,
   "id": "a503d167",
   "metadata": {},
   "outputs": [],
   "source": []
  }
 ],
 "metadata": {
  "kernelspec": {
   "display_name": "R",
   "language": "R",
   "name": "ir"
  },
  "language_info": {
   "codemirror_mode": "r",
   "file_extension": ".r",
   "mimetype": "text/x-r-source",
   "name": "R",
   "pygments_lexer": "r",
   "version": "3.6.1"
  }
 },
 "nbformat": 4,
 "nbformat_minor": 5
}
