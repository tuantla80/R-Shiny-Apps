{
 "cells": [
  {
   "cell_type": "code",
   "execution_count": 1,
   "id": "40a42c38",
   "metadata": {},
   "outputs": [
    {
     "name": "stderr",
     "output_type": "stream",
     "text": [
      "\n",
      "Attaching package: 'dplyr'\n",
      "\n",
      "The following objects are masked from 'package:stats':\n",
      "\n",
      "    filter, lag\n",
      "\n",
      "The following objects are masked from 'package:base':\n",
      "\n",
      "    intersect, setdiff, setequal, union\n",
      "\n"
     ]
    }
   ],
   "source": [
    "library(dplyr)\n",
    "library(stringi)  # to get stri_remove_empty()\n",
    "library(jsonlite)\n",
    "library(tidyr)\n",
    "library(stringr)\n",
    "# library(tidyverse)"
   ]
  },
  {
   "cell_type": "markdown",
   "id": "ac33c9c7",
   "metadata": {},
   "source": [
    "### strsplit()"
   ]
  },
  {
   "cell_type": "code",
   "execution_count": 2,
   "id": "22f4c2df",
   "metadata": {},
   "outputs": [
    {
     "data": {
      "text/html": [
       "<ol>\n",
       "\t<li><ol class=list-inline>\n",
       "\t<li>'T'</li>\n",
       "\t<li>'h'</li>\n",
       "\t<li>'e'</li>\n",
       "\t<li>' '</li>\n",
       "\t<li>'q'</li>\n",
       "\t<li>'u'</li>\n",
       "\t<li>'i'</li>\n",
       "\t<li>'c'</li>\n",
       "\t<li>'k'</li>\n",
       "\t<li>' '</li>\n",
       "\t<li>'b'</li>\n",
       "\t<li>'r'</li>\n",
       "\t<li>'o'</li>\n",
       "\t<li>'w'</li>\n",
       "\t<li>'n'</li>\n",
       "\t<li>' '</li>\n",
       "\t<li>'f'</li>\n",
       "\t<li>'o'</li>\n",
       "\t<li>'x'</li>\n",
       "\t<li>' '</li>\n",
       "\t<li>'j'</li>\n",
       "\t<li>'u'</li>\n",
       "\t<li>'m'</li>\n",
       "\t<li>'p'</li>\n",
       "\t<li>'s'</li>\n",
       "\t<li>' '</li>\n",
       "\t<li>'o'</li>\n",
       "\t<li>'v'</li>\n",
       "\t<li>'e'</li>\n",
       "\t<li>'r'</li>\n",
       "\t<li>' '</li>\n",
       "\t<li>'t'</li>\n",
       "\t<li>'h'</li>\n",
       "\t<li>'e'</li>\n",
       "\t<li>' '</li>\n",
       "\t<li>'l'</li>\n",
       "\t<li>'a'</li>\n",
       "\t<li>'z'</li>\n",
       "\t<li>'y'</li>\n",
       "\t<li>' '</li>\n",
       "\t<li>'d'</li>\n",
       "\t<li>'o'</li>\n",
       "\t<li>'g'</li>\n",
       "</ol>\n",
       "</li>\n",
       "</ol>\n"
      ],
      "text/latex": [
       "\\begin{enumerate}\n",
       "\\item \\begin{enumerate*}\n",
       "\\item 'T'\n",
       "\\item 'h'\n",
       "\\item 'e'\n",
       "\\item ' '\n",
       "\\item 'q'\n",
       "\\item 'u'\n",
       "\\item 'i'\n",
       "\\item 'c'\n",
       "\\item 'k'\n",
       "\\item ' '\n",
       "\\item 'b'\n",
       "\\item 'r'\n",
       "\\item 'o'\n",
       "\\item 'w'\n",
       "\\item 'n'\n",
       "\\item ' '\n",
       "\\item 'f'\n",
       "\\item 'o'\n",
       "\\item 'x'\n",
       "\\item ' '\n",
       "\\item 'j'\n",
       "\\item 'u'\n",
       "\\item 'm'\n",
       "\\item 'p'\n",
       "\\item 's'\n",
       "\\item ' '\n",
       "\\item 'o'\n",
       "\\item 'v'\n",
       "\\item 'e'\n",
       "\\item 'r'\n",
       "\\item ' '\n",
       "\\item 't'\n",
       "\\item 'h'\n",
       "\\item 'e'\n",
       "\\item ' '\n",
       "\\item 'l'\n",
       "\\item 'a'\n",
       "\\item 'z'\n",
       "\\item 'y'\n",
       "\\item ' '\n",
       "\\item 'd'\n",
       "\\item 'o'\n",
       "\\item 'g'\n",
       "\\end{enumerate*}\n",
       "\n",
       "\\end{enumerate}\n"
      ],
      "text/markdown": [
       "1. 1. 'T'\n",
       "2. 'h'\n",
       "3. 'e'\n",
       "4. ' '\n",
       "5. 'q'\n",
       "6. 'u'\n",
       "7. 'i'\n",
       "8. 'c'\n",
       "9. 'k'\n",
       "10. ' '\n",
       "11. 'b'\n",
       "12. 'r'\n",
       "13. 'o'\n",
       "14. 'w'\n",
       "15. 'n'\n",
       "16. ' '\n",
       "17. 'f'\n",
       "18. 'o'\n",
       "19. 'x'\n",
       "20. ' '\n",
       "21. 'j'\n",
       "22. 'u'\n",
       "23. 'm'\n",
       "24. 'p'\n",
       "25. 's'\n",
       "26. ' '\n",
       "27. 'o'\n",
       "28. 'v'\n",
       "29. 'e'\n",
       "30. 'r'\n",
       "31. ' '\n",
       "32. 't'\n",
       "33. 'h'\n",
       "34. 'e'\n",
       "35. ' '\n",
       "36. 'l'\n",
       "37. 'a'\n",
       "38. 'z'\n",
       "39. 'y'\n",
       "40. ' '\n",
       "41. 'd'\n",
       "42. 'o'\n",
       "43. 'g'\n",
       "\n",
       "\n",
       "\n",
       "\n",
       "\n"
      ],
      "text/plain": [
       "[[1]]\n",
       " [1] \"T\" \"h\" \"e\" \" \" \"q\" \"u\" \"i\" \"c\" \"k\" \" \" \"b\" \"r\" \"o\" \"w\" \"n\" \" \" \"f\" \"o\" \"x\"\n",
       "[20] \" \" \"j\" \"u\" \"m\" \"p\" \"s\" \" \" \"o\" \"v\" \"e\" \"r\" \" \" \"t\" \"h\" \"e\" \" \" \"l\" \"a\" \"z\"\n",
       "[39] \"y\" \" \" \"d\" \"o\" \"g\"\n"
      ]
     },
     "metadata": {},
     "output_type": "display_data"
    }
   ],
   "source": [
    "pangram <- \"The quick brown fox jumps over the lazy dog\"\n",
    "values <- strsplit(pangram, \"\")\n",
    "values"
   ]
  },
  {
   "cell_type": "code",
   "execution_count": 3,
   "id": "577dffbc",
   "metadata": {},
   "outputs": [
    {
     "data": {
      "text/html": [
       "<ol>\n",
       "\t<li><ol class=list-inline>\n",
       "\t<li>'The'</li>\n",
       "\t<li>'quick'</li>\n",
       "\t<li>'brown'</li>\n",
       "\t<li>'fox'</li>\n",
       "\t<li>'jumps'</li>\n",
       "\t<li>'over'</li>\n",
       "\t<li>'the'</li>\n",
       "\t<li>'lazy'</li>\n",
       "\t<li>'dog'</li>\n",
       "</ol>\n",
       "</li>\n",
       "</ol>\n"
      ],
      "text/latex": [
       "\\begin{enumerate}\n",
       "\\item \\begin{enumerate*}\n",
       "\\item 'The'\n",
       "\\item 'quick'\n",
       "\\item 'brown'\n",
       "\\item 'fox'\n",
       "\\item 'jumps'\n",
       "\\item 'over'\n",
       "\\item 'the'\n",
       "\\item 'lazy'\n",
       "\\item 'dog'\n",
       "\\end{enumerate*}\n",
       "\n",
       "\\end{enumerate}\n"
      ],
      "text/markdown": [
       "1. 1. 'The'\n",
       "2. 'quick'\n",
       "3. 'brown'\n",
       "4. 'fox'\n",
       "5. 'jumps'\n",
       "6. 'over'\n",
       "7. 'the'\n",
       "8. 'lazy'\n",
       "9. 'dog'\n",
       "\n",
       "\n",
       "\n",
       "\n",
       "\n"
      ],
      "text/plain": [
       "[[1]]\n",
       "[1] \"The\"   \"quick\" \"brown\" \"fox\"   \"jumps\" \"over\"  \"the\"   \"lazy\"  \"dog\"  \n"
      ]
     },
     "metadata": {},
     "output_type": "display_data"
    }
   ],
   "source": [
    "values <- strsplit(pangram, \" \")\n",
    "values"
   ]
  },
  {
   "cell_type": "code",
   "execution_count": 4,
   "id": "75f46f40",
   "metadata": {},
   "outputs": [
    {
     "data": {
      "text/html": [
       "'list'"
      ],
      "text/latex": [
       "'list'"
      ],
      "text/markdown": [
       "'list'"
      ],
      "text/plain": [
       "[1] \"list\""
      ]
     },
     "metadata": {},
     "output_type": "display_data"
    }
   ],
   "source": [
    "class(values)"
   ]
  },
  {
   "cell_type": "markdown",
   "id": "6f1af3bf",
   "metadata": {},
   "source": [
    "### Split string with newline, comma, dot, white space"
   ]
  },
  {
   "cell_type": "code",
   "execution_count": 5,
   "id": "f885615e",
   "metadata": {},
   "outputs": [
    {
     "data": {
      "text/html": [
       "<span style=white-space:pre-wrap>'a1\\n           a2 a3\\n           a4, a5\\n           a6 a7  ,\\n           a8\\n '</span>"
      ],
      "text/latex": [
       "'a1\\textbackslash{}n           a2 a3\\textbackslash{}n           a4, a5\\textbackslash{}n           a6 a7  ,\\textbackslash{}n           a8\\textbackslash{}n '"
      ],
      "text/markdown": [
       "<span style=white-space:pre-wrap>'a1\\n           a2 a3\\n           a4, a5\\n           a6 a7  ,\\n           a8\\n '</span>"
      ],
      "text/plain": [
       "[1] \"a1\\n           a2 a3\\n           a4, a5\\n           a6 a7  ,\\n           a8\\n \""
      ]
     },
     "metadata": {},
     "output_type": "display_data"
    }
   ],
   "source": [
    "string <- \"a1\n",
    "           a2 a3\n",
    "           a4, a5\n",
    "           a6 a7  ,\n",
    "           a8\n",
    " \"\n",
    "string"
   ]
  },
  {
   "cell_type": "code",
   "execution_count": 6,
   "id": "4b593901",
   "metadata": {},
   "outputs": [],
   "source": [
    "parseInput <- function(string){\n",
    "  # split new line\n",
    "  str <- strsplit(string, '\\\\s')\n",
    "  # remove empty string and NA\n",
    "  str <- stri_remove_empty(str[[1]], TRUE)\n",
    "  # remove , and .\n",
    "  str <- str[! str %in% c(',', '.')]\n",
    "  # remove trailing ,\n",
    "  str <- gsub(',$', \"\", str)\n",
    "  return (str)\n",
    "}"
   ]
  },
  {
   "cell_type": "code",
   "execution_count": 7,
   "id": "89abc6c1",
   "metadata": {},
   "outputs": [
    {
     "data": {
      "text/html": [
       "'character'"
      ],
      "text/latex": [
       "'character'"
      ],
      "text/markdown": [
       "'character'"
      ],
      "text/plain": [
       "[1] \"character\""
      ]
     },
     "metadata": {},
     "output_type": "display_data"
    },
    {
     "data": {
      "text/html": [
       "<ol class=list-inline>\n",
       "\t<li>'a1'</li>\n",
       "\t<li>'a2'</li>\n",
       "\t<li>'a3'</li>\n",
       "\t<li>'a4'</li>\n",
       "\t<li>'a5'</li>\n",
       "\t<li>'a6'</li>\n",
       "\t<li>'a7'</li>\n",
       "\t<li>'a8'</li>\n",
       "</ol>\n"
      ],
      "text/latex": [
       "\\begin{enumerate*}\n",
       "\\item 'a1'\n",
       "\\item 'a2'\n",
       "\\item 'a3'\n",
       "\\item 'a4'\n",
       "\\item 'a5'\n",
       "\\item 'a6'\n",
       "\\item 'a7'\n",
       "\\item 'a8'\n",
       "\\end{enumerate*}\n"
      ],
      "text/markdown": [
       "1. 'a1'\n",
       "2. 'a2'\n",
       "3. 'a3'\n",
       "4. 'a4'\n",
       "5. 'a5'\n",
       "6. 'a6'\n",
       "7. 'a7'\n",
       "8. 'a8'\n",
       "\n",
       "\n"
      ],
      "text/plain": [
       "[1] \"a1\" \"a2\" \"a3\" \"a4\" \"a5\" \"a6\" \"a7\" \"a8\""
      ]
     },
     "metadata": {},
     "output_type": "display_data"
    }
   ],
   "source": [
    "parsed_str <- parseInput(string=string)\n",
    "class(parsed_str)  \n",
    "parsed_str"
   ]
  },
  {
   "cell_type": "markdown",
   "id": "04fc50b3",
   "metadata": {},
   "source": [
    "#### Step by step of parseInput()"
   ]
  },
  {
   "cell_type": "code",
   "execution_count": 8,
   "id": "540c078f",
   "metadata": {},
   "outputs": [
    {
     "data": {
      "text/html": [
       "'list'"
      ],
      "text/latex": [
       "'list'"
      ],
      "text/markdown": [
       "'list'"
      ],
      "text/plain": [
       "[1] \"list\""
      ]
     },
     "metadata": {},
     "output_type": "display_data"
    },
    {
     "data": {
      "text/html": [
       "<ol>\n",
       "\t<li><ol class=list-inline>\n",
       "\t<li>'a1'</li>\n",
       "\t<li>''</li>\n",
       "\t<li>''</li>\n",
       "\t<li>''</li>\n",
       "\t<li>''</li>\n",
       "\t<li>''</li>\n",
       "\t<li>''</li>\n",
       "\t<li>''</li>\n",
       "\t<li>''</li>\n",
       "\t<li>''</li>\n",
       "\t<li>''</li>\n",
       "\t<li>''</li>\n",
       "\t<li>'a2'</li>\n",
       "\t<li>'a3'</li>\n",
       "\t<li>''</li>\n",
       "\t<li>''</li>\n",
       "\t<li>''</li>\n",
       "\t<li>''</li>\n",
       "\t<li>''</li>\n",
       "\t<li>''</li>\n",
       "\t<li>''</li>\n",
       "\t<li>''</li>\n",
       "\t<li>''</li>\n",
       "\t<li>''</li>\n",
       "\t<li>''</li>\n",
       "\t<li>'a4,'</li>\n",
       "\t<li>'a5'</li>\n",
       "\t<li>''</li>\n",
       "\t<li>''</li>\n",
       "\t<li>''</li>\n",
       "\t<li>''</li>\n",
       "\t<li>''</li>\n",
       "\t<li>''</li>\n",
       "\t<li>''</li>\n",
       "\t<li>''</li>\n",
       "\t<li>''</li>\n",
       "\t<li>''</li>\n",
       "\t<li>''</li>\n",
       "\t<li>'a6'</li>\n",
       "\t<li>'a7'</li>\n",
       "\t<li>''</li>\n",
       "\t<li>','</li>\n",
       "\t<li>''</li>\n",
       "\t<li>''</li>\n",
       "\t<li>''</li>\n",
       "\t<li>''</li>\n",
       "\t<li>''</li>\n",
       "\t<li>''</li>\n",
       "\t<li>''</li>\n",
       "\t<li>''</li>\n",
       "\t<li>''</li>\n",
       "\t<li>''</li>\n",
       "\t<li>''</li>\n",
       "\t<li>'a8'</li>\n",
       "\t<li>''</li>\n",
       "</ol>\n",
       "</li>\n",
       "</ol>\n"
      ],
      "text/latex": [
       "\\begin{enumerate}\n",
       "\\item \\begin{enumerate*}\n",
       "\\item 'a1'\n",
       "\\item ''\n",
       "\\item ''\n",
       "\\item ''\n",
       "\\item ''\n",
       "\\item ''\n",
       "\\item ''\n",
       "\\item ''\n",
       "\\item ''\n",
       "\\item ''\n",
       "\\item ''\n",
       "\\item ''\n",
       "\\item 'a2'\n",
       "\\item 'a3'\n",
       "\\item ''\n",
       "\\item ''\n",
       "\\item ''\n",
       "\\item ''\n",
       "\\item ''\n",
       "\\item ''\n",
       "\\item ''\n",
       "\\item ''\n",
       "\\item ''\n",
       "\\item ''\n",
       "\\item ''\n",
       "\\item 'a4,'\n",
       "\\item 'a5'\n",
       "\\item ''\n",
       "\\item ''\n",
       "\\item ''\n",
       "\\item ''\n",
       "\\item ''\n",
       "\\item ''\n",
       "\\item ''\n",
       "\\item ''\n",
       "\\item ''\n",
       "\\item ''\n",
       "\\item ''\n",
       "\\item 'a6'\n",
       "\\item 'a7'\n",
       "\\item ''\n",
       "\\item ','\n",
       "\\item ''\n",
       "\\item ''\n",
       "\\item ''\n",
       "\\item ''\n",
       "\\item ''\n",
       "\\item ''\n",
       "\\item ''\n",
       "\\item ''\n",
       "\\item ''\n",
       "\\item ''\n",
       "\\item ''\n",
       "\\item 'a8'\n",
       "\\item ''\n",
       "\\end{enumerate*}\n",
       "\n",
       "\\end{enumerate}\n"
      ],
      "text/markdown": [
       "1. 1. 'a1'\n",
       "2. ''\n",
       "3. ''\n",
       "4. ''\n",
       "5. ''\n",
       "6. ''\n",
       "7. ''\n",
       "8. ''\n",
       "9. ''\n",
       "10. ''\n",
       "11. ''\n",
       "12. ''\n",
       "13. 'a2'\n",
       "14. 'a3'\n",
       "15. ''\n",
       "16. ''\n",
       "17. ''\n",
       "18. ''\n",
       "19. ''\n",
       "20. ''\n",
       "21. ''\n",
       "22. ''\n",
       "23. ''\n",
       "24. ''\n",
       "25. ''\n",
       "26. 'a4,'\n",
       "27. 'a5'\n",
       "28. ''\n",
       "29. ''\n",
       "30. ''\n",
       "31. ''\n",
       "32. ''\n",
       "33. ''\n",
       "34. ''\n",
       "35. ''\n",
       "36. ''\n",
       "37. ''\n",
       "38. ''\n",
       "39. 'a6'\n",
       "40. 'a7'\n",
       "41. ''\n",
       "42. ','\n",
       "43. ''\n",
       "44. ''\n",
       "45. ''\n",
       "46. ''\n",
       "47. ''\n",
       "48. ''\n",
       "49. ''\n",
       "50. ''\n",
       "51. ''\n",
       "52. ''\n",
       "53. ''\n",
       "54. 'a8'\n",
       "55. ''\n",
       "\n",
       "\n",
       "\n",
       "\n",
       "\n"
      ],
      "text/plain": [
       "[[1]]\n",
       " [1] \"a1\"  \"\"    \"\"    \"\"    \"\"    \"\"    \"\"    \"\"    \"\"    \"\"    \"\"    \"\"   \n",
       "[13] \"a2\"  \"a3\"  \"\"    \"\"    \"\"    \"\"    \"\"    \"\"    \"\"    \"\"    \"\"    \"\"   \n",
       "[25] \"\"    \"a4,\" \"a5\"  \"\"    \"\"    \"\"    \"\"    \"\"    \"\"    \"\"    \"\"    \"\"   \n",
       "[37] \"\"    \"\"    \"a6\"  \"a7\"  \"\"    \",\"   \"\"    \"\"    \"\"    \"\"    \"\"    \"\"   \n",
       "[49] \"\"    \"\"    \"\"    \"\"    \"\"    \"a8\"  \"\"   \n"
      ]
     },
     "metadata": {},
     "output_type": "display_data"
    },
    {
     "data": {
      "text/html": [
       "<ol class=list-inline>\n",
       "\t<li>'a1'</li>\n",
       "\t<li>''</li>\n",
       "\t<li>''</li>\n",
       "\t<li>''</li>\n",
       "\t<li>''</li>\n",
       "\t<li>''</li>\n",
       "\t<li>''</li>\n",
       "\t<li>''</li>\n",
       "\t<li>''</li>\n",
       "\t<li>''</li>\n",
       "\t<li>''</li>\n",
       "\t<li>''</li>\n",
       "\t<li>'a2'</li>\n",
       "\t<li>'a3'</li>\n",
       "\t<li>''</li>\n",
       "\t<li>''</li>\n",
       "\t<li>''</li>\n",
       "\t<li>''</li>\n",
       "\t<li>''</li>\n",
       "\t<li>''</li>\n",
       "\t<li>''</li>\n",
       "\t<li>''</li>\n",
       "\t<li>''</li>\n",
       "\t<li>''</li>\n",
       "\t<li>''</li>\n",
       "\t<li>'a4,'</li>\n",
       "\t<li>'a5'</li>\n",
       "\t<li>''</li>\n",
       "\t<li>''</li>\n",
       "\t<li>''</li>\n",
       "\t<li>''</li>\n",
       "\t<li>''</li>\n",
       "\t<li>''</li>\n",
       "\t<li>''</li>\n",
       "\t<li>''</li>\n",
       "\t<li>''</li>\n",
       "\t<li>''</li>\n",
       "\t<li>''</li>\n",
       "\t<li>'a6'</li>\n",
       "\t<li>'a7'</li>\n",
       "\t<li>''</li>\n",
       "\t<li>','</li>\n",
       "\t<li>''</li>\n",
       "\t<li>''</li>\n",
       "\t<li>''</li>\n",
       "\t<li>''</li>\n",
       "\t<li>''</li>\n",
       "\t<li>''</li>\n",
       "\t<li>''</li>\n",
       "\t<li>''</li>\n",
       "\t<li>''</li>\n",
       "\t<li>''</li>\n",
       "\t<li>''</li>\n",
       "\t<li>'a8'</li>\n",
       "\t<li>''</li>\n",
       "</ol>\n"
      ],
      "text/latex": [
       "\\begin{enumerate*}\n",
       "\\item 'a1'\n",
       "\\item ''\n",
       "\\item ''\n",
       "\\item ''\n",
       "\\item ''\n",
       "\\item ''\n",
       "\\item ''\n",
       "\\item ''\n",
       "\\item ''\n",
       "\\item ''\n",
       "\\item ''\n",
       "\\item ''\n",
       "\\item 'a2'\n",
       "\\item 'a3'\n",
       "\\item ''\n",
       "\\item ''\n",
       "\\item ''\n",
       "\\item ''\n",
       "\\item ''\n",
       "\\item ''\n",
       "\\item ''\n",
       "\\item ''\n",
       "\\item ''\n",
       "\\item ''\n",
       "\\item ''\n",
       "\\item 'a4,'\n",
       "\\item 'a5'\n",
       "\\item ''\n",
       "\\item ''\n",
       "\\item ''\n",
       "\\item ''\n",
       "\\item ''\n",
       "\\item ''\n",
       "\\item ''\n",
       "\\item ''\n",
       "\\item ''\n",
       "\\item ''\n",
       "\\item ''\n",
       "\\item 'a6'\n",
       "\\item 'a7'\n",
       "\\item ''\n",
       "\\item ','\n",
       "\\item ''\n",
       "\\item ''\n",
       "\\item ''\n",
       "\\item ''\n",
       "\\item ''\n",
       "\\item ''\n",
       "\\item ''\n",
       "\\item ''\n",
       "\\item ''\n",
       "\\item ''\n",
       "\\item ''\n",
       "\\item 'a8'\n",
       "\\item ''\n",
       "\\end{enumerate*}\n"
      ],
      "text/markdown": [
       "1. 'a1'\n",
       "2. ''\n",
       "3. ''\n",
       "4. ''\n",
       "5. ''\n",
       "6. ''\n",
       "7. ''\n",
       "8. ''\n",
       "9. ''\n",
       "10. ''\n",
       "11. ''\n",
       "12. ''\n",
       "13. 'a2'\n",
       "14. 'a3'\n",
       "15. ''\n",
       "16. ''\n",
       "17. ''\n",
       "18. ''\n",
       "19. ''\n",
       "20. ''\n",
       "21. ''\n",
       "22. ''\n",
       "23. ''\n",
       "24. ''\n",
       "25. ''\n",
       "26. 'a4,'\n",
       "27. 'a5'\n",
       "28. ''\n",
       "29. ''\n",
       "30. ''\n",
       "31. ''\n",
       "32. ''\n",
       "33. ''\n",
       "34. ''\n",
       "35. ''\n",
       "36. ''\n",
       "37. ''\n",
       "38. ''\n",
       "39. 'a6'\n",
       "40. 'a7'\n",
       "41. ''\n",
       "42. ','\n",
       "43. ''\n",
       "44. ''\n",
       "45. ''\n",
       "46. ''\n",
       "47. ''\n",
       "48. ''\n",
       "49. ''\n",
       "50. ''\n",
       "51. ''\n",
       "52. ''\n",
       "53. ''\n",
       "54. 'a8'\n",
       "55. ''\n",
       "\n",
       "\n"
      ],
      "text/plain": [
       " [1] \"a1\"  \"\"    \"\"    \"\"    \"\"    \"\"    \"\"    \"\"    \"\"    \"\"    \"\"    \"\"   \n",
       "[13] \"a2\"  \"a3\"  \"\"    \"\"    \"\"    \"\"    \"\"    \"\"    \"\"    \"\"    \"\"    \"\"   \n",
       "[25] \"\"    \"a4,\" \"a5\"  \"\"    \"\"    \"\"    \"\"    \"\"    \"\"    \"\"    \"\"    \"\"   \n",
       "[37] \"\"    \"\"    \"a6\"  \"a7\"  \"\"    \",\"   \"\"    \"\"    \"\"    \"\"    \"\"    \"\"   \n",
       "[49] \"\"    \"\"    \"\"    \"\"    \"\"    \"a8\"  \"\"   "
      ]
     },
     "metadata": {},
     "output_type": "display_data"
    },
    {
     "data": {
      "text/html": [
       "'character'"
      ],
      "text/latex": [
       "'character'"
      ],
      "text/markdown": [
       "'character'"
      ],
      "text/plain": [
       "[1] \"character\""
      ]
     },
     "metadata": {},
     "output_type": "display_data"
    }
   ],
   "source": [
    "# split new line\n",
    "string1 <- strsplit(string, '\\\\s')\n",
    "class(string1)\n",
    "string1\n",
    "string1[[1]]\n",
    "class(string1[[1]])"
   ]
  },
  {
   "cell_type": "code",
   "execution_count": 9,
   "id": "3cb0d300",
   "metadata": {},
   "outputs": [
    {
     "data": {
      "text/html": [
       "<ol class=list-inline>\n",
       "\t<li>'a1'</li>\n",
       "\t<li>'a2'</li>\n",
       "\t<li>'a3'</li>\n",
       "\t<li>'a4,'</li>\n",
       "\t<li>'a5'</li>\n",
       "\t<li>'a6'</li>\n",
       "\t<li>'a7'</li>\n",
       "\t<li>','</li>\n",
       "\t<li>'a8'</li>\n",
       "</ol>\n"
      ],
      "text/latex": [
       "\\begin{enumerate*}\n",
       "\\item 'a1'\n",
       "\\item 'a2'\n",
       "\\item 'a3'\n",
       "\\item 'a4,'\n",
       "\\item 'a5'\n",
       "\\item 'a6'\n",
       "\\item 'a7'\n",
       "\\item ','\n",
       "\\item 'a8'\n",
       "\\end{enumerate*}\n"
      ],
      "text/markdown": [
       "1. 'a1'\n",
       "2. 'a2'\n",
       "3. 'a3'\n",
       "4. 'a4,'\n",
       "5. 'a5'\n",
       "6. 'a6'\n",
       "7. 'a7'\n",
       "8. ','\n",
       "9. 'a8'\n",
       "\n",
       "\n"
      ],
      "text/plain": [
       "[1] \"a1\"  \"a2\"  \"a3\"  \"a4,\" \"a5\"  \"a6\"  \"a7\"  \",\"   \"a8\" "
      ]
     },
     "metadata": {},
     "output_type": "display_data"
    }
   ],
   "source": [
    "# remove empty string and NA\n",
    "string2 = stri_remove_empty(string1[[1]])\n",
    "string2"
   ]
  },
  {
   "cell_type": "code",
   "execution_count": 10,
   "id": "8db5b177",
   "metadata": {},
   "outputs": [
    {
     "data": {
      "text/html": [
       "<ol class=list-inline>\n",
       "\t<li>'a1'</li>\n",
       "\t<li>'a2'</li>\n",
       "\t<li>'a3'</li>\n",
       "\t<li>'a4,'</li>\n",
       "\t<li>'a5'</li>\n",
       "\t<li>'a6'</li>\n",
       "\t<li>'a7'</li>\n",
       "\t<li>'a8'</li>\n",
       "</ol>\n"
      ],
      "text/latex": [
       "\\begin{enumerate*}\n",
       "\\item 'a1'\n",
       "\\item 'a2'\n",
       "\\item 'a3'\n",
       "\\item 'a4,'\n",
       "\\item 'a5'\n",
       "\\item 'a6'\n",
       "\\item 'a7'\n",
       "\\item 'a8'\n",
       "\\end{enumerate*}\n"
      ],
      "text/markdown": [
       "1. 'a1'\n",
       "2. 'a2'\n",
       "3. 'a3'\n",
       "4. 'a4,'\n",
       "5. 'a5'\n",
       "6. 'a6'\n",
       "7. 'a7'\n",
       "8. 'a8'\n",
       "\n",
       "\n"
      ],
      "text/plain": [
       "[1] \"a1\"  \"a2\"  \"a3\"  \"a4,\" \"a5\"  \"a6\"  \"a7\"  \"a8\" "
      ]
     },
     "metadata": {},
     "output_type": "display_data"
    }
   ],
   "source": [
    "string3 <- string2[! string2 %in% c(',', '.')]\n",
    "string3"
   ]
  },
  {
   "cell_type": "code",
   "execution_count": 11,
   "id": "697ddb1a",
   "metadata": {},
   "outputs": [
    {
     "data": {
      "text/html": [
       "<ol class=list-inline>\n",
       "\t<li>'a1'</li>\n",
       "\t<li>'a2'</li>\n",
       "\t<li>'a3'</li>\n",
       "\t<li>'a4'</li>\n",
       "\t<li>'a5'</li>\n",
       "\t<li>'a6'</li>\n",
       "\t<li>'a7'</li>\n",
       "\t<li>'a8'</li>\n",
       "</ol>\n"
      ],
      "text/latex": [
       "\\begin{enumerate*}\n",
       "\\item 'a1'\n",
       "\\item 'a2'\n",
       "\\item 'a3'\n",
       "\\item 'a4'\n",
       "\\item 'a5'\n",
       "\\item 'a6'\n",
       "\\item 'a7'\n",
       "\\item 'a8'\n",
       "\\end{enumerate*}\n"
      ],
      "text/markdown": [
       "1. 'a1'\n",
       "2. 'a2'\n",
       "3. 'a3'\n",
       "4. 'a4'\n",
       "5. 'a5'\n",
       "6. 'a6'\n",
       "7. 'a7'\n",
       "8. 'a8'\n",
       "\n",
       "\n"
      ],
      "text/plain": [
       "[1] \"a1\" \"a2\" \"a3\" \"a4\" \"a5\" \"a6\" \"a7\" \"a8\""
      ]
     },
     "metadata": {},
     "output_type": "display_data"
    }
   ],
   "source": [
    "string4 <- gsub(\",$\", '', string3)\n",
    "string4"
   ]
  },
  {
   "cell_type": "markdown",
   "id": "a53991f5",
   "metadata": {},
   "source": [
    "### Trim white space of leading and trailing"
   ]
  },
  {
   "cell_type": "code",
   "execution_count": 12,
   "id": "0af27a0d",
   "metadata": {},
   "outputs": [
    {
     "data": {
      "text/html": [
       "<span style=white-space:pre-wrap>'  Some text.   '</span>"
      ],
      "text/latex": [
       "'  Some text.   '"
      ],
      "text/markdown": [
       "<span style=white-space:pre-wrap>'  Some text.   '</span>"
      ],
      "text/plain": [
       "[1] \"  Some text.   \""
      ]
     },
     "metadata": {},
     "output_type": "display_data"
    },
    {
     "data": {
      "text/html": [
       "'Some text.'"
      ],
      "text/latex": [
       "'Some text.'"
      ],
      "text/markdown": [
       "'Some text.'"
      ],
      "text/plain": [
       "[1] \"Some text.\""
      ]
     },
     "metadata": {},
     "output_type": "display_data"
    },
    {
     "data": {
      "text/html": [
       "<span style=white-space:pre-wrap>'Some text.   '</span>"
      ],
      "text/latex": [
       "'Some text.   '"
      ],
      "text/markdown": [
       "<span style=white-space:pre-wrap>'Some text.   '</span>"
      ],
      "text/plain": [
       "[1] \"Some text.   \""
      ]
     },
     "metadata": {},
     "output_type": "display_data"
    },
    {
     "data": {
      "text/html": [
       "<span style=white-space:pre-wrap>'  Some text.'</span>"
      ],
      "text/latex": [
       "'  Some text.'"
      ],
      "text/markdown": [
       "<span style=white-space:pre-wrap>'  Some text.'</span>"
      ],
      "text/plain": [
       "[1] \"  Some text.\""
      ]
     },
     "metadata": {},
     "output_type": "display_data"
    }
   ],
   "source": [
    "x <- \"  Some text.   \"\n",
    "x\n",
    "trimws(x)\n",
    "trimws(x, \"l\")\n",
    "trimws(x, \"r\")"
   ]
  },
  {
   "cell_type": "markdown",
   "id": "b63b46f0",
   "metadata": {},
   "source": [
    "### Remove matched patterns in a string"
   ]
  },
  {
   "cell_type": "code",
   "execution_count": 13,
   "id": "03bdefd1",
   "metadata": {},
   "outputs": [
    {
     "data": {
      "text/html": [
       "<ol class=list-inline>\n",
       "\t<li>'ne apple'</li>\n",
       "\t<li>'tw pears'</li>\n",
       "\t<li>'thre bananas'</li>\n",
       "</ol>\n"
      ],
      "text/latex": [
       "\\begin{enumerate*}\n",
       "\\item 'ne apple'\n",
       "\\item 'tw pears'\n",
       "\\item 'thre bananas'\n",
       "\\end{enumerate*}\n"
      ],
      "text/markdown": [
       "1. 'ne apple'\n",
       "2. 'tw pears'\n",
       "3. 'thre bananas'\n",
       "\n",
       "\n"
      ],
      "text/plain": [
       "[1] \"ne apple\"     \"tw pears\"     \"thre bananas\""
      ]
     },
     "metadata": {},
     "output_type": "display_data"
    }
   ],
   "source": [
    "fruits <- c(\"one apple\", \"two pears\", \"three bananas\")\n",
    "str_remove(string = fruits, pattern = \"[aeiou]\")  # str_remove is a function from stringr"
   ]
  },
  {
   "cell_type": "markdown",
   "id": "e1238738",
   "metadata": {},
   "source": [
    "### stri_remove_empty"
   ]
  },
  {
   "cell_type": "code",
   "execution_count": 14,
   "id": "50c4b6ad",
   "metadata": {},
   "outputs": [
    {
     "data": {
      "text/html": [
       "<ol class=list-inline>\n",
       "\t<li>'a'</li>\n",
       "\t<li>'b'</li>\n",
       "</ol>\n"
      ],
      "text/latex": [
       "\\begin{enumerate*}\n",
       "\\item 'a'\n",
       "\\item 'b'\n",
       "\\end{enumerate*}\n"
      ],
      "text/markdown": [
       "1. 'a'\n",
       "2. 'b'\n",
       "\n",
       "\n"
      ],
      "text/plain": [
       "[1] \"a\" \"b\""
      ]
     },
     "metadata": {},
     "output_type": "display_data"
    },
    {
     "data": {
      "text/html": [
       "<ol class=list-inline>\n",
       "\t<li>'a'</li>\n",
       "\t<li>NA</li>\n",
       "\t<li>'b'</li>\n",
       "</ol>\n"
      ],
      "text/latex": [
       "\\begin{enumerate*}\n",
       "\\item 'a'\n",
       "\\item NA\n",
       "\\item 'b'\n",
       "\\end{enumerate*}\n"
      ],
      "text/markdown": [
       "1. 'a'\n",
       "2. NA\n",
       "3. 'b'\n",
       "\n",
       "\n"
      ],
      "text/plain": [
       "[1] \"a\" NA  \"b\""
      ]
     },
     "metadata": {},
     "output_type": "display_data"
    },
    {
     "data": {
      "text/html": [
       "<ol class=list-inline>\n",
       "\t<li>'a'</li>\n",
       "\t<li>'b'</li>\n",
       "</ol>\n"
      ],
      "text/latex": [
       "\\begin{enumerate*}\n",
       "\\item 'a'\n",
       "\\item 'b'\n",
       "\\end{enumerate*}\n"
      ],
      "text/markdown": [
       "1. 'a'\n",
       "2. 'b'\n",
       "\n",
       "\n"
      ],
      "text/plain": [
       "[1] \"a\" \"b\""
      ]
     },
     "metadata": {},
     "output_type": "display_data"
    },
    {
     "data": {
      "text/html": [
       "<ol class=list-inline>\n",
       "\t<li>'a'</li>\n",
       "\t<li>'b'</li>\n",
       "</ol>\n"
      ],
      "text/latex": [
       "\\begin{enumerate*}\n",
       "\\item 'a'\n",
       "\\item 'b'\n",
       "\\end{enumerate*}\n"
      ],
      "text/markdown": [
       "1. 'a'\n",
       "2. 'b'\n",
       "\n",
       "\n"
      ],
      "text/plain": [
       "[1] \"a\" \"b\""
      ]
     },
     "metadata": {},
     "output_type": "display_data"
    }
   ],
   "source": [
    "stri_remove_empty(stri_na2empty(c('a', NA, '', 'b')))\n",
    "stri_remove_empty(c('a', NA, '', 'b'))\n",
    "stri_remove_empty(c('a', NA, '', 'b'), TRUE)\n",
    "\n",
    "stri_omit_empty_na(c('a', NA, '', 'b'))"
   ]
  },
  {
   "cell_type": "markdown",
   "id": "aa071c62",
   "metadata": {},
   "source": [
    "### strsplit with regex"
   ]
  },
  {
   "cell_type": "code",
   "execution_count": 15,
   "id": "d8e7d30a",
   "metadata": {},
   "outputs": [
    {
     "data": {
      "text/html": [
       "<span style=white-space:pre-wrap>'sxdcsdfsd, sdwsd, sererer, ererr    gfhghgh  ttt'</span>"
      ],
      "text/latex": [
       "'sxdcsdfsd, sdwsd, sererer, ererr    gfhghgh  ttt'"
      ],
      "text/markdown": [
       "<span style=white-space:pre-wrap>'sxdcsdfsd, sdwsd, sererer, ererr    gfhghgh  ttt'</span>"
      ],
      "text/plain": [
       "[1] \"sxdcsdfsd, sdwsd, sererer, ererr    gfhghgh  ttt\""
      ]
     },
     "metadata": {},
     "output_type": "display_data"
    }
   ],
   "source": [
    "ll = \"sxdcsdfsd, sdwsd, sererer, ererr    gfhghgh  ttt\"\n",
    "ll"
   ]
  },
  {
   "cell_type": "code",
   "execution_count": 16,
   "id": "a0271248",
   "metadata": {},
   "outputs": [
    {
     "data": {
      "text/html": [
       "<ol>\n",
       "\t<li><ol class=list-inline>\n",
       "\t<li>'sxdcsdfsd'</li>\n",
       "\t<li>' sdwsd'</li>\n",
       "\t<li>' sererer'</li>\n",
       "\t<li><span style=white-space:pre-wrap>' ererr    gfhghgh  ttt'</span></li>\n",
       "</ol>\n",
       "</li>\n",
       "</ol>\n"
      ],
      "text/latex": [
       "\\begin{enumerate}\n",
       "\\item \\begin{enumerate*}\n",
       "\\item 'sxdcsdfsd'\n",
       "\\item ' sdwsd'\n",
       "\\item ' sererer'\n",
       "\\item ' ererr    gfhghgh  ttt'\n",
       "\\end{enumerate*}\n",
       "\n",
       "\\end{enumerate}\n"
      ],
      "text/markdown": [
       "1. 1. 'sxdcsdfsd'\n",
       "2. ' sdwsd'\n",
       "3. ' sererer'\n",
       "4. <span style=white-space:pre-wrap>' ererr    gfhghgh  ttt'</span>\n",
       "\n",
       "\n",
       "\n",
       "\n",
       "\n"
      ],
      "text/plain": [
       "[[1]]\n",
       "[1] \"sxdcsdfsd\"              \" sdwsd\"                 \" sererer\"              \n",
       "[4] \" ererr    gfhghgh  ttt\"\n"
      ]
     },
     "metadata": {},
     "output_type": "display_data"
    }
   ],
   "source": [
    "vv = strsplit(ll, \",\")\n",
    "vv"
   ]
  },
  {
   "cell_type": "code",
   "execution_count": 17,
   "id": "31ea6d64",
   "metadata": {},
   "outputs": [
    {
     "data": {
      "text/html": [
       "'list'"
      ],
      "text/latex": [
       "'list'"
      ],
      "text/markdown": [
       "'list'"
      ],
      "text/plain": [
       "[1] \"list\""
      ]
     },
     "metadata": {},
     "output_type": "display_data"
    }
   ],
   "source": [
    "class(vv)"
   ]
  },
  {
   "cell_type": "code",
   "execution_count": 18,
   "id": "627256c9",
   "metadata": {},
   "outputs": [
    {
     "data": {
      "text/html": [
       "<ol>\n",
       "\t<li><ol class=list-inline>\n",
       "\t<li>'sxdcsdfsd'</li>\n",
       "\t<li>'sdwsd'</li>\n",
       "\t<li>'sererer'</li>\n",
       "\t<li>'ererr'</li>\n",
       "\t<li>'gfhghgh'</li>\n",
       "\t<li>'ttt'</li>\n",
       "</ol>\n",
       "</li>\n",
       "</ol>\n"
      ],
      "text/latex": [
       "\\begin{enumerate}\n",
       "\\item \\begin{enumerate*}\n",
       "\\item 'sxdcsdfsd'\n",
       "\\item 'sdwsd'\n",
       "\\item 'sererer'\n",
       "\\item 'ererr'\n",
       "\\item 'gfhghgh'\n",
       "\\item 'ttt'\n",
       "\\end{enumerate*}\n",
       "\n",
       "\\end{enumerate}\n"
      ],
      "text/markdown": [
       "1. 1. 'sxdcsdfsd'\n",
       "2. 'sdwsd'\n",
       "3. 'sererer'\n",
       "4. 'ererr'\n",
       "5. 'gfhghgh'\n",
       "6. 'ttt'\n",
       "\n",
       "\n",
       "\n",
       "\n",
       "\n"
      ],
      "text/plain": [
       "[[1]]\n",
       "[1] \"sxdcsdfsd\" \"sdwsd\"     \"sererer\"   \"ererr\"     \"gfhghgh\"   \"ttt\"      \n"
      ]
     },
     "metadata": {},
     "output_type": "display_data"
    }
   ],
   "source": [
    "vv = strsplit(ll, \"[, ]+\")\n",
    "vv"
   ]
  },
  {
   "cell_type": "code",
   "execution_count": 19,
   "id": "ed7ecd6b",
   "metadata": {},
   "outputs": [
    {
     "data": {
      "text/html": [
       "'list'"
      ],
      "text/latex": [
       "'list'"
      ],
      "text/markdown": [
       "'list'"
      ],
      "text/plain": [
       "[1] \"list\""
      ]
     },
     "metadata": {},
     "output_type": "display_data"
    }
   ],
   "source": [
    "class(vv)"
   ]
  },
  {
   "cell_type": "code",
   "execution_count": 20,
   "id": "3e85e033",
   "metadata": {},
   "outputs": [
    {
     "data": {
      "text/html": [
       "<ol class=list-inline>\n",
       "\t<li>'sxdcsdfsd'</li>\n",
       "\t<li>'sdwsd'</li>\n",
       "\t<li>'sererer'</li>\n",
       "\t<li>'ererr'</li>\n",
       "\t<li>'gfhghgh'</li>\n",
       "\t<li>'ttt'</li>\n",
       "</ol>\n"
      ],
      "text/latex": [
       "\\begin{enumerate*}\n",
       "\\item 'sxdcsdfsd'\n",
       "\\item 'sdwsd'\n",
       "\\item 'sererer'\n",
       "\\item 'ererr'\n",
       "\\item 'gfhghgh'\n",
       "\\item 'ttt'\n",
       "\\end{enumerate*}\n"
      ],
      "text/markdown": [
       "1. 'sxdcsdfsd'\n",
       "2. 'sdwsd'\n",
       "3. 'sererer'\n",
       "4. 'ererr'\n",
       "5. 'gfhghgh'\n",
       "6. 'ttt'\n",
       "\n",
       "\n"
      ],
      "text/plain": [
       "[1] \"sxdcsdfsd\" \"sdwsd\"     \"sererer\"   \"ererr\"     \"gfhghgh\"   \"ttt\"      "
      ]
     },
     "metadata": {},
     "output_type": "display_data"
    }
   ],
   "source": [
    "vv <- c(unlist(vv))\n",
    "vv"
   ]
  },
  {
   "cell_type": "code",
   "execution_count": 21,
   "id": "49d8d0ed",
   "metadata": {},
   "outputs": [
    {
     "data": {
      "text/html": [
       "'character'"
      ],
      "text/latex": [
       "'character'"
      ],
      "text/markdown": [
       "'character'"
      ],
      "text/plain": [
       "[1] \"character\""
      ]
     },
     "metadata": {},
     "output_type": "display_data"
    }
   ],
   "source": [
    "class(vv)"
   ]
  },
  {
   "cell_type": "markdown",
   "id": "f9e92f82",
   "metadata": {},
   "source": [
    "### get unique value of a vector"
   ]
  },
  {
   "cell_type": "code",
   "execution_count": 22,
   "id": "0f1a5ebc",
   "metadata": {},
   "outputs": [
    {
     "data": {
      "text/html": [
       "'CPI515, CPI515 CPI515, GEM108'"
      ],
      "text/latex": [
       "'CPI515, CPI515 CPI515, GEM108'"
      ],
      "text/markdown": [
       "'CPI515, CPI515 CPI515, GEM108'"
      ],
      "text/plain": [
       "[1] \"CPI515, CPI515 CPI515, GEM108\""
      ]
     },
     "metadata": {},
     "output_type": "display_data"
    }
   ],
   "source": [
    "text = \"CPI515, CPI515 CPI515, GEM108\"\n",
    "text"
   ]
  },
  {
   "cell_type": "code",
   "execution_count": 23,
   "id": "6af85c95",
   "metadata": {},
   "outputs": [
    {
     "data": {
      "text/html": [
       "<ol class=list-inline>\n",
       "\t<li>'CPI515'</li>\n",
       "\t<li>'CPI515'</li>\n",
       "\t<li>'CPI515'</li>\n",
       "\t<li>'GEM108'</li>\n",
       "</ol>\n"
      ],
      "text/latex": [
       "\\begin{enumerate*}\n",
       "\\item 'CPI515'\n",
       "\\item 'CPI515'\n",
       "\\item 'CPI515'\n",
       "\\item 'GEM108'\n",
       "\\end{enumerate*}\n"
      ],
      "text/markdown": [
       "1. 'CPI515'\n",
       "2. 'CPI515'\n",
       "3. 'CPI515'\n",
       "4. 'GEM108'\n",
       "\n",
       "\n"
      ],
      "text/plain": [
       "[1] \"CPI515\" \"CPI515\" \"CPI515\" \"GEM108\""
      ]
     },
     "metadata": {},
     "output_type": "display_data"
    }
   ],
   "source": [
    "vec <- strsplit(text, \"[, ]+\")  # here vec is a list\n",
    "vec <- unlist(vec)              # here vec is character. class(vec)\n",
    "vec"
   ]
  },
  {
   "cell_type": "code",
   "execution_count": 24,
   "id": "dd339fba",
   "metadata": {},
   "outputs": [
    {
     "data": {
      "text/html": [
       "<ol class=list-inline>\n",
       "\t<li>'CPI515'</li>\n",
       "\t<li>'GEM108'</li>\n",
       "</ol>\n"
      ],
      "text/latex": [
       "\\begin{enumerate*}\n",
       "\\item 'CPI515'\n",
       "\\item 'GEM108'\n",
       "\\end{enumerate*}\n"
      ],
      "text/markdown": [
       "1. 'CPI515'\n",
       "2. 'GEM108'\n",
       "\n",
       "\n"
      ],
      "text/plain": [
       "[1] \"CPI515\" \"GEM108\""
      ]
     },
     "metadata": {},
     "output_type": "display_data"
    },
    {
     "data": {
      "text/html": [
       "'character'"
      ],
      "text/latex": [
       "'character'"
      ],
      "text/markdown": [
       "'character'"
      ],
      "text/plain": [
       "[1] \"character\""
      ]
     },
     "metadata": {},
     "output_type": "display_data"
    }
   ],
   "source": [
    "vec <- unique(vec)\n",
    "vec\n",
    "class(vec)"
   ]
  },
  {
   "cell_type": "markdown",
   "id": "c54e9f42",
   "metadata": {},
   "source": [
    "### paste0() and paste()"
   ]
  },
  {
   "cell_type": "markdown",
   "id": "99cbe37a",
   "metadata": {},
   "source": [
    "#### paste0()"
   ]
  },
  {
   "cell_type": "code",
   "execution_count": 25,
   "id": "12b13274",
   "metadata": {},
   "outputs": [
    {
     "data": {
      "text/html": [
       "'#comment_title{color: red; font-size: 20px; font-family:Arial; font-weight:bold;}'"
      ],
      "text/latex": [
       "'\\#comment\\_title\\{color: red; font-size: 20px; font-family:Arial; font-weight:bold;\\}'"
      ],
      "text/markdown": [
       "'#comment_title{color: red; font-size: 20px; font-family:Arial; font-weight:bold;}'"
      ],
      "text/plain": [
       "[1] \"#comment_title{color: red; font-size: 20px; font-family:Arial; font-weight:bold;}\""
      ]
     },
     "metadata": {},
     "output_type": "display_data"
    }
   ],
   "source": [
    "string_0 = paste0(\"#comment_title\", \"{color: red; font-size: 20px; font-family:Arial; font-weight:bold;}\")\n",
    "string_0"
   ]
  },
  {
   "cell_type": "markdown",
   "id": "4ce1abea",
   "metadata": {},
   "source": [
    "#### paste()"
   ]
  },
  {
   "cell_type": "code",
   "execution_count": 26,
   "id": "9fc23c0e",
   "metadata": {},
   "outputs": [
    {
     "data": {
      "text/html": [
       "'#comment_title__{color: red; font-size: 20px; font-family:Arial; font-weight:bold;}'"
      ],
      "text/latex": [
       "'\\#comment\\_title\\_\\_\\{color: red; font-size: 20px; font-family:Arial; font-weight:bold;\\}'"
      ],
      "text/markdown": [
       "'#comment_title__{color: red; font-size: 20px; font-family:Arial; font-weight:bold;}'"
      ],
      "text/plain": [
       "[1] \"#comment_title__{color: red; font-size: 20px; font-family:Arial; font-weight:bold;}\""
      ]
     },
     "metadata": {},
     "output_type": "display_data"
    }
   ],
   "source": [
    "string_1 = paste(\"#comment_title\", \"{color: red; font-size: 20px; font-family:Arial; font-weight:bold;}\", sep=\"__\")\n",
    "string_1"
   ]
  },
  {
   "cell_type": "markdown",
   "id": "f3790ee7",
   "metadata": {},
   "source": [
    "### create a string with double quotes for every word"
   ]
  },
  {
   "cell_type": "code",
   "execution_count": 27,
   "id": "d24639cf",
   "metadata": {},
   "outputs": [
    {
     "data": {
      "text/html": [
       "'Monday, Tuesday, Wednesday'"
      ],
      "text/latex": [
       "'Monday, Tuesday, Wednesday'"
      ],
      "text/markdown": [
       "'Monday, Tuesday, Wednesday'"
      ],
      "text/plain": [
       "[1] \"Monday, Tuesday, Wednesday\""
      ]
     },
     "metadata": {},
     "output_type": "display_data"
    }
   ],
   "source": [
    "# change a list of words to a string with commas\n",
    "vec = c('Monday', 'Tuesday', 'Wednesday')\n",
    "words <- paste(vec, collapse = \", \")\n",
    "words"
   ]
  },
  {
   "cell_type": "code",
   "execution_count": 28,
   "id": "56f8c08e",
   "metadata": {},
   "outputs": [
    {
     "data": {
      "text/html": [
       "'\"Monday\", \" Tuesday\", \" Wednesday\"'"
      ],
      "text/latex": [
       "'\"Monday\", \" Tuesday\", \" Wednesday\"'"
      ],
      "text/markdown": [
       "'\"Monday\", \" Tuesday\", \" Wednesday\"'"
      ],
      "text/plain": [
       "[1] \"\\\"Monday\\\", \\\" Tuesday\\\", \\\" Wednesday\\\"\""
      ]
     },
     "metadata": {},
     "output_type": "display_data"
    }
   ],
   "source": [
    "# change a list of words to a string with double quotes and commas\n",
    "vec = c('Monday', 'Tuesday', 'Wednesday')\n",
    "sapply(strsplit(paste(vec, collapse = \", \"), ','), function(x) toString(dQuote(x)))"
   ]
  },
  {
   "cell_type": "code",
   "execution_count": 29,
   "id": "6f04bd66",
   "metadata": {},
   "outputs": [
    {
     "data": {
      "text/html": [
       "'Monday, Tuesday, Wednesday, Thursday,Friday'"
      ],
      "text/latex": [
       "'Monday, Tuesday, Wednesday, Thursday,Friday'"
      ],
      "text/markdown": [
       "'Monday, Tuesday, Wednesday, Thursday,Friday'"
      ],
      "text/plain": [
       "[1] \"Monday, Tuesday, Wednesday, Thursday,Friday\""
      ]
     },
     "metadata": {},
     "output_type": "display_data"
    },
    {
     "data": {
      "text/html": [
       "'\"Monday\", \" Tuesday\", \" Wednesday\", \" Thursday\", \"Friday\"'"
      ],
      "text/latex": [
       "'\"Monday\", \" Tuesday\", \" Wednesday\", \" Thursday\", \"Friday\"'"
      ],
      "text/markdown": [
       "'\"Monday\", \" Tuesday\", \" Wednesday\", \" Thursday\", \"Friday\"'"
      ],
      "text/plain": [
       "[1] \"\\\"Monday\\\", \\\" Tuesday\\\", \\\" Wednesday\\\", \\\" Thursday\\\", \\\"Friday\\\"\""
      ]
     },
     "metadata": {},
     "output_type": "display_data"
    }
   ],
   "source": [
    "# add quotes around each word in a string\n",
    "words<-\"Monday, Tuesday, Wednesday, Thursday,Friday\"\n",
    "words\n",
    "sapply(strsplit(words, ','), function(x) toString(dQuote(x)))"
   ]
  },
  {
   "cell_type": "markdown",
   "id": "6b0b43eb",
   "metadata": {},
   "source": [
    "## Find sub string in a string"
   ]
  },
  {
   "cell_type": "code",
   "execution_count": 30,
   "id": "ffbd0414",
   "metadata": {},
   "outputs": [
    {
     "data": {
      "text/html": [
       "<ol class=list-inline>\n",
       "\t<li>'NK (%LC)'</li>\n",
       "\t<li>'R5 Th2 (%CD4)'</li>\n",
       "\t<li>'R5 Th17 (%CD4)'</li>\n",
       "\t<li>'Th1 (%CD4)'</li>\n",
       "\t<li>'PBs (%B)'</li>\n",
       "</ol>\n"
      ],
      "text/latex": [
       "\\begin{enumerate*}\n",
       "\\item 'NK (\\%LC)'\n",
       "\\item 'R5 Th2 (\\%CD4)'\n",
       "\\item 'R5 Th17 (\\%CD4)'\n",
       "\\item 'Th1 (\\%CD4)'\n",
       "\\item 'PBs (\\%B)'\n",
       "\\end{enumerate*}\n"
      ],
      "text/markdown": [
       "1. 'NK (%LC)'\n",
       "2. 'R5 Th2 (%CD4)'\n",
       "3. 'R5 Th17 (%CD4)'\n",
       "4. 'Th1 (%CD4)'\n",
       "5. 'PBs (%B)'\n",
       "\n",
       "\n"
      ],
      "text/plain": [
       "[1] \"NK (%LC)\"       \"R5 Th2 (%CD4)\"  \"R5 Th17 (%CD4)\" \"Th1 (%CD4)\"    \n",
       "[5] \"PBs (%B)\"      "
      ]
     },
     "metadata": {},
     "output_type": "display_data"
    },
    {
     "data": {
      "text/html": [
       "'character'"
      ],
      "text/latex": [
       "'character'"
      ],
      "text/markdown": [
       "'character'"
      ],
      "text/plain": [
       "[1] \"character\""
      ]
     },
     "metadata": {},
     "output_type": "display_data"
    }
   ],
   "source": [
    "library(stringi)\n",
    "vec = c(\"NK (%LC)\", \"R5 Th2 (%CD4)\", \"R5 Th17 (%CD4)\", \"Th1 (%CD4)\", \"PBs (%B)\" )\n",
    "vec\n",
    "class(vec)"
   ]
  },
  {
   "cell_type": "code",
   "execution_count": 31,
   "id": "097afbee",
   "metadata": {},
   "outputs": [
    {
     "data": {
      "text/html": [
       "TRUE"
      ],
      "text/latex": [
       "TRUE"
      ],
      "text/markdown": [
       "TRUE"
      ],
      "text/plain": [
       "[1] TRUE"
      ]
     },
     "metadata": {},
     "output_type": "display_data"
    }
   ],
   "source": [
    "grepl('CD4', \"R5 Th17 (%CD4)\", fixed = TRUE)"
   ]
  },
  {
   "cell_type": "code",
   "execution_count": 32,
   "id": "9b7ec681",
   "metadata": {},
   "outputs": [
    {
     "data": {
      "text/html": [
       "TRUE"
      ],
      "text/latex": [
       "TRUE"
      ],
      "text/markdown": [
       "TRUE"
      ],
      "text/plain": [
       "[1] TRUE"
      ]
     },
     "metadata": {},
     "output_type": "display_data"
    }
   ],
   "source": [
    "stri_detect_fixed(str = \"R5 Th17 (%CD4)\", pattern = 'CD4')"
   ]
  },
  {
   "cell_type": "code",
   "execution_count": 33,
   "id": "bbad0fa1",
   "metadata": {},
   "outputs": [
    {
     "data": {
      "text/html": [
       "<ol class=list-inline>\n",
       "\t<li>FALSE</li>\n",
       "\t<li>TRUE</li>\n",
       "\t<li>TRUE</li>\n",
       "\t<li>TRUE</li>\n",
       "\t<li>FALSE</li>\n",
       "</ol>\n"
      ],
      "text/latex": [
       "\\begin{enumerate*}\n",
       "\\item FALSE\n",
       "\\item TRUE\n",
       "\\item TRUE\n",
       "\\item TRUE\n",
       "\\item FALSE\n",
       "\\end{enumerate*}\n"
      ],
      "text/markdown": [
       "1. FALSE\n",
       "2. TRUE\n",
       "3. TRUE\n",
       "4. TRUE\n",
       "5. FALSE\n",
       "\n",
       "\n"
      ],
      "text/plain": [
       "[1] FALSE  TRUE  TRUE  TRUE FALSE"
      ]
     },
     "metadata": {},
     "output_type": "display_data"
    }
   ],
   "source": [
    "stri_detect_fixed(str = vec, pattern = 'CD4') # stri_locate_all(pattern = 'CD4', \"R5 Th17 (%CD4)\", fixed = TRUE)"
   ]
  },
  {
   "cell_type": "code",
   "execution_count": 34,
   "id": "5e0b5eff",
   "metadata": {},
   "outputs": [
    {
     "data": {
      "text/html": [
       "<ol class=list-inline>\n",
       "\t<li>TRUE</li>\n",
       "\t<li>TRUE</li>\n",
       "\t<li>FALSE</li>\n",
       "</ol>\n"
      ],
      "text/latex": [
       "\\begin{enumerate*}\n",
       "\\item TRUE\n",
       "\\item TRUE\n",
       "\\item FALSE\n",
       "\\end{enumerate*}\n"
      ],
      "text/markdown": [
       "1. TRUE\n",
       "2. TRUE\n",
       "3. FALSE\n",
       "\n",
       "\n"
      ],
      "text/plain": [
       "[1]  TRUE  TRUE FALSE"
      ]
     },
     "metadata": {},
     "output_type": "display_data"
    }
   ],
   "source": [
    "stri_detect_fixed(c(\"stringi R\", \"REXAMINE\", \"123\"), c('i', 'R', '0'))"
   ]
  },
  {
   "cell_type": "code",
   "execution_count": 35,
   "id": "c4ebe30a",
   "metadata": {},
   "outputs": [
    {
     "name": "stderr",
     "output_type": "stream",
     "text": [
      "Warning message in stri_detect_fixed(c(\"stringi R\", \"REXAMINE\", \"123\"), c(\"i\", \"R\")):\n",
      "\"longer object length is not a multiple of shorter object length\""
     ]
    },
    {
     "data": {
      "text/html": [
       "<ol class=list-inline>\n",
       "\t<li>TRUE</li>\n",
       "\t<li>TRUE</li>\n",
       "\t<li>FALSE</li>\n",
       "</ol>\n"
      ],
      "text/latex": [
       "\\begin{enumerate*}\n",
       "\\item TRUE\n",
       "\\item TRUE\n",
       "\\item FALSE\n",
       "\\end{enumerate*}\n"
      ],
      "text/markdown": [
       "1. TRUE\n",
       "2. TRUE\n",
       "3. FALSE\n",
       "\n",
       "\n"
      ],
      "text/plain": [
       "[1]  TRUE  TRUE FALSE"
      ]
     },
     "metadata": {},
     "output_type": "display_data"
    }
   ],
   "source": [
    "stri_detect_fixed(c(\"stringi R\", \"REXAMINE\", \"123\"), c('i', 'R'))"
   ]
  },
  {
   "cell_type": "code",
   "execution_count": 36,
   "id": "c0f400d4",
   "metadata": {},
   "outputs": [
    {
     "data": {
      "text/html": [
       "<ol class=list-inline>\n",
       "\t<li>'NK (%LC)'</li>\n",
       "\t<li>'R5 Th2 (%CD4)'</li>\n",
       "\t<li>'R5 Th17 (%CD4)'</li>\n",
       "\t<li>'PBs (%B)'</li>\n",
       "\t<li>'Th1 (%CD4)'</li>\n",
       "\t<li>'TEM (% CD8)'</li>\n",
       "</ol>\n"
      ],
      "text/latex": [
       "\\begin{enumerate*}\n",
       "\\item 'NK (\\%LC)'\n",
       "\\item 'R5 Th2 (\\%CD4)'\n",
       "\\item 'R5 Th17 (\\%CD4)'\n",
       "\\item 'PBs (\\%B)'\n",
       "\\item 'Th1 (\\%CD4)'\n",
       "\\item 'TEM (\\% CD8)'\n",
       "\\end{enumerate*}\n"
      ],
      "text/markdown": [
       "1. 'NK (%LC)'\n",
       "2. 'R5 Th2 (%CD4)'\n",
       "3. 'R5 Th17 (%CD4)'\n",
       "4. 'PBs (%B)'\n",
       "5. 'Th1 (%CD4)'\n",
       "6. 'TEM (% CD8)'\n",
       "\n",
       "\n"
      ],
      "text/plain": [
       "[1] \"NK (%LC)\"       \"R5 Th2 (%CD4)\"  \"R5 Th17 (%CD4)\" \"PBs (%B)\"      \n",
       "[5] \"Th1 (%CD4)\"     \"TEM (% CD8)\"   "
      ]
     },
     "metadata": {},
     "output_type": "display_data"
    }
   ],
   "source": [
    "# Step 1\n",
    "vec = c(\"NK (%LC)\", \n",
    "        \"R5 Th2 (%CD4)\", \n",
    "        \"R5 Th17 (%CD4)\",         \n",
    "        \"PBs (%B)\", \n",
    "        \"Th1 (%CD4)\", \n",
    "        \"TEM (% CD8)\")\n",
    "vec"
   ]
  },
  {
   "cell_type": "code",
   "execution_count": 37,
   "id": "c73f98a7",
   "metadata": {},
   "outputs": [
    {
     "data": {
      "text/html": [
       "<ol class=list-inline>\n",
       "\t<li>FALSE</li>\n",
       "\t<li>TRUE</li>\n",
       "\t<li>TRUE</li>\n",
       "\t<li>FALSE</li>\n",
       "\t<li>TRUE</li>\n",
       "\t<li>FALSE</li>\n",
       "</ol>\n"
      ],
      "text/latex": [
       "\\begin{enumerate*}\n",
       "\\item FALSE\n",
       "\\item TRUE\n",
       "\\item TRUE\n",
       "\\item FALSE\n",
       "\\item TRUE\n",
       "\\item FALSE\n",
       "\\end{enumerate*}\n"
      ],
      "text/markdown": [
       "1. FALSE\n",
       "2. TRUE\n",
       "3. TRUE\n",
       "4. FALSE\n",
       "5. TRUE\n",
       "6. FALSE\n",
       "\n",
       "\n"
      ],
      "text/plain": [
       "[1] FALSE  TRUE  TRUE FALSE  TRUE FALSE"
      ]
     },
     "metadata": {},
     "output_type": "display_data"
    }
   ],
   "source": [
    "# Step 2. FInd patter\n",
    "# checks if there is at least one occurrence of a fixed pattern in a string. \n",
    "# ?stri_detect_fixed\n",
    "stri_detect_fixed(str = vec, pattern = 'CD4') "
   ]
  },
  {
   "cell_type": "code",
   "execution_count": 38,
   "id": "3dda85d1",
   "metadata": {},
   "outputs": [
    {
     "data": {
      "text/html": [
       "<ol class=list-inline>\n",
       "\t<li>'R5 Th2 (%CD4)'</li>\n",
       "\t<li>'R5 Th17 (%CD4)'</li>\n",
       "\t<li>'Th1 (%CD4)'</li>\n",
       "</ol>\n"
      ],
      "text/latex": [
       "\\begin{enumerate*}\n",
       "\\item 'R5 Th2 (\\%CD4)'\n",
       "\\item 'R5 Th17 (\\%CD4)'\n",
       "\\item 'Th1 (\\%CD4)'\n",
       "\\end{enumerate*}\n"
      ],
      "text/markdown": [
       "1. 'R5 Th2 (%CD4)'\n",
       "2. 'R5 Th17 (%CD4)'\n",
       "3. 'Th1 (%CD4)'\n",
       "\n",
       "\n"
      ],
      "text/plain": [
       "[1] \"R5 Th2 (%CD4)\"  \"R5 Th17 (%CD4)\" \"Th1 (%CD4)\"    "
      ]
     },
     "metadata": {},
     "output_type": "display_data"
    }
   ],
   "source": [
    "vec_CD4 <- vec[stri_detect_fixed(str = vec, pattern = 'CD4')]\n",
    "vec_CD4"
   ]
  },
  {
   "cell_type": "code",
   "execution_count": 39,
   "id": "5936191c",
   "metadata": {},
   "outputs": [
    {
     "data": {
      "text/html": [
       "<ol class=list-inline>\n",
       "\t<li>'NK (%LC)'</li>\n",
       "\t<li>'PBs (%B)'</li>\n",
       "\t<li>'TEM (% CD8)'</li>\n",
       "</ol>\n"
      ],
      "text/latex": [
       "\\begin{enumerate*}\n",
       "\\item 'NK (\\%LC)'\n",
       "\\item 'PBs (\\%B)'\n",
       "\\item 'TEM (\\% CD8)'\n",
       "\\end{enumerate*}\n"
      ],
      "text/markdown": [
       "1. 'NK (%LC)'\n",
       "2. 'PBs (%B)'\n",
       "3. 'TEM (% CD8)'\n",
       "\n",
       "\n"
      ],
      "text/plain": [
       "[1] \"NK (%LC)\"    \"PBs (%B)\"    \"TEM (% CD8)\""
      ]
     },
     "metadata": {},
     "output_type": "display_data"
    }
   ],
   "source": [
    "non_vec_CD4 <- setdiff(vec, vec_CD4)\n",
    "non_vec_CD4"
   ]
  },
  {
   "cell_type": "code",
   "execution_count": 40,
   "id": "38357805",
   "metadata": {},
   "outputs": [
    {
     "data": {
      "text/html": [
       "<dl>\n",
       "\t<dt>$`T Cell`</dt>\n",
       "\t\t<dd><ol class=list-inline>\n",
       "\t<li>'R5 Th17 (%CD4)'</li>\n",
       "\t<li>'R5 Th2 (%CD4)'</li>\n",
       "\t<li>'TEM (% CD8)'</li>\n",
       "\t<li>'Th1 (%CD4)'</li>\n",
       "</ol>\n",
       "</dd>\n",
       "\t<dt>$Other</dt>\n",
       "\t\t<dd><ol class=list-inline>\n",
       "\t<li>'NK (%LC)'</li>\n",
       "\t<li>'PBs (%B)'</li>\n",
       "</ol>\n",
       "</dd>\n",
       "</dl>\n"
      ],
      "text/latex": [
       "\\begin{description}\n",
       "\\item[\\$`T Cell`] \\begin{enumerate*}\n",
       "\\item 'R5 Th17 (\\%CD4)'\n",
       "\\item 'R5 Th2 (\\%CD4)'\n",
       "\\item 'TEM (\\% CD8)'\n",
       "\\item 'Th1 (\\%CD4)'\n",
       "\\end{enumerate*}\n",
       "\n",
       "\\item[\\$Other] \\begin{enumerate*}\n",
       "\\item 'NK (\\%LC)'\n",
       "\\item 'PBs (\\%B)'\n",
       "\\end{enumerate*}\n",
       "\n",
       "\\end{description}\n"
      ],
      "text/markdown": [
       "$`T Cell`\n",
       ":   1. 'R5 Th17 (%CD4)'\n",
       "2. 'R5 Th2 (%CD4)'\n",
       "3. 'TEM (% CD8)'\n",
       "4. 'Th1 (%CD4)'\n",
       "\n",
       "\n",
       "\n",
       "$Other\n",
       ":   1. 'NK (%LC)'\n",
       "2. 'PBs (%B)'\n",
       "\n",
       "\n",
       "\n",
       "\n",
       "\n"
      ],
      "text/plain": [
       "$`T Cell`\n",
       "[1] \"R5 Th17 (%CD4)\" \"R5 Th2 (%CD4)\"  \"TEM (% CD8)\"    \"Th1 (%CD4)\"    \n",
       "\n",
       "$Other\n",
       "[1] \"NK (%LC)\" \"PBs (%B)\"\n"
      ]
     },
     "metadata": {},
     "output_type": "display_data"
    }
   ],
   "source": [
    "parse_str_vec <- function(pattern, vec){\n",
    "    # To checks if there is at least one occurrence of a fixed pattern in a string. \n",
    "    # Input: \n",
    "    #   pattern: a string pattern\n",
    "    #   vec: an array of strings\n",
    "    # Output:\n",
    "    #   A logical vector\n",
    "    # Usage:\n",
    "    #   vec_logical <- parse_str_vec(pattern = \"CD4\", \n",
    "    #                                vec = c(\"NK (%LC)\", \"R5 Th2 (%CD4)\", \"R5 Th17 (%CD4)\"))\n",
    "    #   Output:  vec_logical is c(FALSE, TRUE, TRUE)\n",
    "    \n",
    "    return (stri_detect_fixed(str = vec, pattern = pattern))\n",
    "}\n",
    "\n",
    "\n",
    "parse_str_vec_with_patterns <- function(patterns, vec, name_group){\n",
    "    # To checks if there is at least one occurrence of a fixed array patterns in a string. \n",
    "    # Input: \n",
    "    #   patterns: an array of string patterns\n",
    "    #   vec: an array of strings\n",
    "    #   name_group: a name to specify the group of patterns \n",
    "    # Output:\n",
    "    #   An R list (Python dict)\n",
    "    # Usage:\n",
    "    #   res <- parse_str_vec_with_patterns(\n",
    "    #             patterns = c(\"CD3\", \"CD4\", \"CD8\"), \n",
    "    #             vec = c(\"NK (%LC)\", \"R5 Th2 (%CD4)\", \"R5 Th17 (%CD4)\",         \n",
    "    #                     \"PBs (%B)\", \"Th1 (%CD4)\", \"TEM (% CD8)\"), \n",
    "    #             name_group=\"T Cell\") \n",
    "    #   Output: res is a list\n",
    "    #           res[[\"T Cell\"]] = c('R5 Th2 (%CD4)', 'R5 Th17 (%CD4)', 'Th1 (%CD4)', 'TEM (% CD8)')\n",
    "    #           res[[\"Other\"]] = c('NK (%LC)', 'PBs (%B)')\n",
    "    \n",
    "    logical_indices <- Reduce(\"|\", lapply(patterns, parse_str_vec, vec))\n",
    "    \n",
    "    vec_matched <- vec[logical_indices]\n",
    "    vec_remained <- setdiff(vec, vec_matched)        \n",
    "    \n",
    "    res <- list()      \n",
    "    \n",
    "    if (length(vec_matched) > 0){ # also can use identical(vec_matched, character(0))\n",
    "        res[[name_group]] <- sort(vec_matched)\n",
    "    } else {\n",
    "        res[[name_group]] <- NA  # meaning \"Not found\"\n",
    "    }    \n",
    "    \n",
    "    \n",
    "    if (length(vec_remained) > 0 ){\n",
    "        res[[\"Other\"]] = sort(vec_remained)\n",
    "    } else {\n",
    "        res[[\"Other\"]] = NA\n",
    "    }\n",
    "    \n",
    "    return (res)\n",
    "}\n",
    "\n",
    "res <- parse_str_vec_with_patterns(\n",
    "        patterns = c(\"CD3\", \"CD4\", \"CD8\"), \n",
    "        vec = c(\"NK (%LC)\", \"R5 Th2 (%CD4)\", \"R5 Th17 (%CD4)\",         \n",
    "                \"PBs (%B)\", \"Th1 (%CD4)\", \"TEM (% CD8)\"), \n",
    "        name_group=\"T Cell\")\n",
    "res"
   ]
  },
  {
   "cell_type": "code",
   "execution_count": 41,
   "id": "36a1be78",
   "metadata": {},
   "outputs": [],
   "source": [
    "get_cell_groups <- function(vec) {\n",
    "    # To group makers by its cell type\n",
    "    # Input:     \n",
    "    #   vec: an array of markers (string format)   \n",
    "    # Output:\n",
    "    #   An R list (Python dict)\n",
    "    # Usage:\n",
    "    #   cell_groups <- get_cell_groups(vec = c(\"NK (%LC)\", \"R5 Th2 (%CD4)\", \"R5 Th17 (%CD4)\", \n",
    "    #                                          \"PBs (%B)\", \"Th1 (%CD4)\", \"TEM (% CD8)\"))    \n",
    "    #   Output: cell_groups is a list\n",
    "    #    $`T Cell` = 'R5 Th2 (%CD4)' 'R5 Th17 (%CD4)' 'Th1 (%CD4)' 'TEM (% CD8)'\n",
    "    #    $`B Cell` = <NA>\n",
    "    #    $`Dendritic Cell` = <NA>\n",
    "    #    $`NK Cell` = <NA>\n",
    "    #    $`Stem Cell/Precursor` = <NA>\n",
    "    #    $`Macrophage/Monocyte` <NA>\n",
    "    #    $Granulocyte = <NA>\n",
    "    #    $Platelet = <NA>\n",
    "    #    $Erythrocyte = <NA>\n",
    "    #    $`Endothelial Cell` = <NA>\n",
    "    #    $`Epithelial Cell` = <NA>\n",
    "    #    $Other = 'NK (%LC)' 'PBs (%B)'    \n",
    "    \n",
    "    # Get T Cell\n",
    "    T_Cell <- parse_str_vec_with_patterns(patterns = c(\"CD3\", \"CD4\", \"CD8\"), \n",
    "                                          vec = vec, \n",
    "                                          name_group=\"T Cell\")   \n",
    "    \n",
    "    # Get B Cell\n",
    "    B_Cell <- parse_str_vec_with_patterns(patterns = c(\"CD19\", \"CD20\"), \n",
    "                                          vec = T_Cell[[\"Other\"]], \n",
    "                                          name_group=\"B Cell\")    \n",
    "    \n",
    "    # Get Dendritic Cell\n",
    "    Dendritic_Cell <- parse_str_vec_with_patterns(patterns = c(\"CD11c\", \"CD123\"), \n",
    "                                                  vec = B_Cell[[\"Other\"]], \n",
    "                                                  name_group=\"Dendritic Cell\")    \n",
    "        \n",
    "    # Get NK Cell\n",
    "    NK_Cell <- parse_str_vec_with_patterns(patterns = c(\"CD56\"), \n",
    "                                           vec = Dendritic_Cell[[\"Other\"]], \n",
    "                                           name_group=\"NK Cell\")   \n",
    "    \n",
    "    # Get Stem Cell/Precursor\n",
    "    Stem_Cell_Precursor <- parse_str_vec_with_patterns(patterns = c(\"CD34\"), \n",
    "                                                       vec = NK_Cell[[\"Other\"]], \n",
    "                                                       name_group=\"Stem Cell/Precursor\") \n",
    "    \n",
    "    # Get Macrophage/Monocyte\n",
    "    Macrophage_Monocyte <- parse_str_vec_with_patterns(patterns = c(\"CD14\", \"CD33\"), \n",
    "                                                       vec = Stem_Cell_Precursor[[\"Other\"]], \n",
    "                                                       name_group=\"Macrophage/Monocyte\") \n",
    "    \n",
    "    # Get Granulocyte\n",
    "    Granulocyte <- parse_str_vec_with_patterns(patterns = c(\"CD66b\"), \n",
    "                                               vec = Macrophage_Monocyte[[\"Other\"]], \n",
    "                                               name_group=\"Granulocyte\") \n",
    "    \n",
    "    # Get Platelet\n",
    "    Platelet <- parse_str_vec_with_patterns(patterns = c(\"CD41\", \"CD61\", \"CD62\"), \n",
    "                                            vec = Granulocyte[[\"Other\"]], \n",
    "                                            name_group=\"Platelet\") \n",
    "    \n",
    "    # Get Erythrocyte\n",
    "    Erythrocyte <- parse_str_vec_with_patterns(patterns = c(\"CD235a\"), \n",
    "                                               vec = Platelet[[\"Other\"]], \n",
    "                                               name_group=\"Erythrocyte\")\n",
    "    \n",
    "    # Get Endothelial Cell\n",
    "    Endothelial_Cell <- parse_str_vec_with_patterns(patterns = c(\"CD146\"), \n",
    "                                                    vec = Erythrocyte[[\"Other\"]], \n",
    "                                                    name_group=\"Endothelial Cell\")\n",
    "    \n",
    "    # Get Epithelial Cell\n",
    "    Epithelial_Cell <- parse_str_vec_with_patterns(patterns = c(\"CD236\"), \n",
    "                                                   vec = Endothelial_Cell[[\"Other\"]], \n",
    "                                                   name_group=\"Epithelial Cell\")\n",
    "    \n",
    "    # Combine lists \n",
    "    cell_groups <- c(T_Cell[\"T Cell\"], \n",
    "                      B_Cell[\"B Cell\"], \n",
    "                      Dendritic_Cell[\"Dendritic Cell\"],\n",
    "                      NK_Cell[\"NK Cell\"], \n",
    "                      Stem_Cell_Precursor[\"Stem Cell/Precursor\"],\n",
    "                      Macrophage_Monocyte[\"Macrophage/Monocyte\"],\n",
    "                      Granulocyte[\"Granulocyte\"],\n",
    "                      Platelet[\"Platelet\"],\n",
    "                      Erythrocyte[\"Erythrocyte\"],\n",
    "                      Endothelial_Cell[\"Endothelial Cell\"],\n",
    "                      Epithelial_Cell[\"Epithelial Cell\"],\n",
    "                      Epithelial_Cell[\"Other\"])\n",
    "    return (cell_groups)    \n",
    "}"
   ]
  },
  {
   "cell_type": "code",
   "execution_count": 42,
   "id": "219f7690",
   "metadata": {},
   "outputs": [
    {
     "data": {
      "text/html": [
       "<dl>\n",
       "\t<dt>$`T Cell`</dt>\n",
       "\t\t<dd><ol class=list-inline>\n",
       "\t<li>'R5 Th17 (%CD4)'</li>\n",
       "\t<li>'R5 Th2 (%CD4)'</li>\n",
       "\t<li>'TEM (% CD8)'</li>\n",
       "\t<li>'Th1 (%CD4)'</li>\n",
       "</ol>\n",
       "</dd>\n",
       "\t<dt>$`B Cell`</dt>\n",
       "\t\t<dd>&lt;NA&gt;</dd>\n",
       "\t<dt>$`Dendritic Cell`</dt>\n",
       "\t\t<dd>&lt;NA&gt;</dd>\n",
       "\t<dt>$`NK Cell`</dt>\n",
       "\t\t<dd>&lt;NA&gt;</dd>\n",
       "\t<dt>$`Stem Cell/Precursor`</dt>\n",
       "\t\t<dd>&lt;NA&gt;</dd>\n",
       "\t<dt>$`Macrophage/Monocyte`</dt>\n",
       "\t\t<dd>&lt;NA&gt;</dd>\n",
       "\t<dt>$Granulocyte</dt>\n",
       "\t\t<dd>&lt;NA&gt;</dd>\n",
       "\t<dt>$Platelet</dt>\n",
       "\t\t<dd>&lt;NA&gt;</dd>\n",
       "\t<dt>$Erythrocyte</dt>\n",
       "\t\t<dd>&lt;NA&gt;</dd>\n",
       "\t<dt>$`Endothelial Cell`</dt>\n",
       "\t\t<dd>&lt;NA&gt;</dd>\n",
       "\t<dt>$`Epithelial Cell`</dt>\n",
       "\t\t<dd>&lt;NA&gt;</dd>\n",
       "\t<dt>$Other</dt>\n",
       "\t\t<dd><ol class=list-inline>\n",
       "\t<li>'NK (%LC)'</li>\n",
       "\t<li>'PBs (%B)'</li>\n",
       "</ol>\n",
       "</dd>\n",
       "</dl>\n"
      ],
      "text/latex": [
       "\\begin{description}\n",
       "\\item[\\$`T Cell`] \\begin{enumerate*}\n",
       "\\item 'R5 Th17 (\\%CD4)'\n",
       "\\item 'R5 Th2 (\\%CD4)'\n",
       "\\item 'TEM (\\% CD8)'\n",
       "\\item 'Th1 (\\%CD4)'\n",
       "\\end{enumerate*}\n",
       "\n",
       "\\item[\\$`B Cell`] <NA>\n",
       "\\item[\\$`Dendritic Cell`] <NA>\n",
       "\\item[\\$`NK Cell`] <NA>\n",
       "\\item[\\$`Stem Cell/Precursor`] <NA>\n",
       "\\item[\\$`Macrophage/Monocyte`] <NA>\n",
       "\\item[\\$Granulocyte] <NA>\n",
       "\\item[\\$Platelet] <NA>\n",
       "\\item[\\$Erythrocyte] <NA>\n",
       "\\item[\\$`Endothelial Cell`] <NA>\n",
       "\\item[\\$`Epithelial Cell`] <NA>\n",
       "\\item[\\$Other] \\begin{enumerate*}\n",
       "\\item 'NK (\\%LC)'\n",
       "\\item 'PBs (\\%B)'\n",
       "\\end{enumerate*}\n",
       "\n",
       "\\end{description}\n"
      ],
      "text/markdown": [
       "$`T Cell`\n",
       ":   1. 'R5 Th17 (%CD4)'\n",
       "2. 'R5 Th2 (%CD4)'\n",
       "3. 'TEM (% CD8)'\n",
       "4. 'Th1 (%CD4)'\n",
       "\n",
       "\n",
       "\n",
       "$`B Cell`\n",
       ":   &lt;NA&gt;\n",
       "$`Dendritic Cell`\n",
       ":   &lt;NA&gt;\n",
       "$`NK Cell`\n",
       ":   &lt;NA&gt;\n",
       "$`Stem Cell/Precursor`\n",
       ":   &lt;NA&gt;\n",
       "$`Macrophage/Monocyte`\n",
       ":   &lt;NA&gt;\n",
       "$Granulocyte\n",
       ":   &lt;NA&gt;\n",
       "$Platelet\n",
       ":   &lt;NA&gt;\n",
       "$Erythrocyte\n",
       ":   &lt;NA&gt;\n",
       "$`Endothelial Cell`\n",
       ":   &lt;NA&gt;\n",
       "$`Epithelial Cell`\n",
       ":   &lt;NA&gt;\n",
       "$Other\n",
       ":   1. 'NK (%LC)'\n",
       "2. 'PBs (%B)'\n",
       "\n",
       "\n",
       "\n",
       "\n",
       "\n"
      ],
      "text/plain": [
       "$`T Cell`\n",
       "[1] \"R5 Th17 (%CD4)\" \"R5 Th2 (%CD4)\"  \"TEM (% CD8)\"    \"Th1 (%CD4)\"    \n",
       "\n",
       "$`B Cell`\n",
       "[1] NA\n",
       "\n",
       "$`Dendritic Cell`\n",
       "[1] NA\n",
       "\n",
       "$`NK Cell`\n",
       "[1] NA\n",
       "\n",
       "$`Stem Cell/Precursor`\n",
       "[1] NA\n",
       "\n",
       "$`Macrophage/Monocyte`\n",
       "[1] NA\n",
       "\n",
       "$Granulocyte\n",
       "[1] NA\n",
       "\n",
       "$Platelet\n",
       "[1] NA\n",
       "\n",
       "$Erythrocyte\n",
       "[1] NA\n",
       "\n",
       "$`Endothelial Cell`\n",
       "[1] NA\n",
       "\n",
       "$`Epithelial Cell`\n",
       "[1] NA\n",
       "\n",
       "$Other\n",
       "[1] \"NK (%LC)\" \"PBs (%B)\"\n"
      ]
     },
     "metadata": {},
     "output_type": "display_data"
    }
   ],
   "source": [
    "cell_groups <- get_cell_groups(vec = c(\"NK (%LC)\", \"R5 Th2 (%CD4)\", \"R5 Th17 (%CD4)\", \"PBs (%B)\",\n",
    "                                       \"Th1 (%CD4)\", \"TEM (% CD8)\"))\n",
    "cell_groups"
   ]
  },
  {
   "cell_type": "code",
   "execution_count": 43,
   "id": "8b49df52",
   "metadata": {},
   "outputs": [
    {
     "data": {
      "text/html": [
       "<dl>\n",
       "\t<dt>$`T Cell`</dt>\n",
       "\t\t<dd><ol class=list-inline>\n",
       "\t<li>'R5 Th17 (%CD4)'</li>\n",
       "\t<li>'R5 Th2 (%CD4)'</li>\n",
       "\t<li>'TEM (% CD8)'</li>\n",
       "\t<li>'Th1 (%CD4)'</li>\n",
       "</ol>\n",
       "</dd>\n",
       "\t<dt>$Other</dt>\n",
       "\t\t<dd><ol class=list-inline>\n",
       "\t<li>'NK (%LC)'</li>\n",
       "\t<li>'PBs (%B)'</li>\n",
       "</ol>\n",
       "</dd>\n",
       "</dl>\n"
      ],
      "text/latex": [
       "\\begin{description}\n",
       "\\item[\\$`T Cell`] \\begin{enumerate*}\n",
       "\\item 'R5 Th17 (\\%CD4)'\n",
       "\\item 'R5 Th2 (\\%CD4)'\n",
       "\\item 'TEM (\\% CD8)'\n",
       "\\item 'Th1 (\\%CD4)'\n",
       "\\end{enumerate*}\n",
       "\n",
       "\\item[\\$Other] \\begin{enumerate*}\n",
       "\\item 'NK (\\%LC)'\n",
       "\\item 'PBs (\\%B)'\n",
       "\\end{enumerate*}\n",
       "\n",
       "\\end{description}\n"
      ],
      "text/markdown": [
       "$`T Cell`\n",
       ":   1. 'R5 Th17 (%CD4)'\n",
       "2. 'R5 Th2 (%CD4)'\n",
       "3. 'TEM (% CD8)'\n",
       "4. 'Th1 (%CD4)'\n",
       "\n",
       "\n",
       "\n",
       "$Other\n",
       ":   1. 'NK (%LC)'\n",
       "2. 'PBs (%B)'\n",
       "\n",
       "\n",
       "\n",
       "\n",
       "\n"
      ],
      "text/plain": [
       "$`T Cell`\n",
       "[1] \"R5 Th17 (%CD4)\" \"R5 Th2 (%CD4)\"  \"TEM (% CD8)\"    \"Th1 (%CD4)\"    \n",
       "\n",
       "$Other\n",
       "[1] \"NK (%LC)\" \"PBs (%B)\"\n"
      ]
     },
     "metadata": {},
     "output_type": "display_data"
    }
   ],
   "source": [
    "cell_groups <- cell_groups[-which(is.na(cell_groups))]\n",
    "cell_groups"
   ]
  },
  {
   "cell_type": "code",
   "execution_count": 44,
   "id": "3c31e7f8",
   "metadata": {},
   "outputs": [
    {
     "data": {
      "text/html": [
       "<dl>\n",
       "\t<dt>$`T Cell`</dt>\n",
       "\t\t<dd><ol class=list-inline>\n",
       "\t<li>'R5 Th17 (%CD4)'</li>\n",
       "\t<li>'R5 Th2 (%CD4)'</li>\n",
       "\t<li>'TEM (% CD8)'</li>\n",
       "\t<li>'Th1 (%CD4)'</li>\n",
       "</ol>\n",
       "</dd>\n",
       "\t<dt>$&lt;NA&gt;</dt>\n",
       "\t\t<dd>NULL</dd>\n",
       "</dl>\n"
      ],
      "text/latex": [
       "\\begin{description}\n",
       "\\item[\\$`T Cell`] \\begin{enumerate*}\n",
       "\\item 'R5 Th17 (\\%CD4)'\n",
       "\\item 'R5 Th2 (\\%CD4)'\n",
       "\\item 'TEM (\\% CD8)'\n",
       "\\item 'Th1 (\\%CD4)'\n",
       "\\end{enumerate*}\n",
       "\n",
       "\\item[\\$<NA>] NULL\n",
       "\\end{description}\n"
      ],
      "text/markdown": [
       "$`T Cell`\n",
       ":   1. 'R5 Th17 (%CD4)'\n",
       "2. 'R5 Th2 (%CD4)'\n",
       "3. 'TEM (% CD8)'\n",
       "4. 'Th1 (%CD4)'\n",
       "\n",
       "\n",
       "\n",
       "$&lt;NA&gt;\n",
       ":   NULL\n",
       "\n",
       "\n"
      ],
      "text/plain": [
       "$`T Cell`\n",
       "[1] \"R5 Th17 (%CD4)\" \"R5 Th2 (%CD4)\"  \"TEM (% CD8)\"    \"Th1 (%CD4)\"    \n",
       "\n",
       "$<NA>\n",
       "NULL\n"
      ]
     },
     "metadata": {},
     "output_type": "display_data"
    }
   ],
   "source": [
    "append(cell_groups[\"T Cell\"], cell_groups[\"LC\"])"
   ]
  },
  {
   "cell_type": "code",
   "execution_count": 45,
   "id": "11d5502e",
   "metadata": {},
   "outputs": [
    {
     "data": {
      "text/html": [
       "TRUE"
      ],
      "text/latex": [
       "TRUE"
      ],
      "text/markdown": [
       "TRUE"
      ],
      "text/plain": [
       "[1] TRUE"
      ]
     },
     "metadata": {},
     "output_type": "display_data"
    }
   ],
   "source": [
    "is.null(cell_groups[[\"B Cell\"]])"
   ]
  },
  {
   "cell_type": "code",
   "execution_count": 46,
   "id": "f4111f04",
   "metadata": {},
   "outputs": [
    {
     "data": {
      "text/html": [
       "FALSE"
      ],
      "text/latex": [
       "FALSE"
      ],
      "text/markdown": [
       "FALSE"
      ],
      "text/plain": [
       "[1] FALSE"
      ]
     },
     "metadata": {},
     "output_type": "display_data"
    }
   ],
   "source": [
    "identical(cell_groups[[\"B Cell\"]], character(0))"
   ]
  },
  {
   "cell_type": "code",
   "execution_count": 47,
   "id": "4a8241fc",
   "metadata": {},
   "outputs": [
    {
     "data": {
      "text/html": [
       "<dl>\n",
       "\t<dt>$a</dt>\n",
       "\t\t<dd><ol class=list-inline>\n",
       "\t<li>1</li>\n",
       "\t<li>2</li>\n",
       "\t<li>3</li>\n",
       "\t<li>4</li>\n",
       "</ol>\n",
       "</dd>\n",
       "\t<dt>$b</dt>\n",
       "\t\t<dd><ol class=list-inline>\n",
       "\t<li>3</li>\n",
       "\t<li>4</li>\n",
       "\t<li>5</li>\n",
       "\t<li>6</li>\n",
       "\t<li>7</li>\n",
       "\t<li>8</li>\n",
       "\t<li>9</li>\n",
       "\t<li>10</li>\n",
       "</ol>\n",
       "</dd>\n",
       "\t<dt>$c</dt>\n",
       "\t\t<dd>NULL</dd>\n",
       "</dl>\n"
      ],
      "text/latex": [
       "\\begin{description}\n",
       "\\item[\\$a] \\begin{enumerate*}\n",
       "\\item 1\n",
       "\\item 2\n",
       "\\item 3\n",
       "\\item 4\n",
       "\\end{enumerate*}\n",
       "\n",
       "\\item[\\$b] \\begin{enumerate*}\n",
       "\\item 3\n",
       "\\item 4\n",
       "\\item 5\n",
       "\\item 6\n",
       "\\item 7\n",
       "\\item 8\n",
       "\\item 9\n",
       "\\item 10\n",
       "\\end{enumerate*}\n",
       "\n",
       "\\item[\\$c] NULL\n",
       "\\end{description}\n"
      ],
      "text/markdown": [
       "$a\n",
       ":   1. 1\n",
       "2. 2\n",
       "3. 3\n",
       "4. 4\n",
       "\n",
       "\n",
       "\n",
       "$b\n",
       ":   1. 3\n",
       "2. 4\n",
       "3. 5\n",
       "4. 6\n",
       "5. 7\n",
       "6. 8\n",
       "7. 9\n",
       "8. 10\n",
       "\n",
       "\n",
       "\n",
       "$c\n",
       ":   NULL\n",
       "\n",
       "\n"
      ],
      "text/plain": [
       "$a\n",
       "[1] 1 2 3 4\n",
       "\n",
       "$b\n",
       "[1]  3  4  5  6  7  8  9 10\n",
       "\n",
       "$c\n",
       "NULL\n"
      ]
     },
     "metadata": {},
     "output_type": "display_data"
    }
   ],
   "source": [
    "x = list(a = 1:4, b = 3:10, c = NULL)\n",
    "x"
   ]
  },
  {
   "cell_type": "code",
   "execution_count": 48,
   "id": "6cfea3f3",
   "metadata": {},
   "outputs": [
    {
     "data": {
      "text/html": [
       "<dl>\n",
       "\t<dt>$a</dt>\n",
       "\t\t<dd><ol class=list-inline>\n",
       "\t<li>1</li>\n",
       "\t<li>2</li>\n",
       "\t<li>3</li>\n",
       "\t<li>4</li>\n",
       "</ol>\n",
       "</dd>\n",
       "\t<dt>$b</dt>\n",
       "\t\t<dd><ol class=list-inline>\n",
       "\t<li>3</li>\n",
       "\t<li>4</li>\n",
       "\t<li>5</li>\n",
       "\t<li>6</li>\n",
       "\t<li>7</li>\n",
       "\t<li>8</li>\n",
       "\t<li>9</li>\n",
       "\t<li>10</li>\n",
       "</ol>\n",
       "</dd>\n",
       "</dl>\n"
      ],
      "text/latex": [
       "\\begin{description}\n",
       "\\item[\\$a] \\begin{enumerate*}\n",
       "\\item 1\n",
       "\\item 2\n",
       "\\item 3\n",
       "\\item 4\n",
       "\\end{enumerate*}\n",
       "\n",
       "\\item[\\$b] \\begin{enumerate*}\n",
       "\\item 3\n",
       "\\item 4\n",
       "\\item 5\n",
       "\\item 6\n",
       "\\item 7\n",
       "\\item 8\n",
       "\\item 9\n",
       "\\item 10\n",
       "\\end{enumerate*}\n",
       "\n",
       "\\end{description}\n"
      ],
      "text/markdown": [
       "$a\n",
       ":   1. 1\n",
       "2. 2\n",
       "3. 3\n",
       "4. 4\n",
       "\n",
       "\n",
       "\n",
       "$b\n",
       ":   1. 3\n",
       "2. 4\n",
       "3. 5\n",
       "4. 6\n",
       "5. 7\n",
       "6. 8\n",
       "7. 9\n",
       "8. 10\n",
       "\n",
       "\n",
       "\n",
       "\n",
       "\n"
      ],
      "text/plain": [
       "$a\n",
       "[1] 1 2 3 4\n",
       "\n",
       "$b\n",
       "[1]  3  4  5  6  7  8  9 10\n"
      ]
     },
     "metadata": {},
     "output_type": "display_data"
    }
   ],
   "source": [
    "Filter(Negate(is.null), x)"
   ]
  },
  {
   "cell_type": "code",
   "execution_count": 49,
   "id": "19e19809",
   "metadata": {},
   "outputs": [
    {
     "data": {
      "text/html": [
       "<dl>\n",
       "\t<dt>$a</dt>\n",
       "\t\t<dd><ol class=list-inline>\n",
       "\t<li>1</li>\n",
       "\t<li>2</li>\n",
       "\t<li>3</li>\n",
       "\t<li>4</li>\n",
       "</ol>\n",
       "</dd>\n",
       "\t<dt>$b</dt>\n",
       "\t\t<dd><ol class=list-inline>\n",
       "\t<li>3</li>\n",
       "\t<li>4</li>\n",
       "\t<li>5</li>\n",
       "\t<li>6</li>\n",
       "\t<li>7</li>\n",
       "\t<li>8</li>\n",
       "\t<li>9</li>\n",
       "\t<li>10</li>\n",
       "</ol>\n",
       "</dd>\n",
       "\t<dt>$c</dt>\n",
       "\t\t<dd>NULL</dd>\n",
       "</dl>\n"
      ],
      "text/latex": [
       "\\begin{description}\n",
       "\\item[\\$a] \\begin{enumerate*}\n",
       "\\item 1\n",
       "\\item 2\n",
       "\\item 3\n",
       "\\item 4\n",
       "\\end{enumerate*}\n",
       "\n",
       "\\item[\\$b] \\begin{enumerate*}\n",
       "\\item 3\n",
       "\\item 4\n",
       "\\item 5\n",
       "\\item 6\n",
       "\\item 7\n",
       "\\item 8\n",
       "\\item 9\n",
       "\\item 10\n",
       "\\end{enumerate*}\n",
       "\n",
       "\\item[\\$c] NULL\n",
       "\\end{description}\n"
      ],
      "text/markdown": [
       "$a\n",
       ":   1. 1\n",
       "2. 2\n",
       "3. 3\n",
       "4. 4\n",
       "\n",
       "\n",
       "\n",
       "$b\n",
       ":   1. 3\n",
       "2. 4\n",
       "3. 5\n",
       "4. 6\n",
       "5. 7\n",
       "6. 8\n",
       "7. 9\n",
       "8. 10\n",
       "\n",
       "\n",
       "\n",
       "$c\n",
       ":   NULL\n",
       "\n",
       "\n"
      ],
      "text/plain": [
       "$a\n",
       "[1] 1 2 3 4\n",
       "\n",
       "$b\n",
       "[1]  3  4  5  6  7  8  9 10\n",
       "\n",
       "$c\n",
       "NULL\n"
      ]
     },
     "metadata": {},
     "output_type": "display_data"
    },
    {
     "data": {
      "text/html": [
       "<dl>\n",
       "\t<dt>$a</dt>\n",
       "\t\t<dd><ol class=list-inline>\n",
       "\t<li>1</li>\n",
       "\t<li>2</li>\n",
       "\t<li>3</li>\n",
       "\t<li>4</li>\n",
       "</ol>\n",
       "</dd>\n",
       "\t<dt>$b</dt>\n",
       "\t\t<dd><ol class=list-inline>\n",
       "\t<li>3</li>\n",
       "\t<li>4</li>\n",
       "\t<li>5</li>\n",
       "\t<li>6</li>\n",
       "\t<li>7</li>\n",
       "\t<li>8</li>\n",
       "\t<li>9</li>\n",
       "\t<li>10</li>\n",
       "</ol>\n",
       "</dd>\n",
       "</dl>\n"
      ],
      "text/latex": [
       "\\begin{description}\n",
       "\\item[\\$a] \\begin{enumerate*}\n",
       "\\item 1\n",
       "\\item 2\n",
       "\\item 3\n",
       "\\item 4\n",
       "\\end{enumerate*}\n",
       "\n",
       "\\item[\\$b] \\begin{enumerate*}\n",
       "\\item 3\n",
       "\\item 4\n",
       "\\item 5\n",
       "\\item 6\n",
       "\\item 7\n",
       "\\item 8\n",
       "\\item 9\n",
       "\\item 10\n",
       "\\end{enumerate*}\n",
       "\n",
       "\\end{description}\n"
      ],
      "text/markdown": [
       "$a\n",
       ":   1. 1\n",
       "2. 2\n",
       "3. 3\n",
       "4. 4\n",
       "\n",
       "\n",
       "\n",
       "$b\n",
       ":   1. 3\n",
       "2. 4\n",
       "3. 5\n",
       "4. 6\n",
       "5. 7\n",
       "6. 8\n",
       "7. 9\n",
       "8. 10\n",
       "\n",
       "\n",
       "\n",
       "\n",
       "\n"
      ],
      "text/plain": [
       "$a\n",
       "[1] 1 2 3 4\n",
       "\n",
       "$b\n",
       "[1]  3  4  5  6  7  8  9 10\n"
      ]
     },
     "metadata": {},
     "output_type": "display_data"
    }
   ],
   "source": [
    "x\n",
    "x[!unlist(lapply(x, is.null))]"
   ]
  },
  {
   "cell_type": "code",
   "execution_count": 50,
   "id": "03263433",
   "metadata": {},
   "outputs": [
    {
     "data": {
      "text/html": [
       "<dl>\n",
       "\t<dt>$a</dt>\n",
       "\t\t<dd><ol class=list-inline>\n",
       "\t<li>1</li>\n",
       "\t<li>2</li>\n",
       "\t<li>3</li>\n",
       "\t<li>4</li>\n",
       "</ol>\n",
       "</dd>\n",
       "\t<dt>$b</dt>\n",
       "\t\t<dd><ol class=list-inline>\n",
       "\t<li>3</li>\n",
       "\t<li>4</li>\n",
       "\t<li>5</li>\n",
       "\t<li>6</li>\n",
       "\t<li>7</li>\n",
       "\t<li>8</li>\n",
       "\t<li>9</li>\n",
       "\t<li>10</li>\n",
       "</ol>\n",
       "</dd>\n",
       "\t<dt>$c</dt>\n",
       "\t\t<dd>NULL</dd>\n",
       "</dl>\n"
      ],
      "text/latex": [
       "\\begin{description}\n",
       "\\item[\\$a] \\begin{enumerate*}\n",
       "\\item 1\n",
       "\\item 2\n",
       "\\item 3\n",
       "\\item 4\n",
       "\\end{enumerate*}\n",
       "\n",
       "\\item[\\$b] \\begin{enumerate*}\n",
       "\\item 3\n",
       "\\item 4\n",
       "\\item 5\n",
       "\\item 6\n",
       "\\item 7\n",
       "\\item 8\n",
       "\\item 9\n",
       "\\item 10\n",
       "\\end{enumerate*}\n",
       "\n",
       "\\item[\\$c] NULL\n",
       "\\end{description}\n"
      ],
      "text/markdown": [
       "$a\n",
       ":   1. 1\n",
       "2. 2\n",
       "3. 3\n",
       "4. 4\n",
       "\n",
       "\n",
       "\n",
       "$b\n",
       ":   1. 3\n",
       "2. 4\n",
       "3. 5\n",
       "4. 6\n",
       "5. 7\n",
       "6. 8\n",
       "7. 9\n",
       "8. 10\n",
       "\n",
       "\n",
       "\n",
       "$c\n",
       ":   NULL\n",
       "\n",
       "\n"
      ],
      "text/plain": [
       "$a\n",
       "[1] 1 2 3 4\n",
       "\n",
       "$b\n",
       "[1]  3  4  5  6  7  8  9 10\n",
       "\n",
       "$c\n",
       "NULL\n"
      ]
     },
     "metadata": {},
     "output_type": "display_data"
    },
    {
     "data": {
      "text/html": [
       "<dl>\n",
       "\t<dt>$a</dt>\n",
       "\t\t<dd><ol class=list-inline>\n",
       "\t<li>1</li>\n",
       "\t<li>2</li>\n",
       "\t<li>3</li>\n",
       "\t<li>4</li>\n",
       "</ol>\n",
       "</dd>\n",
       "\t<dt>$b</dt>\n",
       "\t\t<dd><ol class=list-inline>\n",
       "\t<li>3</li>\n",
       "\t<li>4</li>\n",
       "\t<li>5</li>\n",
       "\t<li>6</li>\n",
       "\t<li>7</li>\n",
       "\t<li>8</li>\n",
       "\t<li>9</li>\n",
       "\t<li>10</li>\n",
       "</ol>\n",
       "</dd>\n",
       "</dl>\n"
      ],
      "text/latex": [
       "\\begin{description}\n",
       "\\item[\\$a] \\begin{enumerate*}\n",
       "\\item 1\n",
       "\\item 2\n",
       "\\item 3\n",
       "\\item 4\n",
       "\\end{enumerate*}\n",
       "\n",
       "\\item[\\$b] \\begin{enumerate*}\n",
       "\\item 3\n",
       "\\item 4\n",
       "\\item 5\n",
       "\\item 6\n",
       "\\item 7\n",
       "\\item 8\n",
       "\\item 9\n",
       "\\item 10\n",
       "\\end{enumerate*}\n",
       "\n",
       "\\end{description}\n"
      ],
      "text/markdown": [
       "$a\n",
       ":   1. 1\n",
       "2. 2\n",
       "3. 3\n",
       "4. 4\n",
       "\n",
       "\n",
       "\n",
       "$b\n",
       ":   1. 3\n",
       "2. 4\n",
       "3. 5\n",
       "4. 6\n",
       "5. 7\n",
       "6. 8\n",
       "7. 9\n",
       "8. 10\n",
       "\n",
       "\n",
       "\n",
       "\n",
       "\n"
      ],
      "text/plain": [
       "$a\n",
       "[1] 1 2 3 4\n",
       "\n",
       "$b\n",
       "[1]  3  4  5  6  7  8  9 10\n"
      ]
     },
     "metadata": {},
     "output_type": "display_data"
    }
   ],
   "source": [
    "x\n",
    "x[!sapply(x, is.null)]"
   ]
  },
  {
   "cell_type": "code",
   "execution_count": 51,
   "id": "dd01d136",
   "metadata": {},
   "outputs": [
    {
     "name": "stdout",
     "output_type": "stream",
     "text": [
      "[1] \" \"\n"
     ]
    }
   ],
   "source": [
    "y = \" \"\n",
    "print(y)"
   ]
  },
  {
   "cell_type": "code",
   "execution_count": 52,
   "id": "8fdc0cba",
   "metadata": {},
   "outputs": [
    {
     "name": "stdout",
     "output_type": "stream",
     "text": [
      "NULL\n"
     ]
    }
   ],
   "source": [
    "z = c()\n",
    "print(z)"
   ]
  },
  {
   "cell_type": "markdown",
   "id": "b4096f14",
   "metadata": {},
   "source": [
    "## Get parent markers groups"
   ]
  },
  {
   "cell_type": "code",
   "execution_count": 53,
   "id": "44e319dd",
   "metadata": {},
   "outputs": [
    {
     "name": "stderr",
     "output_type": "stream",
     "text": [
      "Your code contains a unicode char which cannot be displayed in your\n",
      "current locale and R will silently convert it to an escaped form when the\n",
      "R kernel executes this code. This can lead to subtle errors if you use\n",
      "such chars to do comparisons. For more information, please see\n",
      "https://github.com/IRkernel/repr/wiki/Problems-with-unicode-on-windows"
     ]
    }
   ],
   "source": [
    "vec = c(\"CD3 T cells (% Lymphocytes/live)\",                                                                      \n",
    "   \"CD4+ T cells (%Lymphocytes/live)\",                                                                      \n",
    "   \"Activated CD4+ T cells(% CD4)\" ,                                                                        \n",
    "   \"Naive (%CD4)\",                                                                                          \n",
    "   \"TCM (%CD4)\",                                                                                            \n",
    "   \"TEM (% CD4)\" ,                                                                                          \n",
    "   \"TEMRA (% CD4)\" ,                                                                                        \n",
    "   \"CD8+ T cells (% of Lymphocytes/live)\"  ,                                                                \n",
    "   \"Activated CD8+ T cells (% CD8)\" ,                                                                       \n",
    "   \"Na�ve (% CD8)\"  ,                                                                                       \n",
    "  \"TCM (% CD8)\" ,                                                                                          \n",
    "  \"TEM (% CD8)\" ,                                                                                          \n",
    "  \"TEMRA (% CD8)\"    ,                                                                                     \n",
    "  \"B cells (%Lymphocytes/live)\" ,                                                                          \n",
    "  \"Anergic B (%B)\" ,                                                                                       \n",
    "  \"Bm (%B)\"      ,                                                                                         \n",
    "  \"Bm (%Lymphocytes/live)\"  ,                                                                              \n",
    "  \"MZ B (%B)\"      ,                                                                                       \n",
    "  \"MZ B (%Lymphocytes/live)\" ,                                                                             \n",
    "  \"smB (%B)\"  ,                                                                                            \n",
    "  \"smB (%Lymphocytes/live)\"    ,                                                                           \n",
    "  \"IgA smB (%B)\"  ,                                                                                        \n",
    "  \"IgG smB (%B)\" ,                                                                                         \n",
    "  \"PBs (%B)\"   ,                                                                                           \n",
    "  \"Trans-a (%B)\" ,                                                                                         \n",
    "  \"Trans-b (%B)\"   ,                                                                                       \n",
    "  \"Trans-c (%B)\"  ,                                                                                        \n",
    "  \"Trans-d (%B)\"  ,                                                                                        \n",
    "  \"Exhausted (%CD4)\"     ,                                                                                 \n",
    "  \"R5 Th1 (%CD4)\"  ,                                                                                       \n",
    "  \"R5 Th1-17 (%CD4)\"  ,                                                                                    \n",
    "  \"R5 Th2 (%CD4)\"  ,                                                                                       \n",
    "  \"R5 Th17 (%CD4)\"  ,                                                                                      \n",
    "  \"Tfh effector (%CD4)\"  ,                                                                                 \n",
    "  \"Tfh effector (%CXCR5)\"  ,                                                                               \n",
    "  \"Tfh memory (CD4%)\" ,                                                                                    \n",
    "  \"Tfh memory (%CXCR5)\" ,                                                                                  \n",
    "  \"Th1 (%CD4)\" ,                                                                                           \n",
    "  \"Th1-17 (CD4)\"  ,                                                                                        \n",
    "  \"Th2 (CD4)\" ,                                                                                            \n",
    "  \"Th17 (%CD4)\"  ,                                                                                         \n",
    "  \"Treg (%CD4)\" ,                                                                                          \n",
    "  \"Tfh (%CD4)\" ,                                                                                           \n",
    "  \"NK (%LC)\" ,                                                                                             \n",
    "  \"NK- 1 (%LC)\" ,                                                                                          \n",
    "  \"NK-2 (%LC)\"  ,                                                                                          \n",
    "  \"NK-3 (%LC)\"  ,                                                                                          \n",
    "  \"NK-4 (%LC)\"  ,                                                                                          \n",
    "  \"Classical Monocytes(%APC)\"     ,                                                                        \n",
    "  \"mDCs(%APC)\"    ,                                                                                        \n",
    "  \"CD16+ mDCs (%APC)\" ,                                                                                    \n",
    "  \"CD16neg mDCs (%APC)\"  ,                                                                                 \n",
    "  \"pDCs (%APC)\" ,                                                                                          \n",
    "  \"low density neutrophils (%APC)\",                                                                        \n",
    "  \"non-classical monocytes (%APC)\"  ,                                                                      \n",
    "  \"CD19 (%LC)\"                       ,                                                                     \n",
    "  \"B-CD21lo (%B)\"                     ,                                                                    \n",
    "  \"B-mem (%B)\"                         ,                                                                   \n",
    "  \"B-mem (%LC)\"                         ,                                                                  \n",
    "  \"B-MZ (%B)\"                            ,                                                                 \n",
    "  \"B-MZ (%LC)\"                        ,                                                                    \n",
    "  \"B-SM (%B)\"                          ,                                                                   \n",
    "  \"B-SM (%LC)\"                          ,                                                                  \n",
    "  \"B-SM-IgA (%B)\"                        ,                                                                 \n",
    "  \"B-SM-IgG (%B)\"        ,                                                                                 \n",
    "  \"B-trans-b (%B)\"        ,                                                                                \n",
    "  \"Mono-class (%APC)\"      ,                                                                               \n",
    "  \"mDCs (%APC)\"             ,                                                                              \n",
    "  \"mDC-CD16+ (%APC)\"         ,                                                                             \n",
    "  \"mDC-CD16-� (%APC)\"        ,                                                                             \n",
    "  \"Mono-non-class (%APC)\"      ,                                                                           \n",
    "  \"CD4-Exh (%CD4)\"              ,                                                                          \n",
    "  \"R5-Th1 (%CD4)\"                ,                                                                         \n",
    "  \"R5-Th1/17 (%CD4)\"              ,                                                                        \n",
    "  \"R5-Th2 (%CD4)\"                  ,                                                                       \n",
    "  \"R5-Th17 (%CD4)\"                  ,                                                                      \n",
    "  \"cTfh (%CD4)\"                      ,                                                                     \n",
    "  \"Tfh-eff (%CD4)\"                    ,                                                                    \n",
    "  \"Tfh-eff (%CXCR5)\"                   ,                                                                   \n",
    "  \"Tfh-mem (%CD4)\"                      ,                                                                  \n",
    "  \"Tfh-mem (%CXCR5)\"                     ,                                                                 \n",
    "  \"Th1-17 (%CD4)\" ,                                                                                        \n",
    "  \"Th2 (%CD4)\"     ,                                                                                       \n",
    "  \"CD3 (%LCs)\"      ,                                                                                      \n",
    "  \"CD4 (%LCs)\"       ,                                                                                     \n",
    "  \"CD4-Act (%CD4)\"    ,                                                                                    \n",
    "  \"CD4-Naive (%CD4)\"   ,                                                                                   \n",
    "  \"CD4-TCM (%CD4)\"      ,                                                                                  \n",
    "  \"CD4-TEM (%CD4)\"       ,                                                                                 \n",
    "  \"CD4-TEMRA (%CD4)\"      ,                                                                                \n",
    "  \"CD8 (%LC)\"              ,                                                                               \n",
    "  \"CD8-Act (%CD8)\"          ,                                                                              \n",
    "  \"CD8-Naive (%CD8)\"         ,                                                                             \n",
    "  \"CD8-TCM (%CD8)\"            ,                                                                            \n",
    "  \"CD8-TEM (%CD8)\"             ,                                                                           \n",
    "  \"CD8-TEMRA (%CD8)\"            ,                                                                          \n",
    "  \"singlets/Single Cells/live/Lymphocytes/CD3+ | Freq� of Lymphocytes\"   ,                                 \n",
    "  \"singlets/Single Cells/live/Lymphocytes/CD3+/CD4+ T cell | Freq� of Lymphocytes\",                        \n",
    "  \"singlets/Single Cells/live/Lymphocytes/CD3+/CD4+ T cell/Activated CD4+ T cells | Freq� of CD4+ T cell\", \n",
    " \"singlets/Single Cells/live/Lymphocytes/CD3+/CD4+ T cell/Naive | Freq� of CD4+ T cell\"                  ,\n",
    " \"singlets/Single Cells/live/Lymphocytes/CD3+/CD4+ T cell/TCM | Freq� of CD4+ T cell\"                    ,\n",
    " \"singlets/Single Cells/live/Lymphocytes/CD3+/CD4+ T cell/TEM | Freq� of CD4+ T cell\"                    ,\n",
    " \"singlets/Single Cells/live/Lymphocytes/CD3+/CD4+ T cell/TEMRA | Freq� of CD4+ T cell\"                  ,\n",
    " \"singlets/Single Cells/live/Lymphocytes/CD3+/CD8+ T cells | Freq� of Lymphocytes\"                       ,\n",
    " \"singlets/Single Cells/live/Lymphocytes/CD3+/CD8+ T cells/Activated CD8+ T cell | Freq� of CD8+ T cells\",\n",
    " \"singlets/Single Cells/live/Lymphocytes/CD3+/CD8+ T cells/Naive | Freq� of CD8+ T cells\"                ,\n",
    " \"singlets/Single Cells/live/Lymphocytes/CD3+/CD8+ T cells/TCM | Freq� of CD8+ T cells\"                  ,\n",
    " \"singlets/Single Cells/live/Lymphocytes/CD3+/CD8+ T cells/TEM | Freq� of CD8+ T cells\"                  ,\n",
    " \"singlets/Single Cells/live/Lymphocytes/CD3+/CD8+ T cells/TEMRA | Freq� of CD8+ T cells\"                ,\n",
    " \"Single Cells/Single Cells/live/Lymphocytes/CD19+ | Freq� of Lymphocytes\"                               ,\n",
    " \"Single Cells/Single Cells/live/Lymphocytes/CD19+/Anergic | Freq� of CD19+\"                             ,\n",
    " \"Single Cells/Single Cells/live/Lymphocytes/CD19+/Bm | Freq� of CD19+\"                                  ,\n",
    "\"Single Cells/Single Cells/live/Lymphocytes/CD19+/Bm | Freq� of Lymphocytes\"                            ,\n",
    " \"Single Cells/Single Cells/live/Lymphocytes/CD19+/Bm/MZ | Freq� of CD19+\"                               ,\n",
    " \"Single Cells/Single Cells/live/Lymphocytes/CD19+/Bm/MZ | Freq� of Lymphocytes\"                         ,\n",
    "\"Single Cells/Single Cells/live/Lymphocytes/CD19+/Bm/smB | Freq� of CD19+\"                              ,\n",
    "\"Single Cells/Single Cells/live/Lymphocytes/CD19+/Bm/smB | Freq� of Lymphocytes\"                        ,\n",
    " \"Single Cells/Single Cells/live/Lymphocytes/CD19+/Bm/smB/IgA+ smB | Freq� of CD19+\"                     ,\n",
    " \"Single Cells/Single Cells/live/Lymphocytes/CD19+/Bm/smB/IgG+ smB | Freq� of CD19+\"                     ,\n",
    " \"Single Cells/Single Cells/live/Lymphocytes/CD19+/PBs | Freq� of CD19+\"                                 ,\n",
    " \"Single Cells/Single Cells/live/Lymphocytes/CD19+/Trans-a | Freq� of CD19+\"                             ,\n",
    " \"Single Cells/Single Cells/live/Lymphocytes/CD19+/Trans-b | Freq� of CD19+\"                             ,\n",
    " \"Single Cells/Single Cells/live/Lymphocytes/CD19+/Trans-c | Freq� of CD19+\"                             ,\n",
    " \"Single Cells/Single Cells/live/Lymphocytes/CD19+/Trans-d | Freq� of CD19+\"                             ,\n",
    " \"Single Cells/Single Cells/live/LC and Mono/LC/non BT/CD15neg/NK 1 | Freq� of LC\"                       ,\n",
    " \"Single Cells/Single Cells/live/LC and Mono/LC/non BT/CD15neg/NK 2 | Freq� of LC\"                       ,\n",
    " \"Single Cells/Single Cells/live/LC and Mono/LC/non BT/CD15neg/Nk 3 | Freq� of LC\"                       ,\n",
    " \"Single Cells/Single Cells/live/LC and Mono/LC/non BT/CD15neg/NK 4 | Freq� of LC\"                       ,\n",
    " \"Single Cells/Single Cells/live/LC and Mono/non BT/CD56-/APC/Classical monocytes | Freq� of APC\"        ,\n",
    " \"Single Cells/Single Cells/live/LC and Mono/non BT/CD56-/APC/DC/mDC | Freq� of APC\"                     ,\n",
    " \"Single Cells/Single Cells/live/LC and Mono/non BT/CD56-/APC/DC/mDC/CD16+ mDC | Freq� of APC\"           ,\n",
    " \"Single Cells/Single Cells/live/LC and Mono/non BT/CD56-/APC/DC/mDC/CD16- mDC | Freq� of APC\"           ,\n",
    " \"Single Cells/Single Cells/live/LC and Mono/non BT/CD56-/APC/DC/pDC | Freq� of APC\"                     ,\n",
    " \"Single Cells/Single Cells/live/LC and Mono/non BT/CD56-/APC/LDN | Freq� of APC\"                        ,\n",
    " \"Single Cells/Single Cells/live/LC and Mono/non BT/CD56-/APC/non-classical monocytes | Freq� of APC\"    ,\n",
    " \"Single Cells/Single Cells/live/Lymphocytes/CD4+ T cells/Exhausted | Freq� of Parent\"                   ,\n",
    " \"Single Cells/Single Cells/live/Lymphocytes/CD4+ T cells/non Treg/R5+/R5 Th1 | Freq� of CD4+ T cells\"   ,\n",
    " \"Single Cells/Single Cells/live/Lymphocytes/CD4+ T cells/non Treg/R5+/R5 Th1-17 | Freq� of CD4+ T cells\",\n",
    " \"Single Cells/Single Cells/live/Lymphocytes/CD4+ T cells/non Treg/R5+/R5 Th2 | Freq� of CD4+ T cells\"   ,\n",
    " \"Single Cells/Single Cells/live/Lymphocytes/CD4+ T cells/non Treg/R5+/R5 Th17 | Freq� of CD4+ T cells\"  ,\n",
    " \"Single Cells/Single Cells/live/Lymphocytes/CD4+ T cells/non Treg/R5+/Tfh eff | Freq� of CD4+ T cells\"  ,\n",
    " \"Single Cells/Single Cells/live/Lymphocytes/CD4+ T cells/non Treg/R5+/Tfh eff | Freq� of R5+\"           ,\n",
    " \"Single Cells/Single Cells/live/Lymphocytes/CD4+ T cells/non Treg/R5+/Tfh mem | Freq� of CD4+ T cells\"  ,\n",
    " \"Single Cells/Single Cells/live/Lymphocytes/CD4+ T cells/non Treg/R5+/Tfh mem | Freq� of R5+\"           ,\n",
    " \"Single Cells/Single Cells/live/Lymphocytes/CD4+ T cells/non Treg/R5-/Th1 | Freq� of CD4+ T cells\"      ,\n",
    " \"Single Cells/Single Cells/live/Lymphocytes/CD4+ T cells/non Treg/R5-/Th1-17 | Freq� of CD4+ T cells\"   ,\n",
    " \"Single Cells/Single Cells/live/Lymphocytes/CD4+ T cells/non Treg/R5-/Th2 | Freq� of CD4+ T cells\"      ,\n",
    " \"Single Cells/Single Cells/live/Lymphocytes/CD4+ T cells/non Treg/R5-/Th17 | Freq� of CD4+ T cells\"     ,\n",
    " \"Single Cells/Single Cells/live/Lymphocytes/CD4+ T cells/Treg | Freq� of CD4+ T cells\" \n",
    ")\n",
    "#vec\n",
    "#length(vec)"
   ]
  },
  {
   "cell_type": "code",
   "execution_count": 70,
   "id": "a8356bc3",
   "metadata": {
    "scrolled": false
   },
   "outputs": [
    {
     "data": {
      "text/html": [
       "<dl>\n",
       "\t<dt>$APC</dt>\n",
       "\t\t<dd><dl>\n",
       "\t<dt>$`CD16+ mDCs (%APC)`</dt>\n",
       "\t\t<dd>'CD16+ mDCs (%APC)'</dd>\n",
       "\t<dt>$`CD16neg mDCs (%APC)`</dt>\n",
       "\t\t<dd>'CD16neg mDCs (%APC)'</dd>\n",
       "\t<dt>$`Classical Monocytes(%APC)`</dt>\n",
       "\t\t<dd>'Classical Monocytes(%APC)'</dd>\n",
       "\t<dt>$`low density neutrophils (%APC)`</dt>\n",
       "\t\t<dd>'low density neutrophils (%APC)'</dd>\n",
       "\t<dt>$`mDC-CD16-&lt;U+FFFD&gt; (%APC)`</dt>\n",
       "\t\t<dd>'mDC-CD16-&lt;U+FFFD&gt; (%APC)'</dd>\n",
       "\t<dt>$`mDC-CD16+ (%APC)`</dt>\n",
       "\t\t<dd>'mDC-CD16+ (%APC)'</dd>\n",
       "\t<dt>$`mDCs (%APC)`</dt>\n",
       "\t\t<dd>'mDCs (%APC)'</dd>\n",
       "\t<dt>$`mDCs(%APC)`</dt>\n",
       "\t\t<dd>'mDCs(%APC)'</dd>\n",
       "\t<dt>$`Mono-class (%APC)`</dt>\n",
       "\t\t<dd>'Mono-class (%APC)'</dd>\n",
       "\t<dt>$`Mono-non-class (%APC)`</dt>\n",
       "\t\t<dd>'Mono-non-class (%APC)'</dd>\n",
       "\t<dt>$`non-classical monocytes (%APC)`</dt>\n",
       "\t\t<dd>'non-classical monocytes (%APC)'</dd>\n",
       "\t<dt>$`pDCs (%APC)`</dt>\n",
       "\t\t<dd>'pDCs (%APC)'</dd>\n",
       "</dl>\n",
       "</dd>\n",
       "\t<dt>$B</dt>\n",
       "\t\t<dd><dl>\n",
       "\t<dt>$`Anergic B (%B)`</dt>\n",
       "\t\t<dd>'Anergic B (%B)'</dd>\n",
       "\t<dt>$`B-CD21lo (%B)`</dt>\n",
       "\t\t<dd>'B-CD21lo (%B)'</dd>\n",
       "\t<dt>$`B-mem (%B)`</dt>\n",
       "\t\t<dd>'B-mem (%B)'</dd>\n",
       "\t<dt>$`B-MZ (%B)`</dt>\n",
       "\t\t<dd>'B-MZ (%B)'</dd>\n",
       "\t<dt>$`B-SM-IgA (%B)`</dt>\n",
       "\t\t<dd>'B-SM-IgA (%B)'</dd>\n",
       "\t<dt>$`B-SM-IgG (%B)`</dt>\n",
       "\t\t<dd>'B-SM-IgG (%B)'</dd>\n",
       "\t<dt>$`B-SM (%B)`</dt>\n",
       "\t\t<dd>'B-SM (%B)'</dd>\n",
       "\t<dt>$`B-trans-b (%B)`</dt>\n",
       "\t\t<dd>'B-trans-b (%B)'</dd>\n",
       "\t<dt>$`Bm (%B)`</dt>\n",
       "\t\t<dd>'Bm (%B)'</dd>\n",
       "\t<dt>$`IgA smB (%B)`</dt>\n",
       "\t\t<dd>'IgA smB (%B)'</dd>\n",
       "\t<dt>$`IgG smB (%B)`</dt>\n",
       "\t\t<dd>'IgG smB (%B)'</dd>\n",
       "\t<dt>$`MZ B (%B)`</dt>\n",
       "\t\t<dd>'MZ B (%B)'</dd>\n",
       "\t<dt>$`PBs (%B)`</dt>\n",
       "\t\t<dd>'PBs (%B)'</dd>\n",
       "\t<dt>$`smB (%B)`</dt>\n",
       "\t\t<dd>'smB (%B)'</dd>\n",
       "\t<dt>$`Trans-a (%B)`</dt>\n",
       "\t\t<dd>'Trans-a (%B)'</dd>\n",
       "\t<dt>$`Trans-b (%B)`</dt>\n",
       "\t\t<dd>'Trans-b (%B)'</dd>\n",
       "\t<dt>$`Trans-c (%B)`</dt>\n",
       "\t\t<dd>'Trans-c (%B)'</dd>\n",
       "\t<dt>$`Trans-d (%B)`</dt>\n",
       "\t\t<dd>'Trans-d (%B)'</dd>\n",
       "</dl>\n",
       "</dd>\n",
       "\t<dt>$CD4</dt>\n",
       "\t\t<dd><dl>\n",
       "\t<dt>$`Activated CD4+ T cells(% CD4)`</dt>\n",
       "\t\t<dd>'Activated CD4+ T cells(% CD4)'</dd>\n",
       "\t<dt>$`CD4-Act (%CD4)`</dt>\n",
       "\t\t<dd>'CD4-Act (%CD4)'</dd>\n",
       "\t<dt>$`CD4-Exh (%CD4)`</dt>\n",
       "\t\t<dd>'CD4-Exh (%CD4)'</dd>\n",
       "\t<dt>$`CD4-Naive (%CD4)`</dt>\n",
       "\t\t<dd>'CD4-Naive (%CD4)'</dd>\n",
       "\t<dt>$`CD4-TCM (%CD4)`</dt>\n",
       "\t\t<dd>'CD4-TCM (%CD4)'</dd>\n",
       "\t<dt>$`CD4-TEM (%CD4)`</dt>\n",
       "\t\t<dd>'CD4-TEM (%CD4)'</dd>\n",
       "\t<dt>$`CD4-TEMRA (%CD4)`</dt>\n",
       "\t\t<dd>'CD4-TEMRA (%CD4)'</dd>\n",
       "\t<dt>$`cTfh (%CD4)`</dt>\n",
       "\t\t<dd>'cTfh (%CD4)'</dd>\n",
       "\t<dt>$`Exhausted (%CD4)`</dt>\n",
       "\t\t<dd>'Exhausted (%CD4)'</dd>\n",
       "\t<dt>$`Naive (%CD4)`</dt>\n",
       "\t\t<dd>'Naive (%CD4)'</dd>\n",
       "\t<dt>$`R5-Th1 (%CD4)`</dt>\n",
       "\t\t<dd>'R5-Th1 (%CD4)'</dd>\n",
       "\t<dt>$`R5-Th1/17 (%CD4)`</dt>\n",
       "\t\t<dd>'R5-Th1/17 (%CD4)'</dd>\n",
       "\t<dt>$`R5-Th17 (%CD4)`</dt>\n",
       "\t\t<dd>'R5-Th17 (%CD4)'</dd>\n",
       "\t<dt>$`R5-Th2 (%CD4)`</dt>\n",
       "\t\t<dd>'R5-Th2 (%CD4)'</dd>\n",
       "\t<dt>$`R5 Th1-17 (%CD4)`</dt>\n",
       "\t\t<dd>'R5 Th1-17 (%CD4)'</dd>\n",
       "\t<dt>$`R5 Th1 (%CD4)`</dt>\n",
       "\t\t<dd>'R5 Th1 (%CD4)'</dd>\n",
       "\t<dt>$`R5 Th17 (%CD4)`</dt>\n",
       "\t\t<dd>'R5 Th17 (%CD4)'</dd>\n",
       "\t<dt>$`R5 Th2 (%CD4)`</dt>\n",
       "\t\t<dd>'R5 Th2 (%CD4)'</dd>\n",
       "\t<dt>$`TCM (%CD4)`</dt>\n",
       "\t\t<dd>'TCM (%CD4)'</dd>\n",
       "\t<dt>$`TEM (% CD4)`</dt>\n",
       "\t\t<dd>'TEM (% CD4)'</dd>\n",
       "\t<dt>$`TEMRA (% CD4)`</dt>\n",
       "\t\t<dd>'TEMRA (% CD4)'</dd>\n",
       "\t<dt>$`Tfh-eff (%CD4)`</dt>\n",
       "\t\t<dd>'Tfh-eff (%CD4)'</dd>\n",
       "\t<dt>$`Tfh-mem (%CD4)`</dt>\n",
       "\t\t<dd>'Tfh-mem (%CD4)'</dd>\n",
       "\t<dt>$`Tfh (%CD4)`</dt>\n",
       "\t\t<dd>'Tfh (%CD4)'</dd>\n",
       "\t<dt>$`Tfh effector (%CD4)`</dt>\n",
       "\t\t<dd>'Tfh effector (%CD4)'</dd>\n",
       "\t<dt>$`Tfh memory (CD4%)`</dt>\n",
       "\t\t<dd>'Tfh memory (CD4%)'</dd>\n",
       "\t<dt>$`Th1-17 (%CD4)`</dt>\n",
       "\t\t<dd>'Th1-17 (%CD4)'</dd>\n",
       "\t<dt>$`Th1-17 (CD4)`</dt>\n",
       "\t\t<dd>'Th1-17 (CD4)'</dd>\n",
       "\t<dt>$`Th1 (%CD4)`</dt>\n",
       "\t\t<dd>'Th1 (%CD4)'</dd>\n",
       "\t<dt>$`Th17 (%CD4)`</dt>\n",
       "\t\t<dd>'Th17 (%CD4)'</dd>\n",
       "\t<dt>$`Th2 (%CD4)`</dt>\n",
       "\t\t<dd>'Th2 (%CD4)'</dd>\n",
       "\t<dt>$`Th2 (CD4)`</dt>\n",
       "\t\t<dd>'Th2 (CD4)'</dd>\n",
       "\t<dt>$`Treg (%CD4)`</dt>\n",
       "\t\t<dd>'Treg (%CD4)'</dd>\n",
       "</dl>\n",
       "</dd>\n",
       "\t<dt>$CD8</dt>\n",
       "\t\t<dd><dl>\n",
       "\t<dt>$`Activated CD8+ T cells (% CD8)`</dt>\n",
       "\t\t<dd>'Activated CD8+ T cells (% CD8)'</dd>\n",
       "\t<dt>$`CD8-Act (%CD8)`</dt>\n",
       "\t\t<dd>'CD8-Act (%CD8)'</dd>\n",
       "\t<dt>$`CD8-Naive (%CD8)`</dt>\n",
       "\t\t<dd>'CD8-Naive (%CD8)'</dd>\n",
       "\t<dt>$`CD8-TCM (%CD8)`</dt>\n",
       "\t\t<dd>'CD8-TCM (%CD8)'</dd>\n",
       "\t<dt>$`CD8-TEM (%CD8)`</dt>\n",
       "\t\t<dd>'CD8-TEM (%CD8)'</dd>\n",
       "\t<dt>$`CD8-TEMRA (%CD8)`</dt>\n",
       "\t\t<dd>'CD8-TEMRA (%CD8)'</dd>\n",
       "\t<dt>$`Na&lt;U+FFFD&gt;ve (% CD8)`</dt>\n",
       "\t\t<dd>'Na&lt;U+FFFD&gt;ve (% CD8)'</dd>\n",
       "\t<dt>$`TCM (% CD8)`</dt>\n",
       "\t\t<dd>'TCM (% CD8)'</dd>\n",
       "\t<dt>$`TEM (% CD8)`</dt>\n",
       "\t\t<dd>'TEM (% CD8)'</dd>\n",
       "\t<dt>$`TEMRA (% CD8)`</dt>\n",
       "\t\t<dd>'TEMRA (% CD8)'</dd>\n",
       "</dl>\n",
       "</dd>\n",
       "\t<dt>$CXCR5</dt>\n",
       "\t\t<dd><dl>\n",
       "\t<dt>$`Tfh-eff (%CXCR5)`</dt>\n",
       "\t\t<dd>'Tfh-eff (%CXCR5)'</dd>\n",
       "\t<dt>$`Tfh-mem (%CXCR5)`</dt>\n",
       "\t\t<dd>'Tfh-mem (%CXCR5)'</dd>\n",
       "\t<dt>$`Tfh effector (%CXCR5)`</dt>\n",
       "\t\t<dd>'Tfh effector (%CXCR5)'</dd>\n",
       "\t<dt>$`Tfh memory (%CXCR5)`</dt>\n",
       "\t\t<dd>'Tfh memory (%CXCR5)'</dd>\n",
       "</dl>\n",
       "</dd>\n",
       "\t<dt>$LC</dt>\n",
       "\t\t<dd><dl>\n",
       "\t<dt>$`c(\"B-mem (%LC)\", \"B-MZ (%LC)\", \"B-SM (%LC)\", \"CD19 (%LC)\", \"CD3 (%LCs)\", \"CD4 (%LCs)\", \"CD8 (%LC)\", \"NK- 1 (%LC)\", \"NK-2 (%LC)\", \"NK-3 (%LC)\", \"NK-4 (%LC)\", \"NK (%LC)\")`</dt>\n",
       "\t\t<dd>'B-mem (%LC)'</dd>\n",
       "\t<dt>$&lt;NA&gt;</dt>\n",
       "\t\t<dd>'B-MZ (%LC)'</dd>\n",
       "\t<dt>$&lt;NA&gt;</dt>\n",
       "\t\t<dd>'B-SM (%LC)'</dd>\n",
       "\t<dt>$&lt;NA&gt;</dt>\n",
       "\t\t<dd>'CD19 (%LC)'</dd>\n",
       "\t<dt>$&lt;NA&gt;</dt>\n",
       "\t\t<dd>'CD3 (%LCs)'</dd>\n",
       "\t<dt>$&lt;NA&gt;</dt>\n",
       "\t\t<dd>'CD4 (%LCs)'</dd>\n",
       "\t<dt>$&lt;NA&gt;</dt>\n",
       "\t\t<dd>'CD8 (%LC)'</dd>\n",
       "\t<dt>$&lt;NA&gt;</dt>\n",
       "\t\t<dd>'NK- 1 (%LC)'</dd>\n",
       "\t<dt>$&lt;NA&gt;</dt>\n",
       "\t\t<dd>'NK-2 (%LC)'</dd>\n",
       "\t<dt>$&lt;NA&gt;</dt>\n",
       "\t\t<dd>'NK-3 (%LC)'</dd>\n",
       "\t<dt>$&lt;NA&gt;</dt>\n",
       "\t\t<dd>'NK-4 (%LC)'</dd>\n",
       "\t<dt>$&lt;NA&gt;</dt>\n",
       "\t\t<dd>'NK (%LC)'</dd>\n",
       "</dl>\n",
       "</dd>\n",
       "\t<dt>$`Lymphocytes/live`</dt>\n",
       "\t\t<dd><dl>\n",
       "\t<dt>$`B cells (%Lymphocytes/live)`</dt>\n",
       "\t\t<dd>'B cells (%Lymphocytes/live)'</dd>\n",
       "\t<dt>$`Bm (%Lymphocytes/live)`</dt>\n",
       "\t\t<dd>'Bm (%Lymphocytes/live)'</dd>\n",
       "\t<dt>$`CD3 T cells (% Lymphocytes/live)`</dt>\n",
       "\t\t<dd>'CD3 T cells (% Lymphocytes/live)'</dd>\n",
       "\t<dt>$`CD4+ T cells (%Lymphocytes/live)`</dt>\n",
       "\t\t<dd>'CD4+ T cells (%Lymphocytes/live)'</dd>\n",
       "\t<dt>$`CD8+ T cells (% of Lymphocytes/live)`</dt>\n",
       "\t\t<dd>'CD8+ T cells (% of Lymphocytes/live)'</dd>\n",
       "\t<dt>$`MZ B (%Lymphocytes/live)`</dt>\n",
       "\t\t<dd>'MZ B (%Lymphocytes/live)'</dd>\n",
       "\t<dt>$`smB (%Lymphocytes/live)`</dt>\n",
       "\t\t<dd>'smB (%Lymphocytes/live)'</dd>\n",
       "</dl>\n",
       "</dd>\n",
       "\t<dt>$Other</dt>\n",
       "\t\t<dd><dl>\n",
       "\t<dt>$`Single Cells/Single Cells/live/LC and Mono/LC/non BT/CD15neg/NK 1 | Freq&lt;U+FFFD&gt; of LC`</dt>\n",
       "\t\t<dd>'Single Cells/Single Cells/live/LC and Mono/LC/non BT/CD15neg/NK 1 | Freq&lt;U+FFFD&gt; of LC'</dd>\n",
       "\t<dt>$`Single Cells/Single Cells/live/LC and Mono/LC/non BT/CD15neg/NK 2 | Freq&lt;U+FFFD&gt; of LC`</dt>\n",
       "\t\t<dd>'Single Cells/Single Cells/live/LC and Mono/LC/non BT/CD15neg/NK 2 | Freq&lt;U+FFFD&gt; of LC'</dd>\n",
       "\t<dt>$`Single Cells/Single Cells/live/LC and Mono/LC/non BT/CD15neg/Nk 3 | Freq&lt;U+FFFD&gt; of LC`</dt>\n",
       "\t\t<dd>'Single Cells/Single Cells/live/LC and Mono/LC/non BT/CD15neg/Nk 3 | Freq&lt;U+FFFD&gt; of LC'</dd>\n",
       "\t<dt>$`Single Cells/Single Cells/live/LC and Mono/LC/non BT/CD15neg/NK 4 | Freq&lt;U+FFFD&gt; of LC`</dt>\n",
       "\t\t<dd>'Single Cells/Single Cells/live/LC and Mono/LC/non BT/CD15neg/NK 4 | Freq&lt;U+FFFD&gt; of LC'</dd>\n",
       "\t<dt>$`Single Cells/Single Cells/live/LC and Mono/non BT/CD56-/APC/Classical monocytes | Freq&lt;U+FFFD&gt; of APC`</dt>\n",
       "\t\t<dd>'Single Cells/Single Cells/live/LC and Mono/non BT/CD56-/APC/Classical monocytes | Freq&lt;U+FFFD&gt; of APC'</dd>\n",
       "\t<dt>$`Single Cells/Single Cells/live/LC and Mono/non BT/CD56-/APC/DC/mDC | Freq&lt;U+FFFD&gt; of APC`</dt>\n",
       "\t\t<dd>'Single Cells/Single Cells/live/LC and Mono/non BT/CD56-/APC/DC/mDC | Freq&lt;U+FFFD&gt; of APC'</dd>\n",
       "\t<dt>$`Single Cells/Single Cells/live/LC and Mono/non BT/CD56-/APC/DC/mDC/CD16- mDC | Freq&lt;U+FFFD&gt; of APC`</dt>\n",
       "\t\t<dd>'Single Cells/Single Cells/live/LC and Mono/non BT/CD56-/APC/DC/mDC/CD16- mDC | Freq&lt;U+FFFD&gt; of APC'</dd>\n",
       "\t<dt>$`Single Cells/Single Cells/live/LC and Mono/non BT/CD56-/APC/DC/mDC/CD16+ mDC | Freq&lt;U+FFFD&gt; of APC`</dt>\n",
       "\t\t<dd>'Single Cells/Single Cells/live/LC and Mono/non BT/CD56-/APC/DC/mDC/CD16+ mDC | Freq&lt;U+FFFD&gt; of APC'</dd>\n",
       "\t<dt>$`Single Cells/Single Cells/live/LC and Mono/non BT/CD56-/APC/DC/pDC | Freq&lt;U+FFFD&gt; of APC`</dt>\n",
       "\t\t<dd>'Single Cells/Single Cells/live/LC and Mono/non BT/CD56-/APC/DC/pDC | Freq&lt;U+FFFD&gt; of APC'</dd>\n",
       "\t<dt>$`Single Cells/Single Cells/live/LC and Mono/non BT/CD56-/APC/LDN | Freq&lt;U+FFFD&gt; of APC`</dt>\n",
       "\t\t<dd>'Single Cells/Single Cells/live/LC and Mono/non BT/CD56-/APC/LDN | Freq&lt;U+FFFD&gt; of APC'</dd>\n",
       "\t<dt>$`Single Cells/Single Cells/live/LC and Mono/non BT/CD56-/APC/non-classical monocytes | Freq&lt;U+FFFD&gt; of APC`</dt>\n",
       "\t\t<dd>'Single Cells/Single Cells/live/LC and Mono/non BT/CD56-/APC/non-classical monocytes | Freq&lt;U+FFFD&gt; of APC'</dd>\n",
       "\t<dt>$`Single Cells/Single Cells/live/Lymphocytes/CD19+ | Freq&lt;U+FFFD&gt; of Lymphocytes`</dt>\n",
       "\t\t<dd>'Single Cells/Single Cells/live/Lymphocytes/CD19+ | Freq&lt;U+FFFD&gt; of Lymphocytes'</dd>\n",
       "\t<dt>$`Single Cells/Single Cells/live/Lymphocytes/CD19+/Anergic | Freq&lt;U+FFFD&gt; of CD19+`</dt>\n",
       "\t\t<dd>'Single Cells/Single Cells/live/Lymphocytes/CD19+/Anergic | Freq&lt;U+FFFD&gt; of CD19+'</dd>\n",
       "\t<dt>$`Single Cells/Single Cells/live/Lymphocytes/CD19+/Bm | Freq&lt;U+FFFD&gt; of CD19+`</dt>\n",
       "\t\t<dd>'Single Cells/Single Cells/live/Lymphocytes/CD19+/Bm | Freq&lt;U+FFFD&gt; of CD19+'</dd>\n",
       "\t<dt>$`Single Cells/Single Cells/live/Lymphocytes/CD19+/Bm | Freq&lt;U+FFFD&gt; of Lymphocytes`</dt>\n",
       "\t\t<dd>'Single Cells/Single Cells/live/Lymphocytes/CD19+/Bm | Freq&lt;U+FFFD&gt; of Lymphocytes'</dd>\n",
       "\t<dt>$`Single Cells/Single Cells/live/Lymphocytes/CD19+/Bm/MZ | Freq&lt;U+FFFD&gt; of CD19+`</dt>\n",
       "\t\t<dd>'Single Cells/Single Cells/live/Lymphocytes/CD19+/Bm/MZ | Freq&lt;U+FFFD&gt; of CD19+'</dd>\n",
       "\t<dt>$`Single Cells/Single Cells/live/Lymphocytes/CD19+/Bm/MZ | Freq&lt;U+FFFD&gt; of Lymphocytes`</dt>\n",
       "\t\t<dd>'Single Cells/Single Cells/live/Lymphocytes/CD19+/Bm/MZ | Freq&lt;U+FFFD&gt; of Lymphocytes'</dd>\n",
       "\t<dt>$`Single Cells/Single Cells/live/Lymphocytes/CD19+/Bm/smB | Freq&lt;U+FFFD&gt; of CD19+`</dt>\n",
       "\t\t<dd>'Single Cells/Single Cells/live/Lymphocytes/CD19+/Bm/smB | Freq&lt;U+FFFD&gt; of CD19+'</dd>\n",
       "\t<dt>$`Single Cells/Single Cells/live/Lymphocytes/CD19+/Bm/smB | Freq&lt;U+FFFD&gt; of Lymphocytes`</dt>\n",
       "\t\t<dd>'Single Cells/Single Cells/live/Lymphocytes/CD19+/Bm/smB | Freq&lt;U+FFFD&gt; of Lymphocytes'</dd>\n",
       "\t<dt>$`Single Cells/Single Cells/live/Lymphocytes/CD19+/Bm/smB/IgA+ smB | Freq&lt;U+FFFD&gt; of CD19+`</dt>\n",
       "\t\t<dd>'Single Cells/Single Cells/live/Lymphocytes/CD19+/Bm/smB/IgA+ smB | Freq&lt;U+FFFD&gt; of CD19+'</dd>\n",
       "\t<dt>$`Single Cells/Single Cells/live/Lymphocytes/CD19+/Bm/smB/IgG+ smB | Freq&lt;U+FFFD&gt; of CD19+`</dt>\n",
       "\t\t<dd>'Single Cells/Single Cells/live/Lymphocytes/CD19+/Bm/smB/IgG+ smB | Freq&lt;U+FFFD&gt; of CD19+'</dd>\n",
       "\t<dt>$`Single Cells/Single Cells/live/Lymphocytes/CD19+/PBs | Freq&lt;U+FFFD&gt; of CD19+`</dt>\n",
       "\t\t<dd>'Single Cells/Single Cells/live/Lymphocytes/CD19+/PBs | Freq&lt;U+FFFD&gt; of CD19+'</dd>\n",
       "\t<dt>$`Single Cells/Single Cells/live/Lymphocytes/CD19+/Trans-a | Freq&lt;U+FFFD&gt; of CD19+`</dt>\n",
       "\t\t<dd>'Single Cells/Single Cells/live/Lymphocytes/CD19+/Trans-a | Freq&lt;U+FFFD&gt; of CD19+'</dd>\n",
       "\t<dt>$`Single Cells/Single Cells/live/Lymphocytes/CD19+/Trans-b | Freq&lt;U+FFFD&gt; of CD19+`</dt>\n",
       "\t\t<dd>'Single Cells/Single Cells/live/Lymphocytes/CD19+/Trans-b | Freq&lt;U+FFFD&gt; of CD19+'</dd>\n",
       "\t<dt>$`Single Cells/Single Cells/live/Lymphocytes/CD19+/Trans-c | Freq&lt;U+FFFD&gt; of CD19+`</dt>\n",
       "\t\t<dd>'Single Cells/Single Cells/live/Lymphocytes/CD19+/Trans-c | Freq&lt;U+FFFD&gt; of CD19+'</dd>\n",
       "\t<dt>$`Single Cells/Single Cells/live/Lymphocytes/CD19+/Trans-d | Freq&lt;U+FFFD&gt; of CD19+`</dt>\n",
       "\t\t<dd>'Single Cells/Single Cells/live/Lymphocytes/CD19+/Trans-d | Freq&lt;U+FFFD&gt; of CD19+'</dd>\n",
       "\t<dt>$`Single Cells/Single Cells/live/Lymphocytes/CD4+ T cells/Exhausted | Freq&lt;U+FFFD&gt; of Parent`</dt>\n",
       "\t\t<dd>'Single Cells/Single Cells/live/Lymphocytes/CD4+ T cells/Exhausted | Freq&lt;U+FFFD&gt; of Parent'</dd>\n",
       "\t<dt>$`Single Cells/Single Cells/live/Lymphocytes/CD4+ T cells/non Treg/R5-/Th1-17 | Freq&lt;U+FFFD&gt; of CD4+ T cells`</dt>\n",
       "\t\t<dd>'Single Cells/Single Cells/live/Lymphocytes/CD4+ T cells/non Treg/R5-/Th1-17 | Freq&lt;U+FFFD&gt; of CD4+ T cells'</dd>\n",
       "\t<dt>$`Single Cells/Single Cells/live/Lymphocytes/CD4+ T cells/non Treg/R5-/Th1 | Freq&lt;U+FFFD&gt; of CD4+ T cells`</dt>\n",
       "\t\t<dd>'Single Cells/Single Cells/live/Lymphocytes/CD4+ T cells/non Treg/R5-/Th1 | Freq&lt;U+FFFD&gt; of CD4+ T cells'</dd>\n",
       "\t<dt>$`Single Cells/Single Cells/live/Lymphocytes/CD4+ T cells/non Treg/R5-/Th17 | Freq&lt;U+FFFD&gt; of CD4+ T cells`</dt>\n",
       "\t\t<dd>'Single Cells/Single Cells/live/Lymphocytes/CD4+ T cells/non Treg/R5-/Th17 | Freq&lt;U+FFFD&gt; of CD4+ T cells'</dd>\n",
       "\t<dt>$`Single Cells/Single Cells/live/Lymphocytes/CD4+ T cells/non Treg/R5-/Th2 | Freq&lt;U+FFFD&gt; of CD4+ T cells`</dt>\n",
       "\t\t<dd>'Single Cells/Single Cells/live/Lymphocytes/CD4+ T cells/non Treg/R5-/Th2 | Freq&lt;U+FFFD&gt; of CD4+ T cells'</dd>\n",
       "\t<dt>$`Single Cells/Single Cells/live/Lymphocytes/CD4+ T cells/non Treg/R5+/R5 Th1-17 | Freq&lt;U+FFFD&gt; of CD4+ T cells`</dt>\n",
       "\t\t<dd>'Single Cells/Single Cells/live/Lymphocytes/CD4+ T cells/non Treg/R5+/R5 Th1-17 | Freq&lt;U+FFFD&gt; of CD4+ T cells'</dd>\n",
       "\t<dt>$`Single Cells/Single Cells/live/Lymphocytes/CD4+ T cells/non Treg/R5+/R5 Th1 | Freq&lt;U+FFFD&gt; of CD4+ T cells`</dt>\n",
       "\t\t<dd>'Single Cells/Single Cells/live/Lymphocytes/CD4+ T cells/non Treg/R5+/R5 Th1 | Freq&lt;U+FFFD&gt; of CD4+ T cells'</dd>\n",
       "\t<dt>$`Single Cells/Single Cells/live/Lymphocytes/CD4+ T cells/non Treg/R5+/R5 Th17 | Freq&lt;U+FFFD&gt; of CD4+ T cells`</dt>\n",
       "\t\t<dd>'Single Cells/Single Cells/live/Lymphocytes/CD4+ T cells/non Treg/R5+/R5 Th17 | Freq&lt;U+FFFD&gt; of CD4+ T cells'</dd>\n",
       "\t<dt>$`Single Cells/Single Cells/live/Lymphocytes/CD4+ T cells/non Treg/R5+/R5 Th2 | Freq&lt;U+FFFD&gt; of CD4+ T cells`</dt>\n",
       "\t\t<dd>'Single Cells/Single Cells/live/Lymphocytes/CD4+ T cells/non Treg/R5+/R5 Th2 | Freq&lt;U+FFFD&gt; of CD4+ T cells'</dd>\n",
       "\t<dt>$`Single Cells/Single Cells/live/Lymphocytes/CD4+ T cells/non Treg/R5+/Tfh eff | Freq&lt;U+FFFD&gt; of CD4+ T cells`</dt>\n",
       "\t\t<dd>'Single Cells/Single Cells/live/Lymphocytes/CD4+ T cells/non Treg/R5+/Tfh eff | Freq&lt;U+FFFD&gt; of CD4+ T cells'</dd>\n",
       "\t<dt>$`Single Cells/Single Cells/live/Lymphocytes/CD4+ T cells/non Treg/R5+/Tfh eff | Freq&lt;U+FFFD&gt; of R5+`</dt>\n",
       "\t\t<dd>'Single Cells/Single Cells/live/Lymphocytes/CD4+ T cells/non Treg/R5+/Tfh eff | Freq&lt;U+FFFD&gt; of R5+'</dd>\n",
       "\t<dt>$`Single Cells/Single Cells/live/Lymphocytes/CD4+ T cells/non Treg/R5+/Tfh mem | Freq&lt;U+FFFD&gt; of CD4+ T cells`</dt>\n",
       "\t\t<dd>'Single Cells/Single Cells/live/Lymphocytes/CD4+ T cells/non Treg/R5+/Tfh mem | Freq&lt;U+FFFD&gt; of CD4+ T cells'</dd>\n",
       "\t<dt>$`Single Cells/Single Cells/live/Lymphocytes/CD4+ T cells/non Treg/R5+/Tfh mem | Freq&lt;U+FFFD&gt; of R5+`</dt>\n",
       "\t\t<dd>'Single Cells/Single Cells/live/Lymphocytes/CD4+ T cells/non Treg/R5+/Tfh mem | Freq&lt;U+FFFD&gt; of R5+'</dd>\n",
       "\t<dt>$`Single Cells/Single Cells/live/Lymphocytes/CD4+ T cells/Treg | Freq&lt;U+FFFD&gt; of CD4+ T cells`</dt>\n",
       "\t\t<dd>'Single Cells/Single Cells/live/Lymphocytes/CD4+ T cells/Treg | Freq&lt;U+FFFD&gt; of CD4+ T cells'</dd>\n",
       "\t<dt>$`singlets/Single Cells/live/Lymphocytes/CD3+ | Freq&lt;U+FFFD&gt; of Lymphocytes`</dt>\n",
       "\t\t<dd>'singlets/Single Cells/live/Lymphocytes/CD3+ | Freq&lt;U+FFFD&gt; of Lymphocytes'</dd>\n",
       "\t<dt>$`singlets/Single Cells/live/Lymphocytes/CD3+/CD4+ T cell | Freq&lt;U+FFFD&gt; of Lymphocytes`</dt>\n",
       "\t\t<dd>'singlets/Single Cells/live/Lymphocytes/CD3+/CD4+ T cell | Freq&lt;U+FFFD&gt; of Lymphocytes'</dd>\n",
       "\t<dt>$`singlets/Single Cells/live/Lymphocytes/CD3+/CD4+ T cell/Activated CD4+ T cells | Freq&lt;U+FFFD&gt; of CD4+ T cell`</dt>\n",
       "\t\t<dd>'singlets/Single Cells/live/Lymphocytes/CD3+/CD4+ T cell/Activated CD4+ T cells | Freq&lt;U+FFFD&gt; of CD4+ T cell'</dd>\n",
       "\t<dt>$`singlets/Single Cells/live/Lymphocytes/CD3+/CD4+ T cell/Naive | Freq&lt;U+FFFD&gt; of CD4+ T cell`</dt>\n",
       "\t\t<dd>'singlets/Single Cells/live/Lymphocytes/CD3+/CD4+ T cell/Naive | Freq&lt;U+FFFD&gt; of CD4+ T cell'</dd>\n",
       "\t<dt>$`singlets/Single Cells/live/Lymphocytes/CD3+/CD4+ T cell/TCM | Freq&lt;U+FFFD&gt; of CD4+ T cell`</dt>\n",
       "\t\t<dd>'singlets/Single Cells/live/Lymphocytes/CD3+/CD4+ T cell/TCM | Freq&lt;U+FFFD&gt; of CD4+ T cell'</dd>\n",
       "\t<dt>$`singlets/Single Cells/live/Lymphocytes/CD3+/CD4+ T cell/TEM | Freq&lt;U+FFFD&gt; of CD4+ T cell`</dt>\n",
       "\t\t<dd>'singlets/Single Cells/live/Lymphocytes/CD3+/CD4+ T cell/TEM | Freq&lt;U+FFFD&gt; of CD4+ T cell'</dd>\n",
       "\t<dt>$`singlets/Single Cells/live/Lymphocytes/CD3+/CD4+ T cell/TEMRA | Freq&lt;U+FFFD&gt; of CD4+ T cell`</dt>\n",
       "\t\t<dd>'singlets/Single Cells/live/Lymphocytes/CD3+/CD4+ T cell/TEMRA | Freq&lt;U+FFFD&gt; of CD4+ T cell'</dd>\n",
       "\t<dt>$`singlets/Single Cells/live/Lymphocytes/CD3+/CD8+ T cells | Freq&lt;U+FFFD&gt; of Lymphocytes`</dt>\n",
       "\t\t<dd>'singlets/Single Cells/live/Lymphocytes/CD3+/CD8+ T cells | Freq&lt;U+FFFD&gt; of Lymphocytes'</dd>\n",
       "\t<dt>$`singlets/Single Cells/live/Lymphocytes/CD3+/CD8+ T cells/Activated CD8+ T cell | Freq&lt;U+FFFD&gt; of CD8+ T cells`</dt>\n",
       "\t\t<dd>'singlets/Single Cells/live/Lymphocytes/CD3+/CD8+ T cells/Activated CD8+ T cell | Freq&lt;U+FFFD&gt; of CD8+ T cells'</dd>\n",
       "\t<dt>$`singlets/Single Cells/live/Lymphocytes/CD3+/CD8+ T cells/Naive | Freq&lt;U+FFFD&gt; of CD8+ T cells`</dt>\n",
       "\t\t<dd>'singlets/Single Cells/live/Lymphocytes/CD3+/CD8+ T cells/Naive | Freq&lt;U+FFFD&gt; of CD8+ T cells'</dd>\n",
       "\t<dt>$`singlets/Single Cells/live/Lymphocytes/CD3+/CD8+ T cells/TCM | Freq&lt;U+FFFD&gt; of CD8+ T cells`</dt>\n",
       "\t\t<dd>'singlets/Single Cells/live/Lymphocytes/CD3+/CD8+ T cells/TCM | Freq&lt;U+FFFD&gt; of CD8+ T cells'</dd>\n",
       "\t<dt>$`singlets/Single Cells/live/Lymphocytes/CD3+/CD8+ T cells/TEM | Freq&lt;U+FFFD&gt; of CD8+ T cells`</dt>\n",
       "\t\t<dd>'singlets/Single Cells/live/Lymphocytes/CD3+/CD8+ T cells/TEM | Freq&lt;U+FFFD&gt; of CD8+ T cells'</dd>\n",
       "\t<dt>$`singlets/Single Cells/live/Lymphocytes/CD3+/CD8+ T cells/TEMRA | Freq&lt;U+FFFD&gt; of CD8+ T cells`</dt>\n",
       "\t\t<dd>'singlets/Single Cells/live/Lymphocytes/CD3+/CD8+ T cells/TEMRA | Freq&lt;U+FFFD&gt; of CD8+ T cells'</dd>\n",
       "</dl>\n",
       "</dd>\n",
       "</dl>\n"
      ],
      "text/latex": [
       "\\begin{description}\n",
       "\\item[\\$APC] \\begin{description}\n",
       "\\item[\\$`CD16+ mDCs (\\%APC)`] 'CD16+ mDCs (\\%APC)'\n",
       "\\item[\\$`CD16neg mDCs (\\%APC)`] 'CD16neg mDCs (\\%APC)'\n",
       "\\item[\\$`Classical Monocytes(\\%APC)`] 'Classical Monocytes(\\%APC)'\n",
       "\\item[\\$`low density neutrophils (\\%APC)`] 'low density neutrophils (\\%APC)'\n",
       "\\item[\\$`mDC-CD16-<U+FFFD> (\\%APC)`] 'mDC-CD16-<U+FFFD> (\\%APC)'\n",
       "\\item[\\$`mDC-CD16+ (\\%APC)`] 'mDC-CD16+ (\\%APC)'\n",
       "\\item[\\$`mDCs (\\%APC)`] 'mDCs (\\%APC)'\n",
       "\\item[\\$`mDCs(\\%APC)`] 'mDCs(\\%APC)'\n",
       "\\item[\\$`Mono-class (\\%APC)`] 'Mono-class (\\%APC)'\n",
       "\\item[\\$`Mono-non-class (\\%APC)`] 'Mono-non-class (\\%APC)'\n",
       "\\item[\\$`non-classical monocytes (\\%APC)`] 'non-classical monocytes (\\%APC)'\n",
       "\\item[\\$`pDCs (\\%APC)`] 'pDCs (\\%APC)'\n",
       "\\end{description}\n",
       "\n",
       "\\item[\\$B] \\begin{description}\n",
       "\\item[\\$`Anergic B (\\%B)`] 'Anergic B (\\%B)'\n",
       "\\item[\\$`B-CD21lo (\\%B)`] 'B-CD21lo (\\%B)'\n",
       "\\item[\\$`B-mem (\\%B)`] 'B-mem (\\%B)'\n",
       "\\item[\\$`B-MZ (\\%B)`] 'B-MZ (\\%B)'\n",
       "\\item[\\$`B-SM-IgA (\\%B)`] 'B-SM-IgA (\\%B)'\n",
       "\\item[\\$`B-SM-IgG (\\%B)`] 'B-SM-IgG (\\%B)'\n",
       "\\item[\\$`B-SM (\\%B)`] 'B-SM (\\%B)'\n",
       "\\item[\\$`B-trans-b (\\%B)`] 'B-trans-b (\\%B)'\n",
       "\\item[\\$`Bm (\\%B)`] 'Bm (\\%B)'\n",
       "\\item[\\$`IgA smB (\\%B)`] 'IgA smB (\\%B)'\n",
       "\\item[\\$`IgG smB (\\%B)`] 'IgG smB (\\%B)'\n",
       "\\item[\\$`MZ B (\\%B)`] 'MZ B (\\%B)'\n",
       "\\item[\\$`PBs (\\%B)`] 'PBs (\\%B)'\n",
       "\\item[\\$`smB (\\%B)`] 'smB (\\%B)'\n",
       "\\item[\\$`Trans-a (\\%B)`] 'Trans-a (\\%B)'\n",
       "\\item[\\$`Trans-b (\\%B)`] 'Trans-b (\\%B)'\n",
       "\\item[\\$`Trans-c (\\%B)`] 'Trans-c (\\%B)'\n",
       "\\item[\\$`Trans-d (\\%B)`] 'Trans-d (\\%B)'\n",
       "\\end{description}\n",
       "\n",
       "\\item[\\$CD4] \\begin{description}\n",
       "\\item[\\$`Activated CD4+ T cells(\\% CD4)`] 'Activated CD4+ T cells(\\% CD4)'\n",
       "\\item[\\$`CD4-Act (\\%CD4)`] 'CD4-Act (\\%CD4)'\n",
       "\\item[\\$`CD4-Exh (\\%CD4)`] 'CD4-Exh (\\%CD4)'\n",
       "\\item[\\$`CD4-Naive (\\%CD4)`] 'CD4-Naive (\\%CD4)'\n",
       "\\item[\\$`CD4-TCM (\\%CD4)`] 'CD4-TCM (\\%CD4)'\n",
       "\\item[\\$`CD4-TEM (\\%CD4)`] 'CD4-TEM (\\%CD4)'\n",
       "\\item[\\$`CD4-TEMRA (\\%CD4)`] 'CD4-TEMRA (\\%CD4)'\n",
       "\\item[\\$`cTfh (\\%CD4)`] 'cTfh (\\%CD4)'\n",
       "\\item[\\$`Exhausted (\\%CD4)`] 'Exhausted (\\%CD4)'\n",
       "\\item[\\$`Naive (\\%CD4)`] 'Naive (\\%CD4)'\n",
       "\\item[\\$`R5-Th1 (\\%CD4)`] 'R5-Th1 (\\%CD4)'\n",
       "\\item[\\$`R5-Th1/17 (\\%CD4)`] 'R5-Th1/17 (\\%CD4)'\n",
       "\\item[\\$`R5-Th17 (\\%CD4)`] 'R5-Th17 (\\%CD4)'\n",
       "\\item[\\$`R5-Th2 (\\%CD4)`] 'R5-Th2 (\\%CD4)'\n",
       "\\item[\\$`R5 Th1-17 (\\%CD4)`] 'R5 Th1-17 (\\%CD4)'\n",
       "\\item[\\$`R5 Th1 (\\%CD4)`] 'R5 Th1 (\\%CD4)'\n",
       "\\item[\\$`R5 Th17 (\\%CD4)`] 'R5 Th17 (\\%CD4)'\n",
       "\\item[\\$`R5 Th2 (\\%CD4)`] 'R5 Th2 (\\%CD4)'\n",
       "\\item[\\$`TCM (\\%CD4)`] 'TCM (\\%CD4)'\n",
       "\\item[\\$`TEM (\\% CD4)`] 'TEM (\\% CD4)'\n",
       "\\item[\\$`TEMRA (\\% CD4)`] 'TEMRA (\\% CD4)'\n",
       "\\item[\\$`Tfh-eff (\\%CD4)`] 'Tfh-eff (\\%CD4)'\n",
       "\\item[\\$`Tfh-mem (\\%CD4)`] 'Tfh-mem (\\%CD4)'\n",
       "\\item[\\$`Tfh (\\%CD4)`] 'Tfh (\\%CD4)'\n",
       "\\item[\\$`Tfh effector (\\%CD4)`] 'Tfh effector (\\%CD4)'\n",
       "\\item[\\$`Tfh memory (CD4\\%)`] 'Tfh memory (CD4\\%)'\n",
       "\\item[\\$`Th1-17 (\\%CD4)`] 'Th1-17 (\\%CD4)'\n",
       "\\item[\\$`Th1-17 (CD4)`] 'Th1-17 (CD4)'\n",
       "\\item[\\$`Th1 (\\%CD4)`] 'Th1 (\\%CD4)'\n",
       "\\item[\\$`Th17 (\\%CD4)`] 'Th17 (\\%CD4)'\n",
       "\\item[\\$`Th2 (\\%CD4)`] 'Th2 (\\%CD4)'\n",
       "\\item[\\$`Th2 (CD4)`] 'Th2 (CD4)'\n",
       "\\item[\\$`Treg (\\%CD4)`] 'Treg (\\%CD4)'\n",
       "\\end{description}\n",
       "\n",
       "\\item[\\$CD8] \\begin{description}\n",
       "\\item[\\$`Activated CD8+ T cells (\\% CD8)`] 'Activated CD8+ T cells (\\% CD8)'\n",
       "\\item[\\$`CD8-Act (\\%CD8)`] 'CD8-Act (\\%CD8)'\n",
       "\\item[\\$`CD8-Naive (\\%CD8)`] 'CD8-Naive (\\%CD8)'\n",
       "\\item[\\$`CD8-TCM (\\%CD8)`] 'CD8-TCM (\\%CD8)'\n",
       "\\item[\\$`CD8-TEM (\\%CD8)`] 'CD8-TEM (\\%CD8)'\n",
       "\\item[\\$`CD8-TEMRA (\\%CD8)`] 'CD8-TEMRA (\\%CD8)'\n",
       "\\item[\\$`Na<U+FFFD>ve (\\% CD8)`] 'Na<U+FFFD>ve (\\% CD8)'\n",
       "\\item[\\$`TCM (\\% CD8)`] 'TCM (\\% CD8)'\n",
       "\\item[\\$`TEM (\\% CD8)`] 'TEM (\\% CD8)'\n",
       "\\item[\\$`TEMRA (\\% CD8)`] 'TEMRA (\\% CD8)'\n",
       "\\end{description}\n",
       "\n",
       "\\item[\\$CXCR5] \\begin{description}\n",
       "\\item[\\$`Tfh-eff (\\%CXCR5)`] 'Tfh-eff (\\%CXCR5)'\n",
       "\\item[\\$`Tfh-mem (\\%CXCR5)`] 'Tfh-mem (\\%CXCR5)'\n",
       "\\item[\\$`Tfh effector (\\%CXCR5)`] 'Tfh effector (\\%CXCR5)'\n",
       "\\item[\\$`Tfh memory (\\%CXCR5)`] 'Tfh memory (\\%CXCR5)'\n",
       "\\end{description}\n",
       "\n",
       "\\item[\\$LC] \\begin{description}\n",
       "\\item[\\$`c(\"B-mem (\\%LC)\", \"B-MZ (\\%LC)\", \"B-SM (\\%LC)\", \"CD19 (\\%LC)\", \"CD3 (\\%LCs)\", \"CD4 (\\%LCs)\", \"CD8 (\\%LC)\", \"NK- 1 (\\%LC)\", \"NK-2 (\\%LC)\", \"NK-3 (\\%LC)\", \"NK-4 (\\%LC)\", \"NK (\\%LC)\")`] 'B-mem (\\%LC)'\n",
       "\\item[\\$<NA>] 'B-MZ (\\%LC)'\n",
       "\\item[\\$<NA>] 'B-SM (\\%LC)'\n",
       "\\item[\\$<NA>] 'CD19 (\\%LC)'\n",
       "\\item[\\$<NA>] 'CD3 (\\%LCs)'\n",
       "\\item[\\$<NA>] 'CD4 (\\%LCs)'\n",
       "\\item[\\$<NA>] 'CD8 (\\%LC)'\n",
       "\\item[\\$<NA>] 'NK- 1 (\\%LC)'\n",
       "\\item[\\$<NA>] 'NK-2 (\\%LC)'\n",
       "\\item[\\$<NA>] 'NK-3 (\\%LC)'\n",
       "\\item[\\$<NA>] 'NK-4 (\\%LC)'\n",
       "\\item[\\$<NA>] 'NK (\\%LC)'\n",
       "\\end{description}\n",
       "\n",
       "\\item[\\$`Lymphocytes/live`] \\begin{description}\n",
       "\\item[\\$`B cells (\\%Lymphocytes/live)`] 'B cells (\\%Lymphocytes/live)'\n",
       "\\item[\\$`Bm (\\%Lymphocytes/live)`] 'Bm (\\%Lymphocytes/live)'\n",
       "\\item[\\$`CD3 T cells (\\% Lymphocytes/live)`] 'CD3 T cells (\\% Lymphocytes/live)'\n",
       "\\item[\\$`CD4+ T cells (\\%Lymphocytes/live)`] 'CD4+ T cells (\\%Lymphocytes/live)'\n",
       "\\item[\\$`CD8+ T cells (\\% of Lymphocytes/live)`] 'CD8+ T cells (\\% of Lymphocytes/live)'\n",
       "\\item[\\$`MZ B (\\%Lymphocytes/live)`] 'MZ B (\\%Lymphocytes/live)'\n",
       "\\item[\\$`smB (\\%Lymphocytes/live)`] 'smB (\\%Lymphocytes/live)'\n",
       "\\end{description}\n",
       "\n",
       "\\item[\\$Other] \\begin{description}\n",
       "\\item[\\$`Single Cells/Single Cells/live/LC and Mono/LC/non BT/CD15neg/NK 1 \\textbar{} Freq<U+FFFD> of LC`] 'Single Cells/Single Cells/live/LC and Mono/LC/non BT/CD15neg/NK 1 \\textbar{} Freq<U+FFFD> of LC'\n",
       "\\item[\\$`Single Cells/Single Cells/live/LC and Mono/LC/non BT/CD15neg/NK 2 \\textbar{} Freq<U+FFFD> of LC`] 'Single Cells/Single Cells/live/LC and Mono/LC/non BT/CD15neg/NK 2 \\textbar{} Freq<U+FFFD> of LC'\n",
       "\\item[\\$`Single Cells/Single Cells/live/LC and Mono/LC/non BT/CD15neg/Nk 3 \\textbar{} Freq<U+FFFD> of LC`] 'Single Cells/Single Cells/live/LC and Mono/LC/non BT/CD15neg/Nk 3 \\textbar{} Freq<U+FFFD> of LC'\n",
       "\\item[\\$`Single Cells/Single Cells/live/LC and Mono/LC/non BT/CD15neg/NK 4 \\textbar{} Freq<U+FFFD> of LC`] 'Single Cells/Single Cells/live/LC and Mono/LC/non BT/CD15neg/NK 4 \\textbar{} Freq<U+FFFD> of LC'\n",
       "\\item[\\$`Single Cells/Single Cells/live/LC and Mono/non BT/CD56-/APC/Classical monocytes \\textbar{} Freq<U+FFFD> of APC`] 'Single Cells/Single Cells/live/LC and Mono/non BT/CD56-/APC/Classical monocytes \\textbar{} Freq<U+FFFD> of APC'\n",
       "\\item[\\$`Single Cells/Single Cells/live/LC and Mono/non BT/CD56-/APC/DC/mDC \\textbar{} Freq<U+FFFD> of APC`] 'Single Cells/Single Cells/live/LC and Mono/non BT/CD56-/APC/DC/mDC \\textbar{} Freq<U+FFFD> of APC'\n",
       "\\item[\\$`Single Cells/Single Cells/live/LC and Mono/non BT/CD56-/APC/DC/mDC/CD16- mDC \\textbar{} Freq<U+FFFD> of APC`] 'Single Cells/Single Cells/live/LC and Mono/non BT/CD56-/APC/DC/mDC/CD16- mDC \\textbar{} Freq<U+FFFD> of APC'\n",
       "\\item[\\$`Single Cells/Single Cells/live/LC and Mono/non BT/CD56-/APC/DC/mDC/CD16+ mDC \\textbar{} Freq<U+FFFD> of APC`] 'Single Cells/Single Cells/live/LC and Mono/non BT/CD56-/APC/DC/mDC/CD16+ mDC \\textbar{} Freq<U+FFFD> of APC'\n",
       "\\item[\\$`Single Cells/Single Cells/live/LC and Mono/non BT/CD56-/APC/DC/pDC \\textbar{} Freq<U+FFFD> of APC`] 'Single Cells/Single Cells/live/LC and Mono/non BT/CD56-/APC/DC/pDC \\textbar{} Freq<U+FFFD> of APC'\n",
       "\\item[\\$`Single Cells/Single Cells/live/LC and Mono/non BT/CD56-/APC/LDN \\textbar{} Freq<U+FFFD> of APC`] 'Single Cells/Single Cells/live/LC and Mono/non BT/CD56-/APC/LDN \\textbar{} Freq<U+FFFD> of APC'\n",
       "\\item[\\$`Single Cells/Single Cells/live/LC and Mono/non BT/CD56-/APC/non-classical monocytes \\textbar{} Freq<U+FFFD> of APC`] 'Single Cells/Single Cells/live/LC and Mono/non BT/CD56-/APC/non-classical monocytes \\textbar{} Freq<U+FFFD> of APC'\n",
       "\\item[\\$`Single Cells/Single Cells/live/Lymphocytes/CD19+ \\textbar{} Freq<U+FFFD> of Lymphocytes`] 'Single Cells/Single Cells/live/Lymphocytes/CD19+ \\textbar{} Freq<U+FFFD> of Lymphocytes'\n",
       "\\item[\\$`Single Cells/Single Cells/live/Lymphocytes/CD19+/Anergic \\textbar{} Freq<U+FFFD> of CD19+`] 'Single Cells/Single Cells/live/Lymphocytes/CD19+/Anergic \\textbar{} Freq<U+FFFD> of CD19+'\n",
       "\\item[\\$`Single Cells/Single Cells/live/Lymphocytes/CD19+/Bm \\textbar{} Freq<U+FFFD> of CD19+`] 'Single Cells/Single Cells/live/Lymphocytes/CD19+/Bm \\textbar{} Freq<U+FFFD> of CD19+'\n",
       "\\item[\\$`Single Cells/Single Cells/live/Lymphocytes/CD19+/Bm \\textbar{} Freq<U+FFFD> of Lymphocytes`] 'Single Cells/Single Cells/live/Lymphocytes/CD19+/Bm \\textbar{} Freq<U+FFFD> of Lymphocytes'\n",
       "\\item[\\$`Single Cells/Single Cells/live/Lymphocytes/CD19+/Bm/MZ \\textbar{} Freq<U+FFFD> of CD19+`] 'Single Cells/Single Cells/live/Lymphocytes/CD19+/Bm/MZ \\textbar{} Freq<U+FFFD> of CD19+'\n",
       "\\item[\\$`Single Cells/Single Cells/live/Lymphocytes/CD19+/Bm/MZ \\textbar{} Freq<U+FFFD> of Lymphocytes`] 'Single Cells/Single Cells/live/Lymphocytes/CD19+/Bm/MZ \\textbar{} Freq<U+FFFD> of Lymphocytes'\n",
       "\\item[\\$`Single Cells/Single Cells/live/Lymphocytes/CD19+/Bm/smB \\textbar{} Freq<U+FFFD> of CD19+`] 'Single Cells/Single Cells/live/Lymphocytes/CD19+/Bm/smB \\textbar{} Freq<U+FFFD> of CD19+'\n",
       "\\item[\\$`Single Cells/Single Cells/live/Lymphocytes/CD19+/Bm/smB \\textbar{} Freq<U+FFFD> of Lymphocytes`] 'Single Cells/Single Cells/live/Lymphocytes/CD19+/Bm/smB \\textbar{} Freq<U+FFFD> of Lymphocytes'\n",
       "\\item[\\$`Single Cells/Single Cells/live/Lymphocytes/CD19+/Bm/smB/IgA+ smB \\textbar{} Freq<U+FFFD> of CD19+`] 'Single Cells/Single Cells/live/Lymphocytes/CD19+/Bm/smB/IgA+ smB \\textbar{} Freq<U+FFFD> of CD19+'\n",
       "\\item[\\$`Single Cells/Single Cells/live/Lymphocytes/CD19+/Bm/smB/IgG+ smB \\textbar{} Freq<U+FFFD> of CD19+`] 'Single Cells/Single Cells/live/Lymphocytes/CD19+/Bm/smB/IgG+ smB \\textbar{} Freq<U+FFFD> of CD19+'\n",
       "\\item[\\$`Single Cells/Single Cells/live/Lymphocytes/CD19+/PBs \\textbar{} Freq<U+FFFD> of CD19+`] 'Single Cells/Single Cells/live/Lymphocytes/CD19+/PBs \\textbar{} Freq<U+FFFD> of CD19+'\n",
       "\\item[\\$`Single Cells/Single Cells/live/Lymphocytes/CD19+/Trans-a \\textbar{} Freq<U+FFFD> of CD19+`] 'Single Cells/Single Cells/live/Lymphocytes/CD19+/Trans-a \\textbar{} Freq<U+FFFD> of CD19+'\n",
       "\\item[\\$`Single Cells/Single Cells/live/Lymphocytes/CD19+/Trans-b \\textbar{} Freq<U+FFFD> of CD19+`] 'Single Cells/Single Cells/live/Lymphocytes/CD19+/Trans-b \\textbar{} Freq<U+FFFD> of CD19+'\n",
       "\\item[\\$`Single Cells/Single Cells/live/Lymphocytes/CD19+/Trans-c \\textbar{} Freq<U+FFFD> of CD19+`] 'Single Cells/Single Cells/live/Lymphocytes/CD19+/Trans-c \\textbar{} Freq<U+FFFD> of CD19+'\n",
       "\\item[\\$`Single Cells/Single Cells/live/Lymphocytes/CD19+/Trans-d \\textbar{} Freq<U+FFFD> of CD19+`] 'Single Cells/Single Cells/live/Lymphocytes/CD19+/Trans-d \\textbar{} Freq<U+FFFD> of CD19+'\n",
       "\\item[\\$`Single Cells/Single Cells/live/Lymphocytes/CD4+ T cells/Exhausted \\textbar{} Freq<U+FFFD> of Parent`] 'Single Cells/Single Cells/live/Lymphocytes/CD4+ T cells/Exhausted \\textbar{} Freq<U+FFFD> of Parent'\n",
       "\\item[\\$`Single Cells/Single Cells/live/Lymphocytes/CD4+ T cells/non Treg/R5-/Th1-17 \\textbar{} Freq<U+FFFD> of CD4+ T cells`] 'Single Cells/Single Cells/live/Lymphocytes/CD4+ T cells/non Treg/R5-/Th1-17 \\textbar{} Freq<U+FFFD> of CD4+ T cells'\n",
       "\\item[\\$`Single Cells/Single Cells/live/Lymphocytes/CD4+ T cells/non Treg/R5-/Th1 \\textbar{} Freq<U+FFFD> of CD4+ T cells`] 'Single Cells/Single Cells/live/Lymphocytes/CD4+ T cells/non Treg/R5-/Th1 \\textbar{} Freq<U+FFFD> of CD4+ T cells'\n",
       "\\item[\\$`Single Cells/Single Cells/live/Lymphocytes/CD4+ T cells/non Treg/R5-/Th17 \\textbar{} Freq<U+FFFD> of CD4+ T cells`] 'Single Cells/Single Cells/live/Lymphocytes/CD4+ T cells/non Treg/R5-/Th17 \\textbar{} Freq<U+FFFD> of CD4+ T cells'\n",
       "\\item[\\$`Single Cells/Single Cells/live/Lymphocytes/CD4+ T cells/non Treg/R5-/Th2 \\textbar{} Freq<U+FFFD> of CD4+ T cells`] 'Single Cells/Single Cells/live/Lymphocytes/CD4+ T cells/non Treg/R5-/Th2 \\textbar{} Freq<U+FFFD> of CD4+ T cells'\n",
       "\\item[\\$`Single Cells/Single Cells/live/Lymphocytes/CD4+ T cells/non Treg/R5+/R5 Th1-17 \\textbar{} Freq<U+FFFD> of CD4+ T cells`] 'Single Cells/Single Cells/live/Lymphocytes/CD4+ T cells/non Treg/R5+/R5 Th1-17 \\textbar{} Freq<U+FFFD> of CD4+ T cells'\n",
       "\\item[\\$`Single Cells/Single Cells/live/Lymphocytes/CD4+ T cells/non Treg/R5+/R5 Th1 \\textbar{} Freq<U+FFFD> of CD4+ T cells`] 'Single Cells/Single Cells/live/Lymphocytes/CD4+ T cells/non Treg/R5+/R5 Th1 \\textbar{} Freq<U+FFFD> of CD4+ T cells'\n",
       "\\item[\\$`Single Cells/Single Cells/live/Lymphocytes/CD4+ T cells/non Treg/R5+/R5 Th17 \\textbar{} Freq<U+FFFD> of CD4+ T cells`] 'Single Cells/Single Cells/live/Lymphocytes/CD4+ T cells/non Treg/R5+/R5 Th17 \\textbar{} Freq<U+FFFD> of CD4+ T cells'\n",
       "\\item[\\$`Single Cells/Single Cells/live/Lymphocytes/CD4+ T cells/non Treg/R5+/R5 Th2 \\textbar{} Freq<U+FFFD> of CD4+ T cells`] 'Single Cells/Single Cells/live/Lymphocytes/CD4+ T cells/non Treg/R5+/R5 Th2 \\textbar{} Freq<U+FFFD> of CD4+ T cells'\n",
       "\\item[\\$`Single Cells/Single Cells/live/Lymphocytes/CD4+ T cells/non Treg/R5+/Tfh eff \\textbar{} Freq<U+FFFD> of CD4+ T cells`] 'Single Cells/Single Cells/live/Lymphocytes/CD4+ T cells/non Treg/R5+/Tfh eff \\textbar{} Freq<U+FFFD> of CD4+ T cells'\n",
       "\\item[\\$`Single Cells/Single Cells/live/Lymphocytes/CD4+ T cells/non Treg/R5+/Tfh eff \\textbar{} Freq<U+FFFD> of R5+`] 'Single Cells/Single Cells/live/Lymphocytes/CD4+ T cells/non Treg/R5+/Tfh eff \\textbar{} Freq<U+FFFD> of R5+'\n",
       "\\item[\\$`Single Cells/Single Cells/live/Lymphocytes/CD4+ T cells/non Treg/R5+/Tfh mem \\textbar{} Freq<U+FFFD> of CD4+ T cells`] 'Single Cells/Single Cells/live/Lymphocytes/CD4+ T cells/non Treg/R5+/Tfh mem \\textbar{} Freq<U+FFFD> of CD4+ T cells'\n",
       "\\item[\\$`Single Cells/Single Cells/live/Lymphocytes/CD4+ T cells/non Treg/R5+/Tfh mem \\textbar{} Freq<U+FFFD> of R5+`] 'Single Cells/Single Cells/live/Lymphocytes/CD4+ T cells/non Treg/R5+/Tfh mem \\textbar{} Freq<U+FFFD> of R5+'\n",
       "\\item[\\$`Single Cells/Single Cells/live/Lymphocytes/CD4+ T cells/Treg \\textbar{} Freq<U+FFFD> of CD4+ T cells`] 'Single Cells/Single Cells/live/Lymphocytes/CD4+ T cells/Treg \\textbar{} Freq<U+FFFD> of CD4+ T cells'\n",
       "\\item[\\$`singlets/Single Cells/live/Lymphocytes/CD3+ \\textbar{} Freq<U+FFFD> of Lymphocytes`] 'singlets/Single Cells/live/Lymphocytes/CD3+ \\textbar{} Freq<U+FFFD> of Lymphocytes'\n",
       "\\item[\\$`singlets/Single Cells/live/Lymphocytes/CD3+/CD4+ T cell \\textbar{} Freq<U+FFFD> of Lymphocytes`] 'singlets/Single Cells/live/Lymphocytes/CD3+/CD4+ T cell \\textbar{} Freq<U+FFFD> of Lymphocytes'\n",
       "\\item[\\$`singlets/Single Cells/live/Lymphocytes/CD3+/CD4+ T cell/Activated CD4+ T cells \\textbar{} Freq<U+FFFD> of CD4+ T cell`] 'singlets/Single Cells/live/Lymphocytes/CD3+/CD4+ T cell/Activated CD4+ T cells \\textbar{} Freq<U+FFFD> of CD4+ T cell'\n",
       "\\item[\\$`singlets/Single Cells/live/Lymphocytes/CD3+/CD4+ T cell/Naive \\textbar{} Freq<U+FFFD> of CD4+ T cell`] 'singlets/Single Cells/live/Lymphocytes/CD3+/CD4+ T cell/Naive \\textbar{} Freq<U+FFFD> of CD4+ T cell'\n",
       "\\item[\\$`singlets/Single Cells/live/Lymphocytes/CD3+/CD4+ T cell/TCM \\textbar{} Freq<U+FFFD> of CD4+ T cell`] 'singlets/Single Cells/live/Lymphocytes/CD3+/CD4+ T cell/TCM \\textbar{} Freq<U+FFFD> of CD4+ T cell'\n",
       "\\item[\\$`singlets/Single Cells/live/Lymphocytes/CD3+/CD4+ T cell/TEM \\textbar{} Freq<U+FFFD> of CD4+ T cell`] 'singlets/Single Cells/live/Lymphocytes/CD3+/CD4+ T cell/TEM \\textbar{} Freq<U+FFFD> of CD4+ T cell'\n",
       "\\item[\\$`singlets/Single Cells/live/Lymphocytes/CD3+/CD4+ T cell/TEMRA \\textbar{} Freq<U+FFFD> of CD4+ T cell`] 'singlets/Single Cells/live/Lymphocytes/CD3+/CD4+ T cell/TEMRA \\textbar{} Freq<U+FFFD> of CD4+ T cell'\n",
       "\\item[\\$`singlets/Single Cells/live/Lymphocytes/CD3+/CD8+ T cells \\textbar{} Freq<U+FFFD> of Lymphocytes`] 'singlets/Single Cells/live/Lymphocytes/CD3+/CD8+ T cells \\textbar{} Freq<U+FFFD> of Lymphocytes'\n",
       "\\item[\\$`singlets/Single Cells/live/Lymphocytes/CD3+/CD8+ T cells/Activated CD8+ T cell \\textbar{} Freq<U+FFFD> of CD8+ T cells`] 'singlets/Single Cells/live/Lymphocytes/CD3+/CD8+ T cells/Activated CD8+ T cell \\textbar{} Freq<U+FFFD> of CD8+ T cells'\n",
       "\\item[\\$`singlets/Single Cells/live/Lymphocytes/CD3+/CD8+ T cells/Naive \\textbar{} Freq<U+FFFD> of CD8+ T cells`] 'singlets/Single Cells/live/Lymphocytes/CD3+/CD8+ T cells/Naive \\textbar{} Freq<U+FFFD> of CD8+ T cells'\n",
       "\\item[\\$`singlets/Single Cells/live/Lymphocytes/CD3+/CD8+ T cells/TCM \\textbar{} Freq<U+FFFD> of CD8+ T cells`] 'singlets/Single Cells/live/Lymphocytes/CD3+/CD8+ T cells/TCM \\textbar{} Freq<U+FFFD> of CD8+ T cells'\n",
       "\\item[\\$`singlets/Single Cells/live/Lymphocytes/CD3+/CD8+ T cells/TEM \\textbar{} Freq<U+FFFD> of CD8+ T cells`] 'singlets/Single Cells/live/Lymphocytes/CD3+/CD8+ T cells/TEM \\textbar{} Freq<U+FFFD> of CD8+ T cells'\n",
       "\\item[\\$`singlets/Single Cells/live/Lymphocytes/CD3+/CD8+ T cells/TEMRA \\textbar{} Freq<U+FFFD> of CD8+ T cells`] 'singlets/Single Cells/live/Lymphocytes/CD3+/CD8+ T cells/TEMRA \\textbar{} Freq<U+FFFD> of CD8+ T cells'\n",
       "\\end{description}\n",
       "\n",
       "\\end{description}\n"
      ],
      "text/markdown": [
       "$APC\n",
       ":   $`CD16+ mDCs (%APC)`\n",
       ":   'CD16+ mDCs (%APC)'\n",
       "$`CD16neg mDCs (%APC)`\n",
       ":   'CD16neg mDCs (%APC)'\n",
       "$`Classical Monocytes(%APC)`\n",
       ":   'Classical Monocytes(%APC)'\n",
       "$`low density neutrophils (%APC)`\n",
       ":   'low density neutrophils (%APC)'\n",
       "$`mDC-CD16-&lt;U+FFFD&gt; (%APC)`\n",
       ":   'mDC-CD16-&lt;U+FFFD&gt; (%APC)'\n",
       "$`mDC-CD16+ (%APC)`\n",
       ":   'mDC-CD16+ (%APC)'\n",
       "$`mDCs (%APC)`\n",
       ":   'mDCs (%APC)'\n",
       "$`mDCs(%APC)`\n",
       ":   'mDCs(%APC)'\n",
       "$`Mono-class (%APC)`\n",
       ":   'Mono-class (%APC)'\n",
       "$`Mono-non-class (%APC)`\n",
       ":   'Mono-non-class (%APC)'\n",
       "$`non-classical monocytes (%APC)`\n",
       ":   'non-classical monocytes (%APC)'\n",
       "$`pDCs (%APC)`\n",
       ":   'pDCs (%APC)'\n",
       "\n",
       "\n",
       "\n",
       "$B\n",
       ":   $`Anergic B (%B)`\n",
       ":   'Anergic B (%B)'\n",
       "$`B-CD21lo (%B)`\n",
       ":   'B-CD21lo (%B)'\n",
       "$`B-mem (%B)`\n",
       ":   'B-mem (%B)'\n",
       "$`B-MZ (%B)`\n",
       ":   'B-MZ (%B)'\n",
       "$`B-SM-IgA (%B)`\n",
       ":   'B-SM-IgA (%B)'\n",
       "$`B-SM-IgG (%B)`\n",
       ":   'B-SM-IgG (%B)'\n",
       "$`B-SM (%B)`\n",
       ":   'B-SM (%B)'\n",
       "$`B-trans-b (%B)`\n",
       ":   'B-trans-b (%B)'\n",
       "$`Bm (%B)`\n",
       ":   'Bm (%B)'\n",
       "$`IgA smB (%B)`\n",
       ":   'IgA smB (%B)'\n",
       "$`IgG smB (%B)`\n",
       ":   'IgG smB (%B)'\n",
       "$`MZ B (%B)`\n",
       ":   'MZ B (%B)'\n",
       "$`PBs (%B)`\n",
       ":   'PBs (%B)'\n",
       "$`smB (%B)`\n",
       ":   'smB (%B)'\n",
       "$`Trans-a (%B)`\n",
       ":   'Trans-a (%B)'\n",
       "$`Trans-b (%B)`\n",
       ":   'Trans-b (%B)'\n",
       "$`Trans-c (%B)`\n",
       ":   'Trans-c (%B)'\n",
       "$`Trans-d (%B)`\n",
       ":   'Trans-d (%B)'\n",
       "\n",
       "\n",
       "\n",
       "$CD4\n",
       ":   $`Activated CD4+ T cells(% CD4)`\n",
       ":   'Activated CD4+ T cells(% CD4)'\n",
       "$`CD4-Act (%CD4)`\n",
       ":   'CD4-Act (%CD4)'\n",
       "$`CD4-Exh (%CD4)`\n",
       ":   'CD4-Exh (%CD4)'\n",
       "$`CD4-Naive (%CD4)`\n",
       ":   'CD4-Naive (%CD4)'\n",
       "$`CD4-TCM (%CD4)`\n",
       ":   'CD4-TCM (%CD4)'\n",
       "$`CD4-TEM (%CD4)`\n",
       ":   'CD4-TEM (%CD4)'\n",
       "$`CD4-TEMRA (%CD4)`\n",
       ":   'CD4-TEMRA (%CD4)'\n",
       "$`cTfh (%CD4)`\n",
       ":   'cTfh (%CD4)'\n",
       "$`Exhausted (%CD4)`\n",
       ":   'Exhausted (%CD4)'\n",
       "$`Naive (%CD4)`\n",
       ":   'Naive (%CD4)'\n",
       "$`R5-Th1 (%CD4)`\n",
       ":   'R5-Th1 (%CD4)'\n",
       "$`R5-Th1/17 (%CD4)`\n",
       ":   'R5-Th1/17 (%CD4)'\n",
       "$`R5-Th17 (%CD4)`\n",
       ":   'R5-Th17 (%CD4)'\n",
       "$`R5-Th2 (%CD4)`\n",
       ":   'R5-Th2 (%CD4)'\n",
       "$`R5 Th1-17 (%CD4)`\n",
       ":   'R5 Th1-17 (%CD4)'\n",
       "$`R5 Th1 (%CD4)`\n",
       ":   'R5 Th1 (%CD4)'\n",
       "$`R5 Th17 (%CD4)`\n",
       ":   'R5 Th17 (%CD4)'\n",
       "$`R5 Th2 (%CD4)`\n",
       ":   'R5 Th2 (%CD4)'\n",
       "$`TCM (%CD4)`\n",
       ":   'TCM (%CD4)'\n",
       "$`TEM (% CD4)`\n",
       ":   'TEM (% CD4)'\n",
       "$`TEMRA (% CD4)`\n",
       ":   'TEMRA (% CD4)'\n",
       "$`Tfh-eff (%CD4)`\n",
       ":   'Tfh-eff (%CD4)'\n",
       "$`Tfh-mem (%CD4)`\n",
       ":   'Tfh-mem (%CD4)'\n",
       "$`Tfh (%CD4)`\n",
       ":   'Tfh (%CD4)'\n",
       "$`Tfh effector (%CD4)`\n",
       ":   'Tfh effector (%CD4)'\n",
       "$`Tfh memory (CD4%)`\n",
       ":   'Tfh memory (CD4%)'\n",
       "$`Th1-17 (%CD4)`\n",
       ":   'Th1-17 (%CD4)'\n",
       "$`Th1-17 (CD4)`\n",
       ":   'Th1-17 (CD4)'\n",
       "$`Th1 (%CD4)`\n",
       ":   'Th1 (%CD4)'\n",
       "$`Th17 (%CD4)`\n",
       ":   'Th17 (%CD4)'\n",
       "$`Th2 (%CD4)`\n",
       ":   'Th2 (%CD4)'\n",
       "$`Th2 (CD4)`\n",
       ":   'Th2 (CD4)'\n",
       "$`Treg (%CD4)`\n",
       ":   'Treg (%CD4)'\n",
       "\n",
       "\n",
       "\n",
       "$CD8\n",
       ":   $`Activated CD8+ T cells (% CD8)`\n",
       ":   'Activated CD8+ T cells (% CD8)'\n",
       "$`CD8-Act (%CD8)`\n",
       ":   'CD8-Act (%CD8)'\n",
       "$`CD8-Naive (%CD8)`\n",
       ":   'CD8-Naive (%CD8)'\n",
       "$`CD8-TCM (%CD8)`\n",
       ":   'CD8-TCM (%CD8)'\n",
       "$`CD8-TEM (%CD8)`\n",
       ":   'CD8-TEM (%CD8)'\n",
       "$`CD8-TEMRA (%CD8)`\n",
       ":   'CD8-TEMRA (%CD8)'\n",
       "$`Na&lt;U+FFFD&gt;ve (% CD8)`\n",
       ":   'Na&lt;U+FFFD&gt;ve (% CD8)'\n",
       "$`TCM (% CD8)`\n",
       ":   'TCM (% CD8)'\n",
       "$`TEM (% CD8)`\n",
       ":   'TEM (% CD8)'\n",
       "$`TEMRA (% CD8)`\n",
       ":   'TEMRA (% CD8)'\n",
       "\n",
       "\n",
       "\n",
       "$CXCR5\n",
       ":   $`Tfh-eff (%CXCR5)`\n",
       ":   'Tfh-eff (%CXCR5)'\n",
       "$`Tfh-mem (%CXCR5)`\n",
       ":   'Tfh-mem (%CXCR5)'\n",
       "$`Tfh effector (%CXCR5)`\n",
       ":   'Tfh effector (%CXCR5)'\n",
       "$`Tfh memory (%CXCR5)`\n",
       ":   'Tfh memory (%CXCR5)'\n",
       "\n",
       "\n",
       "\n",
       "$LC\n",
       ":   $`c(\"B-mem (%LC)\", \"B-MZ (%LC)\", \"B-SM (%LC)\", \"CD19 (%LC)\", \"CD3 (%LCs)\", \"CD4 (%LCs)\", \"CD8 (%LC)\", \"NK- 1 (%LC)\", \"NK-2 (%LC)\", \"NK-3 (%LC)\", \"NK-4 (%LC)\", \"NK (%LC)\")`\n",
       ":   'B-mem (%LC)'\n",
       "$&lt;NA&gt;\n",
       ":   'B-MZ (%LC)'\n",
       "$&lt;NA&gt;\n",
       ":   'B-SM (%LC)'\n",
       "$&lt;NA&gt;\n",
       ":   'CD19 (%LC)'\n",
       "$&lt;NA&gt;\n",
       ":   'CD3 (%LCs)'\n",
       "$&lt;NA&gt;\n",
       ":   'CD4 (%LCs)'\n",
       "$&lt;NA&gt;\n",
       ":   'CD8 (%LC)'\n",
       "$&lt;NA&gt;\n",
       ":   'NK- 1 (%LC)'\n",
       "$&lt;NA&gt;\n",
       ":   'NK-2 (%LC)'\n",
       "$&lt;NA&gt;\n",
       ":   'NK-3 (%LC)'\n",
       "$&lt;NA&gt;\n",
       ":   'NK-4 (%LC)'\n",
       "$&lt;NA&gt;\n",
       ":   'NK (%LC)'\n",
       "\n",
       "\n",
       "\n",
       "$`Lymphocytes/live`\n",
       ":   $`B cells (%Lymphocytes/live)`\n",
       ":   'B cells (%Lymphocytes/live)'\n",
       "$`Bm (%Lymphocytes/live)`\n",
       ":   'Bm (%Lymphocytes/live)'\n",
       "$`CD3 T cells (% Lymphocytes/live)`\n",
       ":   'CD3 T cells (% Lymphocytes/live)'\n",
       "$`CD4+ T cells (%Lymphocytes/live)`\n",
       ":   'CD4+ T cells (%Lymphocytes/live)'\n",
       "$`CD8+ T cells (% of Lymphocytes/live)`\n",
       ":   'CD8+ T cells (% of Lymphocytes/live)'\n",
       "$`MZ B (%Lymphocytes/live)`\n",
       ":   'MZ B (%Lymphocytes/live)'\n",
       "$`smB (%Lymphocytes/live)`\n",
       ":   'smB (%Lymphocytes/live)'\n",
       "\n",
       "\n",
       "\n",
       "$Other\n",
       ":   $`Single Cells/Single Cells/live/LC and Mono/LC/non BT/CD15neg/NK 1 | Freq&lt;U+FFFD&gt; of LC`\n",
       ":   'Single Cells/Single Cells/live/LC and Mono/LC/non BT/CD15neg/NK 1 | Freq&lt;U+FFFD&gt; of LC'\n",
       "$`Single Cells/Single Cells/live/LC and Mono/LC/non BT/CD15neg/NK 2 | Freq&lt;U+FFFD&gt; of LC`\n",
       ":   'Single Cells/Single Cells/live/LC and Mono/LC/non BT/CD15neg/NK 2 | Freq&lt;U+FFFD&gt; of LC'\n",
       "$`Single Cells/Single Cells/live/LC and Mono/LC/non BT/CD15neg/Nk 3 | Freq&lt;U+FFFD&gt; of LC`\n",
       ":   'Single Cells/Single Cells/live/LC and Mono/LC/non BT/CD15neg/Nk 3 | Freq&lt;U+FFFD&gt; of LC'\n",
       "$`Single Cells/Single Cells/live/LC and Mono/LC/non BT/CD15neg/NK 4 | Freq&lt;U+FFFD&gt; of LC`\n",
       ":   'Single Cells/Single Cells/live/LC and Mono/LC/non BT/CD15neg/NK 4 | Freq&lt;U+FFFD&gt; of LC'\n",
       "$`Single Cells/Single Cells/live/LC and Mono/non BT/CD56-/APC/Classical monocytes | Freq&lt;U+FFFD&gt; of APC`\n",
       ":   'Single Cells/Single Cells/live/LC and Mono/non BT/CD56-/APC/Classical monocytes | Freq&lt;U+FFFD&gt; of APC'\n",
       "$`Single Cells/Single Cells/live/LC and Mono/non BT/CD56-/APC/DC/mDC | Freq&lt;U+FFFD&gt; of APC`\n",
       ":   'Single Cells/Single Cells/live/LC and Mono/non BT/CD56-/APC/DC/mDC | Freq&lt;U+FFFD&gt; of APC'\n",
       "$`Single Cells/Single Cells/live/LC and Mono/non BT/CD56-/APC/DC/mDC/CD16- mDC | Freq&lt;U+FFFD&gt; of APC`\n",
       ":   'Single Cells/Single Cells/live/LC and Mono/non BT/CD56-/APC/DC/mDC/CD16- mDC | Freq&lt;U+FFFD&gt; of APC'\n",
       "$`Single Cells/Single Cells/live/LC and Mono/non BT/CD56-/APC/DC/mDC/CD16+ mDC | Freq&lt;U+FFFD&gt; of APC`\n",
       ":   'Single Cells/Single Cells/live/LC and Mono/non BT/CD56-/APC/DC/mDC/CD16+ mDC | Freq&lt;U+FFFD&gt; of APC'\n",
       "$`Single Cells/Single Cells/live/LC and Mono/non BT/CD56-/APC/DC/pDC | Freq&lt;U+FFFD&gt; of APC`\n",
       ":   'Single Cells/Single Cells/live/LC and Mono/non BT/CD56-/APC/DC/pDC | Freq&lt;U+FFFD&gt; of APC'\n",
       "$`Single Cells/Single Cells/live/LC and Mono/non BT/CD56-/APC/LDN | Freq&lt;U+FFFD&gt; of APC`\n",
       ":   'Single Cells/Single Cells/live/LC and Mono/non BT/CD56-/APC/LDN | Freq&lt;U+FFFD&gt; of APC'\n",
       "$`Single Cells/Single Cells/live/LC and Mono/non BT/CD56-/APC/non-classical monocytes | Freq&lt;U+FFFD&gt; of APC`\n",
       ":   'Single Cells/Single Cells/live/LC and Mono/non BT/CD56-/APC/non-classical monocytes | Freq&lt;U+FFFD&gt; of APC'\n",
       "$`Single Cells/Single Cells/live/Lymphocytes/CD19+ | Freq&lt;U+FFFD&gt; of Lymphocytes`\n",
       ":   'Single Cells/Single Cells/live/Lymphocytes/CD19+ | Freq&lt;U+FFFD&gt; of Lymphocytes'\n",
       "$`Single Cells/Single Cells/live/Lymphocytes/CD19+/Anergic | Freq&lt;U+FFFD&gt; of CD19+`\n",
       ":   'Single Cells/Single Cells/live/Lymphocytes/CD19+/Anergic | Freq&lt;U+FFFD&gt; of CD19+'\n",
       "$`Single Cells/Single Cells/live/Lymphocytes/CD19+/Bm | Freq&lt;U+FFFD&gt; of CD19+`\n",
       ":   'Single Cells/Single Cells/live/Lymphocytes/CD19+/Bm | Freq&lt;U+FFFD&gt; of CD19+'\n",
       "$`Single Cells/Single Cells/live/Lymphocytes/CD19+/Bm | Freq&lt;U+FFFD&gt; of Lymphocytes`\n",
       ":   'Single Cells/Single Cells/live/Lymphocytes/CD19+/Bm | Freq&lt;U+FFFD&gt; of Lymphocytes'\n",
       "$`Single Cells/Single Cells/live/Lymphocytes/CD19+/Bm/MZ | Freq&lt;U+FFFD&gt; of CD19+`\n",
       ":   'Single Cells/Single Cells/live/Lymphocytes/CD19+/Bm/MZ | Freq&lt;U+FFFD&gt; of CD19+'\n",
       "$`Single Cells/Single Cells/live/Lymphocytes/CD19+/Bm/MZ | Freq&lt;U+FFFD&gt; of Lymphocytes`\n",
       ":   'Single Cells/Single Cells/live/Lymphocytes/CD19+/Bm/MZ | Freq&lt;U+FFFD&gt; of Lymphocytes'\n",
       "$`Single Cells/Single Cells/live/Lymphocytes/CD19+/Bm/smB | Freq&lt;U+FFFD&gt; of CD19+`\n",
       ":   'Single Cells/Single Cells/live/Lymphocytes/CD19+/Bm/smB | Freq&lt;U+FFFD&gt; of CD19+'\n",
       "$`Single Cells/Single Cells/live/Lymphocytes/CD19+/Bm/smB | Freq&lt;U+FFFD&gt; of Lymphocytes`\n",
       ":   'Single Cells/Single Cells/live/Lymphocytes/CD19+/Bm/smB | Freq&lt;U+FFFD&gt; of Lymphocytes'\n",
       "$`Single Cells/Single Cells/live/Lymphocytes/CD19+/Bm/smB/IgA+ smB | Freq&lt;U+FFFD&gt; of CD19+`\n",
       ":   'Single Cells/Single Cells/live/Lymphocytes/CD19+/Bm/smB/IgA+ smB | Freq&lt;U+FFFD&gt; of CD19+'\n",
       "$`Single Cells/Single Cells/live/Lymphocytes/CD19+/Bm/smB/IgG+ smB | Freq&lt;U+FFFD&gt; of CD19+`\n",
       ":   'Single Cells/Single Cells/live/Lymphocytes/CD19+/Bm/smB/IgG+ smB | Freq&lt;U+FFFD&gt; of CD19+'\n",
       "$`Single Cells/Single Cells/live/Lymphocytes/CD19+/PBs | Freq&lt;U+FFFD&gt; of CD19+`\n",
       ":   'Single Cells/Single Cells/live/Lymphocytes/CD19+/PBs | Freq&lt;U+FFFD&gt; of CD19+'\n",
       "$`Single Cells/Single Cells/live/Lymphocytes/CD19+/Trans-a | Freq&lt;U+FFFD&gt; of CD19+`\n",
       ":   'Single Cells/Single Cells/live/Lymphocytes/CD19+/Trans-a | Freq&lt;U+FFFD&gt; of CD19+'\n",
       "$`Single Cells/Single Cells/live/Lymphocytes/CD19+/Trans-b | Freq&lt;U+FFFD&gt; of CD19+`\n",
       ":   'Single Cells/Single Cells/live/Lymphocytes/CD19+/Trans-b | Freq&lt;U+FFFD&gt; of CD19+'\n",
       "$`Single Cells/Single Cells/live/Lymphocytes/CD19+/Trans-c | Freq&lt;U+FFFD&gt; of CD19+`\n",
       ":   'Single Cells/Single Cells/live/Lymphocytes/CD19+/Trans-c | Freq&lt;U+FFFD&gt; of CD19+'\n",
       "$`Single Cells/Single Cells/live/Lymphocytes/CD19+/Trans-d | Freq&lt;U+FFFD&gt; of CD19+`\n",
       ":   'Single Cells/Single Cells/live/Lymphocytes/CD19+/Trans-d | Freq&lt;U+FFFD&gt; of CD19+'\n",
       "$`Single Cells/Single Cells/live/Lymphocytes/CD4+ T cells/Exhausted | Freq&lt;U+FFFD&gt; of Parent`\n",
       ":   'Single Cells/Single Cells/live/Lymphocytes/CD4+ T cells/Exhausted | Freq&lt;U+FFFD&gt; of Parent'\n",
       "$`Single Cells/Single Cells/live/Lymphocytes/CD4+ T cells/non Treg/R5-/Th1-17 | Freq&lt;U+FFFD&gt; of CD4+ T cells`\n",
       ":   'Single Cells/Single Cells/live/Lymphocytes/CD4+ T cells/non Treg/R5-/Th1-17 | Freq&lt;U+FFFD&gt; of CD4+ T cells'\n",
       "$`Single Cells/Single Cells/live/Lymphocytes/CD4+ T cells/non Treg/R5-/Th1 | Freq&lt;U+FFFD&gt; of CD4+ T cells`\n",
       ":   'Single Cells/Single Cells/live/Lymphocytes/CD4+ T cells/non Treg/R5-/Th1 | Freq&lt;U+FFFD&gt; of CD4+ T cells'\n",
       "$`Single Cells/Single Cells/live/Lymphocytes/CD4+ T cells/non Treg/R5-/Th17 | Freq&lt;U+FFFD&gt; of CD4+ T cells`\n",
       ":   'Single Cells/Single Cells/live/Lymphocytes/CD4+ T cells/non Treg/R5-/Th17 | Freq&lt;U+FFFD&gt; of CD4+ T cells'\n",
       "$`Single Cells/Single Cells/live/Lymphocytes/CD4+ T cells/non Treg/R5-/Th2 | Freq&lt;U+FFFD&gt; of CD4+ T cells`\n",
       ":   'Single Cells/Single Cells/live/Lymphocytes/CD4+ T cells/non Treg/R5-/Th2 | Freq&lt;U+FFFD&gt; of CD4+ T cells'\n",
       "$`Single Cells/Single Cells/live/Lymphocytes/CD4+ T cells/non Treg/R5+/R5 Th1-17 | Freq&lt;U+FFFD&gt; of CD4+ T cells`\n",
       ":   'Single Cells/Single Cells/live/Lymphocytes/CD4+ T cells/non Treg/R5+/R5 Th1-17 | Freq&lt;U+FFFD&gt; of CD4+ T cells'\n",
       "$`Single Cells/Single Cells/live/Lymphocytes/CD4+ T cells/non Treg/R5+/R5 Th1 | Freq&lt;U+FFFD&gt; of CD4+ T cells`\n",
       ":   'Single Cells/Single Cells/live/Lymphocytes/CD4+ T cells/non Treg/R5+/R5 Th1 | Freq&lt;U+FFFD&gt; of CD4+ T cells'\n",
       "$`Single Cells/Single Cells/live/Lymphocytes/CD4+ T cells/non Treg/R5+/R5 Th17 | Freq&lt;U+FFFD&gt; of CD4+ T cells`\n",
       ":   'Single Cells/Single Cells/live/Lymphocytes/CD4+ T cells/non Treg/R5+/R5 Th17 | Freq&lt;U+FFFD&gt; of CD4+ T cells'\n",
       "$`Single Cells/Single Cells/live/Lymphocytes/CD4+ T cells/non Treg/R5+/R5 Th2 | Freq&lt;U+FFFD&gt; of CD4+ T cells`\n",
       ":   'Single Cells/Single Cells/live/Lymphocytes/CD4+ T cells/non Treg/R5+/R5 Th2 | Freq&lt;U+FFFD&gt; of CD4+ T cells'\n",
       "$`Single Cells/Single Cells/live/Lymphocytes/CD4+ T cells/non Treg/R5+/Tfh eff | Freq&lt;U+FFFD&gt; of CD4+ T cells`\n",
       ":   'Single Cells/Single Cells/live/Lymphocytes/CD4+ T cells/non Treg/R5+/Tfh eff | Freq&lt;U+FFFD&gt; of CD4+ T cells'\n",
       "$`Single Cells/Single Cells/live/Lymphocytes/CD4+ T cells/non Treg/R5+/Tfh eff | Freq&lt;U+FFFD&gt; of R5+`\n",
       ":   'Single Cells/Single Cells/live/Lymphocytes/CD4+ T cells/non Treg/R5+/Tfh eff | Freq&lt;U+FFFD&gt; of R5+'\n",
       "$`Single Cells/Single Cells/live/Lymphocytes/CD4+ T cells/non Treg/R5+/Tfh mem | Freq&lt;U+FFFD&gt; of CD4+ T cells`\n",
       ":   'Single Cells/Single Cells/live/Lymphocytes/CD4+ T cells/non Treg/R5+/Tfh mem | Freq&lt;U+FFFD&gt; of CD4+ T cells'\n",
       "$`Single Cells/Single Cells/live/Lymphocytes/CD4+ T cells/non Treg/R5+/Tfh mem | Freq&lt;U+FFFD&gt; of R5+`\n",
       ":   'Single Cells/Single Cells/live/Lymphocytes/CD4+ T cells/non Treg/R5+/Tfh mem | Freq&lt;U+FFFD&gt; of R5+'\n",
       "$`Single Cells/Single Cells/live/Lymphocytes/CD4+ T cells/Treg | Freq&lt;U+FFFD&gt; of CD4+ T cells`\n",
       ":   'Single Cells/Single Cells/live/Lymphocytes/CD4+ T cells/Treg | Freq&lt;U+FFFD&gt; of CD4+ T cells'\n",
       "$`singlets/Single Cells/live/Lymphocytes/CD3+ | Freq&lt;U+FFFD&gt; of Lymphocytes`\n",
       ":   'singlets/Single Cells/live/Lymphocytes/CD3+ | Freq&lt;U+FFFD&gt; of Lymphocytes'\n",
       "$`singlets/Single Cells/live/Lymphocytes/CD3+/CD4+ T cell | Freq&lt;U+FFFD&gt; of Lymphocytes`\n",
       ":   'singlets/Single Cells/live/Lymphocytes/CD3+/CD4+ T cell | Freq&lt;U+FFFD&gt; of Lymphocytes'\n",
       "$`singlets/Single Cells/live/Lymphocytes/CD3+/CD4+ T cell/Activated CD4+ T cells | Freq&lt;U+FFFD&gt; of CD4+ T cell`\n",
       ":   'singlets/Single Cells/live/Lymphocytes/CD3+/CD4+ T cell/Activated CD4+ T cells | Freq&lt;U+FFFD&gt; of CD4+ T cell'\n",
       "$`singlets/Single Cells/live/Lymphocytes/CD3+/CD4+ T cell/Naive | Freq&lt;U+FFFD&gt; of CD4+ T cell`\n",
       ":   'singlets/Single Cells/live/Lymphocytes/CD3+/CD4+ T cell/Naive | Freq&lt;U+FFFD&gt; of CD4+ T cell'\n",
       "$`singlets/Single Cells/live/Lymphocytes/CD3+/CD4+ T cell/TCM | Freq&lt;U+FFFD&gt; of CD4+ T cell`\n",
       ":   'singlets/Single Cells/live/Lymphocytes/CD3+/CD4+ T cell/TCM | Freq&lt;U+FFFD&gt; of CD4+ T cell'\n",
       "$`singlets/Single Cells/live/Lymphocytes/CD3+/CD4+ T cell/TEM | Freq&lt;U+FFFD&gt; of CD4+ T cell`\n",
       ":   'singlets/Single Cells/live/Lymphocytes/CD3+/CD4+ T cell/TEM | Freq&lt;U+FFFD&gt; of CD4+ T cell'\n",
       "$`singlets/Single Cells/live/Lymphocytes/CD3+/CD4+ T cell/TEMRA | Freq&lt;U+FFFD&gt; of CD4+ T cell`\n",
       ":   'singlets/Single Cells/live/Lymphocytes/CD3+/CD4+ T cell/TEMRA | Freq&lt;U+FFFD&gt; of CD4+ T cell'\n",
       "$`singlets/Single Cells/live/Lymphocytes/CD3+/CD8+ T cells | Freq&lt;U+FFFD&gt; of Lymphocytes`\n",
       ":   'singlets/Single Cells/live/Lymphocytes/CD3+/CD8+ T cells | Freq&lt;U+FFFD&gt; of Lymphocytes'\n",
       "$`singlets/Single Cells/live/Lymphocytes/CD3+/CD8+ T cells/Activated CD8+ T cell | Freq&lt;U+FFFD&gt; of CD8+ T cells`\n",
       ":   'singlets/Single Cells/live/Lymphocytes/CD3+/CD8+ T cells/Activated CD8+ T cell | Freq&lt;U+FFFD&gt; of CD8+ T cells'\n",
       "$`singlets/Single Cells/live/Lymphocytes/CD3+/CD8+ T cells/Naive | Freq&lt;U+FFFD&gt; of CD8+ T cells`\n",
       ":   'singlets/Single Cells/live/Lymphocytes/CD3+/CD8+ T cells/Naive | Freq&lt;U+FFFD&gt; of CD8+ T cells'\n",
       "$`singlets/Single Cells/live/Lymphocytes/CD3+/CD8+ T cells/TCM | Freq&lt;U+FFFD&gt; of CD8+ T cells`\n",
       ":   'singlets/Single Cells/live/Lymphocytes/CD3+/CD8+ T cells/TCM | Freq&lt;U+FFFD&gt; of CD8+ T cells'\n",
       "$`singlets/Single Cells/live/Lymphocytes/CD3+/CD8+ T cells/TEM | Freq&lt;U+FFFD&gt; of CD8+ T cells`\n",
       ":   'singlets/Single Cells/live/Lymphocytes/CD3+/CD8+ T cells/TEM | Freq&lt;U+FFFD&gt; of CD8+ T cells'\n",
       "$`singlets/Single Cells/live/Lymphocytes/CD3+/CD8+ T cells/TEMRA | Freq&lt;U+FFFD&gt; of CD8+ T cells`\n",
       ":   'singlets/Single Cells/live/Lymphocytes/CD3+/CD8+ T cells/TEMRA | Freq&lt;U+FFFD&gt; of CD8+ T cells'\n",
       "\n",
       "\n",
       "\n",
       "\n",
       "\n"
      ],
      "text/plain": [
       "$APC\n",
       "$APC$`CD16+ mDCs (%APC)`\n",
       "[1] \"CD16+ mDCs (%APC)\"\n",
       "\n",
       "$APC$`CD16neg mDCs (%APC)`\n",
       "[1] \"CD16neg mDCs (%APC)\"\n",
       "\n",
       "$APC$`Classical Monocytes(%APC)`\n",
       "[1] \"Classical Monocytes(%APC)\"\n",
       "\n",
       "$APC$`low density neutrophils (%APC)`\n",
       "[1] \"low density neutrophils (%APC)\"\n",
       "\n",
       "$APC$`mDC-CD16-<U+FFFD> (%APC)`\n",
       "[1] \"mDC-CD16-<U+FFFD> (%APC)\"\n",
       "\n",
       "$APC$`mDC-CD16+ (%APC)`\n",
       "[1] \"mDC-CD16+ (%APC)\"\n",
       "\n",
       "$APC$`mDCs (%APC)`\n",
       "[1] \"mDCs (%APC)\"\n",
       "\n",
       "$APC$`mDCs(%APC)`\n",
       "[1] \"mDCs(%APC)\"\n",
       "\n",
       "$APC$`Mono-class (%APC)`\n",
       "[1] \"Mono-class (%APC)\"\n",
       "\n",
       "$APC$`Mono-non-class (%APC)`\n",
       "[1] \"Mono-non-class (%APC)\"\n",
       "\n",
       "$APC$`non-classical monocytes (%APC)`\n",
       "[1] \"non-classical monocytes (%APC)\"\n",
       "\n",
       "$APC$`pDCs (%APC)`\n",
       "[1] \"pDCs (%APC)\"\n",
       "\n",
       "\n",
       "$B\n",
       "$B$`Anergic B (%B)`\n",
       "[1] \"Anergic B (%B)\"\n",
       "\n",
       "$B$`B-CD21lo (%B)`\n",
       "[1] \"B-CD21lo (%B)\"\n",
       "\n",
       "$B$`B-mem (%B)`\n",
       "[1] \"B-mem (%B)\"\n",
       "\n",
       "$B$`B-MZ (%B)`\n",
       "[1] \"B-MZ (%B)\"\n",
       "\n",
       "$B$`B-SM-IgA (%B)`\n",
       "[1] \"B-SM-IgA (%B)\"\n",
       "\n",
       "$B$`B-SM-IgG (%B)`\n",
       "[1] \"B-SM-IgG (%B)\"\n",
       "\n",
       "$B$`B-SM (%B)`\n",
       "[1] \"B-SM (%B)\"\n",
       "\n",
       "$B$`B-trans-b (%B)`\n",
       "[1] \"B-trans-b (%B)\"\n",
       "\n",
       "$B$`Bm (%B)`\n",
       "[1] \"Bm (%B)\"\n",
       "\n",
       "$B$`IgA smB (%B)`\n",
       "[1] \"IgA smB (%B)\"\n",
       "\n",
       "$B$`IgG smB (%B)`\n",
       "[1] \"IgG smB (%B)\"\n",
       "\n",
       "$B$`MZ B (%B)`\n",
       "[1] \"MZ B (%B)\"\n",
       "\n",
       "$B$`PBs (%B)`\n",
       "[1] \"PBs (%B)\"\n",
       "\n",
       "$B$`smB (%B)`\n",
       "[1] \"smB (%B)\"\n",
       "\n",
       "$B$`Trans-a (%B)`\n",
       "[1] \"Trans-a (%B)\"\n",
       "\n",
       "$B$`Trans-b (%B)`\n",
       "[1] \"Trans-b (%B)\"\n",
       "\n",
       "$B$`Trans-c (%B)`\n",
       "[1] \"Trans-c (%B)\"\n",
       "\n",
       "$B$`Trans-d (%B)`\n",
       "[1] \"Trans-d (%B)\"\n",
       "\n",
       "\n",
       "$CD4\n",
       "$CD4$`Activated CD4+ T cells(% CD4)`\n",
       "[1] \"Activated CD4+ T cells(% CD4)\"\n",
       "\n",
       "$CD4$`CD4-Act (%CD4)`\n",
       "[1] \"CD4-Act (%CD4)\"\n",
       "\n",
       "$CD4$`CD4-Exh (%CD4)`\n",
       "[1] \"CD4-Exh (%CD4)\"\n",
       "\n",
       "$CD4$`CD4-Naive (%CD4)`\n",
       "[1] \"CD4-Naive (%CD4)\"\n",
       "\n",
       "$CD4$`CD4-TCM (%CD4)`\n",
       "[1] \"CD4-TCM (%CD4)\"\n",
       "\n",
       "$CD4$`CD4-TEM (%CD4)`\n",
       "[1] \"CD4-TEM (%CD4)\"\n",
       "\n",
       "$CD4$`CD4-TEMRA (%CD4)`\n",
       "[1] \"CD4-TEMRA (%CD4)\"\n",
       "\n",
       "$CD4$`cTfh (%CD4)`\n",
       "[1] \"cTfh (%CD4)\"\n",
       "\n",
       "$CD4$`Exhausted (%CD4)`\n",
       "[1] \"Exhausted (%CD4)\"\n",
       "\n",
       "$CD4$`Naive (%CD4)`\n",
       "[1] \"Naive (%CD4)\"\n",
       "\n",
       "$CD4$`R5-Th1 (%CD4)`\n",
       "[1] \"R5-Th1 (%CD4)\"\n",
       "\n",
       "$CD4$`R5-Th1/17 (%CD4)`\n",
       "[1] \"R5-Th1/17 (%CD4)\"\n",
       "\n",
       "$CD4$`R5-Th17 (%CD4)`\n",
       "[1] \"R5-Th17 (%CD4)\"\n",
       "\n",
       "$CD4$`R5-Th2 (%CD4)`\n",
       "[1] \"R5-Th2 (%CD4)\"\n",
       "\n",
       "$CD4$`R5 Th1-17 (%CD4)`\n",
       "[1] \"R5 Th1-17 (%CD4)\"\n",
       "\n",
       "$CD4$`R5 Th1 (%CD4)`\n",
       "[1] \"R5 Th1 (%CD4)\"\n",
       "\n",
       "$CD4$`R5 Th17 (%CD4)`\n",
       "[1] \"R5 Th17 (%CD4)\"\n",
       "\n",
       "$CD4$`R5 Th2 (%CD4)`\n",
       "[1] \"R5 Th2 (%CD4)\"\n",
       "\n",
       "$CD4$`TCM (%CD4)`\n",
       "[1] \"TCM (%CD4)\"\n",
       "\n",
       "$CD4$`TEM (% CD4)`\n",
       "[1] \"TEM (% CD4)\"\n",
       "\n",
       "$CD4$`TEMRA (% CD4)`\n",
       "[1] \"TEMRA (% CD4)\"\n",
       "\n",
       "$CD4$`Tfh-eff (%CD4)`\n",
       "[1] \"Tfh-eff (%CD4)\"\n",
       "\n",
       "$CD4$`Tfh-mem (%CD4)`\n",
       "[1] \"Tfh-mem (%CD4)\"\n",
       "\n",
       "$CD4$`Tfh (%CD4)`\n",
       "[1] \"Tfh (%CD4)\"\n",
       "\n",
       "$CD4$`Tfh effector (%CD4)`\n",
       "[1] \"Tfh effector (%CD4)\"\n",
       "\n",
       "$CD4$`Tfh memory (CD4%)`\n",
       "[1] \"Tfh memory (CD4%)\"\n",
       "\n",
       "$CD4$`Th1-17 (%CD4)`\n",
       "[1] \"Th1-17 (%CD4)\"\n",
       "\n",
       "$CD4$`Th1-17 (CD4)`\n",
       "[1] \"Th1-17 (CD4)\"\n",
       "\n",
       "$CD4$`Th1 (%CD4)`\n",
       "[1] \"Th1 (%CD4)\"\n",
       "\n",
       "$CD4$`Th17 (%CD4)`\n",
       "[1] \"Th17 (%CD4)\"\n",
       "\n",
       "$CD4$`Th2 (%CD4)`\n",
       "[1] \"Th2 (%CD4)\"\n",
       "\n",
       "$CD4$`Th2 (CD4)`\n",
       "[1] \"Th2 (CD4)\"\n",
       "\n",
       "$CD4$`Treg (%CD4)`\n",
       "[1] \"Treg (%CD4)\"\n",
       "\n",
       "\n",
       "$CD8\n",
       "$CD8$`Activated CD8+ T cells (% CD8)`\n",
       "[1] \"Activated CD8+ T cells (% CD8)\"\n",
       "\n",
       "$CD8$`CD8-Act (%CD8)`\n",
       "[1] \"CD8-Act (%CD8)\"\n",
       "\n",
       "$CD8$`CD8-Naive (%CD8)`\n",
       "[1] \"CD8-Naive (%CD8)\"\n",
       "\n",
       "$CD8$`CD8-TCM (%CD8)`\n",
       "[1] \"CD8-TCM (%CD8)\"\n",
       "\n",
       "$CD8$`CD8-TEM (%CD8)`\n",
       "[1] \"CD8-TEM (%CD8)\"\n",
       "\n",
       "$CD8$`CD8-TEMRA (%CD8)`\n",
       "[1] \"CD8-TEMRA (%CD8)\"\n",
       "\n",
       "$CD8$`Na<U+FFFD>ve (% CD8)`\n",
       "[1] \"Na<U+FFFD>ve (% CD8)\"\n",
       "\n",
       "$CD8$`TCM (% CD8)`\n",
       "[1] \"TCM (% CD8)\"\n",
       "\n",
       "$CD8$`TEM (% CD8)`\n",
       "[1] \"TEM (% CD8)\"\n",
       "\n",
       "$CD8$`TEMRA (% CD8)`\n",
       "[1] \"TEMRA (% CD8)\"\n",
       "\n",
       "\n",
       "$CXCR5\n",
       "$CXCR5$`Tfh-eff (%CXCR5)`\n",
       "[1] \"Tfh-eff (%CXCR5)\"\n",
       "\n",
       "$CXCR5$`Tfh-mem (%CXCR5)`\n",
       "[1] \"Tfh-mem (%CXCR5)\"\n",
       "\n",
       "$CXCR5$`Tfh effector (%CXCR5)`\n",
       "[1] \"Tfh effector (%CXCR5)\"\n",
       "\n",
       "$CXCR5$`Tfh memory (%CXCR5)`\n",
       "[1] \"Tfh memory (%CXCR5)\"\n",
       "\n",
       "\n",
       "$LC\n",
       "$LC$`c(\"B-mem (%LC)\", \"B-MZ (%LC)\", \"B-SM (%LC)\", \"CD19 (%LC)\", \"CD3 (%LCs)\", \"CD4 (%LCs)\", \"CD8 (%LC)\", \"NK- 1 (%LC)\", \"NK-2 (%LC)\", \"NK-3 (%LC)\", \"NK-4 (%LC)\", \"NK (%LC)\")`\n",
       "[1] \"B-mem (%LC)\"\n",
       "\n",
       "$LC$<NA>\n",
       "[1] \"B-MZ (%LC)\"\n",
       "\n",
       "$LC$<NA>\n",
       "[1] \"B-SM (%LC)\"\n",
       "\n",
       "$LC$<NA>\n",
       "[1] \"CD19 (%LC)\"\n",
       "\n",
       "$LC$<NA>\n",
       "[1] \"CD3 (%LCs)\"\n",
       "\n",
       "$LC$<NA>\n",
       "[1] \"CD4 (%LCs)\"\n",
       "\n",
       "$LC$<NA>\n",
       "[1] \"CD8 (%LC)\"\n",
       "\n",
       "$LC$<NA>\n",
       "[1] \"NK- 1 (%LC)\"\n",
       "\n",
       "$LC$<NA>\n",
       "[1] \"NK-2 (%LC)\"\n",
       "\n",
       "$LC$<NA>\n",
       "[1] \"NK-3 (%LC)\"\n",
       "\n",
       "$LC$<NA>\n",
       "[1] \"NK-4 (%LC)\"\n",
       "\n",
       "$LC$<NA>\n",
       "[1] \"NK (%LC)\"\n",
       "\n",
       "\n",
       "$`Lymphocytes/live`\n",
       "$`Lymphocytes/live`$`B cells (%Lymphocytes/live)`\n",
       "[1] \"B cells (%Lymphocytes/live)\"\n",
       "\n",
       "$`Lymphocytes/live`$`Bm (%Lymphocytes/live)`\n",
       "[1] \"Bm (%Lymphocytes/live)\"\n",
       "\n",
       "$`Lymphocytes/live`$`CD3 T cells (% Lymphocytes/live)`\n",
       "[1] \"CD3 T cells (% Lymphocytes/live)\"\n",
       "\n",
       "$`Lymphocytes/live`$`CD4+ T cells (%Lymphocytes/live)`\n",
       "[1] \"CD4+ T cells (%Lymphocytes/live)\"\n",
       "\n",
       "$`Lymphocytes/live`$`CD8+ T cells (% of Lymphocytes/live)`\n",
       "[1] \"CD8+ T cells (% of Lymphocytes/live)\"\n",
       "\n",
       "$`Lymphocytes/live`$`MZ B (%Lymphocytes/live)`\n",
       "[1] \"MZ B (%Lymphocytes/live)\"\n",
       "\n",
       "$`Lymphocytes/live`$`smB (%Lymphocytes/live)`\n",
       "[1] \"smB (%Lymphocytes/live)\"\n",
       "\n",
       "\n",
       "$Other\n",
       "$Other$`Single Cells/Single Cells/live/LC and Mono/LC/non BT/CD15neg/NK 1 | Freq<U+FFFD> of LC`\n",
       "[1] \"Single Cells/Single Cells/live/LC and Mono/LC/non BT/CD15neg/NK 1 | Freq<U+FFFD> of LC\"\n",
       "\n",
       "$Other$`Single Cells/Single Cells/live/LC and Mono/LC/non BT/CD15neg/NK 2 | Freq<U+FFFD> of LC`\n",
       "[1] \"Single Cells/Single Cells/live/LC and Mono/LC/non BT/CD15neg/NK 2 | Freq<U+FFFD> of LC\"\n",
       "\n",
       "$Other$`Single Cells/Single Cells/live/LC and Mono/LC/non BT/CD15neg/Nk 3 | Freq<U+FFFD> of LC`\n",
       "[1] \"Single Cells/Single Cells/live/LC and Mono/LC/non BT/CD15neg/Nk 3 | Freq<U+FFFD> of LC\"\n",
       "\n",
       "$Other$`Single Cells/Single Cells/live/LC and Mono/LC/non BT/CD15neg/NK 4 | Freq<U+FFFD> of LC`\n",
       "[1] \"Single Cells/Single Cells/live/LC and Mono/LC/non BT/CD15neg/NK 4 | Freq<U+FFFD> of LC\"\n",
       "\n",
       "$Other$`Single Cells/Single Cells/live/LC and Mono/non BT/CD56-/APC/Classical monocytes | Freq<U+FFFD> of APC`\n",
       "[1] \"Single Cells/Single Cells/live/LC and Mono/non BT/CD56-/APC/Classical monocytes | Freq<U+FFFD> of APC\"\n",
       "\n",
       "$Other$`Single Cells/Single Cells/live/LC and Mono/non BT/CD56-/APC/DC/mDC | Freq<U+FFFD> of APC`\n",
       "[1] \"Single Cells/Single Cells/live/LC and Mono/non BT/CD56-/APC/DC/mDC | Freq<U+FFFD> of APC\"\n",
       "\n",
       "$Other$`Single Cells/Single Cells/live/LC and Mono/non BT/CD56-/APC/DC/mDC/CD16- mDC | Freq<U+FFFD> of APC`\n",
       "[1] \"Single Cells/Single Cells/live/LC and Mono/non BT/CD56-/APC/DC/mDC/CD16- mDC | Freq<U+FFFD> of APC\"\n",
       "\n",
       "$Other$`Single Cells/Single Cells/live/LC and Mono/non BT/CD56-/APC/DC/mDC/CD16+ mDC | Freq<U+FFFD> of APC`\n",
       "[1] \"Single Cells/Single Cells/live/LC and Mono/non BT/CD56-/APC/DC/mDC/CD16+ mDC | Freq<U+FFFD> of APC\"\n",
       "\n",
       "$Other$`Single Cells/Single Cells/live/LC and Mono/non BT/CD56-/APC/DC/pDC | Freq<U+FFFD> of APC`\n",
       "[1] \"Single Cells/Single Cells/live/LC and Mono/non BT/CD56-/APC/DC/pDC | Freq<U+FFFD> of APC\"\n",
       "\n",
       "$Other$`Single Cells/Single Cells/live/LC and Mono/non BT/CD56-/APC/LDN | Freq<U+FFFD> of APC`\n",
       "[1] \"Single Cells/Single Cells/live/LC and Mono/non BT/CD56-/APC/LDN | Freq<U+FFFD> of APC\"\n",
       "\n",
       "$Other$`Single Cells/Single Cells/live/LC and Mono/non BT/CD56-/APC/non-classical monocytes | Freq<U+FFFD> of APC`\n",
       "[1] \"Single Cells/Single Cells/live/LC and Mono/non BT/CD56-/APC/non-classical monocytes | Freq<U+FFFD> of APC\"\n",
       "\n",
       "$Other$`Single Cells/Single Cells/live/Lymphocytes/CD19+ | Freq<U+FFFD> of Lymphocytes`\n",
       "[1] \"Single Cells/Single Cells/live/Lymphocytes/CD19+ | Freq<U+FFFD> of Lymphocytes\"\n",
       "\n",
       "$Other$`Single Cells/Single Cells/live/Lymphocytes/CD19+/Anergic | Freq<U+FFFD> of CD19+`\n",
       "[1] \"Single Cells/Single Cells/live/Lymphocytes/CD19+/Anergic | Freq<U+FFFD> of CD19+\"\n",
       "\n",
       "$Other$`Single Cells/Single Cells/live/Lymphocytes/CD19+/Bm | Freq<U+FFFD> of CD19+`\n",
       "[1] \"Single Cells/Single Cells/live/Lymphocytes/CD19+/Bm | Freq<U+FFFD> of CD19+\"\n",
       "\n",
       "$Other$`Single Cells/Single Cells/live/Lymphocytes/CD19+/Bm | Freq<U+FFFD> of Lymphocytes`\n",
       "[1] \"Single Cells/Single Cells/live/Lymphocytes/CD19+/Bm | Freq<U+FFFD> of Lymphocytes\"\n",
       "\n",
       "$Other$`Single Cells/Single Cells/live/Lymphocytes/CD19+/Bm/MZ | Freq<U+FFFD> of CD19+`\n",
       "[1] \"Single Cells/Single Cells/live/Lymphocytes/CD19+/Bm/MZ | Freq<U+FFFD> of CD19+\"\n",
       "\n",
       "$Other$`Single Cells/Single Cells/live/Lymphocytes/CD19+/Bm/MZ | Freq<U+FFFD> of Lymphocytes`\n",
       "[1] \"Single Cells/Single Cells/live/Lymphocytes/CD19+/Bm/MZ | Freq<U+FFFD> of Lymphocytes\"\n",
       "\n",
       "$Other$`Single Cells/Single Cells/live/Lymphocytes/CD19+/Bm/smB | Freq<U+FFFD> of CD19+`\n",
       "[1] \"Single Cells/Single Cells/live/Lymphocytes/CD19+/Bm/smB | Freq<U+FFFD> of CD19+\"\n",
       "\n",
       "$Other$`Single Cells/Single Cells/live/Lymphocytes/CD19+/Bm/smB | Freq<U+FFFD> of Lymphocytes`\n",
       "[1] \"Single Cells/Single Cells/live/Lymphocytes/CD19+/Bm/smB | Freq<U+FFFD> of Lymphocytes\"\n",
       "\n",
       "$Other$`Single Cells/Single Cells/live/Lymphocytes/CD19+/Bm/smB/IgA+ smB | Freq<U+FFFD> of CD19+`\n",
       "[1] \"Single Cells/Single Cells/live/Lymphocytes/CD19+/Bm/smB/IgA+ smB | Freq<U+FFFD> of CD19+\"\n",
       "\n",
       "$Other$`Single Cells/Single Cells/live/Lymphocytes/CD19+/Bm/smB/IgG+ smB | Freq<U+FFFD> of CD19+`\n",
       "[1] \"Single Cells/Single Cells/live/Lymphocytes/CD19+/Bm/smB/IgG+ smB | Freq<U+FFFD> of CD19+\"\n",
       "\n",
       "$Other$`Single Cells/Single Cells/live/Lymphocytes/CD19+/PBs | Freq<U+FFFD> of CD19+`\n",
       "[1] \"Single Cells/Single Cells/live/Lymphocytes/CD19+/PBs | Freq<U+FFFD> of CD19+\"\n",
       "\n",
       "$Other$`Single Cells/Single Cells/live/Lymphocytes/CD19+/Trans-a | Freq<U+FFFD> of CD19+`\n",
       "[1] \"Single Cells/Single Cells/live/Lymphocytes/CD19+/Trans-a | Freq<U+FFFD> of CD19+\"\n",
       "\n",
       "$Other$`Single Cells/Single Cells/live/Lymphocytes/CD19+/Trans-b | Freq<U+FFFD> of CD19+`\n",
       "[1] \"Single Cells/Single Cells/live/Lymphocytes/CD19+/Trans-b | Freq<U+FFFD> of CD19+\"\n",
       "\n",
       "$Other$`Single Cells/Single Cells/live/Lymphocytes/CD19+/Trans-c | Freq<U+FFFD> of CD19+`\n",
       "[1] \"Single Cells/Single Cells/live/Lymphocytes/CD19+/Trans-c | Freq<U+FFFD> of CD19+\"\n",
       "\n",
       "$Other$`Single Cells/Single Cells/live/Lymphocytes/CD19+/Trans-d | Freq<U+FFFD> of CD19+`\n",
       "[1] \"Single Cells/Single Cells/live/Lymphocytes/CD19+/Trans-d | Freq<U+FFFD> of CD19+\"\n",
       "\n",
       "$Other$`Single Cells/Single Cells/live/Lymphocytes/CD4+ T cells/Exhausted | Freq<U+FFFD> of Parent`\n",
       "[1] \"Single Cells/Single Cells/live/Lymphocytes/CD4+ T cells/Exhausted | Freq<U+FFFD> of Parent\"\n",
       "\n",
       "$Other$`Single Cells/Single Cells/live/Lymphocytes/CD4+ T cells/non Treg/R5-/Th1-17 | Freq<U+FFFD> of CD4+ T cells`\n",
       "[1] \"Single Cells/Single Cells/live/Lymphocytes/CD4+ T cells/non Treg/R5-/Th1-17 | Freq<U+FFFD> of CD4+ T cells\"\n",
       "\n",
       "$Other$`Single Cells/Single Cells/live/Lymphocytes/CD4+ T cells/non Treg/R5-/Th1 | Freq<U+FFFD> of CD4+ T cells`\n",
       "[1] \"Single Cells/Single Cells/live/Lymphocytes/CD4+ T cells/non Treg/R5-/Th1 | Freq<U+FFFD> of CD4+ T cells\"\n",
       "\n",
       "$Other$`Single Cells/Single Cells/live/Lymphocytes/CD4+ T cells/non Treg/R5-/Th17 | Freq<U+FFFD> of CD4+ T cells`\n",
       "[1] \"Single Cells/Single Cells/live/Lymphocytes/CD4+ T cells/non Treg/R5-/Th17 | Freq<U+FFFD> of CD4+ T cells\"\n",
       "\n",
       "$Other$`Single Cells/Single Cells/live/Lymphocytes/CD4+ T cells/non Treg/R5-/Th2 | Freq<U+FFFD> of CD4+ T cells`\n",
       "[1] \"Single Cells/Single Cells/live/Lymphocytes/CD4+ T cells/non Treg/R5-/Th2 | Freq<U+FFFD> of CD4+ T cells\"\n",
       "\n",
       "$Other$`Single Cells/Single Cells/live/Lymphocytes/CD4+ T cells/non Treg/R5+/R5 Th1-17 | Freq<U+FFFD> of CD4+ T cells`\n",
       "[1] \"Single Cells/Single Cells/live/Lymphocytes/CD4+ T cells/non Treg/R5+/R5 Th1-17 | Freq<U+FFFD> of CD4+ T cells\"\n",
       "\n",
       "$Other$`Single Cells/Single Cells/live/Lymphocytes/CD4+ T cells/non Treg/R5+/R5 Th1 | Freq<U+FFFD> of CD4+ T cells`\n",
       "[1] \"Single Cells/Single Cells/live/Lymphocytes/CD4+ T cells/non Treg/R5+/R5 Th1 | Freq<U+FFFD> of CD4+ T cells\"\n",
       "\n",
       "$Other$`Single Cells/Single Cells/live/Lymphocytes/CD4+ T cells/non Treg/R5+/R5 Th17 | Freq<U+FFFD> of CD4+ T cells`\n",
       "[1] \"Single Cells/Single Cells/live/Lymphocytes/CD4+ T cells/non Treg/R5+/R5 Th17 | Freq<U+FFFD> of CD4+ T cells\"\n",
       "\n",
       "$Other$`Single Cells/Single Cells/live/Lymphocytes/CD4+ T cells/non Treg/R5+/R5 Th2 | Freq<U+FFFD> of CD4+ T cells`\n",
       "[1] \"Single Cells/Single Cells/live/Lymphocytes/CD4+ T cells/non Treg/R5+/R5 Th2 | Freq<U+FFFD> of CD4+ T cells\"\n",
       "\n",
       "$Other$`Single Cells/Single Cells/live/Lymphocytes/CD4+ T cells/non Treg/R5+/Tfh eff | Freq<U+FFFD> of CD4+ T cells`\n",
       "[1] \"Single Cells/Single Cells/live/Lymphocytes/CD4+ T cells/non Treg/R5+/Tfh eff | Freq<U+FFFD> of CD4+ T cells\"\n",
       "\n",
       "$Other$`Single Cells/Single Cells/live/Lymphocytes/CD4+ T cells/non Treg/R5+/Tfh eff | Freq<U+FFFD> of R5+`\n",
       "[1] \"Single Cells/Single Cells/live/Lymphocytes/CD4+ T cells/non Treg/R5+/Tfh eff | Freq<U+FFFD> of R5+\"\n",
       "\n",
       "$Other$`Single Cells/Single Cells/live/Lymphocytes/CD4+ T cells/non Treg/R5+/Tfh mem | Freq<U+FFFD> of CD4+ T cells`\n",
       "[1] \"Single Cells/Single Cells/live/Lymphocytes/CD4+ T cells/non Treg/R5+/Tfh mem | Freq<U+FFFD> of CD4+ T cells\"\n",
       "\n",
       "$Other$`Single Cells/Single Cells/live/Lymphocytes/CD4+ T cells/non Treg/R5+/Tfh mem | Freq<U+FFFD> of R5+`\n",
       "[1] \"Single Cells/Single Cells/live/Lymphocytes/CD4+ T cells/non Treg/R5+/Tfh mem | Freq<U+FFFD> of R5+\"\n",
       "\n",
       "$Other$`Single Cells/Single Cells/live/Lymphocytes/CD4+ T cells/Treg | Freq<U+FFFD> of CD4+ T cells`\n",
       "[1] \"Single Cells/Single Cells/live/Lymphocytes/CD4+ T cells/Treg | Freq<U+FFFD> of CD4+ T cells\"\n",
       "\n",
       "$Other$`singlets/Single Cells/live/Lymphocytes/CD3+ | Freq<U+FFFD> of Lymphocytes`\n",
       "[1] \"singlets/Single Cells/live/Lymphocytes/CD3+ | Freq<U+FFFD> of Lymphocytes\"\n",
       "\n",
       "$Other$`singlets/Single Cells/live/Lymphocytes/CD3+/CD4+ T cell | Freq<U+FFFD> of Lymphocytes`\n",
       "[1] \"singlets/Single Cells/live/Lymphocytes/CD3+/CD4+ T cell | Freq<U+FFFD> of Lymphocytes\"\n",
       "\n",
       "$Other$`singlets/Single Cells/live/Lymphocytes/CD3+/CD4+ T cell/Activated CD4+ T cells | Freq<U+FFFD> of CD4+ T cell`\n",
       "[1] \"singlets/Single Cells/live/Lymphocytes/CD3+/CD4+ T cell/Activated CD4+ T cells | Freq<U+FFFD> of CD4+ T cell\"\n",
       "\n",
       "$Other$`singlets/Single Cells/live/Lymphocytes/CD3+/CD4+ T cell/Naive | Freq<U+FFFD> of CD4+ T cell`\n",
       "[1] \"singlets/Single Cells/live/Lymphocytes/CD3+/CD4+ T cell/Naive | Freq<U+FFFD> of CD4+ T cell\"\n",
       "\n",
       "$Other$`singlets/Single Cells/live/Lymphocytes/CD3+/CD4+ T cell/TCM | Freq<U+FFFD> of CD4+ T cell`\n",
       "[1] \"singlets/Single Cells/live/Lymphocytes/CD3+/CD4+ T cell/TCM | Freq<U+FFFD> of CD4+ T cell\"\n",
       "\n",
       "$Other$`singlets/Single Cells/live/Lymphocytes/CD3+/CD4+ T cell/TEM | Freq<U+FFFD> of CD4+ T cell`\n",
       "[1] \"singlets/Single Cells/live/Lymphocytes/CD3+/CD4+ T cell/TEM | Freq<U+FFFD> of CD4+ T cell\"\n",
       "\n",
       "$Other$`singlets/Single Cells/live/Lymphocytes/CD3+/CD4+ T cell/TEMRA | Freq<U+FFFD> of CD4+ T cell`\n",
       "[1] \"singlets/Single Cells/live/Lymphocytes/CD3+/CD4+ T cell/TEMRA | Freq<U+FFFD> of CD4+ T cell\"\n",
       "\n",
       "$Other$`singlets/Single Cells/live/Lymphocytes/CD3+/CD8+ T cells | Freq<U+FFFD> of Lymphocytes`\n",
       "[1] \"singlets/Single Cells/live/Lymphocytes/CD3+/CD8+ T cells | Freq<U+FFFD> of Lymphocytes\"\n",
       "\n",
       "$Other$`singlets/Single Cells/live/Lymphocytes/CD3+/CD8+ T cells/Activated CD8+ T cell | Freq<U+FFFD> of CD8+ T cells`\n",
       "[1] \"singlets/Single Cells/live/Lymphocytes/CD3+/CD8+ T cells/Activated CD8+ T cell | Freq<U+FFFD> of CD8+ T cells\"\n",
       "\n",
       "$Other$`singlets/Single Cells/live/Lymphocytes/CD3+/CD8+ T cells/Naive | Freq<U+FFFD> of CD8+ T cells`\n",
       "[1] \"singlets/Single Cells/live/Lymphocytes/CD3+/CD8+ T cells/Naive | Freq<U+FFFD> of CD8+ T cells\"\n",
       "\n",
       "$Other$`singlets/Single Cells/live/Lymphocytes/CD3+/CD8+ T cells/TCM | Freq<U+FFFD> of CD8+ T cells`\n",
       "[1] \"singlets/Single Cells/live/Lymphocytes/CD3+/CD8+ T cells/TCM | Freq<U+FFFD> of CD8+ T cells\"\n",
       "\n",
       "$Other$`singlets/Single Cells/live/Lymphocytes/CD3+/CD8+ T cells/TEM | Freq<U+FFFD> of CD8+ T cells`\n",
       "[1] \"singlets/Single Cells/live/Lymphocytes/CD3+/CD8+ T cells/TEM | Freq<U+FFFD> of CD8+ T cells\"\n",
       "\n",
       "$Other$`singlets/Single Cells/live/Lymphocytes/CD3+/CD8+ T cells/TEMRA | Freq<U+FFFD> of CD8+ T cells`\n",
       "[1] \"singlets/Single Cells/live/Lymphocytes/CD3+/CD8+ T cells/TEMRA | Freq<U+FFFD> of CD8+ T cells\"\n",
       "\n"
      ]
     },
     "metadata": {},
     "output_type": "display_data"
    }
   ],
   "source": [
    "get_parent_marker_groups <- function(vec, make_shinytree_format=TRUE){\n",
    "   APC <- parse_str_vec_with_patterns(patterns = c(\"(%APC)\"), \n",
    "                                      vec = vec,  \n",
    "                                      name_group=\"APC\")\n",
    "   \n",
    "   B <- parse_str_vec_with_patterns(patterns = c(\"(%B)\"), \n",
    "                                    vec = APC[[\"Other\"]], \n",
    "                                    name_group=\"B\")\n",
    "   \n",
    "   CD4 <- parse_str_vec_with_patterns(patterns = c(\"(% CD4)\", \n",
    "                                                   \"(%CD4)\", \n",
    "                                                   \"(CD4%)\", \n",
    "                                                   \"(CD4)\"), \n",
    "                                      vec = B[[\"Other\"]],  \n",
    "                                      name_group=\"CD4\")\n",
    "   \n",
    "   \n",
    "   CD8 <- parse_str_vec_with_patterns(patterns = c(\"(% CD8)\", \n",
    "                                                   \"(%CD8)\", \n",
    "                                                   \"(CD8%)\", \n",
    "                                                   \"(CD8)\"), \n",
    "                                      vec = CD4[[\"Other\"]],  \n",
    "                                      name_group=\"CD8\")\n",
    "   \n",
    "   CXCR5 <- parse_str_vec_with_patterns(patterns = c(\"(%CXCR5)\"), \n",
    "                                        vec = CD8[[\"Other\"]],  \n",
    "                                        name_group=\"CXCR5\")\n",
    "   \n",
    "   LC <- parse_str_vec_with_patterns(patterns = c(\"(%LC)\", \n",
    "                                                  \"(%LCs)\"), \n",
    "                                     vec = CXCR5[[\"Other\"]],  \n",
    "                                     name_group=\"LC\")\n",
    "   \n",
    "   Lymphocytes_live <- parse_str_vec_with_patterns(patterns = c(\"% Lymphocytes/live)\", \n",
    "                                                                \"(%Lymphocytes/live)\", \n",
    "                                                                \"(% of Lymphocytes/live)\"), \n",
    "                                                   vec = LC[[\"Other\"]],  \n",
    "                                                   name_group=\"Lymphocytes/live\")\n",
    "   \n",
    "   if (make_shinytree_format == TRUE){\n",
    "      parent_groups <- list(\n",
    "         \"APC\" = as.list(setNames(APC[[\"APC\"]], APC[[\"APC\"]])),\n",
    "         \"B\" = as.list(setNames(B[[\"B\"]], B[[\"B\"]])),\n",
    "         \"CD4\" = as.list(setNames(CD4[[\"CD4\"]], CD4[[\"CD4\"]])),\n",
    "         \"CD8\" = as.list(setNames(CD8[[\"CD8\"]], CD8[[\"CD8\"]])),\n",
    "         \"CXCR5\" = as.list(setNames(CXCR5[[\"CXCR5\"]], CXCR5[[\"CXCR5\"]])),\n",
    "         \"LC\" = as.list(setNames(LC[[\"LC\"]], LC[\"LC\"])),\n",
    "         \"Lymphocytes/live\" = as.list(setNames(Lymphocytes_live[[\"Lymphocytes/live\"]], Lymphocytes_live[[\"Lymphocytes/live\"]])),\n",
    "         \"Other\" = as.list(setNames(Lymphocytes_live[[\"Other\"]], Lymphocytes_live[[\"Other\"]]))\n",
    "      )\n",
    "   } else {\n",
    "      # Combine lists \n",
    "      parent_groups <- c(APC[\"APC\"], # Note APC[\"APC\"]: a list but APC[[\"APC\"]]: a vector\n",
    "                         B[\"B\"], \n",
    "                         CD4[\"CD4\"], \n",
    "                         CD8[\"CD8\"],\n",
    "                         CXCR5[\"CXCR5\"],\n",
    "                         LC[\"LC\"],                   \n",
    "                         Lymphocytes_live[\"Lymphocytes/live\"],                \n",
    "                         Lymphocytes_live[\"Other\"])\n",
    "   }\n",
    "   \n",
    "   return (parent_groups)\n",
    "}\n",
    "\n",
    "parent_groups <- get_parent_marker_groups(vec = vec)\n",
    "parent_groups"
   ]
  },
  {
   "cell_type": "code",
   "execution_count": null,
   "id": "abab88be",
   "metadata": {},
   "outputs": [],
   "source": []
  },
  {
   "cell_type": "code",
   "execution_count": null,
   "id": "8921c24e",
   "metadata": {},
   "outputs": [],
   "source": []
  },
  {
   "cell_type": "code",
   "execution_count": 55,
   "id": "dfe99ca7",
   "metadata": {},
   "outputs": [],
   "source": [
    "# # https://stackoverflow.com/questions/66917706/pass-list-of-values-to-shiny-checkbox/\n",
    "# library(shiny)\n",
    "\n",
    "# #my_choices<-list(\"foo\"=c(\"a\", \"b\", \"c\"), \n",
    "# #                 \"bar\"=c(\"1\", \"2\", \"3\"))\n",
    "\n",
    "# my_choices<- list(\"All\" = list(\"foo\"=c(\"a\", \"b\", \"c\"), \n",
    "#                                \"bar\"=c(\"1\", \"2\", \"3\")))\n",
    "\n",
    "# ui <- fluidPage(\n",
    "#  uiOutput('checkbox')\n",
    "# )\n",
    "\n",
    "# server <- function(input, output, session) {\n",
    "#   output$checkbox <- renderUI({\n",
    "#     Map(function(x, y) checkboxGroupInput(y,y, x), my_choices, names(my_choices))\n",
    "#   })\n",
    "# }\n",
    "\n",
    "# shinyApp(ui = ui, server = server)"
   ]
  },
  {
   "cell_type": "code",
   "execution_count": 56,
   "id": "ef5f789f",
   "metadata": {},
   "outputs": [],
   "source": [
    "# library(shiny)\n",
    "\n",
    "# l2_choices <- list(\"L2_1\"  = \"Level 2-1\",\n",
    "#                    \"L2_2\" = \"Level 2-2\",\n",
    "#                    \"L2_3\" = \"Level 2-3\")\n",
    "\n",
    "# l3_choices <- list(\"L3_1\" = \"Level 3-1\",\n",
    "#                    \"L3_2\" = \"Level 3-2\",\n",
    "#                    \"L3_3\" = \"Level 3-3\",\n",
    "#                    \"L3_4\" = \"Level 3-4\",\n",
    "#                    \"L3_5\" = \"Level 3-5\",\n",
    "#                    \"L3_6\" = \"Level 3-6\",\n",
    "#                    \"L3_7\" = \"Level 3-7\",\n",
    "#                    \"L3_8\" = \"Level 3-8\",\n",
    "#                    \"L3_9\" = \"Level 3-9\")\n",
    "\n",
    "# lvl3_f3 <- l3_choices[1:3]\n",
    "# lvl2_f1 <- l2_choices[1]\n",
    "\n",
    "# ui <- shinyUI(navbarPage(\"RP 2014\",\n",
    "#                          tabPanel(\"Sélection\",\n",
    "#                                   print (h4(strong(\"Geographical levels\"))),\n",
    "#                                   fluidRow(\n",
    "#                                     column(width = 3,\n",
    "#                                            h5(strong(\"Level 1\")),\n",
    "#                                            checkboxInput(\"dynamic_L1\",\n",
    "#                                                          label = \"\")\n",
    "#                                     ), # f. column\n",
    "#                                     column(width = 3,\n",
    "#                                            checkboxGroupInput(\"dynamic_L2\",\n",
    "#                                                               label = h5(strong(\"Level 2\")),\n",
    "#                                                               choices = l2_choices)\n",
    "#                                     ),\n",
    "#                                     column(width = 3,\n",
    "#                                            checkboxGroupInput(\"dynamic_L3\",\n",
    "#                                                               label = h5(strong(\"Level 3\")),\n",
    "#                                                               choices = l3_choices)\n",
    "#                                     )\n",
    "#                                   )\n",
    "#                          )\n",
    "# )     \n",
    "# )\n",
    "\n",
    "# server <- function(input, output, session){\n",
    "#   observeEvent(input$dynamic_L1, {\n",
    "#     # Get all the checkboxes checked when the Level 1 checkbox is checked\n",
    "#     if(input$dynamic_L1){\n",
    "#       updateCheckboxGroupInput(session, inputId = \"dynamic_L2\", selected = l2_choices)\n",
    "#       updateCheckboxGroupInput(session, inputId = \"dynamic_L3\", selected = l3_choices)\n",
    "#     }\n",
    "#   observeEvent(input$dynamic_L3, {\n",
    "#     # Get the first level of Level 2 checked automatically when the 3 first levels of Level 3 are checked\n",
    "#     if (all(lvl3_f3 %in% input$dynamic_L3)) {\n",
    "#       updateCheckboxGroupInput(session, inputId = \"dynamic_L2\", selected = c(input$dynamic_L2, lvl2_f1))\n",
    "#     }\n",
    "#   })\n",
    "#   })\n",
    "# }\n",
    "\n",
    "# shinyApp(ui, server)"
   ]
  },
  {
   "cell_type": "code",
   "execution_count": 57,
   "id": "3e117e84",
   "metadata": {},
   "outputs": [],
   "source": [
    "# Install devtools, if you haven't already.\n",
    "# install.packages(\"devtools\") --> library(devtools)"
   ]
  },
  {
   "cell_type": "code",
   "execution_count": 58,
   "id": "2dc6051e",
   "metadata": {
    "scrolled": false
   },
   "outputs": [],
   "source": [
    "# library(devtools)\n",
    "# install_github(\"shinyTree/shinyTree\")"
   ]
  },
  {
   "cell_type": "code",
   "execution_count": 59,
   "id": "77a7ae1f",
   "metadata": {},
   "outputs": [],
   "source": [
    "# install.packages(\"shiny\")"
   ]
  },
  {
   "cell_type": "code",
   "execution_count": 60,
   "id": "04afa7c7",
   "metadata": {},
   "outputs": [],
   "source": [
    "# library(shiny)\n",
    "# library(shinyTree)\n",
    "# server <- shinyServer(function(input, output, session) {  \n",
    "#   output$tree <- renderTree({ \n",
    "#     list(  'I lorem impsum'= list( \n",
    "#                   'I.1 lorem impsum'   =  structure(list('I.1.1 lorem impsum'='1', 'I.1.2 lorem impsum'='2'),stselected=TRUE),  \n",
    "#                   'I.2 lorem impsum'   =  structure(list('I.2.1 lorem impsum'='3'), stselected=TRUE))) \n",
    "#   })\n",
    "# })\n",
    "# ui <- shinyUI(\n",
    "#   shiny::fluidPage(\n",
    "#     h4('Shiny hierarchical checkbox')\n",
    "#     ,shinyTree(\"tree\", checkbox = TRUE)\n",
    "#   )\n",
    "# )\n",
    "# shinyApp(ui, server)"
   ]
  },
  {
   "cell_type": "code",
   "execution_count": null,
   "id": "22651946",
   "metadata": {},
   "outputs": [],
   "source": []
  }
 ],
 "metadata": {
  "kernelspec": {
   "display_name": "R",
   "language": "R",
   "name": "ir"
  },
  "language_info": {
   "codemirror_mode": "r",
   "file_extension": ".r",
   "mimetype": "text/x-r-source",
   "name": "R",
   "pygments_lexer": "r",
   "version": "3.6.1"
  }
 },
 "nbformat": 4,
 "nbformat_minor": 5
}
