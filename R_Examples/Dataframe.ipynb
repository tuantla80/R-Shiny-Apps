{
 "cells": [
  {
   "cell_type": "markdown",
   "id": "d492b626",
   "metadata": {},
   "source": [
    "```\n",
    "Some useful infor:\n",
    "  Pipe operator: %>%\n",
    "  filter    -> selecting rows\n",
    "  select    -> selecting cols\n",
    "  mutate    -> add/change cols\n",
    "  arrange   -> order rows\n",
    "  summarize -> make summary\n",
    "  group_by\n",
    "  data pivoting: tydyr lib: pivot_longer (pivot in some languages) \n",
    "                            pivot_wider  (un-pivot in some languages)\n",
    "  string manipulation: stringr lib\n",
    "  Json parsing: jsonlite lib: toJSON() and fromJSON()\n",
    "  Web scraping: rvest lib\n",
    "```"
   ]
  },
  {
   "cell_type": "code",
   "execution_count": 1,
   "id": "8cea4916",
   "metadata": {},
   "outputs": [
    {
     "name": "stderr",
     "output_type": "stream",
     "text": [
      "Warning message:\n",
      "\"package 'dplyr' was built under R version 3.6.3\"\n",
      "Attaching package: 'dplyr'\n",
      "\n",
      "The following objects are masked from 'package:stats':\n",
      "\n",
      "    filter, lag\n",
      "\n",
      "The following objects are masked from 'package:base':\n",
      "\n",
      "    intersect, setdiff, setequal, union\n",
      "\n",
      "\n",
      "Attaching package: 'data.table'\n",
      "\n",
      "The following objects are masked from 'package:dplyr':\n",
      "\n",
      "    between, first, last\n",
      "\n"
     ]
    }
   ],
   "source": [
    "library(dplyr)\n",
    "library(data.table)"
   ]
  },
  {
   "cell_type": "markdown",
   "id": "85b17994",
   "metadata": {},
   "source": [
    "## I. Dataframe basics"
   ]
  },
  {
   "cell_type": "code",
   "execution_count": 2,
   "id": "bd9ee6a6",
   "metadata": {},
   "outputs": [
    {
     "data": {
      "text/html": [
       "<table>\n",
       "<thead><tr><th scope=col>label</th><th scope=col>x1</th><th scope=col>x2</th></tr></thead>\n",
       "<tbody>\n",
       "\t<tr><td>a1 </td><td> 9 </td><td>100</td></tr>\n",
       "\t<tr><td>a2 </td><td> 2 </td><td> NA</td></tr>\n",
       "\t<tr><td>a3 </td><td> 3 </td><td>300</td></tr>\n",
       "\t<tr><td>a4 </td><td>NA </td><td>400</td></tr>\n",
       "\t<tr><td>a5 </td><td>NA </td><td> NA</td></tr>\n",
       "</tbody>\n",
       "</table>\n"
      ],
      "text/latex": [
       "\\begin{tabular}{r|lll}\n",
       " label & x1 & x2\\\\\n",
       "\\hline\n",
       "\t a1  &  9  & 100\\\\\n",
       "\t a2  &  2  &  NA\\\\\n",
       "\t a3  &  3  & 300\\\\\n",
       "\t a4  & NA  & 400\\\\\n",
       "\t a5  & NA  &  NA\\\\\n",
       "\\end{tabular}\n"
      ],
      "text/markdown": [
       "\n",
       "| label | x1 | x2 |\n",
       "|---|---|---|\n",
       "| a1  |  9  | 100 |\n",
       "| a2  |  2  |  NA |\n",
       "| a3  |  3  | 300 |\n",
       "| a4  | NA  | 400 |\n",
       "| a5  | NA  |  NA |\n",
       "\n"
      ],
      "text/plain": [
       "  label x1 x2 \n",
       "1 a1     9 100\n",
       "2 a2     2  NA\n",
       "3 a3     3 300\n",
       "4 a4    NA 400\n",
       "5 a5    NA  NA"
      ]
     },
     "metadata": {},
     "output_type": "display_data"
    }
   ],
   "source": [
    "df <- data.frame(label = c('a1', 'a2', 'a3', 'a4', 'a5'),\n",
    "                 x1 = c(9, 2, 3, NA, NA), \n",
    "                 x2 = c(100, NA, 300, 400, NA))\n",
    "df"
   ]
  },
  {
   "cell_type": "code",
   "execution_count": 3,
   "id": "7b828bec",
   "metadata": {},
   "outputs": [
    {
     "name": "stdout",
     "output_type": "stream",
     "text": [
      "[1] 5\n",
      "[1] 3\n",
      "[1] 5 3\n",
      "[1] 3\n"
     ]
    }
   ],
   "source": [
    "print(nrow(df))\n",
    "print(ncol(df))\n",
    "print(dim(df))\n",
    "print(length(df))"
   ]
  },
  {
   "cell_type": "code",
   "execution_count": 4,
   "id": "6e7ad204",
   "metadata": {},
   "outputs": [
    {
     "data": {
      "text/html": [
       "<table>\n",
       "<thead><tr><th scope=col>label</th><th scope=col>x2</th></tr></thead>\n",
       "<tbody>\n",
       "\t<tr><td>a1 </td><td>100</td></tr>\n",
       "\t<tr><td>a2 </td><td> NA</td></tr>\n",
       "\t<tr><td>a3 </td><td>300</td></tr>\n",
       "\t<tr><td>a4 </td><td>400</td></tr>\n",
       "\t<tr><td>a5 </td><td> NA</td></tr>\n",
       "</tbody>\n",
       "</table>\n"
      ],
      "text/latex": [
       "\\begin{tabular}{r|ll}\n",
       " label & x2\\\\\n",
       "\\hline\n",
       "\t a1  & 100\\\\\n",
       "\t a2  &  NA\\\\\n",
       "\t a3  & 300\\\\\n",
       "\t a4  & 400\\\\\n",
       "\t a5  &  NA\\\\\n",
       "\\end{tabular}\n"
      ],
      "text/markdown": [
       "\n",
       "| label | x2 |\n",
       "|---|---|\n",
       "| a1  | 100 |\n",
       "| a2  |  NA |\n",
       "| a3  | 300 |\n",
       "| a4  | 400 |\n",
       "| a5  |  NA |\n",
       "\n"
      ],
      "text/plain": [
       "  label x2 \n",
       "1 a1    100\n",
       "2 a2     NA\n",
       "3 a3    300\n",
       "4 a4    400\n",
       "5 a5     NA"
      ]
     },
     "metadata": {},
     "output_type": "display_data"
    }
   ],
   "source": [
    "dftest <- df[, !(colnames(df) %in% c('x1', 'x99'))]\n",
    "dftest"
   ]
  },
  {
   "cell_type": "markdown",
   "id": "e3ab3305",
   "metadata": {},
   "source": [
    "### Access rows and columns"
   ]
  },
  {
   "cell_type": "code",
   "execution_count": 5,
   "id": "6571898c",
   "metadata": {},
   "outputs": [
    {
     "data": {
      "text/html": [
       "<table>\n",
       "<thead><tr><th></th><th scope=col>label</th><th scope=col>x1</th><th scope=col>x2</th></tr></thead>\n",
       "<tbody>\n",
       "\t<tr><th scope=row>2</th><td>a2</td><td>2 </td><td>NA</td></tr>\n",
       "</tbody>\n",
       "</table>\n"
      ],
      "text/latex": [
       "\\begin{tabular}{r|lll}\n",
       "  & label & x1 & x2\\\\\n",
       "\\hline\n",
       "\t2 & a2 & 2  & NA\\\\\n",
       "\\end{tabular}\n"
      ],
      "text/markdown": [
       "\n",
       "| <!--/--> | label | x1 | x2 |\n",
       "|---|---|---|---|\n",
       "| 2 | a2 | 2  | NA |\n",
       "\n"
      ],
      "text/plain": [
       "  label x1 x2\n",
       "2 a2    2  NA"
      ]
     },
     "metadata": {},
     "output_type": "display_data"
    }
   ],
   "source": [
    "df[2, ]   # at row 2"
   ]
  },
  {
   "cell_type": "code",
   "execution_count": 6,
   "id": "85279876",
   "metadata": {},
   "outputs": [
    {
     "data": {
      "text/html": [
       "<table>\n",
       "<thead><tr><th></th><th scope=col>label</th><th scope=col>x1</th><th scope=col>x2</th></tr></thead>\n",
       "<tbody>\n",
       "\t<tr><th scope=row>1</th><td>a1 </td><td>9  </td><td>100</td></tr>\n",
       "\t<tr><th scope=row>3</th><td>a3 </td><td>3  </td><td>300</td></tr>\n",
       "</tbody>\n",
       "</table>\n"
      ],
      "text/latex": [
       "\\begin{tabular}{r|lll}\n",
       "  & label & x1 & x2\\\\\n",
       "\\hline\n",
       "\t1 & a1  & 9   & 100\\\\\n",
       "\t3 & a3  & 3   & 300\\\\\n",
       "\\end{tabular}\n"
      ],
      "text/markdown": [
       "\n",
       "| <!--/--> | label | x1 | x2 |\n",
       "|---|---|---|---|\n",
       "| 1 | a1  | 9   | 100 |\n",
       "| 3 | a3  | 3   | 300 |\n",
       "\n"
      ],
      "text/plain": [
       "  label x1 x2 \n",
       "1 a1    9  100\n",
       "3 a3    3  300"
      ]
     },
     "metadata": {},
     "output_type": "display_data"
    }
   ],
   "source": [
    "df[c(1, 3), ] # at row 1, 3"
   ]
  },
  {
   "cell_type": "code",
   "execution_count": 7,
   "id": "c9d5b1b0",
   "metadata": {},
   "outputs": [
    {
     "data": {
      "text/html": [
       "<table>\n",
       "<thead><tr><th scope=col>label</th></tr></thead>\n",
       "<tbody>\n",
       "\t<tr><td>a1</td></tr>\n",
       "\t<tr><td>a2</td></tr>\n",
       "\t<tr><td>a3</td></tr>\n",
       "\t<tr><td>a4</td></tr>\n",
       "\t<tr><td>a5</td></tr>\n",
       "</tbody>\n",
       "</table>\n"
      ],
      "text/latex": [
       "\\begin{tabular}{r|l}\n",
       " label\\\\\n",
       "\\hline\n",
       "\t a1\\\\\n",
       "\t a2\\\\\n",
       "\t a3\\\\\n",
       "\t a4\\\\\n",
       "\t a5\\\\\n",
       "\\end{tabular}\n"
      ],
      "text/markdown": [
       "\n",
       "| label |\n",
       "|---|\n",
       "| a1 |\n",
       "| a2 |\n",
       "| a3 |\n",
       "| a4 |\n",
       "| a5 |\n",
       "\n"
      ],
      "text/plain": [
       "  label\n",
       "1 a1   \n",
       "2 a2   \n",
       "3 a3   \n",
       "4 a4   \n",
       "5 a5   "
      ]
     },
     "metadata": {},
     "output_type": "display_data"
    }
   ],
   "source": [
    "df[1]  # at column 1"
   ]
  },
  {
   "cell_type": "code",
   "execution_count": 8,
   "id": "52977fb4",
   "metadata": {},
   "outputs": [
    {
     "data": {
      "text/html": [
       "<table>\n",
       "<thead><tr><th scope=col>label</th></tr></thead>\n",
       "<tbody>\n",
       "\t<tr><td>a1</td></tr>\n",
       "\t<tr><td>a2</td></tr>\n",
       "\t<tr><td>a3</td></tr>\n",
       "\t<tr><td>a4</td></tr>\n",
       "\t<tr><td>a5</td></tr>\n",
       "</tbody>\n",
       "</table>\n"
      ],
      "text/latex": [
       "\\begin{tabular}{r|l}\n",
       " label\\\\\n",
       "\\hline\n",
       "\t a1\\\\\n",
       "\t a2\\\\\n",
       "\t a3\\\\\n",
       "\t a4\\\\\n",
       "\t a5\\\\\n",
       "\\end{tabular}\n"
      ],
      "text/markdown": [
       "\n",
       "| label |\n",
       "|---|\n",
       "| a1 |\n",
       "| a2 |\n",
       "| a3 |\n",
       "| a4 |\n",
       "| a5 |\n",
       "\n"
      ],
      "text/plain": [
       "  label\n",
       "1 a1   \n",
       "2 a2   \n",
       "3 a3   \n",
       "4 a4   \n",
       "5 a5   "
      ]
     },
     "metadata": {},
     "output_type": "display_data"
    }
   ],
   "source": [
    "df['label']"
   ]
  },
  {
   "cell_type": "markdown",
   "id": "bdd98eb3",
   "metadata": {},
   "source": [
    "### Get unique values of a column"
   ]
  },
  {
   "cell_type": "code",
   "execution_count": 9,
   "id": "c0cd2228",
   "metadata": {},
   "outputs": [
    {
     "data": {
      "text/html": [
       "<ol class=list-inline>\n",
       "\t<li>a1</li>\n",
       "\t<li>a2</li>\n",
       "\t<li>a3</li>\n",
       "\t<li>a4</li>\n",
       "\t<li>a5</li>\n",
       "</ol>\n",
       "\n",
       "<details>\n",
       "\t<summary style=display:list-item;cursor:pointer>\n",
       "\t\t<strong>Levels</strong>:\n",
       "\t</summary>\n",
       "\t<ol class=list-inline>\n",
       "\t\t<li>'a1'</li>\n",
       "\t\t<li>'a2'</li>\n",
       "\t\t<li>'a3'</li>\n",
       "\t\t<li>'a4'</li>\n",
       "\t\t<li>'a5'</li>\n",
       "\t</ol>\n",
       "</details>"
      ],
      "text/latex": [
       "\\begin{enumerate*}\n",
       "\\item a1\n",
       "\\item a2\n",
       "\\item a3\n",
       "\\item a4\n",
       "\\item a5\n",
       "\\end{enumerate*}\n",
       "\n",
       "\\emph{Levels}: \\begin{enumerate*}\n",
       "\\item 'a1'\n",
       "\\item 'a2'\n",
       "\\item 'a3'\n",
       "\\item 'a4'\n",
       "\\item 'a5'\n",
       "\\end{enumerate*}\n"
      ],
      "text/markdown": [
       "1. a1\n",
       "2. a2\n",
       "3. a3\n",
       "4. a4\n",
       "5. a5\n",
       "\n",
       "\n",
       "\n",
       "**Levels**: 1. 'a1'\n",
       "2. 'a2'\n",
       "3. 'a3'\n",
       "4. 'a4'\n",
       "5. 'a5'\n",
       "\n",
       "\n"
      ],
      "text/plain": [
       "[1] a1 a2 a3 a4 a5\n",
       "Levels: a1 a2 a3 a4 a5"
      ]
     },
     "metadata": {},
     "output_type": "display_data"
    },
    {
     "data": {
      "text/html": [
       "'factor'"
      ],
      "text/latex": [
       "'factor'"
      ],
      "text/markdown": [
       "'factor'"
      ],
      "text/plain": [
       "[1] \"factor\""
      ]
     },
     "metadata": {},
     "output_type": "display_data"
    }
   ],
   "source": [
    "labels = unique(df$label)\n",
    "labels\n",
    "class(labels)"
   ]
  },
  {
   "cell_type": "markdown",
   "id": "b815c52d",
   "metadata": {},
   "source": [
    "### Access df by column names"
   ]
  },
  {
   "cell_type": "code",
   "execution_count": 10,
   "id": "5b0ef282",
   "metadata": {},
   "outputs": [
    {
     "data": {
      "text/html": [
       "<table>\n",
       "<thead><tr><th scope=col>x1</th><th scope=col>x2</th></tr></thead>\n",
       "<tbody>\n",
       "\t<tr><td> 9 </td><td>100</td></tr>\n",
       "\t<tr><td> 2 </td><td> NA</td></tr>\n",
       "\t<tr><td> 3 </td><td>300</td></tr>\n",
       "\t<tr><td>NA </td><td>400</td></tr>\n",
       "\t<tr><td>NA </td><td> NA</td></tr>\n",
       "</tbody>\n",
       "</table>\n"
      ],
      "text/latex": [
       "\\begin{tabular}{r|ll}\n",
       " x1 & x2\\\\\n",
       "\\hline\n",
       "\t  9  & 100\\\\\n",
       "\t  2  &  NA\\\\\n",
       "\t  3  & 300\\\\\n",
       "\t NA  & 400\\\\\n",
       "\t NA  &  NA\\\\\n",
       "\\end{tabular}\n"
      ],
      "text/markdown": [
       "\n",
       "| x1 | x2 |\n",
       "|---|---|\n",
       "|  9  | 100 |\n",
       "|  2  |  NA |\n",
       "|  3  | 300 |\n",
       "| NA  | 400 |\n",
       "| NA  |  NA |\n",
       "\n"
      ],
      "text/plain": [
       "  x1 x2 \n",
       "1  9 100\n",
       "2  2  NA\n",
       "3  3 300\n",
       "4 NA 400\n",
       "5 NA  NA"
      ]
     },
     "metadata": {},
     "output_type": "display_data"
    }
   ],
   "source": [
    "df_sub2 <- df[c('x1', 'x2')]\n",
    "df_sub2"
   ]
  },
  {
   "cell_type": "code",
   "execution_count": 11,
   "id": "c012c6ee",
   "metadata": {},
   "outputs": [
    {
     "data": {
      "text/html": [
       "<table>\n",
       "<thead><tr><th scope=col>x1</th></tr></thead>\n",
       "<tbody>\n",
       "\t<tr><td> 9</td></tr>\n",
       "\t<tr><td> 2</td></tr>\n",
       "\t<tr><td> 3</td></tr>\n",
       "\t<tr><td>NA</td></tr>\n",
       "\t<tr><td>NA</td></tr>\n",
       "</tbody>\n",
       "</table>\n"
      ],
      "text/latex": [
       "\\begin{tabular}{r|l}\n",
       " x1\\\\\n",
       "\\hline\n",
       "\t  9\\\\\n",
       "\t  2\\\\\n",
       "\t  3\\\\\n",
       "\t NA\\\\\n",
       "\t NA\\\\\n",
       "\\end{tabular}\n"
      ],
      "text/markdown": [
       "\n",
       "| x1 |\n",
       "|---|\n",
       "|  9 |\n",
       "|  2 |\n",
       "|  3 |\n",
       "| NA |\n",
       "| NA |\n",
       "\n"
      ],
      "text/plain": [
       "  x1\n",
       "1  9\n",
       "2  2\n",
       "3  3\n",
       "4 NA\n",
       "5 NA"
      ]
     },
     "metadata": {},
     "output_type": "display_data"
    },
    {
     "data": {
      "text/html": [
       "'data.frame'"
      ],
      "text/latex": [
       "'data.frame'"
      ],
      "text/markdown": [
       "'data.frame'"
      ],
      "text/plain": [
       "[1] \"data.frame\""
      ]
     },
     "metadata": {},
     "output_type": "display_data"
    }
   ],
   "source": [
    "df_sub1 <- df['x1']\n",
    "df_sub1\n",
    "class(df_sub1)"
   ]
  },
  {
   "cell_type": "markdown",
   "id": "008a76f0",
   "metadata": {},
   "source": [
    "### Set index for df instead of integer index"
   ]
  },
  {
   "cell_type": "code",
   "execution_count": 12,
   "id": "76278189",
   "metadata": {},
   "outputs": [
    {
     "data": {
      "text/html": [
       "<table>\n",
       "<thead><tr><th scope=col>label</th><th scope=col>x1</th><th scope=col>x2</th></tr></thead>\n",
       "<tbody>\n",
       "\t<tr><td>a1 </td><td> 9 </td><td>100</td></tr>\n",
       "\t<tr><td>a2 </td><td> 2 </td><td> NA</td></tr>\n",
       "\t<tr><td>a3 </td><td> 3 </td><td>300</td></tr>\n",
       "\t<tr><td>a4 </td><td>NA </td><td>400</td></tr>\n",
       "\t<tr><td>a5 </td><td>NA </td><td> NA</td></tr>\n",
       "</tbody>\n",
       "</table>\n"
      ],
      "text/latex": [
       "\\begin{tabular}{r|lll}\n",
       " label & x1 & x2\\\\\n",
       "\\hline\n",
       "\t a1  &  9  & 100\\\\\n",
       "\t a2  &  2  &  NA\\\\\n",
       "\t a3  &  3  & 300\\\\\n",
       "\t a4  & NA  & 400\\\\\n",
       "\t a5  & NA  &  NA\\\\\n",
       "\\end{tabular}\n"
      ],
      "text/markdown": [
       "\n",
       "| label | x1 | x2 |\n",
       "|---|---|---|\n",
       "| a1  |  9  | 100 |\n",
       "| a2  |  2  |  NA |\n",
       "| a3  |  3  | 300 |\n",
       "| a4  | NA  | 400 |\n",
       "| a5  | NA  |  NA |\n",
       "\n"
      ],
      "text/plain": [
       "  label x1 x2 \n",
       "1 a1     9 100\n",
       "2 a2     2  NA\n",
       "3 a3     3 300\n",
       "4 a4    NA 400\n",
       "5 a5    NA  NA"
      ]
     },
     "metadata": {},
     "output_type": "display_data"
    }
   ],
   "source": [
    "df <- data.frame(label = c('a1', 'a2', 'a3', 'a4', 'a5'),\n",
    "                 x1 = c(9, 2, 3, NA, NA), \n",
    "                 x2 = c(100, NA, 300, 400, NA))\n",
    "df"
   ]
  },
  {
   "cell_type": "code",
   "execution_count": 13,
   "id": "754a46ce",
   "metadata": {},
   "outputs": [
    {
     "data": {
      "text/html": [
       "<table>\n",
       "<thead><tr><th></th><th scope=col>label</th><th scope=col>x1</th><th scope=col>x2</th></tr></thead>\n",
       "<tbody>\n",
       "\t<tr><th scope=row>a1</th><td>a1 </td><td> 9 </td><td>100</td></tr>\n",
       "\t<tr><th scope=row>a2</th><td>a2 </td><td> 2 </td><td> NA</td></tr>\n",
       "\t<tr><th scope=row>a3</th><td>a3 </td><td> 3 </td><td>300</td></tr>\n",
       "\t<tr><th scope=row>a4</th><td>a4 </td><td>NA </td><td>400</td></tr>\n",
       "\t<tr><th scope=row>a5</th><td>a5 </td><td>NA </td><td> NA</td></tr>\n",
       "</tbody>\n",
       "</table>\n"
      ],
      "text/latex": [
       "\\begin{tabular}{r|lll}\n",
       "  & label & x1 & x2\\\\\n",
       "\\hline\n",
       "\ta1 & a1  &  9  & 100\\\\\n",
       "\ta2 & a2  &  2  &  NA\\\\\n",
       "\ta3 & a3  &  3  & 300\\\\\n",
       "\ta4 & a4  & NA  & 400\\\\\n",
       "\ta5 & a5  & NA  &  NA\\\\\n",
       "\\end{tabular}\n"
      ],
      "text/markdown": [
       "\n",
       "| <!--/--> | label | x1 | x2 |\n",
       "|---|---|---|---|\n",
       "| a1 | a1  |  9  | 100 |\n",
       "| a2 | a2  |  2  |  NA |\n",
       "| a3 | a3  |  3  | 300 |\n",
       "| a4 | a4  | NA  | 400 |\n",
       "| a5 | a5  | NA  |  NA |\n",
       "\n"
      ],
      "text/plain": [
       "   label x1 x2 \n",
       "a1 a1     9 100\n",
       "a2 a2     2  NA\n",
       "a3 a3     3 300\n",
       "a4 a4    NA 400\n",
       "a5 a5    NA  NA"
      ]
     },
     "metadata": {},
     "output_type": "display_data"
    }
   ],
   "source": [
    "row.names(df) <- df[['label']]\n",
    "df"
   ]
  },
  {
   "cell_type": "code",
   "execution_count": 14,
   "id": "6f9c6a2f",
   "metadata": {},
   "outputs": [
    {
     "data": {
      "text/html": [
       "<ol class=list-inline>\n",
       "\t<li>'label'</li>\n",
       "\t<li>'x1'</li>\n",
       "\t<li>'x2'</li>\n",
       "</ol>\n"
      ],
      "text/latex": [
       "\\begin{enumerate*}\n",
       "\\item 'label'\n",
       "\\item 'x1'\n",
       "\\item 'x2'\n",
       "\\end{enumerate*}\n"
      ],
      "text/markdown": [
       "1. 'label'\n",
       "2. 'x1'\n",
       "3. 'x2'\n",
       "\n",
       "\n"
      ],
      "text/plain": [
       "[1] \"label\" \"x1\"    \"x2\"   "
      ]
     },
     "metadata": {},
     "output_type": "display_data"
    }
   ],
   "source": [
    "colnames(df)"
   ]
  },
  {
   "cell_type": "code",
   "execution_count": 15,
   "id": "d18f89e6",
   "metadata": {},
   "outputs": [
    {
     "data": {
      "text/html": [
       "<table>\n",
       "<thead><tr><th></th><th scope=col>x1</th><th scope=col>x2</th></tr></thead>\n",
       "<tbody>\n",
       "\t<tr><th scope=row>a1</th><td> 9 </td><td>100</td></tr>\n",
       "\t<tr><th scope=row>a2</th><td> 2 </td><td> NA</td></tr>\n",
       "\t<tr><th scope=row>a3</th><td> 3 </td><td>300</td></tr>\n",
       "\t<tr><th scope=row>a4</th><td>NA </td><td>400</td></tr>\n",
       "\t<tr><th scope=row>a5</th><td>NA </td><td> NA</td></tr>\n",
       "</tbody>\n",
       "</table>\n"
      ],
      "text/latex": [
       "\\begin{tabular}{r|ll}\n",
       "  & x1 & x2\\\\\n",
       "\\hline\n",
       "\ta1 &  9  & 100\\\\\n",
       "\ta2 &  2  &  NA\\\\\n",
       "\ta3 &  3  & 300\\\\\n",
       "\ta4 & NA  & 400\\\\\n",
       "\ta5 & NA  &  NA\\\\\n",
       "\\end{tabular}\n"
      ],
      "text/markdown": [
       "\n",
       "| <!--/--> | x1 | x2 |\n",
       "|---|---|---|\n",
       "| a1 |  9  | 100 |\n",
       "| a2 |  2  |  NA |\n",
       "| a3 |  3  | 300 |\n",
       "| a4 | NA  | 400 |\n",
       "| a5 | NA  |  NA |\n",
       "\n"
      ],
      "text/plain": [
       "   x1 x2 \n",
       "a1  9 100\n",
       "a2  2  NA\n",
       "a3  3 300\n",
       "a4 NA 400\n",
       "a5 NA  NA"
      ]
     },
     "metadata": {},
     "output_type": "display_data"
    }
   ],
   "source": [
    "df <- df[, !(colnames(df) %in% c('label'))]\n",
    "# Other way: df <- subset(df, select = -c(label))\n",
    "df"
   ]
  },
  {
   "cell_type": "code",
   "execution_count": 16,
   "id": "8224a0f8",
   "metadata": {},
   "outputs": [
    {
     "data": {
      "text/html": [
       "<table>\n",
       "<thead><tr><th scope=col>x1</th><th scope=col>x2</th></tr></thead>\n",
       "<tbody>\n",
       "\t<tr><td> 9 </td><td>100</td></tr>\n",
       "\t<tr><td> 2 </td><td> NA</td></tr>\n",
       "\t<tr><td> 3 </td><td>300</td></tr>\n",
       "\t<tr><td>NA </td><td>400</td></tr>\n",
       "\t<tr><td>NA </td><td> NA</td></tr>\n",
       "</tbody>\n",
       "</table>\n"
      ],
      "text/latex": [
       "\\begin{tabular}{r|ll}\n",
       " x1 & x2\\\\\n",
       "\\hline\n",
       "\t  9  & 100\\\\\n",
       "\t  2  &  NA\\\\\n",
       "\t  3  & 300\\\\\n",
       "\t NA  & 400\\\\\n",
       "\t NA  &  NA\\\\\n",
       "\\end{tabular}\n"
      ],
      "text/markdown": [
       "\n",
       "| x1 | x2 |\n",
       "|---|---|\n",
       "|  9  | 100 |\n",
       "|  2  |  NA |\n",
       "|  3  | 300 |\n",
       "| NA  | 400 |\n",
       "| NA  |  NA |\n",
       "\n"
      ],
      "text/plain": [
       "  x1 x2 \n",
       "1  9 100\n",
       "2  2  NA\n",
       "3  3 300\n",
       "4 NA 400\n",
       "5 NA  NA"
      ]
     },
     "metadata": {},
     "output_type": "display_data"
    }
   ],
   "source": [
    "row.names(df) <- df$label\n",
    "df"
   ]
  },
  {
   "cell_type": "markdown",
   "id": "3091b037",
   "metadata": {},
   "source": [
    "### select() columns"
   ]
  },
  {
   "cell_type": "code",
   "execution_count": 17,
   "id": "163d6c6f",
   "metadata": {},
   "outputs": [
    {
     "data": {
      "text/html": [
       "<table>\n",
       "<thead><tr><th scope=col>x1</th></tr></thead>\n",
       "<tbody>\n",
       "\t<tr><td> 9</td></tr>\n",
       "\t<tr><td> 2</td></tr>\n",
       "\t<tr><td> 3</td></tr>\n",
       "\t<tr><td>NA</td></tr>\n",
       "\t<tr><td>NA</td></tr>\n",
       "</tbody>\n",
       "</table>\n"
      ],
      "text/latex": [
       "\\begin{tabular}{r|l}\n",
       " x1\\\\\n",
       "\\hline\n",
       "\t  9\\\\\n",
       "\t  2\\\\\n",
       "\t  3\\\\\n",
       "\t NA\\\\\n",
       "\t NA\\\\\n",
       "\\end{tabular}\n"
      ],
      "text/markdown": [
       "\n",
       "| x1 |\n",
       "|---|\n",
       "|  9 |\n",
       "|  2 |\n",
       "|  3 |\n",
       "| NA |\n",
       "| NA |\n",
       "\n"
      ],
      "text/plain": [
       "  x1\n",
       "1  9\n",
       "2  2\n",
       "3  3\n",
       "4 NA\n",
       "5 NA"
      ]
     },
     "metadata": {},
     "output_type": "display_data"
    }
   ],
   "source": [
    "df %>% select(1:1) # 1:2"
   ]
  },
  {
   "cell_type": "markdown",
   "id": "d1d45e66",
   "metadata": {},
   "source": [
    "### Subset(): Remove a column in df"
   ]
  },
  {
   "cell_type": "code",
   "execution_count": 18,
   "id": "d4393a79",
   "metadata": {},
   "outputs": [
    {
     "data": {
      "text/html": [
       "'data.frame'"
      ],
      "text/latex": [
       "'data.frame'"
      ],
      "text/markdown": [
       "'data.frame'"
      ],
      "text/plain": [
       "[1] \"data.frame\""
      ]
     },
     "metadata": {},
     "output_type": "display_data"
    },
    {
     "data": {
      "text/html": [
       "<table>\n",
       "<thead><tr><th scope=col>x2</th></tr></thead>\n",
       "<tbody>\n",
       "\t<tr><td>100</td></tr>\n",
       "\t<tr><td> NA</td></tr>\n",
       "\t<tr><td>300</td></tr>\n",
       "\t<tr><td>400</td></tr>\n",
       "\t<tr><td> NA</td></tr>\n",
       "</tbody>\n",
       "</table>\n"
      ],
      "text/latex": [
       "\\begin{tabular}{r|l}\n",
       " x2\\\\\n",
       "\\hline\n",
       "\t 100\\\\\n",
       "\t  NA\\\\\n",
       "\t 300\\\\\n",
       "\t 400\\\\\n",
       "\t  NA\\\\\n",
       "\\end{tabular}\n"
      ],
      "text/markdown": [
       "\n",
       "| x2 |\n",
       "|---|\n",
       "| 100 |\n",
       "|  NA |\n",
       "| 300 |\n",
       "| 400 |\n",
       "|  NA |\n",
       "\n"
      ],
      "text/plain": [
       "  x2 \n",
       "1 100\n",
       "2  NA\n",
       "3 300\n",
       "4 400\n",
       "5  NA"
      ]
     },
     "metadata": {},
     "output_type": "display_data"
    }
   ],
   "source": [
    "df <- data.frame(label = c('a1', 'a2', 'a3', 'a4', 'a5'),\n",
    "                 x1 = c(9, 2, 3, NA, NA), \n",
    "                 x2 = c(100, NA, 300, 400, NA))\n",
    "\n",
    "df_sub <- subset(df, select = -c(label, x1))\n",
    "class(df_sub)\n",
    "df_sub"
   ]
  },
  {
   "cell_type": "markdown",
   "id": "de1252a5",
   "metadata": {},
   "source": [
    "### Sorted df by values in a colum: order and arrange"
   ]
  },
  {
   "cell_type": "code",
   "execution_count": 19,
   "id": "8832b8bd",
   "metadata": {},
   "outputs": [
    {
     "data": {
      "text/html": [
       "<table>\n",
       "<thead><tr><th scope=col>label</th><th scope=col>x1</th><th scope=col>x2</th></tr></thead>\n",
       "<tbody>\n",
       "\t<tr><td>a1 </td><td> 9 </td><td>100</td></tr>\n",
       "\t<tr><td>a2 </td><td> 2 </td><td> NA</td></tr>\n",
       "\t<tr><td>a3 </td><td> 3 </td><td>300</td></tr>\n",
       "\t<tr><td>a4 </td><td>NA </td><td>400</td></tr>\n",
       "\t<tr><td>a5 </td><td>NA </td><td> NA</td></tr>\n",
       "</tbody>\n",
       "</table>\n"
      ],
      "text/latex": [
       "\\begin{tabular}{r|lll}\n",
       " label & x1 & x2\\\\\n",
       "\\hline\n",
       "\t a1  &  9  & 100\\\\\n",
       "\t a2  &  2  &  NA\\\\\n",
       "\t a3  &  3  & 300\\\\\n",
       "\t a4  & NA  & 400\\\\\n",
       "\t a5  & NA  &  NA\\\\\n",
       "\\end{tabular}\n"
      ],
      "text/markdown": [
       "\n",
       "| label | x1 | x2 |\n",
       "|---|---|---|\n",
       "| a1  |  9  | 100 |\n",
       "| a2  |  2  |  NA |\n",
       "| a3  |  3  | 300 |\n",
       "| a4  | NA  | 400 |\n",
       "| a5  | NA  |  NA |\n",
       "\n"
      ],
      "text/plain": [
       "  label x1 x2 \n",
       "1 a1     9 100\n",
       "2 a2     2  NA\n",
       "3 a3     3 300\n",
       "4 a4    NA 400\n",
       "5 a5    NA  NA"
      ]
     },
     "metadata": {},
     "output_type": "display_data"
    }
   ],
   "source": [
    "df <- data.frame(label = c('a1', 'a2', 'a3', 'a4', 'a5'),\n",
    "                 x1 = c(9, 2, 3, NA, NA), \n",
    "                 x2 = c(100, NA, 300, 400, NA))\n",
    "df"
   ]
  },
  {
   "cell_type": "code",
   "execution_count": 20,
   "id": "c5d49a3c",
   "metadata": {},
   "outputs": [
    {
     "data": {
      "text/html": [
       "<table>\n",
       "<thead><tr><th></th><th scope=col>label</th><th scope=col>x1</th><th scope=col>x2</th></tr></thead>\n",
       "<tbody>\n",
       "\t<tr><th scope=row>2</th><td>a2 </td><td> 2 </td><td> NA</td></tr>\n",
       "\t<tr><th scope=row>3</th><td>a3 </td><td> 3 </td><td>300</td></tr>\n",
       "\t<tr><th scope=row>1</th><td>a1 </td><td> 9 </td><td>100</td></tr>\n",
       "\t<tr><th scope=row>4</th><td>a4 </td><td>NA </td><td>400</td></tr>\n",
       "\t<tr><th scope=row>5</th><td>a5 </td><td>NA </td><td> NA</td></tr>\n",
       "</tbody>\n",
       "</table>\n"
      ],
      "text/latex": [
       "\\begin{tabular}{r|lll}\n",
       "  & label & x1 & x2\\\\\n",
       "\\hline\n",
       "\t2 & a2  &  2  &  NA\\\\\n",
       "\t3 & a3  &  3  & 300\\\\\n",
       "\t1 & a1  &  9  & 100\\\\\n",
       "\t4 & a4  & NA  & 400\\\\\n",
       "\t5 & a5  & NA  &  NA\\\\\n",
       "\\end{tabular}\n"
      ],
      "text/markdown": [
       "\n",
       "| <!--/--> | label | x1 | x2 |\n",
       "|---|---|---|---|\n",
       "| 2 | a2  |  2  |  NA |\n",
       "| 3 | a3  |  3  | 300 |\n",
       "| 1 | a1  |  9  | 100 |\n",
       "| 4 | a4  | NA  | 400 |\n",
       "| 5 | a5  | NA  |  NA |\n",
       "\n"
      ],
      "text/plain": [
       "  label x1 x2 \n",
       "2 a2     2  NA\n",
       "3 a3     3 300\n",
       "1 a1     9 100\n",
       "4 a4    NA 400\n",
       "5 a5    NA  NA"
      ]
     },
     "metadata": {},
     "output_type": "display_data"
    }
   ],
   "source": [
    "df_sorted <- df[order(df$x1), ]  # Note: raise error if df has only x1 column\n",
    "df_sorted"
   ]
  },
  {
   "cell_type": "code",
   "execution_count": 21,
   "id": "23dc53fe",
   "metadata": {},
   "outputs": [
    {
     "data": {
      "text/html": [
       "<table>\n",
       "<thead><tr><th scope=col>label</th><th scope=col>x1</th><th scope=col>x2</th></tr></thead>\n",
       "<tbody>\n",
       "\t<tr><td>a2 </td><td> 2 </td><td> NA</td></tr>\n",
       "\t<tr><td>a3 </td><td> 3 </td><td>300</td></tr>\n",
       "\t<tr><td>a1 </td><td> 9 </td><td>100</td></tr>\n",
       "\t<tr><td>a4 </td><td>NA </td><td>400</td></tr>\n",
       "\t<tr><td>a5 </td><td>NA </td><td> NA</td></tr>\n",
       "</tbody>\n",
       "</table>\n"
      ],
      "text/latex": [
       "\\begin{tabular}{r|lll}\n",
       " label & x1 & x2\\\\\n",
       "\\hline\n",
       "\t a2  &  2  &  NA\\\\\n",
       "\t a3  &  3  & 300\\\\\n",
       "\t a1  &  9  & 100\\\\\n",
       "\t a4  & NA  & 400\\\\\n",
       "\t a5  & NA  &  NA\\\\\n",
       "\\end{tabular}\n"
      ],
      "text/markdown": [
       "\n",
       "| label | x1 | x2 |\n",
       "|---|---|---|\n",
       "| a2  |  2  |  NA |\n",
       "| a3  |  3  | 300 |\n",
       "| a1  |  9  | 100 |\n",
       "| a4  | NA  | 400 |\n",
       "| a5  | NA  |  NA |\n",
       "\n"
      ],
      "text/plain": [
       "  label x1 x2 \n",
       "1 a2     2  NA\n",
       "2 a3     3 300\n",
       "3 a1     9 100\n",
       "4 a4    NA 400\n",
       "5 a5    NA  NA"
      ]
     },
     "metadata": {},
     "output_type": "display_data"
    }
   ],
   "source": [
    "df_arrange <- df %>% arrange(x1)\n",
    "df_arrange"
   ]
  },
  {
   "cell_type": "code",
   "execution_count": 22,
   "id": "79297cdb",
   "metadata": {},
   "outputs": [
    {
     "data": {
      "text/html": [
       "<table>\n",
       "<thead><tr><th scope=col>label</th><th scope=col>x1</th><th scope=col>x2</th></tr></thead>\n",
       "<tbody>\n",
       "\t<tr><td>a2 </td><td> 2 </td><td> NA</td></tr>\n",
       "\t<tr><td>a3 </td><td> 3 </td><td>300</td></tr>\n",
       "\t<tr><td>a1 </td><td> 9 </td><td>100</td></tr>\n",
       "\t<tr><td>a4 </td><td>NA </td><td>400</td></tr>\n",
       "\t<tr><td>a5 </td><td>NA </td><td> NA</td></tr>\n",
       "</tbody>\n",
       "</table>\n"
      ],
      "text/latex": [
       "\\begin{tabular}{r|lll}\n",
       " label & x1 & x2\\\\\n",
       "\\hline\n",
       "\t a2  &  2  &  NA\\\\\n",
       "\t a3  &  3  & 300\\\\\n",
       "\t a1  &  9  & 100\\\\\n",
       "\t a4  & NA  & 400\\\\\n",
       "\t a5  & NA  &  NA\\\\\n",
       "\\end{tabular}\n"
      ],
      "text/markdown": [
       "\n",
       "| label | x1 | x2 |\n",
       "|---|---|---|\n",
       "| a2  |  2  |  NA |\n",
       "| a3  |  3  | 300 |\n",
       "| a1  |  9  | 100 |\n",
       "| a4  | NA  | 400 |\n",
       "| a5  | NA  |  NA |\n",
       "\n"
      ],
      "text/plain": [
       "  label x1 x2 \n",
       "1 a2     2  NA\n",
       "2 a3     3 300\n",
       "3 a1     9 100\n",
       "4 a4    NA 400\n",
       "5 a5    NA  NA"
      ]
     },
     "metadata": {},
     "output_type": "display_data"
    }
   ],
   "source": [
    "df_arrange <- df %>% arrange(x1, desc(x2))\n",
    "df_arrange"
   ]
  },
  {
   "cell_type": "markdown",
   "id": "cf0bd0b5",
   "metadata": {},
   "source": [
    "#### How to arrange by colname value"
   ]
  },
  {
   "cell_type": "code",
   "execution_count": 23,
   "id": "8fc42445",
   "metadata": {},
   "outputs": [
    {
     "data": {
      "text/html": [
       "<ol class=list-inline>\n",
       "\t<li>'label'</li>\n",
       "\t<li>'x1'</li>\n",
       "\t<li>'x2'</li>\n",
       "</ol>\n"
      ],
      "text/latex": [
       "\\begin{enumerate*}\n",
       "\\item 'label'\n",
       "\\item 'x1'\n",
       "\\item 'x2'\n",
       "\\end{enumerate*}\n"
      ],
      "text/markdown": [
       "1. 'label'\n",
       "2. 'x1'\n",
       "3. 'x2'\n",
       "\n",
       "\n"
      ],
      "text/plain": [
       "[1] \"label\" \"x1\"    \"x2\"   "
      ]
     },
     "metadata": {},
     "output_type": "display_data"
    },
    {
     "data": {
      "text/html": [
       "TRUE"
      ],
      "text/latex": [
       "TRUE"
      ],
      "text/markdown": [
       "TRUE"
      ],
      "text/plain": [
       "[1] TRUE"
      ]
     },
     "metadata": {},
     "output_type": "display_data"
    }
   ],
   "source": [
    "colnames(df)\n",
    "'x1' %in% colnames(df)"
   ]
  },
  {
   "cell_type": "markdown",
   "id": "5f2d9880",
   "metadata": {},
   "source": [
    "##### 'x1' NOT work correctly"
   ]
  },
  {
   "cell_type": "code",
   "execution_count": 24,
   "id": "e4a6fcca",
   "metadata": {},
   "outputs": [
    {
     "data": {
      "text/html": [
       "<table>\n",
       "<thead><tr><th scope=col>label</th><th scope=col>x1</th><th scope=col>x2</th></tr></thead>\n",
       "<tbody>\n",
       "\t<tr><td>a4 </td><td>NA </td><td>400</td></tr>\n",
       "\t<tr><td>a3 </td><td> 3 </td><td>300</td></tr>\n",
       "\t<tr><td>a1 </td><td> 9 </td><td>100</td></tr>\n",
       "\t<tr><td>a2 </td><td> 2 </td><td> NA</td></tr>\n",
       "\t<tr><td>a5 </td><td>NA </td><td> NA</td></tr>\n",
       "</tbody>\n",
       "</table>\n"
      ],
      "text/latex": [
       "\\begin{tabular}{r|lll}\n",
       " label & x1 & x2\\\\\n",
       "\\hline\n",
       "\t a4  & NA  & 400\\\\\n",
       "\t a3  &  3  & 300\\\\\n",
       "\t a1  &  9  & 100\\\\\n",
       "\t a2  &  2  &  NA\\\\\n",
       "\t a5  & NA  &  NA\\\\\n",
       "\\end{tabular}\n"
      ],
      "text/markdown": [
       "\n",
       "| label | x1 | x2 |\n",
       "|---|---|---|\n",
       "| a4  | NA  | 400 |\n",
       "| a3  |  3  | 300 |\n",
       "| a1  |  9  | 100 |\n",
       "| a2  |  2  |  NA |\n",
       "| a5  | NA  |  NA |\n",
       "\n"
      ],
      "text/plain": [
       "  label x1 x2 \n",
       "1 a4    NA 400\n",
       "2 a3     3 300\n",
       "3 a1     9 100\n",
       "4 a2     2  NA\n",
       "5 a5    NA  NA"
      ]
     },
     "metadata": {},
     "output_type": "display_data"
    }
   ],
   "source": [
    "df_arrange <- df %>% arrange('x1', desc(x2))  \n",
    "df_arrange"
   ]
  },
  {
   "cell_type": "markdown",
   "id": "d702ec5e",
   "metadata": {},
   "source": [
    "##### Solution 1"
   ]
  },
  {
   "cell_type": "code",
   "execution_count": 25,
   "id": "ae9135bc",
   "metadata": {},
   "outputs": [
    {
     "data": {
      "text/html": [
       "<table>\n",
       "<thead><tr><th></th><th scope=col>label</th><th scope=col>x1</th><th scope=col>x2</th></tr></thead>\n",
       "<tbody>\n",
       "\t<tr><th scope=row>2</th><td>a2 </td><td> 2 </td><td> NA</td></tr>\n",
       "\t<tr><th scope=row>3</th><td>a3 </td><td> 3 </td><td>300</td></tr>\n",
       "\t<tr><th scope=row>1</th><td>a1 </td><td> 9 </td><td>100</td></tr>\n",
       "\t<tr><th scope=row>4</th><td>a4 </td><td>NA </td><td>400</td></tr>\n",
       "\t<tr><th scope=row>5</th><td>a5 </td><td>NA </td><td> NA</td></tr>\n",
       "</tbody>\n",
       "</table>\n"
      ],
      "text/latex": [
       "\\begin{tabular}{r|lll}\n",
       "  & label & x1 & x2\\\\\n",
       "\\hline\n",
       "\t2 & a2  &  2  &  NA\\\\\n",
       "\t3 & a3  &  3  & 300\\\\\n",
       "\t1 & a1  &  9  & 100\\\\\n",
       "\t4 & a4  & NA  & 400\\\\\n",
       "\t5 & a5  & NA  &  NA\\\\\n",
       "\\end{tabular}\n"
      ],
      "text/markdown": [
       "\n",
       "| <!--/--> | label | x1 | x2 |\n",
       "|---|---|---|---|\n",
       "| 2 | a2  |  2  |  NA |\n",
       "| 3 | a3  |  3  | 300 |\n",
       "| 1 | a1  |  9  | 100 |\n",
       "| 4 | a4  | NA  | 400 |\n",
       "| 5 | a5  | NA  |  NA |\n",
       "\n"
      ],
      "text/plain": [
       "  label x1 x2 \n",
       "2 a2     2  NA\n",
       "3 a3     3 300\n",
       "1 a1     9 100\n",
       "4 a4    NA 400\n",
       "5 a5    NA  NA"
      ]
     },
     "metadata": {},
     "output_type": "display_data"
    }
   ],
   "source": [
    "sort.by.column <- function(df, column.name) {\n",
    "  df[order(df[, column.name]), ]\n",
    "}    \n",
    "\n",
    "df_arrange <- sort.by.column(df, 'x1')\n",
    "df_arrange"
   ]
  },
  {
   "cell_type": "markdown",
   "id": "1fb338cc",
   "metadata": {},
   "source": [
    "##### Solution 2"
   ]
  },
  {
   "cell_type": "code",
   "execution_count": 26,
   "id": "61b96492",
   "metadata": {},
   "outputs": [
    {
     "data": {
      "text/plain": [
       "x1"
      ]
     },
     "metadata": {},
     "output_type": "display_data"
    },
    {
     "data": {
      "text/html": [
       "'name'"
      ],
      "text/latex": [
       "'name'"
      ],
      "text/markdown": [
       "'name'"
      ],
      "text/plain": [
       "[1] \"name\""
      ]
     },
     "metadata": {},
     "output_type": "display_data"
    }
   ],
   "source": [
    "col <- sym('x1') \n",
    "col\n",
    "class(col)"
   ]
  },
  {
   "cell_type": "code",
   "execution_count": 27,
   "id": "9be5f0b6",
   "metadata": {},
   "outputs": [
    {
     "data": {
      "text/html": [
       "<table>\n",
       "<thead><tr><th scope=col>label</th><th scope=col>x1</th><th scope=col>x2</th></tr></thead>\n",
       "<tbody>\n",
       "\t<tr><td>a2 </td><td> 2 </td><td> NA</td></tr>\n",
       "\t<tr><td>a3 </td><td> 3 </td><td>300</td></tr>\n",
       "\t<tr><td>a1 </td><td> 9 </td><td>100</td></tr>\n",
       "\t<tr><td>a4 </td><td>NA </td><td>400</td></tr>\n",
       "\t<tr><td>a5 </td><td>NA </td><td> NA</td></tr>\n",
       "</tbody>\n",
       "</table>\n"
      ],
      "text/latex": [
       "\\begin{tabular}{r|lll}\n",
       " label & x1 & x2\\\\\n",
       "\\hline\n",
       "\t a2  &  2  &  NA\\\\\n",
       "\t a3  &  3  & 300\\\\\n",
       "\t a1  &  9  & 100\\\\\n",
       "\t a4  & NA  & 400\\\\\n",
       "\t a5  & NA  &  NA\\\\\n",
       "\\end{tabular}\n"
      ],
      "text/markdown": [
       "\n",
       "| label | x1 | x2 |\n",
       "|---|---|---|\n",
       "| a2  |  2  |  NA |\n",
       "| a3  |  3  | 300 |\n",
       "| a1  |  9  | 100 |\n",
       "| a4  | NA  | 400 |\n",
       "| a5  | NA  |  NA |\n",
       "\n"
      ],
      "text/plain": [
       "  label x1 x2 \n",
       "1 a2     2  NA\n",
       "2 a3     3 300\n",
       "3 a1     9 100\n",
       "4 a4    NA 400\n",
       "5 a5    NA  NA"
      ]
     },
     "metadata": {},
     "output_type": "display_data"
    }
   ],
   "source": [
    "col <- sym('x1') \n",
    "df_arrange <- df %>% arrange(!!col) # if desc use arrange(desc(!!col))\n",
    "df_arrange"
   ]
  },
  {
   "cell_type": "markdown",
   "id": "1432d634",
   "metadata": {},
   "source": [
    "### remove \"rows\" in a dataframe with a NA value in one of the columns"
   ]
  },
  {
   "cell_type": "code",
   "execution_count": 28,
   "id": "56d6b62b",
   "metadata": {},
   "outputs": [
    {
     "data": {
      "text/html": [
       "<table>\n",
       "<thead><tr><th></th><th scope=col>label</th><th scope=col>x1</th><th scope=col>x2</th></tr></thead>\n",
       "<tbody>\n",
       "\t<tr><th scope=row>1</th><td>a1 </td><td>9  </td><td>100</td></tr>\n",
       "\t<tr><th scope=row>3</th><td>a3 </td><td>3  </td><td>300</td></tr>\n",
       "</tbody>\n",
       "</table>\n"
      ],
      "text/latex": [
       "\\begin{tabular}{r|lll}\n",
       "  & label & x1 & x2\\\\\n",
       "\\hline\n",
       "\t1 & a1  & 9   & 100\\\\\n",
       "\t3 & a3  & 3   & 300\\\\\n",
       "\\end{tabular}\n"
      ],
      "text/markdown": [
       "\n",
       "| <!--/--> | label | x1 | x2 |\n",
       "|---|---|---|---|\n",
       "| 1 | a1  | 9   | 100 |\n",
       "| 3 | a3  | 3   | 300 |\n",
       "\n"
      ],
      "text/plain": [
       "  label x1 x2 \n",
       "1 a1    9  100\n",
       "3 a3    3  300"
      ]
     },
     "metadata": {},
     "output_type": "display_data"
    }
   ],
   "source": [
    "df1 = na.omit(df)\n",
    "df1"
   ]
  },
  {
   "cell_type": "markdown",
   "id": "b003bc9a",
   "metadata": {},
   "source": [
    "### remove \"rows\" in a dataframe with all NA"
   ]
  },
  {
   "cell_type": "code",
   "execution_count": 29,
   "id": "f9ebca05",
   "metadata": {},
   "outputs": [
    {
     "data": {
      "text/html": [
       "<table>\n",
       "<thead><tr><th></th><th scope=col>x1</th><th scope=col>x2</th></tr></thead>\n",
       "<tbody>\n",
       "\t<tr><th scope=row>a1</th><td> 9 </td><td>100</td></tr>\n",
       "\t<tr><th scope=row>a2</th><td> 2 </td><td> NA</td></tr>\n",
       "\t<tr><th scope=row>a3</th><td> 3 </td><td>300</td></tr>\n",
       "\t<tr><th scope=row>a4</th><td>NA </td><td>400</td></tr>\n",
       "\t<tr><th scope=row>a5</th><td>NA </td><td> NA</td></tr>\n",
       "</tbody>\n",
       "</table>\n"
      ],
      "text/latex": [
       "\\begin{tabular}{r|ll}\n",
       "  & x1 & x2\\\\\n",
       "\\hline\n",
       "\ta1 &  9  & 100\\\\\n",
       "\ta2 &  2  &  NA\\\\\n",
       "\ta3 &  3  & 300\\\\\n",
       "\ta4 & NA  & 400\\\\\n",
       "\ta5 & NA  &  NA\\\\\n",
       "\\end{tabular}\n"
      ],
      "text/markdown": [
       "\n",
       "| <!--/--> | x1 | x2 |\n",
       "|---|---|---|\n",
       "| a1 |  9  | 100 |\n",
       "| a2 |  2  |  NA |\n",
       "| a3 |  3  | 300 |\n",
       "| a4 | NA  | 400 |\n",
       "| a5 | NA  |  NA |\n",
       "\n"
      ],
      "text/plain": [
       "   x1 x2 \n",
       "a1  9 100\n",
       "a2  2  NA\n",
       "a3  3 300\n",
       "a4 NA 400\n",
       "a5 NA  NA"
      ]
     },
     "metadata": {},
     "output_type": "display_data"
    }
   ],
   "source": [
    "df <- data.frame(label = c('a1', 'a2', 'a3', 'a4', 'a5'),\n",
    "                 x1 = c(9, 2, 3, NA, NA),                 \n",
    "                 x2 = c(100, NA, 300, 400, NA))\n",
    "row.names(df) <- df[['label']]\n",
    "df <- subset(df, select = -c(label))\n",
    "df"
   ]
  },
  {
   "cell_type": "code",
   "execution_count": 30,
   "id": "9795d545",
   "metadata": {},
   "outputs": [
    {
     "data": {
      "text/html": [
       "<table>\n",
       "<thead><tr><th></th><th scope=col>x1</th><th scope=col>x2</th></tr></thead>\n",
       "<tbody>\n",
       "\t<tr><th scope=row>a1</th><td> 9 </td><td>100</td></tr>\n",
       "\t<tr><th scope=row>a2</th><td> 2 </td><td> NA</td></tr>\n",
       "\t<tr><th scope=row>a3</th><td> 3 </td><td>300</td></tr>\n",
       "\t<tr><th scope=row>a4</th><td>NA </td><td>400</td></tr>\n",
       "</tbody>\n",
       "</table>\n"
      ],
      "text/latex": [
       "\\begin{tabular}{r|ll}\n",
       "  & x1 & x2\\\\\n",
       "\\hline\n",
       "\ta1 &  9  & 100\\\\\n",
       "\ta2 &  2  &  NA\\\\\n",
       "\ta3 &  3  & 300\\\\\n",
       "\ta4 & NA  & 400\\\\\n",
       "\\end{tabular}\n"
      ],
      "text/markdown": [
       "\n",
       "| <!--/--> | x1 | x2 |\n",
       "|---|---|---|\n",
       "| a1 |  9  | 100 |\n",
       "| a2 |  2  |  NA |\n",
       "| a3 |  3  | 300 |\n",
       "| a4 | NA  | 400 |\n",
       "\n"
      ],
      "text/plain": [
       "   x1 x2 \n",
       "a1  9 100\n",
       "a2  2  NA\n",
       "a3  3 300\n",
       "a4 NA 400"
      ]
     },
     "metadata": {},
     "output_type": "display_data"
    }
   ],
   "source": [
    "df_remove_row_all_NA <- filter_all(df, any_vars(!is.na(.)))\n",
    "df_remove_row_all_NA"
   ]
  },
  {
   "cell_type": "markdown",
   "id": "c3375dd8",
   "metadata": {},
   "source": [
    "### Get column names"
   ]
  },
  {
   "cell_type": "code",
   "execution_count": 31,
   "id": "4086cdc0",
   "metadata": {},
   "outputs": [
    {
     "data": {
      "text/html": [
       "<ol class=list-inline>\n",
       "\t<li>'x1'</li>\n",
       "\t<li>'x2'</li>\n",
       "</ol>\n"
      ],
      "text/latex": [
       "\\begin{enumerate*}\n",
       "\\item 'x1'\n",
       "\\item 'x2'\n",
       "\\end{enumerate*}\n"
      ],
      "text/markdown": [
       "1. 'x1'\n",
       "2. 'x2'\n",
       "\n",
       "\n"
      ],
      "text/plain": [
       "[1] \"x1\" \"x2\""
      ]
     },
     "metadata": {},
     "output_type": "display_data"
    },
    {
     "data": {
      "text/html": [
       "'character'"
      ],
      "text/latex": [
       "'character'"
      ],
      "text/markdown": [
       "'character'"
      ],
      "text/plain": [
       "[1] \"character\""
      ]
     },
     "metadata": {},
     "output_type": "display_data"
    }
   ],
   "source": [
    "# col_names = colnames(df)\n",
    "col_names = names(df)\n",
    "col_names\n",
    "class(col_names)"
   ]
  },
  {
   "cell_type": "markdown",
   "id": "61b37a06",
   "metadata": {},
   "source": [
    "### Add a new column"
   ]
  },
  {
   "cell_type": "code",
   "execution_count": 32,
   "id": "dd44e6cb",
   "metadata": {},
   "outputs": [
    {
     "data": {
      "text/html": [
       "<table>\n",
       "<thead><tr><th scope=col>value</th><th scope=col>name</th></tr></thead>\n",
       "<tbody>\n",
       "\t<tr><td>1 </td><td> 1</td></tr>\n",
       "\t<tr><td>4 </td><td>NA</td></tr>\n",
       "</tbody>\n",
       "</table>\n"
      ],
      "text/latex": [
       "\\begin{tabular}{r|ll}\n",
       " value & name\\\\\n",
       "\\hline\n",
       "\t 1  &  1\\\\\n",
       "\t 4  & NA\\\\\n",
       "\\end{tabular}\n"
      ],
      "text/markdown": [
       "\n",
       "| value | name |\n",
       "|---|---|\n",
       "| 1  |  1 |\n",
       "| 4  | NA |\n",
       "\n"
      ],
      "text/plain": [
       "  value name\n",
       "1 1      1  \n",
       "2 4     NA  "
      ]
     },
     "metadata": {},
     "output_type": "display_data"
    },
    {
     "data": {
      "text/html": [
       "<ol class=list-inline>\n",
       "\t<li>1</li>\n",
       "\t<li>2</li>\n",
       "</ol>\n"
      ],
      "text/latex": [
       "\\begin{enumerate*}\n",
       "\\item 1\n",
       "\\item 2\n",
       "\\end{enumerate*}\n"
      ],
      "text/markdown": [
       "1. 1\n",
       "2. 2\n",
       "\n",
       "\n"
      ],
      "text/plain": [
       "[1] 1 2"
      ]
     },
     "metadata": {},
     "output_type": "display_data"
    }
   ],
   "source": [
    "df_small <- data.frame(value = c(1,4 ), name = c(1,NA))\n",
    "df_small\n",
    "as.numeric(rownames(df_small))"
   ]
  },
  {
   "cell_type": "code",
   "execution_count": 33,
   "id": "4a465a34",
   "metadata": {},
   "outputs": [
    {
     "data": {
      "text/html": [
       "<table>\n",
       "<thead><tr><th scope=col>value</th><th scope=col>name</th><th scope=col>id</th></tr></thead>\n",
       "<tbody>\n",
       "\t<tr><td>1 </td><td> 1</td><td>1 </td></tr>\n",
       "\t<tr><td>4 </td><td>NA</td><td>2 </td></tr>\n",
       "</tbody>\n",
       "</table>\n"
      ],
      "text/latex": [
       "\\begin{tabular}{r|lll}\n",
       " value & name & id\\\\\n",
       "\\hline\n",
       "\t 1  &  1 & 1 \\\\\n",
       "\t 4  & NA & 2 \\\\\n",
       "\\end{tabular}\n"
      ],
      "text/markdown": [
       "\n",
       "| value | name | id |\n",
       "|---|---|---|\n",
       "| 1  |  1 | 1  |\n",
       "| 4  | NA | 2  |\n",
       "\n"
      ],
      "text/plain": [
       "  value name id\n",
       "1 1      1   1 \n",
       "2 4     NA   2 "
      ]
     },
     "metadata": {},
     "output_type": "display_data"
    }
   ],
   "source": [
    "# Add a new column directly\n",
    "df_small$id <- as.numeric(rownames(df_small))\n",
    "df_small"
   ]
  },
  {
   "cell_type": "code",
   "execution_count": 34,
   "id": "2f37f253",
   "metadata": {},
   "outputs": [
    {
     "data": {
      "text/html": [
       "<table>\n",
       "<thead><tr><th scope=col>value</th><th scope=col>name</th><th scope=col>id</th><th scope=col>new_col</th></tr></thead>\n",
       "<tbody>\n",
       "\t<tr><td>1 </td><td> 1</td><td>1 </td><td>1 </td></tr>\n",
       "\t<tr><td>4 </td><td>NA</td><td>2 </td><td>2 </td></tr>\n",
       "</tbody>\n",
       "</table>\n"
      ],
      "text/latex": [
       "\\begin{tabular}{r|llll}\n",
       " value & name & id & new\\_col\\\\\n",
       "\\hline\n",
       "\t 1  &  1 & 1  & 1 \\\\\n",
       "\t 4  & NA & 2  & 2 \\\\\n",
       "\\end{tabular}\n"
      ],
      "text/markdown": [
       "\n",
       "| value | name | id | new_col |\n",
       "|---|---|---|---|\n",
       "| 1  |  1 | 1  | 1  |\n",
       "| 4  | NA | 2  | 2  |\n",
       "\n"
      ],
      "text/plain": [
       "  value name id new_col\n",
       "1 1      1   1  1      \n",
       "2 4     NA   2  2      "
      ]
     },
     "metadata": {},
     "output_type": "display_data"
    }
   ],
   "source": [
    "# Add a new column by cbind\n",
    "df_small <- cbind(df_small, new_col = as.numeric(rownames(df_small))) \n",
    "df_small"
   ]
  },
  {
   "cell_type": "markdown",
   "id": "ba24940f",
   "metadata": {},
   "source": [
    "### Change a column to rownames"
   ]
  },
  {
   "cell_type": "code",
   "execution_count": 35,
   "id": "f7266c5a",
   "metadata": {},
   "outputs": [
    {
     "data": {
      "text/html": [
       "<table>\n",
       "<thead><tr><th scope=col>name</th><th scope=col>value1</th><th scope=col>value2</th></tr></thead>\n",
       "<tbody>\n",
       "\t<tr><td>AA</td><td>1 </td><td>10</td></tr>\n",
       "\t<tr><td>BB</td><td>4 </td><td> 3</td></tr>\n",
       "</tbody>\n",
       "</table>\n"
      ],
      "text/latex": [
       "\\begin{tabular}{r|lll}\n",
       " name & value1 & value2\\\\\n",
       "\\hline\n",
       "\t AA & 1  & 10\\\\\n",
       "\t BB & 4  &  3\\\\\n",
       "\\end{tabular}\n"
      ],
      "text/markdown": [
       "\n",
       "| name | value1 | value2 |\n",
       "|---|---|---|\n",
       "| AA | 1  | 10 |\n",
       "| BB | 4  |  3 |\n",
       "\n"
      ],
      "text/plain": [
       "  name value1 value2\n",
       "1 AA   1      10    \n",
       "2 BB   4       3    "
      ]
     },
     "metadata": {},
     "output_type": "display_data"
    }
   ],
   "source": [
    "df <- data.frame(name = c('AA', 'BB'), value1 = c(1,4 ),  value2 = c(10, 3))\n",
    "df"
   ]
  },
  {
   "cell_type": "code",
   "execution_count": 36,
   "id": "76fb41e6",
   "metadata": {},
   "outputs": [
    {
     "data": {
      "text/html": [
       "<table>\n",
       "<thead><tr><th></th><th scope=col>value1</th><th scope=col>value2</th></tr></thead>\n",
       "<tbody>\n",
       "\t<tr><th scope=row>AA</th><td>1 </td><td>10</td></tr>\n",
       "\t<tr><th scope=row>BB</th><td>4 </td><td> 3</td></tr>\n",
       "</tbody>\n",
       "</table>\n"
      ],
      "text/latex": [
       "\\begin{tabular}{r|ll}\n",
       "  & value1 & value2\\\\\n",
       "\\hline\n",
       "\tAA & 1  & 10\\\\\n",
       "\tBB & 4  &  3\\\\\n",
       "\\end{tabular}\n"
      ],
      "text/markdown": [
       "\n",
       "| <!--/--> | value1 | value2 |\n",
       "|---|---|---|\n",
       "| AA | 1  | 10 |\n",
       "| BB | 4  |  3 |\n",
       "\n"
      ],
      "text/plain": [
       "   value1 value2\n",
       "AA 1      10    \n",
       "BB 4       3    "
      ]
     },
     "metadata": {},
     "output_type": "display_data"
    }
   ],
   "source": [
    "df <- data.frame(df, row.names = \"name\")\n",
    "df"
   ]
  },
  {
   "cell_type": "markdown",
   "id": "6305907b",
   "metadata": {},
   "source": [
    "### Create list of dataframe"
   ]
  },
  {
   "cell_type": "code",
   "execution_count": 37,
   "id": "e4064413",
   "metadata": {},
   "outputs": [
    {
     "data": {
      "text/html": [
       "<ol>\n",
       "\t<li><table>\n",
       "<thead><tr><th scope=col>value</th><th scope=col>name</th></tr></thead>\n",
       "<tbody>\n",
       "\t<tr><td>1</td><td>1</td></tr>\n",
       "\t<tr><td>4</td><td>1</td></tr>\n",
       "\t<tr><td>3</td><td>1</td></tr>\n",
       "</tbody>\n",
       "</table>\n",
       "</li>\n",
       "\t<li><table>\n",
       "<thead><tr><th scope=col>value</th><th scope=col>name</th></tr></thead>\n",
       "<tbody>\n",
       "\t<tr><td>4</td><td>1</td></tr>\n",
       "\t<tr><td>3</td><td>0</td></tr>\n",
       "\t<tr><td>7</td><td>1</td></tr>\n",
       "</tbody>\n",
       "</table>\n",
       "</li>\n",
       "</ol>\n"
      ],
      "text/latex": [
       "\\begin{enumerate}\n",
       "\\item \\begin{tabular}{r|ll}\n",
       " value & name\\\\\n",
       "\\hline\n",
       "\t 1 & 1\\\\\n",
       "\t 4 & 1\\\\\n",
       "\t 3 & 1\\\\\n",
       "\\end{tabular}\n",
       "\n",
       "\\item \\begin{tabular}{r|ll}\n",
       " value & name\\\\\n",
       "\\hline\n",
       "\t 4 & 1\\\\\n",
       "\t 3 & 0\\\\\n",
       "\t 7 & 1\\\\\n",
       "\\end{tabular}\n",
       "\n",
       "\\end{enumerate}\n"
      ],
      "text/markdown": [
       "1. \n",
       "| value | name |\n",
       "|---|---|\n",
       "| 1 | 1 |\n",
       "| 4 | 1 |\n",
       "| 3 | 1 |\n",
       "\n",
       "\n",
       "2. \n",
       "| value | name |\n",
       "|---|---|\n",
       "| 4 | 1 |\n",
       "| 3 | 0 |\n",
       "| 7 | 1 |\n",
       "\n",
       "\n",
       "\n",
       "\n"
      ],
      "text/plain": [
       "[[1]]\n",
       "  value name\n",
       "1     1    1\n",
       "2     4    1\n",
       "3     3    1\n",
       "\n",
       "[[2]]\n",
       "  value name\n",
       "1     4    1\n",
       "2     3    0\n",
       "3     7    1\n"
      ]
     },
     "metadata": {},
     "output_type": "display_data"
    }
   ],
   "source": [
    "df1 <- data.frame(value = c(1,4,3), name = c(1,1,1))\n",
    "df2 <- data.frame(value = c(4,3,7), name = c(1,0,1))\n",
    "\n",
    "# Explicit way to make a list of df\n",
    "list_df <- list(df1, df2)\n",
    "list_df"
   ]
  },
  {
   "cell_type": "code",
   "execution_count": 38,
   "id": "e545743b",
   "metadata": {},
   "outputs": [
    {
     "name": "stdout",
     "output_type": "stream",
     "text": [
      "[1] \"df1\"\n"
     ]
    },
    {
     "data": {
      "text/html": [
       "<ol>\n",
       "\t<li><table>\n",
       "<thead><tr><th scope=col>value</th><th scope=col>name</th></tr></thead>\n",
       "<tbody>\n",
       "\t<tr><td>1</td><td>1</td></tr>\n",
       "\t<tr><td>4</td><td>1</td></tr>\n",
       "\t<tr><td>3</td><td>1</td></tr>\n",
       "</tbody>\n",
       "</table>\n",
       "</li>\n",
       "</ol>\n"
      ],
      "text/latex": [
       "\\begin{enumerate}\n",
       "\\item \\begin{tabular}{r|ll}\n",
       " value & name\\\\\n",
       "\\hline\n",
       "\t 1 & 1\\\\\n",
       "\t 4 & 1\\\\\n",
       "\t 3 & 1\\\\\n",
       "\\end{tabular}\n",
       "\n",
       "\\end{enumerate}\n"
      ],
      "text/markdown": [
       "1. \n",
       "| value | name |\n",
       "|---|---|\n",
       "| 1 | 1 |\n",
       "| 4 | 1 |\n",
       "| 3 | 1 |\n",
       "\n",
       "\n",
       "\n",
       "\n"
      ],
      "text/plain": [
       "[[1]]\n",
       "  value name\n",
       "1     1    1\n",
       "2     4    1\n",
       "3     3    1\n"
      ]
     },
     "metadata": {},
     "output_type": "display_data"
    },
    {
     "name": "stdout",
     "output_type": "stream",
     "text": [
      "[1] \"df1 and df2\"\n"
     ]
    },
    {
     "data": {
      "text/html": [
       "<ol>\n",
       "\t<li><table>\n",
       "<thead><tr><th scope=col>value</th><th scope=col>name</th></tr></thead>\n",
       "<tbody>\n",
       "\t<tr><td>1</td><td>1</td></tr>\n",
       "\t<tr><td>4</td><td>1</td></tr>\n",
       "\t<tr><td>3</td><td>1</td></tr>\n",
       "</tbody>\n",
       "</table>\n",
       "</li>\n",
       "\t<li><table>\n",
       "<thead><tr><th scope=col>value</th><th scope=col>name</th></tr></thead>\n",
       "<tbody>\n",
       "\t<tr><td>4</td><td>1</td></tr>\n",
       "\t<tr><td>3</td><td>0</td></tr>\n",
       "\t<tr><td>7</td><td>1</td></tr>\n",
       "</tbody>\n",
       "</table>\n",
       "</li>\n",
       "</ol>\n"
      ],
      "text/latex": [
       "\\begin{enumerate}\n",
       "\\item \\begin{tabular}{r|ll}\n",
       " value & name\\\\\n",
       "\\hline\n",
       "\t 1 & 1\\\\\n",
       "\t 4 & 1\\\\\n",
       "\t 3 & 1\\\\\n",
       "\\end{tabular}\n",
       "\n",
       "\\item \\begin{tabular}{r|ll}\n",
       " value & name\\\\\n",
       "\\hline\n",
       "\t 4 & 1\\\\\n",
       "\t 3 & 0\\\\\n",
       "\t 7 & 1\\\\\n",
       "\\end{tabular}\n",
       "\n",
       "\\end{enumerate}\n"
      ],
      "text/markdown": [
       "1. \n",
       "| value | name |\n",
       "|---|---|\n",
       "| 1 | 1 |\n",
       "| 4 | 1 |\n",
       "| 3 | 1 |\n",
       "\n",
       "\n",
       "2. \n",
       "| value | name |\n",
       "|---|---|\n",
       "| 4 | 1 |\n",
       "| 3 | 0 |\n",
       "| 7 | 1 |\n",
       "\n",
       "\n",
       "\n",
       "\n"
      ],
      "text/plain": [
       "[[1]]\n",
       "  value name\n",
       "1     1    1\n",
       "2     4    1\n",
       "3     3    1\n",
       "\n",
       "[[2]]\n",
       "  value name\n",
       "1     4    1\n",
       "2     3    0\n",
       "3     7    1\n"
      ]
     },
     "metadata": {},
     "output_type": "display_data"
    }
   ],
   "source": [
    "# Append() to make a list of df\n",
    "vec = c()\n",
    "print('df1')\n",
    "vec <- append(vec, list(df1))\n",
    "vec\n",
    "print(\"df1 and df2\")\n",
    "vec <- append(vec, list(df2))\n",
    "vec"
   ]
  },
  {
   "cell_type": "code",
   "execution_count": 39,
   "id": "1c2a64e9",
   "metadata": {},
   "outputs": [
    {
     "data": {
      "text/html": [
       "<table>\n",
       "<thead><tr><th scope=col>value</th><th scope=col>name</th></tr></thead>\n",
       "<tbody>\n",
       "\t<tr><td>1</td><td>1</td></tr>\n",
       "\t<tr><td>4</td><td>1</td></tr>\n",
       "\t<tr><td>3</td><td>1</td></tr>\n",
       "\t<tr><td>4</td><td>1</td></tr>\n",
       "\t<tr><td>3</td><td>0</td></tr>\n",
       "\t<tr><td>7</td><td>1</td></tr>\n",
       "</tbody>\n",
       "</table>\n"
      ],
      "text/latex": [
       "\\begin{tabular}{r|ll}\n",
       " value & name\\\\\n",
       "\\hline\n",
       "\t 1 & 1\\\\\n",
       "\t 4 & 1\\\\\n",
       "\t 3 & 1\\\\\n",
       "\t 4 & 1\\\\\n",
       "\t 3 & 0\\\\\n",
       "\t 7 & 1\\\\\n",
       "\\end{tabular}\n"
      ],
      "text/markdown": [
       "\n",
       "| value | name |\n",
       "|---|---|\n",
       "| 1 | 1 |\n",
       "| 4 | 1 |\n",
       "| 3 | 1 |\n",
       "| 4 | 1 |\n",
       "| 3 | 0 |\n",
       "| 7 | 1 |\n",
       "\n"
      ],
      "text/plain": [
       "  value name\n",
       "1 1     1   \n",
       "2 4     1   \n",
       "3 3     1   \n",
       "4 4     1   \n",
       "5 3     0   \n",
       "6 7     1   "
      ]
     },
     "metadata": {},
     "output_type": "display_data"
    }
   ],
   "source": [
    "# Concat list of df to be one df. rbind() require all df has the same column names\n",
    "do.call(\"rbind\", vec)"
   ]
  },
  {
   "cell_type": "markdown",
   "id": "c5152c67",
   "metadata": {},
   "source": [
    "### get column names where it has less than 2 real values"
   ]
  },
  {
   "cell_type": "code",
   "execution_count": 40,
   "id": "9b8f888d",
   "metadata": {},
   "outputs": [
    {
     "data": {
      "text/html": [
       "<table>\n",
       "<thead><tr><th scope=col>value1</th><th scope=col>value2</th><th scope=col>value3</th><th scope=col>value4</th></tr></thead>\n",
       "<tbody>\n",
       "\t<tr><td>4 </td><td>NA</td><td> 4</td><td>NA</td></tr>\n",
       "\t<tr><td>3 </td><td> 0</td><td>NA</td><td>NA</td></tr>\n",
       "\t<tr><td>7 </td><td>NA</td><td> 7</td><td>NA</td></tr>\n",
       "</tbody>\n",
       "</table>\n"
      ],
      "text/latex": [
       "\\begin{tabular}{r|llll}\n",
       " value1 & value2 & value3 & value4\\\\\n",
       "\\hline\n",
       "\t 4  & NA &  4 & NA\\\\\n",
       "\t 3  &  0 & NA & NA\\\\\n",
       "\t 7  & NA &  7 & NA\\\\\n",
       "\\end{tabular}\n"
      ],
      "text/markdown": [
       "\n",
       "| value1 | value2 | value3 | value4 |\n",
       "|---|---|---|---|\n",
       "| 4  | NA |  4 | NA |\n",
       "| 3  |  0 | NA | NA |\n",
       "| 7  | NA |  7 | NA |\n",
       "\n"
      ],
      "text/plain": [
       "  value1 value2 value3 value4\n",
       "1 4      NA      4     NA    \n",
       "2 3       0     NA     NA    \n",
       "3 7      NA      7     NA    "
      ]
     },
     "metadata": {},
     "output_type": "display_data"
    }
   ],
   "source": [
    "len <- function(x) { return (length(x[!is.na(x)])) } \n",
    "\n",
    "df <- data.frame(value1 = c(4,3,7), value2 = c(NA, 0,NA), value3 = c(4,NA,7), value4=c(NA,NA,NA))\n",
    "df"
   ]
  },
  {
   "cell_type": "code",
   "execution_count": 41,
   "id": "753d23a9",
   "metadata": {},
   "outputs": [
    {
     "data": {
      "text/html": [
       "<ol class=list-inline>\n",
       "\t<li>'value2'</li>\n",
       "\t<li>'value4'</li>\n",
       "</ol>\n"
      ],
      "text/latex": [
       "\\begin{enumerate*}\n",
       "\\item 'value2'\n",
       "\\item 'value4'\n",
       "\\end{enumerate*}\n"
      ],
      "text/markdown": [
       "1. 'value2'\n",
       "2. 'value4'\n",
       "\n",
       "\n"
      ],
      "text/plain": [
       "[1] \"value2\" \"value4\""
      ]
     },
     "metadata": {},
     "output_type": "display_data"
    }
   ],
   "source": [
    "vec_len_smaller_2 <- c()\n",
    "for (col in colnames(df)){\n",
    "    if (len(df[[col]]) < 2){\n",
    "        vec_len_smaller_2 <- c(vec_len_smaller_2, col)\n",
    "    }\n",
    "}\n",
    "vec_len_smaller_2"
   ]
  },
  {
   "cell_type": "markdown",
   "id": "7b9f10bc",
   "metadata": {},
   "source": [
    "### Empty dataframe"
   ]
  },
  {
   "cell_type": "code",
   "execution_count": 42,
   "id": "9ef9e33c",
   "metadata": {},
   "outputs": [
    {
     "data": {
      "text/html": [
       "<ol class=list-inline>\n",
       "\t<li>0</li>\n",
       "\t<li>0</li>\n",
       "</ol>\n"
      ],
      "text/latex": [
       "\\begin{enumerate*}\n",
       "\\item 0\n",
       "\\item 0\n",
       "\\end{enumerate*}\n"
      ],
      "text/markdown": [
       "1. 0\n",
       "2. 0\n",
       "\n",
       "\n"
      ],
      "text/plain": [
       "[1] 0 0"
      ]
     },
     "metadata": {},
     "output_type": "display_data"
    },
    {
     "data": {
      "text/html": [],
      "text/latex": [],
      "text/markdown": [],
      "text/plain": [
       "<0 x 0 matrix>"
      ]
     },
     "metadata": {},
     "output_type": "display_data"
    }
   ],
   "source": [
    "df_empty <- data.frame()\n",
    "dim(df_empty)\n",
    "df_empty"
   ]
  },
  {
   "cell_type": "code",
   "execution_count": 43,
   "id": "f1de516c",
   "metadata": {},
   "outputs": [
    {
     "data": {
      "text/html": [
       "<ol class=list-inline>\n",
       "\t<li>0</li>\n",
       "\t<li>3</li>\n",
       "</ol>\n"
      ],
      "text/latex": [
       "\\begin{enumerate*}\n",
       "\\item 0\n",
       "\\item 3\n",
       "\\end{enumerate*}\n"
      ],
      "text/markdown": [
       "1. 0\n",
       "2. 3\n",
       "\n",
       "\n"
      ],
      "text/plain": [
       "[1] 0 3"
      ]
     },
     "metadata": {},
     "output_type": "display_data"
    },
    {
     "data": {
      "text/html": [
       "<table>\n",
       "<thead><tr><th scope=col>id</th><th scope=col>names</th><th scope=col>address</th></tr></thead>\n",
       "<tbody>\n",
       "</tbody>\n",
       "</table>\n"
      ],
      "text/latex": [
       "\\begin{tabular}{r|lll}\n",
       " id & names & address\\\\\n",
       "\\hline\n",
       "\\end{tabular}\n"
      ],
      "text/markdown": [
       "\n",
       "| id | names | address |\n",
       "|---|---|---|\n",
       "\n"
      ],
      "text/plain": [
       "     id names address"
      ]
     },
     "metadata": {},
     "output_type": "display_data"
    }
   ],
   "source": [
    "# Make a function\n",
    "empty_df <- function(columns){\n",
    "  # Input:\n",
    "  #   columns: a vector of column names\n",
    "  # Output:\n",
    "  # An empty dataframe\n",
    "  # Usage:\n",
    "  #   Eg1. Empty datafram with column names\n",
    "  #        df_empty_1 <- empty_df(columns= c(\"id\", \"names\", \"address\")) \n",
    "  #   Eg2. Empty datafram without any column. Same as df_empty_2 <- data.frame()\n",
    "  #        df_empty_2 <- empty_df(columns= c()) \n",
    "  \n",
    "  # pass this columns length to ncol parameter and nrow with 0\n",
    "  df_empty = data.frame(matrix(nrow = 0, ncol = length(columns)))\n",
    "  # assign column names\n",
    "  colnames(df_empty) = columns\n",
    "  return (df_empty)\n",
    "}\n",
    "\n",
    "df_empty_1 <- empty_df(columns= c(\"id\", \"names\", \"address\")) \n",
    "dim(df_empty_1)\n",
    "df_empty_1"
   ]
  },
  {
   "cell_type": "code",
   "execution_count": 44,
   "id": "311cad06",
   "metadata": {},
   "outputs": [
    {
     "data": {
      "text/html": [
       "<ol class=list-inline>\n",
       "\t<li>0</li>\n",
       "\t<li>0</li>\n",
       "</ol>\n"
      ],
      "text/latex": [
       "\\begin{enumerate*}\n",
       "\\item 0\n",
       "\\item 0\n",
       "\\end{enumerate*}\n"
      ],
      "text/markdown": [
       "1. 0\n",
       "2. 0\n",
       "\n",
       "\n"
      ],
      "text/plain": [
       "[1] 0 0"
      ]
     },
     "metadata": {},
     "output_type": "display_data"
    },
    {
     "data": {
      "text/html": [],
      "text/latex": [],
      "text/markdown": [],
      "text/plain": [
       "<0 x 0 matrix>"
      ]
     },
     "metadata": {},
     "output_type": "display_data"
    }
   ],
   "source": [
    "df_empty_2 <- empty_df(columns= c()) \n",
    "dim(df_empty_2)\n",
    "df_empty_2"
   ]
  },
  {
   "cell_type": "markdown",
   "id": "2f7f6c30",
   "metadata": {},
   "source": [
    "### rename column names"
   ]
  },
  {
   "cell_type": "code",
   "execution_count": 45,
   "id": "e291cdc6",
   "metadata": {},
   "outputs": [
    {
     "data": {
      "text/html": [
       "<table>\n",
       "<thead><tr><th scope=col>value</th><th scope=col>name</th></tr></thead>\n",
       "<tbody>\n",
       "\t<tr><td>1 </td><td> 1</td></tr>\n",
       "\t<tr><td>4 </td><td>NA</td></tr>\n",
       "</tbody>\n",
       "</table>\n"
      ],
      "text/latex": [
       "\\begin{tabular}{r|ll}\n",
       " value & name\\\\\n",
       "\\hline\n",
       "\t 1  &  1\\\\\n",
       "\t 4  & NA\\\\\n",
       "\\end{tabular}\n"
      ],
      "text/markdown": [
       "\n",
       "| value | name |\n",
       "|---|---|\n",
       "| 1  |  1 |\n",
       "| 4  | NA |\n",
       "\n"
      ],
      "text/plain": [
       "  value name\n",
       "1 1      1  \n",
       "2 4     NA  "
      ]
     },
     "metadata": {},
     "output_type": "display_data"
    }
   ],
   "source": [
    "df1 <- data.frame(value = c(1, 4), name = c(1 , NA))\n",
    "df1"
   ]
  },
  {
   "cell_type": "code",
   "execution_count": 46,
   "id": "5cbab663",
   "metadata": {},
   "outputs": [
    {
     "data": {
      "text/html": [
       "<table>\n",
       "<thead><tr><th scope=col>new_value</th><th scope=col>new_name</th></tr></thead>\n",
       "<tbody>\n",
       "\t<tr><td>1 </td><td> 1</td></tr>\n",
       "\t<tr><td>4 </td><td>NA</td></tr>\n",
       "</tbody>\n",
       "</table>\n"
      ],
      "text/latex": [
       "\\begin{tabular}{r|ll}\n",
       " new\\_value & new\\_name\\\\\n",
       "\\hline\n",
       "\t 1  &  1\\\\\n",
       "\t 4  & NA\\\\\n",
       "\\end{tabular}\n"
      ],
      "text/markdown": [
       "\n",
       "| new_value | new_name |\n",
       "|---|---|\n",
       "| 1  |  1 |\n",
       "| 4  | NA |\n",
       "\n"
      ],
      "text/plain": [
       "  new_value new_name\n",
       "1 1          1      \n",
       "2 4         NA      "
      ]
     },
     "metadata": {},
     "output_type": "display_data"
    }
   ],
   "source": [
    "library(dplyr)\n",
    "\n",
    "df1 %>% rename(new_value = value, new_name = name)"
   ]
  },
  {
   "cell_type": "markdown",
   "id": "0a5728a7",
   "metadata": {},
   "source": [
    "### Calculate a new column by transform()"
   ]
  },
  {
   "cell_type": "code",
   "execution_count": 47,
   "id": "7935fff0",
   "metadata": {},
   "outputs": [
    {
     "data": {
      "text/html": [
       "<table>\n",
       "<thead><tr><th scope=col>value1</th><th scope=col>value2</th></tr></thead>\n",
       "<tbody>\n",
       "\t<tr><td>1 </td><td> 2</td></tr>\n",
       "\t<tr><td>2 </td><td>NA</td></tr>\n",
       "\t<tr><td>3 </td><td> 6</td></tr>\n",
       "</tbody>\n",
       "</table>\n"
      ],
      "text/latex": [
       "\\begin{tabular}{r|ll}\n",
       " value1 & value2\\\\\n",
       "\\hline\n",
       "\t 1  &  2\\\\\n",
       "\t 2  & NA\\\\\n",
       "\t 3  &  6\\\\\n",
       "\\end{tabular}\n"
      ],
      "text/markdown": [
       "\n",
       "| value1 | value2 |\n",
       "|---|---|\n",
       "| 1  |  2 |\n",
       "| 2  | NA |\n",
       "| 3  |  6 |\n",
       "\n"
      ],
      "text/plain": [
       "  value1 value2\n",
       "1 1       2    \n",
       "2 2      NA    \n",
       "3 3       6    "
      ]
     },
     "metadata": {},
     "output_type": "display_data"
    }
   ],
   "source": [
    "df1 <- data.frame(value1 = c(1, 2, 3), value2 = c(2, NA, 6))\n",
    "df1"
   ]
  },
  {
   "cell_type": "code",
   "execution_count": 48,
   "id": "5be93f4c",
   "metadata": {},
   "outputs": [
    {
     "data": {
      "text/html": [
       "<table>\n",
       "<thead><tr><th scope=col>value1</th><th scope=col>value2</th><th scope=col>value1_2</th><th scope=col>value2_1</th></tr></thead>\n",
       "<tbody>\n",
       "\t<tr><td>1  </td><td> 2 </td><td>0.5</td><td> 2 </td></tr>\n",
       "\t<tr><td>2  </td><td>NA </td><td> NA</td><td>NA </td></tr>\n",
       "\t<tr><td>3  </td><td> 6 </td><td>0.5</td><td> 2 </td></tr>\n",
       "</tbody>\n",
       "</table>\n"
      ],
      "text/latex": [
       "\\begin{tabular}{r|llll}\n",
       " value1 & value2 & value1\\_2 & value2\\_1\\\\\n",
       "\\hline\n",
       "\t 1   &  2  & 0.5 &  2 \\\\\n",
       "\t 2   & NA  &  NA & NA \\\\\n",
       "\t 3   &  6  & 0.5 &  2 \\\\\n",
       "\\end{tabular}\n"
      ],
      "text/markdown": [
       "\n",
       "| value1 | value2 | value1_2 | value2_1 |\n",
       "|---|---|---|---|\n",
       "| 1   |  2  | 0.5 |  2  |\n",
       "| 2   | NA  |  NA | NA  |\n",
       "| 3   |  6  | 0.5 |  2  |\n",
       "\n"
      ],
      "text/plain": [
       "  value1 value2 value1_2 value2_1\n",
       "1 1       2     0.5       2      \n",
       "2 2      NA      NA      NA      \n",
       "3 3       6     0.5       2      "
      ]
     },
     "metadata": {},
     "output_type": "display_data"
    }
   ],
   "source": [
    "df1 <- transform(df1, value1_2 = value1 / value2, value2_1 = value2 / value1)\n",
    "df1"
   ]
  },
  {
   "cell_type": "markdown",
   "id": "57d36a61",
   "metadata": {},
   "source": [
    "### Reset index of df"
   ]
  },
  {
   "cell_type": "code",
   "execution_count": 49,
   "id": "439f6ab8",
   "metadata": {},
   "outputs": [
    {
     "name": "stdout",
     "output_type": "stream",
     "text": [
      "  Names Values\n",
      "1     A     11\n",
      "2     B     12\n",
      "3     C     19\n"
     ]
    },
    {
     "data": {
      "text/html": [
       "<ol class=list-inline>\n",
       "\t<li>'1'</li>\n",
       "\t<li>'2'</li>\n",
       "\t<li>'3'</li>\n",
       "</ol>\n"
      ],
      "text/latex": [
       "\\begin{enumerate*}\n",
       "\\item '1'\n",
       "\\item '2'\n",
       "\\item '3'\n",
       "\\end{enumerate*}\n"
      ],
      "text/markdown": [
       "1. '1'\n",
       "2. '2'\n",
       "3. '3'\n",
       "\n",
       "\n"
      ],
      "text/plain": [
       "[1] \"1\" \"2\" \"3\""
      ]
     },
     "metadata": {},
     "output_type": "display_data"
    }
   ],
   "source": [
    "df <- data.frame(Names=c('A', 'B', 'C'), Values=c(11, 12, 19))\n",
    "print(df)\n",
    "rownames(df)"
   ]
  },
  {
   "cell_type": "code",
   "execution_count": 50,
   "id": "d41c024d",
   "metadata": {},
   "outputs": [
    {
     "name": "stdout",
     "output_type": "stream",
     "text": [
      "   Names Values\n",
      "99     A     11\n",
      "10     B     12\n",
      "5      C     19\n"
     ]
    }
   ],
   "source": [
    "rownames(df) <- c(99, 10, 5)\n",
    "print(df)"
   ]
  },
  {
   "cell_type": "code",
   "execution_count": 51,
   "id": "e461084f",
   "metadata": {},
   "outputs": [
    {
     "name": "stdout",
     "output_type": "stream",
     "text": [
      "  Names Values\n",
      "1     A     11\n",
      "2     B     12\n",
      "3     C     19\n"
     ]
    }
   ],
   "source": [
    "df <- df %>% as.data.frame(row.names = 1:nrow(.))\n",
    "print(df)"
   ]
  },
  {
   "cell_type": "code",
   "execution_count": 52,
   "id": "5e56e712",
   "metadata": {},
   "outputs": [
    {
     "data": {
      "text/html": [
       "<table>\n",
       "<thead><tr><th scope=col>Names</th><th scope=col>Values</th></tr></thead>\n",
       "<tbody>\n",
       "\t<tr><td>A </td><td>11</td></tr>\n",
       "\t<tr><td>B </td><td>12</td></tr>\n",
       "\t<tr><td>C </td><td>19</td></tr>\n",
       "</tbody>\n",
       "</table>\n"
      ],
      "text/latex": [
       "\\begin{tabular}{r|ll}\n",
       " Names & Values\\\\\n",
       "\\hline\n",
       "\t A  & 11\\\\\n",
       "\t B  & 12\\\\\n",
       "\t C  & 19\\\\\n",
       "\\end{tabular}\n"
      ],
      "text/markdown": [
       "\n",
       "| Names | Values |\n",
       "|---|---|\n",
       "| A  | 11 |\n",
       "| B  | 12 |\n",
       "| C  | 19 |\n",
       "\n"
      ],
      "text/plain": [
       "  Names Values\n",
       "1 A     11    \n",
       "2 B     12    \n",
       "3 C     19    "
      ]
     },
     "metadata": {},
     "output_type": "display_data"
    }
   ],
   "source": [
    "# make rownames as NULL\n",
    "rownames(df) <- NULL\n",
    "df"
   ]
  },
  {
   "cell_type": "markdown",
   "id": "1c25e20b",
   "metadata": {},
   "source": [
    "### Rank"
   ]
  },
  {
   "cell_type": "code",
   "execution_count": 53,
   "id": "85375e3b",
   "metadata": {},
   "outputs": [
    {
     "data": {
      "text/html": [
       "<table>\n",
       "<thead><tr><th scope=col>Names</th><th scope=col>Values</th></tr></thead>\n",
       "<tbody>\n",
       "\t<tr><td>A   </td><td> -19</td></tr>\n",
       "\t<tr><td>B   </td><td> 100</td></tr>\n",
       "\t<tr><td>C   </td><td>  12</td></tr>\n",
       "\t<tr><td>D   </td><td> -19</td></tr>\n",
       "\t<tr><td>E   </td><td>-100</td></tr>\n",
       "</tbody>\n",
       "</table>\n"
      ],
      "text/latex": [
       "\\begin{tabular}{r|ll}\n",
       " Names & Values\\\\\n",
       "\\hline\n",
       "\t A    &  -19\\\\\n",
       "\t B    &  100\\\\\n",
       "\t C    &   12\\\\\n",
       "\t D    &  -19\\\\\n",
       "\t E    & -100\\\\\n",
       "\\end{tabular}\n"
      ],
      "text/markdown": [
       "\n",
       "| Names | Values |\n",
       "|---|---|\n",
       "| A    |  -19 |\n",
       "| B    |  100 |\n",
       "| C    |   12 |\n",
       "| D    |  -19 |\n",
       "| E    | -100 |\n",
       "\n"
      ],
      "text/plain": [
       "  Names Values\n",
       "1 A      -19  \n",
       "2 B      100  \n",
       "3 C       12  \n",
       "4 D      -19  \n",
       "5 E     -100  "
      ]
     },
     "metadata": {},
     "output_type": "display_data"
    }
   ],
   "source": [
    "df <- data.frame(Names=c('A', 'B', 'C', 'D', 'E'), Values=c(-19, 100, 12, -19, -100))\n",
    "df"
   ]
  },
  {
   "cell_type": "code",
   "execution_count": 54,
   "id": "f02415ab",
   "metadata": {},
   "outputs": [
    {
     "data": {
      "text/html": [
       "<table>\n",
       "<thead><tr><th scope=col>Rank</th><th scope=col>Names</th><th scope=col>Values</th></tr></thead>\n",
       "<tbody>\n",
       "\t<tr><td>2.5 </td><td>A   </td><td> -19</td></tr>\n",
       "\t<tr><td>5.0 </td><td>B   </td><td> 100</td></tr>\n",
       "\t<tr><td>4.0 </td><td>C   </td><td>  12</td></tr>\n",
       "\t<tr><td>2.5 </td><td>D   </td><td> -19</td></tr>\n",
       "\t<tr><td>1.0 </td><td>E   </td><td>-100</td></tr>\n",
       "</tbody>\n",
       "</table>\n"
      ],
      "text/latex": [
       "\\begin{tabular}{r|lll}\n",
       " Rank & Names & Values\\\\\n",
       "\\hline\n",
       "\t 2.5  & A    &  -19\\\\\n",
       "\t 5.0  & B    &  100\\\\\n",
       "\t 4.0  & C    &   12\\\\\n",
       "\t 2.5  & D    &  -19\\\\\n",
       "\t 1.0  & E    & -100\\\\\n",
       "\\end{tabular}\n"
      ],
      "text/markdown": [
       "\n",
       "| Rank | Names | Values |\n",
       "|---|---|---|\n",
       "| 2.5  | A    |  -19 |\n",
       "| 5.0  | B    |  100 |\n",
       "| 4.0  | C    |   12 |\n",
       "| 2.5  | D    |  -19 |\n",
       "| 1.0  | E    | -100 |\n",
       "\n"
      ],
      "text/plain": [
       "  Rank Names Values\n",
       "1 2.5  A      -19  \n",
       "2 5.0  B      100  \n",
       "3 4.0  C       12  \n",
       "4 2.5  D      -19  \n",
       "5 1.0  E     -100  "
      ]
     },
     "metadata": {},
     "output_type": "display_data"
    }
   ],
   "source": [
    "df <- cbind(Rank = rank(df$Values), df)\n",
    "df"
   ]
  },
  {
   "cell_type": "code",
   "execution_count": 55,
   "id": "6db804dd",
   "metadata": {},
   "outputs": [
    {
     "data": {
      "text/html": [
       "<table>\n",
       "<thead><tr><th scope=col>RankDesc</th><th scope=col>Rank</th><th scope=col>Names</th><th scope=col>Values</th></tr></thead>\n",
       "<tbody>\n",
       "\t<tr><td>3.5 </td><td>2.5 </td><td>A   </td><td> -19</td></tr>\n",
       "\t<tr><td>1.0 </td><td>5.0 </td><td>B   </td><td> 100</td></tr>\n",
       "\t<tr><td>2.0 </td><td>4.0 </td><td>C   </td><td>  12</td></tr>\n",
       "\t<tr><td>3.5 </td><td>2.5 </td><td>D   </td><td> -19</td></tr>\n",
       "\t<tr><td>5.0 </td><td>1.0 </td><td>E   </td><td>-100</td></tr>\n",
       "</tbody>\n",
       "</table>\n"
      ],
      "text/latex": [
       "\\begin{tabular}{r|llll}\n",
       " RankDesc & Rank & Names & Values\\\\\n",
       "\\hline\n",
       "\t 3.5  & 2.5  & A    &  -19\\\\\n",
       "\t 1.0  & 5.0  & B    &  100\\\\\n",
       "\t 2.0  & 4.0  & C    &   12\\\\\n",
       "\t 3.5  & 2.5  & D    &  -19\\\\\n",
       "\t 5.0  & 1.0  & E    & -100\\\\\n",
       "\\end{tabular}\n"
      ],
      "text/markdown": [
       "\n",
       "| RankDesc | Rank | Names | Values |\n",
       "|---|---|---|---|\n",
       "| 3.5  | 2.5  | A    |  -19 |\n",
       "| 1.0  | 5.0  | B    |  100 |\n",
       "| 2.0  | 4.0  | C    |   12 |\n",
       "| 3.5  | 2.5  | D    |  -19 |\n",
       "| 5.0  | 1.0  | E    | -100 |\n",
       "\n"
      ],
      "text/plain": [
       "  RankDesc Rank Names Values\n",
       "1 3.5      2.5  A      -19  \n",
       "2 1.0      5.0  B      100  \n",
       "3 2.0      4.0  C       12  \n",
       "4 3.5      2.5  D      -19  \n",
       "5 5.0      1.0  E     -100  "
      ]
     },
     "metadata": {},
     "output_type": "display_data"
    }
   ],
   "source": [
    "df <- cbind(RankDesc = rank(-df$Values), df)\n",
    "df"
   ]
  },
  {
   "cell_type": "markdown",
   "id": "9e3ccecf",
   "metadata": {},
   "source": [
    "### rbindlist(): concatenate list of dataframes    \n",
    "at library(data.table)\n",
    "https://www.rdocumentation.org/packages/data.table/versions/1.14.0/topics/rbindlist"
   ]
  },
  {
   "cell_type": "code",
   "execution_count": 56,
   "id": "713a9b8c",
   "metadata": {},
   "outputs": [
    {
     "data": {
      "text/html": [
       "<table>\n",
       "<thead><tr><th scope=col>A</th><th scope=col>B</th></tr></thead>\n",
       "<tbody>\n",
       "\t<tr><td>1</td><td>a</td></tr>\n",
       "\t<tr><td>2</td><td>b</td></tr>\n",
       "\t<tr><td>3</td><td>c</td></tr>\n",
       "</tbody>\n",
       "</table>\n"
      ],
      "text/latex": [
       "\\begin{tabular}{r|ll}\n",
       " A & B\\\\\n",
       "\\hline\n",
       "\t 1 & a\\\\\n",
       "\t 2 & b\\\\\n",
       "\t 3 & c\\\\\n",
       "\\end{tabular}\n"
      ],
      "text/markdown": [
       "\n",
       "| A | B |\n",
       "|---|---|\n",
       "| 1 | a |\n",
       "| 2 | b |\n",
       "| 3 | c |\n",
       "\n"
      ],
      "text/plain": [
       "  A B\n",
       "1 1 a\n",
       "2 2 b\n",
       "3 3 c"
      ]
     },
     "metadata": {},
     "output_type": "display_data"
    },
    {
     "data": {
      "text/html": [
       "<table>\n",
       "<thead><tr><th scope=col>A</th><th scope=col>B</th></tr></thead>\n",
       "<tbody>\n",
       "\t<tr><td>4</td><td>d</td></tr>\n",
       "\t<tr><td>5</td><td>e</td></tr>\n",
       "</tbody>\n",
       "</table>\n"
      ],
      "text/latex": [
       "\\begin{tabular}{r|ll}\n",
       " A & B\\\\\n",
       "\\hline\n",
       "\t 4 & d\\\\\n",
       "\t 5 & e\\\\\n",
       "\\end{tabular}\n"
      ],
      "text/markdown": [
       "\n",
       "| A | B |\n",
       "|---|---|\n",
       "| 4 | d |\n",
       "| 5 | e |\n",
       "\n"
      ],
      "text/plain": [
       "  A B\n",
       "1 4 d\n",
       "2 5 e"
      ]
     },
     "metadata": {},
     "output_type": "display_data"
    },
    {
     "data": {
      "text/html": [
       "<table>\n",
       "<thead><tr><th scope=col>A</th><th scope=col>B</th></tr></thead>\n",
       "<tbody>\n",
       "\t<tr><td>1</td><td>a</td></tr>\n",
       "\t<tr><td>2</td><td>b</td></tr>\n",
       "\t<tr><td>3</td><td>c</td></tr>\n",
       "\t<tr><td>4</td><td>d</td></tr>\n",
       "\t<tr><td>5</td><td>e</td></tr>\n",
       "</tbody>\n",
       "</table>\n"
      ],
      "text/latex": [
       "\\begin{tabular}{r|ll}\n",
       " A & B\\\\\n",
       "\\hline\n",
       "\t 1 & a\\\\\n",
       "\t 2 & b\\\\\n",
       "\t 3 & c\\\\\n",
       "\t 4 & d\\\\\n",
       "\t 5 & e\\\\\n",
       "\\end{tabular}\n"
      ],
      "text/markdown": [
       "\n",
       "| A | B |\n",
       "|---|---|\n",
       "| 1 | a |\n",
       "| 2 | b |\n",
       "| 3 | c |\n",
       "| 4 | d |\n",
       "| 5 | e |\n",
       "\n"
      ],
      "text/plain": [
       "  A B\n",
       "1 1 a\n",
       "2 2 b\n",
       "3 3 c\n",
       "4 4 d\n",
       "5 5 e"
      ]
     },
     "metadata": {},
     "output_type": "display_data"
    }
   ],
   "source": [
    "# default case\n",
    "DT1 = data.table(A=1:3,B=letters[1:3])\n",
    "DT2 = data.table(A=4:5,B=letters[4:5])\n",
    "DT1\n",
    "DT2\n",
    "l = list(DT1,DT2)\n",
    "rbindlist(l)"
   ]
  },
  {
   "cell_type": "code",
   "execution_count": 57,
   "id": "97472b9a",
   "metadata": {},
   "outputs": [
    {
     "data": {
      "text/html": [
       "<table>\n",
       "<thead><tr><th scope=col>A</th><th scope=col>B</th></tr></thead>\n",
       "<tbody>\n",
       "\t<tr><td>1</td><td>a</td></tr>\n",
       "\t<tr><td>2</td><td>b</td></tr>\n",
       "\t<tr><td>3</td><td>c</td></tr>\n",
       "</tbody>\n",
       "</table>\n"
      ],
      "text/latex": [
       "\\begin{tabular}{r|ll}\n",
       " A & B\\\\\n",
       "\\hline\n",
       "\t 1 & a\\\\\n",
       "\t 2 & b\\\\\n",
       "\t 3 & c\\\\\n",
       "\\end{tabular}\n"
      ],
      "text/markdown": [
       "\n",
       "| A | B |\n",
       "|---|---|\n",
       "| 1 | a |\n",
       "| 2 | b |\n",
       "| 3 | c |\n",
       "\n"
      ],
      "text/plain": [
       "  A B\n",
       "1 1 a\n",
       "2 2 b\n",
       "3 3 c"
      ]
     },
     "metadata": {},
     "output_type": "display_data"
    },
    {
     "data": {
      "text/html": [
       "<table>\n",
       "<thead><tr><th scope=col>B</th><th scope=col>A</th></tr></thead>\n",
       "<tbody>\n",
       "\t<tr><td>d</td><td>4</td></tr>\n",
       "\t<tr><td>e</td><td>5</td></tr>\n",
       "</tbody>\n",
       "</table>\n"
      ],
      "text/latex": [
       "\\begin{tabular}{r|ll}\n",
       " B & A\\\\\n",
       "\\hline\n",
       "\t d & 4\\\\\n",
       "\t e & 5\\\\\n",
       "\\end{tabular}\n"
      ],
      "text/markdown": [
       "\n",
       "| B | A |\n",
       "|---|---|\n",
       "| d | 4 |\n",
       "| e | 5 |\n",
       "\n"
      ],
      "text/plain": [
       "  B A\n",
       "1 d 4\n",
       "2 e 5"
      ]
     },
     "metadata": {},
     "output_type": "display_data"
    },
    {
     "data": {
      "text/html": [
       "<table>\n",
       "<thead><tr><th scope=col>A</th><th scope=col>B</th></tr></thead>\n",
       "<tbody>\n",
       "\t<tr><td>1</td><td>a</td></tr>\n",
       "\t<tr><td>2</td><td>b</td></tr>\n",
       "\t<tr><td>3</td><td>c</td></tr>\n",
       "\t<tr><td>4</td><td>d</td></tr>\n",
       "\t<tr><td>5</td><td>e</td></tr>\n",
       "</tbody>\n",
       "</table>\n"
      ],
      "text/latex": [
       "\\begin{tabular}{r|ll}\n",
       " A & B\\\\\n",
       "\\hline\n",
       "\t 1 & a\\\\\n",
       "\t 2 & b\\\\\n",
       "\t 3 & c\\\\\n",
       "\t 4 & d\\\\\n",
       "\t 5 & e\\\\\n",
       "\\end{tabular}\n"
      ],
      "text/markdown": [
       "\n",
       "| A | B |\n",
       "|---|---|\n",
       "| 1 | a |\n",
       "| 2 | b |\n",
       "| 3 | c |\n",
       "| 4 | d |\n",
       "| 5 | e |\n",
       "\n"
      ],
      "text/plain": [
       "  A B\n",
       "1 1 a\n",
       "2 2 b\n",
       "3 3 c\n",
       "4 4 d\n",
       "5 5 e"
      ]
     },
     "metadata": {},
     "output_type": "display_data"
    }
   ],
   "source": [
    "DT1 = data.table(A=1:3,B=letters[1:3])\n",
    "DT2 = data.table(B=letters[4:5],A=4:5)\n",
    "DT1\n",
    "DT2\n",
    "l = list(DT1,DT2)\n",
    "rbindlist(l, use.names=TRUE)"
   ]
  },
  {
   "cell_type": "code",
   "execution_count": 58,
   "id": "b5044a7a",
   "metadata": {},
   "outputs": [
    {
     "data": {
      "text/html": [
       "<table>\n",
       "<thead><tr><th scope=col>A</th><th scope=col>B</th></tr></thead>\n",
       "<tbody>\n",
       "\t<tr><td>1</td><td>a</td></tr>\n",
       "\t<tr><td>2</td><td>b</td></tr>\n",
       "\t<tr><td>3</td><td>c</td></tr>\n",
       "</tbody>\n",
       "</table>\n"
      ],
      "text/latex": [
       "\\begin{tabular}{r|ll}\n",
       " A & B\\\\\n",
       "\\hline\n",
       "\t 1 & a\\\\\n",
       "\t 2 & b\\\\\n",
       "\t 3 & c\\\\\n",
       "\\end{tabular}\n"
      ],
      "text/markdown": [
       "\n",
       "| A | B |\n",
       "|---|---|\n",
       "| 1 | a |\n",
       "| 2 | b |\n",
       "| 3 | c |\n",
       "\n"
      ],
      "text/plain": [
       "  A B\n",
       "1 1 a\n",
       "2 2 b\n",
       "3 3 c"
      ]
     },
     "metadata": {},
     "output_type": "display_data"
    },
    {
     "data": {
      "text/html": [
       "<table>\n",
       "<thead><tr><th scope=col>B</th><th scope=col>C</th></tr></thead>\n",
       "<tbody>\n",
       "\t<tr><td>d</td><td>1</td></tr>\n",
       "\t<tr><td>e</td><td>2</td></tr>\n",
       "</tbody>\n",
       "</table>\n"
      ],
      "text/latex": [
       "\\begin{tabular}{r|ll}\n",
       " B & C\\\\\n",
       "\\hline\n",
       "\t d & 1\\\\\n",
       "\t e & 2\\\\\n",
       "\\end{tabular}\n"
      ],
      "text/markdown": [
       "\n",
       "| B | C |\n",
       "|---|---|\n",
       "| d | 1 |\n",
       "| e | 2 |\n",
       "\n"
      ],
      "text/plain": [
       "  B C\n",
       "1 d 1\n",
       "2 e 2"
      ]
     },
     "metadata": {},
     "output_type": "display_data"
    },
    {
     "data": {
      "text/html": [
       "<table>\n",
       "<thead><tr><th scope=col>A</th><th scope=col>B</th><th scope=col>C</th></tr></thead>\n",
       "<tbody>\n",
       "\t<tr><td> 1</td><td>a </td><td>NA</td></tr>\n",
       "\t<tr><td> 2</td><td>b </td><td>NA</td></tr>\n",
       "\t<tr><td> 3</td><td>c </td><td>NA</td></tr>\n",
       "\t<tr><td>NA</td><td>d </td><td>1 </td></tr>\n",
       "\t<tr><td>NA</td><td>e </td><td>2 </td></tr>\n",
       "</tbody>\n",
       "</table>\n"
      ],
      "text/latex": [
       "\\begin{tabular}{r|lll}\n",
       " A & B & C\\\\\n",
       "\\hline\n",
       "\t  1 & a  & NA\\\\\n",
       "\t  2 & b  & NA\\\\\n",
       "\t  3 & c  & NA\\\\\n",
       "\t NA & d  & 1 \\\\\n",
       "\t NA & e  & 2 \\\\\n",
       "\\end{tabular}\n"
      ],
      "text/markdown": [
       "\n",
       "| A | B | C |\n",
       "|---|---|---|\n",
       "|  1 | a  | NA |\n",
       "|  2 | b  | NA |\n",
       "|  3 | c  | NA |\n",
       "| NA | d  | 1  |\n",
       "| NA | e  | 2  |\n",
       "\n"
      ],
      "text/plain": [
       "  A  B C \n",
       "1  1 a NA\n",
       "2  2 b NA\n",
       "3  3 c NA\n",
       "4 NA d 1 \n",
       "5 NA e 2 "
      ]
     },
     "metadata": {},
     "output_type": "display_data"
    }
   ],
   "source": [
    "# fill missing columns, and match by col names\n",
    "DT1 = data.table(A=1:3,B=letters[1:3])\n",
    "DT2 = data.table(B=letters[4:5],C=factor(1:2))\n",
    "DT1\n",
    "DT2\n",
    "l = list(DT1,DT2)\n",
    "rbindlist(l, use.names=TRUE, fill=TRUE)"
   ]
  },
  {
   "cell_type": "code",
   "execution_count": 59,
   "id": "8a4d6704",
   "metadata": {},
   "outputs": [
    {
     "data": {
      "text/html": [
       "<table>\n",
       "<thead><tr><th scope=col>.id</th><th scope=col>A</th><th scope=col>B</th><th scope=col>C</th></tr></thead>\n",
       "<tbody>\n",
       "\t<tr><td>1 </td><td> 1</td><td>a </td><td>NA</td></tr>\n",
       "\t<tr><td>1 </td><td> 2</td><td>b </td><td>NA</td></tr>\n",
       "\t<tr><td>1 </td><td> 3</td><td>c </td><td>NA</td></tr>\n",
       "\t<tr><td>2 </td><td>NA</td><td>d </td><td>1 </td></tr>\n",
       "\t<tr><td>2 </td><td>NA</td><td>e </td><td>2 </td></tr>\n",
       "</tbody>\n",
       "</table>\n"
      ],
      "text/latex": [
       "\\begin{tabular}{r|llll}\n",
       " .id & A & B & C\\\\\n",
       "\\hline\n",
       "\t 1  &  1 & a  & NA\\\\\n",
       "\t 1  &  2 & b  & NA\\\\\n",
       "\t 1  &  3 & c  & NA\\\\\n",
       "\t 2  & NA & d  & 1 \\\\\n",
       "\t 2  & NA & e  & 2 \\\\\n",
       "\\end{tabular}\n"
      ],
      "text/markdown": [
       "\n",
       "| .id | A | B | C |\n",
       "|---|---|---|---|\n",
       "| 1  |  1 | a  | NA |\n",
       "| 1  |  2 | b  | NA |\n",
       "| 1  |  3 | c  | NA |\n",
       "| 2  | NA | d  | 1  |\n",
       "| 2  | NA | e  | 2  |\n",
       "\n"
      ],
      "text/plain": [
       "  .id A  B C \n",
       "1 1    1 a NA\n",
       "2 1    2 b NA\n",
       "3 1    3 c NA\n",
       "4 2   NA d 1 \n",
       "5 2   NA e 2 "
      ]
     },
     "metadata": {},
     "output_type": "display_data"
    }
   ],
   "source": [
    "# generate index column, auto generates indices\n",
    "rbindlist(l, use.names=TRUE, fill=TRUE, idcol=TRUE)"
   ]
  },
  {
   "cell_type": "code",
   "execution_count": 60,
   "id": "08401a4a",
   "metadata": {},
   "outputs": [
    {
     "data": {
      "text/html": [
       "<table>\n",
       "<thead><tr><th scope=col>ID</th><th scope=col>A</th><th scope=col>B</th><th scope=col>C</th></tr></thead>\n",
       "<tbody>\n",
       "\t<tr><td>a </td><td> 1</td><td>a </td><td>NA</td></tr>\n",
       "\t<tr><td>a </td><td> 2</td><td>b </td><td>NA</td></tr>\n",
       "\t<tr><td>a </td><td> 3</td><td>c </td><td>NA</td></tr>\n",
       "\t<tr><td>b </td><td>NA</td><td>d </td><td>1 </td></tr>\n",
       "\t<tr><td>b </td><td>NA</td><td>e </td><td>2 </td></tr>\n",
       "</tbody>\n",
       "</table>\n"
      ],
      "text/latex": [
       "\\begin{tabular}{r|llll}\n",
       " ID & A & B & C\\\\\n",
       "\\hline\n",
       "\t a  &  1 & a  & NA\\\\\n",
       "\t a  &  2 & b  & NA\\\\\n",
       "\t a  &  3 & c  & NA\\\\\n",
       "\t b  & NA & d  & 1 \\\\\n",
       "\t b  & NA & e  & 2 \\\\\n",
       "\\end{tabular}\n"
      ],
      "text/markdown": [
       "\n",
       "| ID | A | B | C |\n",
       "|---|---|---|---|\n",
       "| a  |  1 | a  | NA |\n",
       "| a  |  2 | b  | NA |\n",
       "| a  |  3 | c  | NA |\n",
       "| b  | NA | d  | 1  |\n",
       "| b  | NA | e  | 2  |\n",
       "\n"
      ],
      "text/plain": [
       "  ID A  B C \n",
       "1 a   1 a NA\n",
       "2 a   2 b NA\n",
       "3 a   3 c NA\n",
       "4 b  NA d 1 \n",
       "5 b  NA e 2 "
      ]
     },
     "metadata": {},
     "output_type": "display_data"
    }
   ],
   "source": [
    "# let's name the list\n",
    "setattr(l, 'names', c(\"a\", \"b\"))\n",
    "rbindlist(l, use.names=TRUE, fill=TRUE, idcol=\"ID\")"
   ]
  },
  {
   "cell_type": "markdown",
   "id": "f0ee3f8e",
   "metadata": {},
   "source": [
    "## II. Transform multi-level JSON to Dataframe"
   ]
  },
  {
   "cell_type": "markdown",
   "id": "6329e3bf",
   "metadata": {},
   "source": [
    "### 1. Make a raw json string for testing"
   ]
  },
  {
   "cell_type": "code",
   "execution_count": 61,
   "id": "ad904e77",
   "metadata": {},
   "outputs": [
    {
     "data": {
      "text/html": [
       "<span style=white-space:pre-wrap>'{\\n    \"_id\" : \"AAA1\",\\n    \"individualCode\" : \"HBD001\",\\n    \"Samples\" : [ \\n        {\\n            \"filename\" : \"PBMCs_APC HBD001 ACD-A 17apr18_088·fcs\",\\n            \"project\" : \"CPI\",\\n            \"markers\" : [ \\n                {\\n                    \"name\" : \"NK (%LC)\",\\n                    \"value\" : 17.92,\\n                    \"confidence\" : \"\",\\n                    \"interpretation\" : \"\"\\n                }, \\n                {\\n                    \"name\" : \"NK- 1 (%LC)\",\\n                    \"value\" : 1.35,\\n                    \"confidence\" : \"\",\\n                    \"interpretation\" : \"\"\\n                }              \\n            ]\\n        }, \\n        {\\n            \"filename\" : \"PBMCs_Th cell HBD001 ACD-A 18apr18_045·fcs\",\\n            \"project\" : \"CPI\",\\n            \"markers\" : [ \\n                {\\n                    \"name\" : \"Exhausted (%CD4)\",\\n                    \"value\" : 0.29,\\n                    \"confidence\" : \"\",\\n                    \"interpretation\" : \"\"\\n                }, \\n                {\\n                    \"name\" : \"R5 Th1 (%CD4)\",\\n                    \"value\" : 1.23,\\n                    \"confidence\" : \"\",\\n                    \"interpretation\" : \"\"\\n                }\\n            ]\\n        }\\n    ]\\n}'</span>"
      ],
      "text/latex": [
       "'\\{\\textbackslash{}n    \"\\_id\" : \"AAA1\",\\textbackslash{}n    \"individualCode\" : \"HBD001\",\\textbackslash{}n    \"Samples\" : {[} \\textbackslash{}n        \\{\\textbackslash{}n            \"filename\" : \"PBMCs\\_APC HBD001 ACD-A 17apr18\\_088·fcs\",\\textbackslash{}n            \"project\" : \"CPI\",\\textbackslash{}n            \"markers\" : {[} \\textbackslash{}n                \\{\\textbackslash{}n                    \"name\" : \"NK (\\%LC)\",\\textbackslash{}n                    \"value\" : 17.92,\\textbackslash{}n                    \"confidence\" : \"\",\\textbackslash{}n                    \"interpretation\" : \"\"\\textbackslash{}n                \\}, \\textbackslash{}n                \\{\\textbackslash{}n                    \"name\" : \"NK- 1 (\\%LC)\",\\textbackslash{}n                    \"value\" : 1.35,\\textbackslash{}n                    \"confidence\" : \"\",\\textbackslash{}n                    \"interpretation\" : \"\"\\textbackslash{}n                \\}              \\textbackslash{}n            {]}\\textbackslash{}n        \\}, \\textbackslash{}n        \\{\\textbackslash{}n            \"filename\" : \"PBMCs\\_Th cell HBD001 ACD-A 18apr18\\_045·fcs\",\\textbackslash{}n            \"project\" : \"CPI\",\\textbackslash{}n            \"markers\" : {[} \\textbackslash{}n                \\{\\textbackslash{}n                    \"name\" : \"Exhausted (\\%CD4)\",\\textbackslash{}n                    \"value\" : 0.29,\\textbackslash{}n                    \"confidence\" : \"\",\\textbackslash{}n                    \"interpretation\" : \"\"\\textbackslash{}n                \\}, \\textbackslash{}n                \\{\\textbackslash{}n                    \"name\" : \"R5 Th1 (\\%CD4)\",\\textbackslash{}n                    \"value\" : 1.23,\\textbackslash{}n                    \"confidence\" : \"\",\\textbackslash{}n                    \"interpretation\" : \"\"\\textbackslash{}n                \\}\\textbackslash{}n            {]}\\textbackslash{}n        \\}\\textbackslash{}n    {]}\\textbackslash{}n\\}'"
      ],
      "text/markdown": [
       "<span style=white-space:pre-wrap>'{\\n    \"_id\" : \"AAA1\",\\n    \"individualCode\" : \"HBD001\",\\n    \"Samples\" : [ \\n        {\\n            \"filename\" : \"PBMCs_APC HBD001 ACD-A 17apr18_088·fcs\",\\n            \"project\" : \"CPI\",\\n            \"markers\" : [ \\n                {\\n                    \"name\" : \"NK (%LC)\",\\n                    \"value\" : 17.92,\\n                    \"confidence\" : \"\",\\n                    \"interpretation\" : \"\"\\n                }, \\n                {\\n                    \"name\" : \"NK- 1 (%LC)\",\\n                    \"value\" : 1.35,\\n                    \"confidence\" : \"\",\\n                    \"interpretation\" : \"\"\\n                }              \\n            ]\\n        }, \\n        {\\n            \"filename\" : \"PBMCs_Th cell HBD001 ACD-A 18apr18_045·fcs\",\\n            \"project\" : \"CPI\",\\n            \"markers\" : [ \\n                {\\n                    \"name\" : \"Exhausted (%CD4)\",\\n                    \"value\" : 0.29,\\n                    \"confidence\" : \"\",\\n                    \"interpretation\" : \"\"\\n                }, \\n                {\\n                    \"name\" : \"R5 Th1 (%CD4)\",\\n                    \"value\" : 1.23,\\n                    \"confidence\" : \"\",\\n                    \"interpretation\" : \"\"\\n                }\\n            ]\\n        }\\n    ]\\n}'</span>"
      ],
      "text/plain": [
       "[1] \"{\\n    \\\"_id\\\" : \\\"AAA1\\\",\\n    \\\"individualCode\\\" : \\\"HBD001\\\",\\n    \\\"Samples\\\" : [ \\n        {\\n            \\\"filename\\\" : \\\"PBMCs_APC HBD001 ACD-A 17apr18_088·fcs\\\",\\n            \\\"project\\\" : \\\"CPI\\\",\\n            \\\"markers\\\" : [ \\n                {\\n                    \\\"name\\\" : \\\"NK (%LC)\\\",\\n                    \\\"value\\\" : 17.92,\\n                    \\\"confidence\\\" : \\\"\\\",\\n                    \\\"interpretation\\\" : \\\"\\\"\\n                }, \\n                {\\n                    \\\"name\\\" : \\\"NK- 1 (%LC)\\\",\\n                    \\\"value\\\" : 1.35,\\n                    \\\"confidence\\\" : \\\"\\\",\\n                    \\\"interpretation\\\" : \\\"\\\"\\n                }              \\n            ]\\n        }, \\n        {\\n            \\\"filename\\\" : \\\"PBMCs_Th cell HBD001 ACD-A 18apr18_045·fcs\\\",\\n            \\\"project\\\" : \\\"CPI\\\",\\n            \\\"markers\\\" : [ \\n                {\\n                    \\\"name\\\" : \\\"Exhausted (%CD4)\\\",\\n                    \\\"value\\\" : 0.29,\\n                    \\\"confidence\\\" : \\\"\\\",\\n                    \\\"interpretation\\\" : \\\"\\\"\\n                }, \\n                {\\n                    \\\"name\\\" : \\\"R5 Th1 (%CD4)\\\",\\n                    \\\"value\\\" : 1.23,\\n                    \\\"confidence\\\" : \\\"\\\",\\n                    \\\"interpretation\\\" : \\\"\\\"\\n                }\\n            ]\\n        }\\n    ]\\n}\""
      ]
     },
     "metadata": {},
     "output_type": "display_data"
    }
   ],
   "source": [
    "library(jsonlite)\n",
    "\n",
    "json_str <- '{\n",
    "    \"_id\" : \"AAA1\",\n",
    "    \"individualCode\" : \"HBD001\",\n",
    "    \"Samples\" : [ \n",
    "        {\n",
    "            \"filename\" : \"PBMCs_APC HBD001 ACD-A 17apr18_088․fcs\",\n",
    "            \"project\" : \"CPI\",\n",
    "            \"markers\" : [ \n",
    "                {\n",
    "                    \"name\" : \"NK (%LC)\",\n",
    "                    \"value\" : 17.92,\n",
    "                    \"confidence\" : \"\",\n",
    "                    \"interpretation\" : \"\"\n",
    "                }, \n",
    "                {\n",
    "                    \"name\" : \"NK- 1 (%LC)\",\n",
    "                    \"value\" : 1.35,\n",
    "                    \"confidence\" : \"\",\n",
    "                    \"interpretation\" : \"\"\n",
    "                }              \n",
    "            ]\n",
    "        }, \n",
    "        {\n",
    "            \"filename\" : \"PBMCs_Th cell HBD001 ACD-A 18apr18_045․fcs\",\n",
    "            \"project\" : \"CPI\",\n",
    "            \"markers\" : [ \n",
    "                {\n",
    "                    \"name\" : \"Exhausted (%CD4)\",\n",
    "                    \"value\" : 0.29,\n",
    "                    \"confidence\" : \"\",\n",
    "                    \"interpretation\" : \"\"\n",
    "                }, \n",
    "                {\n",
    "                    \"name\" : \"R5 Th1 (%CD4)\",\n",
    "                    \"value\" : 1.23,\n",
    "                    \"confidence\" : \"\",\n",
    "                    \"interpretation\" : \"\"\n",
    "                }\n",
    "            ]\n",
    "        }\n",
    "    ]\n",
    "}'\n",
    "\n",
    "json_str"
   ]
  },
  {
   "cell_type": "markdown",
   "id": "6e91bfa0",
   "metadata": {},
   "source": [
    "### 2. Convert json string to R object"
   ]
  },
  {
   "cell_type": "code",
   "execution_count": 62,
   "id": "156eef0d",
   "metadata": {},
   "outputs": [
    {
     "data": {
      "text/html": [
       "<dl>\n",
       "\t<dt>$`_id`</dt>\n",
       "\t\t<dd>'AAA1'</dd>\n",
       "\t<dt>$individualCode</dt>\n",
       "\t\t<dd>'HBD001'</dd>\n",
       "\t<dt>$Samples</dt>\n",
       "\t\t<dd><table>\n",
       "<thead><tr><th scope=col>filename</th><th scope=col>project</th><th scope=col>markers</th></tr></thead>\n",
       "<tbody>\n",
       "\t<tr><td>PBMCs_APC HBD001 ACD-A 17apr18_088·fcs                                                                </td><td>CPI                                                                                                   </td><td>NK (%LC)   , NK- 1 (%LC), 17.92      , 1.35       ,            ,            ,            ,            </td></tr>\n",
       "\t<tr><td>PBMCs_Th cell HBD001 ACD-A 18apr18_045·fcs                                                                                                    </td><td>CPI                                                                                                                                           </td><td>Exhausted (%CD4), R5 Th1 (%CD4)   , 0.29            , 1.23            ,                 ,                 ,                 ,                 </td></tr>\n",
       "</tbody>\n",
       "</table>\n",
       "</dd>\n",
       "</dl>\n"
      ],
      "text/latex": [
       "\\begin{description}\n",
       "\\item[\\$`\\_id`] 'AAA1'\n",
       "\\item[\\$individualCode] 'HBD001'\n",
       "\\item[\\$Samples] \\begin{tabular}{r|lll}\n",
       " filename & project & markers\\\\\n",
       "\\hline\n",
       "\t PBMCs\\_APC HBD001 ACD-A 17apr18\\_088·fcs                                                                 & CPI                                                                                                        & NK (\\%LC)   , NK- 1 (\\%LC), 17.92      , 1.35       ,            ,            ,            ,            \\\\\n",
       "\t PBMCs\\_Th cell HBD001 ACD-A 18apr18\\_045·fcs                                                                                                     & CPI                                                                                                                                                & Exhausted (\\%CD4), R5 Th1 (\\%CD4)   , 0.29            , 1.23            ,                 ,                 ,                 ,                 \\\\\n",
       "\\end{tabular}\n",
       "\n",
       "\\end{description}\n"
      ],
      "text/markdown": [
       "$`_id`\n",
       ":   'AAA1'\n",
       "$individualCode\n",
       ":   'HBD001'\n",
       "$Samples\n",
       ":   \n",
       "| filename | project | markers |\n",
       "|---|---|---|\n",
       "| PBMCs_APC HBD001 ACD-A 17apr18_088·fcs                                                                 | CPI                                                                                                    | NK (%LC)   , NK- 1 (%LC), 17.92      , 1.35       ,            ,            ,            ,             |\n",
       "| PBMCs_Th cell HBD001 ACD-A 18apr18_045·fcs                                                                                                     | CPI                                                                                                                                            | Exhausted (%CD4), R5 Th1 (%CD4)   , 0.29            , 1.23            ,                 ,                 ,                 ,                  |\n",
       "\n",
       "\n",
       "\n",
       "\n"
      ],
      "text/plain": [
       "$`_id`\n",
       "[1] \"AAA1\"\n",
       "\n",
       "$individualCode\n",
       "[1] \"HBD001\"\n",
       "\n",
       "$Samples\n",
       "                                    filename project\n",
       "1     PBMCs_APC HBD001 ACD-A 17apr18_088·fcs     CPI\n",
       "2 PBMCs_Th cell HBD001 ACD-A 18apr18_045·fcs     CPI\n",
       "                                              markers\n",
       "1          NK (%LC), NK- 1 (%LC), 17.92, 1.35, , , , \n",
       "2 Exhausted (%CD4), R5 Th1 (%CD4), 0.29, 1.23, , , , \n"
      ]
     },
     "metadata": {},
     "output_type": "display_data"
    }
   ],
   "source": [
    "list_json <- fromJSON(json_str)\n",
    "list_json"
   ]
  },
  {
   "cell_type": "markdown",
   "id": "9dadf4e8",
   "metadata": {},
   "source": [
    "### 3. Convert R list object to DataFrame"
   ]
  },
  {
   "cell_type": "code",
   "execution_count": 63,
   "id": "c77710b9",
   "metadata": {
    "scrolled": false
   },
   "outputs": [
    {
     "data": {
      "text/html": [
       "<table>\n",
       "<thead><tr><th scope=col>_id</th><th scope=col>individualCode</th><th scope=col>Samples.filename</th><th scope=col>Samples.project</th><th scope=col>Samples.markers</th></tr></thead>\n",
       "<tbody>\n",
       "\t<tr><td>AAA1                                                                                                  </td><td>HBD001                                                                                                </td><td>PBMCs_APC HBD001 ACD-A 17apr18_088·fcs                                                                </td><td>CPI                                                                                                   </td><td>NK (%LC)   , NK- 1 (%LC), 17.92      , 1.35       ,            ,            ,            ,            </td></tr>\n",
       "\t<tr><td>AAA1                                                                                                                                          </td><td>HBD001                                                                                                                                        </td><td>PBMCs_Th cell HBD001 ACD-A 18apr18_045·fcs                                                                                                    </td><td>CPI                                                                                                                                           </td><td>Exhausted (%CD4), R5 Th1 (%CD4)   , 0.29            , 1.23            ,                 ,                 ,                 ,                 </td></tr>\n",
       "</tbody>\n",
       "</table>\n"
      ],
      "text/latex": [
       "\\begin{tabular}{r|lllll}\n",
       " \\_id & individualCode & Samples.filename & Samples.project & Samples.markers\\\\\n",
       "\\hline\n",
       "\t AAA1                                                                                                       & HBD001                                                                                                     & PBMCs\\_APC HBD001 ACD-A 17apr18\\_088·fcs                                                                 & CPI                                                                                                        & NK (\\%LC)   , NK- 1 (\\%LC), 17.92      , 1.35       ,            ,            ,            ,            \\\\\n",
       "\t AAA1                                                                                                                                               & HBD001                                                                                                                                             & PBMCs\\_Th cell HBD001 ACD-A 18apr18\\_045·fcs                                                                                                     & CPI                                                                                                                                                & Exhausted (\\%CD4), R5 Th1 (\\%CD4)   , 0.29            , 1.23            ,                 ,                 ,                 ,                 \\\\\n",
       "\\end{tabular}\n"
      ],
      "text/markdown": [
       "\n",
       "| _id | individualCode | Samples.filename | Samples.project | Samples.markers |\n",
       "|---|---|---|---|---|\n",
       "| AAA1                                                                                                   | HBD001                                                                                                 | PBMCs_APC HBD001 ACD-A 17apr18_088·fcs                                                                 | CPI                                                                                                    | NK (%LC)   , NK- 1 (%LC), 17.92      , 1.35       ,            ,            ,            ,             |\n",
       "| AAA1                                                                                                                                           | HBD001                                                                                                                                         | PBMCs_Th cell HBD001 ACD-A 18apr18_045·fcs                                                                                                     | CPI                                                                                                                                            | Exhausted (%CD4), R5 Th1 (%CD4)   , 0.29            , 1.23            ,                 ,                 ,                 ,                  |\n",
       "\n"
      ],
      "text/plain": [
       "  _id  individualCode Samples.filename                          \n",
       "1 AAA1 HBD001         PBMCs_APC HBD001 ACD-A 17apr18_088·fcs    \n",
       "2 AAA1 HBD001         PBMCs_Th cell HBD001 ACD-A 18apr18_045·fcs\n",
       "  Samples.project\n",
       "1 CPI            \n",
       "2 CPI            \n",
       "  Samples.markers                                                                                                                               \n",
       "1 NK (%LC)   , NK- 1 (%LC), 17.92      , 1.35       ,            ,            ,            ,                                                    \n",
       "2 Exhausted (%CD4), R5 Th1 (%CD4)   , 0.29            , 1.23            ,                 ,                 ,                 ,                 "
      ]
     },
     "metadata": {},
     "output_type": "display_data"
    }
   ],
   "source": [
    "df <- do.call(\"cbind\", list_json)\n",
    "df"
   ]
  },
  {
   "cell_type": "markdown",
   "id": "66cf1649",
   "metadata": {},
   "source": [
    "### 4.  DataFrame of markers (Optional)"
   ]
  },
  {
   "cell_type": "code",
   "execution_count": 64,
   "id": "2bcbd85f",
   "metadata": {},
   "outputs": [
    {
     "data": {
      "text/html": [
       "<ol>\n",
       "\t<li><table>\n",
       "<thead><tr><th scope=col>name</th><th scope=col>value</th><th scope=col>confidence</th><th scope=col>interpretation</th></tr></thead>\n",
       "<tbody>\n",
       "\t<tr><td>NK (%LC)   </td><td>17.92      </td><td>           </td><td>           </td></tr>\n",
       "\t<tr><td>NK- 1 (%LC)</td><td> 1.35      </td><td>           </td><td>           </td></tr>\n",
       "</tbody>\n",
       "</table>\n",
       "</li>\n",
       "\t<li><table>\n",
       "<thead><tr><th scope=col>name</th><th scope=col>value</th><th scope=col>confidence</th><th scope=col>interpretation</th></tr></thead>\n",
       "<tbody>\n",
       "\t<tr><td>Exhausted (%CD4)</td><td>0.29            </td><td>                </td><td>                </td></tr>\n",
       "\t<tr><td>R5 Th1 (%CD4)   </td><td>1.23            </td><td>                </td><td>                </td></tr>\n",
       "</tbody>\n",
       "</table>\n",
       "</li>\n",
       "</ol>\n"
      ],
      "text/latex": [
       "\\begin{enumerate}\n",
       "\\item \\begin{tabular}{r|llll}\n",
       " name & value & confidence & interpretation\\\\\n",
       "\\hline\n",
       "\t NK (\\%LC)    & 17.92         &               &              \\\\\n",
       "\t NK- 1 (\\%LC) &  1.35         &               &              \\\\\n",
       "\\end{tabular}\n",
       "\n",
       "\\item \\begin{tabular}{r|llll}\n",
       " name & value & confidence & interpretation\\\\\n",
       "\\hline\n",
       "\t Exhausted (\\%CD4) & 0.29               &                    &                   \\\\\n",
       "\t R5 Th1 (\\%CD4)    & 1.23               &                    &                   \\\\\n",
       "\\end{tabular}\n",
       "\n",
       "\\end{enumerate}\n"
      ],
      "text/markdown": [
       "1. \n",
       "| name | value | confidence | interpretation |\n",
       "|---|---|---|---|\n",
       "| NK (%LC)    | 17.92       |             |             |\n",
       "| NK- 1 (%LC) |  1.35       |             |             |\n",
       "\n",
       "\n",
       "2. \n",
       "| name | value | confidence | interpretation |\n",
       "|---|---|---|---|\n",
       "| Exhausted (%CD4) | 0.29             |                  |                  |\n",
       "| R5 Th1 (%CD4)    | 1.23             |                  |                  |\n",
       "\n",
       "\n",
       "\n",
       "\n"
      ],
      "text/plain": [
       "[[1]]\n",
       "         name value confidence interpretation\n",
       "1    NK (%LC) 17.92                          \n",
       "2 NK- 1 (%LC)  1.35                          \n",
       "\n",
       "[[2]]\n",
       "              name value confidence interpretation\n",
       "1 Exhausted (%CD4)  0.29                          \n",
       "2    R5 Th1 (%CD4)  1.23                          \n"
      ]
     },
     "metadata": {},
     "output_type": "display_data"
    }
   ],
   "source": [
    "# Check\n",
    "list_markers <- df$Samples.markers\n",
    "list_markers"
   ]
  },
  {
   "cell_type": "code",
   "execution_count": 65,
   "id": "8437908f",
   "metadata": {},
   "outputs": [
    {
     "data": {
      "text/html": [
       "<table>\n",
       "<thead><tr><th scope=col>name</th><th scope=col>value</th><th scope=col>confidence</th><th scope=col>interpretation</th></tr></thead>\n",
       "<tbody>\n",
       "\t<tr><td>NK (%LC)        </td><td>17.92           </td><td>                </td><td>                </td></tr>\n",
       "\t<tr><td>NK- 1 (%LC)     </td><td> 1.35           </td><td>                </td><td>                </td></tr>\n",
       "\t<tr><td>Exhausted (%CD4)</td><td> 0.29           </td><td>                </td><td>                </td></tr>\n",
       "\t<tr><td>R5 Th1 (%CD4)   </td><td> 1.23           </td><td>                </td><td>                </td></tr>\n",
       "</tbody>\n",
       "</table>\n"
      ],
      "text/latex": [
       "\\begin{tabular}{r|llll}\n",
       " name & value & confidence & interpretation\\\\\n",
       "\\hline\n",
       "\t NK (\\%LC)         & 17.92              &                    &                   \\\\\n",
       "\t NK- 1 (\\%LC)      &  1.35              &                    &                   \\\\\n",
       "\t Exhausted (\\%CD4) &  0.29              &                    &                   \\\\\n",
       "\t R5 Th1 (\\%CD4)    &  1.23              &                    &                   \\\\\n",
       "\\end{tabular}\n"
      ],
      "text/markdown": [
       "\n",
       "| name | value | confidence | interpretation |\n",
       "|---|---|---|---|\n",
       "| NK (%LC)         | 17.92            |                  |                  |\n",
       "| NK- 1 (%LC)      |  1.35            |                  |                  |\n",
       "| Exhausted (%CD4) |  0.29            |                  |                  |\n",
       "| R5 Th1 (%CD4)    |  1.23            |                  |                  |\n",
       "\n"
      ],
      "text/plain": [
       "  name             value confidence interpretation\n",
       "1 NK (%LC)         17.92                          \n",
       "2 NK- 1 (%LC)       1.35                          \n",
       "3 Exhausted (%CD4)  0.29                          \n",
       "4 R5 Th1 (%CD4)     1.23                          "
      ]
     },
     "metadata": {},
     "output_type": "display_data"
    }
   ],
   "source": [
    "library(data.table)\n",
    "\n",
    "df_markers <- rbindlist(list_markers, fill=TRUE)\n",
    "df_markers"
   ]
  },
  {
   "cell_type": "code",
   "execution_count": 66,
   "id": "32c0a87b",
   "metadata": {},
   "outputs": [
    {
     "data": {
      "text/html": [
       "<table>\n",
       "<thead><tr><th scope=col>name</th><th scope=col>HBD001</th><th scope=col>confidence</th><th scope=col>interpretation</th></tr></thead>\n",
       "<tbody>\n",
       "\t<tr><td>NK (%LC)        </td><td>17.92           </td><td>                </td><td>                </td></tr>\n",
       "\t<tr><td>NK- 1 (%LC)     </td><td> 1.35           </td><td>                </td><td>                </td></tr>\n",
       "\t<tr><td>Exhausted (%CD4)</td><td> 0.29           </td><td>                </td><td>                </td></tr>\n",
       "\t<tr><td>R5 Th1 (%CD4)   </td><td> 1.23           </td><td>                </td><td>                </td></tr>\n",
       "</tbody>\n",
       "</table>\n"
      ],
      "text/latex": [
       "\\begin{tabular}{r|llll}\n",
       " name & HBD001 & confidence & interpretation\\\\\n",
       "\\hline\n",
       "\t NK (\\%LC)         & 17.92              &                    &                   \\\\\n",
       "\t NK- 1 (\\%LC)      &  1.35              &                    &                   \\\\\n",
       "\t Exhausted (\\%CD4) &  0.29              &                    &                   \\\\\n",
       "\t R5 Th1 (\\%CD4)    &  1.23              &                    &                   \\\\\n",
       "\\end{tabular}\n"
      ],
      "text/markdown": [
       "\n",
       "| name | HBD001 | confidence | interpretation |\n",
       "|---|---|---|---|\n",
       "| NK (%LC)         | 17.92            |                  |                  |\n",
       "| NK- 1 (%LC)      |  1.35            |                  |                  |\n",
       "| Exhausted (%CD4) |  0.29            |                  |                  |\n",
       "| R5 Th1 (%CD4)    |  1.23            |                  |                  |\n",
       "\n"
      ],
      "text/plain": [
       "  name             HBD001 confidence interpretation\n",
       "1 NK (%LC)         17.92                           \n",
       "2 NK- 1 (%LC)       1.35                           \n",
       "3 Exhausted (%CD4)  0.29                           \n",
       "4 R5 Th1 (%CD4)     1.23                           "
      ]
     },
     "metadata": {},
     "output_type": "display_data"
    }
   ],
   "source": [
    "# at df_markers: change column name to HBD001\n",
    "colnames(df_markers)[colnames(df_markers) == 'value'] <- 'HBD001'\n",
    "df_markers"
   ]
  },
  {
   "cell_type": "markdown",
   "id": "eb093dac",
   "metadata": {},
   "source": [
    "### Create a function"
   ]
  },
  {
   "cell_type": "code",
   "execution_count": 67,
   "id": "560f8651",
   "metadata": {},
   "outputs": [],
   "source": [
    "transform_df <- function(df, newColname){\n",
    "    list_Samples <- df$Samples\n",
    "    df_Samples <- rbindlist(list_Samples, fill=TRUE)\n",
    "    list_markers <- df_Samples$markers\n",
    "    df_markers <- rbindlist(list_markers, fill=TRUE)\n",
    "    colnames(df_markers)[colnames(df_markers) == 'value'] <- newColname\n",
    "    return (df_markers)\n",
    "}"
   ]
  },
  {
   "cell_type": "markdown",
   "id": "8a38441c",
   "metadata": {},
   "source": [
    "## III. Merge two Dataframes  \n",
    "```\n",
    "cbind() – combining the columns of two data frames side-by-side\n",
    "rbind() – stacking two data frames on top of each other, appending one to the other\n",
    "merge() – joining two data frames using a common column\n",
    "```"
   ]
  },
  {
   "cell_type": "markdown",
   "id": "07fc29aa",
   "metadata": {},
   "source": [
    "### 1. Merge"
   ]
  },
  {
   "cell_type": "code",
   "execution_count": 68,
   "id": "25515fdd",
   "metadata": {},
   "outputs": [
    {
     "data": {
      "text/html": [
       "<table>\n",
       "<thead><tr><th scope=col>surname</th><th scope=col>nationality</th><th scope=col>retired</th></tr></thead>\n",
       "<tbody>\n",
       "\t<tr><td>AA       </td><td>US       </td><td>yes      </td></tr>\n",
       "\t<tr><td>BB       </td><td>Australia</td><td>no       </td></tr>\n",
       "\t<tr><td>EE       </td><td>US       </td><td>no       </td></tr>\n",
       "</tbody>\n",
       "</table>\n"
      ],
      "text/latex": [
       "\\begin{tabular}{r|lll}\n",
       " surname & nationality & retired\\\\\n",
       "\\hline\n",
       "\t AA        & US        & yes      \\\\\n",
       "\t BB        & Australia & no       \\\\\n",
       "\t EE        & US        & no       \\\\\n",
       "\\end{tabular}\n"
      ],
      "text/markdown": [
       "\n",
       "| surname | nationality | retired |\n",
       "|---|---|---|\n",
       "| AA        | US        | yes       |\n",
       "| BB        | Australia | no        |\n",
       "| EE        | US        | no        |\n",
       "\n"
      ],
      "text/plain": [
       "  surname nationality retired\n",
       "1 AA      US          yes    \n",
       "2 BB      Australia   no     \n",
       "3 EE      US          no     "
      ]
     },
     "metadata": {},
     "output_type": "display_data"
    }
   ],
   "source": [
    "df_authors <- data.frame(\n",
    "    surname = c(\"AA\", \"BB\", \"EE\"),\n",
    "    nationality = c(\"US\", \"Australia\", \"US\"),\n",
    "    retired = c(\"yes\", rep(\"no\", 2)))\n",
    "df_authors"
   ]
  },
  {
   "cell_type": "code",
   "execution_count": 69,
   "id": "82adf85e",
   "metadata": {},
   "outputs": [
    {
     "data": {
      "text/html": [
       "<table>\n",
       "<thead><tr><th scope=col>name</th><th scope=col>title</th></tr></thead>\n",
       "<tbody>\n",
       "\t<tr><td>AA    </td><td>Title1</td></tr>\n",
       "\t<tr><td>DD    </td><td>NA    </td></tr>\n",
       "\t<tr><td>BB    </td><td>Title3</td></tr>\n",
       "</tbody>\n",
       "</table>\n"
      ],
      "text/latex": [
       "\\begin{tabular}{r|ll}\n",
       " name & title\\\\\n",
       "\\hline\n",
       "\t AA     & Title1\\\\\n",
       "\t DD     & NA    \\\\\n",
       "\t BB     & Title3\\\\\n",
       "\\end{tabular}\n"
      ],
      "text/markdown": [
       "\n",
       "| name | title |\n",
       "|---|---|\n",
       "| AA     | Title1 |\n",
       "| DD     | NA     |\n",
       "| BB     | Title3 |\n",
       "\n"
      ],
      "text/plain": [
       "  name title \n",
       "1 AA   Title1\n",
       "2 DD   NA    \n",
       "3 BB   Title3"
      ]
     },
     "metadata": {},
     "output_type": "display_data"
    }
   ],
   "source": [
    "df_books <- data.frame(\n",
    "    name = c(\"AA\", \"DD\", \"BB\"),\n",
    "    title = c(\"Title1\", NA, \"Title3\"))\n",
    "df_books"
   ]
  },
  {
   "cell_type": "code",
   "execution_count": 70,
   "id": "019d316b",
   "metadata": {},
   "outputs": [
    {
     "data": {
      "text/html": [
       "<table>\n",
       "<thead><tr><th scope=col>surname</th><th scope=col>nationality</th><th scope=col>retired</th><th scope=col>title</th></tr></thead>\n",
       "<tbody>\n",
       "\t<tr><td>AA       </td><td>US       </td><td>yes      </td><td>Title1   </td></tr>\n",
       "\t<tr><td>BB       </td><td>Australia</td><td>no       </td><td>Title3   </td></tr>\n",
       "\t<tr><td>EE       </td><td>US       </td><td>no       </td><td>NA       </td></tr>\n",
       "\t<tr><td>DD       </td><td>NA       </td><td>NA       </td><td>NA       </td></tr>\n",
       "</tbody>\n",
       "</table>\n"
      ],
      "text/latex": [
       "\\begin{tabular}{r|llll}\n",
       " surname & nationality & retired & title\\\\\n",
       "\\hline\n",
       "\t AA        & US        & yes       & Title1   \\\\\n",
       "\t BB        & Australia & no        & Title3   \\\\\n",
       "\t EE        & US        & no        & NA       \\\\\n",
       "\t DD        & NA        & NA        & NA       \\\\\n",
       "\\end{tabular}\n"
      ],
      "text/markdown": [
       "\n",
       "| surname | nationality | retired | title |\n",
       "|---|---|---|---|\n",
       "| AA        | US        | yes       | Title1    |\n",
       "| BB        | Australia | no        | Title3    |\n",
       "| EE        | US        | no        | NA        |\n",
       "| DD        | NA        | NA        | NA        |\n",
       "\n"
      ],
      "text/plain": [
       "  surname nationality retired title \n",
       "1 AA      US          yes     Title1\n",
       "2 BB      Australia   no      Title3\n",
       "3 EE      US          no      NA    \n",
       "4 DD      NA          NA      NA    "
      ]
     },
     "metadata": {},
     "output_type": "display_data"
    }
   ],
   "source": [
    "df_merge <- merge(x=df_authors, \n",
    "                  y=df_books, \n",
    "                  by.x=\"surname\", \n",
    "                  by.y=\"name\",\n",
    "                  all=TRUE  # ALL: Outer Join, all.x= TRUE: Left Join, all.y=TRUE: Right join, No specify: Inner join\n",
    "                            # NOTE: Cross join: merge(x = df1, y = df2, by = NULL)\n",
    "                 )\n",
    "df_merge"
   ]
  },
  {
   "cell_type": "markdown",
   "id": "9662d63d",
   "metadata": {},
   "source": [
    "### 2. rbind and bind_rows"
   ]
  },
  {
   "cell_type": "code",
   "execution_count": 71,
   "id": "bb250218",
   "metadata": {},
   "outputs": [
    {
     "data": {
      "text/html": [
       "<table>\n",
       "<thead><tr><th scope=col>a</th><th scope=col>b</th><th scope=col>c</th></tr></thead>\n",
       "<tbody>\n",
       "\t<tr><td>0</td><td>3</td><td>6</td></tr>\n",
       "\t<tr><td>1</td><td>4</td><td>7</td></tr>\n",
       "\t<tr><td>2</td><td>5</td><td>8</td></tr>\n",
       "</tbody>\n",
       "</table>\n"
      ],
      "text/latex": [
       "\\begin{tabular}{r|lll}\n",
       " a & b & c\\\\\n",
       "\\hline\n",
       "\t 0 & 3 & 6\\\\\n",
       "\t 1 & 4 & 7\\\\\n",
       "\t 2 & 5 & 8\\\\\n",
       "\\end{tabular}\n"
      ],
      "text/markdown": [
       "\n",
       "| a | b | c |\n",
       "|---|---|---|\n",
       "| 0 | 3 | 6 |\n",
       "| 1 | 4 | 7 |\n",
       "| 2 | 5 | 8 |\n",
       "\n"
      ],
      "text/plain": [
       "  a b c\n",
       "1 0 3 6\n",
       "2 1 4 7\n",
       "3 2 5 8"
      ]
     },
     "metadata": {},
     "output_type": "display_data"
    }
   ],
   "source": [
    "df1 <- data.frame(a=c(0,1,2), b=c(3,4,5), c=c(6,7,8))\n",
    "df1"
   ]
  },
  {
   "cell_type": "code",
   "execution_count": 72,
   "id": "ec161013",
   "metadata": {},
   "outputs": [
    {
     "data": {
      "text/html": [
       "<table>\n",
       "<thead><tr><th scope=col>a</th><th scope=col>c</th></tr></thead>\n",
       "<tbody>\n",
       "\t<tr><td> 9</td><td>12</td></tr>\n",
       "\t<tr><td>10</td><td>13</td></tr>\n",
       "</tbody>\n",
       "</table>\n"
      ],
      "text/latex": [
       "\\begin{tabular}{r|ll}\n",
       " a & c\\\\\n",
       "\\hline\n",
       "\t  9 & 12\\\\\n",
       "\t 10 & 13\\\\\n",
       "\\end{tabular}\n"
      ],
      "text/markdown": [
       "\n",
       "| a | c |\n",
       "|---|---|\n",
       "|  9 | 12 |\n",
       "| 10 | 13 |\n",
       "\n"
      ],
      "text/plain": [
       "  a  c \n",
       "1  9 12\n",
       "2 10 13"
      ]
     },
     "metadata": {},
     "output_type": "display_data"
    }
   ],
   "source": [
    "df2 <- data.frame(a=c(9,10), c=c(12,13))\n",
    "df2"
   ]
  },
  {
   "cell_type": "code",
   "execution_count": 73,
   "id": "73eafebd",
   "metadata": {},
   "outputs": [
    {
     "data": {
      "text/html": [
       "<table>\n",
       "<thead><tr><th scope=col>a</th><th scope=col>c</th><th scope=col>b</th></tr></thead>\n",
       "<tbody>\n",
       "\t<tr><td> 9</td><td>12</td><td>NA</td></tr>\n",
       "\t<tr><td>10</td><td>13</td><td>NA</td></tr>\n",
       "</tbody>\n",
       "</table>\n"
      ],
      "text/latex": [
       "\\begin{tabular}{r|lll}\n",
       " a & c & b\\\\\n",
       "\\hline\n",
       "\t  9 & 12 & NA\\\\\n",
       "\t 10 & 13 & NA\\\\\n",
       "\\end{tabular}\n"
      ],
      "text/markdown": [
       "\n",
       "| a | c | b |\n",
       "|---|---|---|\n",
       "|  9 | 12 | NA |\n",
       "| 10 | 13 | NA |\n",
       "\n"
      ],
      "text/plain": [
       "  a  c  b \n",
       "1  9 12 NA\n",
       "2 10 13 NA"
      ]
     },
     "metadata": {},
     "output_type": "display_data"
    }
   ],
   "source": [
    "df2$b <- NA  # make a new column with all NA\n",
    "df2"
   ]
  },
  {
   "cell_type": "code",
   "execution_count": 74,
   "id": "7859b0c0",
   "metadata": {},
   "outputs": [
    {
     "data": {
      "text/html": [
       "<table>\n",
       "<thead><tr><th scope=col>a</th><th scope=col>b</th><th scope=col>c</th></tr></thead>\n",
       "<tbody>\n",
       "\t<tr><td> 0</td><td> 3</td><td> 6</td></tr>\n",
       "\t<tr><td> 1</td><td> 4</td><td> 7</td></tr>\n",
       "\t<tr><td> 2</td><td> 5</td><td> 8</td></tr>\n",
       "\t<tr><td> 9</td><td>NA</td><td>12</td></tr>\n",
       "\t<tr><td>10</td><td>NA</td><td>13</td></tr>\n",
       "</tbody>\n",
       "</table>\n"
      ],
      "text/latex": [
       "\\begin{tabular}{r|lll}\n",
       " a & b & c\\\\\n",
       "\\hline\n",
       "\t  0 &  3 &  6\\\\\n",
       "\t  1 &  4 &  7\\\\\n",
       "\t  2 &  5 &  8\\\\\n",
       "\t  9 & NA & 12\\\\\n",
       "\t 10 & NA & 13\\\\\n",
       "\\end{tabular}\n"
      ],
      "text/markdown": [
       "\n",
       "| a | b | c |\n",
       "|---|---|---|\n",
       "|  0 |  3 |  6 |\n",
       "|  1 |  4 |  7 |\n",
       "|  2 |  5 |  8 |\n",
       "|  9 | NA | 12 |\n",
       "| 10 | NA | 13 |\n",
       "\n"
      ],
      "text/plain": [
       "  a  b  c \n",
       "1  0  3  6\n",
       "2  1  4  7\n",
       "3  2  5  8\n",
       "4  9 NA 12\n",
       "5 10 NA 13"
      ]
     },
     "metadata": {},
     "output_type": "display_data"
    }
   ],
   "source": [
    "rbind(df1, df2)   # rbind() requires df1, df2 have the same columns"
   ]
  },
  {
   "cell_type": "code",
   "execution_count": 75,
   "id": "d800f698",
   "metadata": {},
   "outputs": [
    {
     "data": {
      "text/html": [
       "<table>\n",
       "<thead><tr><th scope=col>a</th><th scope=col>c</th></tr></thead>\n",
       "<tbody>\n",
       "\t<tr><td> 9</td><td>12</td></tr>\n",
       "\t<tr><td>10</td><td>13</td></tr>\n",
       "</tbody>\n",
       "</table>\n"
      ],
      "text/latex": [
       "\\begin{tabular}{r|ll}\n",
       " a & c\\\\\n",
       "\\hline\n",
       "\t  9 & 12\\\\\n",
       "\t 10 & 13\\\\\n",
       "\\end{tabular}\n"
      ],
      "text/markdown": [
       "\n",
       "| a | c |\n",
       "|---|---|\n",
       "|  9 | 12 |\n",
       "| 10 | 13 |\n",
       "\n"
      ],
      "text/plain": [
       "  a  c \n",
       "1  9 12\n",
       "2 10 13"
      ]
     },
     "metadata": {},
     "output_type": "display_data"
    }
   ],
   "source": [
    "df3 <- data.frame(a=c(9,10), c=c(12,13))\n",
    "df3"
   ]
  },
  {
   "cell_type": "code",
   "execution_count": 76,
   "id": "a33b4b3e",
   "metadata": {},
   "outputs": [
    {
     "data": {
      "text/html": [
       "<table>\n",
       "<thead><tr><th scope=col>a</th><th scope=col>b</th><th scope=col>c</th></tr></thead>\n",
       "<tbody>\n",
       "\t<tr><td> 0</td><td> 3</td><td> 6</td></tr>\n",
       "\t<tr><td> 1</td><td> 4</td><td> 7</td></tr>\n",
       "\t<tr><td> 2</td><td> 5</td><td> 8</td></tr>\n",
       "\t<tr><td> 9</td><td>NA</td><td>12</td></tr>\n",
       "\t<tr><td>10</td><td>NA</td><td>13</td></tr>\n",
       "</tbody>\n",
       "</table>\n"
      ],
      "text/latex": [
       "\\begin{tabular}{r|lll}\n",
       " a & b & c\\\\\n",
       "\\hline\n",
       "\t  0 &  3 &  6\\\\\n",
       "\t  1 &  4 &  7\\\\\n",
       "\t  2 &  5 &  8\\\\\n",
       "\t  9 & NA & 12\\\\\n",
       "\t 10 & NA & 13\\\\\n",
       "\\end{tabular}\n"
      ],
      "text/markdown": [
       "\n",
       "| a | b | c |\n",
       "|---|---|---|\n",
       "|  0 |  3 |  6 |\n",
       "|  1 |  4 |  7 |\n",
       "|  2 |  5 |  8 |\n",
       "|  9 | NA | 12 |\n",
       "| 10 | NA | 13 |\n",
       "\n"
      ],
      "text/plain": [
       "  a  b  c \n",
       "1  0  3  6\n",
       "2  1  4  7\n",
       "3  2  5  8\n",
       "4  9 NA 12\n",
       "5 10 NA 13"
      ]
     },
     "metadata": {},
     "output_type": "display_data"
    }
   ],
   "source": [
    "bind_rows(df1, df3)  # from the dplyr library. \n",
    "                     # Don't need the same column names at both df"
   ]
  },
  {
   "cell_type": "markdown",
   "id": "e2582675",
   "metadata": {},
   "source": [
    "## IV. filter dataframe"
   ]
  },
  {
   "cell_type": "markdown",
   "id": "63e75b90",
   "metadata": {},
   "source": [
    "#### Postive number"
   ]
  },
  {
   "cell_type": "code",
   "execution_count": 77,
   "id": "74f9fd6c",
   "metadata": {},
   "outputs": [
    {
     "data": {
      "text/html": [
       "<table>\n",
       "<thead><tr><th scope=col>a</th><th scope=col>b</th><th scope=col>c</th></tr></thead>\n",
       "<tbody>\n",
       "\t<tr><td>  0</td><td> 3 </td><td> 6 </td></tr>\n",
       "\t<tr><td>-10</td><td>NA </td><td>NA </td></tr>\n",
       "\t<tr><td>  2</td><td> 5 </td><td> 9 </td></tr>\n",
       "</tbody>\n",
       "</table>\n"
      ],
      "text/latex": [
       "\\begin{tabular}{r|lll}\n",
       " a & b & c\\\\\n",
       "\\hline\n",
       "\t   0 &  3  &  6 \\\\\n",
       "\t -10 & NA  & NA \\\\\n",
       "\t   2 &  5  &  9 \\\\\n",
       "\\end{tabular}\n"
      ],
      "text/markdown": [
       "\n",
       "| a | b | c |\n",
       "|---|---|---|\n",
       "|   0 |  3  |  6  |\n",
       "| -10 | NA  | NA  |\n",
       "|   2 |  5  |  9  |\n",
       "\n"
      ],
      "text/plain": [
       "  a   b  c \n",
       "1   0  3  6\n",
       "2 -10 NA NA\n",
       "3   2  5  9"
      ]
     },
     "metadata": {},
     "output_type": "display_data"
    }
   ],
   "source": [
    "df1 <- data.frame(a = c(0,-10,2), b = c(3, NA, 5), c = c(6, NA, 9))\n",
    "df1"
   ]
  },
  {
   "cell_type": "code",
   "execution_count": 78,
   "id": "58bcb6ee",
   "metadata": {},
   "outputs": [
    {
     "data": {
      "text/html": [
       "<table>\n",
       "<thead><tr><th scope=col>a</th><th scope=col>b</th><th scope=col>c</th></tr></thead>\n",
       "<tbody>\n",
       "\t<tr><td>2</td><td>5</td><td>9</td></tr>\n",
       "</tbody>\n",
       "</table>\n"
      ],
      "text/latex": [
       "\\begin{tabular}{r|lll}\n",
       " a & b & c\\\\\n",
       "\\hline\n",
       "\t 2 & 5 & 9\\\\\n",
       "\\end{tabular}\n"
      ],
      "text/markdown": [
       "\n",
       "| a | b | c |\n",
       "|---|---|---|\n",
       "| 2 | 5 | 9 |\n",
       "\n"
      ],
      "text/plain": [
       "  a b c\n",
       "1 2 5 9"
      ]
     },
     "metadata": {},
     "output_type": "display_data"
    }
   ],
   "source": [
    "df1 %>% filter(a > 0)"
   ]
  },
  {
   "cell_type": "code",
   "execution_count": 79,
   "id": "47d0fb2b",
   "metadata": {},
   "outputs": [
    {
     "data": {
      "text/html": [
       "<table>\n",
       "<thead><tr><th scope=col>a</th><th scope=col>b</th><th scope=col>c</th></tr></thead>\n",
       "<tbody>\n",
       "\t<tr><td>2</td><td>5</td><td>9</td></tr>\n",
       "</tbody>\n",
       "</table>\n"
      ],
      "text/latex": [
       "\\begin{tabular}{r|lll}\n",
       " a & b & c\\\\\n",
       "\\hline\n",
       "\t 2 & 5 & 9\\\\\n",
       "\\end{tabular}\n"
      ],
      "text/markdown": [
       "\n",
       "| a | b | c |\n",
       "|---|---|---|\n",
       "| 2 | 5 | 9 |\n",
       "\n"
      ],
      "text/plain": [
       "  a b c\n",
       "1 2 5 9"
      ]
     },
     "metadata": {},
     "output_type": "display_data"
    }
   ],
   "source": [
    "df1 %>% filter(a == 2 & c == 9)"
   ]
  },
  {
   "cell_type": "code",
   "execution_count": 80,
   "id": "0fb6a40e",
   "metadata": {},
   "outputs": [
    {
     "data": {
      "text/html": [
       "<table>\n",
       "<thead><tr><th scope=col>a</th><th scope=col>b</th><th scope=col>c</th></tr></thead>\n",
       "<tbody>\n",
       "</tbody>\n",
       "</table>\n"
      ],
      "text/latex": [
       "\\begin{tabular}{r|lll}\n",
       " a & b & c\\\\\n",
       "\\hline\n",
       "\\end{tabular}\n"
      ],
      "text/markdown": [
       "\n",
       "| a | b | c |\n",
       "|---|---|---|\n",
       "\n"
      ],
      "text/plain": [
       "     a b c"
      ]
     },
     "metadata": {},
     "output_type": "display_data"
    }
   ],
   "source": [
    "df1 %>% filter(a == 2 & c == 100)"
   ]
  },
  {
   "cell_type": "code",
   "execution_count": 81,
   "id": "915167c7",
   "metadata": {},
   "outputs": [
    {
     "data": {
      "text/html": [
       "<table>\n",
       "<thead><tr><th scope=col>a</th><th scope=col>b</th><th scope=col>c</th></tr></thead>\n",
       "<tbody>\n",
       "\t<tr><td>0</td><td>3</td><td>6</td></tr>\n",
       "\t<tr><td>2</td><td>5</td><td>9</td></tr>\n",
       "</tbody>\n",
       "</table>\n"
      ],
      "text/latex": [
       "\\begin{tabular}{r|lll}\n",
       " a & b & c\\\\\n",
       "\\hline\n",
       "\t 0 & 3 & 6\\\\\n",
       "\t 2 & 5 & 9\\\\\n",
       "\\end{tabular}\n"
      ],
      "text/markdown": [
       "\n",
       "| a | b | c |\n",
       "|---|---|---|\n",
       "| 0 | 3 | 6 |\n",
       "| 2 | 5 | 9 |\n",
       "\n"
      ],
      "text/plain": [
       "  a b c\n",
       "1 0 3 6\n",
       "2 2 5 9"
      ]
     },
     "metadata": {},
     "output_type": "display_data"
    }
   ],
   "source": [
    "df1 %>% filter(b > 0)  #filter >0 also remove NA"
   ]
  },
  {
   "cell_type": "markdown",
   "id": "f53f6a1b",
   "metadata": {},
   "source": [
    "#### Remove NA"
   ]
  },
  {
   "cell_type": "code",
   "execution_count": 82,
   "id": "4f64641c",
   "metadata": {},
   "outputs": [
    {
     "data": {
      "text/html": [
       "<table>\n",
       "<thead><tr><th scope=col>a</th><th scope=col>b</th><th scope=col>c</th></tr></thead>\n",
       "<tbody>\n",
       "\t<tr><td>0</td><td>3</td><td>6</td></tr>\n",
       "\t<tr><td>2</td><td>5</td><td>9</td></tr>\n",
       "</tbody>\n",
       "</table>\n"
      ],
      "text/latex": [
       "\\begin{tabular}{r|lll}\n",
       " a & b & c\\\\\n",
       "\\hline\n",
       "\t 0 & 3 & 6\\\\\n",
       "\t 2 & 5 & 9\\\\\n",
       "\\end{tabular}\n"
      ],
      "text/markdown": [
       "\n",
       "| a | b | c |\n",
       "|---|---|---|\n",
       "| 0 | 3 | 6 |\n",
       "| 2 | 5 | 9 |\n",
       "\n"
      ],
      "text/plain": [
       "  a b c\n",
       "1 0 3 6\n",
       "2 2 5 9"
      ]
     },
     "metadata": {},
     "output_type": "display_data"
    }
   ],
   "source": [
    "df1 %>% filter(!is.na(b))"
   ]
  },
  {
   "cell_type": "markdown",
   "id": "bc1f550a",
   "metadata": {},
   "source": [
    "#### Others"
   ]
  },
  {
   "cell_type": "code",
   "execution_count": 83,
   "id": "cfdc3066",
   "metadata": {},
   "outputs": [
    {
     "data": {
      "text/html": [
       "<table>\n",
       "<thead><tr><th scope=col>sciName</th><th scope=col>family</th><th scope=col>stage</th><th scope=col>count</th></tr></thead>\n",
       "<tbody>\n",
       "\t<tr><td>A </td><td>X </td><td>S1</td><td>1 </td></tr>\n",
       "\t<tr><td>B </td><td>X </td><td>S1</td><td>1 </td></tr>\n",
       "\t<tr><td>C </td><td>X </td><td>S1</td><td>1 </td></tr>\n",
       "\t<tr><td>A </td><td>Y </td><td>S1</td><td>1 </td></tr>\n",
       "\t<tr><td>B </td><td>Y </td><td>S1</td><td>1 </td></tr>\n",
       "\t<tr><td>C </td><td>Y </td><td>S1</td><td>1 </td></tr>\n",
       "\t<tr><td>A </td><td>X </td><td>S2</td><td>1 </td></tr>\n",
       "\t<tr><td>B </td><td>X </td><td>S2</td><td>1 </td></tr>\n",
       "\t<tr><td>C </td><td>X </td><td>S2</td><td>1 </td></tr>\n",
       "\t<tr><td>A </td><td>Y </td><td>S2</td><td>1 </td></tr>\n",
       "\t<tr><td>B </td><td>Y </td><td>S2</td><td>1 </td></tr>\n",
       "\t<tr><td>C </td><td>Y </td><td>S2</td><td>1 </td></tr>\n",
       "\t<tr><td>A </td><td>X </td><td>S3</td><td>1 </td></tr>\n",
       "\t<tr><td>B </td><td>X </td><td>S3</td><td>1 </td></tr>\n",
       "\t<tr><td>C </td><td>X </td><td>S3</td><td>1 </td></tr>\n",
       "\t<tr><td>A </td><td>Y </td><td>S3</td><td>1 </td></tr>\n",
       "\t<tr><td>B </td><td>Y </td><td>S3</td><td>1 </td></tr>\n",
       "\t<tr><td>C </td><td>Y </td><td>S3</td><td>1 </td></tr>\n",
       "\t<tr><td>A </td><td>X </td><td>S4</td><td>1 </td></tr>\n",
       "\t<tr><td>B </td><td>X </td><td>S4</td><td>1 </td></tr>\n",
       "\t<tr><td>C </td><td>X </td><td>S4</td><td>1 </td></tr>\n",
       "\t<tr><td>A </td><td>Y </td><td>S4</td><td>1 </td></tr>\n",
       "\t<tr><td>B </td><td>Y </td><td>S4</td><td>1 </td></tr>\n",
       "\t<tr><td>C </td><td>Y </td><td>S4</td><td>1 </td></tr>\n",
       "</tbody>\n",
       "</table>\n"
      ],
      "text/latex": [
       "\\begin{tabular}{r|llll}\n",
       " sciName & family & stage & count\\\\\n",
       "\\hline\n",
       "\t A  & X  & S1 & 1 \\\\\n",
       "\t B  & X  & S1 & 1 \\\\\n",
       "\t C  & X  & S1 & 1 \\\\\n",
       "\t A  & Y  & S1 & 1 \\\\\n",
       "\t B  & Y  & S1 & 1 \\\\\n",
       "\t C  & Y  & S1 & 1 \\\\\n",
       "\t A  & X  & S2 & 1 \\\\\n",
       "\t B  & X  & S2 & 1 \\\\\n",
       "\t C  & X  & S2 & 1 \\\\\n",
       "\t A  & Y  & S2 & 1 \\\\\n",
       "\t B  & Y  & S2 & 1 \\\\\n",
       "\t C  & Y  & S2 & 1 \\\\\n",
       "\t A  & X  & S3 & 1 \\\\\n",
       "\t B  & X  & S3 & 1 \\\\\n",
       "\t C  & X  & S3 & 1 \\\\\n",
       "\t A  & Y  & S3 & 1 \\\\\n",
       "\t B  & Y  & S3 & 1 \\\\\n",
       "\t C  & Y  & S3 & 1 \\\\\n",
       "\t A  & X  & S4 & 1 \\\\\n",
       "\t B  & X  & S4 & 1 \\\\\n",
       "\t C  & X  & S4 & 1 \\\\\n",
       "\t A  & Y  & S4 & 1 \\\\\n",
       "\t B  & Y  & S4 & 1 \\\\\n",
       "\t C  & Y  & S4 & 1 \\\\\n",
       "\\end{tabular}\n"
      ],
      "text/markdown": [
       "\n",
       "| sciName | family | stage | count |\n",
       "|---|---|---|---|\n",
       "| A  | X  | S1 | 1  |\n",
       "| B  | X  | S1 | 1  |\n",
       "| C  | X  | S1 | 1  |\n",
       "| A  | Y  | S1 | 1  |\n",
       "| B  | Y  | S1 | 1  |\n",
       "| C  | Y  | S1 | 1  |\n",
       "| A  | X  | S2 | 1  |\n",
       "| B  | X  | S2 | 1  |\n",
       "| C  | X  | S2 | 1  |\n",
       "| A  | Y  | S2 | 1  |\n",
       "| B  | Y  | S2 | 1  |\n",
       "| C  | Y  | S2 | 1  |\n",
       "| A  | X  | S3 | 1  |\n",
       "| B  | X  | S3 | 1  |\n",
       "| C  | X  | S3 | 1  |\n",
       "| A  | Y  | S3 | 1  |\n",
       "| B  | Y  | S3 | 1  |\n",
       "| C  | Y  | S3 | 1  |\n",
       "| A  | X  | S4 | 1  |\n",
       "| B  | X  | S4 | 1  |\n",
       "| C  | X  | S4 | 1  |\n",
       "| A  | Y  | S4 | 1  |\n",
       "| B  | Y  | S4 | 1  |\n",
       "| C  | Y  | S4 | 1  |\n",
       "\n"
      ],
      "text/plain": [
       "   sciName family stage count\n",
       "1  A       X      S1    1    \n",
       "2  B       X      S1    1    \n",
       "3  C       X      S1    1    \n",
       "4  A       Y      S1    1    \n",
       "5  B       Y      S1    1    \n",
       "6  C       Y      S1    1    \n",
       "7  A       X      S2    1    \n",
       "8  B       X      S2    1    \n",
       "9  C       X      S2    1    \n",
       "10 A       Y      S2    1    \n",
       "11 B       Y      S2    1    \n",
       "12 C       Y      S2    1    \n",
       "13 A       X      S3    1    \n",
       "14 B       X      S3    1    \n",
       "15 C       X      S3    1    \n",
       "16 A       Y      S3    1    \n",
       "17 B       Y      S3    1    \n",
       "18 C       Y      S3    1    \n",
       "19 A       X      S4    1    \n",
       "20 B       X      S4    1    \n",
       "21 C       X      S4    1    \n",
       "22 A       Y      S4    1    \n",
       "23 B       Y      S4    1    \n",
       "24 C       Y      S4    1    "
      ]
     },
     "metadata": {},
     "output_type": "display_data"
    }
   ],
   "source": [
    "library(dplyr)\n",
    "\n",
    "df <- cbind(expand.grid(sciName=list(\"A\", \"B\", \"C\"), family=list(\"X\", \"Y\"), stage=list(\"S1\", \"S2\", \"S3\", \"S4\")), count=1)\n",
    "df"
   ]
  },
  {
   "cell_type": "code",
   "execution_count": 84,
   "id": "727a2857",
   "metadata": {},
   "outputs": [
    {
     "data": {
      "text/html": [
       "<ol>\n",
       "\t<li><dl>\n",
       "\t<dt>$sciName</dt>\n",
       "\t\t<dd>'A'</dd>\n",
       "\t<dt>$stageVector</dt>\n",
       "\t\t<dd><ol class=list-inline>\n",
       "\t<li>'S2'</li>\n",
       "\t<li>'S3'</li>\n",
       "</ol>\n",
       "</dd>\n",
       "</dl>\n",
       "</li>\n",
       "\t<li><dl>\n",
       "\t<dt>$sciName</dt>\n",
       "\t\t<dd>'C'</dd>\n",
       "\t<dt>$stageVector</dt>\n",
       "\t\t<dd><ol class=list-inline>\n",
       "\t<li>'S3'</li>\n",
       "\t<li>'S4'</li>\n",
       "</ol>\n",
       "</dd>\n",
       "</dl>\n",
       "</li>\n",
       "</ol>\n"
      ],
      "text/latex": [
       "\\begin{enumerate}\n",
       "\\item \\begin{description}\n",
       "\\item[\\$sciName] 'A'\n",
       "\\item[\\$stageVector] \\begin{enumerate*}\n",
       "\\item 'S2'\n",
       "\\item 'S3'\n",
       "\\end{enumerate*}\n",
       "\n",
       "\\end{description}\n",
       "\n",
       "\\item \\begin{description}\n",
       "\\item[\\$sciName] 'C'\n",
       "\\item[\\$stageVector] \\begin{enumerate*}\n",
       "\\item 'S3'\n",
       "\\item 'S4'\n",
       "\\end{enumerate*}\n",
       "\n",
       "\\end{description}\n",
       "\n",
       "\\end{enumerate}\n"
      ],
      "text/markdown": [
       "1. $sciName\n",
       ":   'A'\n",
       "$stageVector\n",
       ":   1. 'S2'\n",
       "2. 'S3'\n",
       "\n",
       "\n",
       "\n",
       "\n",
       "\n",
       "\n",
       "2. $sciName\n",
       ":   'C'\n",
       "$stageVector\n",
       ":   1. 'S3'\n",
       "2. 'S4'\n",
       "\n",
       "\n",
       "\n",
       "\n",
       "\n",
       "\n",
       "\n",
       "\n"
      ],
      "text/plain": [
       "[[1]]\n",
       "[[1]]$sciName\n",
       "[1] \"A\"\n",
       "\n",
       "[[1]]$stageVector\n",
       "[1] \"S2\" \"S3\"\n",
       "\n",
       "\n",
       "[[2]]\n",
       "[[2]]$sciName\n",
       "[1] \"C\"\n",
       "\n",
       "[[2]]$stageVector\n",
       "[1] \"S3\" \"S4\"\n",
       "\n"
      ]
     },
     "metadata": {},
     "output_type": "display_data"
    }
   ],
   "source": [
    "# set up our filter conditions\n",
    "condition1 <- list(sciName=\"A\", stageVector=c(\"S2\", \"S3\"))\n",
    "condition2 <- list(sciName=\"C\", stageVector=c(\"S3\", \"S4\"))\n",
    "conditionList <- list(condition1, condition2)\n",
    "conditionList"
   ]
  },
  {
   "cell_type": "code",
   "execution_count": 85,
   "id": "f30ae0fe",
   "metadata": {},
   "outputs": [],
   "source": [
    "# Define the filtering function\n",
    "filterStages <- function(condition, df) {\n",
    "    subset.data <- df %>%\n",
    "        filter(sciName == condition$sciName) %>%\n",
    "        filter(stage %in% condition$stageVector)\n",
    "    return(subset.data)\n",
    "}"
   ]
  },
  {
   "cell_type": "code",
   "execution_count": 86,
   "id": "93b81ed6",
   "metadata": {},
   "outputs": [
    {
     "data": {
      "text/html": [
       "<table>\n",
       "<thead><tr><th scope=col>sciName</th><th scope=col>family</th><th scope=col>stage</th><th scope=col>count</th></tr></thead>\n",
       "<tbody>\n",
       "\t<tr><td>A </td><td>X </td><td>S2</td><td>1 </td></tr>\n",
       "\t<tr><td>A </td><td>Y </td><td>S2</td><td>1 </td></tr>\n",
       "\t<tr><td>A </td><td>X </td><td>S3</td><td>1 </td></tr>\n",
       "\t<tr><td>A </td><td>Y </td><td>S3</td><td>1 </td></tr>\n",
       "</tbody>\n",
       "</table>\n"
      ],
      "text/latex": [
       "\\begin{tabular}{r|llll}\n",
       " sciName & family & stage & count\\\\\n",
       "\\hline\n",
       "\t A  & X  & S2 & 1 \\\\\n",
       "\t A  & Y  & S2 & 1 \\\\\n",
       "\t A  & X  & S3 & 1 \\\\\n",
       "\t A  & Y  & S3 & 1 \\\\\n",
       "\\end{tabular}\n"
      ],
      "text/markdown": [
       "\n",
       "| sciName | family | stage | count |\n",
       "|---|---|---|---|\n",
       "| A  | X  | S2 | 1  |\n",
       "| A  | Y  | S2 | 1  |\n",
       "| A  | X  | S3 | 1  |\n",
       "| A  | Y  | S3 | 1  |\n",
       "\n"
      ],
      "text/plain": [
       "  sciName family stage count\n",
       "1 A       X      S2    1    \n",
       "2 A       Y      S2    1    \n",
       "3 A       X      S3    1    \n",
       "4 A       Y      S3    1    "
      ]
     },
     "metadata": {},
     "output_type": "display_data"
    },
    {
     "data": {
      "text/html": [
       "<table>\n",
       "<thead><tr><th scope=col>sciName</th><th scope=col>family</th><th scope=col>stage</th><th scope=col>count</th></tr></thead>\n",
       "<tbody>\n",
       "\t<tr><td>C </td><td>X </td><td>S3</td><td>1 </td></tr>\n",
       "\t<tr><td>C </td><td>Y </td><td>S3</td><td>1 </td></tr>\n",
       "\t<tr><td>C </td><td>X </td><td>S4</td><td>1 </td></tr>\n",
       "\t<tr><td>C </td><td>Y </td><td>S4</td><td>1 </td></tr>\n",
       "</tbody>\n",
       "</table>\n"
      ],
      "text/latex": [
       "\\begin{tabular}{r|llll}\n",
       " sciName & family & stage & count\\\\\n",
       "\\hline\n",
       "\t C  & X  & S3 & 1 \\\\\n",
       "\t C  & Y  & S3 & 1 \\\\\n",
       "\t C  & X  & S4 & 1 \\\\\n",
       "\t C  & Y  & S4 & 1 \\\\\n",
       "\\end{tabular}\n"
      ],
      "text/markdown": [
       "\n",
       "| sciName | family | stage | count |\n",
       "|---|---|---|---|\n",
       "| C  | X  | S3 | 1  |\n",
       "| C  | Y  | S3 | 1  |\n",
       "| C  | X  | S4 | 1  |\n",
       "| C  | Y  | S4 | 1  |\n",
       "\n"
      ],
      "text/plain": [
       "  sciName family stage count\n",
       "1 C       X      S3    1    \n",
       "2 C       Y      S3    1    \n",
       "3 C       X      S4    1    \n",
       "4 C       Y      S4    1    "
      ]
     },
     "metadata": {},
     "output_type": "display_data"
    }
   ],
   "source": [
    "# demo the filter function working on a single condition at a time\n",
    "filterStages(condition1, df)\n",
    "filterStages(condition2, df)"
   ]
  },
  {
   "cell_type": "code",
   "execution_count": 87,
   "id": "c4380b1f",
   "metadata": {},
   "outputs": [
    {
     "data": {
      "text/html": [
       "<ol>\n",
       "\t<li><table>\n",
       "<thead><tr><th scope=col>sciName</th><th scope=col>family</th><th scope=col>stage</th><th scope=col>count</th></tr></thead>\n",
       "<tbody>\n",
       "\t<tr><td>A </td><td>X </td><td>S2</td><td>1 </td></tr>\n",
       "\t<tr><td>A </td><td>Y </td><td>S2</td><td>1 </td></tr>\n",
       "\t<tr><td>A </td><td>X </td><td>S3</td><td>1 </td></tr>\n",
       "\t<tr><td>A </td><td>Y </td><td>S3</td><td>1 </td></tr>\n",
       "</tbody>\n",
       "</table>\n",
       "</li>\n",
       "\t<li><table>\n",
       "<thead><tr><th scope=col>sciName</th><th scope=col>family</th><th scope=col>stage</th><th scope=col>count</th></tr></thead>\n",
       "<tbody>\n",
       "\t<tr><td>C </td><td>X </td><td>S3</td><td>1 </td></tr>\n",
       "\t<tr><td>C </td><td>Y </td><td>S3</td><td>1 </td></tr>\n",
       "\t<tr><td>C </td><td>X </td><td>S4</td><td>1 </td></tr>\n",
       "\t<tr><td>C </td><td>Y </td><td>S4</td><td>1 </td></tr>\n",
       "</tbody>\n",
       "</table>\n",
       "</li>\n",
       "</ol>\n"
      ],
      "text/latex": [
       "\\begin{enumerate}\n",
       "\\item \\begin{tabular}{r|llll}\n",
       " sciName & family & stage & count\\\\\n",
       "\\hline\n",
       "\t A  & X  & S2 & 1 \\\\\n",
       "\t A  & Y  & S2 & 1 \\\\\n",
       "\t A  & X  & S3 & 1 \\\\\n",
       "\t A  & Y  & S3 & 1 \\\\\n",
       "\\end{tabular}\n",
       "\n",
       "\\item \\begin{tabular}{r|llll}\n",
       " sciName & family & stage & count\\\\\n",
       "\\hline\n",
       "\t C  & X  & S3 & 1 \\\\\n",
       "\t C  & Y  & S3 & 1 \\\\\n",
       "\t C  & X  & S4 & 1 \\\\\n",
       "\t C  & Y  & S4 & 1 \\\\\n",
       "\\end{tabular}\n",
       "\n",
       "\\end{enumerate}\n"
      ],
      "text/markdown": [
       "1. \n",
       "| sciName | family | stage | count |\n",
       "|---|---|---|---|\n",
       "| A  | X  | S2 | 1  |\n",
       "| A  | Y  | S2 | 1  |\n",
       "| A  | X  | S3 | 1  |\n",
       "| A  | Y  | S3 | 1  |\n",
       "\n",
       "\n",
       "2. \n",
       "| sciName | family | stage | count |\n",
       "|---|---|---|---|\n",
       "| C  | X  | S3 | 1  |\n",
       "| C  | Y  | S3 | 1  |\n",
       "| C  | X  | S4 | 1  |\n",
       "| C  | Y  | S4 | 1  |\n",
       "\n",
       "\n",
       "\n",
       "\n"
      ],
      "text/plain": [
       "[[1]]\n",
       "  sciName family stage count\n",
       "1       A      X    S2     1\n",
       "2       A      Y    S2     1\n",
       "3       A      X    S3     1\n",
       "4       A      Y    S3     1\n",
       "\n",
       "[[2]]\n",
       "  sciName family stage count\n",
       "1       C      X    S3     1\n",
       "2       C      Y    S3     1\n",
       "3       C      X    S4     1\n",
       "4       C      Y    S4     1\n"
      ]
     },
     "metadata": {},
     "output_type": "display_data"
    }
   ],
   "source": [
    "# demo the filter function working over a list of conditions\n",
    "resultDataList <- lapply(conditionList, filterStages, df)\n",
    "resultDataList"
   ]
  },
  {
   "cell_type": "markdown",
   "id": "9f610892",
   "metadata": {},
   "source": [
    "## V. Aggregate df"
   ]
  },
  {
   "cell_type": "code",
   "execution_count": 88,
   "id": "f92fe803",
   "metadata": {},
   "outputs": [
    {
     "data": {
      "text/html": [
       "<table>\n",
       "<thead><tr><th scope=col>Company</th><th scope=col>Name</th><th scope=col>Age</th><th scope=col>Wages</th><th scope=col>Education.University</th><th scope=col>Productivity</th></tr></thead>\n",
       "<tbody>\n",
       "\t<tr><td>A      </td><td>Wayne  </td><td>26     </td><td>50000  </td><td>1      </td><td>100    </td></tr>\n",
       "\t<tr><td>A      </td><td>Wayne  </td><td>27     </td><td>70000  </td><td>1      </td><td>120    </td></tr>\n",
       "\t<tr><td>B      </td><td>William</td><td>28     </td><td>70000  </td><td>1      </td><td>120    </td></tr>\n",
       "\t<tr><td>C      </td><td>Rafael </td><td>32     </td><td>60000  </td><td>0      </td><td> 95    </td></tr>\n",
       "\t<tr><td>A      </td><td>John   </td><td>28     </td><td>50000  </td><td>0      </td><td> 88    </td></tr>\n",
       "\t<tr><td>B      </td><td>Eric   </td><td>24     </td><td>70000  </td><td>1      </td><td>115    </td></tr>\n",
       "\t<tr><td>B      </td><td>James  </td><td>34     </td><td>65000  </td><td>1      </td><td>100    </td></tr>\n",
       "\t<tr><td>C      </td><td>Pablo  </td><td>30     </td><td>50000  </td><td>0      </td><td> 90    </td></tr>\n",
       "\t<tr><td>C      </td><td>Tammy  </td><td>25     </td><td>50000  </td><td>1      </td><td>120    </td></tr>\n",
       "</tbody>\n",
       "</table>\n"
      ],
      "text/latex": [
       "\\begin{tabular}{r|llllll}\n",
       " Company & Name & Age & Wages & Education.University & Productivity\\\\\n",
       "\\hline\n",
       "\t A       & Wayne   & 26      & 50000   & 1       & 100    \\\\\n",
       "\t A       & Wayne   & 27      & 70000   & 1       & 120    \\\\\n",
       "\t B       & William & 28      & 70000   & 1       & 120    \\\\\n",
       "\t C       & Rafael  & 32      & 60000   & 0       &  95    \\\\\n",
       "\t A       & John    & 28      & 50000   & 0       &  88    \\\\\n",
       "\t B       & Eric    & 24      & 70000   & 1       & 115    \\\\\n",
       "\t B       & James   & 34      & 65000   & 1       & 100    \\\\\n",
       "\t C       & Pablo   & 30      & 50000   & 0       &  90    \\\\\n",
       "\t C       & Tammy   & 25      & 50000   & 1       & 120    \\\\\n",
       "\\end{tabular}\n"
      ],
      "text/markdown": [
       "\n",
       "| Company | Name | Age | Wages | Education.University | Productivity |\n",
       "|---|---|---|---|---|---|\n",
       "| A       | Wayne   | 26      | 50000   | 1       | 100     |\n",
       "| A       | Wayne   | 27      | 70000   | 1       | 120     |\n",
       "| B       | William | 28      | 70000   | 1       | 120     |\n",
       "| C       | Rafael  | 32      | 60000   | 0       |  95     |\n",
       "| A       | John    | 28      | 50000   | 0       |  88     |\n",
       "| B       | Eric    | 24      | 70000   | 1       | 115     |\n",
       "| B       | James   | 34      | 65000   | 1       | 100     |\n",
       "| C       | Pablo   | 30      | 50000   | 0       |  90     |\n",
       "| C       | Tammy   | 25      | 50000   | 1       | 120     |\n",
       "\n"
      ],
      "text/plain": [
       "  Company Name    Age Wages Education.University Productivity\n",
       "1 A       Wayne   26  50000 1                    100         \n",
       "2 A       Wayne   27  70000 1                    120         \n",
       "3 B       William 28  70000 1                    120         \n",
       "4 C       Rafael  32  60000 0                     95         \n",
       "5 A       John    28  50000 0                     88         \n",
       "6 B       Eric    24  70000 1                    115         \n",
       "7 B       James   34  65000 1                    100         \n",
       "8 C       Pablo   30  50000 0                     90         \n",
       "9 C       Tammy   25  50000 1                    120         "
      ]
     },
     "metadata": {},
     "output_type": "display_data"
    }
   ],
   "source": [
    "df <- data.frame(Company = c('A', 'A', 'B', 'C', 'A', 'B', 'B', 'C', 'C'), \n",
    "                 Name = c(\"Wayne\", \"Wayne\", \"William\", \"Rafael\", \"John\", \"Eric\", \"James\", \"Pablo\", \"Tammy\"), \n",
    "                 Age = c(26, 27, 28, 32, 28, 24, 34, 30, 25), \n",
    "                 Wages = c(50000, 70000, 70000, 60000, 50000, 70000, 65000, 50000, 50000), \n",
    "                 Education.University = c(1, 1, 1, 0, 0, 1, 1, 0, 1), \n",
    "                 Productivity = c(100, 120, 120, 95, 88, 115, 100, 90, 120))\n",
    "df"
   ]
  },
  {
   "cell_type": "markdown",
   "id": "e8fb8332",
   "metadata": {},
   "source": [
    "### group_by and summarise"
   ]
  },
  {
   "cell_type": "code",
   "execution_count": 89,
   "id": "dde064d5",
   "metadata": {},
   "outputs": [
    {
     "data": {
      "text/html": [
       "<table>\n",
       "<thead><tr><th scope=col>Company</th><th scope=col>Age</th><th scope=col>Wages</th><th scope=col>Education.University</th><th scope=col>Productivity</th></tr></thead>\n",
       "<tbody>\n",
       "\t<tr><td>A       </td><td>27.00000</td><td>56666.67</td><td>2       </td><td>102.6667</td></tr>\n",
       "\t<tr><td>B       </td><td>28.66667</td><td>68333.33</td><td>3       </td><td>111.6667</td></tr>\n",
       "\t<tr><td>C       </td><td>29.00000</td><td>53333.33</td><td>1       </td><td>101.6667</td></tr>\n",
       "</tbody>\n",
       "</table>\n"
      ],
      "text/latex": [
       "\\begin{tabular}{r|lllll}\n",
       " Company & Age & Wages & Education.University & Productivity\\\\\n",
       "\\hline\n",
       "\t A        & 27.00000 & 56666.67 & 2        & 102.6667\\\\\n",
       "\t B        & 28.66667 & 68333.33 & 3        & 111.6667\\\\\n",
       "\t C        & 29.00000 & 53333.33 & 1        & 101.6667\\\\\n",
       "\\end{tabular}\n"
      ],
      "text/markdown": [
       "\n",
       "| Company | Age | Wages | Education.University | Productivity |\n",
       "|---|---|---|---|---|\n",
       "| A        | 27.00000 | 56666.67 | 2        | 102.6667 |\n",
       "| B        | 28.66667 | 68333.33 | 3        | 111.6667 |\n",
       "| C        | 29.00000 | 53333.33 | 1        | 101.6667 |\n",
       "\n"
      ],
      "text/plain": [
       "  Company Age      Wages    Education.University Productivity\n",
       "1 A       27.00000 56666.67 2                    102.6667    \n",
       "2 B       28.66667 68333.33 3                    111.6667    \n",
       "3 C       29.00000 53333.33 1                    101.6667    "
      ]
     },
     "metadata": {},
     "output_type": "display_data"
    }
   ],
   "source": [
    "df_summary <- df %>% \n",
    "                group_by(Company) %>% \n",
    "                summarise(Age = mean(Age), \n",
    "                          Wages = mean(Wages), \n",
    "                          Education.University = sum(Education.University), \n",
    "                          Productivity = mean(Productivity))\n",
    "df_summary"
   ]
  },
  {
   "cell_type": "markdown",
   "id": "7e6c1cc5",
   "metadata": {},
   "source": [
    "### group_by_at, vars and summarise"
   ]
  },
  {
   "cell_type": "code",
   "execution_count": 90,
   "id": "e78609bf",
   "metadata": {},
   "outputs": [
    {
     "name": "stderr",
     "output_type": "stream",
     "text": [
      "`summarise()` has grouped output by 'Company'. You can override using the `.groups` argument.\n"
     ]
    },
    {
     "data": {
      "text/html": [
       "<table>\n",
       "<thead><tr><th scope=col>Company</th><th scope=col>Name</th><th scope=col>Age</th></tr></thead>\n",
       "<tbody>\n",
       "\t<tr><td>A      </td><td>John   </td><td>28.0   </td></tr>\n",
       "\t<tr><td>A      </td><td>Wayne  </td><td>26.5   </td></tr>\n",
       "\t<tr><td>B      </td><td>Eric   </td><td>24.0   </td></tr>\n",
       "\t<tr><td>B      </td><td>James  </td><td>34.0   </td></tr>\n",
       "\t<tr><td>B      </td><td>William</td><td>28.0   </td></tr>\n",
       "\t<tr><td>C      </td><td>Pablo  </td><td>30.0   </td></tr>\n",
       "\t<tr><td>C      </td><td>Rafael </td><td>32.0   </td></tr>\n",
       "\t<tr><td>C      </td><td>Tammy  </td><td>25.0   </td></tr>\n",
       "</tbody>\n",
       "</table>\n"
      ],
      "text/latex": [
       "\\begin{tabular}{r|lll}\n",
       " Company & Name & Age\\\\\n",
       "\\hline\n",
       "\t A       & John    & 28.0   \\\\\n",
       "\t A       & Wayne   & 26.5   \\\\\n",
       "\t B       & Eric    & 24.0   \\\\\n",
       "\t B       & James   & 34.0   \\\\\n",
       "\t B       & William & 28.0   \\\\\n",
       "\t C       & Pablo   & 30.0   \\\\\n",
       "\t C       & Rafael  & 32.0   \\\\\n",
       "\t C       & Tammy   & 25.0   \\\\\n",
       "\\end{tabular}\n"
      ],
      "text/markdown": [
       "\n",
       "| Company | Name | Age |\n",
       "|---|---|---|\n",
       "| A       | John    | 28.0    |\n",
       "| A       | Wayne   | 26.5    |\n",
       "| B       | Eric    | 24.0    |\n",
       "| B       | James   | 34.0    |\n",
       "| B       | William | 28.0    |\n",
       "| C       | Pablo   | 30.0    |\n",
       "| C       | Rafael  | 32.0    |\n",
       "| C       | Tammy   | 25.0    |\n",
       "\n"
      ],
      "text/plain": [
       "  Company Name    Age \n",
       "1 A       John    28.0\n",
       "2 A       Wayne   26.5\n",
       "3 B       Eric    24.0\n",
       "4 B       James   34.0\n",
       "5 B       William 28.0\n",
       "6 C       Pablo   30.0\n",
       "7 C       Rafael  32.0\n",
       "8 C       Tammy   25.0"
      ]
     },
     "metadata": {},
     "output_type": "display_data"
    }
   ],
   "source": [
    "df_summary_1 <- df %>%\n",
    "                group_by_at(vars(one_of(c(\"Company\", \"Name\")))) %>%\n",
    "                summarize(Age = mean(Age))\n",
    "df_summary_1"
   ]
  },
  {
   "cell_type": "markdown",
   "id": "62856529",
   "metadata": {},
   "source": [
    "### Aggregate"
   ]
  },
  {
   "cell_type": "code",
   "execution_count": 91,
   "id": "7cc56f8b",
   "metadata": {},
   "outputs": [
    {
     "data": {
      "text/html": [
       "<table>\n",
       "<thead><tr><th scope=col>Company</th><th scope=col>Name</th><th scope=col>Age</th><th scope=col>Wages</th><th scope=col>Education.University</th><th scope=col>Productivity</th></tr></thead>\n",
       "<tbody>\n",
       "\t<tr><td>B      </td><td>Eric   </td><td>24.0   </td><td>70000  </td><td>1      </td><td>115    </td></tr>\n",
       "\t<tr><td>B      </td><td>James  </td><td>34.0   </td><td>65000  </td><td>1      </td><td>100    </td></tr>\n",
       "\t<tr><td>A      </td><td>John   </td><td>28.0   </td><td>50000  </td><td>0      </td><td> 88    </td></tr>\n",
       "\t<tr><td>C      </td><td>Pablo  </td><td>30.0   </td><td>50000  </td><td>0      </td><td> 90    </td></tr>\n",
       "\t<tr><td>C      </td><td>Rafael </td><td>32.0   </td><td>60000  </td><td>0      </td><td> 95    </td></tr>\n",
       "\t<tr><td>C      </td><td>Tammy  </td><td>25.0   </td><td>50000  </td><td>1      </td><td>120    </td></tr>\n",
       "\t<tr><td>A      </td><td>Wayne  </td><td>26.5   </td><td>60000  </td><td>1      </td><td>110    </td></tr>\n",
       "\t<tr><td>B      </td><td>William</td><td>28.0   </td><td>70000  </td><td>1      </td><td>120    </td></tr>\n",
       "</tbody>\n",
       "</table>\n"
      ],
      "text/latex": [
       "\\begin{tabular}{r|llllll}\n",
       " Company & Name & Age & Wages & Education.University & Productivity\\\\\n",
       "\\hline\n",
       "\t B       & Eric    & 24.0    & 70000   & 1       & 115    \\\\\n",
       "\t B       & James   & 34.0    & 65000   & 1       & 100    \\\\\n",
       "\t A       & John    & 28.0    & 50000   & 0       &  88    \\\\\n",
       "\t C       & Pablo   & 30.0    & 50000   & 0       &  90    \\\\\n",
       "\t C       & Rafael  & 32.0    & 60000   & 0       &  95    \\\\\n",
       "\t C       & Tammy   & 25.0    & 50000   & 1       & 120    \\\\\n",
       "\t A       & Wayne   & 26.5    & 60000   & 1       & 110    \\\\\n",
       "\t B       & William & 28.0    & 70000   & 1       & 120    \\\\\n",
       "\\end{tabular}\n"
      ],
      "text/markdown": [
       "\n",
       "| Company | Name | Age | Wages | Education.University | Productivity |\n",
       "|---|---|---|---|---|---|\n",
       "| B       | Eric    | 24.0    | 70000   | 1       | 115     |\n",
       "| B       | James   | 34.0    | 65000   | 1       | 100     |\n",
       "| A       | John    | 28.0    | 50000   | 0       |  88     |\n",
       "| C       | Pablo   | 30.0    | 50000   | 0       |  90     |\n",
       "| C       | Rafael  | 32.0    | 60000   | 0       |  95     |\n",
       "| C       | Tammy   | 25.0    | 50000   | 1       | 120     |\n",
       "| A       | Wayne   | 26.5    | 60000   | 1       | 110     |\n",
       "| B       | William | 28.0    | 70000   | 1       | 120     |\n",
       "\n"
      ],
      "text/plain": [
       "  Company Name    Age  Wages Education.University Productivity\n",
       "1 B       Eric    24.0 70000 1                    115         \n",
       "2 B       James   34.0 65000 1                    100         \n",
       "3 A       John    28.0 50000 0                     88         \n",
       "4 C       Pablo   30.0 50000 0                     90         \n",
       "5 C       Rafael  32.0 60000 0                     95         \n",
       "6 C       Tammy   25.0 50000 1                    120         \n",
       "7 A       Wayne   26.5 60000 1                    110         \n",
       "8 B       William 28.0 70000 1                    120         "
      ]
     },
     "metadata": {},
     "output_type": "display_data"
    }
   ],
   "source": [
    "aggregate(x = df[c(\"Age\",\"Wages\",\"Education.University\",\"Productivity\")], \n",
    "          by = df[c(\"Company\", \"Name\")], \n",
    "          FUN = mean)"
   ]
  },
  {
   "cell_type": "markdown",
   "id": "cd6a94ce",
   "metadata": {},
   "source": [
    "## VI. Pivot and Transpose dataframe"
   ]
  },
  {
   "cell_type": "code",
   "execution_count": 92,
   "id": "3092b27c",
   "metadata": {},
   "outputs": [],
   "source": [
    "# install.packages(\"tidyverse\")\n",
    "# library(tidyverse)"
   ]
  },
  {
   "cell_type": "code",
   "execution_count": 93,
   "id": "a9b00964",
   "metadata": {},
   "outputs": [
    {
     "data": {
      "text/html": [
       "<dl class=dl-horizontal>\n",
       "\t<dt>Package</dt>\n",
       "\t\t<dd>'tidyr'</dd>\n",
       "\t<dt>Version</dt>\n",
       "\t\t<dd>'1.2.0'</dd>\n",
       "\t<dt>Priority</dt>\n",
       "\t\t<dd>NA</dd>\n",
       "\t<dt>Depends</dt>\n",
       "\t\t<dd>'R (&gt;= 3.1)'</dd>\n",
       "\t<dt>Imports</dt>\n",
       "\t\t<dd>'dplyr (&gt;= 1.0.0), ellipsis (&gt;= 0.1.0), glue, lifecycle,\\nmagrittr, purrr, rlang, tibble (&gt;= 2.1.1), tidyselect (&gt;=\\n1.1.0), utils, vctrs (&gt;= 0.3.7)'</dd>\n",
       "\t<dt>LinkingTo</dt>\n",
       "\t\t<dd>'cpp11 (&gt;= 0.4.0)'</dd>\n",
       "\t<dt>Suggests</dt>\n",
       "\t\t<dd>'covr, data.table, jsonlite, knitr, readr, repurrrsive (&gt;=\\n1.0.0), rmarkdown, testthat (&gt;= 3.0.0)'</dd>\n",
       "\t<dt>Enhances</dt>\n",
       "\t\t<dd>NA</dd>\n",
       "\t<dt>License</dt>\n",
       "\t\t<dd>'MIT + file LICENSE'</dd>\n",
       "\t<dt>License_is_FOSS</dt>\n",
       "\t\t<dd>NA</dd>\n",
       "\t<dt>License_restricts_use</dt>\n",
       "\t\t<dd>NA</dd>\n",
       "\t<dt>OS_type</dt>\n",
       "\t\t<dd>NA</dd>\n",
       "\t<dt>Archs</dt>\n",
       "\t\t<dd>NA</dd>\n",
       "\t<dt>MD5sum</dt>\n",
       "\t\t<dd>'232638248d7f3d4458548c95da96f28b'</dd>\n",
       "\t<dt>NeedsCompilation</dt>\n",
       "\t\t<dd>'yes'</dd>\n",
       "\t<dt>File</dt>\n",
       "\t\t<dd>NA</dd>\n",
       "\t<dt>Repository</dt>\n",
       "\t\t<dd>'https://cran.r-project.org/src/contrib'</dd>\n",
       "</dl>\n"
      ],
      "text/latex": [
       "\\begin{description*}\n",
       "\\item[Package] 'tidyr'\n",
       "\\item[Version] '1.2.0'\n",
       "\\item[Priority] NA\n",
       "\\item[Depends] 'R (>= 3.1)'\n",
       "\\item[Imports] 'dplyr (>= 1.0.0), ellipsis (>= 0.1.0), glue, lifecycle,\\textbackslash{}nmagrittr, purrr, rlang, tibble (>= 2.1.1), tidyselect (>=\\textbackslash{}n1.1.0), utils, vctrs (>= 0.3.7)'\n",
       "\\item[LinkingTo] 'cpp11 (>= 0.4.0)'\n",
       "\\item[Suggests] 'covr, data.table, jsonlite, knitr, readr, repurrrsive (>=\\textbackslash{}n1.0.0), rmarkdown, testthat (>= 3.0.0)'\n",
       "\\item[Enhances] NA\n",
       "\\item[License] 'MIT + file LICENSE'\n",
       "\\item[License\\textbackslash{}\\_is\\textbackslash{}\\_FOSS] NA\n",
       "\\item[License\\textbackslash{}\\_restricts\\textbackslash{}\\_use] NA\n",
       "\\item[OS\\textbackslash{}\\_type] NA\n",
       "\\item[Archs] NA\n",
       "\\item[MD5sum] '232638248d7f3d4458548c95da96f28b'\n",
       "\\item[NeedsCompilation] 'yes'\n",
       "\\item[File] NA\n",
       "\\item[Repository] 'https://cran.r-project.org/src/contrib'\n",
       "\\end{description*}\n"
      ],
      "text/markdown": [
       "Package\n",
       ":   'tidyr'Version\n",
       ":   '1.2.0'Priority\n",
       ":   NADepends\n",
       ":   'R (&gt;= 3.1)'Imports\n",
       ":   'dplyr (&gt;= 1.0.0), ellipsis (&gt;= 0.1.0), glue, lifecycle,\\nmagrittr, purrr, rlang, tibble (&gt;= 2.1.1), tidyselect (&gt;=\\n1.1.0), utils, vctrs (&gt;= 0.3.7)'LinkingTo\n",
       ":   'cpp11 (&gt;= 0.4.0)'Suggests\n",
       ":   'covr, data.table, jsonlite, knitr, readr, repurrrsive (&gt;=\\n1.0.0), rmarkdown, testthat (&gt;= 3.0.0)'Enhances\n",
       ":   NALicense\n",
       ":   'MIT + file LICENSE'License_is_FOSS\n",
       ":   NALicense_restricts_use\n",
       ":   NAOS_type\n",
       ":   NAArchs\n",
       ":   NAMD5sum\n",
       ":   '232638248d7f3d4458548c95da96f28b'NeedsCompilation\n",
       ":   'yes'File\n",
       ":   NARepository\n",
       ":   'https://cran.r-project.org/src/contrib'\n",
       "\n"
      ],
      "text/plain": [
       "                                                                                                                                              Package \n",
       "                                                                                                                                              \"tidyr\" \n",
       "                                                                                                                                              Version \n",
       "                                                                                                                                              \"1.2.0\" \n",
       "                                                                                                                                             Priority \n",
       "                                                                                                                                                   NA \n",
       "                                                                                                                                              Depends \n",
       "                                                                                                                                         \"R (>= 3.1)\" \n",
       "                                                                                                                                              Imports \n",
       "\"dplyr (>= 1.0.0), ellipsis (>= 0.1.0), glue, lifecycle,\\nmagrittr, purrr, rlang, tibble (>= 2.1.1), tidyselect (>=\\n1.1.0), utils, vctrs (>= 0.3.7)\" \n",
       "                                                                                                                                            LinkingTo \n",
       "                                                                                                                                   \"cpp11 (>= 0.4.0)\" \n",
       "                                                                                                                                             Suggests \n",
       "                                                  \"covr, data.table, jsonlite, knitr, readr, repurrrsive (>=\\n1.0.0), rmarkdown, testthat (>= 3.0.0)\" \n",
       "                                                                                                                                             Enhances \n",
       "                                                                                                                                                   NA \n",
       "                                                                                                                                              License \n",
       "                                                                                                                                 \"MIT + file LICENSE\" \n",
       "                                                                                                                                      License_is_FOSS \n",
       "                                                                                                                                                   NA \n",
       "                                                                                                                                License_restricts_use \n",
       "                                                                                                                                                   NA \n",
       "                                                                                                                                              OS_type \n",
       "                                                                                                                                                   NA \n",
       "                                                                                                                                                Archs \n",
       "                                                                                                                                                   NA \n",
       "                                                                                                                                               MD5sum \n",
       "                                                                                                                   \"232638248d7f3d4458548c95da96f28b\" \n",
       "                                                                                                                                     NeedsCompilation \n",
       "                                                                                                                                                \"yes\" \n",
       "                                                                                                                                                 File \n",
       "                                                                                                                                                   NA \n",
       "                                                                                                                                           Repository \n",
       "                                                                                                             \"https://cran.r-project.org/src/contrib\" "
      ]
     },
     "metadata": {},
     "output_type": "display_data"
    },
    {
     "data": {
      "text/plain": [
       "[1] '3.6.1'"
      ]
     },
     "metadata": {},
     "output_type": "display_data"
    }
   ],
   "source": [
    "available.packages()[\"tidyr\",]\n",
    "package_version(R.version)\n",
    "# print(sessionInfo())\n",
    "# print(version)"
   ]
  },
  {
   "cell_type": "code",
   "execution_count": 94,
   "id": "84f7bdc7",
   "metadata": {},
   "outputs": [
    {
     "name": "stderr",
     "output_type": "stream",
     "text": [
      "Warning message:\n",
      "\"package 'tidyr' was built under R version 3.6.3\""
     ]
    }
   ],
   "source": [
    "# install.packages(\"tidyr\")\n",
    "library(tidyr)\n",
    "library(dplyr)"
   ]
  },
  {
   "cell_type": "code",
   "execution_count": 95,
   "id": "55ae9e06",
   "metadata": {},
   "outputs": [
    {
     "data": {
      "text/html": [
       "<table>\n",
       "<thead><tr><th scope=col>NUM</th><th scope=col>Type</th><th scope=col>Points</th></tr></thead>\n",
       "<tbody>\n",
       "\t<tr><td>45    </td><td>A     </td><td>   9.2</td></tr>\n",
       "\t<tr><td>45    </td><td>F     </td><td>  60.8</td></tr>\n",
       "\t<tr><td>45    </td><td>C     </td><td>  22.9</td></tr>\n",
       "\t<tr><td>45    </td><td>B     </td><td>1012.7</td></tr>\n",
       "\t<tr><td>48    </td><td>D     </td><td>  18.7</td></tr>\n",
       "\t<tr><td>50    </td><td>A     </td><td>  11.1</td></tr>\n",
       "\t<tr><td>66    </td><td>E     </td><td>  67.2</td></tr>\n",
       "\t<tr><td>66    </td><td>C     </td><td>  63.1</td></tr>\n",
       "\t<tr><td>66    </td><td>F     </td><td>  16.7</td></tr>\n",
       "\t<tr><td>68    </td><td>D     </td><td>  58.4</td></tr>\n",
       "</tbody>\n",
       "</table>\n"
      ],
      "text/latex": [
       "\\begin{tabular}{r|lll}\n",
       " NUM & Type & Points\\\\\n",
       "\\hline\n",
       "\t 45     & A      &    9.2\\\\\n",
       "\t 45     & F      &   60.8\\\\\n",
       "\t 45     & C      &   22.9\\\\\n",
       "\t 45     & B      & 1012.7\\\\\n",
       "\t 48     & D      &   18.7\\\\\n",
       "\t 50     & A      &   11.1\\\\\n",
       "\t 66     & E      &   67.2\\\\\n",
       "\t 66     & C      &   63.1\\\\\n",
       "\t 66     & F      &   16.7\\\\\n",
       "\t 68     & D      &   58.4\\\\\n",
       "\\end{tabular}\n"
      ],
      "text/markdown": [
       "\n",
       "| NUM | Type | Points |\n",
       "|---|---|---|\n",
       "| 45     | A      |    9.2 |\n",
       "| 45     | F      |   60.8 |\n",
       "| 45     | C      |   22.9 |\n",
       "| 45     | B      | 1012.7 |\n",
       "| 48     | D      |   18.7 |\n",
       "| 50     | A      |   11.1 |\n",
       "| 66     | E      |   67.2 |\n",
       "| 66     | C      |   63.1 |\n",
       "| 66     | F      |   16.7 |\n",
       "| 68     | D      |   58.4 |\n",
       "\n"
      ],
      "text/plain": [
       "   NUM Type Points\n",
       "1  45  A       9.2\n",
       "2  45  F      60.8\n",
       "3  45  C      22.9\n",
       "4  45  B    1012.7\n",
       "5  48  D      18.7\n",
       "6  50  A      11.1\n",
       "7  66  E      67.2\n",
       "8  66  C      63.1\n",
       "9  66  F      16.7\n",
       "10 68  D      58.4"
      ]
     },
     "metadata": {},
     "output_type": "display_data"
    }
   ],
   "source": [
    "NUM <- c(\"45\", \"45\", \"45\", \"45\", \"48\", \"50\", \"66\", \"66\", \"66\", \"68\")\n",
    "Type <- c(\"A\", \"F\", \"C\", \"B\", \"D\", \"A\", \"E\", \"C\", \"F\", \"D\")\n",
    "Points <- c(9.2,60.8,22.9,1012.7,18.7,11.1,67.2,63.1,16.7,58.4)\n",
    "df <- data.frame(NUM, Type, Points)\n",
    "df"
   ]
  },
  {
   "cell_type": "markdown",
   "id": "fe4ae375",
   "metadata": {},
   "source": [
    "### pivot_wider() function"
   ]
  },
  {
   "cell_type": "code",
   "execution_count": 96,
   "id": "997661db",
   "metadata": {},
   "outputs": [
    {
     "data": {
      "text/html": [
       "<table>\n",
       "<thead><tr><th scope=col>NUM</th><th scope=col>A</th><th scope=col>F</th><th scope=col>C</th><th scope=col>B</th><th scope=col>D</th><th scope=col>E</th></tr></thead>\n",
       "<tbody>\n",
       "\t<tr><td>45    </td><td> 9.2  </td><td>60.8  </td><td>22.9  </td><td>1012.7</td><td>  NA  </td><td>  NA  </td></tr>\n",
       "\t<tr><td>48    </td><td>  NA  </td><td>  NA  </td><td>  NA  </td><td>    NA</td><td>18.7  </td><td>  NA  </td></tr>\n",
       "\t<tr><td>50    </td><td>11.1  </td><td>  NA  </td><td>  NA  </td><td>    NA</td><td>  NA  </td><td>  NA  </td></tr>\n",
       "\t<tr><td>66    </td><td>  NA  </td><td>16.7  </td><td>63.1  </td><td>    NA</td><td>  NA  </td><td>67.2  </td></tr>\n",
       "\t<tr><td>68    </td><td>  NA  </td><td>  NA  </td><td>  NA  </td><td>    NA</td><td>58.4  </td><td>  NA  </td></tr>\n",
       "</tbody>\n",
       "</table>\n"
      ],
      "text/latex": [
       "\\begin{tabular}{r|lllllll}\n",
       " NUM & A & F & C & B & D & E\\\\\n",
       "\\hline\n",
       "\t 45     &  9.2   & 60.8   & 22.9   & 1012.7 &   NA   &   NA  \\\\\n",
       "\t 48     &   NA   &   NA   &   NA   &     NA & 18.7   &   NA  \\\\\n",
       "\t 50     & 11.1   &   NA   &   NA   &     NA &   NA   &   NA  \\\\\n",
       "\t 66     &   NA   & 16.7   & 63.1   &     NA &   NA   & 67.2  \\\\\n",
       "\t 68     &   NA   &   NA   &   NA   &     NA & 58.4   &   NA  \\\\\n",
       "\\end{tabular}\n"
      ],
      "text/markdown": [
       "\n",
       "| NUM | A | F | C | B | D | E |\n",
       "|---|---|---|---|---|---|---|\n",
       "| 45     |  9.2   | 60.8   | 22.9   | 1012.7 |   NA   |   NA   |\n",
       "| 48     |   NA   |   NA   |   NA   |     NA | 18.7   |   NA   |\n",
       "| 50     | 11.1   |   NA   |   NA   |     NA |   NA   |   NA   |\n",
       "| 66     |   NA   | 16.7   | 63.1   |     NA |   NA   | 67.2   |\n",
       "| 68     |   NA   |   NA   |   NA   |     NA | 58.4   |   NA   |\n",
       "\n"
      ],
      "text/plain": [
       "  NUM A    F    C    B      D    E   \n",
       "1 45   9.2 60.8 22.9 1012.7   NA   NA\n",
       "2 48    NA   NA   NA     NA 18.7   NA\n",
       "3 50  11.1   NA   NA     NA   NA   NA\n",
       "4 66    NA 16.7 63.1     NA   NA 67.2\n",
       "5 68    NA   NA   NA     NA 58.4   NA"
      ]
     },
     "metadata": {},
     "output_type": "display_data"
    }
   ],
   "source": [
    "df %>%\n",
    "    pivot_wider(names_from = Type, values_from = Points)"
   ]
  },
  {
   "cell_type": "markdown",
   "id": "bfe33f0e",
   "metadata": {},
   "source": [
    "### Transpose df"
   ]
  },
  {
   "cell_type": "code",
   "execution_count": 97,
   "id": "b512c12b",
   "metadata": {},
   "outputs": [
    {
     "data": {
      "text/html": [
       "<ol class=list-inline>\n",
       "\t<li>'1'</li>\n",
       "\t<li>'2'</li>\n",
       "\t<li>'3'</li>\n",
       "\t<li>'4'</li>\n",
       "\t<li>'5'</li>\n",
       "\t<li>'6'</li>\n",
       "\t<li>'7'</li>\n",
       "\t<li>'8'</li>\n",
       "\t<li>'9'</li>\n",
       "</ol>\n"
      ],
      "text/latex": [
       "\\begin{enumerate*}\n",
       "\\item '1'\n",
       "\\item '2'\n",
       "\\item '3'\n",
       "\\item '4'\n",
       "\\item '5'\n",
       "\\item '6'\n",
       "\\item '7'\n",
       "\\item '8'\n",
       "\\item '9'\n",
       "\\end{enumerate*}\n"
      ],
      "text/markdown": [
       "1. '1'\n",
       "2. '2'\n",
       "3. '3'\n",
       "4. '4'\n",
       "5. '5'\n",
       "6. '6'\n",
       "7. '7'\n",
       "8. '8'\n",
       "9. '9'\n",
       "\n",
       "\n"
      ],
      "text/plain": [
       "[1] \"1\" \"2\" \"3\" \"4\" \"5\" \"6\" \"7\" \"8\" \"9\""
      ]
     },
     "metadata": {},
     "output_type": "display_data"
    },
    {
     "data": {
      "text/html": [
       "<ol class=list-inline>\n",
       "\t<li>'X'</li>\n",
       "\t<li>'Y'</li>\n",
       "\t<li>'Z'</li>\n",
       "</ol>\n"
      ],
      "text/latex": [
       "\\begin{enumerate*}\n",
       "\\item 'X'\n",
       "\\item 'Y'\n",
       "\\item 'Z'\n",
       "\\end{enumerate*}\n"
      ],
      "text/markdown": [
       "1. 'X'\n",
       "2. 'Y'\n",
       "3. 'Z'\n",
       "\n",
       "\n"
      ],
      "text/plain": [
       "[1] \"X\" \"Y\" \"Z\""
      ]
     },
     "metadata": {},
     "output_type": "display_data"
    },
    {
     "data": {
      "text/html": [
       "<table>\n",
       "<thead><tr><th scope=col>X</th><th scope=col>Y</th><th scope=col>Z</th></tr></thead>\n",
       "<tbody>\n",
       "\t<tr><td>ID12   </td><td>2012-06</td><td>  566  </td></tr>\n",
       "\t<tr><td>ID1    </td><td>2012-06</td><td>10239  </td></tr>\n",
       "\t<tr><td>ID6    </td><td>2012-06</td><td>  524  </td></tr>\n",
       "\t<tr><td>ID12   </td><td>2012-07</td><td> 2360  </td></tr>\n",
       "\t<tr><td>ID1    </td><td>2012-07</td><td>13853  </td></tr>\n",
       "\t<tr><td>ID6    </td><td>2012-07</td><td> 2352  </td></tr>\n",
       "\t<tr><td>ID12   </td><td>2012-08</td><td> 3950  </td></tr>\n",
       "\t<tr><td>ID1    </td><td>2012-08</td><td>14738  </td></tr>\n",
       "\t<tr><td>ID6    </td><td>2012-08</td><td> 4104  </td></tr>\n",
       "</tbody>\n",
       "</table>\n"
      ],
      "text/latex": [
       "\\begin{tabular}{r|lll}\n",
       " X & Y & Z\\\\\n",
       "\\hline\n",
       "\t ID12    & 2012-06 &   566  \\\\\n",
       "\t ID1     & 2012-06 & 10239  \\\\\n",
       "\t ID6     & 2012-06 &   524  \\\\\n",
       "\t ID12    & 2012-07 &  2360  \\\\\n",
       "\t ID1     & 2012-07 & 13853  \\\\\n",
       "\t ID6     & 2012-07 &  2352  \\\\\n",
       "\t ID12    & 2012-08 &  3950  \\\\\n",
       "\t ID1     & 2012-08 & 14738  \\\\\n",
       "\t ID6     & 2012-08 &  4104  \\\\\n",
       "\\end{tabular}\n"
      ],
      "text/markdown": [
       "\n",
       "| X | Y | Z |\n",
       "|---|---|---|\n",
       "| ID12    | 2012-06 |   566   |\n",
       "| ID1     | 2012-06 | 10239   |\n",
       "| ID6     | 2012-06 |   524   |\n",
       "| ID12    | 2012-07 |  2360   |\n",
       "| ID1     | 2012-07 | 13853   |\n",
       "| ID6     | 2012-07 |  2352   |\n",
       "| ID12    | 2012-08 |  3950   |\n",
       "| ID1     | 2012-08 | 14738   |\n",
       "| ID6     | 2012-08 |  4104   |\n",
       "\n"
      ],
      "text/plain": [
       "  X    Y       Z    \n",
       "1 ID12 2012-06   566\n",
       "2 ID1  2012-06 10239\n",
       "3 ID6  2012-06   524\n",
       "4 ID12 2012-07  2360\n",
       "5 ID1  2012-07 13853\n",
       "6 ID6  2012-07  2352\n",
       "7 ID12 2012-08  3950\n",
       "8 ID1  2012-08 14738\n",
       "9 ID6  2012-08  4104"
      ]
     },
     "metadata": {},
     "output_type": "display_data"
    }
   ],
   "source": [
    "data <- read.table(text=\"X Y    Z\n",
    "                   ID12   2012-06    566\n",
    "                   ID1    2012-06  10239\n",
    "                   ID6    2012-06    524\n",
    "                   ID12   2012-07   2360\n",
    "                   ID1    2012-07   13853\n",
    "                   ID6    2012-07    2352\n",
    "                   ID12   2012-08   3950\n",
    "                   ID1    2012-08   14738\n",
    "                   ID6    2012-08   4104\",header=TRUE)\n",
    "rownames(data)\n",
    "colnames(data)\n",
    "data"
   ]
  },
  {
   "cell_type": "code",
   "execution_count": 98,
   "id": "424ede4f",
   "metadata": {},
   "outputs": [
    {
     "data": {
      "text/html": [
       "<table>\n",
       "<thead><tr><th scope=col>Y</th><th scope=col>Z</th></tr></thead>\n",
       "<tbody>\n",
       "\t<tr><td>2012-06</td><td>  566  </td></tr>\n",
       "\t<tr><td>2012-06</td><td>10239  </td></tr>\n",
       "\t<tr><td>2012-06</td><td>  524  </td></tr>\n",
       "\t<tr><td>2012-07</td><td> 2360  </td></tr>\n",
       "\t<tr><td>2012-07</td><td>13853  </td></tr>\n",
       "\t<tr><td>2012-07</td><td> 2352  </td></tr>\n",
       "\t<tr><td>2012-08</td><td> 3950  </td></tr>\n",
       "\t<tr><td>2012-08</td><td>14738  </td></tr>\n",
       "\t<tr><td>2012-08</td><td> 4104  </td></tr>\n",
       "</tbody>\n",
       "</table>\n"
      ],
      "text/latex": [
       "\\begin{tabular}{r|ll}\n",
       " Y & Z\\\\\n",
       "\\hline\n",
       "\t 2012-06 &   566  \\\\\n",
       "\t 2012-06 & 10239  \\\\\n",
       "\t 2012-06 &   524  \\\\\n",
       "\t 2012-07 &  2360  \\\\\n",
       "\t 2012-07 & 13853  \\\\\n",
       "\t 2012-07 &  2352  \\\\\n",
       "\t 2012-08 &  3950  \\\\\n",
       "\t 2012-08 & 14738  \\\\\n",
       "\t 2012-08 &  4104  \\\\\n",
       "\\end{tabular}\n"
      ],
      "text/markdown": [
       "\n",
       "| Y | Z |\n",
       "|---|---|\n",
       "| 2012-06 |   566   |\n",
       "| 2012-06 | 10239   |\n",
       "| 2012-06 |   524   |\n",
       "| 2012-07 |  2360   |\n",
       "| 2012-07 | 13853   |\n",
       "| 2012-07 |  2352   |\n",
       "| 2012-08 |  3950   |\n",
       "| 2012-08 | 14738   |\n",
       "| 2012-08 |  4104   |\n",
       "\n"
      ],
      "text/plain": [
       "  Y       Z    \n",
       "1 2012-06   566\n",
       "2 2012-06 10239\n",
       "3 2012-06   524\n",
       "4 2012-07  2360\n",
       "5 2012-07 13853\n",
       "6 2012-07  2352\n",
       "7 2012-08  3950\n",
       "8 2012-08 14738\n",
       "9 2012-08  4104"
      ]
     },
     "metadata": {},
     "output_type": "display_data"
    }
   ],
   "source": [
    "data[c(\"Y\", \"Z\")]"
   ]
  },
  {
   "cell_type": "code",
   "execution_count": 99,
   "id": "368ff1bc",
   "metadata": {},
   "outputs": [
    {
     "ename": "ERROR",
     "evalue": "Error in transpose(data, fill = NA, ignore.empty = FALSE, keep.names = \"marker\", : unused arguments (keep.names = \"marker\", make.names = \"X\")\n",
     "output_type": "error",
     "traceback": [
      "Error in transpose(data, fill = NA, ignore.empty = FALSE, keep.names = \"marker\", : unused arguments (keep.names = \"marker\", make.names = \"X\")\nTraceback:\n"
     ]
    }
   ],
   "source": [
    "transpose(data, fill=NA, ignore.empty=FALSE, keep.names=\"marker\", make.names=\"X\")"
   ]
  },
  {
   "cell_type": "markdown",
   "id": "5796e43b",
   "metadata": {},
   "source": [
    "# VI. Percentile"
   ]
  },
  {
   "cell_type": "markdown",
   "id": "26736b3c",
   "metadata": {},
   "source": [
    "### Percentile example"
   ]
  },
  {
   "cell_type": "markdown",
   "id": "68fab90d",
   "metadata": {},
   "source": [
    "```\n",
    "Note: method == 'Pandas' is equivalent to the below code.\n",
    "    Just difference with JCSMR in pct_increment = 1. / length instead of  1. / (length + 1)\n",
    "    length = len([v for v in df['Values'] if not nan_none_empty_str(v)])\n",
    "    pct_increment = 1. / length\n",
    "    df['Rank_Percentile_Manual'] = df.Rank * pct_increment\n",
    "Eg. df = pd.DataFrame({'Values': [119, np.nan, 80, 50, 120, 90, 119]}).sort_values('Values')\n",
    "    # Output below is rank max for ties: df['Rank'] = df.rank(method='max')  # average, min, max\n",
    "        Values\tRank\tRank_Percentile_Pandas\tRank_Percentile_Manual\tRank_Percentile_JCSMR\n",
    "    0\t50.0\t1.0\t            0.166667\t            0.166667\t        0.142857\n",
    "    1\t80.0\t2.0\t            0.333333\t            0.333333\t        0.285714\n",
    "    2\t90.0\t3.0\t            0.500000\t            0.500000\t        0.428571\n",
    "    3\t119.0\t5.0\t            0.833333\t            0.833333\t        0.714286\n",
    "    4\t119.0\t5.0\t            0.833333\t            0.833333\t        0.714286\n",
    "    5\t120.0\t6.0\t            1.000000\t            1.000000\t        0.857143\n",
    "    6\tNaN\t   NaN\t            NaN\t                    NaN\t                NaN\n",
    "```"
   ]
  },
  {
   "cell_type": "code",
   "execution_count": null,
   "id": "9df90453",
   "metadata": {},
   "outputs": [],
   "source": [
    "# Calculate percentile of a value w.r.t a vector\n",
    "percentile_norm <- function(value, vec, method='JCSMR'){\n",
    "   # method == 'JCSMR' or a normal way\n",
    "   if (method == 'JCSMR'){\n",
    "       epsilon <- 1e-6\n",
    "       maxVal <- max(vec, na.rm = TRUE)\n",
    "       vec <- c(vec, maxVal + epsilon)\n",
    "   }   \n",
    "   return (ecdf(vec)(value))   \n",
    "} \n",
    "\n",
    "vec <- c(50, 80, 90, 119, 119, 120, NA)\n",
    "# min(vec, na.rm = TRUE) # max(vec, na.rm = TRUE)\n",
    "lapply(c(50, 80, 90, 119, 119, 120, NA), percentile_norm, vec)"
   ]
  },
  {
   "cell_type": "code",
   "execution_count": null,
   "id": "b8f211cd",
   "metadata": {},
   "outputs": [],
   "source": [
    "# Calculate percentile of a value w.r.t a vector\n",
    "percentile_norm <- function(value, vec, method='JCSMR'){\n",
    "   # method == 'JCSMR' or a normal way\n",
    "   if (method == 'JCSMR'){\n",
    "       epsilon <- 1e-6\n",
    "       maxVal <- max(vec, na.rm = TRUE)\n",
    "       vec <- c(vec, maxVal + epsilon)\n",
    "   }   \n",
    "   return (ecdf(vec)(value))   \n",
    "} \n",
    "\n",
    "# df_data: At \"Single Cells/Single Cells/live/LC and Mono/LC/non BT/CD15neg/NK 1 | Freqâ€¤ of LC\"\n",
    "#          has many values 0.33, 0.97, 0.41, 0.31, 2.15, 1.21, 0.64, 0.7, 1.09, 0.93, \n",
    "#                          0.85, 1.82, 0.93, 6.35, 0.68\n",
    "\n",
    "# df_control: at \"Single Cells/Single Cells/live/LC and Mono/LC/non BT/CD15neg/NK 1 | Freqâ€¤ of LC\"\n",
    "#             Only HBD063 has value =0.9 others are NA\n",
    "\n",
    "vec <- c(NA, 0.9, NA)  # control data\n",
    "lapply(c(0.33, 0.97, 0.41, 0.31, 2.15, 1.21, 0.64, 0.7, 1.09, 0.93, 0.85, 1.82, 0.93, 6.35, 0.68), # real data\n",
    "       percentile_norm, \n",
    "       vec  # # control data\n",
    "      )"
   ]
  },
  {
   "cell_type": "code",
   "execution_count": null,
   "id": "f5f247e9",
   "metadata": {},
   "outputs": [],
   "source": [
    "# df_test <- data.frame(Values = c(50, 80, 90, 119, 119, 120, NA))\n",
    "# df_test.percentile <- df_test %>% \n",
    "#     mutate(Rank = rank(Values, na.last = 'keep', ties.method = c(\"average\")))  %>% # NA rank last\n",
    "#     # rank(x, na.last = TRUE,\n",
    "#     # ties.method = c(\"average\", \"first\", \"last\", \"random\", \"max\", \"min\"))\n",
    "\n",
    "#     # (rank of row in its partition - 1) / (number of rows in the partition - 1)\n",
    "#     mutate(Rank_Percentile = percent_rank(Values)) %>%\n",
    "#     mutate(Rank_Percentile_manual = percent_rank(Rank)) %>%\n",
    "#     mutate(PCT_wo_ties = ntile(Values, 100)) %>% # # percentiles\n",
    "#     mutate(Rank_Percentile_JCSMR = rank(Values, na.last = 'keep', ties.method = c(\"average\")) * (1. / (len(df_control$Values) + 1))) \n",
    "#     # mutate(PCT = ntile(Values, 4)) # quartiles \n",
    "#     # mutate(PCT = ntile(Values, 10))  # deciles\n",
    "# df_test.percentile"
   ]
  },
  {
   "cell_type": "markdown",
   "id": "b22f4129",
   "metadata": {},
   "source": [
    "## Control data"
   ]
  },
  {
   "cell_type": "code",
   "execution_count": null,
   "id": "0f63cde5",
   "metadata": {},
   "outputs": [],
   "source": [
    "Values <- c(50, 80, 90, 119, 119, 120, NA)\n",
    "Comment <- rep('Control', length(Values))\n",
    "df_control <- data.frame(Comment, \n",
    "                         Values,\n",
    "                         Values1 = Values,\n",
    "                         Not_existed_in_df_data = Values\n",
    "                        )\n",
    "#df_control\n",
    "summary(df_control)"
   ]
  },
  {
   "cell_type": "code",
   "execution_count": null,
   "id": "3e2b02bb",
   "metadata": {
    "scrolled": true
   },
   "outputs": [],
   "source": [
    "# df_control.per <- df_control %>% \n",
    "#     mutate(Rank = rank(Values, na.last = 'keep', ties.method = c(\"average\")))  %>% # NA rank last\n",
    "#     mutate(Rank_Percentile_JCSMR = per_JCSMR(df_control$Values)) \n",
    "# df_control.per"
   ]
  },
  {
   "cell_type": "markdown",
   "id": "c890ec5c",
   "metadata": {},
   "source": [
    "## real data"
   ]
  },
  {
   "cell_type": "code",
   "execution_count": null,
   "id": "b9a27b32",
   "metadata": {},
   "outputs": [],
   "source": [
    "Values <- c(40, 50, 100, 119, 120, NA, 150) \n",
    "Comment <- rep('Data', length(Values))\n",
    "df_data <- data.frame(Comment, \n",
    "                      Values,\n",
    "                      Values1 = Values,\n",
    "                      Values_new_1 = Values,\n",
    "                      Values_new_2 = Values\n",
    "                     )\n",
    "df_data\n",
    "summary(df_data)"
   ]
  },
  {
   "cell_type": "code",
   "execution_count": null,
   "id": "c585239e",
   "metadata": {},
   "outputs": [],
   "source": [
    "len <- function(x) { return (length(x[!is.na(x)])) } \n",
    "\n",
    "percentile_JCSMR <- function(vec){\n",
    "    percentiles <- rank(vec, na.last = 'keep', ties.method = c(\"average\")) * (1. / (len(vec) + 1))\n",
    "    return (percentiles)\n",
    "}\n",
    "\n",
    "percentile <- function(vec){\n",
    "    percentiles <- rank(vec, na.last = 'keep', ties.method = c(\"average\")) * (1. / len(vec))\n",
    "    return (percentiles)    \n",
    "}\n",
    "\n",
    "# Calculate percentile of a value w.r.t a vector\n",
    "percentile_norm <- function(value, vec){\n",
    "  return (ecdf(vec)(value))\n",
    "} \n",
    "\n",
    "\n",
    "# normalize percentile one column\n",
    "norm_perc_one_col <- function(col_name, df_control, df_data){\n",
    "    df_data[[col_name]] <- unlist(lapply(df_data[, col_name], percentile_norm, df_control[, col_name]))\n",
    "    return (df_data)\n",
    "}\n",
    "\n",
    "\n",
    "normalize_percentile <- function(df_control, df_data, col_not_cal_per=\"marker\"){\n",
    "    \n",
    "    # columns existed both in df_control and df_data\n",
    "    common_cols <- intersect(names(df_control), names(df_data))\n",
    "    \n",
    "    # Get column to calculate normalized percentile (w.r.t control data) \n",
    "    selected_cols <- common_cols[common_cols != col_not_cal_per]\n",
    "    for (col_name in selected_cols){\n",
    "        df_data[[col_name]] <- unlist(lapply(df_data[, col_name], percentile_norm, df_control[, col_name]))\n",
    "    }\n",
    "    \n",
    "    # columns existed df_data ONLY. Calculate percentile by itself\n",
    "    cols_in_data_only <- setdiff(names(df_data), names(df_control))\n",
    "    for (col_name in cols_in_data_only){\n",
    "        # df_data[[col_name]] <- per_JCSMR(df_data[, col_name])\n",
    "        df_data[[col_name]] <- percentile(df_data[, col_name])\n",
    "    }\n",
    "    \n",
    "    return (list(df=df_data, cols_in_data_only=cols_in_data_only))  \n",
    "}\n",
    "\n",
    "df_data <- normalize_percentile(df_control, df_data)\n",
    "df_data\n",
    "df_data$df\n",
    "df_data$cols_in_data_only"
   ]
  },
  {
   "cell_type": "code",
   "execution_count": null,
   "id": "ab7d2c4d",
   "metadata": {},
   "outputs": [],
   "source": [
    "sort_a_marker <- function(df, selected_marker, asc=TRUE, keep_all_cols=TRUE){\n",
    "   # To sort a marker in asc or desc order\n",
    "   # Input\n",
    "   # df: a dataframe in a standard format. \n",
    "   #     Eg. Ref. get_standard_df_control(), get_standard_df_data()\n",
    "   # selected_marker: a column name in a string format\n",
    "   # asc: sort marker as asc order if TRUE, else desc\n",
    "   #      Default: TRUE\n",
    "   # keep_all_cols: keep all \"marker\" columns if TRUE, else get ONLY selected_marker column\n",
    "   #                Default: TRUE\n",
    "   # Ouput: a new dataframe\n",
    "   #\n",
    "   # Usage:\n",
    "   # df = studyCode\tmarker1\t marker2\n",
    "   #       CPI515\t      0.3\t  0.6\n",
    "   #       CPI248\t      NA\t     0.1\n",
    "   #       CPI270\t      0.2\t  0.3\n",
    "   #       CPI280\t      0.4\t  0.4\n",
    "   #       CPI282\t      0.1\t  0.3\n",
    "   # df_sorted = sort_a_marker(df, selected_marker='marker1', asc=TRUE, keep_all_cols=TRUE)\n",
    "   # df_sorted =\n",
    "   #      studyCode\tmarker1\t marker2\n",
    "   #       CPI282\t      0.1\t  0.3\n",
    "   #       CPI270\t      0.2\t  0.3\n",
    "   #       CPI515\t      0.3\t  0.6\n",
    "   #       CPI280\t      0.4\t  0.4\n",
    "   #       CPI248\t      NA\t     0.1\n",
    "   \n",
    "   if (keep_all_cols == FALSE){\n",
    "      df <- subset(df, select = c(selected_marker, 'studyCode')) \n",
    "   }\n",
    "   \n",
    "   selected_marker_sym <- sym(selected_marker)\n",
    "   \n",
    "   if (asc == TRUE){\n",
    "      df_sorted <- df %>% arrange(!!selected_marker_sym)\n",
    "   } else {\n",
    "      df_sorted <- df %>% arrange(desc(!!selected_marker_sym))\n",
    "   }\n",
    "   \n",
    "   # Move selected_marker column to the second position\n",
    "   df_sorted <- df_sorted %>%\n",
    "                  select('studyCode', selected_marker, everything())\n",
    "   \n",
    "   return (df_sorted)\n",
    "}"
   ]
  },
  {
   "cell_type": "code",
   "execution_count": null,
   "id": "29c6c9f0",
   "metadata": {},
   "outputs": [],
   "source": [
    "df1 <- data.frame(studyCode = c('CPI515', 'CPI248', 'CPI270', 'CPI280', 'CPI282'),\n",
    "                 marker1 = c(0.3, NA, 0.2, 0.4, 0.1), \n",
    "                 marker2 = c(0.6, 0.1, 0.3, 0.4, 0.3))\n",
    "df1"
   ]
  },
  {
   "cell_type": "code",
   "execution_count": null,
   "id": "4bb7172b",
   "metadata": {},
   "outputs": [],
   "source": [
    "#df <- sort_a_marker(df=df, selected_marker='marker1', asc=TRUE, keep_all_cols=TRUE)\n",
    "#df"
   ]
  },
  {
   "cell_type": "code",
   "execution_count": null,
   "id": "2c0a9f76",
   "metadata": {},
   "outputs": [],
   "source": [
    "# Add gender to columm\n",
    "dic = list(Male = c('CPI515', 'CPI270'),\n",
    "           Female = c('CPI248', 'CPI282'),    \n",
    "           Other = c('CPI280')) # c()) #\n",
    "#dic\n",
    "n <- c(\"Male\", \"Female\", \"Other\")\n",
    "#stack(setNames(dic, n))\n",
    "#unlist(dic)\n",
    "df2 <- data.frame(value = unlist(dic), key = rep(n, lengths(dic)))\n",
    "df2"
   ]
  },
  {
   "cell_type": "code",
   "execution_count": null,
   "id": "65633f22",
   "metadata": {},
   "outputs": [],
   "source": [
    "df <- merge(x = df1,\n",
    "                     y = df2,\n",
    "                     by.x = 'studyCode',\n",
    "                     by.y = 'value')\n",
    "df"
   ]
  },
  {
   "cell_type": "code",
   "execution_count": null,
   "id": "1f934794",
   "metadata": {},
   "outputs": [],
   "source": [
    "df[order(df$key, df$marker1), ]"
   ]
  },
  {
   "cell_type": "code",
   "execution_count": null,
   "id": "50419ec5",
   "metadata": {},
   "outputs": [],
   "source": [
    "# bind_rows(dic)"
   ]
  },
  {
   "cell_type": "code",
   "execution_count": null,
   "id": "b593aefd",
   "metadata": {},
   "outputs": [],
   "source": [
    "as.data.frame(dic)"
   ]
  },
  {
   "cell_type": "code",
   "execution_count": null,
   "id": "1614da07",
   "metadata": {},
   "outputs": [],
   "source": [
    "as.data.frame(dic, col.names = c(\"Numbers\", \"Letters\", \"Words\"))"
   ]
  },
  {
   "cell_type": "markdown",
   "id": "5c7d0739",
   "metadata": {},
   "source": [
    "# VI. Sort row names"
   ]
  },
  {
   "cell_type": "code",
   "execution_count": null,
   "id": "731220c8",
   "metadata": {},
   "outputs": [],
   "source": [
    "df <- data.frame(label = c('a1', 'a2', 'a3', 'a4', 'a5'),\n",
    "                 x1 = c(9, 2, 3, NA, NA), \n",
    "                 x2 = c(100, NA, 300, 400, NA))\n",
    "# Create index\n",
    "row.names(df) <- df[['label']]\n",
    "df"
   ]
  },
  {
   "cell_type": "code",
   "execution_count": null,
   "id": "9fefafbc",
   "metadata": {},
   "outputs": [],
   "source": [
    "dic = list('A'=c('a1', 'a4'),\n",
    "            'Test' = c('a2', 'a3', 'a5')\n",
    "          )\n",
    "dic"
   ]
  },
  {
   "cell_type": "markdown",
   "id": "afb0adb2",
   "metadata": {},
   "source": [
    "## Order data frame rows according to vector with specific order  \n",
    "https://stackoverflow.com/questions/11977102/order-data-frame-rows-according-to-vector-with-specific-order"
   ]
  },
  {
   "cell_type": "code",
   "execution_count": null,
   "id": "27accf79",
   "metadata": {},
   "outputs": [],
   "source": [
    "df <- data.frame(name = letters[1:4], value = c(rep(TRUE, 2), rep(FALSE, 2)))\n",
    "df"
   ]
  },
  {
   "cell_type": "code",
   "execution_count": null,
   "id": "ce4d26f5",
   "metadata": {},
   "outputs": [],
   "source": [
    "target <- c(\"b\", \"c\", \"a\", \"d\")\n",
    "target"
   ]
  },
  {
   "cell_type": "code",
   "execution_count": null,
   "id": "8151280f",
   "metadata": {},
   "outputs": [],
   "source": [
    "# match: It will work as long as your target contains exactly the same elements\n",
    "#        as df$name, and neither contain duplicate values.\n",
    "df[match(target, df$name),]"
   ]
  },
  {
   "cell_type": "code",
   "execution_count": null,
   "id": "e64dc0a9",
   "metadata": {},
   "outputs": [],
   "source": [
    "# Left join\n",
    "left_join(data.frame(name=target), df, by=\"name\")"
   ]
  },
  {
   "cell_type": "code",
   "execution_count": null,
   "id": "c0f3065e",
   "metadata": {},
   "outputs": [],
   "source": [
    "library(dplyr)\n",
    "df %>% arrange(factor(name, levels = target))"
   ]
  },
  {
   "cell_type": "code",
   "execution_count": null,
   "id": "db334364",
   "metadata": {},
   "outputs": [],
   "source": [
    "# Or order it and use it in slice\n",
    "df %>% slice(order(factor(name, levels = target)))"
   ]
  },
  {
   "cell_type": "code",
   "execution_count": null,
   "id": "a7b2c0b8",
   "metadata": {},
   "outputs": [],
   "source": [
    "\n",
    "target <- c(\"b\", \"c\", \"a\", \"d\")\n",
    "target\n",
    "library(dplyr)\n",
    "df %>% arrange(factor(name, levels = target))"
   ]
  },
  {
   "cell_type": "code",
   "execution_count": null,
   "id": "243e8675",
   "metadata": {},
   "outputs": [],
   "source": [
    "df <- data.frame(name = letters[1:4], value = c(rep(TRUE, 2), rep(FALSE, 2)))\n",
    "row.names(df) <- df$name\n",
    "df <- subset(df, select = -c(name))\n",
    "df\n",
    "#df %>% arrange(factor(index, levels = target))\n",
    "target <- c(\"b\", \"c\", \"a\", \"d\")\n",
    "# df[match(target, df$rownames(df)),]\n",
    "df$name <- row.names(df)\n",
    "df"
   ]
  },
  {
   "cell_type": "code",
   "execution_count": null,
   "id": "c1c7c7d3",
   "metadata": {},
   "outputs": [],
   "source": []
  },
  {
   "cell_type": "markdown",
   "id": "0ecc67de",
   "metadata": {},
   "source": [
    "### https://stackoverflow.com/questions/26556191/order-a-dataframe-according-to-a-given-list-in-r"
   ]
  },
  {
   "cell_type": "code",
   "execution_count": null,
   "id": "e2d47265",
   "metadata": {},
   "outputs": [],
   "source": [
    "DF <- \n",
    "read.csv(text=\n",
    "'id,nobs\n",
    "2,463\n",
    "8,586\n",
    "12,338\n",
    "55,711\n",
    "111,932')\n",
    "DF"
   ]
  },
  {
   "cell_type": "code",
   "execution_count": null,
   "id": "7436d419",
   "metadata": {},
   "outputs": [],
   "source": [
    "# keys to use for sorting\n",
    "keys <- c(2, 55, 8, 111, 12)\n",
    "keys"
   ]
  },
  {
   "cell_type": "code",
   "execution_count": null,
   "id": "ae9b8243",
   "metadata": {},
   "outputs": [],
   "source": [
    "keyDF <- data.frame(key=keys, weight=1:length(keys))\n",
    "keyDF"
   ]
  },
  {
   "cell_type": "code",
   "execution_count": null,
   "id": "ca1f81d6",
   "metadata": {},
   "outputs": [],
   "source": [
    "merged <- merge(DF,\n",
    "                keyDF,\n",
    "                by.x='id',\n",
    "                by.y='key',\n",
    "                all.x=T,\n",
    "                all.y=F)\n",
    "merged"
   ]
  },
  {
   "cell_type": "code",
   "execution_count": null,
   "id": "400e2b19",
   "metadata": {},
   "outputs": [],
   "source": [
    "res <- merged[order(merged$weight),c('id','nobs')]\n",
    "res"
   ]
  },
  {
   "cell_type": "code",
   "execution_count": null,
   "id": "0fa23699",
   "metadata": {},
   "outputs": [],
   "source": []
  }
 ],
 "metadata": {
  "kernelspec": {
   "display_name": "R",
   "language": "R",
   "name": "ir"
  },
  "language_info": {
   "codemirror_mode": "r",
   "file_extension": ".r",
   "mimetype": "text/x-r-source",
   "name": "R",
   "pygments_lexer": "r",
   "version": "3.6.1"
  }
 },
 "nbformat": 4,
 "nbformat_minor": 5
}
