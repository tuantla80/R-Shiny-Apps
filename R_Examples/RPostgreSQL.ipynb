{
 "cells": [
  {
   "cell_type": "code",
   "execution_count": 1,
   "id": "9f05fdb8",
   "metadata": {},
   "outputs": [],
   "source": [
    "# install.packages('RPostgreSQL')\n",
    "# install.packages(\"sqldf\")"
   ]
  },
  {
   "cell_type": "markdown",
   "id": "78e88b7b",
   "metadata": {},
   "source": [
    "# 1. RPostgreSQL"
   ]
  },
  {
   "cell_type": "code",
   "execution_count": 2,
   "id": "95095f33",
   "metadata": {},
   "outputs": [],
   "source": [
    "# library(RPostgreSQL)\n",
    "# library(DBI)\n",
    "# require(RPostgreSQL)\n",
    "\n",
    "# POSTGRES_DATABASE=\"db1\"\n",
    "# POSTGRES_HOST=\"127.0.0.1\"\n",
    "# POSTGRES_PORT=5432\n",
    "# POSTGRES_USER=\"name_of_user\"\n",
    "# POSTGRES_PASSWORD=\"a_password\"\n",
    "\n",
    "# con=dbConnect(RPostgres::Postgres(),\n",
    "#               dbname=POSTGRES_DATABASE,\n",
    "#               host=POSTGRES_HOST,\n",
    "#               port=POSTGRES_PORT,\n",
    "#               user=POSTGRES_USER,\n",
    "#               password=POSTGRES_PASSWORD\n",
    "# )\n",
    "\n",
    "# print(con)\n",
    "# dbListTables(con) "
   ]
  },
  {
   "cell_type": "markdown",
   "id": "2441b1af",
   "metadata": {},
   "source": [
    "# 2. sqldf for learning SQL query  \n",
    "https://www.w3schools.com/sql/default.asp  \n",
    "http://sqlzoo.net/  \n",
    "http://www.w3resource.com/sql/tutorials.php  \n",
    "https://dept.stat.lsa.umich.edu/~jerrick/courses/stat701/notes/sql.html"
   ]
  },
  {
   "cell_type": "code",
   "execution_count": 3,
   "id": "d09526d5",
   "metadata": {},
   "outputs": [
    {
     "name": "stderr",
     "output_type": "stream",
     "text": [
      "Warning message:\n",
      "\"package 'sqldf' was built under R version 3.6.3\"Loading required package: gsubfn\n",
      "Warning message:\n",
      "\"package 'gsubfn' was built under R version 3.6.3\"Loading required package: proto\n",
      "Warning message:\n",
      "\"package 'proto' was built under R version 3.6.3\"Loading required package: RSQLite\n",
      "Warning message:\n",
      "\"package 'RSQLite' was built under R version 3.6.3\""
     ]
    }
   ],
   "source": [
    "library(sqldf)"
   ]
  },
  {
   "cell_type": "markdown",
   "id": "6abfd19b",
   "metadata": {},
   "source": [
    "#### SELECT...FROM...WHERE...ORDER BY"
   ]
  },
  {
   "cell_type": "code",
   "execution_count": 4,
   "id": "ba2236ef",
   "metadata": {},
   "outputs": [
    {
     "data": {
      "text/html": [
       "<table>\n",
       "<thead><tr><th scope=col>age</th><th scope=col>circumference</th></tr></thead>\n",
       "<tbody>\n",
       "\t<tr><td>118</td><td>30 </td></tr>\n",
       "\t<tr><td>484</td><td>58 </td></tr>\n",
       "\t<tr><td>664</td><td>87 </td></tr>\n",
       "</tbody>\n",
       "</table>\n"
      ],
      "text/latex": [
       "\\begin{tabular}{r|ll}\n",
       " age & circumference\\\\\n",
       "\\hline\n",
       "\t 118 & 30 \\\\\n",
       "\t 484 & 58 \\\\\n",
       "\t 664 & 87 \\\\\n",
       "\\end{tabular}\n"
      ],
      "text/markdown": [
       "\n",
       "| age | circumference |\n",
       "|---|---|\n",
       "| 118 | 30  |\n",
       "| 484 | 58  |\n",
       "| 664 | 87  |\n",
       "\n"
      ],
      "text/plain": [
       "  age circumference\n",
       "1 118 30           \n",
       "2 484 58           \n",
       "3 664 87           "
      ]
     },
     "metadata": {},
     "output_type": "display_data"
    }
   ],
   "source": [
    "df1 <- sqldf('SELECT age, circumference FROM Orange WHERE Tree = 1 ORDER BY circumference ASC')\n",
    "head(df1, 3)"
   ]
  },
  {
   "cell_type": "markdown",
   "id": "d1172f2a",
   "metadata": {},
   "source": [
    "#### SELECT * FROM...LIMIT..."
   ]
  },
  {
   "cell_type": "code",
   "execution_count": 5,
   "id": "f77ff79d",
   "metadata": {},
   "outputs": [
    {
     "name": "stderr",
     "output_type": "stream",
     "text": [
      "Warning message:\n",
      "\"namespace 'fastmap' is not available and has been replaced\n",
      "by .GlobalEnv when processing object ''\"Warning message:\n",
      "\"namespace 'cachem' is not available and has been replaced\n",
      "by .GlobalEnv when processing object ''\""
     ]
    },
    {
     "data": {
      "text/html": [
       "<table>\n",
       "<thead><tr><th scope=col>Sepal.Length</th><th scope=col>Sepal.Width</th><th scope=col>Petal.Length</th><th scope=col>Petal.Width</th><th scope=col>Species</th></tr></thead>\n",
       "<tbody>\n",
       "\t<tr><td>5.1   </td><td>3.5   </td><td>1.4   </td><td>0.2   </td><td>setosa</td></tr>\n",
       "\t<tr><td>4.9   </td><td>3.0   </td><td>1.4   </td><td>0.2   </td><td>setosa</td></tr>\n",
       "\t<tr><td>4.7   </td><td>3.2   </td><td>1.3   </td><td>0.2   </td><td>setosa</td></tr>\n",
       "</tbody>\n",
       "</table>\n"
      ],
      "text/latex": [
       "\\begin{tabular}{r|lllll}\n",
       " Sepal.Length & Sepal.Width & Petal.Length & Petal.Width & Species\\\\\n",
       "\\hline\n",
       "\t 5.1    & 3.5    & 1.4    & 0.2    & setosa\\\\\n",
       "\t 4.9    & 3.0    & 1.4    & 0.2    & setosa\\\\\n",
       "\t 4.7    & 3.2    & 1.3    & 0.2    & setosa\\\\\n",
       "\\end{tabular}\n"
      ],
      "text/markdown": [
       "\n",
       "| Sepal.Length | Sepal.Width | Petal.Length | Petal.Width | Species |\n",
       "|---|---|---|---|---|\n",
       "| 5.1    | 3.5    | 1.4    | 0.2    | setosa |\n",
       "| 4.9    | 3.0    | 1.4    | 0.2    | setosa |\n",
       "| 4.7    | 3.2    | 1.3    | 0.2    | setosa |\n",
       "\n"
      ],
      "text/plain": [
       "  Sepal.Length Sepal.Width Petal.Length Petal.Width Species\n",
       "1 5.1          3.5         1.4          0.2         setosa \n",
       "2 4.9          3.0         1.4          0.2         setosa \n",
       "3 4.7          3.2         1.3          0.2         setosa "
      ]
     },
     "metadata": {},
     "output_type": "display_data"
    }
   ],
   "source": [
    "df2 <- sqldf(\"SELECT * FROM iris LIMIT 3\")\n",
    "df2"
   ]
  },
  {
   "cell_type": "markdown",
   "id": "88b43be5",
   "metadata": {},
   "source": [
    "#### SELECT colname1, colname2, colname3 FROM..."
   ]
  },
  {
   "cell_type": "code",
   "execution_count": 6,
   "id": "699ff0c8",
   "metadata": {},
   "outputs": [
    {
     "data": {
      "text/html": [
       "<table>\n",
       "<thead><tr><th scope=col>Petal.Length</th><th scope=col>Petal.Width</th><th scope=col>Species</th></tr></thead>\n",
       "<tbody>\n",
       "\t<tr><td>1.4   </td><td>0.2   </td><td>setosa</td></tr>\n",
       "\t<tr><td>1.4   </td><td>0.2   </td><td>setosa</td></tr>\n",
       "\t<tr><td>1.3   </td><td>0.2   </td><td>setosa</td></tr>\n",
       "</tbody>\n",
       "</table>\n"
      ],
      "text/latex": [
       "\\begin{tabular}{r|lll}\n",
       " Petal.Length & Petal.Width & Species\\\\\n",
       "\\hline\n",
       "\t 1.4    & 0.2    & setosa\\\\\n",
       "\t 1.4    & 0.2    & setosa\\\\\n",
       "\t 1.3    & 0.2    & setosa\\\\\n",
       "\\end{tabular}\n"
      ],
      "text/markdown": [
       "\n",
       "| Petal.Length | Petal.Width | Species |\n",
       "|---|---|---|\n",
       "| 1.4    | 0.2    | setosa |\n",
       "| 1.4    | 0.2    | setosa |\n",
       "| 1.3    | 0.2    | setosa |\n",
       "\n"
      ],
      "text/plain": [
       "  Petal.Length Petal.Width Species\n",
       "1 1.4          0.2         setosa \n",
       "2 1.4          0.2         setosa \n",
       "3 1.3          0.2         setosa "
      ]
     },
     "metadata": {},
     "output_type": "display_data"
    }
   ],
   "source": [
    "df3 <- sqldf('SELECT \"Petal.Length\", \"Petal.Width\", Species from iris')\n",
    "head(df3, 3)"
   ]
  },
  {
   "cell_type": "markdown",
   "id": "0ba0a682",
   "metadata": {},
   "source": [
    "#### SELECT * FROM...ORDER BY...ASC...DESC...LIMIT..."
   ]
  },
  {
   "cell_type": "code",
   "execution_count": 7,
   "id": "873e8bc5",
   "metadata": {},
   "outputs": [
    {
     "data": {
      "text/html": [
       "<table>\n",
       "<thead><tr><th scope=col>Tree</th><th scope=col>age</th><th scope=col>circumference</th></tr></thead>\n",
       "<tbody>\n",
       "\t<tr><td>2  </td><td>118</td><td>33 </td></tr>\n",
       "\t<tr><td>4  </td><td>118</td><td>32 </td></tr>\n",
       "\t<tr><td>1  </td><td>118</td><td>30 </td></tr>\n",
       "</tbody>\n",
       "</table>\n"
      ],
      "text/latex": [
       "\\begin{tabular}{r|lll}\n",
       " Tree & age & circumference\\\\\n",
       "\\hline\n",
       "\t 2   & 118 & 33 \\\\\n",
       "\t 4   & 118 & 32 \\\\\n",
       "\t 1   & 118 & 30 \\\\\n",
       "\\end{tabular}\n"
      ],
      "text/markdown": [
       "\n",
       "| Tree | age | circumference |\n",
       "|---|---|---|\n",
       "| 2   | 118 | 33  |\n",
       "| 4   | 118 | 32  |\n",
       "| 1   | 118 | 30  |\n",
       "\n"
      ],
      "text/plain": [
       "  Tree age circumference\n",
       "1 2    118 33           \n",
       "2 4    118 32           \n",
       "3 1    118 30           "
      ]
     },
     "metadata": {},
     "output_type": "display_data"
    }
   ],
   "source": [
    "sqldf(\"SELECT * FROM Orange ORDER BY age ASC, circumference DESC LIMIT 3\")"
   ]
  },
  {
   "cell_type": "markdown",
   "id": "fdb0c9e7",
   "metadata": {},
   "source": [
    "#### SELECT...FROM...WHERE..."
   ]
  },
  {
   "cell_type": "code",
   "execution_count": 8,
   "id": "41b89984",
   "metadata": {},
   "outputs": [
    {
     "data": {
      "text/html": [
       "<table>\n",
       "<thead><tr><th scope=col>demand</th></tr></thead>\n",
       "<tbody>\n",
       "\t<tr><td> 8.3</td></tr>\n",
       "\t<tr><td>10.3</td></tr>\n",
       "</tbody>\n",
       "</table>\n"
      ],
      "text/latex": [
       "\\begin{tabular}{r|l}\n",
       " demand\\\\\n",
       "\\hline\n",
       "\t  8.3\\\\\n",
       "\t 10.3\\\\\n",
       "\\end{tabular}\n"
      ],
      "text/markdown": [
       "\n",
       "| demand |\n",
       "|---|\n",
       "|  8.3 |\n",
       "| 10.3 |\n",
       "\n"
      ],
      "text/plain": [
       "  demand\n",
       "1  8.3  \n",
       "2 10.3  "
      ]
     },
     "metadata": {},
     "output_type": "display_data"
    }
   ],
   "source": [
    "sqldf('SELECT demand FROM BOD WHERE Time < 3')"
   ]
  },
  {
   "cell_type": "code",
   "execution_count": 9,
   "id": "c6b5ec9f",
   "metadata": {},
   "outputs": [
    {
     "data": {
      "text/html": [
       "<table>\n",
       "<thead><tr><th scope=col>area</th><th scope=col>peri</th><th scope=col>shape</th><th scope=col>perm</th></tr></thead>\n",
       "<tbody>\n",
       "\t<tr><td>5048    </td><td> 941.543</td><td>0.328641</td><td>1300    </td></tr>\n",
       "\t<tr><td>1016    </td><td> 308.642</td><td>0.230081</td><td>1300    </td></tr>\n",
       "\t<tr><td>5605    </td><td>1145.690</td><td>0.464125</td><td>1300    </td></tr>\n",
       "\t<tr><td>8793    </td><td>2280.490</td><td>0.420477</td><td>1300    </td></tr>\n",
       "</tbody>\n",
       "</table>\n"
      ],
      "text/latex": [
       "\\begin{tabular}{r|llll}\n",
       " area & peri & shape & perm\\\\\n",
       "\\hline\n",
       "\t 5048     &  941.543 & 0.328641 & 1300    \\\\\n",
       "\t 1016     &  308.642 & 0.230081 & 1300    \\\\\n",
       "\t 5605     & 1145.690 & 0.464125 & 1300    \\\\\n",
       "\t 8793     & 2280.490 & 0.420477 & 1300    \\\\\n",
       "\\end{tabular}\n"
      ],
      "text/markdown": [
       "\n",
       "| area | peri | shape | perm |\n",
       "|---|---|---|---|\n",
       "| 5048     |  941.543 | 0.328641 | 1300     |\n",
       "| 1016     |  308.642 | 0.230081 | 1300     |\n",
       "| 5605     | 1145.690 | 0.464125 | 1300     |\n",
       "| 8793     | 2280.490 | 0.420477 | 1300     |\n",
       "\n"
      ],
      "text/plain": [
       "  area peri     shape    perm\n",
       "1 5048  941.543 0.328641 1300\n",
       "2 1016  308.642 0.230081 1300\n",
       "3 5605 1145.690 0.464125 1300\n",
       "4 8793 2280.490 0.420477 1300"
      ]
     },
     "metadata": {},
     "output_type": "display_data"
    }
   ],
   "source": [
    "sqldf('SELECT * FROM rock WHERE (peri > 5000 AND shape < .05) OR perm > 1000')"
   ]
  },
  {
   "cell_type": "markdown",
   "id": "18e0c35c",
   "metadata": {},
   "source": [
    "#### SELECT * FROM...WHERE...IN..."
   ]
  },
  {
   "cell_type": "code",
   "execution_count": 10,
   "id": "dfa1effb",
   "metadata": {},
   "outputs": [
    {
     "data": {
      "text/html": [
       "<table>\n",
       "<thead><tr><th scope=col>Time</th><th scope=col>demand</th></tr></thead>\n",
       "<tbody>\n",
       "\t<tr><td>1   </td><td> 8.3</td></tr>\n",
       "\t<tr><td>3   </td><td>19.0</td></tr>\n",
       "\t<tr><td>7   </td><td>19.8</td></tr>\n",
       "</tbody>\n",
       "</table>\n"
      ],
      "text/latex": [
       "\\begin{tabular}{r|ll}\n",
       " Time & demand\\\\\n",
       "\\hline\n",
       "\t 1    &  8.3\\\\\n",
       "\t 3    & 19.0\\\\\n",
       "\t 7    & 19.8\\\\\n",
       "\\end{tabular}\n"
      ],
      "text/markdown": [
       "\n",
       "| Time | demand |\n",
       "|---|---|\n",
       "| 1    |  8.3 |\n",
       "| 3    | 19.0 |\n",
       "| 7    | 19.8 |\n",
       "\n"
      ],
      "text/plain": [
       "  Time demand\n",
       "1 1     8.3  \n",
       "2 3    19.0  \n",
       "3 7    19.8  "
      ]
     },
     "metadata": {},
     "output_type": "display_data"
    }
   ],
   "source": [
    "sqldf('SELECT * FROM BOD WHERE Time IN (1, 3, 7)')"
   ]
  },
  {
   "cell_type": "markdown",
   "id": "85641995",
   "metadata": {},
   "source": [
    "#### SELECT * FROM...WHERE...NOT IN..."
   ]
  },
  {
   "cell_type": "code",
   "execution_count": 11,
   "id": "bb99abbe",
   "metadata": {},
   "outputs": [
    {
     "data": {
      "text/html": [
       "<table>\n",
       "<thead><tr><th scope=col>Time</th><th scope=col>demand</th></tr></thead>\n",
       "<tbody>\n",
       "\t<tr><td>2   </td><td>10.3</td></tr>\n",
       "\t<tr><td>4   </td><td>16.0</td></tr>\n",
       "\t<tr><td>5   </td><td>15.6</td></tr>\n",
       "</tbody>\n",
       "</table>\n"
      ],
      "text/latex": [
       "\\begin{tabular}{r|ll}\n",
       " Time & demand\\\\\n",
       "\\hline\n",
       "\t 2    & 10.3\\\\\n",
       "\t 4    & 16.0\\\\\n",
       "\t 5    & 15.6\\\\\n",
       "\\end{tabular}\n"
      ],
      "text/markdown": [
       "\n",
       "| Time | demand |\n",
       "|---|---|\n",
       "| 2    | 10.3 |\n",
       "| 4    | 16.0 |\n",
       "| 5    | 15.6 |\n",
       "\n"
      ],
      "text/plain": [
       "  Time demand\n",
       "1 2    10.3  \n",
       "2 4    16.0  \n",
       "3 5    15.6  "
      ]
     },
     "metadata": {},
     "output_type": "display_data"
    }
   ],
   "source": [
    "sqldf('SELECT * FROM BOD WHERE Time NOT IN (1, 3, 7)')"
   ]
  },
  {
   "cell_type": "markdown",
   "id": "3339ba3d",
   "metadata": {},
   "source": [
    "#### SELECT * FROM...WHERE...LIKE...LIMIT..."
   ]
  },
  {
   "cell_type": "code",
   "execution_count": 12,
   "id": "40b09a7d",
   "metadata": {},
   "outputs": [
    {
     "data": {
      "text/html": [
       "<table>\n",
       "<thead><tr><th scope=col>weight</th><th scope=col>feed</th></tr></thead>\n",
       "<tbody>\n",
       "\t<tr><td>179      </td><td>horsebean</td></tr>\n",
       "\t<tr><td>160      </td><td>horsebean</td></tr>\n",
       "\t<tr><td>136      </td><td>horsebean</td></tr>\n",
       "\t<tr><td>227      </td><td>horsebean</td></tr>\n",
       "</tbody>\n",
       "</table>\n"
      ],
      "text/latex": [
       "\\begin{tabular}{r|ll}\n",
       " weight & feed\\\\\n",
       "\\hline\n",
       "\t 179       & horsebean\\\\\n",
       "\t 160       & horsebean\\\\\n",
       "\t 136       & horsebean\\\\\n",
       "\t 227       & horsebean\\\\\n",
       "\\end{tabular}\n"
      ],
      "text/markdown": [
       "\n",
       "| weight | feed |\n",
       "|---|---|\n",
       "| 179       | horsebean |\n",
       "| 160       | horsebean |\n",
       "| 136       | horsebean |\n",
       "| 227       | horsebean |\n",
       "\n"
      ],
      "text/plain": [
       "  weight feed     \n",
       "1 179    horsebean\n",
       "2 160    horsebean\n",
       "3 136    horsebean\n",
       "4 227    horsebean"
      ]
     },
     "metadata": {},
     "output_type": "display_data"
    }
   ],
   "source": [
    "sqldf('SELECT * FROM chickwts WHERE feed LIKE \"%bean\" LIMIT 4')"
   ]
  },
  {
   "cell_type": "code",
   "execution_count": 13,
   "id": "ce1f16af",
   "metadata": {},
   "outputs": [
    {
     "data": {
      "text/html": [
       "<table>\n",
       "<thead><tr><th scope=col>weight</th><th scope=col>feed</th></tr></thead>\n",
       "<tbody>\n",
       "</tbody>\n",
       "</table>\n"
      ],
      "text/latex": [
       "\\begin{tabular}{r|ll}\n",
       " weight & feed\\\\\n",
       "\\hline\n",
       "\\end{tabular}\n"
      ],
      "text/markdown": [
       "\n",
       "| weight | feed |\n",
       "|---|---|\n",
       "\n"
      ],
      "text/plain": [
       "     weight feed"
      ]
     },
     "metadata": {},
     "output_type": "display_data"
    }
   ],
   "source": [
    "sqldf('SELECT * FROM chickwts WHERE feed LIKE \"%bea\" LIMIT 4')"
   ]
  },
  {
   "cell_type": "markdown",
   "id": "66ec07f5",
   "metadata": {},
   "source": [
    "#### SELECT * FROM...WHERE...NOT LIKE...LIMIT..."
   ]
  },
  {
   "cell_type": "code",
   "execution_count": 14,
   "id": "129ffeca",
   "metadata": {},
   "outputs": [
    {
     "data": {
      "text/html": [
       "<table>\n",
       "<thead><tr><th scope=col>weight</th><th scope=col>feed</th></tr></thead>\n",
       "<tbody>\n",
       "\t<tr><td>309    </td><td>linseed</td></tr>\n",
       "\t<tr><td>229    </td><td>linseed</td></tr>\n",
       "\t<tr><td>181    </td><td>linseed</td></tr>\n",
       "\t<tr><td>141    </td><td>linseed</td></tr>\n",
       "\t<tr><td>260    </td><td>linseed</td></tr>\n",
       "</tbody>\n",
       "</table>\n"
      ],
      "text/latex": [
       "\\begin{tabular}{r|ll}\n",
       " weight & feed\\\\\n",
       "\\hline\n",
       "\t 309     & linseed\\\\\n",
       "\t 229     & linseed\\\\\n",
       "\t 181     & linseed\\\\\n",
       "\t 141     & linseed\\\\\n",
       "\t 260     & linseed\\\\\n",
       "\\end{tabular}\n"
      ],
      "text/markdown": [
       "\n",
       "| weight | feed |\n",
       "|---|---|\n",
       "| 309     | linseed |\n",
       "| 229     | linseed |\n",
       "| 181     | linseed |\n",
       "| 141     | linseed |\n",
       "| 260     | linseed |\n",
       "\n"
      ],
      "text/plain": [
       "  weight feed   \n",
       "1 309    linseed\n",
       "2 229    linseed\n",
       "3 181    linseed\n",
       "4 141    linseed\n",
       "5 260    linseed"
      ]
     },
     "metadata": {},
     "output_type": "display_data"
    }
   ],
   "source": [
    "sqldf('SELECT * FROM chickwts WHERE feed NOT LIKE \"%bean\" LIMIT 5')"
   ]
  },
  {
   "cell_type": "markdown",
   "id": "3206bc68",
   "metadata": {},
   "source": [
    "### Aggregated data  \n",
    "Create aggregated data using AVG, MEDIAN, MAX, MIN, and SUM as functions in the list of variables to select.   \n",
    "The GROUP BY statement can be added to aggregate by groups. AS can name the column name."
   ]
  },
  {
   "cell_type": "code",
   "execution_count": 15,
   "id": "d3fcbc85",
   "metadata": {},
   "outputs": [
    {
     "data": {
      "text/html": [
       "<table>\n",
       "<thead><tr><th scope=col>AVG(circumference)</th></tr></thead>\n",
       "<tbody>\n",
       "\t<tr><td>115.8571</td></tr>\n",
       "</tbody>\n",
       "</table>\n"
      ],
      "text/latex": [
       "\\begin{tabular}{r|l}\n",
       " AVG(circumference)\\\\\n",
       "\\hline\n",
       "\t 115.8571\\\\\n",
       "\\end{tabular}\n"
      ],
      "text/markdown": [
       "\n",
       "| AVG(circumference) |\n",
       "|---|\n",
       "| 115.8571 |\n",
       "\n"
      ],
      "text/plain": [
       "  AVG(circumference)\n",
       "1 115.8571          "
      ]
     },
     "metadata": {},
     "output_type": "display_data"
    }
   ],
   "source": [
    "sqldf(\"SELECT AVG(circumference) FROM Orange\")"
   ]
  },
  {
   "cell_type": "code",
   "execution_count": 16,
   "id": "7662a8b7",
   "metadata": {},
   "outputs": [
    {
     "data": {
      "text/html": [
       "<table>\n",
       "<thead><tr><th scope=col>Tree</th><th scope=col>meancirc</th></tr></thead>\n",
       "<tbody>\n",
       "\t<tr><td>1        </td><td> 99.57143</td></tr>\n",
       "\t<tr><td>2        </td><td>135.28571</td></tr>\n",
       "\t<tr><td>3        </td><td> 94.00000</td></tr>\n",
       "\t<tr><td>4        </td><td>139.28571</td></tr>\n",
       "\t<tr><td>5        </td><td>111.14286</td></tr>\n",
       "</tbody>\n",
       "</table>\n"
      ],
      "text/latex": [
       "\\begin{tabular}{r|ll}\n",
       " Tree & meancirc\\\\\n",
       "\\hline\n",
       "\t 1         &  99.57143\\\\\n",
       "\t 2         & 135.28571\\\\\n",
       "\t 3         &  94.00000\\\\\n",
       "\t 4         & 139.28571\\\\\n",
       "\t 5         & 111.14286\\\\\n",
       "\\end{tabular}\n"
      ],
      "text/markdown": [
       "\n",
       "| Tree | meancirc |\n",
       "|---|---|\n",
       "| 1         |  99.57143 |\n",
       "| 2         | 135.28571 |\n",
       "| 3         |  94.00000 |\n",
       "| 4         | 139.28571 |\n",
       "| 5         | 111.14286 |\n",
       "\n"
      ],
      "text/plain": [
       "  Tree meancirc \n",
       "1 1     99.57143\n",
       "2 2    135.28571\n",
       "3 3     94.00000\n",
       "4 4    139.28571\n",
       "5 5    111.14286"
      ]
     },
     "metadata": {},
     "output_type": "display_data"
    }
   ],
   "source": [
    "sqldf(\"SELECT tree, AVG(circumference) AS meancirc FROM Orange GROUP BY tree\")"
   ]
  },
  {
   "cell_type": "markdown",
   "id": "ced3cd16",
   "metadata": {},
   "source": [
    "### Counting data"
   ]
  },
  {
   "cell_type": "code",
   "execution_count": 17,
   "id": "a5513156",
   "metadata": {},
   "outputs": [
    {
     "data": {
      "text/html": [
       "<table>\n",
       "<thead><tr><th scope=col>a</th><th scope=col>b</th></tr></thead>\n",
       "<tbody>\n",
       "\t<tr><td>1 </td><td> 1</td></tr>\n",
       "\t<tr><td>1 </td><td>NA</td></tr>\n",
       "\t<tr><td>1 </td><td>NA</td></tr>\n",
       "</tbody>\n",
       "</table>\n"
      ],
      "text/latex": [
       "\\begin{tabular}{r|ll}\n",
       " a & b\\\\\n",
       "\\hline\n",
       "\t 1  &  1\\\\\n",
       "\t 1  & NA\\\\\n",
       "\t 1  & NA\\\\\n",
       "\\end{tabular}\n"
      ],
      "text/markdown": [
       "\n",
       "| a | b |\n",
       "|---|---|\n",
       "| 1  |  1 |\n",
       "| 1  | NA |\n",
       "| 1  | NA |\n",
       "\n"
      ],
      "text/plain": [
       "  a b \n",
       "1 1  1\n",
       "2 1 NA\n",
       "3 1 NA"
      ]
     },
     "metadata": {},
     "output_type": "display_data"
    }
   ],
   "source": [
    "df <- data.frame(a = c(1,1,1), b = c(1,NA,NA))\n",
    "df"
   ]
  },
  {
   "cell_type": "markdown",
   "id": "7e039de2",
   "metadata": {},
   "source": [
    "#### count number of rows"
   ]
  },
  {
   "cell_type": "code",
   "execution_count": 18,
   "id": "069b89b9",
   "metadata": {},
   "outputs": [
    {
     "data": {
      "text/html": [
       "<table>\n",
       "<thead><tr><th scope=col>numrows</th></tr></thead>\n",
       "<tbody>\n",
       "\t<tr><td>3</td></tr>\n",
       "</tbody>\n",
       "</table>\n"
      ],
      "text/latex": [
       "\\begin{tabular}{r|l}\n",
       " numrows\\\\\n",
       "\\hline\n",
       "\t 3\\\\\n",
       "\\end{tabular}\n"
      ],
      "text/markdown": [
       "\n",
       "| numrows |\n",
       "|---|\n",
       "| 3 |\n",
       "\n"
      ],
      "text/plain": [
       "  numrows\n",
       "1 3      "
      ]
     },
     "metadata": {},
     "output_type": "display_data"
    }
   ],
   "source": [
    "sqldf(\"SELECT COUNT() AS numrows FROM df\")"
   ]
  },
  {
   "cell_type": "markdown",
   "id": "aa45e09f",
   "metadata": {},
   "source": [
    "#### count number of row at a column - NA will be ignore"
   ]
  },
  {
   "cell_type": "code",
   "execution_count": 19,
   "id": "8f9d2906",
   "metadata": {},
   "outputs": [
    {
     "data": {
      "text/html": [
       "<table>\n",
       "<thead><tr><th scope=col>COUNT(a)</th></tr></thead>\n",
       "<tbody>\n",
       "\t<tr><td>3</td></tr>\n",
       "</tbody>\n",
       "</table>\n"
      ],
      "text/latex": [
       "\\begin{tabular}{r|l}\n",
       " COUNT(a)\\\\\n",
       "\\hline\n",
       "\t 3\\\\\n",
       "\\end{tabular}\n"
      ],
      "text/markdown": [
       "\n",
       "| COUNT(a) |\n",
       "|---|\n",
       "| 3 |\n",
       "\n"
      ],
      "text/plain": [
       "  COUNT(a)\n",
       "1 3       "
      ]
     },
     "metadata": {},
     "output_type": "display_data"
    }
   ],
   "source": [
    "sqldf(\"SELECT COUNT(a) FROM df\")"
   ]
  },
  {
   "cell_type": "code",
   "execution_count": 20,
   "id": "31ceaa4e",
   "metadata": {},
   "outputs": [
    {
     "data": {
      "text/html": [
       "<table>\n",
       "<thead><tr><th scope=col>COUNT(b)</th></tr></thead>\n",
       "<tbody>\n",
       "\t<tr><td>1</td></tr>\n",
       "</tbody>\n",
       "</table>\n"
      ],
      "text/latex": [
       "\\begin{tabular}{r|l}\n",
       " COUNT(b)\\\\\n",
       "\\hline\n",
       "\t 1\\\\\n",
       "\\end{tabular}\n"
      ],
      "text/markdown": [
       "\n",
       "| COUNT(b) |\n",
       "|---|\n",
       "| 1 |\n",
       "\n"
      ],
      "text/plain": [
       "  COUNT(b)\n",
       "1 1       "
      ]
     },
     "metadata": {},
     "output_type": "display_data"
    }
   ],
   "source": [
    "sqldf(\"SELECT COUNT(b) FROM df\")"
   ]
  },
  {
   "cell_type": "code",
   "execution_count": null,
   "id": "623f361e",
   "metadata": {},
   "outputs": [],
   "source": []
  },
  {
   "cell_type": "code",
   "execution_count": null,
   "id": "1787e4de",
   "metadata": {},
   "outputs": [],
   "source": []
  },
  {
   "cell_type": "code",
   "execution_count": null,
   "id": "c12cf499",
   "metadata": {},
   "outputs": [],
   "source": []
  },
  {
   "cell_type": "code",
   "execution_count": 22,
   "id": "20caf2d5",
   "metadata": {},
   "outputs": [
    {
     "data": {
      "text/html": [
       "<ol class=list-inline>\n",
       "\t<li>'TCH003'</li>\n",
       "\t<li>'CPI204'</li>\n",
       "\t<li>'CPI236'</li>\n",
       "\t<li>'CPI237'</li>\n",
       "\t<li>'CPI238'</li>\n",
       "</ol>\n"
      ],
      "text/latex": [
       "\\begin{enumerate*}\n",
       "\\item 'TCH003'\n",
       "\\item 'CPI204'\n",
       "\\item 'CPI236'\n",
       "\\item 'CPI237'\n",
       "\\item 'CPI238'\n",
       "\\end{enumerate*}\n"
      ],
      "text/markdown": [
       "1. 'TCH003'\n",
       "2. 'CPI204'\n",
       "3. 'CPI236'\n",
       "4. 'CPI237'\n",
       "5. 'CPI238'\n",
       "\n",
       "\n"
      ],
      "text/plain": [
       "[1] \"TCH003\" \"CPI204\" \"CPI236\" \"CPI237\" \"CPI238\""
      ]
     },
     "metadata": {},
     "output_type": "display_data"
    }
   ],
   "source": [
    "vec <- c('TCH003', 'CPI204', 'CPI236', 'CPI237', 'CPI238')\n",
    "vec"
   ]
  },
  {
   "cell_type": "code",
   "execution_count": 24,
   "id": "9ef07dfe",
   "metadata": {},
   "outputs": [
    {
     "data": {
      "text/html": [
       "'TCH003,CPI204,CPI236,CPI237,CPI238'"
      ],
      "text/latex": [
       "'TCH003,CPI204,CPI236,CPI237,CPI238'"
      ],
      "text/markdown": [
       "'TCH003,CPI204,CPI236,CPI237,CPI238'"
      ],
      "text/plain": [
       "[1] \"TCH003,CPI204,CPI236,CPI237,CPI238\""
      ]
     },
     "metadata": {},
     "output_type": "display_data"
    }
   ],
   "source": [
    "paste(vec, collapse = \",\")"
   ]
  },
  {
   "cell_type": "code",
   "execution_count": 26,
   "id": "73138375",
   "metadata": {},
   "outputs": [
    {
     "data": {
      "text/html": [
       "'SELECT * FROM individual_external_id WHERE external_id IN (\\'TCH003\\', \\'CPI204\\', \\'CPI236\\', \\'CPI237\\', \\'CPI238\\')'"
      ],
      "text/latex": [
       "'SELECT * FROM individual\\_external\\_id WHERE external\\_id IN (\\textbackslash{}'TCH003\\textbackslash{}', \\textbackslash{}'CPI204\\textbackslash{}', \\textbackslash{}'CPI236\\textbackslash{}', \\textbackslash{}'CPI237\\textbackslash{}', \\textbackslash{}'CPI238\\textbackslash{}')'"
      ],
      "text/markdown": [
       "'SELECT * FROM individual_external_id WHERE external_id IN (\\'TCH003\\', \\'CPI204\\', \\'CPI236\\', \\'CPI237\\', \\'CPI238\\')'"
      ],
      "text/plain": [
       "[1] \"SELECT * FROM individual_external_id WHERE external_id IN ('TCH003', 'CPI204', 'CPI236', 'CPI237', 'CPI238')\""
      ]
     },
     "metadata": {},
     "output_type": "display_data"
    }
   ],
   "source": [
    "ll <- \"SELECT * FROM individual_external_id WHERE external_id IN ('TCH003', 'CPI204', 'CPI236', 'CPI237', 'CPI238')\"\n",
    "ll"
   ]
  },
  {
   "cell_type": "code",
   "execution_count": 27,
   "id": "caa2f37c",
   "metadata": {},
   "outputs": [
    {
     "name": "stderr",
     "output_type": "stream",
     "text": [
      "Loading required package: stringi\n"
     ]
    },
    {
     "data": {
      "text/html": [
       "'SELECT * FROM name WHERE statistic = \\'mean\\''"
      ],
      "text/latex": [
       "'SELECT * FROM name WHERE statistic = \\textbackslash{}'mean\\textbackslash{}''"
      ],
      "text/markdown": [
       "'SELECT * FROM name WHERE statistic = \\'mean\\''"
      ],
      "text/plain": [
       "[1] \"SELECT * FROM name WHERE statistic = 'mean'\""
      ]
     },
     "metadata": {},
     "output_type": "display_data"
    }
   ],
   "source": [
    "require(stringi)\n",
    "x = 'mean'\n",
    "stri_paste(\"SELECT * \",\n",
    "      \"FROM name \",\n",
    "      \"WHERE statistic = '\",x,\"'\", collapse=\"\")"
   ]
  },
  {
   "cell_type": "code",
   "execution_count": 28,
   "id": "c32b6e3d",
   "metadata": {},
   "outputs": [
    {
     "ename": "ERROR",
     "evalue": "Error in \"SELECT * FROM name WHERE statistic ='\" %+% x %+% \"'\": could not find function \"%+%\"\n",
     "output_type": "error",
     "traceback": [
      "Error in \"SELECT * FROM name WHERE statistic ='\" %+% x %+% \"'\": could not find function \"%+%\"\nTraceback:\n"
     ]
    }
   ],
   "source": [
    "\"SELECT * FROM name WHERE statistic ='\" %+% x %+% \"'\""
   ]
  },
  {
   "cell_type": "code",
   "execution_count": 33,
   "id": "cba006ef",
   "metadata": {},
   "outputs": [
    {
     "data": {
      "text/html": [
       "'SELECT * FROM individual_external_id WHERE external_id IN (TCH003,CPI204,CPI236,CPI237,CPI238)'"
      ],
      "text/latex": [
       "'SELECT * FROM individual\\_external\\_id WHERE external\\_id IN (TCH003,CPI204,CPI236,CPI237,CPI238)'"
      ],
      "text/markdown": [
       "'SELECT * FROM individual_external_id WHERE external_id IN (TCH003,CPI204,CPI236,CPI237,CPI238)'"
      ],
      "text/plain": [
       "[1] \"SELECT * FROM individual_external_id WHERE external_id IN (TCH003,CPI204,CPI236,CPI237,CPI238)\""
      ]
     },
     "metadata": {},
     "output_type": "display_data"
    }
   ],
   "source": [
    "vec_str <- paste(vec, collapse = \",\")\n",
    "stri_paste(\"SELECT * FROM individual_external_id WHERE external_id IN (\",\n",
    "           vec_str, \n",
    "           \")\", \n",
    "           collapse = \"\")"
   ]
  },
  {
   "cell_type": "code",
   "execution_count": 36,
   "id": "4ab41b25",
   "metadata": {},
   "outputs": [
    {
     "data": {
      "text/html": [
       "'\\'TCH003\\', \\'CPI204\\', \\'CPI236\\', \\'CPI237\\', \\'CPI238\\''"
      ],
      "text/latex": [
       "'\\textbackslash{}'TCH003\\textbackslash{}', \\textbackslash{}'CPI204\\textbackslash{}', \\textbackslash{}'CPI236\\textbackslash{}', \\textbackslash{}'CPI237\\textbackslash{}', \\textbackslash{}'CPI238\\textbackslash{}''"
      ],
      "text/markdown": [
       "'\\'TCH003\\', \\'CPI204\\', \\'CPI236\\', \\'CPI237\\', \\'CPI238\\''"
      ],
      "text/plain": [
       "[1] \"'TCH003', 'CPI204', 'CPI236', 'CPI237', 'CPI238'\""
      ]
     },
     "metadata": {},
     "output_type": "display_data"
    },
    {
     "data": {
      "text/html": [
       "'SELECT * FROM individual_external_id WHERE external_id IN (\\'TCH003\\', \\'CPI204\\', \\'CPI236\\', \\'CPI237\\', \\'CPI238\\')'"
      ],
      "text/latex": [
       "'SELECT * FROM individual\\_external\\_id WHERE external\\_id IN (\\textbackslash{}'TCH003\\textbackslash{}', \\textbackslash{}'CPI204\\textbackslash{}', \\textbackslash{}'CPI236\\textbackslash{}', \\textbackslash{}'CPI237\\textbackslash{}', \\textbackslash{}'CPI238\\textbackslash{}')'"
      ],
      "text/markdown": [
       "'SELECT * FROM individual_external_id WHERE external_id IN (\\'TCH003\\', \\'CPI204\\', \\'CPI236\\', \\'CPI237\\', \\'CPI238\\')'"
      ],
      "text/plain": [
       "[1] \"SELECT * FROM individual_external_id WHERE external_id IN ('TCH003', 'CPI204', 'CPI236', 'CPI237', 'CPI238')\""
      ]
     },
     "metadata": {},
     "output_type": "display_data"
    }
   ],
   "source": [
    "vec <- c('TCH003', 'CPI204', 'CPI236', 'CPI237', 'CPI238')\n",
    "# vec_str <- paste\n",
    "vec_str <- sapply(strsplit(paste(vec, collapse = \",\"), \",\"), function(x) toString(sQuote(x)))\n",
    "query <- stri_paste(\"SELECT * FROM individual_external_id WHERE external_id IN (\",\n",
    "                    vec_str, \n",
    "                    \")\", \n",
    "                    collapse = \"\")\n",
    "vec_str\n",
    "query"
   ]
  },
  {
   "cell_type": "code",
   "execution_count": 39,
   "id": "47369dd2",
   "metadata": {},
   "outputs": [
    {
     "data": {
      "text/html": [
       "<ol class=list-inline>\n",
       "\t<li>'TCH003'</li>\n",
       "\t<li>'CPI204'</li>\n",
       "\t<li>'CPI236'</li>\n",
       "</ol>\n"
      ],
      "text/latex": [
       "\\begin{enumerate*}\n",
       "\\item 'TCH003'\n",
       "\\item 'CPI204'\n",
       "\\item 'CPI236'\n",
       "\\end{enumerate*}\n"
      ],
      "text/markdown": [
       "1. 'TCH003'\n",
       "2. 'CPI204'\n",
       "3. 'CPI236'\n",
       "\n",
       "\n"
      ],
      "text/plain": [
       "[1] \"TCH003\" \"CPI204\" \"CPI236\""
      ]
     },
     "metadata": {},
     "output_type": "display_data"
    },
    {
     "data": {
      "text/html": [
       "'\\'TCH003\\', \\'CPI204\\', \\'CPI236\\''"
      ],
      "text/latex": [
       "'\\textbackslash{}'TCH003\\textbackslash{}', \\textbackslash{}'CPI204\\textbackslash{}', \\textbackslash{}'CPI236\\textbackslash{}''"
      ],
      "text/markdown": [
       "'\\'TCH003\\', \\'CPI204\\', \\'CPI236\\''"
      ],
      "text/plain": [
       "[1] \"'TCH003', 'CPI204', 'CPI236'\""
      ]
     },
     "metadata": {},
     "output_type": "display_data"
    },
    {
     "data": {
      "text/html": [
       "'SELECT * FROM individual_external_id WHERE external_id IN (\\'TCH003\\', \\'CPI204\\', \\'CPI236\\')'"
      ],
      "text/latex": [
       "'SELECT * FROM individual\\_external\\_id WHERE external\\_id IN (\\textbackslash{}'TCH003\\textbackslash{}', \\textbackslash{}'CPI204\\textbackslash{}', \\textbackslash{}'CPI236\\textbackslash{}')'"
      ],
      "text/markdown": [
       "'SELECT * FROM individual_external_id WHERE external_id IN (\\'TCH003\\', \\'CPI204\\', \\'CPI236\\')'"
      ],
      "text/plain": [
       "[1] \"SELECT * FROM individual_external_id WHERE external_id IN ('TCH003', 'CPI204', 'CPI236')\""
      ]
     },
     "metadata": {},
     "output_type": "display_data"
    }
   ],
   "source": [
    "options(useFancyQuotes = FALSE)\n",
    "vec <- c('TCH003', 'CPI204', 'CPI236')\n",
    "vec\n",
    "vec_str <- toString(sQuote(vec))\n",
    "vec_str\n",
    "query <- stri_paste(\"SELECT * FROM individual_external_id WHERE external_id IN (\",\n",
    "                    vec_str, \n",
    "                    \")\", \n",
    "                    collapse = \"\")\n",
    "query"
   ]
  },
  {
   "cell_type": "code",
   "execution_count": null,
   "id": "9cbe8973",
   "metadata": {},
   "outputs": [],
   "source": []
  }
 ],
 "metadata": {
  "kernelspec": {
   "display_name": "R",
   "language": "R",
   "name": "ir"
  },
  "language_info": {
   "codemirror_mode": "r",
   "file_extension": ".r",
   "mimetype": "text/x-r-source",
   "name": "R",
   "pygments_lexer": "r",
   "version": "3.6.1"
  }
 },
 "nbformat": 4,
 "nbformat_minor": 5
}
