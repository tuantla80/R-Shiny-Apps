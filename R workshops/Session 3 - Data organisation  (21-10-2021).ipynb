{
 "cells": [
  {
   "cell_type": "markdown",
   "id": "7b6b6771",
   "metadata": {},
   "source": [
    "```\n",
    "## Data organisation\n",
    "\n",
    "In this workshop we will look at some data from the following paper:\n",
    "\n",
    "Mantella, N. M., & Youngentob, S. L. (2014). Prenatal alcohol exposure increases postnatal acceptability of nicotine odor and taste in adolescent rats. PloS one, 9(7), e102255.\n",
    "\n",
    "The title gives you a good sense of what the study is about -- rats were exposed to either prenatal alcohol or a normal diet, and then their response to a nicotine stimulus was tested (with sucrose as a control/placebo). Take a moment to look at the data spreadsheet.\n",
    "\n",
    "These data are organised in a quite reasonable way -- they did four experiments and each gets its own sheet of the spreadsheet, and then within each sheet each row corresponds to an individual rat (measured at different stimulus concentrations). This is a little more complex than the csv style data that we have previously provided (and that statistics).\n",
    "\n",
    "We will start by just looking at the third sheet. We need to load the tidyverse, janitor, and readxl packages.\n",
    "```"
   ]
  },
  {
   "cell_type": "code",
   "execution_count": 1,
   "id": "238a5581",
   "metadata": {},
   "outputs": [
    {
     "name": "stderr",
     "output_type": "stream",
     "text": [
      "Warning message:\n",
      "\"package 'janitor' was built under R version 3.6.3\"\n",
      "Attaching package: 'janitor'\n",
      "\n",
      "The following objects are masked from 'package:stats':\n",
      "\n",
      "    chisq.test, fisher.test\n",
      "\n",
      "Warning message:\n",
      "\"package 'tidyr' was built under R version 3.6.3\"Warning message:\n",
      "\"package 'dplyr' was built under R version 3.6.3\"\n",
      "Attaching package: 'dplyr'\n",
      "\n",
      "The following objects are masked from 'package:stats':\n",
      "\n",
      "    filter, lag\n",
      "\n",
      "The following objects are masked from 'package:base':\n",
      "\n",
      "    intersect, setdiff, setequal, union\n",
      "\n"
     ]
    }
   ],
   "source": [
    "library(readxl)\n",
    "library(janitor)\n",
    "library(ggplot2)\n",
    "library(tidyr)\n",
    "library(dplyr)\n",
    "# library(data.table)\n",
    "# library(readr)\n",
    "# library(magrittr)"
   ]
  },
  {
   "cell_type": "markdown",
   "id": "558abaa8",
   "metadata": {},
   "source": [
    "## 1. Read xlsx file"
   ]
  },
  {
   "cell_type": "code",
   "execution_count": 2,
   "id": "a071fe38",
   "metadata": {},
   "outputs": [
    {
     "name": "stdout",
     "output_type": "stream",
     "text": [
      "tibble [38 x 10] (S3: tbl_df/tbl/data.frame)\n",
      " $ ANIMAL ID            : chr [1:38] \"ETF1\" \"ETF2\" \"ETF5\" \"ETF6\" ...\n",
      " $ PRENATAL EXPOSURE    : chr [1:38] \"alcohol\" \"alcohol\" \"alcohol\" \"alcohol\" ...\n",
      " $ WEIGHT               : num [1:38] 59 68 68 66 68 69 74 65 76 65 ...\n",
      " $ SEX                  : chr [1:38] \"female\" \"female\" \"female\" \"female\" ...\n",
      " $ AVERAGE LICKS (WATER): num [1:38] 54.5 71 67.2 56.2 70.2 ...\n",
      " $ AVERAGE LICKS (0.1mM): num [1:38] 54.8 70 67.8 50.2 26 ...\n",
      " $ AVERAGE LICKS (0.3mM): num [1:38] 34.4 30 35.2 47 68.8 ...\n",
      " $ AVERAGE LICKS (1.0mM): num [1:38] 46.2 69 50 56.6 51 49 52.4 68 53 53.2 ...\n",
      " $ AVERAGE LICKS (3.0mM): num [1:38] 13.6 35 30.3 48 38 ...\n",
      " $ AVERAGE LICKS (6.0mM): num [1:38] 9.33 37 21.5 29.8 7.25 ...\n"
     ]
    },
    {
     "data": {
      "text/html": [
       "<table>\n",
       "<thead><tr><th scope=col>ANIMAL ID</th><th scope=col>PRENATAL EXPOSURE</th><th scope=col>WEIGHT</th><th scope=col>SEX</th><th scope=col>AVERAGE LICKS (WATER)</th><th scope=col>AVERAGE LICKS (0.1mM)</th><th scope=col>AVERAGE LICKS (0.3mM)</th><th scope=col>AVERAGE LICKS (1.0mM)</th><th scope=col>AVERAGE LICKS (3.0mM)</th><th scope=col>AVERAGE LICKS (6.0mM)</th></tr></thead>\n",
       "<tbody>\n",
       "\t<tr><td>ETF1     </td><td>alcohol  </td><td>59       </td><td>female   </td><td>54.50    </td><td>54.80    </td><td>34.40    </td><td>46.2     </td><td>13.60000 </td><td> 9.333333</td></tr>\n",
       "\t<tr><td>ETF2     </td><td>alcohol  </td><td>68       </td><td>female   </td><td>71.00    </td><td>70.00    </td><td>30.00    </td><td>69.0     </td><td>35.00000 </td><td>37.000000</td></tr>\n",
       "\t<tr><td>ETF5     </td><td>alcohol  </td><td>68       </td><td>female   </td><td>67.25    </td><td>67.75    </td><td>35.25    </td><td>50.0     </td><td>30.33333 </td><td>21.500000</td></tr>\n",
       "</tbody>\n",
       "</table>\n"
      ],
      "text/latex": [
       "\\begin{tabular}{r|llllllllll}\n",
       " ANIMAL ID & PRENATAL EXPOSURE & WEIGHT & SEX & AVERAGE LICKS (WATER) & AVERAGE LICKS (0.1mM) & AVERAGE LICKS (0.3mM) & AVERAGE LICKS (1.0mM) & AVERAGE LICKS (3.0mM) & AVERAGE LICKS (6.0mM)\\\\\n",
       "\\hline\n",
       "\t ETF1      & alcohol   & 59        & female    & 54.50     & 54.80     & 34.40     & 46.2      & 13.60000  &  9.333333\\\\\n",
       "\t ETF2      & alcohol   & 68        & female    & 71.00     & 70.00     & 30.00     & 69.0      & 35.00000  & 37.000000\\\\\n",
       "\t ETF5      & alcohol   & 68        & female    & 67.25     & 67.75     & 35.25     & 50.0      & 30.33333  & 21.500000\\\\\n",
       "\\end{tabular}\n"
      ],
      "text/markdown": [
       "\n",
       "| ANIMAL ID | PRENATAL EXPOSURE | WEIGHT | SEX | AVERAGE LICKS (WATER) | AVERAGE LICKS (0.1mM) | AVERAGE LICKS (0.3mM) | AVERAGE LICKS (1.0mM) | AVERAGE LICKS (3.0mM) | AVERAGE LICKS (6.0mM) |\n",
       "|---|---|---|---|---|---|---|---|---|---|\n",
       "| ETF1      | alcohol   | 59        | female    | 54.50     | 54.80     | 34.40     | 46.2      | 13.60000  |  9.333333 |\n",
       "| ETF2      | alcohol   | 68        | female    | 71.00     | 70.00     | 30.00     | 69.0      | 35.00000  | 37.000000 |\n",
       "| ETF5      | alcohol   | 68        | female    | 67.25     | 67.75     | 35.25     | 50.0      | 30.33333  | 21.500000 |\n",
       "\n"
      ],
      "text/plain": [
       "  ANIMAL ID PRENATAL EXPOSURE WEIGHT SEX    AVERAGE LICKS (WATER)\n",
       "1 ETF1      alcohol           59     female 54.50                \n",
       "2 ETF2      alcohol           68     female 71.00                \n",
       "3 ETF5      alcohol           68     female 67.25                \n",
       "  AVERAGE LICKS (0.1mM) AVERAGE LICKS (0.3mM) AVERAGE LICKS (1.0mM)\n",
       "1 54.80                 34.40                 46.2                 \n",
       "2 70.00                 30.00                 69.0                 \n",
       "3 67.75                 35.25                 50.0                 \n",
       "  AVERAGE LICKS (3.0mM) AVERAGE LICKS (6.0mM)\n",
       "1 13.60000               9.333333            \n",
       "2 35.00000              37.000000            \n",
       "3 30.33333              21.500000            "
      ]
     },
     "metadata": {},
     "output_type": "display_data"
    },
    {
     "data": {
      "text/html": [
       "<table>\n",
       "<thead><tr><th scope=col>ANIMAL ID</th><th scope=col>PRENATAL EXPOSURE</th><th scope=col>WEIGHT</th><th scope=col>SEX</th><th scope=col>AVERAGE LICKS (WATER)</th><th scope=col>AVERAGE LICKS (0.1mM)</th><th scope=col>AVERAGE LICKS (0.3mM)</th><th scope=col>AVERAGE LICKS (1.0mM)</th><th scope=col>AVERAGE LICKS (3.0mM)</th><th scope=col>AVERAGE LICKS (6.0mM)</th></tr></thead>\n",
       "<tbody>\n",
       "\t<tr><td>FCM9                   </td><td>free choice liquid diet</td><td>87                     </td><td>male                   </td><td>63.50000               </td><td>56.83333               </td><td>56.00000               </td><td>60                     </td><td>55.80000               </td><td>43.2                   </td></tr>\n",
       "\t<tr><td>FCM10                  </td><td>free choice liquid diet</td><td>77                     </td><td>male                   </td><td>66.16667               </td><td>67.50000               </td><td>56.85714               </td><td>62                     </td><td>31.33333               </td><td>20.5                   </td></tr>\n",
       "\t<tr><td>FCM11                  </td><td>free choice liquid diet</td><td>76                     </td><td>male                   </td><td>61.50000               </td><td>55.75000               </td><td>28.50000               </td><td>36                     </td><td>24.00000               </td><td>20.0                   </td></tr>\n",
       "</tbody>\n",
       "</table>\n"
      ],
      "text/latex": [
       "\\begin{tabular}{r|llllllllll}\n",
       " ANIMAL ID & PRENATAL EXPOSURE & WEIGHT & SEX & AVERAGE LICKS (WATER) & AVERAGE LICKS (0.1mM) & AVERAGE LICKS (0.3mM) & AVERAGE LICKS (1.0mM) & AVERAGE LICKS (3.0mM) & AVERAGE LICKS (6.0mM)\\\\\n",
       "\\hline\n",
       "\t FCM9                    & free choice liquid diet & 87                      & male                    & 63.50000                & 56.83333                & 56.00000                & 60                      & 55.80000                & 43.2                   \\\\\n",
       "\t FCM10                   & free choice liquid diet & 77                      & male                    & 66.16667                & 67.50000                & 56.85714                & 62                      & 31.33333                & 20.5                   \\\\\n",
       "\t FCM11                   & free choice liquid diet & 76                      & male                    & 61.50000                & 55.75000                & 28.50000                & 36                      & 24.00000                & 20.0                   \\\\\n",
       "\\end{tabular}\n"
      ],
      "text/markdown": [
       "\n",
       "| ANIMAL ID | PRENATAL EXPOSURE | WEIGHT | SEX | AVERAGE LICKS (WATER) | AVERAGE LICKS (0.1mM) | AVERAGE LICKS (0.3mM) | AVERAGE LICKS (1.0mM) | AVERAGE LICKS (3.0mM) | AVERAGE LICKS (6.0mM) |\n",
       "|---|---|---|---|---|---|---|---|---|---|\n",
       "| FCM9                    | free choice liquid diet | 87                      | male                    | 63.50000                | 56.83333                | 56.00000                | 60                      | 55.80000                | 43.2                    |\n",
       "| FCM10                   | free choice liquid diet | 77                      | male                    | 66.16667                | 67.50000                | 56.85714                | 62                      | 31.33333                | 20.5                    |\n",
       "| FCM11                   | free choice liquid diet | 76                      | male                    | 61.50000                | 55.75000                | 28.50000                | 36                      | 24.00000                | 20.0                    |\n",
       "\n"
      ],
      "text/plain": [
       "  ANIMAL ID PRENATAL EXPOSURE       WEIGHT SEX  AVERAGE LICKS (WATER)\n",
       "1 FCM9      free choice liquid diet 87     male 63.50000             \n",
       "2 FCM10     free choice liquid diet 77     male 66.16667             \n",
       "3 FCM11     free choice liquid diet 76     male 61.50000             \n",
       "  AVERAGE LICKS (0.1mM) AVERAGE LICKS (0.3mM) AVERAGE LICKS (1.0mM)\n",
       "1 56.83333              56.00000              60                   \n",
       "2 67.50000              56.85714              62                   \n",
       "3 55.75000              28.50000              36                   \n",
       "  AVERAGE LICKS (3.0mM) AVERAGE LICKS (6.0mM)\n",
       "1 55.80000              43.2                 \n",
       "2 31.33333              20.5                 \n",
       "3 24.00000              20.0                 "
      ]
     },
     "metadata": {},
     "output_type": "display_data"
    }
   ],
   "source": [
    "nicotine_avg <- read_xlsx(path = 'data/Brief Access Lick Data.xlsx', \n",
    "                          sheet = 'Nicotine Average Lick Data')\n",
    "str(nicotine_avg)\n",
    "head(nicotine_avg, 3)\n",
    "tail(nicotine_avg, 3)"
   ]
  },
  {
   "cell_type": "markdown",
   "id": "15ff6ae6",
   "metadata": {},
   "source": [
    "## 2. clean_names() and change column names"
   ]
  },
  {
   "cell_type": "code",
   "execution_count": 3,
   "id": "708633b3",
   "metadata": {},
   "outputs": [
    {
     "name": "stdout",
     "output_type": "stream",
     "text": [
      "tibble [38 x 10] (S3: tbl_df/tbl/data.frame)\n",
      " $ animal_id           : chr [1:38] \"ETF1\" \"ETF2\" \"ETF5\" \"ETF6\" ...\n",
      " $ prenatal_exposure   : chr [1:38] \"alcohol\" \"alcohol\" \"alcohol\" \"alcohol\" ...\n",
      " $ weight              : num [1:38] 59 68 68 66 68 69 74 65 76 65 ...\n",
      " $ sex                 : chr [1:38] \"female\" \"female\" \"female\" \"female\" ...\n",
      " $ average_licks_water : num [1:38] 54.5 71 67.2 56.2 70.2 ...\n",
      " $ average_licks_0_1m_m: num [1:38] 54.8 70 67.8 50.2 26 ...\n",
      " $ average_licks_0_3m_m: num [1:38] 34.4 30 35.2 47 68.8 ...\n",
      " $ average_licks_1_0m_m: num [1:38] 46.2 69 50 56.6 51 49 52.4 68 53 53.2 ...\n",
      " $ average_licks_3_0m_m: num [1:38] 13.6 35 30.3 48 38 ...\n",
      " $ average_licks_6_0m_m: num [1:38] 9.33 37 21.5 29.8 7.25 ...\n"
     ]
    },
    {
     "data": {
      "text/html": [
       "<table>\n",
       "<thead><tr><th scope=col>animal_id</th><th scope=col>prenatal_exposure</th><th scope=col>weight</th><th scope=col>sex</th><th scope=col>average_licks_water</th><th scope=col>average_licks_0_1m_m</th><th scope=col>average_licks_0_3m_m</th><th scope=col>average_licks_1_0m_m</th><th scope=col>average_licks_3_0m_m</th><th scope=col>average_licks_6_0m_m</th></tr></thead>\n",
       "<tbody>\n",
       "\t<tr><td>ETF1     </td><td>alcohol  </td><td>59       </td><td>female   </td><td>54.50    </td><td>54.80    </td><td>34.40    </td><td>46.2     </td><td>13.60000 </td><td> 9.333333</td></tr>\n",
       "\t<tr><td>ETF2     </td><td>alcohol  </td><td>68       </td><td>female   </td><td>71.00    </td><td>70.00    </td><td>30.00    </td><td>69.0     </td><td>35.00000 </td><td>37.000000</td></tr>\n",
       "\t<tr><td>ETF5     </td><td>alcohol  </td><td>68       </td><td>female   </td><td>67.25    </td><td>67.75    </td><td>35.25    </td><td>50.0     </td><td>30.33333 </td><td>21.500000</td></tr>\n",
       "</tbody>\n",
       "</table>\n"
      ],
      "text/latex": [
       "\\begin{tabular}{r|llllllllll}\n",
       " animal\\_id & prenatal\\_exposure & weight & sex & average\\_licks\\_water & average\\_licks\\_0\\_1m\\_m & average\\_licks\\_0\\_3m\\_m & average\\_licks\\_1\\_0m\\_m & average\\_licks\\_3\\_0m\\_m & average\\_licks\\_6\\_0m\\_m\\\\\n",
       "\\hline\n",
       "\t ETF1      & alcohol   & 59        & female    & 54.50     & 54.80     & 34.40     & 46.2      & 13.60000  &  9.333333\\\\\n",
       "\t ETF2      & alcohol   & 68        & female    & 71.00     & 70.00     & 30.00     & 69.0      & 35.00000  & 37.000000\\\\\n",
       "\t ETF5      & alcohol   & 68        & female    & 67.25     & 67.75     & 35.25     & 50.0      & 30.33333  & 21.500000\\\\\n",
       "\\end{tabular}\n"
      ],
      "text/markdown": [
       "\n",
       "| animal_id | prenatal_exposure | weight | sex | average_licks_water | average_licks_0_1m_m | average_licks_0_3m_m | average_licks_1_0m_m | average_licks_3_0m_m | average_licks_6_0m_m |\n",
       "|---|---|---|---|---|---|---|---|---|---|\n",
       "| ETF1      | alcohol   | 59        | female    | 54.50     | 54.80     | 34.40     | 46.2      | 13.60000  |  9.333333 |\n",
       "| ETF2      | alcohol   | 68        | female    | 71.00     | 70.00     | 30.00     | 69.0      | 35.00000  | 37.000000 |\n",
       "| ETF5      | alcohol   | 68        | female    | 67.25     | 67.75     | 35.25     | 50.0      | 30.33333  | 21.500000 |\n",
       "\n"
      ],
      "text/plain": [
       "  animal_id prenatal_exposure weight sex    average_licks_water\n",
       "1 ETF1      alcohol           59     female 54.50              \n",
       "2 ETF2      alcohol           68     female 71.00              \n",
       "3 ETF5      alcohol           68     female 67.25              \n",
       "  average_licks_0_1m_m average_licks_0_3m_m average_licks_1_0m_m\n",
       "1 54.80                34.40                46.2                \n",
       "2 70.00                30.00                69.0                \n",
       "3 67.75                35.25                50.0                \n",
       "  average_licks_3_0m_m average_licks_6_0m_m\n",
       "1 13.60000              9.333333           \n",
       "2 35.00000             37.000000           \n",
       "3 30.33333             21.500000           "
      ]
     },
     "metadata": {},
     "output_type": "display_data"
    },
    {
     "data": {
      "text/html": [
       "<table>\n",
       "<thead><tr><th scope=col>animal_id</th><th scope=col>prenatal_exposure</th><th scope=col>weight</th><th scope=col>sex</th><th scope=col>average_licks_water</th><th scope=col>average_licks_0_1m_m</th><th scope=col>average_licks_0_3m_m</th><th scope=col>average_licks_1_0m_m</th><th scope=col>average_licks_3_0m_m</th><th scope=col>average_licks_6_0m_m</th></tr></thead>\n",
       "<tbody>\n",
       "\t<tr><td>FCM9                   </td><td>free choice liquid diet</td><td>87                     </td><td>male                   </td><td>63.50000               </td><td>56.83333               </td><td>56.00000               </td><td>60                     </td><td>55.80000               </td><td>43.2                   </td></tr>\n",
       "\t<tr><td>FCM10                  </td><td>free choice liquid diet</td><td>77                     </td><td>male                   </td><td>66.16667               </td><td>67.50000               </td><td>56.85714               </td><td>62                     </td><td>31.33333               </td><td>20.5                   </td></tr>\n",
       "\t<tr><td>FCM11                  </td><td>free choice liquid diet</td><td>76                     </td><td>male                   </td><td>61.50000               </td><td>55.75000               </td><td>28.50000               </td><td>36                     </td><td>24.00000               </td><td>20.0                   </td></tr>\n",
       "</tbody>\n",
       "</table>\n"
      ],
      "text/latex": [
       "\\begin{tabular}{r|llllllllll}\n",
       " animal\\_id & prenatal\\_exposure & weight & sex & average\\_licks\\_water & average\\_licks\\_0\\_1m\\_m & average\\_licks\\_0\\_3m\\_m & average\\_licks\\_1\\_0m\\_m & average\\_licks\\_3\\_0m\\_m & average\\_licks\\_6\\_0m\\_m\\\\\n",
       "\\hline\n",
       "\t FCM9                    & free choice liquid diet & 87                      & male                    & 63.50000                & 56.83333                & 56.00000                & 60                      & 55.80000                & 43.2                   \\\\\n",
       "\t FCM10                   & free choice liquid diet & 77                      & male                    & 66.16667                & 67.50000                & 56.85714                & 62                      & 31.33333                & 20.5                   \\\\\n",
       "\t FCM11                   & free choice liquid diet & 76                      & male                    & 61.50000                & 55.75000                & 28.50000                & 36                      & 24.00000                & 20.0                   \\\\\n",
       "\\end{tabular}\n"
      ],
      "text/markdown": [
       "\n",
       "| animal_id | prenatal_exposure | weight | sex | average_licks_water | average_licks_0_1m_m | average_licks_0_3m_m | average_licks_1_0m_m | average_licks_3_0m_m | average_licks_6_0m_m |\n",
       "|---|---|---|---|---|---|---|---|---|---|\n",
       "| FCM9                    | free choice liquid diet | 87                      | male                    | 63.50000                | 56.83333                | 56.00000                | 60                      | 55.80000                | 43.2                    |\n",
       "| FCM10                   | free choice liquid diet | 77                      | male                    | 66.16667                | 67.50000                | 56.85714                | 62                      | 31.33333                | 20.5                    |\n",
       "| FCM11                   | free choice liquid diet | 76                      | male                    | 61.50000                | 55.75000                | 28.50000                | 36                      | 24.00000                | 20.0                    |\n",
       "\n"
      ],
      "text/plain": [
       "  animal_id prenatal_exposure       weight sex  average_licks_water\n",
       "1 FCM9      free choice liquid diet 87     male 63.50000           \n",
       "2 FCM10     free choice liquid diet 77     male 66.16667           \n",
       "3 FCM11     free choice liquid diet 76     male 61.50000           \n",
       "  average_licks_0_1m_m average_licks_0_3m_m average_licks_1_0m_m\n",
       "1 56.83333             56.00000             60                  \n",
       "2 67.50000             56.85714             62                  \n",
       "3 55.75000             28.50000             36                  \n",
       "  average_licks_3_0m_m average_licks_6_0m_m\n",
       "1 55.80000             43.2                \n",
       "2 31.33333             20.5                \n",
       "3 24.00000             20.0                "
      ]
     },
     "metadata": {},
     "output_type": "display_data"
    }
   ],
   "source": [
    "nicotine_avg <- clean_names(nicotine_avg)\n",
    "str(nicotine_avg)\n",
    "head(nicotine_avg, 3)\n",
    "tail(nicotine_avg, 3)"
   ]
  },
  {
   "cell_type": "code",
   "execution_count": 4,
   "id": "ba285f9e",
   "metadata": {},
   "outputs": [],
   "source": [
    "# Note: if filter() exist in several packages\n",
    "# (1) Use the default latest imported one\n",
    "# (2) Specify package name: E. dplyr::filter"
   ]
  },
  {
   "cell_type": "markdown",
   "id": "a0151669",
   "metadata": {},
   "source": [
    "#### Manual change column names"
   ]
  },
  {
   "cell_type": "code",
   "execution_count": 5,
   "id": "2d5408ab",
   "metadata": {},
   "outputs": [
    {
     "data": {
      "text/html": [
       "<ol class=list-inline>\n",
       "\t<li>'animal_id'</li>\n",
       "\t<li>'prenatal_exposure'</li>\n",
       "\t<li>'weight'</li>\n",
       "\t<li>'sex'</li>\n",
       "\t<li>'average_licks_water'</li>\n",
       "\t<li>'average_licks_0_1m_m'</li>\n",
       "\t<li>'average_licks_0_3m_m'</li>\n",
       "\t<li>'average_licks_1_0m_m'</li>\n",
       "\t<li>'average_licks_3_0m_m'</li>\n",
       "\t<li>'average_licks_6_0m_m'</li>\n",
       "</ol>\n"
      ],
      "text/latex": [
       "\\begin{enumerate*}\n",
       "\\item 'animal\\_id'\n",
       "\\item 'prenatal\\_exposure'\n",
       "\\item 'weight'\n",
       "\\item 'sex'\n",
       "\\item 'average\\_licks\\_water'\n",
       "\\item 'average\\_licks\\_0\\_1m\\_m'\n",
       "\\item 'average\\_licks\\_0\\_3m\\_m'\n",
       "\\item 'average\\_licks\\_1\\_0m\\_m'\n",
       "\\item 'average\\_licks\\_3\\_0m\\_m'\n",
       "\\item 'average\\_licks\\_6\\_0m\\_m'\n",
       "\\end{enumerate*}\n"
      ],
      "text/markdown": [
       "1. 'animal_id'\n",
       "2. 'prenatal_exposure'\n",
       "3. 'weight'\n",
       "4. 'sex'\n",
       "5. 'average_licks_water'\n",
       "6. 'average_licks_0_1m_m'\n",
       "7. 'average_licks_0_3m_m'\n",
       "8. 'average_licks_1_0m_m'\n",
       "9. 'average_licks_3_0m_m'\n",
       "10. 'average_licks_6_0m_m'\n",
       "\n",
       "\n"
      ],
      "text/plain": [
       " [1] \"animal_id\"            \"prenatal_exposure\"    \"weight\"              \n",
       " [4] \"sex\"                  \"average_licks_water\"  \"average_licks_0_1m_m\"\n",
       " [7] \"average_licks_0_3m_m\" \"average_licks_1_0m_m\" \"average_licks_3_0m_m\"\n",
       "[10] \"average_licks_6_0m_m\""
      ]
     },
     "metadata": {},
     "output_type": "display_data"
    }
   ],
   "source": [
    "names(nicotine_avg)"
   ]
  },
  {
   "cell_type": "code",
   "execution_count": 6,
   "id": "ed9fa9a8",
   "metadata": {},
   "outputs": [
    {
     "name": "stdout",
     "output_type": "stream",
     "text": [
      " [1] \"animal_id\"            \"prenatal_exposure\"    \"weight\"              \n",
      " [4] \"sex\"                  \"average_licks_water\"  \"average_licks_0_1m_m\"\n",
      " [7] \"average_licks_0_3m_m\" \"average_licks_1_0m_m\" \"average_licks_3_0m_m\"\n",
      "[10] \"average_licks_6_0m_m\"\n"
     ]
    }
   ],
   "source": [
    "print(names(nicotine_avg))"
   ]
  },
  {
   "cell_type": "code",
   "execution_count": 7,
   "id": "c8347603",
   "metadata": {},
   "outputs": [
    {
     "data": {
      "text/html": [
       "'average_licks_water'"
      ],
      "text/latex": [
       "'average\\_licks\\_water'"
      ],
      "text/markdown": [
       "'average_licks_water'"
      ],
      "text/plain": [
       "[1] \"average_licks_water\""
      ]
     },
     "metadata": {},
     "output_type": "display_data"
    }
   ],
   "source": [
    "names(nicotine_avg)[5]"
   ]
  },
  {
   "cell_type": "code",
   "execution_count": 8,
   "id": "bf600416",
   "metadata": {},
   "outputs": [],
   "source": [
    "names(nicotine_avg)[5] <- 'avgLicks_0'"
   ]
  },
  {
   "cell_type": "code",
   "execution_count": 9,
   "id": "961e86be",
   "metadata": {},
   "outputs": [
    {
     "data": {
      "text/html": [
       "<ol class=list-inline>\n",
       "\t<li>'animal_id'</li>\n",
       "\t<li>'prenatal_exposure'</li>\n",
       "\t<li>'weight'</li>\n",
       "\t<li>'sex'</li>\n",
       "\t<li>'avgLicks_0'</li>\n",
       "\t<li>'average_licks_0_1m_m'</li>\n",
       "\t<li>'average_licks_0_3m_m'</li>\n",
       "\t<li>'average_licks_1_0m_m'</li>\n",
       "\t<li>'average_licks_3_0m_m'</li>\n",
       "\t<li>'average_licks_6_0m_m'</li>\n",
       "</ol>\n"
      ],
      "text/latex": [
       "\\begin{enumerate*}\n",
       "\\item 'animal\\_id'\n",
       "\\item 'prenatal\\_exposure'\n",
       "\\item 'weight'\n",
       "\\item 'sex'\n",
       "\\item 'avgLicks\\_0'\n",
       "\\item 'average\\_licks\\_0\\_1m\\_m'\n",
       "\\item 'average\\_licks\\_0\\_3m\\_m'\n",
       "\\item 'average\\_licks\\_1\\_0m\\_m'\n",
       "\\item 'average\\_licks\\_3\\_0m\\_m'\n",
       "\\item 'average\\_licks\\_6\\_0m\\_m'\n",
       "\\end{enumerate*}\n"
      ],
      "text/markdown": [
       "1. 'animal_id'\n",
       "2. 'prenatal_exposure'\n",
       "3. 'weight'\n",
       "4. 'sex'\n",
       "5. 'avgLicks_0'\n",
       "6. 'average_licks_0_1m_m'\n",
       "7. 'average_licks_0_3m_m'\n",
       "8. 'average_licks_1_0m_m'\n",
       "9. 'average_licks_3_0m_m'\n",
       "10. 'average_licks_6_0m_m'\n",
       "\n",
       "\n"
      ],
      "text/plain": [
       " [1] \"animal_id\"            \"prenatal_exposure\"    \"weight\"              \n",
       " [4] \"sex\"                  \"avgLicks_0\"           \"average_licks_0_1m_m\"\n",
       " [7] \"average_licks_0_3m_m\" \"average_licks_1_0m_m\" \"average_licks_3_0m_m\"\n",
       "[10] \"average_licks_6_0m_m\""
      ]
     },
     "metadata": {},
     "output_type": "display_data"
    }
   ],
   "source": [
    "names(nicotine_avg)"
   ]
  },
  {
   "cell_type": "code",
   "execution_count": 10,
   "id": "56086e52",
   "metadata": {},
   "outputs": [
    {
     "data": {
      "text/html": [
       "<ol class=list-inline>\n",
       "\t<li>'animal_id'</li>\n",
       "\t<li>'prenatal_exposure'</li>\n",
       "\t<li>'weight'</li>\n",
       "\t<li>'sex'</li>\n",
       "\t<li>'avgLicks_0'</li>\n",
       "\t<li>'avgLicks_0.1'</li>\n",
       "\t<li>'avgLicks_0.3'</li>\n",
       "\t<li>'avgLicks_1'</li>\n",
       "\t<li>'avgLicks_3'</li>\n",
       "\t<li>'avgLicks_6'</li>\n",
       "</ol>\n"
      ],
      "text/latex": [
       "\\begin{enumerate*}\n",
       "\\item 'animal\\_id'\n",
       "\\item 'prenatal\\_exposure'\n",
       "\\item 'weight'\n",
       "\\item 'sex'\n",
       "\\item 'avgLicks\\_0'\n",
       "\\item 'avgLicks\\_0.1'\n",
       "\\item 'avgLicks\\_0.3'\n",
       "\\item 'avgLicks\\_1'\n",
       "\\item 'avgLicks\\_3'\n",
       "\\item 'avgLicks\\_6'\n",
       "\\end{enumerate*}\n"
      ],
      "text/markdown": [
       "1. 'animal_id'\n",
       "2. 'prenatal_exposure'\n",
       "3. 'weight'\n",
       "4. 'sex'\n",
       "5. 'avgLicks_0'\n",
       "6. 'avgLicks_0.1'\n",
       "7. 'avgLicks_0.3'\n",
       "8. 'avgLicks_1'\n",
       "9. 'avgLicks_3'\n",
       "10. 'avgLicks_6'\n",
       "\n",
       "\n"
      ],
      "text/plain": [
       " [1] \"animal_id\"         \"prenatal_exposure\" \"weight\"           \n",
       " [4] \"sex\"               \"avgLicks_0\"        \"avgLicks_0.1\"     \n",
       " [7] \"avgLicks_0.3\"      \"avgLicks_1\"        \"avgLicks_3\"       \n",
       "[10] \"avgLicks_6\"       "
      ]
     },
     "metadata": {},
     "output_type": "display_data"
    }
   ],
   "source": [
    "names(nicotine_avg)[6] <- 'avgLicks_0.1'\n",
    "names(nicotine_avg)[7] <- 'avgLicks_0.3'\n",
    "names(nicotine_avg)[8] <- 'avgLicks_1'\n",
    "names(nicotine_avg)[9] <- 'avgLicks_3'\n",
    "names(nicotine_avg)[10] <- 'avgLicks_6'\n",
    "names(nicotine_avg)"
   ]
  },
  {
   "cell_type": "markdown",
   "id": "b88d8f55",
   "metadata": {},
   "source": [
    "## 3. group_by"
   ]
  },
  {
   "cell_type": "code",
   "execution_count": 11,
   "id": "ed50cfd8",
   "metadata": {},
   "outputs": [
    {
     "name": "stderr",
     "output_type": "stream",
     "text": [
      "`summarise()` has grouped output by 'sex'. You can override using the `.groups` argument.\n"
     ]
    },
    {
     "data": {
      "text/html": [
       "<ol class=list-inline>\n",
       "\t<li>4</li>\n",
       "\t<li>3</li>\n",
       "</ol>\n"
      ],
      "text/latex": [
       "\\begin{enumerate*}\n",
       "\\item 4\n",
       "\\item 3\n",
       "\\end{enumerate*}\n"
      ],
      "text/markdown": [
       "1. 4\n",
       "2. 3\n",
       "\n",
       "\n"
      ],
      "text/plain": [
       "[1] 4 3"
      ]
     },
     "metadata": {},
     "output_type": "display_data"
    },
    {
     "data": {
      "text/html": [
       "<table>\n",
       "<thead><tr><th scope=col>sex</th><th scope=col>prenatal_exposure</th><th scope=col>count</th></tr></thead>\n",
       "<tbody>\n",
       "\t<tr><td>female                 </td><td>alcohol                </td><td> 9                     </td></tr>\n",
       "\t<tr><td>female                 </td><td>free choice liquid diet</td><td>10                     </td></tr>\n",
       "\t<tr><td>male                   </td><td>alcohol                </td><td>10                     </td></tr>\n",
       "\t<tr><td>male                   </td><td>free choice liquid diet</td><td> 9                     </td></tr>\n",
       "</tbody>\n",
       "</table>\n"
      ],
      "text/latex": [
       "\\begin{tabular}{r|lll}\n",
       " sex & prenatal\\_exposure & count\\\\\n",
       "\\hline\n",
       "\t female                  & alcohol                 &  9                     \\\\\n",
       "\t female                  & free choice liquid diet & 10                     \\\\\n",
       "\t male                    & alcohol                 & 10                     \\\\\n",
       "\t male                    & free choice liquid diet &  9                     \\\\\n",
       "\\end{tabular}\n"
      ],
      "text/markdown": [
       "\n",
       "| sex | prenatal_exposure | count |\n",
       "|---|---|---|\n",
       "| female                  | alcohol                 |  9                      |\n",
       "| female                  | free choice liquid diet | 10                      |\n",
       "| male                    | alcohol                 | 10                      |\n",
       "| male                    | free choice liquid diet |  9                      |\n",
       "\n"
      ],
      "text/plain": [
       "  sex    prenatal_exposure       count\n",
       "1 female alcohol                  9   \n",
       "2 female free choice liquid diet 10   \n",
       "3 male   alcohol                 10   \n",
       "4 male   free choice liquid diet  9   "
      ]
     },
     "metadata": {},
     "output_type": "display_data"
    }
   ],
   "source": [
    "# group_by and summarise \"count\"\n",
    "df_gb <- nicotine_avg %>%\n",
    "            group_by(sex, prenatal_exposure) %>%\n",
    "            summarise(count = n())\n",
    "dim(df_gb)\n",
    "df_gb"
   ]
  },
  {
   "cell_type": "code",
   "execution_count": 12,
   "id": "148a193d",
   "metadata": {},
   "outputs": [
    {
     "name": "stderr",
     "output_type": "stream",
     "text": [
      "`summarise()` has grouped output by 'sex'. You can override using the `.groups` argument.\n"
     ]
    },
    {
     "data": {
      "text/html": [
       "<ol class=list-inline>\n",
       "\t<li>4</li>\n",
       "\t<li>5</li>\n",
       "</ol>\n"
      ],
      "text/latex": [
       "\\begin{enumerate*}\n",
       "\\item 4\n",
       "\\item 5\n",
       "\\end{enumerate*}\n"
      ],
      "text/markdown": [
       "1. 4\n",
       "2. 5\n",
       "\n",
       "\n"
      ],
      "text/plain": [
       "[1] 4 5"
      ]
     },
     "metadata": {},
     "output_type": "display_data"
    },
    {
     "data": {
      "text/html": [
       "<table>\n",
       "<thead><tr><th scope=col>sex</th><th scope=col>prenatal_exposure</th><th scope=col>count</th><th scope=col>mean_weight</th><th scope=col>mean_avgLicks_0</th></tr></thead>\n",
       "<tbody>\n",
       "\t<tr><td>female                 </td><td>alcohol                </td><td> 9                     </td><td>68.11111               </td><td>63.72222               </td></tr>\n",
       "\t<tr><td>female                 </td><td>free choice liquid diet</td><td>10                     </td><td>72.10000               </td><td>54.78667               </td></tr>\n",
       "\t<tr><td>male                   </td><td>alcohol                </td><td>10                     </td><td>72.50000               </td><td>59.20000               </td></tr>\n",
       "\t<tr><td>male                   </td><td>free choice liquid diet</td><td> 9                     </td><td>78.00000               </td><td>56.02778               </td></tr>\n",
       "</tbody>\n",
       "</table>\n"
      ],
      "text/latex": [
       "\\begin{tabular}{r|lllll}\n",
       " sex & prenatal\\_exposure & count & mean\\_weight & mean\\_avgLicks\\_0\\\\\n",
       "\\hline\n",
       "\t female                  & alcohol                 &  9                      & 68.11111                & 63.72222               \\\\\n",
       "\t female                  & free choice liquid diet & 10                      & 72.10000                & 54.78667               \\\\\n",
       "\t male                    & alcohol                 & 10                      & 72.50000                & 59.20000               \\\\\n",
       "\t male                    & free choice liquid diet &  9                      & 78.00000                & 56.02778               \\\\\n",
       "\\end{tabular}\n"
      ],
      "text/markdown": [
       "\n",
       "| sex | prenatal_exposure | count | mean_weight | mean_avgLicks_0 |\n",
       "|---|---|---|---|---|\n",
       "| female                  | alcohol                 |  9                      | 68.11111                | 63.72222                |\n",
       "| female                  | free choice liquid diet | 10                      | 72.10000                | 54.78667                |\n",
       "| male                    | alcohol                 | 10                      | 72.50000                | 59.20000                |\n",
       "| male                    | free choice liquid diet |  9                      | 78.00000                | 56.02778                |\n",
       "\n"
      ],
      "text/plain": [
       "  sex    prenatal_exposure       count mean_weight mean_avgLicks_0\n",
       "1 female alcohol                  9    68.11111    63.72222       \n",
       "2 female free choice liquid diet 10    72.10000    54.78667       \n",
       "3 male   alcohol                 10    72.50000    59.20000       \n",
       "4 male   free choice liquid diet  9    78.00000    56.02778       "
      ]
     },
     "metadata": {},
     "output_type": "display_data"
    }
   ],
   "source": [
    "# group_by and summarise \"count\"\n",
    "df_gb <- nicotine_avg %>%\n",
    "            group_by(sex, prenatal_exposure) %>%\n",
    "            summarise(count = n(), \n",
    "                      mean_weight = mean(weight), \n",
    "                      mean_avgLicks_0 = mean(avgLicks_0))\n",
    "dim(df_gb)\n",
    "df_gb"
   ]
  },
  {
   "cell_type": "code",
   "execution_count": 13,
   "id": "4afbeda9",
   "metadata": {},
   "outputs": [
    {
     "data": {
      "image/png": "[encoded data removed]",
      "text/plain": [
       "plot without title"
      ]
     },
     "metadata": {},
     "output_type": "display_data"
    }
   ],
   "source": [
    "options(repr.plot.width = 8, repr.plot.height = 3.5)\n",
    "\n",
    "ggplot(nicotine_avg, aes(x=prenatal_exposure, \n",
    "                         y=avgLicks_0,\n",
    "                         fill=sex))+\n",
    "geom_boxplot() "
   ]
  },
  {
   "cell_type": "code",
   "execution_count": 14,
   "id": "b0ffebff",
   "metadata": {},
   "outputs": [
    {
     "data": {
      "image/png": "[encoded data removed]",
      "text/plain": [
       "plot without title"
      ]
     },
     "metadata": {},
     "output_type": "display_data"
    }
   ],
   "source": [
    "options(repr.plot.width = 8, repr.plot.height = 3.5)\n",
    "\n",
    "ggplot(nicotine_avg, aes(x=prenatal_exposure, \n",
    "                         y=weight,\n",
    "                         fill=sex))+\n",
    "geom_boxplot() "
   ]
  },
  {
   "cell_type": "code",
   "execution_count": 15,
   "id": "c9b2bd39",
   "metadata": {},
   "outputs": [
    {
     "data": {
      "image/png": "[encoded data removed]",
      "text/plain": [
       "plot without title"
      ]
     },
     "metadata": {},
     "output_type": "display_data"
    }
   ],
   "source": [
    "ggplot(nicotine_avg, \n",
    "       aes(x=avgLicks_0, \n",
    "           fill=sex)) +\n",
    "   geom_density(alpha = 0.5)"
   ]
  },
  {
   "cell_type": "code",
   "execution_count": 16,
   "id": "d292f8ad",
   "metadata": {},
   "outputs": [
    {
     "data": {
      "text/html": [
       "<ol class=list-inline>\n",
       "\t<li>'animal_id'</li>\n",
       "\t<li>'prenatal_exposure'</li>\n",
       "\t<li>'weight'</li>\n",
       "\t<li>'sex'</li>\n",
       "\t<li>'avgLicks_0'</li>\n",
       "\t<li>'avgLicks_0.1'</li>\n",
       "\t<li>'avgLicks_0.3'</li>\n",
       "\t<li>'avgLicks_1'</li>\n",
       "\t<li>'avgLicks_3'</li>\n",
       "\t<li>'avgLicks_6'</li>\n",
       "</ol>\n"
      ],
      "text/latex": [
       "\\begin{enumerate*}\n",
       "\\item 'animal\\_id'\n",
       "\\item 'prenatal\\_exposure'\n",
       "\\item 'weight'\n",
       "\\item 'sex'\n",
       "\\item 'avgLicks\\_0'\n",
       "\\item 'avgLicks\\_0.1'\n",
       "\\item 'avgLicks\\_0.3'\n",
       "\\item 'avgLicks\\_1'\n",
       "\\item 'avgLicks\\_3'\n",
       "\\item 'avgLicks\\_6'\n",
       "\\end{enumerate*}\n"
      ],
      "text/markdown": [
       "1. 'animal_id'\n",
       "2. 'prenatal_exposure'\n",
       "3. 'weight'\n",
       "4. 'sex'\n",
       "5. 'avgLicks_0'\n",
       "6. 'avgLicks_0.1'\n",
       "7. 'avgLicks_0.3'\n",
       "8. 'avgLicks_1'\n",
       "9. 'avgLicks_3'\n",
       "10. 'avgLicks_6'\n",
       "\n",
       "\n"
      ],
      "text/plain": [
       " [1] \"animal_id\"         \"prenatal_exposure\" \"weight\"           \n",
       " [4] \"sex\"               \"avgLicks_0\"        \"avgLicks_0.1\"     \n",
       " [7] \"avgLicks_0.3\"      \"avgLicks_1\"        \"avgLicks_3\"       \n",
       "[10] \"avgLicks_6\"       "
      ]
     },
     "metadata": {},
     "output_type": "display_data"
    }
   ],
   "source": [
    "names(nicotine_avg)"
   ]
  },
  {
   "cell_type": "markdown",
   "id": "12d835ab",
   "metadata": {},
   "source": [
    "## 4. Pivot "
   ]
  },
  {
   "cell_type": "code",
   "execution_count": 17,
   "id": "7766888c",
   "metadata": {},
   "outputs": [
    {
     "name": "stdout",
     "output_type": "stream",
     "text": [
      "tibble [228 x 6] (S3: tbl_df/tbl/data.frame)\n",
      " $ animal_id        : chr [1:228] \"ETF1\" \"ETF1\" \"ETF1\" \"ETF1\" ...\n",
      " $ prenatal_exposure: chr [1:228] \"alcohol\" \"alcohol\" \"alcohol\" \"alcohol\" ...\n",
      " $ weight           : num [1:228] 59 59 59 59 59 59 68 68 68 68 ...\n",
      " $ sex              : chr [1:228] \"female\" \"female\" \"female\" \"female\" ...\n",
      " $ concentration    : chr [1:228] \"0\" \"0.1\" \"0.3\" \"1\" ...\n",
      " $ avgLicks         : num [1:228] 54.5 54.8 34.4 46.2 13.6 ...\n"
     ]
    },
    {
     "data": {
      "text/html": [
       "<table>\n",
       "<thead><tr><th scope=col>animal_id</th><th scope=col>prenatal_exposure</th><th scope=col>weight</th><th scope=col>sex</th><th scope=col>concentration</th><th scope=col>avgLicks</th></tr></thead>\n",
       "<tbody>\n",
       "\t<tr><td>ETF1   </td><td>alcohol</td><td>59     </td><td>female </td><td>0      </td><td>54.5   </td></tr>\n",
       "\t<tr><td>ETF1   </td><td>alcohol</td><td>59     </td><td>female </td><td>0.1    </td><td>54.8   </td></tr>\n",
       "\t<tr><td>ETF1   </td><td>alcohol</td><td>59     </td><td>female </td><td>0.3    </td><td>34.4   </td></tr>\n",
       "</tbody>\n",
       "</table>\n"
      ],
      "text/latex": [
       "\\begin{tabular}{r|llllll}\n",
       " animal\\_id & prenatal\\_exposure & weight & sex & concentration & avgLicks\\\\\n",
       "\\hline\n",
       "\t ETF1    & alcohol & 59      & female  & 0       & 54.5   \\\\\n",
       "\t ETF1    & alcohol & 59      & female  & 0.1     & 54.8   \\\\\n",
       "\t ETF1    & alcohol & 59      & female  & 0.3     & 34.4   \\\\\n",
       "\\end{tabular}\n"
      ],
      "text/markdown": [
       "\n",
       "| animal_id | prenatal_exposure | weight | sex | concentration | avgLicks |\n",
       "|---|---|---|---|---|---|\n",
       "| ETF1    | alcohol | 59      | female  | 0       | 54.5    |\n",
       "| ETF1    | alcohol | 59      | female  | 0.1     | 54.8    |\n",
       "| ETF1    | alcohol | 59      | female  | 0.3     | 34.4    |\n",
       "\n"
      ],
      "text/plain": [
       "  animal_id prenatal_exposure weight sex    concentration avgLicks\n",
       "1 ETF1      alcohol           59     female 0             54.5    \n",
       "2 ETF1      alcohol           59     female 0.1           54.8    \n",
       "3 ETF1      alcohol           59     female 0.3           34.4    "
      ]
     },
     "metadata": {},
     "output_type": "display_data"
    },
    {
     "data": {
      "text/html": [
       "<table>\n",
       "<thead><tr><th scope=col>animal_id</th><th scope=col>prenatal_exposure</th><th scope=col>weight</th><th scope=col>sex</th><th scope=col>concentration</th><th scope=col>avgLicks</th></tr></thead>\n",
       "<tbody>\n",
       "\t<tr><td>FCM11                  </td><td>free choice liquid diet</td><td>76                     </td><td>male                   </td><td>1                      </td><td>36                     </td></tr>\n",
       "\t<tr><td>FCM11                  </td><td>free choice liquid diet</td><td>76                     </td><td>male                   </td><td>3                      </td><td>24                     </td></tr>\n",
       "\t<tr><td>FCM11                  </td><td>free choice liquid diet</td><td>76                     </td><td>male                   </td><td>6                      </td><td>20                     </td></tr>\n",
       "</tbody>\n",
       "</table>\n"
      ],
      "text/latex": [
       "\\begin{tabular}{r|llllll}\n",
       " animal\\_id & prenatal\\_exposure & weight & sex & concentration & avgLicks\\\\\n",
       "\\hline\n",
       "\t FCM11                   & free choice liquid diet & 76                      & male                    & 1                       & 36                     \\\\\n",
       "\t FCM11                   & free choice liquid diet & 76                      & male                    & 3                       & 24                     \\\\\n",
       "\t FCM11                   & free choice liquid diet & 76                      & male                    & 6                       & 20                     \\\\\n",
       "\\end{tabular}\n"
      ],
      "text/markdown": [
       "\n",
       "| animal_id | prenatal_exposure | weight | sex | concentration | avgLicks |\n",
       "|---|---|---|---|---|---|\n",
       "| FCM11                   | free choice liquid diet | 76                      | male                    | 1                       | 36                      |\n",
       "| FCM11                   | free choice liquid diet | 76                      | male                    | 3                       | 24                      |\n",
       "| FCM11                   | free choice liquid diet | 76                      | male                    | 6                       | 20                      |\n",
       "\n"
      ],
      "text/plain": [
       "  animal_id prenatal_exposure       weight sex  concentration avgLicks\n",
       "1 FCM11     free choice liquid diet 76     male 1             36      \n",
       "2 FCM11     free choice liquid diet 76     male 3             24      \n",
       "3 FCM11     free choice liquid diet 76     male 6             20      "
      ]
     },
     "metadata": {},
     "output_type": "display_data"
    }
   ],
   "source": [
    "df_pivot <- nicotine_avg %>% \n",
    "pivot_longer(cols=starts_with('avgLicks'),\n",
    "             names_to = 'concentration',\n",
    "             names_prefix = 'avgLicks_', # to remove prefix \n",
    "             values_to = 'avgLicks'\n",
    "            )\n",
    "str(df_pivot)\n",
    "head(df_pivot, 3)\n",
    "tail(df_pivot, 3)"
   ]
  },
  {
   "cell_type": "markdown",
   "id": "a53285df",
   "metadata": {},
   "source": [
    "#### change \"concentration\": char to numeric"
   ]
  },
  {
   "cell_type": "code",
   "execution_count": 18,
   "id": "5b1b782d",
   "metadata": {},
   "outputs": [
    {
     "name": "stdout",
     "output_type": "stream",
     "text": [
      "tibble [228 x 6] (S3: tbl_df/tbl/data.frame)\n",
      " $ animal_id        : chr [1:228] \"ETF1\" \"ETF1\" \"ETF1\" \"ETF1\" ...\n",
      " $ prenatal_exposure: chr [1:228] \"alcohol\" \"alcohol\" \"alcohol\" \"alcohol\" ...\n",
      " $ weight           : num [1:228] 59 59 59 59 59 59 68 68 68 68 ...\n",
      " $ sex              : chr [1:228] \"female\" \"female\" \"female\" \"female\" ...\n",
      " $ concentration    : num [1:228] 0 0.1 0.3 1 3 6 0 0.1 0.3 1 ...\n",
      " $ avgLicks         : num [1:228] 54.5 54.8 34.4 46.2 13.6 ...\n"
     ]
    },
    {
     "data": {
      "text/html": [
       "<table>\n",
       "<thead><tr><th scope=col>animal_id</th><th scope=col>prenatal_exposure</th><th scope=col>weight</th><th scope=col>sex</th><th scope=col>concentration</th><th scope=col>avgLicks</th></tr></thead>\n",
       "<tbody>\n",
       "\t<tr><td>ETF1   </td><td>alcohol</td><td>59     </td><td>female </td><td>0.0    </td><td>54.5   </td></tr>\n",
       "\t<tr><td>ETF1   </td><td>alcohol</td><td>59     </td><td>female </td><td>0.1    </td><td>54.8   </td></tr>\n",
       "\t<tr><td>ETF1   </td><td>alcohol</td><td>59     </td><td>female </td><td>0.3    </td><td>34.4   </td></tr>\n",
       "</tbody>\n",
       "</table>\n"
      ],
      "text/latex": [
       "\\begin{tabular}{r|llllll}\n",
       " animal\\_id & prenatal\\_exposure & weight & sex & concentration & avgLicks\\\\\n",
       "\\hline\n",
       "\t ETF1    & alcohol & 59      & female  & 0.0     & 54.5   \\\\\n",
       "\t ETF1    & alcohol & 59      & female  & 0.1     & 54.8   \\\\\n",
       "\t ETF1    & alcohol & 59      & female  & 0.3     & 34.4   \\\\\n",
       "\\end{tabular}\n"
      ],
      "text/markdown": [
       "\n",
       "| animal_id | prenatal_exposure | weight | sex | concentration | avgLicks |\n",
       "|---|---|---|---|---|---|\n",
       "| ETF1    | alcohol | 59      | female  | 0.0     | 54.5    |\n",
       "| ETF1    | alcohol | 59      | female  | 0.1     | 54.8    |\n",
       "| ETF1    | alcohol | 59      | female  | 0.3     | 34.4    |\n",
       "\n"
      ],
      "text/plain": [
       "  animal_id prenatal_exposure weight sex    concentration avgLicks\n",
       "1 ETF1      alcohol           59     female 0.0           54.5    \n",
       "2 ETF1      alcohol           59     female 0.1           54.8    \n",
       "3 ETF1      alcohol           59     female 0.3           34.4    "
      ]
     },
     "metadata": {},
     "output_type": "display_data"
    },
    {
     "data": {
      "text/html": [
       "<table>\n",
       "<thead><tr><th scope=col>animal_id</th><th scope=col>prenatal_exposure</th><th scope=col>weight</th><th scope=col>sex</th><th scope=col>concentration</th><th scope=col>avgLicks</th></tr></thead>\n",
       "<tbody>\n",
       "\t<tr><td>FCM11                  </td><td>free choice liquid diet</td><td>76                     </td><td>male                   </td><td>1                      </td><td>36                     </td></tr>\n",
       "\t<tr><td>FCM11                  </td><td>free choice liquid diet</td><td>76                     </td><td>male                   </td><td>3                      </td><td>24                     </td></tr>\n",
       "\t<tr><td>FCM11                  </td><td>free choice liquid diet</td><td>76                     </td><td>male                   </td><td>6                      </td><td>20                     </td></tr>\n",
       "</tbody>\n",
       "</table>\n"
      ],
      "text/latex": [
       "\\begin{tabular}{r|llllll}\n",
       " animal\\_id & prenatal\\_exposure & weight & sex & concentration & avgLicks\\\\\n",
       "\\hline\n",
       "\t FCM11                   & free choice liquid diet & 76                      & male                    & 1                       & 36                     \\\\\n",
       "\t FCM11                   & free choice liquid diet & 76                      & male                    & 3                       & 24                     \\\\\n",
       "\t FCM11                   & free choice liquid diet & 76                      & male                    & 6                       & 20                     \\\\\n",
       "\\end{tabular}\n"
      ],
      "text/markdown": [
       "\n",
       "| animal_id | prenatal_exposure | weight | sex | concentration | avgLicks |\n",
       "|---|---|---|---|---|---|\n",
       "| FCM11                   | free choice liquid diet | 76                      | male                    | 1                       | 36                      |\n",
       "| FCM11                   | free choice liquid diet | 76                      | male                    | 3                       | 24                      |\n",
       "| FCM11                   | free choice liquid diet | 76                      | male                    | 6                       | 20                      |\n",
       "\n"
      ],
      "text/plain": [
       "  animal_id prenatal_exposure       weight sex  concentration avgLicks\n",
       "1 FCM11     free choice liquid diet 76     male 1             36      \n",
       "2 FCM11     free choice liquid diet 76     male 3             24      \n",
       "3 FCM11     free choice liquid diet 76     male 6             20      "
      ]
     },
     "metadata": {},
     "output_type": "display_data"
    }
   ],
   "source": [
    "df_pivot$concentration <- as.numeric(df_pivot$concentration)\n",
    "str(df_pivot)\n",
    "head(df_pivot, 3)\n",
    "tail(df_pivot, 3)"
   ]
  },
  {
   "cell_type": "code",
   "execution_count": 19,
   "id": "ec662b6e",
   "metadata": {},
   "outputs": [
    {
     "name": "stderr",
     "output_type": "stream",
     "text": [
      "Warning message:\n",
      "\"Transformation introduced infinite values in continuous x-axis\"Warning message:\n",
      "\"Transformation introduced infinite values in continuous x-axis\"`geom_smooth()` using method = 'loess' and formula 'y ~ x'\n",
      "Warning message:\n",
      "\"Removed 38 rows containing non-finite values (stat_smooth).\""
     ]
    },
    {
     "data": {
      "image/png": "[encoded data removed]",
      "text/plain": [
       "plot without title"
      ]
     },
     "metadata": {},
     "output_type": "display_data"
    }
   ],
   "source": [
    "ggplot(df_pivot, aes(x = concentration, \n",
    "                     y = avgLicks, \n",
    "                     col = prenatal_exposure)) +\n",
    "    geom_line(aes(group = animal_id), alpha = 0.4) + \n",
    "    scale_x_log10() + \n",
    "    geom_smooth()"
   ]
  },
  {
   "cell_type": "code",
   "execution_count": 20,
   "id": "f895927c",
   "metadata": {},
   "outputs": [
    {
     "data": {
      "image/png": "[encoded data removed]",
      "text/plain": [
       "plot without title"
      ]
     },
     "metadata": {},
     "output_type": "display_data"
    }
   ],
   "source": [
    "ggplot(df_pivot, aes(x = factor(concentration), \n",
    "                     y = avgLicks, \n",
    "                     col = prenatal_exposure)) +\n",
    "    geom_boxplot()"
   ]
  },
  {
   "cell_type": "markdown",
   "id": "eefe8302",
   "metadata": {},
   "source": [
    "## 5. Combine data"
   ]
  },
  {
   "cell_type": "code",
   "execution_count": 21,
   "id": "38393fc4",
   "metadata": {},
   "outputs": [
    {
     "data": {
      "text/html": [
       "<table>\n",
       "<thead><tr><th scope=col>a</th><th scope=col>b</th><th scope=col>c</th></tr></thead>\n",
       "<tbody>\n",
       "\t<tr><td>0</td><td>3</td><td>6</td></tr>\n",
       "\t<tr><td>1</td><td>4</td><td>7</td></tr>\n",
       "\t<tr><td>2</td><td>5</td><td>8</td></tr>\n",
       "</tbody>\n",
       "</table>\n"
      ],
      "text/latex": [
       "\\begin{tabular}{r|lll}\n",
       " a & b & c\\\\\n",
       "\\hline\n",
       "\t 0 & 3 & 6\\\\\n",
       "\t 1 & 4 & 7\\\\\n",
       "\t 2 & 5 & 8\\\\\n",
       "\\end{tabular}\n"
      ],
      "text/markdown": [
       "\n",
       "| a | b | c |\n",
       "|---|---|---|\n",
       "| 0 | 3 | 6 |\n",
       "| 1 | 4 | 7 |\n",
       "| 2 | 5 | 8 |\n",
       "\n"
      ],
      "text/plain": [
       "  a b c\n",
       "1 0 3 6\n",
       "2 1 4 7\n",
       "3 2 5 8"
      ]
     },
     "metadata": {},
     "output_type": "display_data"
    }
   ],
   "source": [
    "# bind_rows\n",
    "\n",
    "df1 <- data.frame(a=c(0,1,2), b=c(3,4,5), c=c(6,7,8))\n",
    "df1"
   ]
  },
  {
   "cell_type": "code",
   "execution_count": 22,
   "id": "cba0b63b",
   "metadata": {},
   "outputs": [
    {
     "data": {
      "text/html": [
       "<table>\n",
       "<thead><tr><th scope=col>aa</th><th scope=col>b</th><th scope=col>c</th></tr></thead>\n",
       "<tbody>\n",
       "\t<tr><td>0</td><td>3</td><td>6</td></tr>\n",
       "\t<tr><td>1</td><td>4</td><td>7</td></tr>\n",
       "\t<tr><td>2</td><td>5</td><td>8</td></tr>\n",
       "</tbody>\n",
       "</table>\n"
      ],
      "text/latex": [
       "\\begin{tabular}{r|lll}\n",
       " aa & b & c\\\\\n",
       "\\hline\n",
       "\t 0 & 3 & 6\\\\\n",
       "\t 1 & 4 & 7\\\\\n",
       "\t 2 & 5 & 8\\\\\n",
       "\\end{tabular}\n"
      ],
      "text/markdown": [
       "\n",
       "| aa | b | c |\n",
       "|---|---|---|\n",
       "| 0 | 3 | 6 |\n",
       "| 1 | 4 | 7 |\n",
       "| 2 | 5 | 8 |\n",
       "\n"
      ],
      "text/plain": [
       "  aa b c\n",
       "1 0  3 6\n",
       "2 1  4 7\n",
       "3 2  5 8"
      ]
     },
     "metadata": {},
     "output_type": "display_data"
    }
   ],
   "source": [
    "df2 <- data.frame(aa=c(0,1,2), b=c(3,4,5), c=c(6,7,8))\n",
    "df2"
   ]
  },
  {
   "cell_type": "code",
   "execution_count": 23,
   "id": "1cd75a3c",
   "metadata": {},
   "outputs": [
    {
     "data": {
      "text/html": [
       "<table>\n",
       "<thead><tr><th scope=col>a</th><th scope=col>b</th><th scope=col>c</th><th scope=col>aa</th></tr></thead>\n",
       "<tbody>\n",
       "\t<tr><td> 0</td><td>3 </td><td>6 </td><td>NA</td></tr>\n",
       "\t<tr><td> 1</td><td>4 </td><td>7 </td><td>NA</td></tr>\n",
       "\t<tr><td> 2</td><td>5 </td><td>8 </td><td>NA</td></tr>\n",
       "\t<tr><td>NA</td><td>3 </td><td>6 </td><td> 0</td></tr>\n",
       "\t<tr><td>NA</td><td>4 </td><td>7 </td><td> 1</td></tr>\n",
       "\t<tr><td>NA</td><td>5 </td><td>8 </td><td> 2</td></tr>\n",
       "</tbody>\n",
       "</table>\n"
      ],
      "text/latex": [
       "\\begin{tabular}{r|llll}\n",
       " a & b & c & aa\\\\\n",
       "\\hline\n",
       "\t  0 & 3  & 6  & NA\\\\\n",
       "\t  1 & 4  & 7  & NA\\\\\n",
       "\t  2 & 5  & 8  & NA\\\\\n",
       "\t NA & 3  & 6  &  0\\\\\n",
       "\t NA & 4  & 7  &  1\\\\\n",
       "\t NA & 5  & 8  &  2\\\\\n",
       "\\end{tabular}\n"
      ],
      "text/markdown": [
       "\n",
       "| a | b | c | aa |\n",
       "|---|---|---|---|\n",
       "|  0 | 3  | 6  | NA |\n",
       "|  1 | 4  | 7  | NA |\n",
       "|  2 | 5  | 8  | NA |\n",
       "| NA | 3  | 6  |  0 |\n",
       "| NA | 4  | 7  |  1 |\n",
       "| NA | 5  | 8  |  2 |\n",
       "\n"
      ],
      "text/plain": [
       "  a  b c aa\n",
       "1  0 3 6 NA\n",
       "2  1 4 7 NA\n",
       "3  2 5 8 NA\n",
       "4 NA 3 6  0\n",
       "5 NA 4 7  1\n",
       "6 NA 5 8  2"
      ]
     },
     "metadata": {},
     "output_type": "display_data"
    }
   ],
   "source": [
    "bind_rows(df1, df2)"
   ]
  },
  {
   "cell_type": "code",
   "execution_count": 24,
   "id": "bd86fd01",
   "metadata": {},
   "outputs": [],
   "source": [
    "# write_csv"
   ]
  }
 ],
 "metadata": {
  "kernelspec": {
   "display_name": "R",
   "language": "R",
   "name": "ir"
  },
  "language_info": {
   "codemirror_mode": "r",
   "file_extension": ".r",
   "mimetype": "text/x-r-source",
   "name": "R",
   "pygments_lexer": "r",
   "version": "3.6.1"
  }
 },
 "nbformat": 4,
 "nbformat_minor": 5
}
