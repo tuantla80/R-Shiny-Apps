{
 "cells": [
  {
   "cell_type": "code",
   "execution_count": null,
   "id": "ef251973",
   "metadata": {},
   "outputs": [],
   "source": []
  },
  {
   "cell_type": "markdown",
   "id": "1393a368",
   "metadata": {},
   "source": [
    "## 1. Sampling and sources of bias"
   ]
  },
  {
   "cell_type": "markdown",
   "id": "fc57c524",
   "metadata": {},
   "source": [
    "<h3>Few sources of sampling bias</h3>  \n",
    "\n",
    "> <b> 1. Convenience sample: </b> Individuals who are easily accessible are more likely to be included in the sample.  \n",
    "> <b> 2. Non-response: </b> If only a (non-random) fraction of the randomly sampled people respond to a survey such that the sample is no longer representative of the poppulation.  \n",
    "> <b> 3. Voluntary response: </b> Occurs when the sample consists of people whi volunteer to respond because they have strong opinions on the issues. \n",
    "\n",
    "<h3>Sampling methods</h3>\n",
    "\n",
    "> <b> 1. Simple Random Sample (SRS: </b> Each case is equally likely to be selected.  \n",
    "> <b> 2. Stratified Sample: </b> Divide the population into homogenous groups strata, then randomly sample from within each stratum.  \n",
    "> <b> 3. Cluster Sample: </b> Divide the population clusters, randomly sample a few clusters, then sample all observations within these clusters.  \n",
    "> <b> 4. Multistage sample: </b> Divide the population clusters, randomly sample a few clusters, then randomly sample within these clusters.  "
   ]
  },
  {
   "cell_type": "markdown",
   "id": "b2669cd1",
   "metadata": {},
   "source": [
    "## 2. Experimental Design"
   ]
  },
  {
   "cell_type": "markdown",
   "id": "e3793c9c",
   "metadata": {},
   "source": [
    "<h3>The 4 principles of experimental design</h3>  \n",
    "\n",
    "> <b> 1. Control: </b> Compare treatment of interest to a control group.  \n",
    "> <b> 2. Randomize: </b> Randomely assign subjects to treatments.  \n",
    "> <b> 3. Replicate: </b> Collect a sufficiently large sample or replicate the entire study.  \n",
    "> <b> 4. Block: </b> Block for variables known or suspected to affect the outcome.  \n",
    "\n",
    "<h4>For example: Design an experiment investigating whether energy gels help you run faster. </h4>\n",
    "\n",
    "> Treatment group: energy gel <br> \n",
    "> Control group: No energy gel <br> \n",
    "> Since energy gels might affect pro and amateur athletes differently, we, therefore, <b>block</b> for pro status:  \n",
    "    - Divide the sample to pro and amateur <br>\n",
    "    - Randomly assign pro and amateur athletes to treatment and control groups.  \n",
    "    --> pro and amateur athletes are equally represented in both groups  \n",
    "    \n",
    "<h4> Blocking vs. explanatory variables </h4>  \n",
    "\n",
    "> Explanatory variables (aka factors): conditions we can impose on experimental units.  \n",
    "> Blocking variables: Characteristecs that experimental units come with, that we would like to control for  \n",
    "\n",
    "<h4> Random sampling vs. Random assigment </h4>  \n",
    "\n",
    "> <b>Random sampling</b>: Population -> get samples  -> Therefore, it is <b>generalizability</b>  \n",
    "> <b>Random assigment</b>: samples -> the subjects are being assigned to various treatments. Therefore, we can make <b>causal conclusions</b> based on the study.   \n",
    "\n",
    "<h4> Confounder (Confounding) variables </h4>  \n",
    "\n",
    "> Eg. Conduct a study evaluating whether people read Serif or Sans Serif fonts faster.  \n",
    "> We design: Population --> Samples --> Assign two treatment groups: Group 1. People who read Serif and Group 2. People who read Sans Serif and compare when they read the same text content. Through random assigment, we ensure that <b> other factors that may be contributing to reading speed, for example, fluency or how often they read the subject for leisure, are represented equally in the two groups. We call such variables confounder or confounding variables </b>\n",
    "    "
   ]
  },
  {
   "cell_type": "code",
   "execution_count": null,
   "id": "861ffc41",
   "metadata": {},
   "outputs": [],
   "source": [
    "```\n",
    "retrospective: uses past data\n",
    "prospective: data are collected throughout the study\n",
    "```"
   ]
  }
 ],
 "metadata": {
  "kernelspec": {
   "display_name": "R",
   "language": "R",
   "name": "ir"
  },
  "language_info": {
   "codemirror_mode": "r",
   "file_extension": ".r",
   "mimetype": "text/x-r-source",
   "name": "R",
   "pygments_lexer": "r",
   "version": "3.6.1"
  }
 },
 "nbformat": 4,
 "nbformat_minor": 5
}
