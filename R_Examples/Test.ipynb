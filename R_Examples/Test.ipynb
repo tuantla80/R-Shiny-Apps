{
 "cells": [
  {
   "cell_type": "code",
   "execution_count": 1,
   "id": "e7d5aae4",
   "metadata": {},
   "outputs": [
    {
     "name": "stderr",
     "output_type": "stream",
     "text": [
      "Warning message:\n",
      "\"package 'dplyr' was built under R version 3.6.3\"\n",
      "Attaching package: 'dplyr'\n",
      "\n",
      "The following objects are masked from 'package:stats':\n",
      "\n",
      "    filter, lag\n",
      "\n",
      "The following objects are masked from 'package:base':\n",
      "\n",
      "    intersect, setdiff, setequal, union\n",
      "\n",
      "Warning message:\n",
      "\"package 'tidyr' was built under R version 3.6.3\""
     ]
    }
   ],
   "source": [
    "library(dplyr) \n",
    "library(tidyr)"
   ]
  },
  {
   "cell_type": "code",
   "execution_count": 5,
   "id": "26e31171",
   "metadata": {},
   "outputs": [
    {
     "data": {
      "text/plain": [
       "NULL"
      ]
     },
     "metadata": {},
     "output_type": "display_data"
    }
   ],
   "source": [
    "df1 = NULL\n",
    "df1"
   ]
  },
  {
   "cell_type": "code",
   "execution_count": 7,
   "id": "6d42ac7e",
   "metadata": {},
   "outputs": [
    {
     "data": {
      "text/html": [
       "<table>\n",
       "<thead><tr><th scope=col>studyCode</th><th scope=col>marker1</th></tr></thead>\n",
       "<tbody>\n",
       "\t<tr><td>CPI515</td><td>0.3   </td></tr>\n",
       "</tbody>\n",
       "</table>\n"
      ],
      "text/latex": [
       "\\begin{tabular}{r|ll}\n",
       " studyCode & marker1\\\\\n",
       "\\hline\n",
       "\t CPI515 & 0.3   \\\\\n",
       "\\end{tabular}\n"
      ],
      "text/markdown": [
       "\n",
       "| studyCode | marker1 |\n",
       "|---|---|\n",
       "| CPI515 | 0.3    |\n",
       "\n"
      ],
      "text/plain": [
       "  studyCode marker1\n",
       "1 CPI515    0.3    "
      ]
     },
     "metadata": {},
     "output_type": "display_data"
    }
   ],
   "source": [
    "# Generate data frame\n",
    "df2 <- data.frame(\n",
    "  \"studyCode\" = c('CPI515'), \n",
    "  \"marker1\" = c(0.3)\n",
    ")\n",
    "df2"
   ]
  },
  {
   "cell_type": "code",
   "execution_count": 9,
   "id": "fd852340",
   "metadata": {},
   "outputs": [],
   "source": [
    "if (!is.null(df1)) {\n",
    "    print(df1)\n",
    "}"
   ]
  },
  {
   "cell_type": "code",
   "execution_count": 10,
   "id": "6044fc48",
   "metadata": {},
   "outputs": [
    {
     "name": "stdout",
     "output_type": "stream",
     "text": [
      "  studyCode marker1\n",
      "1    CPI515     0.3\n"
     ]
    }
   ],
   "source": [
    "if (!is.null(df2)) {\n",
    "    print(df2)\n",
    "}"
   ]
  },
  {
   "cell_type": "code",
   "execution_count": null,
   "id": "a52532ea",
   "metadata": {},
   "outputs": [],
   "source": []
  },
  {
   "cell_type": "code",
   "execution_count": 4,
   "id": "5e4861e1",
   "metadata": {},
   "outputs": [
    {
     "data": {
      "text/html": [
       "<table>\n",
       "<thead><tr><th scope=col>studyCode</th><th scope=col>marker1</th><th scope=col>marker2</th></tr></thead>\n",
       "<tbody>\n",
       "\t<tr><td>CPI515</td><td>0.3   </td><td>0.6   </td></tr>\n",
       "\t<tr><td>CPI248</td><td> NA   </td><td>0.1   </td></tr>\n",
       "\t<tr><td>CPI270</td><td>0.2   </td><td>0.3   </td></tr>\n",
       "\t<tr><td>CPI280</td><td>0.4   </td><td>0.4   </td></tr>\n",
       "\t<tr><td>CPI282</td><td>0.1   </td><td>0.3   </td></tr>\n",
       "</tbody>\n",
       "</table>\n"
      ],
      "text/latex": [
       "\\begin{tabular}{r|lll}\n",
       " studyCode & marker1 & marker2\\\\\n",
       "\\hline\n",
       "\t CPI515 & 0.3    & 0.6   \\\\\n",
       "\t CPI248 &  NA    & 0.1   \\\\\n",
       "\t CPI270 & 0.2    & 0.3   \\\\\n",
       "\t CPI280 & 0.4    & 0.4   \\\\\n",
       "\t CPI282 & 0.1    & 0.3   \\\\\n",
       "\\end{tabular}\n"
      ],
      "text/markdown": [
       "\n",
       "| studyCode | marker1 | marker2 |\n",
       "|---|---|---|\n",
       "| CPI515 | 0.3    | 0.6    |\n",
       "| CPI248 |  NA    | 0.1    |\n",
       "| CPI270 | 0.2    | 0.3    |\n",
       "| CPI280 | 0.4    | 0.4    |\n",
       "| CPI282 | 0.1    | 0.3    |\n",
       "\n"
      ],
      "text/plain": [
       "  studyCode marker1 marker2\n",
       "1 CPI515    0.3     0.6    \n",
       "2 CPI248     NA     0.1    \n",
       "3 CPI270    0.2     0.3    \n",
       "4 CPI280    0.4     0.4    \n",
       "5 CPI282    0.1     0.3    "
      ]
     },
     "metadata": {},
     "output_type": "display_data"
    }
   ],
   "source": [
    "# Generate data frame\n",
    "df <- data.frame(\n",
    "  \"studyCode\" = c('CPI515', 'CPI248', 'CPI270', 'CPI280', 'CPI282'), \n",
    "  \"marker1\" = c(0.3, NA, 0.2, 0.4, 0.1),\n",
    "  \"marker2\" = c(0.6, 0.1, 0.3, 0.4, 0.3)  \n",
    ")\n",
    "# row.names(df) <- df[['index']]\n",
    "# df <- subset(df, select = -c(index))\n",
    "df"
   ]
  },
  {
   "cell_type": "code",
   "execution_count": 5,
   "id": "4cce48fb",
   "metadata": {},
   "outputs": [
    {
     "data": {
      "text/html": [
       "<table>\n",
       "<thead><tr><th scope=col>studyCode</th><th scope=col>marker1</th><th scope=col>marker2</th></tr></thead>\n",
       "<tbody>\n",
       "\t<tr><td>CPI282</td><td>0.1   </td><td>0.3   </td></tr>\n",
       "\t<tr><td>CPI270</td><td>0.2   </td><td>0.3   </td></tr>\n",
       "\t<tr><td>CPI515</td><td>0.3   </td><td>0.6   </td></tr>\n",
       "\t<tr><td>CPI280</td><td>0.4   </td><td>0.4   </td></tr>\n",
       "\t<tr><td>CPI248</td><td> NA   </td><td>0.1   </td></tr>\n",
       "</tbody>\n",
       "</table>\n"
      ],
      "text/latex": [
       "\\begin{tabular}{r|lll}\n",
       " studyCode & marker1 & marker2\\\\\n",
       "\\hline\n",
       "\t CPI282 & 0.1    & 0.3   \\\\\n",
       "\t CPI270 & 0.2    & 0.3   \\\\\n",
       "\t CPI515 & 0.3    & 0.6   \\\\\n",
       "\t CPI280 & 0.4    & 0.4   \\\\\n",
       "\t CPI248 &  NA    & 0.1   \\\\\n",
       "\\end{tabular}\n"
      ],
      "text/markdown": [
       "\n",
       "| studyCode | marker1 | marker2 |\n",
       "|---|---|---|\n",
       "| CPI282 | 0.1    | 0.3    |\n",
       "| CPI270 | 0.2    | 0.3    |\n",
       "| CPI515 | 0.3    | 0.6    |\n",
       "| CPI280 | 0.4    | 0.4    |\n",
       "| CPI248 |  NA    | 0.1    |\n",
       "\n"
      ],
      "text/plain": [
       "  studyCode marker1 marker2\n",
       "1 CPI282    0.1     0.3    \n",
       "2 CPI270    0.2     0.3    \n",
       "3 CPI515    0.3     0.6    \n",
       "4 CPI280    0.4     0.4    \n",
       "5 CPI248     NA     0.1    "
      ]
     },
     "metadata": {},
     "output_type": "display_data"
    }
   ],
   "source": [
    "marker1 <- sym(\"marker1\")\n",
    "studyCode <- sym(\"studyCode\")\n",
    "df1 <- df %>% arrange(marker1, studyCode) # df=arrange(df,desc(frequency),desc(type))\n",
    "df1"
   ]
  },
  {
   "cell_type": "code",
   "execution_count": null,
   "id": "f818f296",
   "metadata": {},
   "outputs": [],
   "source": [
    "#df1 <- df[with(df, order('marker1')), ]\n",
    "df <- dd[with(df, order(marker1)), ]\n",
    "df1"
   ]
  },
  {
   "cell_type": "code",
   "execution_count": null,
   "id": "150f56d5",
   "metadata": {},
   "outputs": [],
   "source": [
    "dd <- data.frame(     \n",
    "      x = c(\"A\", \"D\", \"A\", \"C\"), \n",
    "      y = c(8, 3, 9, 9),\n",
    "      z = c(1, 5, 3, 6))\n",
    "dd\n",
    "studyCode"
   ]
  },
  {
   "cell_type": "code",
   "execution_count": null,
   "id": "ee3f2492",
   "metadata": {},
   "outputs": [],
   "source": [
    "dd1 <- dd[with(dd, order(z)), ]\n",
    "dd1"
   ]
  },
  {
   "cell_type": "code",
   "execution_count": null,
   "id": "f0070884",
   "metadata": {},
   "outputs": [],
   "source": []
  },
  {
   "cell_type": "code",
   "execution_count": null,
   "id": "70b04cb7",
   "metadata": {},
   "outputs": [],
   "source": []
  },
  {
   "cell_type": "code",
   "execution_count": null,
   "id": "89de254d",
   "metadata": {},
   "outputs": [],
   "source": []
  },
  {
   "cell_type": "code",
   "execution_count": null,
   "id": "2eec400f",
   "metadata": {},
   "outputs": [],
   "source": [
    "sort_a_marker <- function(df, selected_marker, asc=TRUE, keep_all_cols=TRUE){\n",
    "    # To sort a marker in asc or desc order\n",
    "    # Input\n",
    "    # df: a dataframe in a standard format. \n",
    "    #     Ref get_standard_df_control(), get_standard_df_data()\n",
    "    # selected_marker: a column name in a string format\n",
    "    # asc: sort marker as asc order if TRUE, else desc\n",
    "    #      Default: TRUE\n",
    "    # keep_all_cols: keep all columns if TRUE, else get ONLY selected_marker column\n",
    "    # Ouput: a new dataframe\n",
    "    #\n",
    "    # Usage:\n",
    "    # df = studyCode\tmarker1\t marker2\n",
    "    #       CPI515\t      0.3\t  0.6\n",
    "    #       CPI248\t      NA\t  0.1\n",
    "    #       CPI270\t      0.2\t  0.3\n",
    "    #       CPI280\t      0.4\t  0.4\n",
    "    #       CPI282\t      0.1\t  0.3\n",
    "    # df_sorted = sort_a_marker(df, selected_marker='marker1', asc=TRUE, keep_all_cols=TRUE)\n",
    "    # df_sorted =\n",
    "    #      studyCode\tmarker1\t marker2\n",
    "    #       CPI282\t      0.1\t  0.3\n",
    "    #       CPI270\t      0.2\t  0.3\n",
    "    #       CPI515\t      0.3\t  0.6\n",
    "    #       CPI280\t      0.4\t  0.4\n",
    "    #       CPI248\t      NA\t  0.1\n",
    "    \n",
    "    if (keep_all_cols == FALSE){\n",
    "        df <- subset(df, select = c(selected_marker, 'studyCode')) \n",
    "    }\n",
    "    \n",
    "    selected_marker_sym <- sym(selected_marker)\n",
    "    if (asc == TRUE){\n",
    "        df_sorted <- df %>% arrange(!!selected_marker_sym)\n",
    "    } else {\n",
    "        df_sorted <- df %>% arrange(desc(!!selected_marker_sym))\n",
    "    }      \n",
    "    return (df_sorted)\n",
    "}"
   ]
  },
  {
   "cell_type": "code",
   "execution_count": null,
   "id": "b1af45e5",
   "metadata": {},
   "outputs": [],
   "source": [
    "df_sorted = sort_a_marker(df, selected_marker='marker1', asc=T, keep_all_cols=F)\n",
    "df_sorted\n",
    "\n",
    "library(data.table)\n",
    "df_tran <- transpose(df_sorted, keep.names=\"marker\", make.names=\"studyCode\", fill=NA, ignore.empty=FALSE)\n",
    "df_tran"
   ]
  },
  {
   "cell_type": "code",
   "execution_count": null,
   "id": "7089c1d8",
   "metadata": {},
   "outputs": [],
   "source": [
    "df"
   ]
  },
  {
   "cell_type": "code",
   "execution_count": null,
   "id": "c648f271",
   "metadata": {},
   "outputs": [],
   "source": []
  },
  {
   "cell_type": "code",
   "execution_count": null,
   "id": "0ceb4d76",
   "metadata": {},
   "outputs": [],
   "source": []
  },
  {
   "cell_type": "code",
   "execution_count": null,
   "id": "3c8f215f",
   "metadata": {},
   "outputs": [],
   "source": []
  },
  {
   "cell_type": "code",
   "execution_count": null,
   "id": "a2cfd969",
   "metadata": {},
   "outputs": [],
   "source": [
    "paste(c('AA', 'BB', 'CC'), collapse = \"\\n\")"
   ]
  },
  {
   "cell_type": "code",
   "execution_count": null,
   "id": "3212c2da",
   "metadata": {},
   "outputs": [],
   "source": [
    "tt = cat(paste(c('AA', 'BB', 'CC'), collapse = \"\\n\"))\n",
    "class(tt)"
   ]
  },
  {
   "cell_type": "code",
   "execution_count": null,
   "id": "1274a0df",
   "metadata": {},
   "outputs": [],
   "source": [
    "help(cat)"
   ]
  },
  {
   "cell_type": "code",
   "execution_count": null,
   "id": "3eed3fb0",
   "metadata": {},
   "outputs": [],
   "source": [
    "paste(\"hello\", \"world\", sep = \"\\n\")"
   ]
  },
  {
   "cell_type": "code",
   "execution_count": null,
   "id": "2a46fa72",
   "metadata": {},
   "outputs": [],
   "source": [
    "create_str_dQuotes <- function(vec){\n",
    "  # Input:\n",
    "  #   vec: a vector \n",
    "  # Output:\n",
    "  #   a string with double quote for every element of vec\n",
    "  # Usage:\n",
    "  #   vec_str <- create_str_dQuotes(vec = c('AA', 'BB', 99, 'CC'))\n",
    "  #   Output: ' \"AA\", \"BB\", \"99\", \"CC\" '     \n",
    "  vec_str <- sapply(strsplit(paste(vec, collapse = \",\"), \",\"), function(x) toString(dQuote(x)))\n",
    "  return (vec_str)\n",
    "} \n",
    "\n",
    "vec_str <- create_str_dQuotes(vec = c('AA', 'BB', 99, 'CC'))\n",
    "vec_str"
   ]
  },
  {
   "cell_type": "code",
   "execution_count": null,
   "id": "129deec4",
   "metadata": {},
   "outputs": [],
   "source": [
    "vec = c('AA', 'BB', 99, 'CC')\n",
    "strsplit(paste(vec, collapse = \",\"), \",\")"
   ]
  },
  {
   "cell_type": "code",
   "execution_count": null,
   "id": "8057fb23",
   "metadata": {},
   "outputs": [],
   "source": [
    "vec_str[0]"
   ]
  },
  {
   "cell_type": "code",
   "execution_count": null,
   "id": "dc5571df",
   "metadata": {},
   "outputs": [],
   "source": [
    "paste(vec_str, collapse = \"\\n\")"
   ]
  },
  {
   "cell_type": "code",
   "execution_count": null,
   "id": "ba1fb3ab",
   "metadata": {},
   "outputs": [],
   "source": [
    "paste(vec, sep=\"<br/>\")"
   ]
  },
  {
   "cell_type": "code",
   "execution_count": null,
   "id": "fbae2a46",
   "metadata": {},
   "outputs": [],
   "source": [
    "vec = c('AA AA1', 'BB', 99, 'CC')\n",
    "# tt = strsplit(paste(vec, collapse = \",\"), \",\")\n",
    "paste(vec, collapse = ' <br> ')"
   ]
  },
  {
   "cell_type": "code",
   "execution_count": null,
   "id": "741b97b4",
   "metadata": {},
   "outputs": [],
   "source": [
    "library(stringi)"
   ]
  },
  {
   "cell_type": "code",
   "execution_count": null,
   "id": "fdb7464d",
   "metadata": {},
   "outputs": [],
   "source": [
    "options(useFancyQuotes = FALSE)"
   ]
  },
  {
   "cell_type": "code",
   "execution_count": null,
   "id": "9ab54996",
   "metadata": {},
   "outputs": [],
   "source": [
    "vec=c(3598, 93215, 80793, 92884)\n",
    "vec_str <- toString(sQuote(vec))\n",
    "vec_str\n",
    "\n",
    "query <- stri_paste(\"SELECT * FROM individual_phenotype_values WHERE individual_id IN \",\n",
    "                       \"(\", vec_str, \")\",\n",
    "                       collapse = \"\")\n",
    "query"
   ]
  },
  {
   "cell_type": "code",
   "execution_count": null,
   "id": "89f55ee2",
   "metadata": {},
   "outputs": [],
   "source": []
  }
 ],
 "metadata": {
  "kernelspec": {
   "display_name": "R",
   "language": "R",
   "name": "ir"
  },
  "language_info": {
   "codemirror_mode": "r",
   "file_extension": ".r",
   "mimetype": "text/x-r-source",
   "name": "R",
   "pygments_lexer": "r",
   "version": "3.6.1"
  }
 },
 "nbformat": 4,
 "nbformat_minor": 5
}
