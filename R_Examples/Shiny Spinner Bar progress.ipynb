{
 "cells": [
  {
   "cell_type": "code",
   "execution_count": null,
   "id": "f48243c4",
   "metadata": {},
   "outputs": [],
   "source": [
    "# install.packages(\"shinybusy\")\n",
    "# install.packages(\"DT\")"
   ]
  },
  {
   "cell_type": "code",
   "execution_count": null,
   "id": "7bd4baa0",
   "metadata": {},
   "outputs": [
    {
     "name": "stderr",
     "output_type": "stream",
     "text": [
      "Warning message:\n",
      "\"package 'shinybusy' was built under R version 3.6.3\"\n",
      "Listening on http://127.0.0.1:7460\n"
     ]
    }
   ],
   "source": [
    "library(shiny)\n",
    "library(shinybusy)\n",
    "\n",
    "ui <- fluidPage(\n",
    "\n",
    "# Use this function somewhere in UI\n",
    "# add_busy_spinner(spin = \"cube-grid\"),\n",
    "# or use a different spinner\n",
    "add_busy_spinner(spin = \"radar\", margins = c(500, 500)),\n",
    "\n",
    "headerPanel('Iris k-means clustering'),\n",
    "\n",
    "sidebarLayout(\n",
    "  sidebarPanel(\n",
    "    selectInput('xcol', 'X Variable', names(iris)),\n",
    "    selectInput('ycol', 'Y Variable', names(iris),\n",
    "                selected=names(iris)[[2]]),\n",
    "    numericInput('clusters', 'Cluster count', 3,\n",
    "                 min = 1, max = 9),\n",
    "    actionButton(\"sleep\", \"Long calculation\")\n",
    "  ),\n",
    "  mainPanel(\n",
    "    plotOutput('plot1')\n",
    "  )\n",
    ")\n",
    ")\n",
    "\n",
    "server <- function(input, output, session) {\n",
    "\n",
    "# selectedData <- reactive({\n",
    "#   iris[, c(input$xcol, input$ycol)]\n",
    "# })\n",
    "\n",
    "# clusters <- reactive({\n",
    "#   kmeans(selectedData(), input$clusters)\n",
    "# })\n",
    "\n",
    "# output$plot1 <- renderPlot({\n",
    "#   palette(c(\"#E41A1C\", \"#377EB8\", \"#4DAF4A\", \"#984EA3\",\n",
    "#             \"#FF7F00\", \"#FFFF33\", \"#A65628\", \"#F781BF\",\n",
    "#             \"#999999\"))\n",
    "\n",
    "#   par(mar = c(5.1, 4.1, 0, 1))\n",
    "#   plot(selectedData(),\n",
    "#        col = clusters()$cluster,\n",
    "#        pch = 20, cex = 3)\n",
    "#   points(clusters()$centers, pch = 4, cex = 4, lwd = 4)\n",
    "# })\n",
    "\n",
    "observeEvent(input$sleep, {\n",
    "  Sys.sleep(5)\n",
    "})\n",
    "\n",
    "}\n",
    "\n",
    "shinyApp(ui, server)\n"
   ]
  },
  {
   "cell_type": "code",
   "execution_count": null,
   "id": "3bf500f2",
   "metadata": {},
   "outputs": [],
   "source": [
    "# #### TEST HERE\n",
    "# add_busy_spinner(\n",
    "# spin = \"circle\", # radar, double-bounce, cube-grid, circle, dots, cube,\n",
    "#                          # bounce, folding-cube, rotating-plane, fading-circle\n",
    "# color = \"DarkViolet\", # Color for the spinner, in a valid CSS format. Eg. #112446, green, Coral\n",
    "# timeout = 100, # 100ms: display spinner when server take more 100 ms to respond\n",
    "# position = c(\"top-right\"), # Where to display the spinner:\n",
    "#                            #\"top-right\", \"top-left\", \"bottom-right\", \"bottom-left\", \"full-page\"\n",
    "# onstart = TRUE, # Logical, display the spinner when the application starts\n",
    "# margins = c(400, 700), # Distance from margins, a vector of length two, \n",
    "#                        # where first element is distance from top/bottom, \n",
    "#                        # second element distance from right/left.\n",
    "# height = \"150px\",      # Height and width of the spinner\n",
    "# width = \"150px\"\n",
    "# ),\n",
    "# ### END OF TEST"
   ]
  }
 ],
 "metadata": {
  "kernelspec": {
   "display_name": "R",
   "language": "R",
   "name": "ir"
  },
  "language_info": {
   "codemirror_mode": "r",
   "file_extension": ".r",
   "mimetype": "text/x-r-source",
   "name": "R",
   "pygments_lexer": "r",
   "version": "3.6.1"
  }
 },
 "nbformat": 4,
 "nbformat_minor": 5
}
