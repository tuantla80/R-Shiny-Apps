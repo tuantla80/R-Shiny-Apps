{
 "cells": [
  {
   "cell_type": "code",
   "execution_count": null,
   "id": "40a42c38",
   "metadata": {},
   "outputs": [],
   "source": [
    "library(dplyr)"
   ]
  },
  {
   "cell_type": "markdown",
   "id": "85b17994",
   "metadata": {},
   "source": [
    "## I. Dataframe basics"
   ]
  },
  {
   "cell_type": "code",
   "execution_count": null,
   "id": "bd9ee6a6",
   "metadata": {},
   "outputs": [],
   "source": [
    "df <- data.frame(label = c('a1', 'a2', 'a3', 'a4', 'a5'),\n",
    "                 x1 = c(1, 2, 3, NA, NA), \n",
    "                 x2 = c(100, NA, 300, 400, NA))\n",
    "df"
   ]
  },
  {
   "cell_type": "markdown",
   "id": "bdd98eb3",
   "metadata": {},
   "source": [
    "### Get unique values of a column"
   ]
  },
  {
   "cell_type": "code",
   "execution_count": null,
   "id": "c0cd2228",
   "metadata": {},
   "outputs": [],
   "source": [
    "labels = unique(df$label)\n",
    "labels\n",
    "class(labels)"
   ]
  },
  {
   "cell_type": "markdown",
   "id": "b815c52d",
   "metadata": {},
   "source": [
    "### Access df by column names"
   ]
  },
  {
   "cell_type": "code",
   "execution_count": null,
   "id": "5b0ef282",
   "metadata": {},
   "outputs": [],
   "source": [
    "df_sub2 <- df[c('x1', 'x2')]\n",
    "df_sub2"
   ]
  },
  {
   "cell_type": "code",
   "execution_count": null,
   "id": "c012c6ee",
   "metadata": {},
   "outputs": [],
   "source": [
    "df_sub1 <- df['x1']\n",
    "df_sub1\n",
    "class(df_sub1)"
   ]
  },
  {
   "cell_type": "markdown",
   "id": "008a76f0",
   "metadata": {},
   "source": [
    "### Set index for df instead of integer index"
   ]
  },
  {
   "cell_type": "code",
   "execution_count": null,
   "id": "8224a0f8",
   "metadata": {},
   "outputs": [],
   "source": [
    "row.names(df) <- df$label\n",
    "df"
   ]
  },
  {
   "cell_type": "markdown",
   "id": "d1d45e66",
   "metadata": {},
   "source": [
    "### Remove a column in df"
   ]
  },
  {
   "cell_type": "code",
   "execution_count": null,
   "id": "d1b9e3a4",
   "metadata": {},
   "outputs": [],
   "source": [
    "df <- subset(df, select = -c(label))\n",
    "df"
   ]
  },
  {
   "cell_type": "markdown",
   "id": "1432d634",
   "metadata": {},
   "source": [
    "### remove \"rows\" in a dataframe with a NA value in one of the columns"
   ]
  },
  {
   "cell_type": "code",
   "execution_count": null,
   "id": "56d6b62b",
   "metadata": {},
   "outputs": [],
   "source": [
    "df1 = na.omit(df)\n",
    "df1"
   ]
  },
  {
   "cell_type": "markdown",
   "id": "b003bc9a",
   "metadata": {},
   "source": [
    "### remove \"rows\" in a dataframe with all NA"
   ]
  },
  {
   "cell_type": "code",
   "execution_count": null,
   "id": "9795d545",
   "metadata": {},
   "outputs": [],
   "source": [
    "df %>% filter_all(any_vars(!is.na(.)))"
   ]
  },
  {
   "cell_type": "markdown",
   "id": "c3375dd8",
   "metadata": {},
   "source": [
    "### Get column names"
   ]
  },
  {
   "cell_type": "code",
   "execution_count": null,
   "id": "4086cdc0",
   "metadata": {},
   "outputs": [],
   "source": [
    "# col_names = colnames(df)\n",
    "col_names = names(df)\n",
    "col_names\n",
    "class(col_names)"
   ]
  },
  {
   "cell_type": "markdown",
   "id": "6305907b",
   "metadata": {},
   "source": [
    "### Create list of dataframe"
   ]
  },
  {
   "cell_type": "code",
   "execution_count": null,
   "id": "e4064413",
   "metadata": {},
   "outputs": [],
   "source": [
    "df1 <- data.frame(value = c(1,4,3), name = c(1,1,1))\n",
    "df2 <- data.frame(value = c(4,3,7), name = c(1,0,1))\n",
    "\n",
    "# Explicit way to make a list of df\n",
    "list_df <- list(df1, df2)\n",
    "list_df"
   ]
  },
  {
   "cell_type": "code",
   "execution_count": null,
   "id": "e545743b",
   "metadata": {},
   "outputs": [],
   "source": [
    "# Append() to make a list of df\n",
    "vec = c()\n",
    "vec <- append(vec, list(df1))\n",
    "vec\n",
    "vec <- append(vec, list(df2))\n",
    "vec"
   ]
  },
  {
   "cell_type": "code",
   "execution_count": null,
   "id": "1c2a64e9",
   "metadata": {},
   "outputs": [],
   "source": [
    "# Concat list of df to be one df. rbind() require all df has the same column names\n",
    "do.call(\"rbind\", vec)"
   ]
  },
  {
   "cell_type": "markdown",
   "id": "f0ee3f8e",
   "metadata": {},
   "source": [
    "## II. Transform multi-level JSON to Dataframe"
   ]
  },
  {
   "cell_type": "markdown",
   "id": "6329e3bf",
   "metadata": {},
   "source": [
    "### 1. Make a raw json string for testing"
   ]
  },
  {
   "cell_type": "code",
   "execution_count": null,
   "id": "ad904e77",
   "metadata": {},
   "outputs": [],
   "source": [
    "library(jsonlite)\n",
    "\n",
    "json_str <- '{\n",
    "    \"_id\" : \"AAA1\",\n",
    "    \"individualCode\" : \"HBD001\",\n",
    "    \"Samples\" : [ \n",
    "        {\n",
    "            \"filename\" : \"PBMCs_APC HBD001 ACD-A 17apr18_088․fcs\",\n",
    "            \"project\" : \"CPI\",\n",
    "            \"markers\" : [ \n",
    "                {\n",
    "                    \"name\" : \"NK (%LC)\",\n",
    "                    \"value\" : 17.92,\n",
    "                    \"confidence\" : \"\",\n",
    "                    \"interpretation\" : \"\"\n",
    "                }, \n",
    "                {\n",
    "                    \"name\" : \"NK- 1 (%LC)\",\n",
    "                    \"value\" : 1.35,\n",
    "                    \"confidence\" : \"\",\n",
    "                    \"interpretation\" : \"\"\n",
    "                }              \n",
    "            ]\n",
    "        }, \n",
    "        {\n",
    "            \"filename\" : \"PBMCs_Th cell HBD001 ACD-A 18apr18_045․fcs\",\n",
    "            \"project\" : \"CPI\",\n",
    "            \"markers\" : [ \n",
    "                {\n",
    "                    \"name\" : \"Exhausted (%CD4)\",\n",
    "                    \"value\" : 0.29,\n",
    "                    \"confidence\" : \"\",\n",
    "                    \"interpretation\" : \"\"\n",
    "                }, \n",
    "                {\n",
    "                    \"name\" : \"R5 Th1 (%CD4)\",\n",
    "                    \"value\" : 1.23,\n",
    "                    \"confidence\" : \"\",\n",
    "                    \"interpretation\" : \"\"\n",
    "                }\n",
    "            ]\n",
    "        }\n",
    "    ]\n",
    "}'\n",
    "\n",
    "json_str"
   ]
  },
  {
   "cell_type": "markdown",
   "id": "6e91bfa0",
   "metadata": {},
   "source": [
    "### 2. Convert json string to R object"
   ]
  },
  {
   "cell_type": "code",
   "execution_count": null,
   "id": "156eef0d",
   "metadata": {},
   "outputs": [],
   "source": [
    "list_json <- fromJSON(json_str)\n",
    "list_json"
   ]
  },
  {
   "cell_type": "markdown",
   "id": "9dadf4e8",
   "metadata": {},
   "source": [
    "### 3. Convert R list object to DataFrame"
   ]
  },
  {
   "cell_type": "code",
   "execution_count": null,
   "id": "c77710b9",
   "metadata": {
    "scrolled": false
   },
   "outputs": [],
   "source": [
    "df <- do.call(\"cbind\", list_json)\n",
    "df"
   ]
  },
  {
   "cell_type": "markdown",
   "id": "66cf1649",
   "metadata": {},
   "source": [
    "### 4.  DataFrame of markers (Optional)"
   ]
  },
  {
   "cell_type": "code",
   "execution_count": null,
   "id": "2bcbd85f",
   "metadata": {},
   "outputs": [],
   "source": [
    "# Check\n",
    "list_markers <- df$Samples.markers\n",
    "list_markers"
   ]
  },
  {
   "cell_type": "code",
   "execution_count": null,
   "id": "8437908f",
   "metadata": {},
   "outputs": [],
   "source": [
    "library(data.table)\n",
    "\n",
    "df_markers <- rbindlist(list_markers, fill=TRUE)\n",
    "df_markers"
   ]
  },
  {
   "cell_type": "code",
   "execution_count": null,
   "id": "32c0a87b",
   "metadata": {},
   "outputs": [],
   "source": [
    "# at df_markers: change column name to HBD001\n",
    "colnames(df_markers)[colnames(df_markers) == 'value'] <- 'HBD001'\n",
    "df_markers"
   ]
  },
  {
   "cell_type": "markdown",
   "id": "eb093dac",
   "metadata": {},
   "source": [
    "### Create a function"
   ]
  },
  {
   "cell_type": "code",
   "execution_count": null,
   "id": "560f8651",
   "metadata": {},
   "outputs": [],
   "source": [
    "transform_df <- function(df, newColname){\n",
    "    list_Samples <- df$Samples\n",
    "    df_Samples <- rbindlist(list_Samples, fill=TRUE)\n",
    "    list_markers <- df_Samples$markers\n",
    "    df_markers <- rbindlist(list_markers, fill=TRUE)\n",
    "    colnames(df_markers)[colnames(df_markers) == 'value'] <- newColname\n",
    "    return (df_markers)\n",
    "}"
   ]
  },
  {
   "cell_type": "markdown",
   "id": "8a38441c",
   "metadata": {},
   "source": [
    "## III. Merge two Dataframes  \n",
    "```\n",
    "cbind() – combining the columns of two data frames side-by-side\n",
    "rbind() – stacking two data frames on top of each other, appending one to the other\n",
    "merge() – joining two data frames using a common column\n",
    "```"
   ]
  },
  {
   "cell_type": "markdown",
   "id": "07fc29aa",
   "metadata": {},
   "source": [
    "### 1. Merge"
   ]
  },
  {
   "cell_type": "code",
   "execution_count": null,
   "id": "25515fdd",
   "metadata": {},
   "outputs": [],
   "source": [
    "df_authors <- data.frame(\n",
    "    surname = c(\"AA\", \"BB\", \"EE\"),\n",
    "    nationality = c(\"US\", \"Australia\", \"US\"),\n",
    "    retired = c(\"yes\", rep(\"no\", 2)))\n",
    "df_authors"
   ]
  },
  {
   "cell_type": "code",
   "execution_count": null,
   "id": "82adf85e",
   "metadata": {},
   "outputs": [],
   "source": [
    "df_books <- data.frame(\n",
    "    name = c(\"AA\", \"DD\", \"BB\"),\n",
    "    title = c(\"Title1\", NA, \"Title3\"))\n",
    "df_books"
   ]
  },
  {
   "cell_type": "code",
   "execution_count": null,
   "id": "019d316b",
   "metadata": {},
   "outputs": [],
   "source": [
    "df_merge <- merge(x=df_authors, \n",
    "                  y=df_books, \n",
    "                  by.x=\"surname\", \n",
    "                  by.y=\"name\",\n",
    "                  all=TRUE  # ALL: Outer Join, all.x= TRUE: Left Join, all.y=TRUE: Right join, No specify: Inner join\n",
    "                            # NOTE: Cross join: merge(x = df1, y = df2, by = NULL)\n",
    "                 )\n",
    "df_merge"
   ]
  },
  {
   "cell_type": "markdown",
   "id": "9662d63d",
   "metadata": {},
   "source": [
    "### 2. rbind and bind_rows"
   ]
  },
  {
   "cell_type": "code",
   "execution_count": null,
   "id": "bb250218",
   "metadata": {},
   "outputs": [],
   "source": [
    "df1 <- data.frame(a=c(0,1,2), b=c(3,4,5), c=c(6,7,8))\n",
    "df1"
   ]
  },
  {
   "cell_type": "code",
   "execution_count": null,
   "id": "ec161013",
   "metadata": {},
   "outputs": [],
   "source": [
    "df2 <- data.frame(a=c(9,10), c=c(12,13))\n",
    "df2"
   ]
  },
  {
   "cell_type": "code",
   "execution_count": null,
   "id": "73eafebd",
   "metadata": {},
   "outputs": [],
   "source": [
    "df2$b <- NA  # make a new column with all NA\n",
    "df2"
   ]
  },
  {
   "cell_type": "code",
   "execution_count": null,
   "id": "7859b0c0",
   "metadata": {},
   "outputs": [],
   "source": [
    "rbind(df1, df2)   # rbind() requires df1, df2 have the same columns"
   ]
  },
  {
   "cell_type": "code",
   "execution_count": null,
   "id": "d800f698",
   "metadata": {},
   "outputs": [],
   "source": [
    "df3 <- data.frame(a=c(9,10), c=c(12,13))\n",
    "df3"
   ]
  },
  {
   "cell_type": "code",
   "execution_count": null,
   "id": "a33b4b3e",
   "metadata": {},
   "outputs": [],
   "source": [
    "bind_rows(df1, df3)  # from the dplyr library"
   ]
  },
  {
   "cell_type": "markdown",
   "id": "e2582675",
   "metadata": {},
   "source": [
    "## IV. filter dataframe"
   ]
  },
  {
   "cell_type": "code",
   "execution_count": null,
   "id": "cfdc3066",
   "metadata": {},
   "outputs": [],
   "source": [
    "library(dplyr)\n",
    "\n",
    "df <- cbind(expand.grid(sciName=list(\"A\", \"B\", \"C\"), family=list(\"X\", \"Y\"), stage=list(\"S1\", \"S2\", \"S3\", \"S4\")), count=1)\n",
    "df"
   ]
  },
  {
   "cell_type": "code",
   "execution_count": null,
   "id": "727a2857",
   "metadata": {},
   "outputs": [],
   "source": [
    "# set up our filter conditions\n",
    "condition1 <- list(sciName=\"A\", stageVector=c(\"S2\", \"S3\"))\n",
    "condition2 <- list(sciName=\"C\", stageVector=c(\"S3\", \"S4\"))\n",
    "conditionList <- list(condition1, condition2)\n",
    "conditionList"
   ]
  },
  {
   "cell_type": "code",
   "execution_count": null,
   "id": "f30ae0fe",
   "metadata": {},
   "outputs": [],
   "source": [
    "# Define the filtering function\n",
    "filterStages <- function(condition, df) {\n",
    "    subset.data <- df %>%\n",
    "        filter(sciName == condition$sciName) %>%\n",
    "        filter(stage %in% condition$stageVector)\n",
    "    return(subset.data)\n",
    "}"
   ]
  },
  {
   "cell_type": "code",
   "execution_count": null,
   "id": "93b81ed6",
   "metadata": {},
   "outputs": [],
   "source": [
    "# demo the filter function working on a single condition at a time\n",
    "filterStages(condition1, df)\n",
    "filterStages(condition2, df)"
   ]
  },
  {
   "cell_type": "code",
   "execution_count": null,
   "id": "c4380b1f",
   "metadata": {},
   "outputs": [],
   "source": [
    "# demo the filter function working over a list of conditions\n",
    "resultDataList <- lapply(conditionList, filterStages, df)\n",
    "resultDataList"
   ]
  },
  {
   "cell_type": "markdown",
   "id": "cd6a94ce",
   "metadata": {},
   "source": [
    "## V. Pivot dataframe"
   ]
  },
  {
   "cell_type": "code",
   "execution_count": null,
   "id": "55ae9e06",
   "metadata": {},
   "outputs": [],
   "source": [
    "NUM <- c(\"45\", \"45\", \"45\", \"45\", \"48\", \"50\", \"66\", \"66\", \"66\", \"68\")\n",
    "Type <- c(\"A\", \"F\", \"C\", \"B\", \"D\", \"A\", \"E\", \"C\", \"F\", \"D\")\n",
    "Points <- c(9.2,60.8,22.9,1012.7,18.7,11.1,67.2,63.1,16.7,58.4)\n",
    "df <- data.frame(NUM, Type, Points)\n",
    "df"
   ]
  },
  {
   "cell_type": "code",
   "execution_count": null,
   "id": "6aba5972",
   "metadata": {},
   "outputs": [],
   "source": []
  },
  {
   "cell_type": "markdown",
   "id": "fe4ae375",
   "metadata": {},
   "source": [
    "#### pivot_wider() function"
   ]
  },
  {
   "cell_type": "code",
   "execution_count": null,
   "id": "997661db",
   "metadata": {},
   "outputs": [],
   "source": [
    "install.packages(\"tidyr\")"
   ]
  },
  {
   "cell_type": "code",
   "execution_count": null,
   "id": "2939e4bd",
   "metadata": {},
   "outputs": [],
   "source": [
    "library(tidyr)\n",
    "package_version(R.version)\n",
    "print(sessionInfo())\n",
    "print(version)"
   ]
  },
  {
   "cell_type": "code",
   "execution_count": null,
   "id": "878fcb14",
   "metadata": {},
   "outputs": [],
   "source": [
    "library(dplyr)\n",
    "library(readr)\n",
    "# library(tidyverse)\n",
    "\n",
    "df %>%\n",
    "    pivot_wider(names_from = Type, values_from = Points)"
   ]
  },
  {
   "cell_type": "code",
   "execution_count": null,
   "id": "e8d09e37",
   "metadata": {},
   "outputs": [],
   "source": []
  },
  {
   "cell_type": "code",
   "execution_count": null,
   "id": "21ea9909",
   "metadata": {},
   "outputs": [],
   "source": []
  },
  {
   "cell_type": "code",
   "execution_count": null,
   "id": "b35fc22a",
   "metadata": {},
   "outputs": [],
   "source": [
    "sample.df <- data.frame(id = c(101, 102, 103, 104),\n",
    "                    json_col = c('[{\"foo_a\":\"bar\"}]',\n",
    "                                 '[{\"foo_a\":\"bar\",\"foo_b\":\"bar\"}]',\n",
    "                                 '[{\"foo_a\":\"bar\",\"foo_c\":2}]',\n",
    "                                 '[{\"foo_a\":\"bar\",\"foo_b\":\"bar\",\"foo_c\":2,\"nested_col\":{\"foo_d\":\"bar\",\"foo_e\":3}}]'),\n",
    "                    startdate = as.Date(c('2010-11-1','2008-3-25','2007-3-14','2006-2-21')))\n",
    "sample.df"
   ]
  },
  {
   "cell_type": "code",
   "execution_count": null,
   "id": "2170f89c",
   "metadata": {},
   "outputs": [],
   "source": [
    "library(dplyr)\n",
    "library(tidyr)\n",
    "library(purrr)\n",
    "library(jsonlite)\n",
    "\n",
    "sample.df %>%\n",
    "  mutate(\n",
    "    json_parsed = map(json_col, ~ fromJSON(., flatten=TRUE))\n",
    "  ) %>%\n",
    "  unnest(json_parsed)"
   ]
  },
  {
   "cell_type": "code",
   "execution_count": null,
   "id": "c6d41947",
   "metadata": {},
   "outputs": [],
   "source": [
    "library(dplyr)\n",
    "library(jsonlite)\n",
    "\n",
    "new.df <- sample.df %>% \n",
    "          rowwise() %>%\n",
    "          do(data.frame(fromJSON(.$json_col, flatten = T))) %>%\n",
    "          ungroup() %>%\n",
    "          bind_cols(sample.df %>% select(-json_col))\n",
    "\n",
    "new.df"
   ]
  },
  {
   "cell_type": "code",
   "execution_count": null,
   "id": "2c5995a5",
   "metadata": {},
   "outputs": [],
   "source": []
  },
  {
   "cell_type": "code",
   "execution_count": null,
   "id": "c2266421",
   "metadata": {},
   "outputs": [],
   "source": [
    "df1 <- data.frame(\n",
    "    \"individualCode\" = \"HBD001\",\n",
    "    \"runId\" = \"CPI_28062018\",\n",
    "   \n",
    "    \"folder\" = \"/jcsmr/CPI/Fulcher/FACS files/CPI_20180628\",\n",
    "    \"Samples\" : [ \n",
    "        {\n",
    "            \"filename\" : \"PBMCs_APC HBD001 ACD-A 17apr18_088․fcs\",\n",
    "            \"datetime\" : \"2018-06-29\",\n",
    "            \"technician\" : \"RobT\",\n",
    "            \"instrumentModel\" : \"LSRII\",\n",
    "            \"instrumentID\" : \"1\",\n",
    "            \"project\" : \"CPI\",\n",
    "            \"software\" : \"BD FACSDiva Software Version 8.0.1\",\n",
    "            \"markers\" : [ \n",
    "                {\n",
    "                    \"name\" : \"NK (%LC)\",\n",
    "                    \"value\" : 17.92,\n",
    "                    \"confidence\" : \"\",\n",
    "                    \"interpretation\" : \"\"\n",
    "                }, \n",
    "                {\n",
    "                    \"name\" : \"Classical Monocytes(%APC)\",\n",
    "                    \"value\" : 47.9,\n",
    "                    \"confidence\" : \"\",\n",
    "                    \"interpretation\" : \"\"\n",
    "                }\n",
    "              \n",
    "            ]\n",
    "        }\n",
    "        ])\n",
    "       \n",
    "df1"
   ]
  },
  {
   "cell_type": "markdown",
   "id": "d4e7a7b2",
   "metadata": {},
   "source": [
    "#### Code to keep"
   ]
  },
  {
   "cell_type": "code",
   "execution_count": null,
   "id": "5c4f162b",
   "metadata": {},
   "outputs": [],
   "source": [
    "<<<<<<< HEAD\n",
    "---\n",
    "title: \"R Notebook\"\n",
    "output: html_notebook\n",
    "---\n",
    "<!-- iris dataframe -->\n",
    "```{r}\n",
    "iris\n",
    "```\n",
    "```{r}\n",
    "dt <- iris\n",
    "```\n",
    "\n",
    "```{r}\n",
    "View(data)  # to view a dataframe\n",
    "```\n",
    "\n",
    "```{r}\n",
    "data()  # list all of built-in datasets in R\n",
    "```\n",
    "<!-- CREATE A DATAFRAME -->\n",
    "```{r}\n",
    "df <- data.frame(Name=c('Ali', 'Bob'), # a column name and value\n",
    "                 Age=c(20, 30),        # a column name and value\n",
    "                 PassExam=c(TRUE, FALSE)\n",
    "                 )\n",
    "df\n",
    "```\n",
    "```{r}\n",
    "df['Name']   # return a dataframe\n",
    "```\n",
    "```{r}\n",
    "class(df['Name'])   # === type() in Python\n",
    "```\n",
    "\n",
    "```{r}\n",
    "df$Name  # === df[['Name']]: return a vector. \n",
    "```\n",
    "\n",
    "```{r}\n",
    "class(df$Name) # === class(df[['Name']])\n",
    "```\n",
    "```{r}\n",
    "df[1:2]   # access column 1 to 2\n",
    "```\n",
    "```{r}\n",
    "df[c(1, 3)]   # access column 1 and 3 only\n",
    "```\n",
    "```{r}\n",
    "df[2, ]  # access row 2 and all columns\n",
    "```\n",
    "<!-- Helper functions -->\n",
    "```{r}\n",
    "df <- data.frame(id = letters[1:4], x = 1:4, y = 5:8)\n",
    "df\n",
    "```\n",
    "```{r}\n",
    "length(df)\n",
    "```\n",
    "```{r}\n",
    "head(df, n = 3)  # get first 3 rows\n",
    "```\n",
    "```{r}\n",
    "tail(df, n = 3)\n",
    "```\n",
    "```{r}\n",
    "dim(df)  # nrow(df), ncol(df)\n",
    "```\n",
    "```{r}\n",
    "str(df)  # structure of df\n",
    "```\n",
    "```{r}\n",
    "names(df)  # === list(df.columns) in pandas\n",
    "```\n",
    "```{r}\n",
    "# For example having a df with a column name \"marker\"\n",
    "row.names(df) <- df$marker # set \"marker\" as a index column in Pandas\n",
    "df <- subset(df, select = -c(marker)) # drop the \"marker\" column since it has been use for index\n",
    "```\n",
    "\n",
    "```{r}\n",
    "# Remove row if having any NA\n",
    "na.omit(df)\n",
    "```\n",
    "\n",
    "```{r}\n",
    "nameVetor = sapply(df, class)  # apply a function (here is class) for each columns\n",
    "nameVetor  \n",
    "```\n",
    "```{r}\n",
    "class(nameVetor)\n",
    "```\n",
    "```{r}\n",
    "summary(df)\n",
    "```\n",
    "<!-- DATAFRAMES: TIBBLES: install.packages(\"tibble\") -->\n",
    "```{r}\n",
    "library(tibble)   \n",
    "```\n",
    "```{r}\n",
    "tb <- as_tibble(iris)\n",
    "tb\n",
    "```\n",
    "```{r}\n",
    "class(tb)\n",
    "```\n",
    "\n",
    "```{r}\n",
    "df <- tibble(id = letters[1:4], \n",
    "             x = 1:4, \n",
    "             y = 9,  # tibble will make it a vector with the same length\n",
    "             z = x ^ 2 + y,  # calculate \"z\" column,\n",
    "             test = rep(5, 4)\n",
    "             )\n",
    "df\n",
    "```\n",
    "```{r}\n",
    "df1 = tribble(\n",
    "   ~x, ~y, ~z,   # make column name x, y, z\n",
    "   'a', 1, TRUE,\n",
    "   'b', 2, FALSE\n",
    ")\n",
    "df1\n",
    "```\n",
    "```{r}\n",
    "# Lubridate:  install.packages(\"tidyverse\") or install.packages(\"lubridate\")\n",
    "df2 <- tibble(\n",
    "  a = lubridate:: now() + runif(1e3) * 86400,\n",
    "  b = lubridate::today() + runif(1e3) * 30,\n",
    "  c = 1: 1e3,\n",
    "  d = runif(1e3),  # runif: random uniform [0, 1]\n",
    "  e = sample(letters, 1e3, replace=TRUE)\n",
    ")\n",
    "df2\n",
    "```\n",
    "```{r}\n",
    "print(df2, \n",
    "      n=2,   # number of rows - will take effect in console\n",
    "      width=Inf  # width of table. Eg. width=100\n",
    "      )   \n",
    "```\n",
    "\n",
    "=======\n",
    "---\n",
    "title: \"R Notebook\"\n",
    "output: html_notebook\n",
    "---\n",
    "<!-- iris dataframe -->\n",
    "```{r}\n",
    "iris\n",
    "```\n",
    "```{r}\n",
    "dt <- iris\n",
    "```\n",
    "\n",
    "```{r}\n",
    "View(data)  # to view a dataframe\n",
    "```\n",
    "\n",
    "```{r}\n",
    "data()  # list all of built-in datasets in R\n",
    "```\n",
    "<!-- CREATE A DATAFRAME -->\n",
    "```{r}\n",
    "df <- data.frame(Name=c('Ali', 'Bob'), # a column name and value\n",
    "                 Age=c(20, 30),        # a column name and value\n",
    "                 PassExam=c(TRUE, FALSE)\n",
    "                 )\n",
    "df\n",
    "```\n",
    "```{r}\n",
    "df['Name']   # return a dataframe\n",
    "```\n",
    "```{r}\n",
    "class(df['Name'])   # === type() in Python\n",
    "```\n",
    "\n",
    "```{r}\n",
    "df$Name  # === df[['Name']]: return a vector. \n",
    "```\n",
    "\n",
    "```{r}\n",
    "class(df$Name) # === class(df[['Name']])\n",
    "```\n",
    "```{r}\n",
    "df[1:2]   # access column 1 to 2\n",
    "```\n",
    "```{r}\n",
    "df[c(1, 3)]   # access column 1 and 3 only\n",
    "```\n",
    "```{r}\n",
    "df[2, ]  # access row 2 and all columns\n",
    "```\n",
    "<!-- Helper functions -->\n",
    "```{r}\n",
    "df <- data.frame(id = letters[1:4], x = 1:4, y = 5:8)\n",
    "df\n",
    "```\n",
    "```{r}\n",
    "length(df)\n",
    "```\n",
    "```{r}\n",
    "head(df, n = 3)  # get first 3 rows\n",
    "```\n",
    "```{r}\n",
    "tail(df, n = 3)\n",
    "```\n",
    "```{r}\n",
    "dim(df)  # nrow(df), ncol(df)\n",
    "```\n",
    "```{r}\n",
    "str(df)  # structure of df\n",
    "```\n",
    "```{r}\n",
    "names(df)  # === list(df.columns) in pandas\n",
    "```\n",
    "```{r}\n",
    "rownames(df)   # like df.index in pandas\n",
    "```\n",
    "```{r}\n",
    "nameVetor = sapply(df, class)  # apply a function (here is class) for each columns\n",
    "nameVetor  \n",
    "```\n",
    "```{r}\n",
    "class(nameVetor)\n",
    "```\n",
    "```{r}\n",
    "summary(df)\n",
    "```\n",
    "<!-- DATAFRAMES: TIBBLES: install.packages(\"tibble\") -->\n",
    "```{r}\n",
    "library(tibble)   \n",
    "```\n",
    "```{r}\n",
    "tb <- as_tibble(iris)\n",
    "tb\n",
    "```\n",
    "```{r}\n",
    "class(tb)\n",
    "```\n",
    "\n",
    "```{r}\n",
    "df <- tibble(id = letters[1:4], \n",
    "             x = 1:4, \n",
    "             y = 9,  # tibble will make it a vector with the same length\n",
    "             z = x ^ 2 + y,  # calculate \"z\" column,\n",
    "             test = rep(5, 4)\n",
    "             )\n",
    "df\n",
    "```\n",
    "```{r}\n",
    "df1 = tribble(\n",
    "   ~x, ~y, ~z,   # make column name x, y, z\n",
    "   'a', 1, TRUE,\n",
    "   'b', 2, FALSE\n",
    ")\n",
    "df1\n",
    "```\n",
    "```{r}\n",
    "# Lubridate:  install.packages(\"tidyverse\") or install.packages(\"lubridate\")\n",
    "df2 <- tibble(\n",
    "  a = lubridate:: now() + runif(1e3) * 86400,\n",
    "  b = lubridate::today() + runif(1e3) * 30,\n",
    "  c = 1: 1e3,\n",
    "  d = runif(1e3),  # runif: random uniform [0, 1]\n",
    "  e = sample(letters, 1e3, replace=TRUE)\n",
    ")\n",
    "df2\n",
    "```\n",
    "```{r}\n",
    "print(df2, \n",
    "      n=2,   # number of rows - will take effect in console\n",
    "      width=Inf  # width of table. Eg. width=100\n",
    "      )   \n",
    "```\n",
    "\n",
    ">>>>>>> 62dd2fc954b0badfd36ff6325d5ef87f8fb7451d\n",
    "\n",
    "---\n",
    "# install.packages(\"readr\")  # Eg. read_csv(), write_csv()\n",
    "# install.packages(\"readxl\") # Eg. read_xlsx()\n",
    "# install.packages(\"httr\")   # Eg. GET()\n",
    "---\n",
    "```{r}\n",
    "library(readr)\n",
    "library(readxl)\n",
    "library(httr)\n",
    "```\n",
    "```{r}\n",
    "df <- read.csv(\"test.csv\")\n",
    "df\n",
    "```\n",
    "```{r}\n",
    "write.csv(iris, 'iris.csv')\n",
    "```\n",
    "```{r}\n",
    "read_xlsx(\"test.xlsx\")\n",
    "```\n",
    "```{r}\n",
    "GET(\"tidyverse.org\")\n",
    "```"
   ]
  }
 ],
 "metadata": {
  "kernelspec": {
   "display_name": "R",
   "language": "R",
   "name": "ir"
  },
  "language_info": {
   "codemirror_mode": "r",
   "file_extension": ".r",
   "mimetype": "text/x-r-source",
   "name": "R",
   "pygments_lexer": "r",
   "version": "3.6.1"
  }
 },
 "nbformat": 4,
 "nbformat_minor": 5
}
