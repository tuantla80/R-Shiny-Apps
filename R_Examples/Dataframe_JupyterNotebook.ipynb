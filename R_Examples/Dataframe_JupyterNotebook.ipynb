{
 "cells": [
  {
   "cell_type": "code",
   "execution_count": 1,
   "id": "40a42c38",
   "metadata": {},
   "outputs": [
    {
     "name": "stderr",
     "output_type": "stream",
     "text": [
      "\n",
      "Attaching package: 'dplyr'\n",
      "\n",
      "The following objects are masked from 'package:stats':\n",
      "\n",
      "    filter, lag\n",
      "\n",
      "The following objects are masked from 'package:base':\n",
      "\n",
      "    intersect, setdiff, setequal, union\n",
      "\n"
     ]
    }
   ],
   "source": [
    "library(dplyr)"
   ]
  },
  {
   "cell_type": "code",
   "execution_count": 11,
   "id": "bd9ee6a6",
   "metadata": {},
   "outputs": [
    {
     "data": {
      "text/html": [
       "<table>\n",
       "<thead><tr><th scope=col>label</th><th scope=col>x1</th><th scope=col>x2</th></tr></thead>\n",
       "<tbody>\n",
       "\t<tr><td>a1 </td><td> 1 </td><td>100</td></tr>\n",
       "\t<tr><td>a2 </td><td> 2 </td><td> NA</td></tr>\n",
       "\t<tr><td>a3 </td><td> 3 </td><td>300</td></tr>\n",
       "\t<tr><td>a4 </td><td>NA </td><td>400</td></tr>\n",
       "\t<tr><td>a5 </td><td>NA </td><td> NA</td></tr>\n",
       "</tbody>\n",
       "</table>\n"
      ],
      "text/latex": [
       "\\begin{tabular}{r|lll}\n",
       " label & x1 & x2\\\\\n",
       "\\hline\n",
       "\t a1  &  1  & 100\\\\\n",
       "\t a2  &  2  &  NA\\\\\n",
       "\t a3  &  3  & 300\\\\\n",
       "\t a4  & NA  & 400\\\\\n",
       "\t a5  & NA  &  NA\\\\\n",
       "\\end{tabular}\n"
      ],
      "text/markdown": [
       "\n",
       "| label | x1 | x2 |\n",
       "|---|---|---|\n",
       "| a1  |  1  | 100 |\n",
       "| a2  |  2  |  NA |\n",
       "| a3  |  3  | 300 |\n",
       "| a4  | NA  | 400 |\n",
       "| a5  | NA  |  NA |\n",
       "\n"
      ],
      "text/plain": [
       "  label x1 x2 \n",
       "1 a1     1 100\n",
       "2 a2     2  NA\n",
       "3 a3     3 300\n",
       "4 a4    NA 400\n",
       "5 a5    NA  NA"
      ]
     },
     "metadata": {},
     "output_type": "display_data"
    }
   ],
   "source": [
    "df <- data.frame(label = c('a1', 'a2', 'a3', 'a4', 'a5'),\n",
    "                 x1 = c(1, 2, 3, NA, NA), \n",
    "                 x2 = c(100, NA, 300, 400, NA))\n",
    "df"
   ]
  },
  {
   "cell_type": "markdown",
   "id": "bdd98eb3",
   "metadata": {},
   "source": [
    "### Get unique values of a column"
   ]
  },
  {
   "cell_type": "code",
   "execution_count": 13,
   "id": "c0cd2228",
   "metadata": {},
   "outputs": [
    {
     "data": {
      "text/html": [
       "<ol class=list-inline>\n",
       "\t<li>a1</li>\n",
       "\t<li>a2</li>\n",
       "\t<li>a3</li>\n",
       "\t<li>a4</li>\n",
       "\t<li>a5</li>\n",
       "</ol>\n",
       "\n",
       "<details>\n",
       "\t<summary style=display:list-item;cursor:pointer>\n",
       "\t\t<strong>Levels</strong>:\n",
       "\t</summary>\n",
       "\t<ol class=list-inline>\n",
       "\t\t<li>'a1'</li>\n",
       "\t\t<li>'a2'</li>\n",
       "\t\t<li>'a3'</li>\n",
       "\t\t<li>'a4'</li>\n",
       "\t\t<li>'a5'</li>\n",
       "\t</ol>\n",
       "</details>"
      ],
      "text/latex": [
       "\\begin{enumerate*}\n",
       "\\item a1\n",
       "\\item a2\n",
       "\\item a3\n",
       "\\item a4\n",
       "\\item a5\n",
       "\\end{enumerate*}\n",
       "\n",
       "\\emph{Levels}: \\begin{enumerate*}\n",
       "\\item 'a1'\n",
       "\\item 'a2'\n",
       "\\item 'a3'\n",
       "\\item 'a4'\n",
       "\\item 'a5'\n",
       "\\end{enumerate*}\n"
      ],
      "text/markdown": [
       "1. a1\n",
       "2. a2\n",
       "3. a3\n",
       "4. a4\n",
       "5. a5\n",
       "\n",
       "\n",
       "\n",
       "**Levels**: 1. 'a1'\n",
       "2. 'a2'\n",
       "3. 'a3'\n",
       "4. 'a4'\n",
       "5. 'a5'\n",
       "\n",
       "\n"
      ],
      "text/plain": [
       "[1] a1 a2 a3 a4 a5\n",
       "Levels: a1 a2 a3 a4 a5"
      ]
     },
     "metadata": {},
     "output_type": "display_data"
    },
    {
     "data": {
      "text/html": [
       "'factor'"
      ],
      "text/latex": [
       "'factor'"
      ],
      "text/markdown": [
       "'factor'"
      ],
      "text/plain": [
       "[1] \"factor\""
      ]
     },
     "metadata": {},
     "output_type": "display_data"
    }
   ],
   "source": [
    "labels = unique(df$label)\n",
    "labels\n",
    "class(labels)"
   ]
  },
  {
   "cell_type": "markdown",
   "id": "b815c52d",
   "metadata": {},
   "source": [
    "### Access df by column names"
   ]
  },
  {
   "cell_type": "code",
   "execution_count": 3,
   "id": "5b0ef282",
   "metadata": {},
   "outputs": [
    {
     "data": {
      "text/html": [
       "<table>\n",
       "<thead><tr><th scope=col>x1</th><th scope=col>x2</th></tr></thead>\n",
       "<tbody>\n",
       "\t<tr><td> 1 </td><td>100</td></tr>\n",
       "\t<tr><td> 2 </td><td> NA</td></tr>\n",
       "\t<tr><td> 3 </td><td>300</td></tr>\n",
       "\t<tr><td>NA </td><td>400</td></tr>\n",
       "\t<tr><td>NA </td><td> NA</td></tr>\n",
       "</tbody>\n",
       "</table>\n"
      ],
      "text/latex": [
       "\\begin{tabular}{r|ll}\n",
       " x1 & x2\\\\\n",
       "\\hline\n",
       "\t  1  & 100\\\\\n",
       "\t  2  &  NA\\\\\n",
       "\t  3  & 300\\\\\n",
       "\t NA  & 400\\\\\n",
       "\t NA  &  NA\\\\\n",
       "\\end{tabular}\n"
      ],
      "text/markdown": [
       "\n",
       "| x1 | x2 |\n",
       "|---|---|\n",
       "|  1  | 100 |\n",
       "|  2  |  NA |\n",
       "|  3  | 300 |\n",
       "| NA  | 400 |\n",
       "| NA  |  NA |\n",
       "\n"
      ],
      "text/plain": [
       "  x1 x2 \n",
       "1  1 100\n",
       "2  2  NA\n",
       "3  3 300\n",
       "4 NA 400\n",
       "5 NA  NA"
      ]
     },
     "metadata": {},
     "output_type": "display_data"
    }
   ],
   "source": [
    "df_sub2 <- df[c('x1', 'x2')]\n",
    "df_sub2"
   ]
  },
  {
   "cell_type": "code",
   "execution_count": 4,
   "id": "c012c6ee",
   "metadata": {},
   "outputs": [
    {
     "data": {
      "text/html": [
       "<table>\n",
       "<thead><tr><th scope=col>x1</th></tr></thead>\n",
       "<tbody>\n",
       "\t<tr><td> 1</td></tr>\n",
       "\t<tr><td> 2</td></tr>\n",
       "\t<tr><td> 3</td></tr>\n",
       "\t<tr><td>NA</td></tr>\n",
       "\t<tr><td>NA</td></tr>\n",
       "</tbody>\n",
       "</table>\n"
      ],
      "text/latex": [
       "\\begin{tabular}{r|l}\n",
       " x1\\\\\n",
       "\\hline\n",
       "\t  1\\\\\n",
       "\t  2\\\\\n",
       "\t  3\\\\\n",
       "\t NA\\\\\n",
       "\t NA\\\\\n",
       "\\end{tabular}\n"
      ],
      "text/markdown": [
       "\n",
       "| x1 |\n",
       "|---|\n",
       "|  1 |\n",
       "|  2 |\n",
       "|  3 |\n",
       "| NA |\n",
       "| NA |\n",
       "\n"
      ],
      "text/plain": [
       "  x1\n",
       "1  1\n",
       "2  2\n",
       "3  3\n",
       "4 NA\n",
       "5 NA"
      ]
     },
     "metadata": {},
     "output_type": "display_data"
    },
    {
     "data": {
      "text/html": [
       "'data.frame'"
      ],
      "text/latex": [
       "'data.frame'"
      ],
      "text/markdown": [
       "'data.frame'"
      ],
      "text/plain": [
       "[1] \"data.frame\""
      ]
     },
     "metadata": {},
     "output_type": "display_data"
    }
   ],
   "source": [
    "df_sub1 <- df['x1']\n",
    "df_sub1\n",
    "class(df_sub1)"
   ]
  },
  {
   "cell_type": "markdown",
   "id": "008a76f0",
   "metadata": {},
   "source": [
    "### Set index for df instead of integer index"
   ]
  },
  {
   "cell_type": "code",
   "execution_count": 5,
   "id": "8224a0f8",
   "metadata": {},
   "outputs": [
    {
     "data": {
      "text/html": [
       "<table>\n",
       "<thead><tr><th></th><th scope=col>label</th><th scope=col>x1</th><th scope=col>x2</th></tr></thead>\n",
       "<tbody>\n",
       "\t<tr><th scope=row>a1</th><td>a1 </td><td> 1 </td><td>100</td></tr>\n",
       "\t<tr><th scope=row>a2</th><td>a2 </td><td> 2 </td><td> NA</td></tr>\n",
       "\t<tr><th scope=row>a3</th><td>a3 </td><td> 3 </td><td>300</td></tr>\n",
       "\t<tr><th scope=row>a4</th><td>a4 </td><td>NA </td><td>400</td></tr>\n",
       "\t<tr><th scope=row>a5</th><td>a5 </td><td>NA </td><td> NA</td></tr>\n",
       "</tbody>\n",
       "</table>\n"
      ],
      "text/latex": [
       "\\begin{tabular}{r|lll}\n",
       "  & label & x1 & x2\\\\\n",
       "\\hline\n",
       "\ta1 & a1  &  1  & 100\\\\\n",
       "\ta2 & a2  &  2  &  NA\\\\\n",
       "\ta3 & a3  &  3  & 300\\\\\n",
       "\ta4 & a4  & NA  & 400\\\\\n",
       "\ta5 & a5  & NA  &  NA\\\\\n",
       "\\end{tabular}\n"
      ],
      "text/markdown": [
       "\n",
       "| <!--/--> | label | x1 | x2 |\n",
       "|---|---|---|---|\n",
       "| a1 | a1  |  1  | 100 |\n",
       "| a2 | a2  |  2  |  NA |\n",
       "| a3 | a3  |  3  | 300 |\n",
       "| a4 | a4  | NA  | 400 |\n",
       "| a5 | a5  | NA  |  NA |\n",
       "\n"
      ],
      "text/plain": [
       "   label x1 x2 \n",
       "a1 a1     1 100\n",
       "a2 a2     2  NA\n",
       "a3 a3     3 300\n",
       "a4 a4    NA 400\n",
       "a5 a5    NA  NA"
      ]
     },
     "metadata": {},
     "output_type": "display_data"
    }
   ],
   "source": [
    "row.names(df) <- df$label\n",
    "df"
   ]
  },
  {
   "cell_type": "markdown",
   "id": "d1d45e66",
   "metadata": {},
   "source": [
    "### Remove a column in df"
   ]
  },
  {
   "cell_type": "code",
   "execution_count": 6,
   "id": "d1b9e3a4",
   "metadata": {},
   "outputs": [
    {
     "data": {
      "text/html": [
       "<table>\n",
       "<thead><tr><th></th><th scope=col>x1</th><th scope=col>x2</th></tr></thead>\n",
       "<tbody>\n",
       "\t<tr><th scope=row>a1</th><td> 1 </td><td>100</td></tr>\n",
       "\t<tr><th scope=row>a2</th><td> 2 </td><td> NA</td></tr>\n",
       "\t<tr><th scope=row>a3</th><td> 3 </td><td>300</td></tr>\n",
       "\t<tr><th scope=row>a4</th><td>NA </td><td>400</td></tr>\n",
       "\t<tr><th scope=row>a5</th><td>NA </td><td> NA</td></tr>\n",
       "</tbody>\n",
       "</table>\n"
      ],
      "text/latex": [
       "\\begin{tabular}{r|ll}\n",
       "  & x1 & x2\\\\\n",
       "\\hline\n",
       "\ta1 &  1  & 100\\\\\n",
       "\ta2 &  2  &  NA\\\\\n",
       "\ta3 &  3  & 300\\\\\n",
       "\ta4 & NA  & 400\\\\\n",
       "\ta5 & NA  &  NA\\\\\n",
       "\\end{tabular}\n"
      ],
      "text/markdown": [
       "\n",
       "| <!--/--> | x1 | x2 |\n",
       "|---|---|---|\n",
       "| a1 |  1  | 100 |\n",
       "| a2 |  2  |  NA |\n",
       "| a3 |  3  | 300 |\n",
       "| a4 | NA  | 400 |\n",
       "| a5 | NA  |  NA |\n",
       "\n"
      ],
      "text/plain": [
       "   x1 x2 \n",
       "a1  1 100\n",
       "a2  2  NA\n",
       "a3  3 300\n",
       "a4 NA 400\n",
       "a5 NA  NA"
      ]
     },
     "metadata": {},
     "output_type": "display_data"
    }
   ],
   "source": [
    "df <- subset(df, select = -c(label))\n",
    "df"
   ]
  },
  {
   "cell_type": "markdown",
   "id": "1432d634",
   "metadata": {},
   "source": [
    "### remove \"rows\" in a dataframe with a NA value in one of the columns"
   ]
  },
  {
   "cell_type": "code",
   "execution_count": 7,
   "id": "56d6b62b",
   "metadata": {},
   "outputs": [
    {
     "data": {
      "text/html": [
       "<table>\n",
       "<thead><tr><th></th><th scope=col>x1</th><th scope=col>x2</th></tr></thead>\n",
       "<tbody>\n",
       "\t<tr><th scope=row>a1</th><td>1  </td><td>100</td></tr>\n",
       "\t<tr><th scope=row>a3</th><td>3  </td><td>300</td></tr>\n",
       "</tbody>\n",
       "</table>\n"
      ],
      "text/latex": [
       "\\begin{tabular}{r|ll}\n",
       "  & x1 & x2\\\\\n",
       "\\hline\n",
       "\ta1 & 1   & 100\\\\\n",
       "\ta3 & 3   & 300\\\\\n",
       "\\end{tabular}\n"
      ],
      "text/markdown": [
       "\n",
       "| <!--/--> | x1 | x2 |\n",
       "|---|---|---|\n",
       "| a1 | 1   | 100 |\n",
       "| a3 | 3   | 300 |\n",
       "\n"
      ],
      "text/plain": [
       "   x1 x2 \n",
       "a1 1  100\n",
       "a3 3  300"
      ]
     },
     "metadata": {},
     "output_type": "display_data"
    }
   ],
   "source": [
    "df1 = na.omit(df)\n",
    "df1"
   ]
  },
  {
   "cell_type": "markdown",
   "id": "b003bc9a",
   "metadata": {},
   "source": [
    "### remove \"rows\" in a dataframe with all NA"
   ]
  },
  {
   "cell_type": "code",
   "execution_count": 8,
   "id": "9795d545",
   "metadata": {},
   "outputs": [
    {
     "data": {
      "text/html": [
       "<table>\n",
       "<thead><tr><th scope=col>x1</th><th scope=col>x2</th></tr></thead>\n",
       "<tbody>\n",
       "\t<tr><td> 1 </td><td>100</td></tr>\n",
       "\t<tr><td> 2 </td><td> NA</td></tr>\n",
       "\t<tr><td> 3 </td><td>300</td></tr>\n",
       "\t<tr><td>NA </td><td>400</td></tr>\n",
       "</tbody>\n",
       "</table>\n"
      ],
      "text/latex": [
       "\\begin{tabular}{r|ll}\n",
       " x1 & x2\\\\\n",
       "\\hline\n",
       "\t  1  & 100\\\\\n",
       "\t  2  &  NA\\\\\n",
       "\t  3  & 300\\\\\n",
       "\t NA  & 400\\\\\n",
       "\\end{tabular}\n"
      ],
      "text/markdown": [
       "\n",
       "| x1 | x2 |\n",
       "|---|---|\n",
       "|  1  | 100 |\n",
       "|  2  |  NA |\n",
       "|  3  | 300 |\n",
       "| NA  | 400 |\n",
       "\n"
      ],
      "text/plain": [
       "  x1 x2 \n",
       "1  1 100\n",
       "2  2  NA\n",
       "3  3 300\n",
       "4 NA 400"
      ]
     },
     "metadata": {},
     "output_type": "display_data"
    }
   ],
   "source": [
    "df %>% filter_all(any_vars(!is.na(.)))"
   ]
  },
  {
   "cell_type": "markdown",
   "id": "c3375dd8",
   "metadata": {},
   "source": [
    "### Get column names"
   ]
  },
  {
   "cell_type": "code",
   "execution_count": 10,
   "id": "4086cdc0",
   "metadata": {},
   "outputs": [
    {
     "data": {
      "text/html": [
       "<ol class=list-inline>\n",
       "\t<li>'x1'</li>\n",
       "\t<li>'x2'</li>\n",
       "</ol>\n"
      ],
      "text/latex": [
       "\\begin{enumerate*}\n",
       "\\item 'x1'\n",
       "\\item 'x2'\n",
       "\\end{enumerate*}\n"
      ],
      "text/markdown": [
       "1. 'x1'\n",
       "2. 'x2'\n",
       "\n",
       "\n"
      ],
      "text/plain": [
       "[1] \"x1\" \"x2\""
      ]
     },
     "metadata": {},
     "output_type": "display_data"
    },
    {
     "data": {
      "text/html": [
       "'character'"
      ],
      "text/latex": [
       "'character'"
      ],
      "text/markdown": [
       "'character'"
      ],
      "text/plain": [
       "[1] \"character\""
      ]
     },
     "metadata": {},
     "output_type": "display_data"
    }
   ],
   "source": [
    "# col_names = colnames(df)\n",
    "col_names = names(df)\n",
    "col_names\n",
    "class(col_names)"
   ]
  },
  {
   "cell_type": "code",
   "execution_count": null,
   "id": "31750d86",
   "metadata": {},
   "outputs": [],
   "source": []
  }
 ],
 "metadata": {
  "kernelspec": {
   "display_name": "R",
   "language": "R",
   "name": "ir"
  },
  "language_info": {
   "codemirror_mode": "r",
   "file_extension": ".r",
   "mimetype": "text/x-r-source",
   "name": "R",
   "pygments_lexer": "r",
   "version": "3.6.1"
  }
 },
 "nbformat": 4,
 "nbformat_minor": 5
}
